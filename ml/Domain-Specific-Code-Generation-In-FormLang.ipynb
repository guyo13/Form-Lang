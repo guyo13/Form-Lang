{
 "cells": [
  {
   "cell_type": "markdown",
   "id": "3da41cfd-8291-4b03-87ed-5df197c2efbd",
   "metadata": {},
   "source": [
    "# Domain Specific Code Generation using the FormLang DSL"
   ]
  },
  {
   "cell_type": "markdown",
   "id": "1b4cbce9-f06b-46e7-87da-cd82364afd6c",
   "metadata": {},
   "source": [
    "## Abstract\n",
    "\n",
    "AI and LLM systems are being trained to perform a variety of complex tasks requiring expertise in many software tools, languages and technology stacks. Some of the challenges in this process involve quality data acquisition in large amounts, handling the increase of model parameter count which leads to increasing compute demands and costs, as well as emerging Data Privacy and Intellctual Property concerns related with using 3rd party cloud services for model training. \n",
    "\n",
    "In this work we attempt to harness and combine the benefits of Abstraction and Determinism provided by Formal Domain Specific Languages (DSLs) with the innate ability of LLMs to learn new languages and their semantics. We propose a novel generation task called \"Domain Specific Code Generation\" which involve mapping user requests written in natural language to DSL code.\n",
    "\n",
    "By utilizing a specially crafted DSL called `FormLang` as a case study, we attempt to lay the groundwork for methods of automated DSL dataset generation, training techniques and performance evaluation, with the end goal of creating an AI system capable of generating Web forms according to a user request.\n",
    "\n",
    "Our `FormLang` DSL allows expressing the semantics of Web-forms using a simplified syntax that does not require much, if any, Web-programming knowledge and expertise.\n",
    "\n",
    "Given a user prompt in English describing the desired form and its fields the LLM produces syntactically valid `FormLang` output which is run through the accompanying FormLang parser and a hand-crafted React JSX compiler to output a final implementation of the form in JavaScript and React.\n",
    "\n",
    "The project includes a live demo which demonstrates the capabilities of the system.\n"
   ]
  },
  {
   "cell_type": "markdown",
   "id": "9fe6f6e1-43e6-45d7-a792-8e8d141c075b",
   "metadata": {},
   "source": [
    "## Referring to this work\n",
    "\n",
    "If you use this work the following quote is preferred:\n",
    "\n",
    "```bibtex\n",
    "@misc{guyor2025dscodegenformlang,\n",
    "      title={Domain Specific Code Generation using the FormLang DSL}, \n",
    "      author={Guy Or},\n",
    "      year={2025}\n",
    "}\n",
    "```\n",
    "\n",
    "The official repository of this work is hosted in GitHub at https://github.com/guyo13/Form-Lang **TBD** - Make the repo public"
   ]
  },
  {
   "cell_type": "markdown",
   "id": "3b0ab27f-eb13-4744-aac1-57e8ca65d63e",
   "metadata": {},
   "source": [
    "## Project Goals\n",
    "\n",
    "* Define the Task of Domain Specific Code Generation.\n",
    "* Create an AI training pipeline for FormLang (implemented as a Juypter notebook) which includes:\n",
    "    * Automatic FormLang Dataset generation using searching algorithms and heuristics.\n",
    "    * Baseline model selection and loading from Hugging Face.\n",
    "    * Dataset Preprocessing and loading.\n",
    "    * Defining performance KPIs for the system.\n",
    "    * Model fine tuning using Transformers library\n",
    "    * Model Adapter training using PEFT library.\n",
    "    * Model upload to Hugging Face Hub and example usage from the Hub.\n",
    "    *  **(TBD)** Export to ONNX using Optimum and run on-device using Transformers.js.\n",
    "* Create the “FormLang” language:\n",
    "    * Describe the problem domain.\n",
    "    * Defining a viable minimal syntax and semantics which are research focused rather than completeness focused.\n",
    "    *  **(TBD)** Implementing a “JavaScript React” compile target.\n",
    "*  **(TBD)** Create a live demo website:\n",
    "    * **(TBD)** Users input a prompt.\n",
    "    * **(TBD)** A FormLang editor is populated with the AI’s code generation results.\n",
    "    * **(TBD)** The form is rendered alongside the generated code.\n",
    "*  Discuss the project results:\n",
    "    * Perfornace and user acceptability.\n",
    "    * **(TBD)** Viability of the implemented methods for the Domain Specific Code Generation task and generalization to other domains.  \n",
    "    * **(TBD)** Potential enhancements to the system.\n",
    "    * **(TBD)** Possible research directions on how to learn from user data.\n",
    "\n",
    "\n",
    "**(TBD)** - Features marked as TBD are depending on the project's progress and timeline constraints as well as proving the viability of the methods and system."
   ]
  },
  {
   "cell_type": "markdown",
   "id": "f82857ab-ff94-41c5-ac86-3118861b0590",
   "metadata": {},
   "source": [
    "# Notebook Setup"
   ]
  },
  {
   "cell_type": "markdown",
   "id": "d876cfa3-6129-4884-be8b-bc0c23f4a511",
   "metadata": {},
   "source": [
    "## Project imports"
   ]
  },
  {
   "cell_type": "code",
   "execution_count": 6,
   "id": "3a9e9c44-4a3b-494b-bb86-63178d67bdd7",
   "metadata": {},
   "outputs": [],
   "source": [
    "import asyncio\n",
    "from transformers import pipeline\n",
    "from huggingface_hub import login\n",
    "import pythonmonkey as pm\n",
    "import pandas as pd\n",
    "formlang_lib = pm.require(\"../out/cjs/lib/index\")"
   ]
  },
  {
   "cell_type": "markdown",
   "id": "290ca50b-0174-4c0b-9ecc-79f04eb910ad",
   "metadata": {},
   "source": [
    "## Login to Huggingface Hub"
   ]
  },
  {
   "cell_type": "code",
   "execution_count": 8,
   "id": "93c12f91-3626-4985-af97-0d69b4418475",
   "metadata": {},
   "outputs": [
    {
     "data": {
      "application/vnd.jupyter.widget-view+json": {
       "model_id": "1c73477b2887419d9d5da58bff3cfbab",
       "version_major": 2,
       "version_minor": 0
      },
      "text/plain": [
       "VBox(children=(HTML(value='<center> <img\\nsrc=https://huggingface.co/front/assets/huggingface_logo-noborder.sv…"
      ]
     },
     "metadata": {},
     "output_type": "display_data"
    }
   ],
   "source": [
    "login()"
   ]
  },
  {
   "cell_type": "markdown",
   "id": "8e22784f-1cb2-4baf-b6ce-8daea69f835e",
   "metadata": {},
   "source": [
    "## Python Monkey helpers"
   ]
  },
  {
   "cell_type": "code",
   "execution_count": 2,
   "id": "eb8eaa24-5aca-4030-93c5-02a9d23c90be",
   "metadata": {},
   "outputs": [],
   "source": [
    "def js_dir(something):\n",
    "    pm.globalThis.console.dir(something)\n",
    "\n",
    "def js_log(something):\n",
    "    pm.globalThis.console.log(something)"
   ]
  },
  {
   "cell_type": "markdown",
   "id": "b9601b8e-70d6-41f9-87be-6c1bfc0aba11",
   "metadata": {},
   "source": [
    "# Dataset generation"
   ]
  },
  {
   "cell_type": "markdown",
   "id": "5f3f9796-ae92-4448-8759-b7ce7a6ad8d4",
   "metadata": {
    "jp-MarkdownHeadingCollapsed": true
   },
   "source": [
    "### Example usage of FormLang library"
   ]
  },
  {
   "cell_type": "code",
   "execution_count": 6,
   "id": "0df7cbd2-fd65-4452-be12-4b3cfbec4fd0",
   "metadata": {},
   "outputs": [
    {
     "name": "stdout",
     "output_type": "stream",
     "text": [
      "Validating model\n",
      "Validating model\n"
     ]
    }
   ],
   "source": [
    "form_components = \"\"\"\n",
    "  component userDetailsContainer {}\n",
    "  component formContainer {}\n",
    "  component someOtherContainer {}\n",
    "  component OtherContainer2 {}\n",
    "\"\"\"\n",
    "field_components = \"\"\"\n",
    "  component myTextBox {\n",
    "    props {\n",
    "      textColor\n",
    "      textSize\n",
    "      textWeight\n",
    "      borderColor\n",
    "    }\n",
    "  }\n",
    "  component myCheckbox {\n",
    "    props {\n",
    "      size\n",
    "    }\n",
    "  }\n",
    "  component otherTextBox {}\n",
    "  component counter {\n",
    "    props {\n",
    "      style\n",
    "    }\n",
    "  }\n",
    "\"\"\"\n",
    "\n",
    "form_gen = await formlang_lib.newFormGen(formlang_lib.DEFAULT_GENERATOR_HYPER_PARAMETERS, form_components, field_components)"
   ]
  },
  {
   "cell_type": "code",
   "execution_count": 7,
   "id": "13012d90-7bdf-4349-b9e4-1c3f728a6dea",
   "metadata": {},
   "outputs": [],
   "source": [
    "a = form_gen.generateForm()"
   ]
  },
  {
   "cell_type": "code",
   "execution_count": 8,
   "id": "c6ba859e-4940-45d5-a4ab-f968078b5263",
   "metadata": {},
   "outputs": [
    {
     "name": "stdout",
     "output_type": "stream",
     "text": [
      "{ \u001b[32m'$type'\u001b[39m: \u001b[32m'Form'\u001b[39m,\n",
      "  name: \u001b[32m'xw'\u001b[39m,\n",
      "  component: \n",
      "   { component: \n",
      "      { \u001b[32m'$type'\u001b[39m: \u001b[32m'ComponentDef'\u001b[39m,\n",
      "        name: \u001b[32m'formContainer'\u001b[39m,\n",
      "        \u001b[32m'$cstNode'\u001b[39m: \u001b[36m[Object]\u001b[39m,\n",
      "        props: [],\n",
      "        \u001b[32m'$container'\u001b[39m: \u001b[36m[Object]\u001b[39m,\n",
      "        \u001b[32m'$containerProperty'\u001b[39m: \u001b[32m'components'\u001b[39m,\n",
      "        \u001b[32m'$containerIndex'\u001b[39m: \u001b[33m1\u001b[39m },\n",
      "     propAssignments: {} },\n",
      "  children: \n",
      "   [ { \u001b[32m'$type'\u001b[39m: \u001b[32m'Field'\u001b[39m,\n",
      "       name: \u001b[32m'c'\u001b[39m,\n",
      "       component: \u001b[36m[Object]\u001b[39m,\n",
      "       state: \u001b[1mnull\u001b[22m,\n",
      "       depth: \u001b[33m1\u001b[39m },\n",
      "     { \u001b[32m'$type'\u001b[39m: \u001b[32m'Field'\u001b[39m,\n",
      "       name: \u001b[32m'e'\u001b[39m,\n",
      "       component: \u001b[36m[Object]\u001b[39m,\n",
      "       state: \u001b[36m[Object]\u001b[39m,\n",
      "       depth: \u001b[33m1\u001b[39m },\n",
      "     { \u001b[32m'$type'\u001b[39m: \u001b[32m'Form'\u001b[39m,\n",
      "       name: \u001b[32m'A'\u001b[39m,\n",
      "       component: \u001b[36m[Object]\u001b[39m,\n",
      "       children: \u001b[36m[Array]\u001b[39m,\n",
      "       depth: \u001b[33m1\u001b[39m },\n",
      "     { \u001b[32m'$type'\u001b[39m: \u001b[32m'Field'\u001b[39m,\n",
      "       name: \u001b[32m'o'\u001b[39m,\n",
      "       component: \u001b[36m[Object]\u001b[39m,\n",
      "       state: \u001b[36m[Object]\u001b[39m,\n",
      "       depth: \u001b[33m1\u001b[39m },\n",
      "     { \u001b[32m'$type'\u001b[39m: \u001b[32m'Field'\u001b[39m,\n",
      "       name: \u001b[32m'pw'\u001b[39m,\n",
      "       component: \u001b[36m[Object]\u001b[39m,\n",
      "       state: \u001b[36m[Object]\u001b[39m,\n",
      "       depth: \u001b[33m1\u001b[39m } ],\n",
      "  depth: \u001b[33m0\u001b[39m }\n"
     ]
    }
   ],
   "source": [
    "js_dir(a)"
   ]
  },
  {
   "cell_type": "code",
   "execution_count": 19,
   "id": "522c23bd-6f93-4980-947b-8ba414ec61cf",
   "metadata": {},
   "outputs": [
    {
     "name": "stdout",
     "output_type": "stream",
     "text": [
      "Validating model\n"
     ]
    }
   ],
   "source": [
    "fl_obj = await formlang_lib.getFormLangStringParser()(\"\"\"\n",
    "component comp1 {}\n",
    "component comp2 {}\n",
    "form HelloWorld {\n",
    "    comp comp1\n",
    "    field MyField {\n",
    "        comp comp2\n",
    "    }\n",
    "}\n",
    "\"\"\")"
   ]
  },
  {
   "cell_type": "code",
   "execution_count": 20,
   "id": "abdffc2b-2bbb-4db5-a132-ac33347ea972",
   "metadata": {},
   "outputs": [
    {
     "data": {
      "text/plain": [
       "False"
      ]
     },
     "execution_count": 20,
     "metadata": {},
     "output_type": "execute_result"
    }
   ],
   "source": [
    "formlang_lib.hasErrors(fl_obj)"
   ]
  },
  {
   "cell_type": "code",
   "execution_count": 21,
   "id": "48ef6ac7-69e1-45ca-8a20-d05bc5bd5237",
   "metadata": {},
   "outputs": [
    {
     "name": "stdout",
     "output_type": "stream",
     "text": [
      "{ parseResult: \n",
      "   { value: \n",
      "      { \u001b[32m'$type'\u001b[39m: \u001b[32m'Model'\u001b[39m,\n",
      "        components: \u001b[36m[Array]\u001b[39m,\n",
      "        forms: \u001b[36m[Array]\u001b[39m,\n",
      "        \u001b[32m'$cstNode'\u001b[39m: \u001b[36m[Object]\u001b[39m,\n",
      "        typeDefs: [],\n",
      "        \u001b[32m'$document'\u001b[39m: \u001b[36m[Circular]\u001b[39m },\n",
      "     lexerErrors: [],\n",
      "     lexerReport: { diagnostics: [] },\n",
      "     parserErrors: [] },\n",
      "  uri: \n",
      "   l2 {\n",
      "     scheme: \u001b[32m'file'\u001b[39m,\n",
      "     authority: \u001b[32m''\u001b[39m,\n",
      "     path: \u001b[32m'/10.form'\u001b[39m,\n",
      "     query: \u001b[32m''\u001b[39m,\n",
      "     fragment: \u001b[32m''\u001b[39m,\n",
      "     _formatted: \u001b[32m'file:///10.form'\u001b[39m,\n",
      "     _fsPath: \u001b[1mnull\u001b[22m },\n",
      "  state: \u001b[33m6\u001b[39m,\n",
      "  references: \n",
      "   [ { \u001b[32m'$refNode'\u001b[39m: \u001b[36m[Object]\u001b[39m,\n",
      "       \u001b[32m'$refText'\u001b[39m: \u001b[32m'comp1'\u001b[39m,\n",
      "       ref: \u001b[36m[Getter]\u001b[39m,\n",
      "       \u001b[32m'$nodeDescription'\u001b[39m: \u001b[36m[Getter]\u001b[39m,\n",
      "       error: \u001b[36m[Getter]\u001b[39m,\n",
      "       _ref: \u001b[36m[Object]\u001b[39m,\n",
      "       _nodeDescription: \u001b[36m[Object]\u001b[39m },\n",
      "     { \u001b[32m'$refNode'\u001b[39m: \u001b[36m[Object]\u001b[39m,\n",
      "       \u001b[32m'$refText'\u001b[39m: \u001b[32m'comp2'\u001b[39m,\n",
      "       ref: \u001b[36m[Getter]\u001b[39m,\n",
      "       \u001b[32m'$nodeDescription'\u001b[39m: \u001b[36m[Getter]\u001b[39m,\n",
      "       error: \u001b[36m[Getter]\u001b[39m,\n",
      "       _ref: \u001b[36m[Object]\u001b[39m,\n",
      "       _nodeDescription: \u001b[36m[Object]\u001b[39m } ],\n",
      "  textDocument: \u001b[36m[Getter]\u001b[39m,\n",
      "  precomputedScopes: MultiMap { map: Map { \u001b[36m[Object]\u001b[39m => \u001b[36m[Array]\u001b[39m, \u001b[36m[Object]\u001b[39m => \u001b[36m[Array]\u001b[39m } },\n",
      "  diagnostics: [] }\n"
     ]
    }
   ],
   "source": [
    "js_dir(fl_obj)"
   ]
  },
  {
   "cell_type": "code",
   "execution_count": 22,
   "id": "2a0f46d7-f51f-4556-a91b-b7f323d9469a",
   "metadata": {},
   "outputs": [
    {
     "data": {
      "text/plain": [
       "'{\"$type\":\"Model\",\"components\":[{\"$type\":\"ComponentDef\",\"name\":\"comp1\",\"props\":[]},{\"$type\":\"ComponentDef\",\"name\":\"comp2\",\"props\":[]}],\"forms\":[{\"$type\":\"Form\",\"name\":\"HelloWorld\",\"component\":{\"$type\":\"FieldComponentDef\",\"componentId\":{\"$ref\":\"#/components@0\"},\"componentPropsKeys\":[],\"componentPropsValues\":[]},\"children\":[{\"$type\":\"Field\",\"name\":\"MyField\",\"component\":{\"$type\":\"FieldComponentDef\",\"componentId\":{\"$ref\":\"#/components@1\"},\"componentPropsKeys\":[],\"componentPropsValues\":[]}}]}],\"typeDefs\":[]}'"
      ]
     },
     "execution_count": 22,
     "metadata": {},
     "output_type": "execute_result"
    }
   ],
   "source": [
    "formlang_lib.serializeAst(fl_obj.parseResult.value, formlang_lib.getServices().FormLang)"
   ]
  },
  {
   "cell_type": "markdown",
   "id": "f121c668-74c8-41e1-8f9a-8f9fa8b001ef",
   "metadata": {},
   "source": [
    "### Generating the dataset"
   ]
  },
  {
   "cell_type": "code",
   "execution_count": 3,
   "id": "fdb52772-4bdb-4c24-b58e-ea9b92502153",
   "metadata": {},
   "outputs": [],
   "source": [
    "form_components = \"\"\"\n",
    "  component userDetailsContainer {}\n",
    "  component formContainer {}\n",
    "  component someOtherContainer {}\n",
    "  component OtherContainer2 {}\n",
    "\"\"\"\n",
    "field_components = \"\"\"\n",
    "  component myTextBox {\n",
    "    props {\n",
    "      textColor\n",
    "      textSize\n",
    "      textWeight\n",
    "      borderColor\n",
    "    }\n",
    "  }\n",
    "  component myCheckbox {\n",
    "    props {\n",
    "      size\n",
    "    }\n",
    "  }\n",
    "  component otherTextBox {}\n",
    "  component counter {\n",
    "    props {\n",
    "      style\n",
    "    }\n",
    "  }\n",
    "\"\"\"\n",
    "\n",
    "form_gen = await formlang_lib.newFormGen(formlang_lib.DEFAULT_GENERATOR_HYPER_PARAMETERS, form_components, field_components)"
   ]
  },
  {
   "cell_type": "code",
   "execution_count": 13,
   "id": "c39a45a8-8098-4a60-b41b-af9e9a4ac223",
   "metadata": {},
   "outputs": [
    {
     "name": "stdout",
     "output_type": "stream",
     "text": [
      "CPU times: user 330 ms, sys: 11 ms, total: 341 ms\n",
      "Wall time: 324 ms\n"
     ]
    }
   ],
   "source": [
    "%%time\n",
    "DATA = []\n",
    "def copy_relevant_prompt_data(prompt_data):\n",
    "    return {\n",
    "        \"serializedForm\": str(prompt_data[\"serializedForm\"]),\n",
    "        \"serializedModifiedForm\": str(prompt_data[\"serializedModifiedForm\"]),\n",
    "        \"removedNodeEnglish\": str(prompt_data[\"removedNodeEnglish\"]),\n",
    "        \"removedNodeContextEnglish\": str(prompt_data[\"removedNodeContextEnglish\"])\n",
    "    }\n",
    "\n",
    "for i in range(3000):\n",
    "    prompt_data = formlang_lib.generateRandomFormPrompt(form_gen)\n",
    "    DATA.append(copy_relevant_prompt_data( prompt_data))"
   ]
  },
  {
   "cell_type": "code",
   "execution_count": 17,
   "id": "d2155ee7-8286-4e5a-8881-b72b7bb51197",
   "metadata": {},
   "outputs": [
    {
     "data": {
      "text/html": [
       "<div>\n",
       "<style scoped>\n",
       "    .dataframe tbody tr th:only-of-type {\n",
       "        vertical-align: middle;\n",
       "    }\n",
       "\n",
       "    .dataframe tbody tr th {\n",
       "        vertical-align: top;\n",
       "    }\n",
       "\n",
       "    .dataframe thead th {\n",
       "        text-align: right;\n",
       "    }\n",
       "</style>\n",
       "<table border=\"1\" class=\"dataframe\">\n",
       "  <thead>\n",
       "    <tr style=\"text-align: right;\">\n",
       "      <th></th>\n",
       "      <th>serializedForm</th>\n",
       "      <th>serializedModifiedForm</th>\n",
       "      <th>removedNodeEnglish</th>\n",
       "      <th>removedNodeContextEnglish</th>\n",
       "    </tr>\n",
       "  </thead>\n",
       "  <tbody>\n",
       "    <tr>\n",
       "      <th>0</th>\n",
       "      <td>form p_ {\\n\\tcomp someOtherContainer \\n\\t\\n\\tf...</td>\n",
       "      <td>form p_ {\\n\\tcomp someOtherContainer \\n\\t\\n\\tf...</td>\n",
       "      <td>\\t\\ta field whose id is 'y' with state of type...</td>\n",
       "      <td>* is a child of the form whose id is 'a_w'.\\n*...</td>\n",
       "    </tr>\n",
       "    <tr>\n",
       "      <th>1</th>\n",
       "      <td>form z_ {\\n\\tcomp userDetailsContainer \\n\\t\\n\\...</td>\n",
       "      <td>form z_ {\\n\\tcomp userDetailsContainer \\n\\t\\n\\...</td>\n",
       "      <td>\\ta field whose id is 'm' using the component ...</td>\n",
       "      <td>* is a child of the form whose id is 'z_'.\\n* ...</td>\n",
       "    </tr>\n",
       "    <tr>\n",
       "      <th>2</th>\n",
       "      <td>form C_ {\\n\\tcomp someOtherContainer \\n\\t\\n\\tf...</td>\n",
       "      <td>form C_ {\\n\\tcomp someOtherContainer \\n\\t\\n\\tf...</td>\n",
       "      <td>\\ta field whose id is 'yw_' with state of type...</td>\n",
       "      <td>* is a child of the form whose id is 'C_'.\\n* ...</td>\n",
       "    </tr>\n",
       "    <tr>\n",
       "      <th>3</th>\n",
       "      <td>form Fw {\\n\\tcomp OtherContainer2 \\n\\t\\n\\tfiel...</td>\n",
       "      <td>form Fw {\\n\\tcomp OtherContainer2 \\n\\t\\n\\tfiel...</td>\n",
       "      <td>\\t\\ta field whose id is 'Sww' with state of ty...</td>\n",
       "      <td>* is a child of the form whose id is 'v'.\\n* i...</td>\n",
       "    </tr>\n",
       "    <tr>\n",
       "      <th>4</th>\n",
       "      <td>form lw {\\n\\tcomp OtherContainer2 \\n\\t\\n\\tfiel...</td>\n",
       "      <td>form lw {\\n\\tcomp OtherContainer2 \\n\\t\\n\\tfiel...</td>\n",
       "      <td>\\ta field whose id is 'b' with state of type: ...</td>\n",
       "      <td>* is a child of the form whose id is 'lw'.\\n* ...</td>\n",
       "    </tr>\n",
       "    <tr>\n",
       "      <th>...</th>\n",
       "      <td>...</td>\n",
       "      <td>...</td>\n",
       "      <td>...</td>\n",
       "      <td>...</td>\n",
       "    </tr>\n",
       "    <tr>\n",
       "      <th>2995</th>\n",
       "      <td>form _ {\\n\\tcomp formContainer \\n\\t\\n\\tfield G...</td>\n",
       "      <td>form _ {\\n\\tcomp formContainer \\n\\t\\n\\tfield G...</td>\n",
       "      <td>\\ta field whose id is 'A' with state of type: ...</td>\n",
       "      <td>* is a child of the form whose id is '_'.\\n* i...</td>\n",
       "    </tr>\n",
       "    <tr>\n",
       "      <th>2996</th>\n",
       "      <td>form v__ {\\n\\tcomp someOtherContainer \\n\\t\\n\\t...</td>\n",
       "      <td>form v__ {\\n\\tcomp someOtherContainer \\n\\t\\n\\t...</td>\n",
       "      <td>\\ta field whose id is 'k' with state of type: ...</td>\n",
       "      <td>* is a child of the form whose id is 'v__'.\\n*...</td>\n",
       "    </tr>\n",
       "    <tr>\n",
       "      <th>2997</th>\n",
       "      <td>form Kw {\\n\\tcomp userDetailsContainer \\n\\t\\n\\...</td>\n",
       "      <td>form Kw {\\n\\tcomp userDetailsContainer \\n\\t\\n\\...</td>\n",
       "      <td>\\ta field whose id is 'i_' with state of type:...</td>\n",
       "      <td>* is a child of the form whose id is 'Kw'.\\n* ...</td>\n",
       "    </tr>\n",
       "    <tr>\n",
       "      <th>2998</th>\n",
       "      <td>form U {\\n\\tcomp OtherContainer2 \\n\\t\\n\\tform ...</td>\n",
       "      <td>form U {\\n\\tcomp OtherContainer2 \\n\\t\\n\\tform ...</td>\n",
       "      <td>\\t\\ta field whose id is 'T' using the componen...</td>\n",
       "      <td>* is a child of the form whose id is 'Dw'.\\n* ...</td>\n",
       "    </tr>\n",
       "    <tr>\n",
       "      <th>2999</th>\n",
       "      <td>form Ew {\\n\\tcomp formContainer \\n\\t\\n\\tfield ...</td>\n",
       "      <td>form Ew {\\n\\tcomp formContainer \\n\\t\\n\\tform Y...</td>\n",
       "      <td>\\ta field whose id is 'D' using the component ...</td>\n",
       "      <td>* is a child of the form whose id is 'Ew'.\\n* ...</td>\n",
       "    </tr>\n",
       "  </tbody>\n",
       "</table>\n",
       "<p>3000 rows × 4 columns</p>\n",
       "</div>"
      ],
      "text/plain": [
       "                                         serializedForm  \\\n",
       "0     form p_ {\\n\\tcomp someOtherContainer \\n\\t\\n\\tf...   \n",
       "1     form z_ {\\n\\tcomp userDetailsContainer \\n\\t\\n\\...   \n",
       "2     form C_ {\\n\\tcomp someOtherContainer \\n\\t\\n\\tf...   \n",
       "3     form Fw {\\n\\tcomp OtherContainer2 \\n\\t\\n\\tfiel...   \n",
       "4     form lw {\\n\\tcomp OtherContainer2 \\n\\t\\n\\tfiel...   \n",
       "...                                                 ...   \n",
       "2995  form _ {\\n\\tcomp formContainer \\n\\t\\n\\tfield G...   \n",
       "2996  form v__ {\\n\\tcomp someOtherContainer \\n\\t\\n\\t...   \n",
       "2997  form Kw {\\n\\tcomp userDetailsContainer \\n\\t\\n\\...   \n",
       "2998  form U {\\n\\tcomp OtherContainer2 \\n\\t\\n\\tform ...   \n",
       "2999  form Ew {\\n\\tcomp formContainer \\n\\t\\n\\tfield ...   \n",
       "\n",
       "                                 serializedModifiedForm  \\\n",
       "0     form p_ {\\n\\tcomp someOtherContainer \\n\\t\\n\\tf...   \n",
       "1     form z_ {\\n\\tcomp userDetailsContainer \\n\\t\\n\\...   \n",
       "2     form C_ {\\n\\tcomp someOtherContainer \\n\\t\\n\\tf...   \n",
       "3     form Fw {\\n\\tcomp OtherContainer2 \\n\\t\\n\\tfiel...   \n",
       "4     form lw {\\n\\tcomp OtherContainer2 \\n\\t\\n\\tfiel...   \n",
       "...                                                 ...   \n",
       "2995  form _ {\\n\\tcomp formContainer \\n\\t\\n\\tfield G...   \n",
       "2996  form v__ {\\n\\tcomp someOtherContainer \\n\\t\\n\\t...   \n",
       "2997  form Kw {\\n\\tcomp userDetailsContainer \\n\\t\\n\\...   \n",
       "2998  form U {\\n\\tcomp OtherContainer2 \\n\\t\\n\\tform ...   \n",
       "2999  form Ew {\\n\\tcomp formContainer \\n\\t\\n\\tform Y...   \n",
       "\n",
       "                                     removedNodeEnglish  \\\n",
       "0     \\t\\ta field whose id is 'y' with state of type...   \n",
       "1     \\ta field whose id is 'm' using the component ...   \n",
       "2     \\ta field whose id is 'yw_' with state of type...   \n",
       "3     \\t\\ta field whose id is 'Sww' with state of ty...   \n",
       "4     \\ta field whose id is 'b' with state of type: ...   \n",
       "...                                                 ...   \n",
       "2995  \\ta field whose id is 'A' with state of type: ...   \n",
       "2996  \\ta field whose id is 'k' with state of type: ...   \n",
       "2997  \\ta field whose id is 'i_' with state of type:...   \n",
       "2998  \\t\\ta field whose id is 'T' using the componen...   \n",
       "2999  \\ta field whose id is 'D' using the component ...   \n",
       "\n",
       "                              removedNodeContextEnglish  \n",
       "0     * is a child of the form whose id is 'a_w'.\\n*...  \n",
       "1     * is a child of the form whose id is 'z_'.\\n* ...  \n",
       "2     * is a child of the form whose id is 'C_'.\\n* ...  \n",
       "3     * is a child of the form whose id is 'v'.\\n* i...  \n",
       "4     * is a child of the form whose id is 'lw'.\\n* ...  \n",
       "...                                                 ...  \n",
       "2995  * is a child of the form whose id is '_'.\\n* i...  \n",
       "2996  * is a child of the form whose id is 'v__'.\\n*...  \n",
       "2997  * is a child of the form whose id is 'Kw'.\\n* ...  \n",
       "2998  * is a child of the form whose id is 'Dw'.\\n* ...  \n",
       "2999  * is a child of the form whose id is 'Ew'.\\n* ...  \n",
       "\n",
       "[3000 rows x 4 columns]"
      ]
     },
     "execution_count": 17,
     "metadata": {},
     "output_type": "execute_result"
    }
   ],
   "source": [
    "examples = pd.DataFrame(DATA)\n",
    "examples"
   ]
  }
 ],
 "metadata": {
  "kernelspec": {
   "display_name": "Python 3 (ipykernel)",
   "language": "python",
   "name": "python3"
  },
  "language_info": {
   "codemirror_mode": {
    "name": "ipython",
    "version": 3
   },
   "file_extension": ".py",
   "mimetype": "text/x-python",
   "name": "python",
   "nbconvert_exporter": "python",
   "pygments_lexer": "ipython3",
   "version": "3.10.12"
  }
 },
 "nbformat": 4,
 "nbformat_minor": 5
}
