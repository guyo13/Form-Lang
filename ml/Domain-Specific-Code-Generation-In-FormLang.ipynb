{
  "cells": [
    {
      "cell_type": "markdown",
      "id": "3da41cfd-8291-4b03-87ed-5df197c2efbd",
      "metadata": {
        "id": "3da41cfd-8291-4b03-87ed-5df197c2efbd"
      },
      "source": [
        "# Domain Specific Code Generation using the FormLang DSL"
      ]
    },
    {
      "cell_type": "markdown",
      "id": "1b4cbce9-f06b-46e7-87da-cd82364afd6c",
      "metadata": {
        "id": "1b4cbce9-f06b-46e7-87da-cd82364afd6c"
      },
      "source": [
        "## Abstract\n",
        "\n",
        "AI and LLM systems are being trained to perform a variety of complex tasks requiring expertise in many software tools, languages and technology stacks. Some of the challenges in this process involve quality data acquisition in large amounts, handling the increase of model parameter count which leads to increasing compute demands and costs, as well as emerging Data Privacy and Intellctual Property concerns related with using 3rd party cloud services for model training.\n",
        "\n",
        "In this work we attempt to harness and combine the benefits of Abstraction and Determinism provided by Formal Domain Specific Languages (DSLs) with the innate ability of LLMs to learn new languages and their semantics. We propose a novel generation task called \"Domain Specific Code Generation\" which involve mapping user requests written in natural language to DSL code.\n",
        "\n",
        "By utilizing a specially crafted DSL called `FormLang` as a case study, we attempt to lay the groundwork for methods of automated DSL dataset generation, training techniques and performance evaluation, with the end goal of creating an AI system capable of generating Web forms according to a user request.\n",
        "\n",
        "Our `FormLang` DSL allows expressing the semantics of Web-forms using a simplified syntax that does not require much, if any, Web-programming knowledge and expertise.\n",
        "\n",
        "Given a user prompt in English describing the desired form and its fields the LLM produces syntactically valid `FormLang` output which is run through the accompanying FormLang parser and a hand-crafted React JSX compiler to output a final implementation of the form in JavaScript and React.\n",
        "\n",
        "The project includes a live demo which demonstrates the capabilities of the system.\n"
      ]
    },
    {
      "cell_type": "markdown",
      "id": "9fe6f6e1-43e6-45d7-a792-8e8d141c075b",
      "metadata": {
        "id": "9fe6f6e1-43e6-45d7-a792-8e8d141c075b"
      },
      "source": [
        "## Referring to this work\n",
        "\n",
        "If you use this work the following quote is preferred:\n",
        "\n",
        "```bibtex\n",
        "@misc{guyor2025dscodegenformlang,\n",
        "      title={Domain Specific Code Generation using the FormLang DSL},\n",
        "      author={Guy Or},\n",
        "      year={2025}\n",
        "}\n",
        "```\n",
        "\n",
        "The official repository of this work is hosted in GitHub at https://github.com/guyo13/Form-Lang **TBD** - Make the repo public"
      ]
    },
    {
      "cell_type": "markdown",
      "id": "3b0ab27f-eb13-4744-aac1-57e8ca65d63e",
      "metadata": {
        "id": "3b0ab27f-eb13-4744-aac1-57e8ca65d63e"
      },
      "source": [
        "## Project Goals\n",
        "\n",
        "* Define the Task of Domain Specific Code Generation.\n",
        "* Create an AI training pipeline for FormLang (implemented as a Juypter notebook) which includes:\n",
        "    * Automatic FormLang Dataset generation using searching algorithms and heuristics.\n",
        "    * Baseline model selection and loading from Hugging Face.\n",
        "    * Dataset Preprocessing and loading.\n",
        "    * Defining performance KPIs for the system.\n",
        "    * Model fine tuning using Transformers library\n",
        "    * Model Adapter training using PEFT library.\n",
        "    * Model upload to Hugging Face Hub and example usage from the Hub.\n",
        "    *  **(TBD)** Export to ONNX using Optimum and run on-device using Transformers.js.\n",
        "* Create the “FormLang” language:\n",
        "    * Describe the problem domain.\n",
        "    * Defining a viable minimal syntax and semantics which are research focused rather than completeness focused.\n",
        "    *  **(TBD)** Implementing a “JavaScript React” compile target.\n",
        "*  **(TBD)** Create a live demo website:\n",
        "    * **(TBD)** Users input a prompt.\n",
        "    * **(TBD)** A FormLang editor is populated with the AI’s code generation results.\n",
        "    * **(TBD)** The form is rendered alongside the generated code.\n",
        "*  Discuss the project results:\n",
        "    * Perfornace and user acceptability.\n",
        "    * **(TBD)** Viability of the implemented methods for the Domain Specific Code Generation task and generalization to other domains.  \n",
        "    * **(TBD)** Potential enhancements to the system.\n",
        "    * **(TBD)** Possible research directions on how to learn from user data.\n",
        "\n",
        "\n",
        "**(TBD)** - Features marked as TBD are depending on the project's progress and timeline constraints as well as proving the viability of the methods and system."
      ]
    },
    {
      "cell_type": "markdown",
      "id": "f82857ab-ff94-41c5-ac86-3118861b0590",
      "metadata": {
        "id": "f82857ab-ff94-41c5-ac86-3118861b0590"
      },
      "source": [
        "# Notebook Setup"
      ]
    },
    {
      "cell_type": "markdown",
      "id": "e11e7427-aed5-48ac-96e2-b84fbdf073f3",
      "metadata": {
        "id": "e11e7427-aed5-48ac-96e2-b84fbdf073f3"
      },
      "source": [
        "## About the FormLang DSL and its tooling and codebase"
      ]
    },
    {
      "cell_type": "markdown",
      "id": "0472c753-5fe4-44b7-b36c-81139377cc6b",
      "metadata": {
        "id": "0472c753-5fe4-44b7-b36c-81139377cc6b"
      },
      "source": [
        "The FormLang DSL is implemented using the [Langium](https://langium.org/) project. Langium is a toolkit written in TypeScript that allows language engineers to create DSLs and quickly iterate over their development lifecycle.\n",
        "\n",
        "Some of the many features offered by Langium are:\n",
        "\n",
        "* Parser generation - Langium leverages [Chevrotain](https://chevrotain.io/docs/) to create a fast parser that can parse the DSL code to AST.\n",
        "* TypeScript AST nodes generation - Langium automatically generates TS types that represent the AST of the language.\n",
        "* Simplified Validation rules - Langium has built in support for writing and executing validation rules with built in error reporting.\n",
        "* Language Server Protocol support - Langium implements the LSP protocol which allows code completion and syntax highlighting in many IDEs such as VSCode.\n",
        "\n",
        "Since we are using Langium to parse the FormLang DSL, some of this project tooling and algorithms are written in TypeScript.\n",
        "\n",
        "To call our TypeScript code from Python we are using two distinct methods:\n",
        "\n",
        "* [PythonMonkey](https://pythonmonkey.io/) - A Python package that implements FFI between Python and JavaScript.\n",
        "* Local HTTP API - For some cases in which the PythonMonkey FFI is too slow, we've implemented a local REST-API server that implements some functions we require (e.g for parsing FormLang code to AST).\n",
        "\n",
        "### Codebase\n",
        "\n",
        "The entire codebase is hosted in Github at [FormLang](https://github.com/guyo13/Form-Lang).\n",
        "\n",
        "### Local Setup and Installation instructions - TODO"
      ]
    },
    {
      "cell_type": "markdown",
      "source": [
        "### Running from Colab"
      ],
      "metadata": {
        "id": "Ou2nd_6VfMJb"
      },
      "id": "Ou2nd_6VfMJb"
    },
    {
      "cell_type": "markdown",
      "source": [
        "#### Installing PNPM and Bun"
      ],
      "metadata": {
        "id": "eJxc5-6UfnjC"
      },
      "id": "eJxc5-6UfnjC"
    },
    {
      "cell_type": "code",
      "source": [
        "!npm install -g pnpm\n",
        "!npm install -g bun@latest\n",
        "!npm install -g corepack@latest"
      ],
      "metadata": {
        "colab": {
          "base_uri": "https://localhost:8080/"
        },
        "collapsed": true,
        "id": "sacCOlA8fqLv",
        "outputId": "365090ea-6204-4cb0-829b-80103bf0d86a"
      },
      "id": "sacCOlA8fqLv",
      "execution_count": 16,
      "outputs": [
        {
          "output_type": "stream",
          "name": "stdout",
          "text": [
            "\u001b[1G\u001b[0K⠙\u001b[1G\u001b[0K⠹\u001b[1G\u001b[0K⠸\u001b[1G\u001b[0K⠼\u001b[1G\u001b[0K⠴\u001b[1G\u001b[0K⠦\u001b[1G\u001b[0K⠧\u001b[1G\u001b[0K⠇\u001b[1G\u001b[0K⠏\u001b[1G\u001b[0K⠋\u001b[1G\u001b[0K⠙\u001b[1G\u001b[0K⠹\u001b[1G\u001b[0K⠸\u001b[1G\u001b[0K⠼\u001b[1G\u001b[0K⠴\u001b[1G\u001b[0K⠦\u001b[1G\u001b[0K⠧\u001b[1G\u001b[0K⠇\u001b[1G\u001b[0K⠏\u001b[1G\u001b[0K⠋\u001b[1G\u001b[0K⠙\u001b[1G\u001b[0K⠹\u001b[1G\u001b[0K⠸\u001b[1G\u001b[0K⠼\u001b[1G\u001b[0K⠴\u001b[1G\u001b[0K⠦\u001b[1G\u001b[0K⠧\u001b[1G\u001b[0K⠇\u001b[1G\u001b[0K⠏\u001b[1G\u001b[0K⠋\u001b[1G\u001b[0K⠙\u001b[1G\u001b[0K⠹\u001b[1G\u001b[0K⠸\u001b[1G\u001b[0K⠼\u001b[1G\u001b[0K⠴\u001b[1G\u001b[0K⠦\u001b[1G\u001b[0K⠧\u001b[1G\u001b[0K⠇\u001b[1G\u001b[0K⠏\u001b[1G\u001b[0K\n",
            "changed 1 package in 4s\n",
            "\u001b[1G\u001b[0K⠏\u001b[1G\u001b[0K\n",
            "\u001b[1G\u001b[0K⠏\u001b[1G\u001b[0K1 package is looking for funding\n",
            "\u001b[1G\u001b[0K⠏\u001b[1G\u001b[0K  run `npm fund` for details\n",
            "\u001b[1G\u001b[0K⠏\u001b[1G\u001b[0K\u001b[1G\u001b[0K⠙\u001b[1G\u001b[0K⠹\u001b[1G\u001b[0K⠸\u001b[1G\u001b[0K⠼\u001b[1G\u001b[0K⠴\u001b[1G\u001b[0K⠦\u001b[1G\u001b[0K⠧\u001b[1G\u001b[0K⠇\u001b[1G\u001b[0K⠏\u001b[1G\u001b[0K⠋\u001b[1G\u001b[0K⠙\u001b[1G\u001b[0K⠹\u001b[1G\u001b[0K⠸\u001b[1G\u001b[0K⠼\u001b[1G\u001b[0K⠴\u001b[1G\u001b[0K⠦\u001b[1G\u001b[0K⠧\u001b[1G\u001b[0K⠇\u001b[1G\u001b[0K⠏\u001b[1G\u001b[0K⠋\u001b[1G\u001b[0K⠙\u001b[1G\u001b[0K⠹\u001b[1G\u001b[0K⠸\u001b[1G\u001b[0K⠼\u001b[1G\u001b[0K⠴\u001b[1G\u001b[0K⠦\u001b[1G\u001b[0K⠧\u001b[1G\u001b[0K⠇\u001b[1G\u001b[0K⠏\u001b[1G\u001b[0K⠋\u001b[1G\u001b[0K⠙\u001b[1G\u001b[0K⠹\u001b[1G\u001b[0K⠸\u001b[1G\u001b[0K⠼\u001b[1G\u001b[0K⠴\u001b[1G\u001b[0K⠦\u001b[1G\u001b[0K⠧\u001b[1G\u001b[0K⠇\u001b[1G\u001b[0K⠏\u001b[1G\u001b[0K⠋\u001b[1G\u001b[0K⠙\u001b[1G\u001b[0K⠹\u001b[1G\u001b[0K⠸\u001b[1G\u001b[0K⠼\u001b[1G\u001b[0K⠴\u001b[1G\u001b[0K⠦\u001b[1G\u001b[0K⠧\u001b[1G\u001b[0K⠇\u001b[1G\u001b[0K⠏\u001b[1G\u001b[0K⠋\u001b[1G\u001b[0K⠙\u001b[1G\u001b[0K⠹\u001b[1G\u001b[0K⠸\u001b[1G\u001b[0K⠼\u001b[1G\u001b[0K⠴\u001b[1G\u001b[0K⠦\u001b[1G\u001b[0K⠧\u001b[1G\u001b[0K⠇\u001b[1G\u001b[0K⠏\u001b[1G\u001b[0K⠋\u001b[1G\u001b[0K⠙\u001b[1G\u001b[0K⠹\u001b[1G\u001b[0K⠸\u001b[1G\u001b[0K⠼\u001b[1G\u001b[0K⠴\u001b[1G\u001b[0K⠦\u001b[1G\u001b[0K⠧\u001b[1G\u001b[0K⠇\u001b[1G\u001b[0K⠏\u001b[1G\u001b[0K⠋\u001b[1G\u001b[0K⠙\u001b[1G\u001b[0K⠹\u001b[1G\u001b[0K⠸\u001b[1G\u001b[0K⠼\u001b[1G\u001b[0K⠴\u001b[1G\u001b[0K⠦\u001b[1G\u001b[0K⠧\u001b[1G\u001b[0K⠇\u001b[1G\u001b[0K⠏\u001b[1G\u001b[0K⠋\u001b[1G\u001b[0K⠙\u001b[1G\u001b[0K⠹\u001b[1G\u001b[0K⠸\u001b[1G\u001b[0K⠼\u001b[1G\u001b[0K⠴\u001b[1G\u001b[0K⠦\u001b[1G\u001b[0K⠧\u001b[1G\u001b[0K⠇\u001b[1G\u001b[0K⠏\u001b[1G\u001b[0K⠋\u001b[1G\u001b[0K⠙\u001b[1G\u001b[0K⠹\u001b[1G\u001b[0K⠸\u001b[1G\u001b[0K⠼\u001b[1G\u001b[0K⠴\u001b[1G\u001b[0K⠦\u001b[1G\u001b[0K⠧\u001b[1G\u001b[0K⠇\u001b[1G\u001b[0K⠏\u001b[1G\u001b[0K⠋\u001b[1G\u001b[0K⠙\u001b[1G\u001b[0K⠹\u001b[1G\u001b[0K⠸\u001b[1G\u001b[0K⠼\u001b[1G\u001b[0K⠴\u001b[1G\u001b[0K⠦\u001b[1G\u001b[0K⠧\u001b[1G\u001b[0K⠇\u001b[1G\u001b[0K⠏\u001b[1G\u001b[0K⠋\u001b[1G\u001b[0K⠙\u001b[1G\u001b[0K⠹\u001b[1G\u001b[0K⠸\u001b[1G\u001b[0K⠼\u001b[1G\u001b[0K⠴\u001b[1G\u001b[0K⠦\u001b[1G\u001b[0K⠧\u001b[1G\u001b[0K⠇\u001b[1G\u001b[0K⠏\u001b[1G\u001b[0K⠋\u001b[1G\u001b[0K⠙\u001b[1G\u001b[0K⠹\u001b[1G\u001b[0K⠸\u001b[1G\u001b[0K⠼\u001b[1G\u001b[0K⠴\u001b[1G\u001b[0K⠦\u001b[1G\u001b[0K⠧\u001b[1G\u001b[0K⠇\u001b[1G\u001b[0K⠏\u001b[1G\u001b[0K⠋\u001b[1G\u001b[0K⠙\u001b[1G\u001b[0K⠹\u001b[1G\u001b[0K⠸\u001b[1G\u001b[0K⠼\u001b[1G\u001b[0K⠴\u001b[1G\u001b[0K⠦\u001b[1G\u001b[0K⠧\u001b[1G\u001b[0K⠇\u001b[1G\u001b[0K⠏\u001b[1G\u001b[0K⠋\u001b[1G\u001b[0K⠙\u001b[1G\u001b[0K⠹\u001b[1G\u001b[0K⠸\u001b[1G\u001b[0K⠼\u001b[1G\u001b[0K⠴\u001b[1G\u001b[0K⠦\u001b[1G\u001b[0K⠧\u001b[1G\u001b[0K⠇\u001b[1G\u001b[0K⠏\u001b[1G\u001b[0K⠋\u001b[1G\u001b[0K⠙\u001b[1G\u001b[0K⠹\u001b[1G\u001b[0K⠸\u001b[1G\u001b[0K⠼\u001b[1G\u001b[0K⠴\u001b[1G\u001b[0K⠦\u001b[1G\u001b[0K⠧\u001b[1G\u001b[0K⠇\u001b[1G\u001b[0K⠏\u001b[1G\u001b[0K⠋\u001b[1G\u001b[0K⠙\u001b[1G\u001b[0K⠹\u001b[1G\u001b[0K⠸\u001b[1G\u001b[0K⠼\u001b[1G\u001b[0K⠴\u001b[1G\u001b[0K⠦\u001b[1G\u001b[0K⠧\u001b[1G\u001b[0K⠇\u001b[1G\u001b[0K⠏\u001b[1G\u001b[0K⠋\u001b[1G\u001b[0K⠙\u001b[1G\u001b[0K⠹\u001b[1G\u001b[0K⠸\u001b[1G\u001b[0K⠼\u001b[1G\u001b[0K⠴\u001b[1G\u001b[0K⠦\u001b[1G\u001b[0K⠧\u001b[1G\u001b[0K⠇\u001b[1G\u001b[0K⠏\u001b[1G\u001b[0K⠋\u001b[1G\u001b[0K⠙\u001b[1G\u001b[0K⠹\u001b[1G\u001b[0K⠸\u001b[1G\u001b[0K⠼\u001b[1G\u001b[0K⠴\u001b[1G\u001b[0K⠦\u001b[1G\u001b[0K⠧\u001b[1G\u001b[0K⠇\u001b[1G\u001b[0K⠏\u001b[1G\u001b[0K⠋\u001b[1G\u001b[0K⠙\u001b[1G\u001b[0K⠹\u001b[1G\u001b[0K⠸\u001b[1G\u001b[0K⠼\u001b[1G\u001b[0K⠴\u001b[1G\u001b[0K⠦\u001b[1G\u001b[0K⠧\u001b[1G\u001b[0K⠇\u001b[1G\u001b[0K⠏\u001b[1G\u001b[0K⠋\u001b[1G\u001b[0K⠙\u001b[1G\u001b[0K⠹\u001b[1G\u001b[0K⠸\u001b[1G\u001b[0K⠼\u001b[1G\u001b[0K⠴\u001b[1G\u001b[0K⠦\u001b[1G\u001b[0K⠧\u001b[1G\u001b[0K⠇\u001b[1G\u001b[0K⠏\u001b[1G\u001b[0K⠋\u001b[1G\u001b[0K⠙\u001b[1G\u001b[0K⠹\u001b[1G\u001b[0K⠸\u001b[1G\u001b[0K⠼\u001b[1G\u001b[0K⠴\u001b[1G\u001b[0K⠦\u001b[1G\u001b[0K⠧\u001b[1G\u001b[0K⠇\u001b[1G\u001b[0K⠏\u001b[1G\u001b[0K⠋\u001b[1G\u001b[0K⠙\u001b[1G\u001b[0K⠹\u001b[1G\u001b[0K⠸\u001b[1G\u001b[0K⠼\u001b[1G\u001b[0K⠴\u001b[1G\u001b[0K⠦\u001b[1G\u001b[0K⠧\u001b[1G\u001b[0K⠇\u001b[1G\u001b[0K⠏\u001b[1G\u001b[0K⠋\u001b[1G\u001b[0K⠙\u001b[1G\u001b[0K⠹\u001b[1G\u001b[0K⠸\u001b[1G\u001b[0K⠼\u001b[1G\u001b[0K⠴\u001b[1G\u001b[0K⠦\u001b[1G\u001b[0K⠧\u001b[1G\u001b[0K⠇\u001b[1G\u001b[0K⠏\u001b[1G\u001b[0K⠋\u001b[1G\u001b[0K⠙\u001b[1G\u001b[0K⠹\u001b[1G\u001b[0K⠸\u001b[1G\u001b[0K⠼\u001b[1G\u001b[0K⠴\u001b[1G\u001b[0K⠦\u001b[1G\u001b[0K⠧\u001b[1G\u001b[0K⠇\u001b[1G\u001b[0K⠏\u001b[1G\u001b[0K⠋\u001b[1G\u001b[0K⠙\u001b[1G\u001b[0K⠹\u001b[1G\u001b[0K⠸\u001b[1G\u001b[0K⠼\u001b[1G\u001b[0K⠴\u001b[1G\u001b[0K⠦\u001b[1G\u001b[0K⠧\u001b[1G\u001b[0K⠇\u001b[1G\u001b[0K⠏\u001b[1G\u001b[0K⠋\u001b[1G\u001b[0K⠙\u001b[1G\u001b[0K⠹\u001b[1G\u001b[0K⠸\u001b[1G\u001b[0K⠼\u001b[1G\u001b[0K⠴\u001b[1G\u001b[0K⠦\u001b[1G\u001b[0K⠧\u001b[1G\u001b[0K⠇\u001b[1G\u001b[0K⠏\u001b[1G\u001b[0K⠋\u001b[1G\u001b[0K⠙\u001b[1G\u001b[0K⠹\u001b[1G\u001b[0K⠸\u001b[1G\u001b[0K\n",
            "changed 5 packages in 26s\n",
            "\u001b[1G\u001b[0K⠼\u001b[1G\u001b[0K\u001b[1G\u001b[0K⠙\u001b[1G\u001b[0K⠹\u001b[1G\u001b[0K⠸\u001b[1G\u001b[0K⠼\u001b[1G\u001b[0K⠴\u001b[1G\u001b[0K⠦\u001b[1G\u001b[0K⠧\u001b[1G\u001b[0K⠇\u001b[1G\u001b[0K⠏\u001b[1G\u001b[0K⠋\u001b[1G\u001b[0K⠙\u001b[1G\u001b[0K⠹\u001b[1G\u001b[0K⠸\u001b[1G\u001b[0K⠼\u001b[1G\u001b[0K⠴\u001b[1G\u001b[0K\n",
            "changed 1 package in 2s\n",
            "\u001b[1G\u001b[0K⠴\u001b[1G\u001b[0K"
          ]
        }
      ]
    },
    {
      "cell_type": "code",
      "source": [
        "!bun -v"
      ],
      "metadata": {
        "colab": {
          "base_uri": "https://localhost:8080/"
        },
        "id": "S1UNnkGMpIMk",
        "outputId": "9749343f-43d3-4e2d-a027-73ac32f9456a"
      },
      "id": "S1UNnkGMpIMk",
      "execution_count": 17,
      "outputs": [
        {
          "output_type": "stream",
          "name": "stdout",
          "text": [
            "1.2.2\n"
          ]
        }
      ]
    },
    {
      "cell_type": "markdown",
      "source": [
        "#### Installing PythonMonkey"
      ],
      "metadata": {
        "id": "eJNyxbOUf06Z"
      },
      "id": "eJNyxbOUf06Z"
    },
    {
      "cell_type": "code",
      "source": [
        "!pip install pythonmonkey"
      ],
      "metadata": {
        "colab": {
          "base_uri": "https://localhost:8080/"
        },
        "collapsed": true,
        "id": "2xL-UgVOf6BY",
        "outputId": "11ba3808-035d-4bed-f89f-bfd25b421911"
      },
      "id": "2xL-UgVOf6BY",
      "execution_count": 7,
      "outputs": [
        {
          "output_type": "stream",
          "name": "stdout",
          "text": [
            "Collecting pythonmonkey\n",
            "  Downloading pythonmonkey-1.1.0-cp311-cp311-manylinux_2_31_x86_64.whl.metadata (22 kB)\n",
            "Requirement already satisfied: aiohttp<4.0.0,>=3.9.5 in /usr/local/lib/python3.11/dist-packages (from aiohttp[speedups]<4.0.0,>=3.9.5->pythonmonkey) (3.11.11)\n",
            "Collecting pminit>=0.4.0 (from pythonmonkey)\n",
            "  Downloading pminit-1.1.0.tar.gz (7.5 kB)\n",
            "  Installing build dependencies ... \u001b[?25l\u001b[?25hdone\n",
            "  Getting requirements to build wheel ... \u001b[?25l\u001b[?25hdone\n",
            "  Preparing metadata (pyproject.toml) ... \u001b[?25l\u001b[?25hdone\n",
            "Requirement already satisfied: aiohappyeyeballs>=2.3.0 in /usr/local/lib/python3.11/dist-packages (from aiohttp<4.0.0,>=3.9.5->aiohttp[speedups]<4.0.0,>=3.9.5->pythonmonkey) (2.4.4)\n",
            "Requirement already satisfied: aiosignal>=1.1.2 in /usr/local/lib/python3.11/dist-packages (from aiohttp<4.0.0,>=3.9.5->aiohttp[speedups]<4.0.0,>=3.9.5->pythonmonkey) (1.3.2)\n",
            "Requirement already satisfied: attrs>=17.3.0 in /usr/local/lib/python3.11/dist-packages (from aiohttp<4.0.0,>=3.9.5->aiohttp[speedups]<4.0.0,>=3.9.5->pythonmonkey) (25.1.0)\n",
            "Requirement already satisfied: frozenlist>=1.1.1 in /usr/local/lib/python3.11/dist-packages (from aiohttp<4.0.0,>=3.9.5->aiohttp[speedups]<4.0.0,>=3.9.5->pythonmonkey) (1.5.0)\n",
            "Requirement already satisfied: multidict<7.0,>=4.5 in /usr/local/lib/python3.11/dist-packages (from aiohttp<4.0.0,>=3.9.5->aiohttp[speedups]<4.0.0,>=3.9.5->pythonmonkey) (6.1.0)\n",
            "Requirement already satisfied: propcache>=0.2.0 in /usr/local/lib/python3.11/dist-packages (from aiohttp<4.0.0,>=3.9.5->aiohttp[speedups]<4.0.0,>=3.9.5->pythonmonkey) (0.2.1)\n",
            "Requirement already satisfied: yarl<2.0,>=1.17.0 in /usr/local/lib/python3.11/dist-packages (from aiohttp<4.0.0,>=3.9.5->aiohttp[speedups]<4.0.0,>=3.9.5->pythonmonkey) (1.18.3)\n",
            "Collecting aiodns>=3.2.0 (from aiohttp[speedups]<4.0.0,>=3.9.5->pythonmonkey)\n",
            "  Downloading aiodns-3.2.0-py3-none-any.whl.metadata (4.0 kB)\n",
            "Collecting Brotli (from aiohttp[speedups]<4.0.0,>=3.9.5->pythonmonkey)\n",
            "  Downloading Brotli-1.1.0-cp311-cp311-manylinux_2_17_x86_64.manylinux2014_x86_64.whl.metadata (5.5 kB)\n",
            "Collecting pycares>=4.0.0 (from aiodns>=3.2.0->aiohttp[speedups]<4.0.0,>=3.9.5->pythonmonkey)\n",
            "  Downloading pycares-4.5.0-cp311-cp311-manylinux_2_17_x86_64.manylinux2014_x86_64.whl.metadata (4.1 kB)\n",
            "Requirement already satisfied: idna>=2.0 in /usr/local/lib/python3.11/dist-packages (from yarl<2.0,>=1.17.0->aiohttp<4.0.0,>=3.9.5->aiohttp[speedups]<4.0.0,>=3.9.5->pythonmonkey) (3.10)\n",
            "Requirement already satisfied: cffi>=1.5.0 in /usr/local/lib/python3.11/dist-packages (from pycares>=4.0.0->aiodns>=3.2.0->aiohttp[speedups]<4.0.0,>=3.9.5->pythonmonkey) (1.17.1)\n",
            "Requirement already satisfied: pycparser in /usr/local/lib/python3.11/dist-packages (from cffi>=1.5.0->pycares>=4.0.0->aiodns>=3.2.0->aiohttp[speedups]<4.0.0,>=3.9.5->pythonmonkey) (2.22)\n",
            "Downloading pythonmonkey-1.1.0-cp311-cp311-manylinux_2_31_x86_64.whl (21.6 MB)\n",
            "\u001b[2K   \u001b[90m━━━━━━━━━━━━━━━━━━━━━━━━━━━━━━━━━━━━━━━━\u001b[0m \u001b[32m21.6/21.6 MB\u001b[0m \u001b[31m53.8 MB/s\u001b[0m eta \u001b[36m0:00:00\u001b[0m\n",
            "\u001b[?25hDownloading aiodns-3.2.0-py3-none-any.whl (5.7 kB)\n",
            "Downloading Brotli-1.1.0-cp311-cp311-manylinux_2_17_x86_64.manylinux2014_x86_64.whl (2.9 MB)\n",
            "\u001b[2K   \u001b[90m━━━━━━━━━━━━━━━━━━━━━━━━━━━━━━━━━━━━━━━━\u001b[0m \u001b[32m2.9/2.9 MB\u001b[0m \u001b[31m63.0 MB/s\u001b[0m eta \u001b[36m0:00:00\u001b[0m\n",
            "\u001b[?25hDownloading pycares-4.5.0-cp311-cp311-manylinux_2_17_x86_64.manylinux2014_x86_64.whl (288 kB)\n",
            "\u001b[2K   \u001b[90m━━━━━━━━━━━━━━━━━━━━━━━━━━━━━━━━━━━━━━━━\u001b[0m \u001b[32m288.6/288.6 kB\u001b[0m \u001b[31m21.0 MB/s\u001b[0m eta \u001b[36m0:00:00\u001b[0m\n",
            "\u001b[?25hBuilding wheels for collected packages: pminit\n",
            "  Building wheel for pminit (pyproject.toml) ... \u001b[?25l\u001b[?25hdone\n",
            "  Created wheel for pminit: filename=pminit-1.1.0-cp311-cp311-manylinux_2_35_x86_64.whl size=2127649 sha256=ed91d46baa2c3629c4dc2a35a3fcd3a1bf6feea709ff03298382244ea3bb0fb7\n",
            "  Stored in directory: /root/.cache/pip/wheels/64/5e/39/2de4476a583c81bbfb9ff2d5dc85aa207866eb1960b06775d7\n",
            "Successfully built pminit\n",
            "Installing collected packages: Brotli, pminit, pycares, aiodns, pythonmonkey\n",
            "Successfully installed Brotli-1.1.0 aiodns-3.2.0 pminit-1.1.0 pycares-4.5.0 pythonmonkey-1.1.0\n"
          ]
        }
      ]
    },
    {
      "cell_type": "markdown",
      "source": [
        "#### Installing Huggingface Datasets and Evaluate"
      ],
      "metadata": {
        "id": "Gg8rNPQ122uw"
      },
      "id": "Gg8rNPQ122uw"
    },
    {
      "cell_type": "code",
      "source": [
        "!pip install datasets evaluate"
      ],
      "metadata": {
        "collapsed": true,
        "id": "ZLalOx4-25Im",
        "outputId": "963b1e27-cd75-4828-b16a-c4e57a08bb05",
        "colab": {
          "base_uri": "https://localhost:8080/"
        }
      },
      "id": "ZLalOx4-25Im",
      "execution_count": 54,
      "outputs": [
        {
          "output_type": "stream",
          "name": "stdout",
          "text": [
            "Collecting datasets\n",
            "  Downloading datasets-3.2.0-py3-none-any.whl.metadata (20 kB)\n",
            "Collecting evaluate\n",
            "  Downloading evaluate-0.4.3-py3-none-any.whl.metadata (9.2 kB)\n",
            "Requirement already satisfied: filelock in /usr/local/lib/python3.11/dist-packages (from datasets) (3.17.0)\n",
            "Requirement already satisfied: numpy>=1.17 in /usr/local/lib/python3.11/dist-packages (from datasets) (1.26.4)\n",
            "Requirement already satisfied: pyarrow>=15.0.0 in /usr/local/lib/python3.11/dist-packages (from datasets) (17.0.0)\n",
            "Collecting dill<0.3.9,>=0.3.0 (from datasets)\n",
            "  Downloading dill-0.3.8-py3-none-any.whl.metadata (10 kB)\n",
            "Requirement already satisfied: pandas in /usr/local/lib/python3.11/dist-packages (from datasets) (2.2.2)\n",
            "Requirement already satisfied: requests>=2.32.2 in /usr/local/lib/python3.11/dist-packages (from datasets) (2.32.3)\n",
            "Requirement already satisfied: tqdm>=4.66.3 in /usr/local/lib/python3.11/dist-packages (from datasets) (4.67.1)\n",
            "Collecting xxhash (from datasets)\n",
            "  Downloading xxhash-3.5.0-cp311-cp311-manylinux_2_17_x86_64.manylinux2014_x86_64.whl.metadata (12 kB)\n",
            "Collecting multiprocess<0.70.17 (from datasets)\n",
            "  Downloading multiprocess-0.70.16-py311-none-any.whl.metadata (7.2 kB)\n",
            "Collecting fsspec<=2024.9.0,>=2023.1.0 (from fsspec[http]<=2024.9.0,>=2023.1.0->datasets)\n",
            "  Downloading fsspec-2024.9.0-py3-none-any.whl.metadata (11 kB)\n",
            "Requirement already satisfied: aiohttp in /usr/local/lib/python3.11/dist-packages (from datasets) (3.11.11)\n",
            "Requirement already satisfied: huggingface-hub>=0.23.0 in /usr/local/lib/python3.11/dist-packages (from datasets) (0.28.1)\n",
            "Requirement already satisfied: packaging in /usr/local/lib/python3.11/dist-packages (from datasets) (24.2)\n",
            "Requirement already satisfied: pyyaml>=5.1 in /usr/local/lib/python3.11/dist-packages (from datasets) (6.0.2)\n",
            "Requirement already satisfied: aiohappyeyeballs>=2.3.0 in /usr/local/lib/python3.11/dist-packages (from aiohttp->datasets) (2.4.4)\n",
            "Requirement already satisfied: aiosignal>=1.1.2 in /usr/local/lib/python3.11/dist-packages (from aiohttp->datasets) (1.3.2)\n",
            "Requirement already satisfied: attrs>=17.3.0 in /usr/local/lib/python3.11/dist-packages (from aiohttp->datasets) (25.1.0)\n",
            "Requirement already satisfied: frozenlist>=1.1.1 in /usr/local/lib/python3.11/dist-packages (from aiohttp->datasets) (1.5.0)\n",
            "Requirement already satisfied: multidict<7.0,>=4.5 in /usr/local/lib/python3.11/dist-packages (from aiohttp->datasets) (6.1.0)\n",
            "Requirement already satisfied: propcache>=0.2.0 in /usr/local/lib/python3.11/dist-packages (from aiohttp->datasets) (0.2.1)\n",
            "Requirement already satisfied: yarl<2.0,>=1.17.0 in /usr/local/lib/python3.11/dist-packages (from aiohttp->datasets) (1.18.3)\n",
            "Requirement already satisfied: typing-extensions>=3.7.4.3 in /usr/local/lib/python3.11/dist-packages (from huggingface-hub>=0.23.0->datasets) (4.12.2)\n",
            "Requirement already satisfied: charset-normalizer<4,>=2 in /usr/local/lib/python3.11/dist-packages (from requests>=2.32.2->datasets) (3.4.1)\n",
            "Requirement already satisfied: idna<4,>=2.5 in /usr/local/lib/python3.11/dist-packages (from requests>=2.32.2->datasets) (3.10)\n",
            "Requirement already satisfied: urllib3<3,>=1.21.1 in /usr/local/lib/python3.11/dist-packages (from requests>=2.32.2->datasets) (2.3.0)\n",
            "Requirement already satisfied: certifi>=2017.4.17 in /usr/local/lib/python3.11/dist-packages (from requests>=2.32.2->datasets) (2025.1.31)\n",
            "Requirement already satisfied: python-dateutil>=2.8.2 in /usr/local/lib/python3.11/dist-packages (from pandas->datasets) (2.8.2)\n",
            "Requirement already satisfied: pytz>=2020.1 in /usr/local/lib/python3.11/dist-packages (from pandas->datasets) (2025.1)\n",
            "Requirement already satisfied: tzdata>=2022.7 in /usr/local/lib/python3.11/dist-packages (from pandas->datasets) (2025.1)\n",
            "Requirement already satisfied: six>=1.5 in /usr/local/lib/python3.11/dist-packages (from python-dateutil>=2.8.2->pandas->datasets) (1.17.0)\n",
            "Downloading datasets-3.2.0-py3-none-any.whl (480 kB)\n",
            "\u001b[2K   \u001b[90m━━━━━━━━━━━━━━━━━━━━━━━━━━━━━━━━━━━━━━━━\u001b[0m \u001b[32m480.6/480.6 kB\u001b[0m \u001b[31m9.4 MB/s\u001b[0m eta \u001b[36m0:00:00\u001b[0m\n",
            "\u001b[?25hDownloading evaluate-0.4.3-py3-none-any.whl (84 kB)\n",
            "\u001b[2K   \u001b[90m━━━━━━━━━━━━━━━━━━━━━━━━━━━━━━━━━━━━━━━━\u001b[0m \u001b[32m84.0/84.0 kB\u001b[0m \u001b[31m6.8 MB/s\u001b[0m eta \u001b[36m0:00:00\u001b[0m\n",
            "\u001b[?25hDownloading dill-0.3.8-py3-none-any.whl (116 kB)\n",
            "\u001b[2K   \u001b[90m━━━━━━━━━━━━━━━━━━━━━━━━━━━━━━━━━━━━━━━━\u001b[0m \u001b[32m116.3/116.3 kB\u001b[0m \u001b[31m8.0 MB/s\u001b[0m eta \u001b[36m0:00:00\u001b[0m\n",
            "\u001b[?25hDownloading fsspec-2024.9.0-py3-none-any.whl (179 kB)\n",
            "\u001b[2K   \u001b[90m━━━━━━━━━━━━━━━━━━━━━━━━━━━━━━━━━━━━━━━━\u001b[0m \u001b[32m179.3/179.3 kB\u001b[0m \u001b[31m14.0 MB/s\u001b[0m eta \u001b[36m0:00:00\u001b[0m\n",
            "\u001b[?25hDownloading multiprocess-0.70.16-py311-none-any.whl (143 kB)\n",
            "\u001b[2K   \u001b[90m━━━━━━━━━━━━━━━━━━━━━━━━━━━━━━━━━━━━━━━━\u001b[0m \u001b[32m143.5/143.5 kB\u001b[0m \u001b[31m11.6 MB/s\u001b[0m eta \u001b[36m0:00:00\u001b[0m\n",
            "\u001b[?25hDownloading xxhash-3.5.0-cp311-cp311-manylinux_2_17_x86_64.manylinux2014_x86_64.whl (194 kB)\n",
            "\u001b[2K   \u001b[90m━━━━━━━━━━━━━━━━━━━━━━━━━━━━━━━━━━━━━━━━\u001b[0m \u001b[32m194.8/194.8 kB\u001b[0m \u001b[31m14.8 MB/s\u001b[0m eta \u001b[36m0:00:00\u001b[0m\n",
            "\u001b[?25hInstalling collected packages: xxhash, fsspec, dill, multiprocess, datasets, evaluate\n",
            "  Attempting uninstall: fsspec\n",
            "    Found existing installation: fsspec 2024.10.0\n",
            "    Uninstalling fsspec-2024.10.0:\n",
            "      Successfully uninstalled fsspec-2024.10.0\n",
            "\u001b[31mERROR: pip's dependency resolver does not currently take into account all the packages that are installed. This behaviour is the source of the following dependency conflicts.\n",
            "torch 2.5.1+cu124 requires nvidia-cublas-cu12==12.4.5.8; platform_system == \"Linux\" and platform_machine == \"x86_64\", but you have nvidia-cublas-cu12 12.5.3.2 which is incompatible.\n",
            "torch 2.5.1+cu124 requires nvidia-cuda-cupti-cu12==12.4.127; platform_system == \"Linux\" and platform_machine == \"x86_64\", but you have nvidia-cuda-cupti-cu12 12.5.82 which is incompatible.\n",
            "torch 2.5.1+cu124 requires nvidia-cuda-nvrtc-cu12==12.4.127; platform_system == \"Linux\" and platform_machine == \"x86_64\", but you have nvidia-cuda-nvrtc-cu12 12.5.82 which is incompatible.\n",
            "torch 2.5.1+cu124 requires nvidia-cuda-runtime-cu12==12.4.127; platform_system == \"Linux\" and platform_machine == \"x86_64\", but you have nvidia-cuda-runtime-cu12 12.5.82 which is incompatible.\n",
            "torch 2.5.1+cu124 requires nvidia-cudnn-cu12==9.1.0.70; platform_system == \"Linux\" and platform_machine == \"x86_64\", but you have nvidia-cudnn-cu12 9.3.0.75 which is incompatible.\n",
            "torch 2.5.1+cu124 requires nvidia-cufft-cu12==11.2.1.3; platform_system == \"Linux\" and platform_machine == \"x86_64\", but you have nvidia-cufft-cu12 11.2.3.61 which is incompatible.\n",
            "torch 2.5.1+cu124 requires nvidia-curand-cu12==10.3.5.147; platform_system == \"Linux\" and platform_machine == \"x86_64\", but you have nvidia-curand-cu12 10.3.6.82 which is incompatible.\n",
            "torch 2.5.1+cu124 requires nvidia-cusolver-cu12==11.6.1.9; platform_system == \"Linux\" and platform_machine == \"x86_64\", but you have nvidia-cusolver-cu12 11.6.3.83 which is incompatible.\n",
            "torch 2.5.1+cu124 requires nvidia-cusparse-cu12==12.3.1.170; platform_system == \"Linux\" and platform_machine == \"x86_64\", but you have nvidia-cusparse-cu12 12.5.1.3 which is incompatible.\n",
            "torch 2.5.1+cu124 requires nvidia-nvjitlink-cu12==12.4.127; platform_system == \"Linux\" and platform_machine == \"x86_64\", but you have nvidia-nvjitlink-cu12 12.5.82 which is incompatible.\n",
            "gcsfs 2024.10.0 requires fsspec==2024.10.0, but you have fsspec 2024.9.0 which is incompatible.\u001b[0m\u001b[31m\n",
            "\u001b[0mSuccessfully installed datasets-3.2.0 dill-0.3.8 evaluate-0.4.3 fsspec-2024.9.0 multiprocess-0.70.16 xxhash-3.5.0\n"
          ]
        }
      ]
    },
    {
      "cell_type": "markdown",
      "source": [
        "#### Clone the repo"
      ],
      "metadata": {
        "id": "cBeWGXlGpfsD"
      },
      "id": "cBeWGXlGpfsD"
    },
    {
      "cell_type": "code",
      "source": [
        "!rm -rf Form-Lang"
      ],
      "metadata": {
        "id": "b59psKFItLqX"
      },
      "id": "b59psKFItLqX",
      "execution_count": 22,
      "outputs": []
    },
    {
      "cell_type": "code",
      "source": [
        "!git clone -b react_compiler https://github.com/guyo13/Form-Lang.git"
      ],
      "metadata": {
        "colab": {
          "base_uri": "https://localhost:8080/"
        },
        "collapsed": true,
        "id": "XuvuEliefRsv",
        "outputId": "02727e72-040e-412d-e415-2536aeba7133"
      },
      "id": "XuvuEliefRsv",
      "execution_count": 23,
      "outputs": [
        {
          "output_type": "stream",
          "name": "stdout",
          "text": [
            "Cloning into 'Form-Lang'...\n",
            "remote: Enumerating objects: 591, done.\u001b[K\n",
            "remote: Counting objects: 100% (591/591), done.\u001b[K\n",
            "remote: Compressing objects: 100% (222/222), done.\u001b[K\n",
            "remote: Total 591 (delta 375), reused 569 (delta 357), pack-reused 0 (from 0)\u001b[K\n",
            "Receiving objects: 100% (591/591), 401.04 KiB | 2.29 MiB/s, done.\n",
            "Resolving deltas: 100% (375/375), done.\n"
          ]
        }
      ]
    },
    {
      "cell_type": "markdown",
      "source": [
        "#### Install project dependencies and build"
      ],
      "metadata": {
        "id": "77JM8W54prfR"
      },
      "id": "77JM8W54prfR"
    },
    {
      "cell_type": "code",
      "source": [
        "!cd Form-Lang && corepack install && corepack pnpm install && corepack pnpm run gb"
      ],
      "metadata": {
        "colab": {
          "base_uri": "https://localhost:8080/"
        },
        "collapsed": true,
        "id": "qCmTdtwfpvXu",
        "outputId": "e24c4c6a-f504-4c63-c440-d4a2f018dfbb"
      },
      "id": "qCmTdtwfpvXu",
      "execution_count": 24,
      "outputs": [
        {
          "output_type": "stream",
          "name": "stdout",
          "text": [
            "Adding pnpm@10.0.0 to the cache...\n",
            "Lockfile is up to date, resolution step is skipped\n",
            "Progress: resolved \u001b[96m1\u001b[39m, reused \u001b[96m0\u001b[39m, downloaded \u001b[96m0\u001b[39m, added \u001b[96m0\u001b[39m\n",
            "\u001b[1APackages: \u001b[32m+502\u001b[39m\u001b[0K\n",
            "\n",
            "Progress: resolved \u001b[96m1\u001b[39m, reused \u001b[96m0\u001b[39m, downloaded \u001b[96m0\u001b[39m, added \u001b[96m0\u001b[39m\n",
            "\u001b[1AProgress: resolved \u001b[96m502\u001b[39m, reused \u001b[96m0\u001b[39m, downloaded \u001b[96m0\u001b[39m, added \u001b[96m0\u001b[39m\n",
            "\u001b[1AProgress: resolved \u001b[96m502\u001b[39m, reused \u001b[96m14\u001b[39m, downloaded \u001b[96m0\u001b[39m, added \u001b[96m0\u001b[39m\n",
            "\u001b[1AProgress: resolved \u001b[96m502\u001b[39m, reused \u001b[96m96\u001b[39m, downloaded \u001b[96m0\u001b[39m, added \u001b[96m0\u001b[39m\n",
            "\u001b[1AProgress: resolved \u001b[96m502\u001b[39m, reused \u001b[96m200\u001b[39m, downloaded \u001b[96m0\u001b[39m, added \u001b[96m0\u001b[39m\n",
            "\u001b[1AProgress: resolved \u001b[96m502\u001b[39m, reused \u001b[96m363\u001b[39m, downloaded \u001b[96m0\u001b[39m, added \u001b[96m0\u001b[39m\n",
            "\u001b[1AProgress: resolved \u001b[96m502\u001b[39m, reused \u001b[96m368\u001b[39m, downloaded \u001b[96m0\u001b[39m, added \u001b[96m0\u001b[39m\n",
            "\u001b[1AProgress: resolved \u001b[96m502\u001b[39m, reused \u001b[96m474\u001b[39m, downloaded \u001b[96m0\u001b[39m, added \u001b[96m0\u001b[39m\n",
            "\u001b[1AProgress: resolved \u001b[96m502\u001b[39m, reused \u001b[96m502\u001b[39m, downloaded \u001b[96m0\u001b[39m, added \u001b[96m1\u001b[39m\n",
            "\u001b[1AProgress: resolved \u001b[96m502\u001b[39m, reused \u001b[96m502\u001b[39m, downloaded \u001b[96m0\u001b[39m, added \u001b[96m19\u001b[39m\n",
            "\u001b[1AProgress: resolved \u001b[96m502\u001b[39m, reused \u001b[96m502\u001b[39m, downloaded \u001b[96m0\u001b[39m, added \u001b[96m63\u001b[39m\n",
            "\u001b[1AProgress: resolved \u001b[96m502\u001b[39m, reused \u001b[96m502\u001b[39m, downloaded \u001b[96m0\u001b[39m, added \u001b[96m185\u001b[39m\n",
            "\u001b[1AProgress: resolved \u001b[96m502\u001b[39m, reused \u001b[96m502\u001b[39m, downloaded \u001b[96m0\u001b[39m, added \u001b[96m200\u001b[39m\n",
            "\u001b[1AProgress: resolved \u001b[96m502\u001b[39m, reused \u001b[96m502\u001b[39m, downloaded \u001b[96m0\u001b[39m, added \u001b[96m307\u001b[39m\n",
            "\u001b[1AProgress: resolved \u001b[96m502\u001b[39m, reused \u001b[96m502\u001b[39m, downloaded \u001b[96m0\u001b[39m, added \u001b[96m364\u001b[39m\n",
            "\u001b[1AProgress: resolved \u001b[96m502\u001b[39m, reused \u001b[96m502\u001b[39m, downloaded \u001b[96m0\u001b[39m, added \u001b[96m365\u001b[39m\n",
            "\u001b[1AProgress: resolved \u001b[96m502\u001b[39m, reused \u001b[96m502\u001b[39m, downloaded \u001b[96m0\u001b[39m, added \u001b[96m380\u001b[39m\n",
            "\u001b[1AProgress: resolved \u001b[96m502\u001b[39m, reused \u001b[96m502\u001b[39m, downloaded \u001b[96m0\u001b[39m, added \u001b[96m493\u001b[39m\n",
            "\u001b[1AProgress: resolved \u001b[96m502\u001b[39m, reused \u001b[96m502\u001b[39m, downloaded \u001b[96m0\u001b[39m, added \u001b[96m502\u001b[39m, done\n",
            "\n",
            "\u001b[96mdependencies:\u001b[39m\n",
            "\u001b[32m+\u001b[39m @codingame/monaco-vscode-editor-service-override \u001b[90m3.2.3\u001b[39m\n",
            "\u001b[32m+\u001b[39m @codingame/monaco-vscode-keybindings-service-override \u001b[90m3.2.3\u001b[39m\n",
            "\u001b[32m+\u001b[39m @faker-js/faker \u001b[90m9.4.0\u001b[39m\n",
            "\u001b[32m+\u001b[39m @guyo13/langium-utils \u001b[90m1.1.1\u001b[39m\n",
            "\u001b[32m+\u001b[39m chalk \u001b[90m5.3.0\u001b[39m\n",
            "\u001b[32m+\u001b[39m commander \u001b[90m11.0.0\u001b[39m\n",
            "\u001b[32m+\u001b[39m langium \u001b[90m3.3.0\u001b[39m\n",
            "\u001b[32m+\u001b[39m monaco-editor <- @codingame/monaco-vscode-editor-api \u001b[90m3.2.3\u001b[39m\n",
            "\u001b[32m+\u001b[39m monaco-editor-wrapper \u001b[90m4.0.2\u001b[39m\n",
            "\u001b[32m+\u001b[39m monaco-languageclient \u001b[90m8.1.1\u001b[39m\n",
            "\u001b[32m+\u001b[39m prettier \u001b[90m3.4.2\u001b[39m\n",
            "\u001b[32m+\u001b[39m tree-sitter \u001b[90m0.22.4\u001b[39m\n",
            "\u001b[32m+\u001b[39m tree-sitter-javascript \u001b[90m0.23.1\u001b[39m\n",
            "\u001b[32m+\u001b[39m vscode-languageclient \u001b[90m9.0.1\u001b[39m\n",
            "\u001b[32m+\u001b[39m vscode-languageserver \u001b[90m9.0.1\u001b[39m\n",
            "\u001b[32m+\u001b[39m zod \u001b[90m3.24.1\u001b[39m\n",
            "\n",
            "\u001b[96mdevDependencies:\u001b[39m\n",
            "\u001b[32m+\u001b[39m @codingame/esbuild-import-meta-url-plugin \u001b[90m1.0.2\u001b[39m\n",
            "\u001b[32m+\u001b[39m @types/node \u001b[90m18.19.70\u001b[39m\n",
            "\u001b[32m+\u001b[39m @types/vscode \u001b[90m1.67.0\u001b[39m\n",
            "\u001b[32m+\u001b[39m @typescript-eslint/eslint-plugin \u001b[90m7.3.1\u001b[39m\n",
            "\u001b[32m+\u001b[39m @typescript-eslint/parser \u001b[90m7.3.1\u001b[39m\n",
            "\u001b[32m+\u001b[39m @vscode/vsce \u001b[90m3.2.1\u001b[39m\n",
            "\u001b[32m+\u001b[39m concurrently \u001b[90m8.2.2\u001b[39m\n",
            "\u001b[32m+\u001b[39m dependency-cruiser \u001b[90m16.9.0\u001b[39m\n",
            "\u001b[32m+\u001b[39m esbuild \u001b[90m0.20.2\u001b[39m\n",
            "\u001b[32m+\u001b[39m eslint \u001b[90m8.57.1\u001b[39m\n",
            "\u001b[32m+\u001b[39m http-server \u001b[90m14.1.1\u001b[39m\n",
            "\u001b[32m+\u001b[39m langium-cli \u001b[90m3.3.0\u001b[39m\n",
            "\u001b[32m+\u001b[39m typescript \u001b[90m5.1.6\u001b[39m\n",
            "\u001b[32m+\u001b[39m vite \u001b[90m5.2.14\u001b[39m\n",
            "\u001b[32m+\u001b[39m vitest \u001b[90m1.4.0\u001b[39m\n",
            "\u001b[32m+\u001b[39m vscode <- @codingame/monaco-vscode-api \u001b[90m3.2.3\u001b[39m\n",
            "\u001b[32m+\u001b[39m vscode-languageserver-types \u001b[90m3.17.5\u001b[39m\n",
            "\n",
            "The following dependencies have build scripts that were ignored: @vscode/vsce-sign, esbuild, keytar, tree-sitter, tree-sitter-javascript\n",
            "To allow the execution of build scripts for these packages, add their names to \"pnpm.onlyBuiltDependencies\" in your \"package.json\", then run \"pnpm rebuild\"\n",
            "\n",
            "Done in 5.1s\n",
            "\n",
            "> form-lang@0.0.1 gb /content/Form-Lang\n",
            "> corepack pnpm run langium:generate && corepack pnpm run build\n",
            "\n",
            "\n",
            "> form-lang@0.0.1 langium:generate /content/Form-Lang\n",
            "> langium generate\n",
            "\n",
            "Reading config from \u001b[37m\u001b[1m/content/Form-Lang/langium-config.json\u001b[22m\u001b[39m\n",
            "Writing generated files to \u001b[37m\u001b[1m/content/Form-Lang/src/language/generated\u001b[22m\u001b[39m\n",
            "Writing textmate grammar to \u001b[37m\u001b[1m/content/Form-Lang/syntaxes/form-lang.tmLanguage.json\u001b[22m\u001b[39m\n",
            "Writing monarch grammar to \u001b[37m\u001b[1m/content/Form-Lang/src/syntaxes/form-lang.monarch.ts\u001b[22m\u001b[39m\n",
            "[\u001b[90m13:59:18\u001b[39m] Langium generator finished \u001b[32m\u001b[1msuccessfully\u001b[22m\u001b[39m in 545ms\n",
            "\n",
            "> form-lang@0.0.1 build /content/Form-Lang\n",
            "> tsc -b tsconfig.src.json && node esbuild.mjs\n",
            "\n",
            "[13:59:28] Build succeeded\n",
            "package.json created at /content/Form-Lang/out/cjs/package.json\n",
            "[13:59:28] Build succeeded\n",
            "Building types\n",
            "[13:59:29] Build succeeded\n",
            "package.json created at /content/Form-Lang/out/esm/package.json\n",
            "\n",
            "Declaration emit succeeded.\n"
          ]
        }
      ]
    },
    {
      "cell_type": "code",
      "source": [
        "!cd Form-Lang/ml && pnpm install"
      ],
      "metadata": {
        "colab": {
          "base_uri": "https://localhost:8080/"
        },
        "collapsed": true,
        "id": "WPA2vJdeskqh",
        "outputId": "20f30c58-c8e8-4aa5-9835-c720b22d10a0"
      },
      "id": "WPA2vJdeskqh",
      "execution_count": 25,
      "outputs": [
        {
          "output_type": "stream",
          "name": "stdout",
          "text": [
            "Lockfile is up to date, resolution step is skipped\n",
            "Progress: resolved \u001b[96m1\u001b[39m, reused \u001b[96m0\u001b[39m, downloaded \u001b[96m0\u001b[39m, added \u001b[96m0\u001b[39m\n",
            "\u001b[1APackages: \u001b[32m+69\u001b[39m\u001b[0K\n",
            "\n",
            "Progress: resolved \u001b[96m1\u001b[39m, reused \u001b[96m0\u001b[39m, downloaded \u001b[96m0\u001b[39m, added \u001b[96m0\u001b[39m\n",
            "\u001b[1AProgress: resolved \u001b[96m69\u001b[39m, reused \u001b[96m0\u001b[39m, downloaded \u001b[96m0\u001b[39m, added \u001b[96m0\u001b[39m\n",
            "\u001b[1AProgress: resolved \u001b[96m69\u001b[39m, reused \u001b[96m23\u001b[39m, downloaded \u001b[96m0\u001b[39m, added \u001b[96m0\u001b[39m\n",
            "\u001b[1AProgress: resolved \u001b[96m69\u001b[39m, reused \u001b[96m23\u001b[39m, downloaded \u001b[96m21\u001b[39m, added \u001b[96m33\u001b[39m\n",
            "\u001b[1AProgress: resolved \u001b[96m69\u001b[39m, reused \u001b[96m23\u001b[39m, downloaded \u001b[96m46\u001b[39m, added \u001b[96m69\u001b[39m, done\n",
            "\n",
            "\u001b[96mdependencies:\u001b[39m\n",
            "\u001b[32m+\u001b[39m express \u001b[90m4.21.2\u001b[39m\n",
            "\n",
            "Done in 1.3s\n"
          ]
        }
      ]
    },
    {
      "cell_type": "markdown",
      "source": [
        "#### Run the FormLang HTTP API server"
      ],
      "metadata": {
        "id": "0GvS9UKKrTdw"
      },
      "id": "0GvS9UKKrTdw"
    },
    {
      "cell_type": "code",
      "source": [
        "from subprocess import Popen, PIPE\n",
        "import sys\n",
        "\n",
        "def run_js_with_bun(js_file, cwd=None):\n",
        "  \"\"\"\n",
        "  Runs a JavaScript file using Bun as a subprocess.\n",
        "\n",
        "  Args:\n",
        "    js_file: The path to the JavaScript file.\n",
        "    cwd: The working directory for the child process.\n",
        "         If None, the current working directory is used.\n",
        "  \"\"\"\n",
        "  try:\n",
        "    # Execute the JavaScript file using Bun with specified working directory\n",
        "    process = Popen(['bun', js_file], stdout=PIPE, cwd=cwd)\n",
        "    return process\n",
        "\n",
        "  except FileNotFoundError:\n",
        "    print(\"Error: Bun not found. Please ensure Bun is installed and in your PATH.\")\n",
        "  except Exception as e:\n",
        "    import traceback\n",
        "    traceback.print_exc()\n",
        "    print(\"An unexpected error occurred:\", e)\n",
        "\n",
        "http_server = run_js_with_bun(\"lib_server.cjs\", \"Form-Lang/ml\")\n",
        "http_server"
      ],
      "metadata": {
        "colab": {
          "base_uri": "https://localhost:8080/"
        },
        "id": "4MbS22mIp4Uf",
        "outputId": "b1f8a17d-2d71-4cae-a1cd-dc901ee14aa2"
      },
      "id": "4MbS22mIp4Uf",
      "execution_count": 29,
      "outputs": [
        {
          "output_type": "execute_result",
          "data": {
            "text/plain": [
              "<Popen: returncode: None args: ['bun', 'lib_server.cjs']>"
            ]
          },
          "metadata": {},
          "execution_count": 29
        }
      ]
    },
    {
      "cell_type": "code",
      "source": [
        "!curl -d '{\"sourceCode\": \"component hey{} form helloWorld {comp hey}\"}' -H \"content-type: application/json\" \"http://localhost:3000/compute/ast\""
      ],
      "metadata": {
        "colab": {
          "base_uri": "https://localhost:8080/"
        },
        "id": "hFMW6ykOw9bd",
        "outputId": "ccb63096-4eee-480a-e83f-2be804451859"
      },
      "id": "hFMW6ykOw9bd",
      "execution_count": 55,
      "outputs": [
        {
          "output_type": "stream",
          "name": "stdout",
          "text": [
            "{\"status\":\"ok\",\"result\":{\"ast\":\"{\\\"$type\\\":\\\"Form\\\",\\\"name\\\":\\\"helloWorld\\\",\\\"component\\\":{\\\"$type\\\":\\\"FieldComponentDef\\\",\\\"componentId\\\":{\\\"$ref\\\":\\\"#/components@0\\\"},\\\"componentPropsKeys\\\":[],\\\"componentPropsValues\\\":[]},\\\"children\\\":[]}\"}}"
          ]
        }
      ]
    },
    {
      "cell_type": "markdown",
      "id": "d876cfa3-6129-4884-be8b-bc0c23f4a511",
      "metadata": {
        "id": "d876cfa3-6129-4884-be8b-bc0c23f4a511"
      },
      "source": [
        "## Project imports"
      ]
    },
    {
      "cell_type": "code",
      "execution_count": 56,
      "id": "3a9e9c44-4a3b-494b-bb86-63178d67bdd7",
      "metadata": {
        "id": "3a9e9c44-4a3b-494b-bb86-63178d67bdd7"
      },
      "outputs": [],
      "source": [
        "import asyncio\n",
        "import time\n",
        "import re\n",
        "from pprint import pprint\n",
        "from transformers import pipeline\n",
        "from datasets import Dataset\n",
        "from huggingface_hub import login\n",
        "import pythonmonkey as pm\n",
        "import pandas as pd\n",
        "import requests\n",
        "import torch\n",
        "# If using locally from the `ml` folder\n",
        "# formlang_lib = pm.require(\"../out/cjs/lib/index\")\n",
        "# If using in Colab:\n",
        "formlang_lib = pm.require(\"./Form-Lang/out/cjs/lib/index\")"
      ]
    },
    {
      "cell_type": "markdown",
      "id": "290ca50b-0174-4c0b-9ecc-79f04eb910ad",
      "metadata": {
        "id": "290ca50b-0174-4c0b-9ecc-79f04eb910ad"
      },
      "source": [
        "## Login to Huggingface Hub"
      ]
    },
    {
      "cell_type": "code",
      "execution_count": 39,
      "id": "93c12f91-3626-4985-af97-0d69b4418475",
      "metadata": {
        "colab": {
          "base_uri": "https://localhost:8080/",
          "height": 17,
          "referenced_widgets": [
            "ee85a590cc8e4d989f0645c04095734c",
            "52fef795d6074f99b067f15bc3e5fe3b",
            "a1f82789f45d4d9eb5b27be682f751bd",
            "ac49b94d59574260b3aaf5e51b758efa",
            "53dce855ee7740db86f40581c1526a48",
            "de77af92a65941a9ad58ab8a9bd3528e",
            "d34a6313715c41bdb481df968094b837",
            "b39885cd2b43465b9ff24ecf29babc24",
            "a1ee16963d8a426abcab709f355745cb",
            "fcf3cfaa74b94a74a0bd5d7224718d28",
            "58274e69d94343c6af79919d091f0f43",
            "36f46d963a2f4b27aa740ed9b83a0ee6",
            "a78fef415cf34536b24947c54ea58d23",
            "86527565f70949518c417c87f746d33a",
            "7cabf4927ad14f4b95ded3967a7d546e",
            "18cf2eed3fbb45c38f516d8e5bc08e5d",
            "a23a74f437f740e18deb464d59e16e6a",
            "e59091ad3a8c442297adc38b04197cc4",
            "81c1b01be4074900815e171d0b2a5d9e",
            "a048dac1984d4428bdc6ae1ee4153547"
          ]
        },
        "id": "93c12f91-3626-4985-af97-0d69b4418475",
        "outputId": "997db39f-e13b-4b79-fe04-d001499fa796"
      },
      "outputs": [
        {
          "output_type": "display_data",
          "data": {
            "text/plain": [
              "VBox(children=(HTML(value='<center> <img\\nsrc=https://huggingface.co/front/assets/huggingface_logo-noborder.sv…"
            ],
            "application/vnd.jupyter.widget-view+json": {
              "version_major": 2,
              "version_minor": 0,
              "model_id": "ee85a590cc8e4d989f0645c04095734c"
            }
          },
          "metadata": {}
        }
      ],
      "source": [
        "login()"
      ]
    },
    {
      "cell_type": "markdown",
      "id": "8e22784f-1cb2-4baf-b6ce-8daea69f835e",
      "metadata": {
        "id": "8e22784f-1cb2-4baf-b6ce-8daea69f835e"
      },
      "source": [
        "## Python Monkey helpers"
      ]
    },
    {
      "cell_type": "code",
      "execution_count": 40,
      "id": "eb8eaa24-5aca-4030-93c5-02a9d23c90be",
      "metadata": {
        "id": "eb8eaa24-5aca-4030-93c5-02a9d23c90be"
      },
      "outputs": [],
      "source": [
        "def js_dir(something):\n",
        "    pm.globalThis.console.dir(something)\n",
        "\n",
        "def js_log(something):\n",
        "    pm.globalThis.console.log(something)"
      ]
    },
    {
      "cell_type": "markdown",
      "id": "b9601b8e-70d6-41f9-87be-6c1bfc0aba11",
      "metadata": {
        "id": "b9601b8e-70d6-41f9-87be-6c1bfc0aba11"
      },
      "source": [
        "# Dataset generation"
      ]
    },
    {
      "cell_type": "markdown",
      "id": "5f3f9796-ae92-4448-8759-b7ce7a6ad8d4",
      "metadata": {
        "jp-MarkdownHeadingCollapsed": true,
        "id": "5f3f9796-ae92-4448-8759-b7ce7a6ad8d4"
      },
      "source": [
        "#### Example usage of FormLang library"
      ]
    },
    {
      "cell_type": "code",
      "execution_count": 41,
      "id": "0df7cbd2-fd65-4452-be12-4b3cfbec4fd0",
      "metadata": {
        "id": "0df7cbd2-fd65-4452-be12-4b3cfbec4fd0"
      },
      "outputs": [],
      "source": [
        "form_components = \"\"\"\n",
        "  component userDetailsContainer {}\n",
        "  component formContainer {}\n",
        "  component someOtherContainer {}\n",
        "  component OtherContainer2 {}\n",
        "\"\"\"\n",
        "field_components = \"\"\"\n",
        "  component myTextBox {\n",
        "    props {\n",
        "      textColor\n",
        "      textSize\n",
        "      textWeight\n",
        "      borderColor\n",
        "    }\n",
        "  }\n",
        "  component myCheckbox {\n",
        "    props {\n",
        "      size\n",
        "    }\n",
        "  }\n",
        "  component otherTextBox {}\n",
        "  component counter {\n",
        "    props {\n",
        "      style\n",
        "    }\n",
        "  }\n",
        "\"\"\"\n",
        "\n",
        "form_gen = await formlang_lib.newFormGen(formlang_lib.DEFAULT_GENERATOR_HYPER_PARAMETERS, form_components, field_components)"
      ]
    },
    {
      "cell_type": "code",
      "execution_count": null,
      "id": "13012d90-7bdf-4349-b9e4-1c3f728a6dea",
      "metadata": {
        "id": "13012d90-7bdf-4349-b9e4-1c3f728a6dea"
      },
      "outputs": [],
      "source": [
        "a = form_gen.generateForm()"
      ]
    },
    {
      "cell_type": "code",
      "execution_count": null,
      "id": "c6ba859e-4940-45d5-a4ab-f968078b5263",
      "metadata": {
        "id": "c6ba859e-4940-45d5-a4ab-f968078b5263",
        "outputId": "4930101a-ba03-4120-f324-3f368aeebdea"
      },
      "outputs": [
        {
          "name": "stdout",
          "output_type": "stream",
          "text": [
            "{ \u001b[32m'$type'\u001b[39m: \u001b[32m'Form'\u001b[39m,\n",
            "  name: \u001b[32m'xw'\u001b[39m,\n",
            "  component: \n",
            "   { component: \n",
            "      { \u001b[32m'$type'\u001b[39m: \u001b[32m'ComponentDef'\u001b[39m,\n",
            "        name: \u001b[32m'formContainer'\u001b[39m,\n",
            "        \u001b[32m'$cstNode'\u001b[39m: \u001b[36m[Object]\u001b[39m,\n",
            "        props: [],\n",
            "        \u001b[32m'$container'\u001b[39m: \u001b[36m[Object]\u001b[39m,\n",
            "        \u001b[32m'$containerProperty'\u001b[39m: \u001b[32m'components'\u001b[39m,\n",
            "        \u001b[32m'$containerIndex'\u001b[39m: \u001b[33m1\u001b[39m },\n",
            "     propAssignments: {} },\n",
            "  children: \n",
            "   [ { \u001b[32m'$type'\u001b[39m: \u001b[32m'Field'\u001b[39m,\n",
            "       name: \u001b[32m'c'\u001b[39m,\n",
            "       component: \u001b[36m[Object]\u001b[39m,\n",
            "       state: \u001b[1mnull\u001b[22m,\n",
            "       depth: \u001b[33m1\u001b[39m },\n",
            "     { \u001b[32m'$type'\u001b[39m: \u001b[32m'Field'\u001b[39m,\n",
            "       name: \u001b[32m'e'\u001b[39m,\n",
            "       component: \u001b[36m[Object]\u001b[39m,\n",
            "       state: \u001b[36m[Object]\u001b[39m,\n",
            "       depth: \u001b[33m1\u001b[39m },\n",
            "     { \u001b[32m'$type'\u001b[39m: \u001b[32m'Form'\u001b[39m,\n",
            "       name: \u001b[32m'A'\u001b[39m,\n",
            "       component: \u001b[36m[Object]\u001b[39m,\n",
            "       children: \u001b[36m[Array]\u001b[39m,\n",
            "       depth: \u001b[33m1\u001b[39m },\n",
            "     { \u001b[32m'$type'\u001b[39m: \u001b[32m'Field'\u001b[39m,\n",
            "       name: \u001b[32m'o'\u001b[39m,\n",
            "       component: \u001b[36m[Object]\u001b[39m,\n",
            "       state: \u001b[36m[Object]\u001b[39m,\n",
            "       depth: \u001b[33m1\u001b[39m },\n",
            "     { \u001b[32m'$type'\u001b[39m: \u001b[32m'Field'\u001b[39m,\n",
            "       name: \u001b[32m'pw'\u001b[39m,\n",
            "       component: \u001b[36m[Object]\u001b[39m,\n",
            "       state: \u001b[36m[Object]\u001b[39m,\n",
            "       depth: \u001b[33m1\u001b[39m } ],\n",
            "  depth: \u001b[33m0\u001b[39m }\n"
          ]
        }
      ],
      "source": [
        "js_dir(a)"
      ]
    },
    {
      "cell_type": "code",
      "execution_count": null,
      "id": "522c23bd-6f93-4980-947b-8ba414ec61cf",
      "metadata": {
        "id": "522c23bd-6f93-4980-947b-8ba414ec61cf",
        "outputId": "5cb7b3c3-1e8a-43b9-b8f1-b5782839f4f1"
      },
      "outputs": [
        {
          "name": "stdout",
          "output_type": "stream",
          "text": [
            "Validating model\n"
          ]
        }
      ],
      "source": [
        "fl_obj = await formlang_lib.getFormLangStringParser()(\"\"\"\n",
        "component comp1 {}\n",
        "component comp2 {}\n",
        "form HelloWorld {\n",
        "    comp comp1\n",
        "    field MyField {\n",
        "        comp comp2\n",
        "    }\n",
        "}\n",
        "\"\"\")"
      ]
    },
    {
      "cell_type": "code",
      "execution_count": null,
      "id": "abdffc2b-2bbb-4db5-a132-ac33347ea972",
      "metadata": {
        "id": "abdffc2b-2bbb-4db5-a132-ac33347ea972",
        "outputId": "838077f4-d71c-46cc-aaeb-ed79fcd7cf22"
      },
      "outputs": [
        {
          "data": {
            "text/plain": [
              "False"
            ]
          },
          "execution_count": 20,
          "metadata": {},
          "output_type": "execute_result"
        }
      ],
      "source": [
        "formlang_lib.hasErrors(fl_obj)"
      ]
    },
    {
      "cell_type": "code",
      "execution_count": null,
      "id": "48ef6ac7-69e1-45ca-8a20-d05bc5bd5237",
      "metadata": {
        "id": "48ef6ac7-69e1-45ca-8a20-d05bc5bd5237",
        "outputId": "6623bd8e-bce9-4568-eac7-88e5622790dc"
      },
      "outputs": [
        {
          "name": "stdout",
          "output_type": "stream",
          "text": [
            "{ parseResult: \n",
            "   { value: \n",
            "      { \u001b[32m'$type'\u001b[39m: \u001b[32m'Model'\u001b[39m,\n",
            "        components: \u001b[36m[Array]\u001b[39m,\n",
            "        forms: \u001b[36m[Array]\u001b[39m,\n",
            "        \u001b[32m'$cstNode'\u001b[39m: \u001b[36m[Object]\u001b[39m,\n",
            "        typeDefs: [],\n",
            "        \u001b[32m'$document'\u001b[39m: \u001b[36m[Circular]\u001b[39m },\n",
            "     lexerErrors: [],\n",
            "     lexerReport: { diagnostics: [] },\n",
            "     parserErrors: [] },\n",
            "  uri: \n",
            "   l2 {\n",
            "     scheme: \u001b[32m'file'\u001b[39m,\n",
            "     authority: \u001b[32m''\u001b[39m,\n",
            "     path: \u001b[32m'/10.form'\u001b[39m,\n",
            "     query: \u001b[32m''\u001b[39m,\n",
            "     fragment: \u001b[32m''\u001b[39m,\n",
            "     _formatted: \u001b[32m'file:///10.form'\u001b[39m,\n",
            "     _fsPath: \u001b[1mnull\u001b[22m },\n",
            "  state: \u001b[33m6\u001b[39m,\n",
            "  references: \n",
            "   [ { \u001b[32m'$refNode'\u001b[39m: \u001b[36m[Object]\u001b[39m,\n",
            "       \u001b[32m'$refText'\u001b[39m: \u001b[32m'comp1'\u001b[39m,\n",
            "       ref: \u001b[36m[Getter]\u001b[39m,\n",
            "       \u001b[32m'$nodeDescription'\u001b[39m: \u001b[36m[Getter]\u001b[39m,\n",
            "       error: \u001b[36m[Getter]\u001b[39m,\n",
            "       _ref: \u001b[36m[Object]\u001b[39m,\n",
            "       _nodeDescription: \u001b[36m[Object]\u001b[39m },\n",
            "     { \u001b[32m'$refNode'\u001b[39m: \u001b[36m[Object]\u001b[39m,\n",
            "       \u001b[32m'$refText'\u001b[39m: \u001b[32m'comp2'\u001b[39m,\n",
            "       ref: \u001b[36m[Getter]\u001b[39m,\n",
            "       \u001b[32m'$nodeDescription'\u001b[39m: \u001b[36m[Getter]\u001b[39m,\n",
            "       error: \u001b[36m[Getter]\u001b[39m,\n",
            "       _ref: \u001b[36m[Object]\u001b[39m,\n",
            "       _nodeDescription: \u001b[36m[Object]\u001b[39m } ],\n",
            "  textDocument: \u001b[36m[Getter]\u001b[39m,\n",
            "  precomputedScopes: MultiMap { map: Map { \u001b[36m[Object]\u001b[39m => \u001b[36m[Array]\u001b[39m, \u001b[36m[Object]\u001b[39m => \u001b[36m[Array]\u001b[39m } },\n",
            "  diagnostics: [] }\n"
          ]
        }
      ],
      "source": [
        "js_dir(fl_obj)"
      ]
    },
    {
      "cell_type": "code",
      "execution_count": null,
      "id": "2a0f46d7-f51f-4556-a91b-b7f323d9469a",
      "metadata": {
        "id": "2a0f46d7-f51f-4556-a91b-b7f323d9469a",
        "outputId": "56eeebf7-fb72-4d9f-e69c-2639e060b385"
      },
      "outputs": [
        {
          "data": {
            "text/plain": [
              "'{\"$type\":\"Model\",\"components\":[{\"$type\":\"ComponentDef\",\"name\":\"comp1\",\"props\":[]},{\"$type\":\"ComponentDef\",\"name\":\"comp2\",\"props\":[]}],\"forms\":[{\"$type\":\"Form\",\"name\":\"HelloWorld\",\"component\":{\"$type\":\"FieldComponentDef\",\"componentId\":{\"$ref\":\"#/components@0\"},\"componentPropsKeys\":[],\"componentPropsValues\":[]},\"children\":[{\"$type\":\"Field\",\"name\":\"MyField\",\"component\":{\"$type\":\"FieldComponentDef\",\"componentId\":{\"$ref\":\"#/components@1\"},\"componentPropsKeys\":[],\"componentPropsValues\":[]}}]}],\"typeDefs\":[]}'"
            ]
          },
          "execution_count": 22,
          "metadata": {},
          "output_type": "execute_result"
        }
      ],
      "source": [
        "formlang_lib.serializeAst(fl_obj.parseResult.value, formlang_lib.getServices().FormLang)"
      ]
    },
    {
      "cell_type": "markdown",
      "id": "f121c668-74c8-41e1-8f9a-8f9fa8b001ef",
      "metadata": {
        "id": "f121c668-74c8-41e1-8f9a-8f9fa8b001ef"
      },
      "source": [
        "### Generating the dataset"
      ]
    },
    {
      "cell_type": "markdown",
      "id": "d5cf20e3-7f30-435e-8910-65029528d619",
      "metadata": {
        "id": "d5cf20e3-7f30-435e-8910-65029528d619"
      },
      "source": [
        "We start by creating a ProbabilisticSearchFormGenerator object which is implemented in JavaScript, providing the default search hyper parameters and some Component definitions,\n",
        "later on we will implement a random generator for the component definitions as well."
      ]
    },
    {
      "cell_type": "code",
      "execution_count": 42,
      "id": "fdb52772-4bdb-4c24-b58e-ea9b92502153",
      "metadata": {
        "id": "fdb52772-4bdb-4c24-b58e-ea9b92502153"
      },
      "outputs": [],
      "source": [
        "form_components = \"\"\"\n",
        "  component userDetailsContainer {}\n",
        "  component formContainer {}\n",
        "  component someOtherContainer {}\n",
        "  component OtherContainer2 {}\n",
        "\"\"\"\n",
        "field_components = \"\"\"\n",
        "  component myTextBox {\n",
        "    props {\n",
        "      textColor\n",
        "      textSize\n",
        "      textWeight\n",
        "      borderColor\n",
        "    }\n",
        "  }\n",
        "  component myCheckbox {\n",
        "    props {\n",
        "      size\n",
        "    }\n",
        "  }\n",
        "  component otherTextBox {}\n",
        "  component counter {\n",
        "    props {\n",
        "      style\n",
        "    }\n",
        "  }\n",
        "\"\"\"\n",
        "\n",
        "form_gen = await formlang_lib.newFormGen(formlang_lib.DEFAULT_GENERATOR_HYPER_PARAMETERS, form_components, field_components)"
      ]
    },
    {
      "cell_type": "markdown",
      "id": "ea0978fc-0b8c-47c7-8af5-55dafa848fb8",
      "metadata": {
        "id": "ea0978fc-0b8c-47c7-8af5-55dafa848fb8"
      },
      "source": [
        "#### Computing the expected AST"
      ]
    },
    {
      "cell_type": "markdown",
      "id": "6168af80-35cd-499a-8966-609df6428e00",
      "metadata": {
        "id": "6168af80-35cd-499a-8966-609df6428e00"
      },
      "source": [
        "In order to reliablity measure to model's performance, our KPI will be **AST-Accuracy** which is the accuracy measure with respect to the generated code's AST and the expected code's AST."
      ]
    },
    {
      "cell_type": "code",
      "execution_count": 43,
      "id": "3d5a3c28-6767-4729-8e33-0325b467bf84",
      "metadata": {
        "id": "3d5a3c28-6767-4729-8e33-0325b467bf84"
      },
      "outputs": [],
      "source": [
        "def get_ast(code, shouldCheckErrors=False):\n",
        "    result = requests.post(\"http://localhost:3000/compute/ast\", json={\"sourceCode\": code, \"shouldCheckErrors\":shouldCheckErrors}).json()\n",
        "    if not result[\"status\"] == \"ok\":\n",
        "        raise RuntimeError(\"failed\")\n",
        "    return result[\"result\"]"
      ]
    },
    {
      "cell_type": "markdown",
      "id": "431142f1-0063-48fb-8aba-0a9f92c88e71",
      "metadata": {
        "id": "431142f1-0063-48fb-8aba-0a9f92c88e71"
      },
      "source": [
        "#### Create a data generation loop for the prompt data"
      ]
    },
    {
      "cell_type": "markdown",
      "id": "14256a40-7e47-4d75-a57c-b7c73602e3fa",
      "metadata": {
        "id": "14256a40-7e47-4d75-a57c-b7c73602e3fa"
      },
      "source": [
        "We create a small dataset of 3000 random examples by using the JavaScript FormLang utilities library and the form generator object.\n",
        "We copy from the form generator's output only the relevant fields which will make up the LLM prompt."
      ]
    },
    {
      "cell_type": "code",
      "execution_count": 44,
      "id": "c39a45a8-8098-4a60-b41b-af9e9a4ac223",
      "metadata": {
        "id": "c39a45a8-8098-4a60-b41b-af9e9a4ac223"
      },
      "outputs": [],
      "source": [
        "# TODO - Refactor data generator pipeline as a Python class with easy interfaces\n",
        "\n",
        "def concat_components_code_with_form_code(form_code, form_components, field_components):\n",
        "    \"\"\"Concatenates the form code with the given components code that are referenced inside of it.\"\"\"\n",
        "    return f\"{form_components}\\n{field_components}\\n{form_code}\"\n",
        "\n",
        "def create_prompt_data(generation_result, form_components, field_components):\n",
        "    data = {\n",
        "        \"originalFormCode\": concat_components_code_with_form_code(generation_result[\"serializedForm\"], form_components, field_components),\n",
        "        \"modifiedFormCode\": concat_components_code_with_form_code(generation_result[\"serializedModifiedForm\"], form_components, field_components),\n",
        "        \"removedNodeEnglish\": str(generation_result[\"removedNodeEnglish\"]),\n",
        "        \"removedNodeContextEnglish\": str(generation_result[\"removedNodeContextEnglish\"]),\n",
        "    }\n",
        "    return data\n",
        "\n",
        "def create_random_data(form_gen, form_components, field_components, num_examples=3000):\n",
        "    start_time = time.time()\n",
        "    DATA = []\n",
        "    for i in range(num_examples):\n",
        "        generation_result = formlang_lib.generateRandomFormWithModification(form_gen)\n",
        "        prompt_data = create_prompt_data(generation_result, form_components, field_components)\n",
        "        DATA.append(prompt_data)\n",
        "    # Generate the ast of each example in one batch\n",
        "    ast_time = time.time()\n",
        "    for example in DATA:\n",
        "        resp = get_ast(example[\"originalFormCode\"], True)\n",
        "        errors = resp.get('errors', [])\n",
        "        if len(errors) > 0:\n",
        "            print(f\"Error parsing generated code\", errors)\n",
        "            raise RuntimeError(\"Error parsing generated code\")\n",
        "        example[\"originalFormAst\"] = resp[\"ast\"]\n",
        "    end_time = time.time()\n",
        "    print(f\"Generation took {end_time - start_time} seconds. Total Ast generation time {end_time - ast_time} seconds\")\n",
        "    return pd.DataFrame(DATA)"
      ]
    },
    {
      "cell_type": "code",
      "execution_count": 45,
      "id": "d2155ee7-8286-4e5a-8881-b72b7bb51197",
      "metadata": {
        "colab": {
          "base_uri": "https://localhost:8080/",
          "height": 224
        },
        "id": "d2155ee7-8286-4e5a-8881-b72b7bb51197",
        "outputId": "979c7be1-caf9-4bca-a6c2-7edf3fd55573"
      },
      "outputs": [
        {
          "output_type": "stream",
          "name": "stdout",
          "text": [
            "Generation took 48.5854971408844 seconds. Total Ast generation time 47.7074978351593 seconds\n"
          ]
        },
        {
          "output_type": "execute_result",
          "data": {
            "text/plain": [
              "                                    originalFormCode  \\\n",
              "0  \\n  component userDetailsContainer {}\\n  compo...   \n",
              "1  \\n  component userDetailsContainer {}\\n  compo...   \n",
              "2  \\n  component userDetailsContainer {}\\n  compo...   \n",
              "3  \\n  component userDetailsContainer {}\\n  compo...   \n",
              "4  \\n  component userDetailsContainer {}\\n  compo...   \n",
              "\n",
              "                                    modifiedFormCode  \\\n",
              "0  \\n  component userDetailsContainer {}\\n  compo...   \n",
              "1  \\n  component userDetailsContainer {}\\n  compo...   \n",
              "2  \\n  component userDetailsContainer {}\\n  compo...   \n",
              "3  \\n  component userDetailsContainer {}\\n  compo...   \n",
              "4  \\n  component userDetailsContainer {}\\n  compo...   \n",
              "\n",
              "                                  removedNodeEnglish  \\\n",
              "0  \\ta field whose id is 'Z_' with state of type:...   \n",
              "1  \\ta field whose id is 'p_' with state of type:...   \n",
              "2  \\ta field whose id is 'F' using the component ...   \n",
              "3  \\t\\ta field whose id is 'Pww_ww___w' using the...   \n",
              "4  \\ta field whose id is 'nw' with state of type:...   \n",
              "\n",
              "                           removedNodeContextEnglish  \\\n",
              "0  * is a child of the form whose id is 'Bw'.\\n* ...   \n",
              "1  * is a child of the form whose id is 'Cw'.\\n* ...   \n",
              "2  * is a child of the form whose id is 'Vw'.\\n* ...   \n",
              "3  * is a child of the form whose id is 'd'.\\n* i...   \n",
              "4  * is a child of the form whose id is 'a_'.\\n* ...   \n",
              "\n",
              "                                     originalFormAst  \n",
              "0  {\"$type\":\"Form\",\"name\":\"Bw\",\"component\":{\"$typ...  \n",
              "1  {\"$type\":\"Form\",\"name\":\"Cw\",\"component\":{\"$typ...  \n",
              "2  {\"$type\":\"Form\",\"name\":\"Vw\",\"component\":{\"$typ...  \n",
              "3  {\"$type\":\"Form\",\"name\":\"Lw\",\"component\":{\"$typ...  \n",
              "4  {\"$type\":\"Form\",\"name\":\"a_\",\"component\":{\"$typ...  "
            ],
            "text/html": [
              "\n",
              "  <div id=\"df-7b9ad215-8fba-412c-b1e0-6cc937b4b5aa\" class=\"colab-df-container\">\n",
              "    <div>\n",
              "<style scoped>\n",
              "    .dataframe tbody tr th:only-of-type {\n",
              "        vertical-align: middle;\n",
              "    }\n",
              "\n",
              "    .dataframe tbody tr th {\n",
              "        vertical-align: top;\n",
              "    }\n",
              "\n",
              "    .dataframe thead th {\n",
              "        text-align: right;\n",
              "    }\n",
              "</style>\n",
              "<table border=\"1\" class=\"dataframe\">\n",
              "  <thead>\n",
              "    <tr style=\"text-align: right;\">\n",
              "      <th></th>\n",
              "      <th>originalFormCode</th>\n",
              "      <th>modifiedFormCode</th>\n",
              "      <th>removedNodeEnglish</th>\n",
              "      <th>removedNodeContextEnglish</th>\n",
              "      <th>originalFormAst</th>\n",
              "    </tr>\n",
              "  </thead>\n",
              "  <tbody>\n",
              "    <tr>\n",
              "      <th>0</th>\n",
              "      <td>\\n  component userDetailsContainer {}\\n  compo...</td>\n",
              "      <td>\\n  component userDetailsContainer {}\\n  compo...</td>\n",
              "      <td>\\ta field whose id is 'Z_' with state of type:...</td>\n",
              "      <td>* is a child of the form whose id is 'Bw'.\\n* ...</td>\n",
              "      <td>{\"$type\":\"Form\",\"name\":\"Bw\",\"component\":{\"$typ...</td>\n",
              "    </tr>\n",
              "    <tr>\n",
              "      <th>1</th>\n",
              "      <td>\\n  component userDetailsContainer {}\\n  compo...</td>\n",
              "      <td>\\n  component userDetailsContainer {}\\n  compo...</td>\n",
              "      <td>\\ta field whose id is 'p_' with state of type:...</td>\n",
              "      <td>* is a child of the form whose id is 'Cw'.\\n* ...</td>\n",
              "      <td>{\"$type\":\"Form\",\"name\":\"Cw\",\"component\":{\"$typ...</td>\n",
              "    </tr>\n",
              "    <tr>\n",
              "      <th>2</th>\n",
              "      <td>\\n  component userDetailsContainer {}\\n  compo...</td>\n",
              "      <td>\\n  component userDetailsContainer {}\\n  compo...</td>\n",
              "      <td>\\ta field whose id is 'F' using the component ...</td>\n",
              "      <td>* is a child of the form whose id is 'Vw'.\\n* ...</td>\n",
              "      <td>{\"$type\":\"Form\",\"name\":\"Vw\",\"component\":{\"$typ...</td>\n",
              "    </tr>\n",
              "    <tr>\n",
              "      <th>3</th>\n",
              "      <td>\\n  component userDetailsContainer {}\\n  compo...</td>\n",
              "      <td>\\n  component userDetailsContainer {}\\n  compo...</td>\n",
              "      <td>\\t\\ta field whose id is 'Pww_ww___w' using the...</td>\n",
              "      <td>* is a child of the form whose id is 'd'.\\n* i...</td>\n",
              "      <td>{\"$type\":\"Form\",\"name\":\"Lw\",\"component\":{\"$typ...</td>\n",
              "    </tr>\n",
              "    <tr>\n",
              "      <th>4</th>\n",
              "      <td>\\n  component userDetailsContainer {}\\n  compo...</td>\n",
              "      <td>\\n  component userDetailsContainer {}\\n  compo...</td>\n",
              "      <td>\\ta field whose id is 'nw' with state of type:...</td>\n",
              "      <td>* is a child of the form whose id is 'a_'.\\n* ...</td>\n",
              "      <td>{\"$type\":\"Form\",\"name\":\"a_\",\"component\":{\"$typ...</td>\n",
              "    </tr>\n",
              "  </tbody>\n",
              "</table>\n",
              "</div>\n",
              "    <div class=\"colab-df-buttons\">\n",
              "\n",
              "  <div class=\"colab-df-container\">\n",
              "    <button class=\"colab-df-convert\" onclick=\"convertToInteractive('df-7b9ad215-8fba-412c-b1e0-6cc937b4b5aa')\"\n",
              "            title=\"Convert this dataframe to an interactive table.\"\n",
              "            style=\"display:none;\">\n",
              "\n",
              "  <svg xmlns=\"http://www.w3.org/2000/svg\" height=\"24px\" viewBox=\"0 -960 960 960\">\n",
              "    <path d=\"M120-120v-720h720v720H120Zm60-500h600v-160H180v160Zm220 220h160v-160H400v160Zm0 220h160v-160H400v160ZM180-400h160v-160H180v160Zm440 0h160v-160H620v160ZM180-180h160v-160H180v160Zm440 0h160v-160H620v160Z\"/>\n",
              "  </svg>\n",
              "    </button>\n",
              "\n",
              "  <style>\n",
              "    .colab-df-container {\n",
              "      display:flex;\n",
              "      gap: 12px;\n",
              "    }\n",
              "\n",
              "    .colab-df-convert {\n",
              "      background-color: #E8F0FE;\n",
              "      border: none;\n",
              "      border-radius: 50%;\n",
              "      cursor: pointer;\n",
              "      display: none;\n",
              "      fill: #1967D2;\n",
              "      height: 32px;\n",
              "      padding: 0 0 0 0;\n",
              "      width: 32px;\n",
              "    }\n",
              "\n",
              "    .colab-df-convert:hover {\n",
              "      background-color: #E2EBFA;\n",
              "      box-shadow: 0px 1px 2px rgba(60, 64, 67, 0.3), 0px 1px 3px 1px rgba(60, 64, 67, 0.15);\n",
              "      fill: #174EA6;\n",
              "    }\n",
              "\n",
              "    .colab-df-buttons div {\n",
              "      margin-bottom: 4px;\n",
              "    }\n",
              "\n",
              "    [theme=dark] .colab-df-convert {\n",
              "      background-color: #3B4455;\n",
              "      fill: #D2E3FC;\n",
              "    }\n",
              "\n",
              "    [theme=dark] .colab-df-convert:hover {\n",
              "      background-color: #434B5C;\n",
              "      box-shadow: 0px 1px 3px 1px rgba(0, 0, 0, 0.15);\n",
              "      filter: drop-shadow(0px 1px 2px rgba(0, 0, 0, 0.3));\n",
              "      fill: #FFFFFF;\n",
              "    }\n",
              "  </style>\n",
              "\n",
              "    <script>\n",
              "      const buttonEl =\n",
              "        document.querySelector('#df-7b9ad215-8fba-412c-b1e0-6cc937b4b5aa button.colab-df-convert');\n",
              "      buttonEl.style.display =\n",
              "        google.colab.kernel.accessAllowed ? 'block' : 'none';\n",
              "\n",
              "      async function convertToInteractive(key) {\n",
              "        const element = document.querySelector('#df-7b9ad215-8fba-412c-b1e0-6cc937b4b5aa');\n",
              "        const dataTable =\n",
              "          await google.colab.kernel.invokeFunction('convertToInteractive',\n",
              "                                                    [key], {});\n",
              "        if (!dataTable) return;\n",
              "\n",
              "        const docLinkHtml = 'Like what you see? Visit the ' +\n",
              "          '<a target=\"_blank\" href=https://colab.research.google.com/notebooks/data_table.ipynb>data table notebook</a>'\n",
              "          + ' to learn more about interactive tables.';\n",
              "        element.innerHTML = '';\n",
              "        dataTable['output_type'] = 'display_data';\n",
              "        await google.colab.output.renderOutput(dataTable, element);\n",
              "        const docLink = document.createElement('div');\n",
              "        docLink.innerHTML = docLinkHtml;\n",
              "        element.appendChild(docLink);\n",
              "      }\n",
              "    </script>\n",
              "  </div>\n",
              "\n",
              "\n",
              "<div id=\"df-e1974187-994c-4ba0-8cbe-f3cafd0ff845\">\n",
              "  <button class=\"colab-df-quickchart\" onclick=\"quickchart('df-e1974187-994c-4ba0-8cbe-f3cafd0ff845')\"\n",
              "            title=\"Suggest charts\"\n",
              "            style=\"display:none;\">\n",
              "\n",
              "<svg xmlns=\"http://www.w3.org/2000/svg\" height=\"24px\"viewBox=\"0 0 24 24\"\n",
              "     width=\"24px\">\n",
              "    <g>\n",
              "        <path d=\"M19 3H5c-1.1 0-2 .9-2 2v14c0 1.1.9 2 2 2h14c1.1 0 2-.9 2-2V5c0-1.1-.9-2-2-2zM9 17H7v-7h2v7zm4 0h-2V7h2v10zm4 0h-2v-4h2v4z\"/>\n",
              "    </g>\n",
              "</svg>\n",
              "  </button>\n",
              "\n",
              "<style>\n",
              "  .colab-df-quickchart {\n",
              "      --bg-color: #E8F0FE;\n",
              "      --fill-color: #1967D2;\n",
              "      --hover-bg-color: #E2EBFA;\n",
              "      --hover-fill-color: #174EA6;\n",
              "      --disabled-fill-color: #AAA;\n",
              "      --disabled-bg-color: #DDD;\n",
              "  }\n",
              "\n",
              "  [theme=dark] .colab-df-quickchart {\n",
              "      --bg-color: #3B4455;\n",
              "      --fill-color: #D2E3FC;\n",
              "      --hover-bg-color: #434B5C;\n",
              "      --hover-fill-color: #FFFFFF;\n",
              "      --disabled-bg-color: #3B4455;\n",
              "      --disabled-fill-color: #666;\n",
              "  }\n",
              "\n",
              "  .colab-df-quickchart {\n",
              "    background-color: var(--bg-color);\n",
              "    border: none;\n",
              "    border-radius: 50%;\n",
              "    cursor: pointer;\n",
              "    display: none;\n",
              "    fill: var(--fill-color);\n",
              "    height: 32px;\n",
              "    padding: 0;\n",
              "    width: 32px;\n",
              "  }\n",
              "\n",
              "  .colab-df-quickchart:hover {\n",
              "    background-color: var(--hover-bg-color);\n",
              "    box-shadow: 0 1px 2px rgba(60, 64, 67, 0.3), 0 1px 3px 1px rgba(60, 64, 67, 0.15);\n",
              "    fill: var(--button-hover-fill-color);\n",
              "  }\n",
              "\n",
              "  .colab-df-quickchart-complete:disabled,\n",
              "  .colab-df-quickchart-complete:disabled:hover {\n",
              "    background-color: var(--disabled-bg-color);\n",
              "    fill: var(--disabled-fill-color);\n",
              "    box-shadow: none;\n",
              "  }\n",
              "\n",
              "  .colab-df-spinner {\n",
              "    border: 2px solid var(--fill-color);\n",
              "    border-color: transparent;\n",
              "    border-bottom-color: var(--fill-color);\n",
              "    animation:\n",
              "      spin 1s steps(1) infinite;\n",
              "  }\n",
              "\n",
              "  @keyframes spin {\n",
              "    0% {\n",
              "      border-color: transparent;\n",
              "      border-bottom-color: var(--fill-color);\n",
              "      border-left-color: var(--fill-color);\n",
              "    }\n",
              "    20% {\n",
              "      border-color: transparent;\n",
              "      border-left-color: var(--fill-color);\n",
              "      border-top-color: var(--fill-color);\n",
              "    }\n",
              "    30% {\n",
              "      border-color: transparent;\n",
              "      border-left-color: var(--fill-color);\n",
              "      border-top-color: var(--fill-color);\n",
              "      border-right-color: var(--fill-color);\n",
              "    }\n",
              "    40% {\n",
              "      border-color: transparent;\n",
              "      border-right-color: var(--fill-color);\n",
              "      border-top-color: var(--fill-color);\n",
              "    }\n",
              "    60% {\n",
              "      border-color: transparent;\n",
              "      border-right-color: var(--fill-color);\n",
              "    }\n",
              "    80% {\n",
              "      border-color: transparent;\n",
              "      border-right-color: var(--fill-color);\n",
              "      border-bottom-color: var(--fill-color);\n",
              "    }\n",
              "    90% {\n",
              "      border-color: transparent;\n",
              "      border-bottom-color: var(--fill-color);\n",
              "    }\n",
              "  }\n",
              "</style>\n",
              "\n",
              "  <script>\n",
              "    async function quickchart(key) {\n",
              "      const quickchartButtonEl =\n",
              "        document.querySelector('#' + key + ' button');\n",
              "      quickchartButtonEl.disabled = true;  // To prevent multiple clicks.\n",
              "      quickchartButtonEl.classList.add('colab-df-spinner');\n",
              "      try {\n",
              "        const charts = await google.colab.kernel.invokeFunction(\n",
              "            'suggestCharts', [key], {});\n",
              "      } catch (error) {\n",
              "        console.error('Error during call to suggestCharts:', error);\n",
              "      }\n",
              "      quickchartButtonEl.classList.remove('colab-df-spinner');\n",
              "      quickchartButtonEl.classList.add('colab-df-quickchart-complete');\n",
              "    }\n",
              "    (() => {\n",
              "      let quickchartButtonEl =\n",
              "        document.querySelector('#df-e1974187-994c-4ba0-8cbe-f3cafd0ff845 button');\n",
              "      quickchartButtonEl.style.display =\n",
              "        google.colab.kernel.accessAllowed ? 'block' : 'none';\n",
              "    })();\n",
              "  </script>\n",
              "</div>\n",
              "\n",
              "    </div>\n",
              "  </div>\n"
            ],
            "application/vnd.google.colaboratory.intrinsic+json": {
              "type": "dataframe",
              "variable_name": "examples",
              "summary": "{\n  \"name\": \"examples\",\n  \"rows\": 3000,\n  \"fields\": [\n    {\n      \"column\": \"originalFormCode\",\n      \"properties\": {\n        \"dtype\": \"string\",\n        \"num_unique_values\": 3000,\n        \"samples\": [\n          \"\\n  component userDetailsContainer {}\\n  component formContainer {}\\n  component someOtherContainer {}\\n  component OtherContainer2 {}\\n\\n\\n  component myTextBox {\\n    props {\\n      textColor\\n      textSize\\n      textWeight\\n      borderColor\\n    }\\n  }\\n  component myCheckbox {\\n    props {\\n      size\\n    }\\n  }\\n  component otherTextBox {}\\n  component counter {\\n    props {\\n      style\\n    }\\n  }\\n\\nform Ew {\\n\\tcomp userDetailsContainer \\n\\t\\n\\tfield O_ {\\n\\t\\tstate string[]\\n\\t\\tcomp counter \\n\\t\\t\\n\\t}\\n\\tfield k_ {\\n\\t\\tcomp otherTextBox \\n\\t\\t\\n\\t}\\n\\tfield Kw {\\n\\t\\tcomp myTextBox \\n\\t\\t\\n\\t}\\n\\tfield Yww {\\n\\t\\tstate string default \\\"'Cesar Kihn'\\\" as expression\\n\\t\\tcomp counter style=\\\"#493826\\\"\\n\\t\\t\\n\\t}\\n}\\n\",\n          \"\\n  component userDetailsContainer {}\\n  component formContainer {}\\n  component someOtherContainer {}\\n  component OtherContainer2 {}\\n\\n\\n  component myTextBox {\\n    props {\\n      textColor\\n      textSize\\n      textWeight\\n      borderColor\\n    }\\n  }\\n  component myCheckbox {\\n    props {\\n      size\\n    }\\n  }\\n  component otherTextBox {}\\n  component counter {\\n    props {\\n      style\\n    }\\n  }\\n\\nform bww {\\n\\tcomp userDetailsContainer \\n\\t\\n\\tform P__ww {\\n\\t\\tcomp formContainer \\n\\t\\t\\n\\t\\tfield Bw_ww__ww {\\n\\t\\t\\tstate boolean default \\\"false\\\" as expression\\n\\t\\t\\tcomp myCheckbox size=\\\"'hello'.replace('l', 'L')\\\" as expression\\n\\t\\t\\t\\n\\t\\t}\\n\\t\\tform d {\\n\\t\\t\\tcomp OtherContainer2 \\n\\t\\t\\t\\n\\t\\t\\tfield sw {\\n\\t\\t\\t\\tstate boolean default \\\"true\\\" as expression\\n\\t\\t\\t\\tcomp otherTextBox \\n\\t\\t\\t\\t\\n\\t\\t\\t}\\n\\t\\t\\tfield Sw {\\n\\t\\t\\t\\tcomp myCheckbox size=\\\"'Hello'.toLowerCase()\\\" as expression\\n\\t\\t\\t\\t\\n\\t\\t\\t}\\n\\t\\t}\\n\\n\\t\\tfield hw {\\n\\t\\t\\tcomp myCheckbox size=\\\"#53736e\\\"\\n\\t\\t\\t\\n\\t\\t}\\n\\t\\tfield c {\\n\\t\\t\\tstate boolean default \\\"false\\\" as expression\\n\\t\\t\\tcomp myCheckbox size=\\\"#281537\\\"\\n\\t\\t\\t\\n\\t\\t}\\n\\t\\tfield a_ {\\n\\t\\t\\tstate string default \\\"Pauline Ortiz\\\"\\n\\t\\t\\tcomp myCheckbox \\n\\t\\t\\t\\n\\t\\t}\\n\\t\\tfield Iw_ {\\n\\t\\t\\tstate string\\n\\t\\t\\tcomp myCheckbox \\n\\t\\t\\t\\n\\t\\t}\\n\\t}\\n\\n\\tfield i_ {\\n\\t\\tstate string\\n\\t\\tcomp otherTextBox \\n\\t\\t\\n\\t}\\n}\\n\",\n          \"\\n  component userDetailsContainer {}\\n  component formContainer {}\\n  component someOtherContainer {}\\n  component OtherContainer2 {}\\n\\n\\n  component myTextBox {\\n    props {\\n      textColor\\n      textSize\\n      textWeight\\n      borderColor\\n    }\\n  }\\n  component myCheckbox {\\n    props {\\n      size\\n    }\\n  }\\n  component otherTextBox {}\\n  component counter {\\n    props {\\n      style\\n    }\\n  }\\n\\nform f {\\n\\tcomp userDetailsContainer \\n\\t\\n\\tfield o {\\n\\t\\tstate string default \\\"Jodi O'Kon\\\"\\n\\t\\tcomp myCheckbox \\n\\t\\t\\n\\t}\\n\\tfield Dw {\\n\\t\\tcomp otherTextBox \\n\\t\\t\\n\\t}\\n}\\n\"\n        ],\n        \"semantic_type\": \"\",\n        \"description\": \"\"\n      }\n    },\n    {\n      \"column\": \"modifiedFormCode\",\n      \"properties\": {\n        \"dtype\": \"string\",\n        \"num_unique_values\": 2928,\n        \"samples\": [\n          \"\\n  component userDetailsContainer {}\\n  component formContainer {}\\n  component someOtherContainer {}\\n  component OtherContainer2 {}\\n\\n\\n  component myTextBox {\\n    props {\\n      textColor\\n      textSize\\n      textWeight\\n      borderColor\\n    }\\n  }\\n  component myCheckbox {\\n    props {\\n      size\\n    }\\n  }\\n  component otherTextBox {}\\n  component counter {\\n    props {\\n      style\\n    }\\n  }\\n\\nform m {\\n\\tcomp OtherContainer2 \\n\\t\\n\\tfield k {\\n\\t\\tstate number[]\\n\\t\\tcomp myCheckbox size=\\\"2 ** 4\\\" as expression\\n\\t\\t\\n\\t}\\n}\\n\",\n          \"\\n  component userDetailsContainer {}\\n  component formContainer {}\\n  component someOtherContainer {}\\n  component OtherContainer2 {}\\n\\n\\n  component myTextBox {\\n    props {\\n      textColor\\n      textSize\\n      textWeight\\n      borderColor\\n    }\\n  }\\n  component myCheckbox {\\n    props {\\n      size\\n    }\\n  }\\n  component otherTextBox {}\\n  component counter {\\n    props {\\n      style\\n    }\\n  }\\n\\nform Uw {\\n\\tcomp formContainer \\n\\t\\n\\tform Pww_w_www {\\n\\t\\tcomp userDetailsContainer \\n\\t\\t\\n\\t\\tfield xw {\\n\\t\\t\\tstate number[] default \\\"[]\\\" as expression\\n\\t\\t\\tcomp myCheckbox \\n\\t\\t\\t\\n\\t\\t}\\n\\t}\\n\\n\\tfield jw {\\n\\t\\tcomp myTextBox textWeight=\\\"[1, 2, 3].splice(1, 1)\\\" as expression textSize=\\\"10 < 20 ? 'yes' : 'no'\\\" as expression\\n\\t\\t\\n\\t}\\n\\tfield Rww_w__ww_w_w___w__w____ {\\n\\t\\tcomp myCheckbox size=\\\"#5e3c15\\\"\\n\\t\\t\\n\\t}\\n\\tfield Tww {\\n\\t\\tstate string\\n\\t\\tcomp otherTextBox \\n\\t\\t\\n\\t}\\n\\tform x_ {\\n\\t\\tcomp OtherContainer2 \\n\\t\\t\\n\\t\\tfield N {\\n\\t\\t\\tcomp myCheckbox size=\\\"#585a41\\\"\\n\\t\\t\\t\\n\\t\\t}\\n\\t\\tfield S {\\n\\t\\t\\tstate number\\n\\t\\t\\tcomp counter \\n\\t\\t\\t\\n\\t\\t}\\n\\t}\\n\\n\\tform rw {\\n\\t\\tcomp OtherContainer2 \\n\\t\\t\\n\\t\\tfield E_w_ww_w_www_ww_ {\\n\\t\\t\\tcomp otherTextBox \\n\\t\\t\\t\\n\\t\\t}\\n\\t}\\n\\n}\\n\",\n          \"\\n  component userDetailsContainer {}\\n  component formContainer {}\\n  component someOtherContainer {}\\n  component OtherContainer2 {}\\n\\n\\n  component myTextBox {\\n    props {\\n      textColor\\n      textSize\\n      textWeight\\n      borderColor\\n    }\\n  }\\n  component myCheckbox {\\n    props {\\n      size\\n    }\\n  }\\n  component otherTextBox {}\\n  component counter {\\n    props {\\n      style\\n    }\\n  }\\n\\nform y {\\n\\tcomp userDetailsContainer \\n\\t\\n\\tform x {\\n\\t\\tcomp OtherContainer2 \\n\\t\\t\\n\\t\\tfield Oww {\\n\\t\\t\\tstate number\\n\\t\\t\\tcomp myCheckbox \\n\\t\\t\\t\\n\\t\\t}\\n\\t\\tfield W_ {\\n\\t\\t\\tstate boolean[] default \\\"[true]\\\" as expression\\n\\t\\t\\tcomp myTextBox borderColor=\\\"1 + 2 * 3\\\" as expression\\n\\t\\t\\t\\n\\t\\t}\\n\\t\\tfield jww_ww {\\n\\t\\t\\tstate string[] default \\\"[\\\\\\\"Nathan Wiegand\\\\\\\",\\\\\\\"Eva Rice\\\\\\\",\\\\\\\"George Gottlieb\\\\\\\"]\\\" as expression\\n\\t\\t\\tcomp counter style=\\\"#6f215d\\\"\\n\\t\\t\\t\\n\\t\\t}\\n\\t\\tfield Sw_wwwwwwwwww {\\n\\t\\t\\tcomp myTextBox borderColor=\\\"#4a7939\\\" textWeight=\\\"#751b20\\\"\\n\\t\\t\\t\\n\\t\\t}\\n\\t}\\n\\n\\tfield G {\\n\\t\\tstate string\\n\\t\\tcomp otherTextBox \\n\\t\\t\\n\\t}\\n\\tfield S_ {\\n\\t\\tstate number\\n\\t\\tcomp otherTextBox \\n\\t\\t\\n\\t}\\n\\tfield h {\\n\\t\\tstate number\\n\\t\\tcomp counter \\n\\t\\t\\n\\t}\\n\\tform J {\\n\\t\\tcomp userDetailsContainer \\n\\t\\t\\n\\n\\t}\\n\\n\\tfield p {\\n\\t\\tcomp myCheckbox size=\\\"#116217\\\"\\n\\t\\t\\n\\t}\\n}\\n\"\n        ],\n        \"semantic_type\": \"\",\n        \"description\": \"\"\n      }\n    },\n    {\n      \"column\": \"removedNodeEnglish\",\n      \"properties\": {\n        \"dtype\": \"string\",\n        \"num_unique_values\": 2925,\n        \"samples\": [\n          \"\\t\\ta field whose id is 'g' with state of type: 'number', and is using the component 'otherTextBox'.\\n\\t\\t\",\n          \"\\ta form whose id is 'u' using the component 'formContainer',with no children.\\n\\t\",\n          \"\\t\\ta field whose id is 'L_w' with state of type: 'number' and its default value is: 0.6831019370482362 (and is passed as an expression), and is using the component 'otherTextBox'.\\n\\t\\t\"\n        ],\n        \"semantic_type\": \"\",\n        \"description\": \"\"\n      }\n    },\n    {\n      \"column\": \"removedNodeContextEnglish\",\n      \"properties\": {\n        \"dtype\": \"string\",\n        \"num_unique_values\": 2729,\n        \"samples\": [\n          \"* is a child of the form whose id is 'dw_'.\\n* is located after the field whose id is 'O'\",\n          \"* is a child of the form whose id is 'ww'.\\n* is located before the field whose id is 'gw'\",\n          \"* is a child of the form whose id is 'E'.\\n* is located between the field whose id is 'Mww' and the field whose id is 'Y_w'\"\n        ],\n        \"semantic_type\": \"\",\n        \"description\": \"\"\n      }\n    },\n    {\n      \"column\": \"originalFormAst\",\n      \"properties\": {\n        \"dtype\": \"string\",\n        \"num_unique_values\": 3000,\n        \"samples\": [\n          \"{\\\"$type\\\":\\\"Form\\\",\\\"name\\\":\\\"Ew\\\",\\\"component\\\":{\\\"$type\\\":\\\"FieldComponentDef\\\",\\\"componentId\\\":{\\\"$ref\\\":\\\"#/components@0\\\"},\\\"componentPropsKeys\\\":[],\\\"componentPropsValues\\\":[]},\\\"children\\\":[{\\\"$type\\\":\\\"Field\\\",\\\"name\\\":\\\"O_\\\",\\\"state\\\":{\\\"$type\\\":\\\"FieldStateDef\\\",\\\"isArray\\\":true,\\\"type\\\":\\\"string\\\"},\\\"component\\\":{\\\"$type\\\":\\\"FieldComponentDef\\\",\\\"componentId\\\":{\\\"$ref\\\":\\\"#/components@7\\\"},\\\"componentPropsKeys\\\":[],\\\"componentPropsValues\\\":[]}},{\\\"$type\\\":\\\"Field\\\",\\\"name\\\":\\\"k_\\\",\\\"component\\\":{\\\"$type\\\":\\\"FieldComponentDef\\\",\\\"componentId\\\":{\\\"$ref\\\":\\\"#/components@6\\\"},\\\"componentPropsKeys\\\":[],\\\"componentPropsValues\\\":[]}},{\\\"$type\\\":\\\"Field\\\",\\\"name\\\":\\\"Kw\\\",\\\"component\\\":{\\\"$type\\\":\\\"FieldComponentDef\\\",\\\"componentId\\\":{\\\"$ref\\\":\\\"#/components@4\\\"},\\\"componentPropsKeys\\\":[],\\\"componentPropsValues\\\":[]}},{\\\"$type\\\":\\\"Field\\\",\\\"name\\\":\\\"Yww\\\",\\\"state\\\":{\\\"$type\\\":\\\"FieldStateDef\\\",\\\"type\\\":\\\"string\\\",\\\"defaultValue\\\":{\\\"$type\\\":\\\"ValueExpression\\\",\\\"value\\\":\\\"'Cesar Kihn'\\\",\\\"isExpression\\\":true},\\\"isArray\\\":false},\\\"component\\\":{\\\"$type\\\":\\\"FieldComponentDef\\\",\\\"componentId\\\":{\\\"$ref\\\":\\\"#/components@7\\\"},\\\"componentPropsKeys\\\":[{\\\"$type\\\":\\\"ComponentPropKey\\\",\\\"key\\\":\\\"style\\\"}],\\\"componentPropsValues\\\":[{\\\"$type\\\":\\\"ValueExpression\\\",\\\"value\\\":\\\"#493826\\\",\\\"isExpression\\\":false}]}}]}\",\n          \"{\\\"$type\\\":\\\"Form\\\",\\\"name\\\":\\\"bww\\\",\\\"component\\\":{\\\"$type\\\":\\\"FieldComponentDef\\\",\\\"componentId\\\":{\\\"$ref\\\":\\\"#/components@0\\\"},\\\"componentPropsKeys\\\":[],\\\"componentPropsValues\\\":[]},\\\"children\\\":[{\\\"$type\\\":\\\"Form\\\",\\\"name\\\":\\\"P__ww\\\",\\\"component\\\":{\\\"$type\\\":\\\"FieldComponentDef\\\",\\\"componentId\\\":{\\\"$ref\\\":\\\"#/components@1\\\"},\\\"componentPropsKeys\\\":[],\\\"componentPropsValues\\\":[]},\\\"children\\\":[{\\\"$type\\\":\\\"Field\\\",\\\"name\\\":\\\"Bw_ww__ww\\\",\\\"state\\\":{\\\"$type\\\":\\\"FieldStateDef\\\",\\\"type\\\":\\\"boolean\\\",\\\"defaultValue\\\":{\\\"$type\\\":\\\"ValueExpression\\\",\\\"value\\\":\\\"false\\\",\\\"isExpression\\\":true},\\\"isArray\\\":false},\\\"component\\\":{\\\"$type\\\":\\\"FieldComponentDef\\\",\\\"componentId\\\":{\\\"$ref\\\":\\\"#/components@5\\\"},\\\"componentPropsKeys\\\":[{\\\"$type\\\":\\\"ComponentPropKey\\\",\\\"key\\\":\\\"size\\\"}],\\\"componentPropsValues\\\":[{\\\"$type\\\":\\\"ValueExpression\\\",\\\"value\\\":\\\"'hello'.replace('l', 'L')\\\",\\\"isExpression\\\":true}]}},{\\\"$type\\\":\\\"Form\\\",\\\"name\\\":\\\"d\\\",\\\"component\\\":{\\\"$type\\\":\\\"FieldComponentDef\\\",\\\"componentId\\\":{\\\"$ref\\\":\\\"#/components@3\\\"},\\\"componentPropsKeys\\\":[],\\\"componentPropsValues\\\":[]},\\\"children\\\":[{\\\"$type\\\":\\\"Field\\\",\\\"name\\\":\\\"sw\\\",\\\"state\\\":{\\\"$type\\\":\\\"FieldStateDef\\\",\\\"type\\\":\\\"boolean\\\",\\\"defaultValue\\\":{\\\"$type\\\":\\\"ValueExpression\\\",\\\"value\\\":\\\"true\\\",\\\"isExpression\\\":true},\\\"isArray\\\":false},\\\"component\\\":{\\\"$type\\\":\\\"FieldComponentDef\\\",\\\"componentId\\\":{\\\"$ref\\\":\\\"#/components@6\\\"},\\\"componentPropsKeys\\\":[],\\\"componentPropsValues\\\":[]}},{\\\"$type\\\":\\\"Field\\\",\\\"name\\\":\\\"Sw\\\",\\\"component\\\":{\\\"$type\\\":\\\"FieldComponentDef\\\",\\\"componentId\\\":{\\\"$ref\\\":\\\"#/components@5\\\"},\\\"componentPropsKeys\\\":[{\\\"$type\\\":\\\"ComponentPropKey\\\",\\\"key\\\":\\\"size\\\"}],\\\"componentPropsValues\\\":[{\\\"$type\\\":\\\"ValueExpression\\\",\\\"value\\\":\\\"'Hello'.toLowerCase()\\\",\\\"isExpression\\\":true}]}}]},{\\\"$type\\\":\\\"Field\\\",\\\"name\\\":\\\"hw\\\",\\\"component\\\":{\\\"$type\\\":\\\"FieldComponentDef\\\",\\\"componentId\\\":{\\\"$ref\\\":\\\"#/components@5\\\"},\\\"componentPropsKeys\\\":[{\\\"$type\\\":\\\"ComponentPropKey\\\",\\\"key\\\":\\\"size\\\"}],\\\"componentPropsValues\\\":[{\\\"$type\\\":\\\"ValueExpression\\\",\\\"value\\\":\\\"#53736e\\\",\\\"isExpression\\\":false}]}},{\\\"$type\\\":\\\"Field\\\",\\\"name\\\":\\\"c\\\",\\\"state\\\":{\\\"$type\\\":\\\"FieldStateDef\\\",\\\"type\\\":\\\"boolean\\\",\\\"defaultValue\\\":{\\\"$type\\\":\\\"ValueExpression\\\",\\\"value\\\":\\\"false\\\",\\\"isExpression\\\":true},\\\"isArray\\\":false},\\\"component\\\":{\\\"$type\\\":\\\"FieldComponentDef\\\",\\\"componentId\\\":{\\\"$ref\\\":\\\"#/components@5\\\"},\\\"componentPropsKeys\\\":[{\\\"$type\\\":\\\"ComponentPropKey\\\",\\\"key\\\":\\\"size\\\"}],\\\"componentPropsValues\\\":[{\\\"$type\\\":\\\"ValueExpression\\\",\\\"value\\\":\\\"#281537\\\",\\\"isExpression\\\":false}]}},{\\\"$type\\\":\\\"Field\\\",\\\"name\\\":\\\"a_\\\",\\\"state\\\":{\\\"$type\\\":\\\"FieldStateDef\\\",\\\"type\\\":\\\"string\\\",\\\"defaultValue\\\":{\\\"$type\\\":\\\"ValueExpression\\\",\\\"value\\\":\\\"Pauline Ortiz\\\",\\\"isExpression\\\":false},\\\"isArray\\\":false},\\\"component\\\":{\\\"$type\\\":\\\"FieldComponentDef\\\",\\\"componentId\\\":{\\\"$ref\\\":\\\"#/components@5\\\"},\\\"componentPropsKeys\\\":[],\\\"componentPropsValues\\\":[]}},{\\\"$type\\\":\\\"Field\\\",\\\"name\\\":\\\"Iw_\\\",\\\"state\\\":{\\\"$type\\\":\\\"FieldStateDef\\\",\\\"type\\\":\\\"string\\\",\\\"isArray\\\":false},\\\"component\\\":{\\\"$type\\\":\\\"FieldComponentDef\\\",\\\"componentId\\\":{\\\"$ref\\\":\\\"#/components@5\\\"},\\\"componentPropsKeys\\\":[],\\\"componentPropsValues\\\":[]}}]},{\\\"$type\\\":\\\"Field\\\",\\\"name\\\":\\\"i_\\\",\\\"state\\\":{\\\"$type\\\":\\\"FieldStateDef\\\",\\\"type\\\":\\\"string\\\",\\\"isArray\\\":false},\\\"component\\\":{\\\"$type\\\":\\\"FieldComponentDef\\\",\\\"componentId\\\":{\\\"$ref\\\":\\\"#/components@6\\\"},\\\"componentPropsKeys\\\":[],\\\"componentPropsValues\\\":[]}}]}\",\n          \"{\\\"$type\\\":\\\"Form\\\",\\\"name\\\":\\\"f\\\",\\\"component\\\":{\\\"$type\\\":\\\"FieldComponentDef\\\",\\\"componentId\\\":{\\\"$ref\\\":\\\"#/components@0\\\"},\\\"componentPropsKeys\\\":[],\\\"componentPropsValues\\\":[]},\\\"children\\\":[{\\\"$type\\\":\\\"Field\\\",\\\"name\\\":\\\"o\\\",\\\"state\\\":{\\\"$type\\\":\\\"FieldStateDef\\\",\\\"type\\\":\\\"string\\\",\\\"defaultValue\\\":{\\\"$type\\\":\\\"ValueExpression\\\",\\\"value\\\":\\\"Jodi O'Kon\\\",\\\"isExpression\\\":false},\\\"isArray\\\":false},\\\"component\\\":{\\\"$type\\\":\\\"FieldComponentDef\\\",\\\"componentId\\\":{\\\"$ref\\\":\\\"#/components@5\\\"},\\\"componentPropsKeys\\\":[],\\\"componentPropsValues\\\":[]}},{\\\"$type\\\":\\\"Field\\\",\\\"name\\\":\\\"Dw\\\",\\\"component\\\":{\\\"$type\\\":\\\"FieldComponentDef\\\",\\\"componentId\\\":{\\\"$ref\\\":\\\"#/components@6\\\"},\\\"componentPropsKeys\\\":[],\\\"componentPropsValues\\\":[]}}]}\"\n        ],\n        \"semantic_type\": \"\",\n        \"description\": \"\"\n      }\n    }\n  ]\n}"
            }
          },
          "metadata": {},
          "execution_count": 45
        }
      ],
      "source": [
        "examples = create_random_data(form_gen, form_components, field_components, 3000)\n",
        "examples.head()"
      ]
    },
    {
      "cell_type": "markdown",
      "id": "af103185-183e-4d5b-b3d1-68777f4553c9",
      "metadata": {
        "jp-MarkdownHeadingCollapsed": true,
        "id": "af103185-183e-4d5b-b3d1-68777f4553c9"
      },
      "source": [
        "##### Example generated FormLang code and its AST"
      ]
    },
    {
      "cell_type": "code",
      "execution_count": 46,
      "id": "6e3ef8c5-5492-4c2a-8cb7-f3ebb49156bf",
      "metadata": {
        "colab": {
          "base_uri": "https://localhost:8080/",
          "height": 105
        },
        "id": "6e3ef8c5-5492-4c2a-8cb7-f3ebb49156bf",
        "outputId": "b3ab3f3a-cadc-4873-870b-d788613c0a67"
      },
      "outputs": [
        {
          "output_type": "execute_result",
          "data": {
            "text/plain": [
              "'\\n  component userDetailsContainer {}\\n  component formContainer {}\\n  component someOtherContainer {}\\n  component OtherContainer2 {}\\n\\n\\n  component myTextBox {\\n    props {\\n      textColor\\n      textSize\\n      textWeight\\n      borderColor\\n    }\\n  }\\n  component myCheckbox {\\n    props {\\n      size\\n    }\\n  }\\n  component otherTextBox {}\\n  component counter {\\n    props {\\n      style\\n    }\\n  }\\n\\nform T_ {\\n\\tcomp userDetailsContainer \\n\\t\\n\\tform H {\\n\\t\\tcomp userDetailsContainer \\n\\t\\t\\n\\t\\tfield Ew {\\n\\t\\t\\tcomp otherTextBox \\n\\t\\t\\t\\n\\t\\t}\\n\\t\\tfield Rw_w {\\n\\t\\t\\tcomp otherTextBox \\n\\t\\t\\t\\n\\t\\t}\\n\\t\\tfield F_ {\\n\\t\\t\\tstate number\\n\\t\\t\\tcomp myTextBox borderColor=\"#301410\" textSize=\"(() => 97.65823852274963)()\" as expression\\n\\t\\t\\t\\n\\t\\t}\\n\\t}\\n\\n\\tfield p___ {\\n\\t\\tcomp otherTextBox \\n\\t\\t\\n\\t}\\n\\tfield vw {\\n\\t\\tstate string default \"Frankie Kessler\"\\n\\t\\tcomp counter style=\"#5b426f\"\\n\\t\\t\\n\\t}\\n\\tfield f {\\n\\t\\tcomp counter \\n\\t\\t\\n\\t}\\n\\tfield q {\\n\\t\\tstate boolean\\n\\t\\tcomp counter style=\"#515f42\"\\n\\t\\t\\n\\t}\\n\\tfield Rw {\\n\\t\\tstate string\\n\\t\\tcomp myTextBox \\n\\t\\t\\n\\t}\\n}\\n'"
            ],
            "application/vnd.google.colaboratory.intrinsic+json": {
              "type": "string"
            }
          },
          "metadata": {},
          "execution_count": 46
        }
      ],
      "source": [
        "examples[\"originalFormCode\"][1132]"
      ]
    },
    {
      "cell_type": "code",
      "execution_count": 47,
      "id": "61cdb18b-bdce-4e20-8df0-f08f6304fceb",
      "metadata": {
        "colab": {
          "base_uri": "https://localhost:8080/",
          "height": 105
        },
        "id": "61cdb18b-bdce-4e20-8df0-f08f6304fceb",
        "outputId": "2a1ec13a-dd0a-41ce-9e49-2dec4d2e1918"
      },
      "outputs": [
        {
          "output_type": "execute_result",
          "data": {
            "text/plain": [
              "'{\"$type\":\"Form\",\"name\":\"T_\",\"component\":{\"$type\":\"FieldComponentDef\",\"componentId\":{\"$ref\":\"#/components@0\"},\"componentPropsKeys\":[],\"componentPropsValues\":[]},\"children\":[{\"$type\":\"Form\",\"name\":\"H\",\"component\":{\"$type\":\"FieldComponentDef\",\"componentId\":{\"$ref\":\"#/components@0\"},\"componentPropsKeys\":[],\"componentPropsValues\":[]},\"children\":[{\"$type\":\"Field\",\"name\":\"Ew\",\"component\":{\"$type\":\"FieldComponentDef\",\"componentId\":{\"$ref\":\"#/components@6\"},\"componentPropsKeys\":[],\"componentPropsValues\":[]}},{\"$type\":\"Field\",\"name\":\"Rw_w\",\"component\":{\"$type\":\"FieldComponentDef\",\"componentId\":{\"$ref\":\"#/components@6\"},\"componentPropsKeys\":[],\"componentPropsValues\":[]}},{\"$type\":\"Field\",\"name\":\"F_\",\"state\":{\"$type\":\"FieldStateDef\",\"type\":\"number\",\"isArray\":false},\"component\":{\"$type\":\"FieldComponentDef\",\"componentId\":{\"$ref\":\"#/components@4\"},\"componentPropsKeys\":[{\"$type\":\"ComponentPropKey\",\"key\":\"borderColor\"},{\"$type\":\"ComponentPropKey\",\"key\":\"textSize\"}],\"componentPropsValues\":[{\"$type\":\"ValueExpression\",\"value\":\"#301410\",\"isExpression\":false},{\"$type\":\"ValueExpression\",\"value\":\"(() => 97.65823852274963)()\",\"isExpression\":true}]}}]},{\"$type\":\"Field\",\"name\":\"p___\",\"component\":{\"$type\":\"FieldComponentDef\",\"componentId\":{\"$ref\":\"#/components@6\"},\"componentPropsKeys\":[],\"componentPropsValues\":[]}},{\"$type\":\"Field\",\"name\":\"vw\",\"state\":{\"$type\":\"FieldStateDef\",\"type\":\"string\",\"defaultValue\":{\"$type\":\"ValueExpression\",\"value\":\"Frankie Kessler\",\"isExpression\":false},\"isArray\":false},\"component\":{\"$type\":\"FieldComponentDef\",\"componentId\":{\"$ref\":\"#/components@7\"},\"componentPropsKeys\":[{\"$type\":\"ComponentPropKey\",\"key\":\"style\"}],\"componentPropsValues\":[{\"$type\":\"ValueExpression\",\"value\":\"#5b426f\",\"isExpression\":false}]}},{\"$type\":\"Field\",\"name\":\"f\",\"component\":{\"$type\":\"FieldComponentDef\",\"componentId\":{\"$ref\":\"#/components@7\"},\"componentPropsKeys\":[],\"componentPropsValues\":[]}},{\"$type\":\"Field\",\"name\":\"q\",\"state\":{\"$type\":\"FieldStateDef\",\"type\":\"boolean\",\"isArray\":false},\"component\":{\"$type\":\"FieldComponentDef\",\"componentId\":{\"$ref\":\"#/components@7\"},\"componentPropsKeys\":[{\"$type\":\"ComponentPropKey\",\"key\":\"style\"}],\"componentPropsValues\":[{\"$type\":\"ValueExpression\",\"value\":\"#515f42\",\"isExpression\":false}]}},{\"$type\":\"Field\",\"name\":\"Rw\",\"state\":{\"$type\":\"FieldStateDef\",\"type\":\"string\",\"isArray\":false},\"component\":{\"$type\":\"FieldComponentDef\",\"componentId\":{\"$ref\":\"#/components@4\"},\"componentPropsKeys\":[],\"componentPropsValues\":[]}}]}'"
            ],
            "application/vnd.google.colaboratory.intrinsic+json": {
              "type": "string"
            }
          },
          "metadata": {},
          "execution_count": 47
        }
      ],
      "source": [
        "examples[\"originalFormAst\"][1132]"
      ]
    },
    {
      "cell_type": "markdown",
      "id": "d8c8e36d-0ee3-4d57-bcd1-212548bdd2f7",
      "metadata": {
        "id": "d8c8e36d-0ee3-4d57-bcd1-212548bdd2f7"
      },
      "source": [
        "### Creating the prompts"
      ]
    },
    {
      "cell_type": "markdown",
      "id": "430307ce-af62-4a25-962d-7a2a7d6214da",
      "metadata": {
        "id": "430307ce-af62-4a25-962d-7a2a7d6214da"
      },
      "source": [
        "We now create the user prompt which will be used to train the LLM.\n",
        "\n",
        "We instruct the LLM to generate the original form (the `serializedForm` column) given the modified form, an English description of the removed node and its surrounding context (describing which element is the Form's parent and which elements are its siblings).\n"
      ]
    },
    {
      "cell_type": "code",
      "execution_count": 48,
      "id": "b4b6667d-4313-4aab-9f4e-03bd9acd00a4",
      "metadata": {
        "id": "b4b6667d-4313-4aab-9f4e-03bd9acd00a4"
      },
      "outputs": [],
      "source": [
        "def get_system_prompt():\n",
        "    return (\n",
        "        \"Your job is to generate valid FormLang code according to the instructions given below:\\n\"\n",
        "            \"Inspect the following FormLang Form definition, the start of the code will be denoted with ```FormLang and its end with ``` .\\n\"\n",
        "            \"After inspection, complete the Form's code according to the given a description of a new form element and a description of its location in the form.\\n\"\n",
        "            \"You may assume that the new form element to be added is always either a 'form' or a 'field'.\\n\"\n",
        "            \"Your output must be valid and compiler-friendly FormLang code only.\\n\"\n",
        "            \"If you are unsure of the FormLang syntax, try to infer it from the form code which is given below as an input.\"\n",
        "            \"Your answer will be evaluated using an AST comparison of your code to the expected code.\\n\"\n",
        "            \"Assume that the input code is valid and requires no modification other than the NEW code you must generate.\\n\"\n",
        "            \"You must output plain FormLang code without any additional text or delimiters.\\n\"\n",
        "            \"You must not change any part of the original input code other than adding the required element.\\n\"\n",
        "    )\n",
        "\n",
        "def create_prompt(row, with_system_prompt=False):\n",
        "    return (get_system_prompt() if with_system_prompt else \"\") + (\n",
        "            \"```FormLang\\n\"\n",
        "            f\"{row['modifiedFormCode']}\\n\"\n",
        "            \"```\\n\"\n",
        "            \"The description of the form element you need to add:\\n\"\n",
        "            f\"{row['removedNodeEnglish']}\\n\"\n",
        "            \"The description of the context in the form where you should add the element:\\n\"\n",
        "            f\"The element to be added:\\n{row['removedNodeContextEnglish']}\\n\"\n",
        "           )\n"
      ]
    },
    {
      "cell_type": "code",
      "execution_count": 49,
      "id": "b8064d9a-d883-43e5-bb7a-81f81929cffd",
      "metadata": {
        "colab": {
          "base_uri": "https://localhost:8080/",
          "height": 293
        },
        "id": "b8064d9a-d883-43e5-bb7a-81f81929cffd",
        "outputId": "509bf67b-a531-4dda-c696-d98f0e0210bc"
      },
      "outputs": [
        {
          "output_type": "execute_result",
          "data": {
            "text/plain": [
              "                                    originalFormCode  \\\n",
              "0  \\n  component userDetailsContainer {}\\n  compo...   \n",
              "1  \\n  component userDetailsContainer {}\\n  compo...   \n",
              "2  \\n  component userDetailsContainer {}\\n  compo...   \n",
              "3  \\n  component userDetailsContainer {}\\n  compo...   \n",
              "4  \\n  component userDetailsContainer {}\\n  compo...   \n",
              "\n",
              "                                    modifiedFormCode  \\\n",
              "0  \\n  component userDetailsContainer {}\\n  compo...   \n",
              "1  \\n  component userDetailsContainer {}\\n  compo...   \n",
              "2  \\n  component userDetailsContainer {}\\n  compo...   \n",
              "3  \\n  component userDetailsContainer {}\\n  compo...   \n",
              "4  \\n  component userDetailsContainer {}\\n  compo...   \n",
              "\n",
              "                                  removedNodeEnglish  \\\n",
              "0  \\ta field whose id is 'Z_' with state of type:...   \n",
              "1  \\ta field whose id is 'p_' with state of type:...   \n",
              "2  \\ta field whose id is 'F' using the component ...   \n",
              "3  \\t\\ta field whose id is 'Pww_ww___w' using the...   \n",
              "4  \\ta field whose id is 'nw' with state of type:...   \n",
              "\n",
              "                           removedNodeContextEnglish  \\\n",
              "0  * is a child of the form whose id is 'Bw'.\\n* ...   \n",
              "1  * is a child of the form whose id is 'Cw'.\\n* ...   \n",
              "2  * is a child of the form whose id is 'Vw'.\\n* ...   \n",
              "3  * is a child of the form whose id is 'd'.\\n* i...   \n",
              "4  * is a child of the form whose id is 'a_'.\\n* ...   \n",
              "\n",
              "                                     originalFormAst  \\\n",
              "0  {\"$type\":\"Form\",\"name\":\"Bw\",\"component\":{\"$typ...   \n",
              "1  {\"$type\":\"Form\",\"name\":\"Cw\",\"component\":{\"$typ...   \n",
              "2  {\"$type\":\"Form\",\"name\":\"Vw\",\"component\":{\"$typ...   \n",
              "3  {\"$type\":\"Form\",\"name\":\"Lw\",\"component\":{\"$typ...   \n",
              "4  {\"$type\":\"Form\",\"name\":\"a_\",\"component\":{\"$typ...   \n",
              "\n",
              "                                          userPrompt  \n",
              "0  ```FormLang\\n\\n  component userDetailsContaine...  \n",
              "1  ```FormLang\\n\\n  component userDetailsContaine...  \n",
              "2  ```FormLang\\n\\n  component userDetailsContaine...  \n",
              "3  ```FormLang\\n\\n  component userDetailsContaine...  \n",
              "4  ```FormLang\\n\\n  component userDetailsContaine...  "
            ],
            "text/html": [
              "\n",
              "  <div id=\"df-41320571-a9d6-404a-91bd-c0d4ff093fe5\" class=\"colab-df-container\">\n",
              "    <div>\n",
              "<style scoped>\n",
              "    .dataframe tbody tr th:only-of-type {\n",
              "        vertical-align: middle;\n",
              "    }\n",
              "\n",
              "    .dataframe tbody tr th {\n",
              "        vertical-align: top;\n",
              "    }\n",
              "\n",
              "    .dataframe thead th {\n",
              "        text-align: right;\n",
              "    }\n",
              "</style>\n",
              "<table border=\"1\" class=\"dataframe\">\n",
              "  <thead>\n",
              "    <tr style=\"text-align: right;\">\n",
              "      <th></th>\n",
              "      <th>originalFormCode</th>\n",
              "      <th>modifiedFormCode</th>\n",
              "      <th>removedNodeEnglish</th>\n",
              "      <th>removedNodeContextEnglish</th>\n",
              "      <th>originalFormAst</th>\n",
              "      <th>userPrompt</th>\n",
              "    </tr>\n",
              "  </thead>\n",
              "  <tbody>\n",
              "    <tr>\n",
              "      <th>0</th>\n",
              "      <td>\\n  component userDetailsContainer {}\\n  compo...</td>\n",
              "      <td>\\n  component userDetailsContainer {}\\n  compo...</td>\n",
              "      <td>\\ta field whose id is 'Z_' with state of type:...</td>\n",
              "      <td>* is a child of the form whose id is 'Bw'.\\n* ...</td>\n",
              "      <td>{\"$type\":\"Form\",\"name\":\"Bw\",\"component\":{\"$typ...</td>\n",
              "      <td>```FormLang\\n\\n  component userDetailsContaine...</td>\n",
              "    </tr>\n",
              "    <tr>\n",
              "      <th>1</th>\n",
              "      <td>\\n  component userDetailsContainer {}\\n  compo...</td>\n",
              "      <td>\\n  component userDetailsContainer {}\\n  compo...</td>\n",
              "      <td>\\ta field whose id is 'p_' with state of type:...</td>\n",
              "      <td>* is a child of the form whose id is 'Cw'.\\n* ...</td>\n",
              "      <td>{\"$type\":\"Form\",\"name\":\"Cw\",\"component\":{\"$typ...</td>\n",
              "      <td>```FormLang\\n\\n  component userDetailsContaine...</td>\n",
              "    </tr>\n",
              "    <tr>\n",
              "      <th>2</th>\n",
              "      <td>\\n  component userDetailsContainer {}\\n  compo...</td>\n",
              "      <td>\\n  component userDetailsContainer {}\\n  compo...</td>\n",
              "      <td>\\ta field whose id is 'F' using the component ...</td>\n",
              "      <td>* is a child of the form whose id is 'Vw'.\\n* ...</td>\n",
              "      <td>{\"$type\":\"Form\",\"name\":\"Vw\",\"component\":{\"$typ...</td>\n",
              "      <td>```FormLang\\n\\n  component userDetailsContaine...</td>\n",
              "    </tr>\n",
              "    <tr>\n",
              "      <th>3</th>\n",
              "      <td>\\n  component userDetailsContainer {}\\n  compo...</td>\n",
              "      <td>\\n  component userDetailsContainer {}\\n  compo...</td>\n",
              "      <td>\\t\\ta field whose id is 'Pww_ww___w' using the...</td>\n",
              "      <td>* is a child of the form whose id is 'd'.\\n* i...</td>\n",
              "      <td>{\"$type\":\"Form\",\"name\":\"Lw\",\"component\":{\"$typ...</td>\n",
              "      <td>```FormLang\\n\\n  component userDetailsContaine...</td>\n",
              "    </tr>\n",
              "    <tr>\n",
              "      <th>4</th>\n",
              "      <td>\\n  component userDetailsContainer {}\\n  compo...</td>\n",
              "      <td>\\n  component userDetailsContainer {}\\n  compo...</td>\n",
              "      <td>\\ta field whose id is 'nw' with state of type:...</td>\n",
              "      <td>* is a child of the form whose id is 'a_'.\\n* ...</td>\n",
              "      <td>{\"$type\":\"Form\",\"name\":\"a_\",\"component\":{\"$typ...</td>\n",
              "      <td>```FormLang\\n\\n  component userDetailsContaine...</td>\n",
              "    </tr>\n",
              "  </tbody>\n",
              "</table>\n",
              "</div>\n",
              "    <div class=\"colab-df-buttons\">\n",
              "\n",
              "  <div class=\"colab-df-container\">\n",
              "    <button class=\"colab-df-convert\" onclick=\"convertToInteractive('df-41320571-a9d6-404a-91bd-c0d4ff093fe5')\"\n",
              "            title=\"Convert this dataframe to an interactive table.\"\n",
              "            style=\"display:none;\">\n",
              "\n",
              "  <svg xmlns=\"http://www.w3.org/2000/svg\" height=\"24px\" viewBox=\"0 -960 960 960\">\n",
              "    <path d=\"M120-120v-720h720v720H120Zm60-500h600v-160H180v160Zm220 220h160v-160H400v160Zm0 220h160v-160H400v160ZM180-400h160v-160H180v160Zm440 0h160v-160H620v160ZM180-180h160v-160H180v160Zm440 0h160v-160H620v160Z\"/>\n",
              "  </svg>\n",
              "    </button>\n",
              "\n",
              "  <style>\n",
              "    .colab-df-container {\n",
              "      display:flex;\n",
              "      gap: 12px;\n",
              "    }\n",
              "\n",
              "    .colab-df-convert {\n",
              "      background-color: #E8F0FE;\n",
              "      border: none;\n",
              "      border-radius: 50%;\n",
              "      cursor: pointer;\n",
              "      display: none;\n",
              "      fill: #1967D2;\n",
              "      height: 32px;\n",
              "      padding: 0 0 0 0;\n",
              "      width: 32px;\n",
              "    }\n",
              "\n",
              "    .colab-df-convert:hover {\n",
              "      background-color: #E2EBFA;\n",
              "      box-shadow: 0px 1px 2px rgba(60, 64, 67, 0.3), 0px 1px 3px 1px rgba(60, 64, 67, 0.15);\n",
              "      fill: #174EA6;\n",
              "    }\n",
              "\n",
              "    .colab-df-buttons div {\n",
              "      margin-bottom: 4px;\n",
              "    }\n",
              "\n",
              "    [theme=dark] .colab-df-convert {\n",
              "      background-color: #3B4455;\n",
              "      fill: #D2E3FC;\n",
              "    }\n",
              "\n",
              "    [theme=dark] .colab-df-convert:hover {\n",
              "      background-color: #434B5C;\n",
              "      box-shadow: 0px 1px 3px 1px rgba(0, 0, 0, 0.15);\n",
              "      filter: drop-shadow(0px 1px 2px rgba(0, 0, 0, 0.3));\n",
              "      fill: #FFFFFF;\n",
              "    }\n",
              "  </style>\n",
              "\n",
              "    <script>\n",
              "      const buttonEl =\n",
              "        document.querySelector('#df-41320571-a9d6-404a-91bd-c0d4ff093fe5 button.colab-df-convert');\n",
              "      buttonEl.style.display =\n",
              "        google.colab.kernel.accessAllowed ? 'block' : 'none';\n",
              "\n",
              "      async function convertToInteractive(key) {\n",
              "        const element = document.querySelector('#df-41320571-a9d6-404a-91bd-c0d4ff093fe5');\n",
              "        const dataTable =\n",
              "          await google.colab.kernel.invokeFunction('convertToInteractive',\n",
              "                                                    [key], {});\n",
              "        if (!dataTable) return;\n",
              "\n",
              "        const docLinkHtml = 'Like what you see? Visit the ' +\n",
              "          '<a target=\"_blank\" href=https://colab.research.google.com/notebooks/data_table.ipynb>data table notebook</a>'\n",
              "          + ' to learn more about interactive tables.';\n",
              "        element.innerHTML = '';\n",
              "        dataTable['output_type'] = 'display_data';\n",
              "        await google.colab.output.renderOutput(dataTable, element);\n",
              "        const docLink = document.createElement('div');\n",
              "        docLink.innerHTML = docLinkHtml;\n",
              "        element.appendChild(docLink);\n",
              "      }\n",
              "    </script>\n",
              "  </div>\n",
              "\n",
              "\n",
              "<div id=\"df-06309696-2758-4581-abb3-3b83b38ce4c0\">\n",
              "  <button class=\"colab-df-quickchart\" onclick=\"quickchart('df-06309696-2758-4581-abb3-3b83b38ce4c0')\"\n",
              "            title=\"Suggest charts\"\n",
              "            style=\"display:none;\">\n",
              "\n",
              "<svg xmlns=\"http://www.w3.org/2000/svg\" height=\"24px\"viewBox=\"0 0 24 24\"\n",
              "     width=\"24px\">\n",
              "    <g>\n",
              "        <path d=\"M19 3H5c-1.1 0-2 .9-2 2v14c0 1.1.9 2 2 2h14c1.1 0 2-.9 2-2V5c0-1.1-.9-2-2-2zM9 17H7v-7h2v7zm4 0h-2V7h2v10zm4 0h-2v-4h2v4z\"/>\n",
              "    </g>\n",
              "</svg>\n",
              "  </button>\n",
              "\n",
              "<style>\n",
              "  .colab-df-quickchart {\n",
              "      --bg-color: #E8F0FE;\n",
              "      --fill-color: #1967D2;\n",
              "      --hover-bg-color: #E2EBFA;\n",
              "      --hover-fill-color: #174EA6;\n",
              "      --disabled-fill-color: #AAA;\n",
              "      --disabled-bg-color: #DDD;\n",
              "  }\n",
              "\n",
              "  [theme=dark] .colab-df-quickchart {\n",
              "      --bg-color: #3B4455;\n",
              "      --fill-color: #D2E3FC;\n",
              "      --hover-bg-color: #434B5C;\n",
              "      --hover-fill-color: #FFFFFF;\n",
              "      --disabled-bg-color: #3B4455;\n",
              "      --disabled-fill-color: #666;\n",
              "  }\n",
              "\n",
              "  .colab-df-quickchart {\n",
              "    background-color: var(--bg-color);\n",
              "    border: none;\n",
              "    border-radius: 50%;\n",
              "    cursor: pointer;\n",
              "    display: none;\n",
              "    fill: var(--fill-color);\n",
              "    height: 32px;\n",
              "    padding: 0;\n",
              "    width: 32px;\n",
              "  }\n",
              "\n",
              "  .colab-df-quickchart:hover {\n",
              "    background-color: var(--hover-bg-color);\n",
              "    box-shadow: 0 1px 2px rgba(60, 64, 67, 0.3), 0 1px 3px 1px rgba(60, 64, 67, 0.15);\n",
              "    fill: var(--button-hover-fill-color);\n",
              "  }\n",
              "\n",
              "  .colab-df-quickchart-complete:disabled,\n",
              "  .colab-df-quickchart-complete:disabled:hover {\n",
              "    background-color: var(--disabled-bg-color);\n",
              "    fill: var(--disabled-fill-color);\n",
              "    box-shadow: none;\n",
              "  }\n",
              "\n",
              "  .colab-df-spinner {\n",
              "    border: 2px solid var(--fill-color);\n",
              "    border-color: transparent;\n",
              "    border-bottom-color: var(--fill-color);\n",
              "    animation:\n",
              "      spin 1s steps(1) infinite;\n",
              "  }\n",
              "\n",
              "  @keyframes spin {\n",
              "    0% {\n",
              "      border-color: transparent;\n",
              "      border-bottom-color: var(--fill-color);\n",
              "      border-left-color: var(--fill-color);\n",
              "    }\n",
              "    20% {\n",
              "      border-color: transparent;\n",
              "      border-left-color: var(--fill-color);\n",
              "      border-top-color: var(--fill-color);\n",
              "    }\n",
              "    30% {\n",
              "      border-color: transparent;\n",
              "      border-left-color: var(--fill-color);\n",
              "      border-top-color: var(--fill-color);\n",
              "      border-right-color: var(--fill-color);\n",
              "    }\n",
              "    40% {\n",
              "      border-color: transparent;\n",
              "      border-right-color: var(--fill-color);\n",
              "      border-top-color: var(--fill-color);\n",
              "    }\n",
              "    60% {\n",
              "      border-color: transparent;\n",
              "      border-right-color: var(--fill-color);\n",
              "    }\n",
              "    80% {\n",
              "      border-color: transparent;\n",
              "      border-right-color: var(--fill-color);\n",
              "      border-bottom-color: var(--fill-color);\n",
              "    }\n",
              "    90% {\n",
              "      border-color: transparent;\n",
              "      border-bottom-color: var(--fill-color);\n",
              "    }\n",
              "  }\n",
              "</style>\n",
              "\n",
              "  <script>\n",
              "    async function quickchart(key) {\n",
              "      const quickchartButtonEl =\n",
              "        document.querySelector('#' + key + ' button');\n",
              "      quickchartButtonEl.disabled = true;  // To prevent multiple clicks.\n",
              "      quickchartButtonEl.classList.add('colab-df-spinner');\n",
              "      try {\n",
              "        const charts = await google.colab.kernel.invokeFunction(\n",
              "            'suggestCharts', [key], {});\n",
              "      } catch (error) {\n",
              "        console.error('Error during call to suggestCharts:', error);\n",
              "      }\n",
              "      quickchartButtonEl.classList.remove('colab-df-spinner');\n",
              "      quickchartButtonEl.classList.add('colab-df-quickchart-complete');\n",
              "    }\n",
              "    (() => {\n",
              "      let quickchartButtonEl =\n",
              "        document.querySelector('#df-06309696-2758-4581-abb3-3b83b38ce4c0 button');\n",
              "      quickchartButtonEl.style.display =\n",
              "        google.colab.kernel.accessAllowed ? 'block' : 'none';\n",
              "    })();\n",
              "  </script>\n",
              "</div>\n",
              "\n",
              "    </div>\n",
              "  </div>\n"
            ],
            "application/vnd.google.colaboratory.intrinsic+json": {
              "type": "dataframe",
              "variable_name": "examples",
              "summary": "{\n  \"name\": \"examples\",\n  \"rows\": 3000,\n  \"fields\": [\n    {\n      \"column\": \"originalFormCode\",\n      \"properties\": {\n        \"dtype\": \"string\",\n        \"num_unique_values\": 3000,\n        \"samples\": [\n          \"\\n  component userDetailsContainer {}\\n  component formContainer {}\\n  component someOtherContainer {}\\n  component OtherContainer2 {}\\n\\n\\n  component myTextBox {\\n    props {\\n      textColor\\n      textSize\\n      textWeight\\n      borderColor\\n    }\\n  }\\n  component myCheckbox {\\n    props {\\n      size\\n    }\\n  }\\n  component otherTextBox {}\\n  component counter {\\n    props {\\n      style\\n    }\\n  }\\n\\nform Ew {\\n\\tcomp userDetailsContainer \\n\\t\\n\\tfield O_ {\\n\\t\\tstate string[]\\n\\t\\tcomp counter \\n\\t\\t\\n\\t}\\n\\tfield k_ {\\n\\t\\tcomp otherTextBox \\n\\t\\t\\n\\t}\\n\\tfield Kw {\\n\\t\\tcomp myTextBox \\n\\t\\t\\n\\t}\\n\\tfield Yww {\\n\\t\\tstate string default \\\"'Cesar Kihn'\\\" as expression\\n\\t\\tcomp counter style=\\\"#493826\\\"\\n\\t\\t\\n\\t}\\n}\\n\",\n          \"\\n  component userDetailsContainer {}\\n  component formContainer {}\\n  component someOtherContainer {}\\n  component OtherContainer2 {}\\n\\n\\n  component myTextBox {\\n    props {\\n      textColor\\n      textSize\\n      textWeight\\n      borderColor\\n    }\\n  }\\n  component myCheckbox {\\n    props {\\n      size\\n    }\\n  }\\n  component otherTextBox {}\\n  component counter {\\n    props {\\n      style\\n    }\\n  }\\n\\nform bww {\\n\\tcomp userDetailsContainer \\n\\t\\n\\tform P__ww {\\n\\t\\tcomp formContainer \\n\\t\\t\\n\\t\\tfield Bw_ww__ww {\\n\\t\\t\\tstate boolean default \\\"false\\\" as expression\\n\\t\\t\\tcomp myCheckbox size=\\\"'hello'.replace('l', 'L')\\\" as expression\\n\\t\\t\\t\\n\\t\\t}\\n\\t\\tform d {\\n\\t\\t\\tcomp OtherContainer2 \\n\\t\\t\\t\\n\\t\\t\\tfield sw {\\n\\t\\t\\t\\tstate boolean default \\\"true\\\" as expression\\n\\t\\t\\t\\tcomp otherTextBox \\n\\t\\t\\t\\t\\n\\t\\t\\t}\\n\\t\\t\\tfield Sw {\\n\\t\\t\\t\\tcomp myCheckbox size=\\\"'Hello'.toLowerCase()\\\" as expression\\n\\t\\t\\t\\t\\n\\t\\t\\t}\\n\\t\\t}\\n\\n\\t\\tfield hw {\\n\\t\\t\\tcomp myCheckbox size=\\\"#53736e\\\"\\n\\t\\t\\t\\n\\t\\t}\\n\\t\\tfield c {\\n\\t\\t\\tstate boolean default \\\"false\\\" as expression\\n\\t\\t\\tcomp myCheckbox size=\\\"#281537\\\"\\n\\t\\t\\t\\n\\t\\t}\\n\\t\\tfield a_ {\\n\\t\\t\\tstate string default \\\"Pauline Ortiz\\\"\\n\\t\\t\\tcomp myCheckbox \\n\\t\\t\\t\\n\\t\\t}\\n\\t\\tfield Iw_ {\\n\\t\\t\\tstate string\\n\\t\\t\\tcomp myCheckbox \\n\\t\\t\\t\\n\\t\\t}\\n\\t}\\n\\n\\tfield i_ {\\n\\t\\tstate string\\n\\t\\tcomp otherTextBox \\n\\t\\t\\n\\t}\\n}\\n\",\n          \"\\n  component userDetailsContainer {}\\n  component formContainer {}\\n  component someOtherContainer {}\\n  component OtherContainer2 {}\\n\\n\\n  component myTextBox {\\n    props {\\n      textColor\\n      textSize\\n      textWeight\\n      borderColor\\n    }\\n  }\\n  component myCheckbox {\\n    props {\\n      size\\n    }\\n  }\\n  component otherTextBox {}\\n  component counter {\\n    props {\\n      style\\n    }\\n  }\\n\\nform f {\\n\\tcomp userDetailsContainer \\n\\t\\n\\tfield o {\\n\\t\\tstate string default \\\"Jodi O'Kon\\\"\\n\\t\\tcomp myCheckbox \\n\\t\\t\\n\\t}\\n\\tfield Dw {\\n\\t\\tcomp otherTextBox \\n\\t\\t\\n\\t}\\n}\\n\"\n        ],\n        \"semantic_type\": \"\",\n        \"description\": \"\"\n      }\n    },\n    {\n      \"column\": \"modifiedFormCode\",\n      \"properties\": {\n        \"dtype\": \"string\",\n        \"num_unique_values\": 2928,\n        \"samples\": [\n          \"\\n  component userDetailsContainer {}\\n  component formContainer {}\\n  component someOtherContainer {}\\n  component OtherContainer2 {}\\n\\n\\n  component myTextBox {\\n    props {\\n      textColor\\n      textSize\\n      textWeight\\n      borderColor\\n    }\\n  }\\n  component myCheckbox {\\n    props {\\n      size\\n    }\\n  }\\n  component otherTextBox {}\\n  component counter {\\n    props {\\n      style\\n    }\\n  }\\n\\nform m {\\n\\tcomp OtherContainer2 \\n\\t\\n\\tfield k {\\n\\t\\tstate number[]\\n\\t\\tcomp myCheckbox size=\\\"2 ** 4\\\" as expression\\n\\t\\t\\n\\t}\\n}\\n\",\n          \"\\n  component userDetailsContainer {}\\n  component formContainer {}\\n  component someOtherContainer {}\\n  component OtherContainer2 {}\\n\\n\\n  component myTextBox {\\n    props {\\n      textColor\\n      textSize\\n      textWeight\\n      borderColor\\n    }\\n  }\\n  component myCheckbox {\\n    props {\\n      size\\n    }\\n  }\\n  component otherTextBox {}\\n  component counter {\\n    props {\\n      style\\n    }\\n  }\\n\\nform Uw {\\n\\tcomp formContainer \\n\\t\\n\\tform Pww_w_www {\\n\\t\\tcomp userDetailsContainer \\n\\t\\t\\n\\t\\tfield xw {\\n\\t\\t\\tstate number[] default \\\"[]\\\" as expression\\n\\t\\t\\tcomp myCheckbox \\n\\t\\t\\t\\n\\t\\t}\\n\\t}\\n\\n\\tfield jw {\\n\\t\\tcomp myTextBox textWeight=\\\"[1, 2, 3].splice(1, 1)\\\" as expression textSize=\\\"10 < 20 ? 'yes' : 'no'\\\" as expression\\n\\t\\t\\n\\t}\\n\\tfield Rww_w__ww_w_w___w__w____ {\\n\\t\\tcomp myCheckbox size=\\\"#5e3c15\\\"\\n\\t\\t\\n\\t}\\n\\tfield Tww {\\n\\t\\tstate string\\n\\t\\tcomp otherTextBox \\n\\t\\t\\n\\t}\\n\\tform x_ {\\n\\t\\tcomp OtherContainer2 \\n\\t\\t\\n\\t\\tfield N {\\n\\t\\t\\tcomp myCheckbox size=\\\"#585a41\\\"\\n\\t\\t\\t\\n\\t\\t}\\n\\t\\tfield S {\\n\\t\\t\\tstate number\\n\\t\\t\\tcomp counter \\n\\t\\t\\t\\n\\t\\t}\\n\\t}\\n\\n\\tform rw {\\n\\t\\tcomp OtherContainer2 \\n\\t\\t\\n\\t\\tfield E_w_ww_w_www_ww_ {\\n\\t\\t\\tcomp otherTextBox \\n\\t\\t\\t\\n\\t\\t}\\n\\t}\\n\\n}\\n\",\n          \"\\n  component userDetailsContainer {}\\n  component formContainer {}\\n  component someOtherContainer {}\\n  component OtherContainer2 {}\\n\\n\\n  component myTextBox {\\n    props {\\n      textColor\\n      textSize\\n      textWeight\\n      borderColor\\n    }\\n  }\\n  component myCheckbox {\\n    props {\\n      size\\n    }\\n  }\\n  component otherTextBox {}\\n  component counter {\\n    props {\\n      style\\n    }\\n  }\\n\\nform y {\\n\\tcomp userDetailsContainer \\n\\t\\n\\tform x {\\n\\t\\tcomp OtherContainer2 \\n\\t\\t\\n\\t\\tfield Oww {\\n\\t\\t\\tstate number\\n\\t\\t\\tcomp myCheckbox \\n\\t\\t\\t\\n\\t\\t}\\n\\t\\tfield W_ {\\n\\t\\t\\tstate boolean[] default \\\"[true]\\\" as expression\\n\\t\\t\\tcomp myTextBox borderColor=\\\"1 + 2 * 3\\\" as expression\\n\\t\\t\\t\\n\\t\\t}\\n\\t\\tfield jww_ww {\\n\\t\\t\\tstate string[] default \\\"[\\\\\\\"Nathan Wiegand\\\\\\\",\\\\\\\"Eva Rice\\\\\\\",\\\\\\\"George Gottlieb\\\\\\\"]\\\" as expression\\n\\t\\t\\tcomp counter style=\\\"#6f215d\\\"\\n\\t\\t\\t\\n\\t\\t}\\n\\t\\tfield Sw_wwwwwwwwww {\\n\\t\\t\\tcomp myTextBox borderColor=\\\"#4a7939\\\" textWeight=\\\"#751b20\\\"\\n\\t\\t\\t\\n\\t\\t}\\n\\t}\\n\\n\\tfield G {\\n\\t\\tstate string\\n\\t\\tcomp otherTextBox \\n\\t\\t\\n\\t}\\n\\tfield S_ {\\n\\t\\tstate number\\n\\t\\tcomp otherTextBox \\n\\t\\t\\n\\t}\\n\\tfield h {\\n\\t\\tstate number\\n\\t\\tcomp counter \\n\\t\\t\\n\\t}\\n\\tform J {\\n\\t\\tcomp userDetailsContainer \\n\\t\\t\\n\\n\\t}\\n\\n\\tfield p {\\n\\t\\tcomp myCheckbox size=\\\"#116217\\\"\\n\\t\\t\\n\\t}\\n}\\n\"\n        ],\n        \"semantic_type\": \"\",\n        \"description\": \"\"\n      }\n    },\n    {\n      \"column\": \"removedNodeEnglish\",\n      \"properties\": {\n        \"dtype\": \"string\",\n        \"num_unique_values\": 2925,\n        \"samples\": [\n          \"\\t\\ta field whose id is 'g' with state of type: 'number', and is using the component 'otherTextBox'.\\n\\t\\t\",\n          \"\\ta form whose id is 'u' using the component 'formContainer',with no children.\\n\\t\",\n          \"\\t\\ta field whose id is 'L_w' with state of type: 'number' and its default value is: 0.6831019370482362 (and is passed as an expression), and is using the component 'otherTextBox'.\\n\\t\\t\"\n        ],\n        \"semantic_type\": \"\",\n        \"description\": \"\"\n      }\n    },\n    {\n      \"column\": \"removedNodeContextEnglish\",\n      \"properties\": {\n        \"dtype\": \"string\",\n        \"num_unique_values\": 2729,\n        \"samples\": [\n          \"* is a child of the form whose id is 'dw_'.\\n* is located after the field whose id is 'O'\",\n          \"* is a child of the form whose id is 'ww'.\\n* is located before the field whose id is 'gw'\",\n          \"* is a child of the form whose id is 'E'.\\n* is located between the field whose id is 'Mww' and the field whose id is 'Y_w'\"\n        ],\n        \"semantic_type\": \"\",\n        \"description\": \"\"\n      }\n    },\n    {\n      \"column\": \"originalFormAst\",\n      \"properties\": {\n        \"dtype\": \"string\",\n        \"num_unique_values\": 3000,\n        \"samples\": [\n          \"{\\\"$type\\\":\\\"Form\\\",\\\"name\\\":\\\"Ew\\\",\\\"component\\\":{\\\"$type\\\":\\\"FieldComponentDef\\\",\\\"componentId\\\":{\\\"$ref\\\":\\\"#/components@0\\\"},\\\"componentPropsKeys\\\":[],\\\"componentPropsValues\\\":[]},\\\"children\\\":[{\\\"$type\\\":\\\"Field\\\",\\\"name\\\":\\\"O_\\\",\\\"state\\\":{\\\"$type\\\":\\\"FieldStateDef\\\",\\\"isArray\\\":true,\\\"type\\\":\\\"string\\\"},\\\"component\\\":{\\\"$type\\\":\\\"FieldComponentDef\\\",\\\"componentId\\\":{\\\"$ref\\\":\\\"#/components@7\\\"},\\\"componentPropsKeys\\\":[],\\\"componentPropsValues\\\":[]}},{\\\"$type\\\":\\\"Field\\\",\\\"name\\\":\\\"k_\\\",\\\"component\\\":{\\\"$type\\\":\\\"FieldComponentDef\\\",\\\"componentId\\\":{\\\"$ref\\\":\\\"#/components@6\\\"},\\\"componentPropsKeys\\\":[],\\\"componentPropsValues\\\":[]}},{\\\"$type\\\":\\\"Field\\\",\\\"name\\\":\\\"Kw\\\",\\\"component\\\":{\\\"$type\\\":\\\"FieldComponentDef\\\",\\\"componentId\\\":{\\\"$ref\\\":\\\"#/components@4\\\"},\\\"componentPropsKeys\\\":[],\\\"componentPropsValues\\\":[]}},{\\\"$type\\\":\\\"Field\\\",\\\"name\\\":\\\"Yww\\\",\\\"state\\\":{\\\"$type\\\":\\\"FieldStateDef\\\",\\\"type\\\":\\\"string\\\",\\\"defaultValue\\\":{\\\"$type\\\":\\\"ValueExpression\\\",\\\"value\\\":\\\"'Cesar Kihn'\\\",\\\"isExpression\\\":true},\\\"isArray\\\":false},\\\"component\\\":{\\\"$type\\\":\\\"FieldComponentDef\\\",\\\"componentId\\\":{\\\"$ref\\\":\\\"#/components@7\\\"},\\\"componentPropsKeys\\\":[{\\\"$type\\\":\\\"ComponentPropKey\\\",\\\"key\\\":\\\"style\\\"}],\\\"componentPropsValues\\\":[{\\\"$type\\\":\\\"ValueExpression\\\",\\\"value\\\":\\\"#493826\\\",\\\"isExpression\\\":false}]}}]}\",\n          \"{\\\"$type\\\":\\\"Form\\\",\\\"name\\\":\\\"bww\\\",\\\"component\\\":{\\\"$type\\\":\\\"FieldComponentDef\\\",\\\"componentId\\\":{\\\"$ref\\\":\\\"#/components@0\\\"},\\\"componentPropsKeys\\\":[],\\\"componentPropsValues\\\":[]},\\\"children\\\":[{\\\"$type\\\":\\\"Form\\\",\\\"name\\\":\\\"P__ww\\\",\\\"component\\\":{\\\"$type\\\":\\\"FieldComponentDef\\\",\\\"componentId\\\":{\\\"$ref\\\":\\\"#/components@1\\\"},\\\"componentPropsKeys\\\":[],\\\"componentPropsValues\\\":[]},\\\"children\\\":[{\\\"$type\\\":\\\"Field\\\",\\\"name\\\":\\\"Bw_ww__ww\\\",\\\"state\\\":{\\\"$type\\\":\\\"FieldStateDef\\\",\\\"type\\\":\\\"boolean\\\",\\\"defaultValue\\\":{\\\"$type\\\":\\\"ValueExpression\\\",\\\"value\\\":\\\"false\\\",\\\"isExpression\\\":true},\\\"isArray\\\":false},\\\"component\\\":{\\\"$type\\\":\\\"FieldComponentDef\\\",\\\"componentId\\\":{\\\"$ref\\\":\\\"#/components@5\\\"},\\\"componentPropsKeys\\\":[{\\\"$type\\\":\\\"ComponentPropKey\\\",\\\"key\\\":\\\"size\\\"}],\\\"componentPropsValues\\\":[{\\\"$type\\\":\\\"ValueExpression\\\",\\\"value\\\":\\\"'hello'.replace('l', 'L')\\\",\\\"isExpression\\\":true}]}},{\\\"$type\\\":\\\"Form\\\",\\\"name\\\":\\\"d\\\",\\\"component\\\":{\\\"$type\\\":\\\"FieldComponentDef\\\",\\\"componentId\\\":{\\\"$ref\\\":\\\"#/components@3\\\"},\\\"componentPropsKeys\\\":[],\\\"componentPropsValues\\\":[]},\\\"children\\\":[{\\\"$type\\\":\\\"Field\\\",\\\"name\\\":\\\"sw\\\",\\\"state\\\":{\\\"$type\\\":\\\"FieldStateDef\\\",\\\"type\\\":\\\"boolean\\\",\\\"defaultValue\\\":{\\\"$type\\\":\\\"ValueExpression\\\",\\\"value\\\":\\\"true\\\",\\\"isExpression\\\":true},\\\"isArray\\\":false},\\\"component\\\":{\\\"$type\\\":\\\"FieldComponentDef\\\",\\\"componentId\\\":{\\\"$ref\\\":\\\"#/components@6\\\"},\\\"componentPropsKeys\\\":[],\\\"componentPropsValues\\\":[]}},{\\\"$type\\\":\\\"Field\\\",\\\"name\\\":\\\"Sw\\\",\\\"component\\\":{\\\"$type\\\":\\\"FieldComponentDef\\\",\\\"componentId\\\":{\\\"$ref\\\":\\\"#/components@5\\\"},\\\"componentPropsKeys\\\":[{\\\"$type\\\":\\\"ComponentPropKey\\\",\\\"key\\\":\\\"size\\\"}],\\\"componentPropsValues\\\":[{\\\"$type\\\":\\\"ValueExpression\\\",\\\"value\\\":\\\"'Hello'.toLowerCase()\\\",\\\"isExpression\\\":true}]}}]},{\\\"$type\\\":\\\"Field\\\",\\\"name\\\":\\\"hw\\\",\\\"component\\\":{\\\"$type\\\":\\\"FieldComponentDef\\\",\\\"componentId\\\":{\\\"$ref\\\":\\\"#/components@5\\\"},\\\"componentPropsKeys\\\":[{\\\"$type\\\":\\\"ComponentPropKey\\\",\\\"key\\\":\\\"size\\\"}],\\\"componentPropsValues\\\":[{\\\"$type\\\":\\\"ValueExpression\\\",\\\"value\\\":\\\"#53736e\\\",\\\"isExpression\\\":false}]}},{\\\"$type\\\":\\\"Field\\\",\\\"name\\\":\\\"c\\\",\\\"state\\\":{\\\"$type\\\":\\\"FieldStateDef\\\",\\\"type\\\":\\\"boolean\\\",\\\"defaultValue\\\":{\\\"$type\\\":\\\"ValueExpression\\\",\\\"value\\\":\\\"false\\\",\\\"isExpression\\\":true},\\\"isArray\\\":false},\\\"component\\\":{\\\"$type\\\":\\\"FieldComponentDef\\\",\\\"componentId\\\":{\\\"$ref\\\":\\\"#/components@5\\\"},\\\"componentPropsKeys\\\":[{\\\"$type\\\":\\\"ComponentPropKey\\\",\\\"key\\\":\\\"size\\\"}],\\\"componentPropsValues\\\":[{\\\"$type\\\":\\\"ValueExpression\\\",\\\"value\\\":\\\"#281537\\\",\\\"isExpression\\\":false}]}},{\\\"$type\\\":\\\"Field\\\",\\\"name\\\":\\\"a_\\\",\\\"state\\\":{\\\"$type\\\":\\\"FieldStateDef\\\",\\\"type\\\":\\\"string\\\",\\\"defaultValue\\\":{\\\"$type\\\":\\\"ValueExpression\\\",\\\"value\\\":\\\"Pauline Ortiz\\\",\\\"isExpression\\\":false},\\\"isArray\\\":false},\\\"component\\\":{\\\"$type\\\":\\\"FieldComponentDef\\\",\\\"componentId\\\":{\\\"$ref\\\":\\\"#/components@5\\\"},\\\"componentPropsKeys\\\":[],\\\"componentPropsValues\\\":[]}},{\\\"$type\\\":\\\"Field\\\",\\\"name\\\":\\\"Iw_\\\",\\\"state\\\":{\\\"$type\\\":\\\"FieldStateDef\\\",\\\"type\\\":\\\"string\\\",\\\"isArray\\\":false},\\\"component\\\":{\\\"$type\\\":\\\"FieldComponentDef\\\",\\\"componentId\\\":{\\\"$ref\\\":\\\"#/components@5\\\"},\\\"componentPropsKeys\\\":[],\\\"componentPropsValues\\\":[]}}]},{\\\"$type\\\":\\\"Field\\\",\\\"name\\\":\\\"i_\\\",\\\"state\\\":{\\\"$type\\\":\\\"FieldStateDef\\\",\\\"type\\\":\\\"string\\\",\\\"isArray\\\":false},\\\"component\\\":{\\\"$type\\\":\\\"FieldComponentDef\\\",\\\"componentId\\\":{\\\"$ref\\\":\\\"#/components@6\\\"},\\\"componentPropsKeys\\\":[],\\\"componentPropsValues\\\":[]}}]}\",\n          \"{\\\"$type\\\":\\\"Form\\\",\\\"name\\\":\\\"f\\\",\\\"component\\\":{\\\"$type\\\":\\\"FieldComponentDef\\\",\\\"componentId\\\":{\\\"$ref\\\":\\\"#/components@0\\\"},\\\"componentPropsKeys\\\":[],\\\"componentPropsValues\\\":[]},\\\"children\\\":[{\\\"$type\\\":\\\"Field\\\",\\\"name\\\":\\\"o\\\",\\\"state\\\":{\\\"$type\\\":\\\"FieldStateDef\\\",\\\"type\\\":\\\"string\\\",\\\"defaultValue\\\":{\\\"$type\\\":\\\"ValueExpression\\\",\\\"value\\\":\\\"Jodi O'Kon\\\",\\\"isExpression\\\":false},\\\"isArray\\\":false},\\\"component\\\":{\\\"$type\\\":\\\"FieldComponentDef\\\",\\\"componentId\\\":{\\\"$ref\\\":\\\"#/components@5\\\"},\\\"componentPropsKeys\\\":[],\\\"componentPropsValues\\\":[]}},{\\\"$type\\\":\\\"Field\\\",\\\"name\\\":\\\"Dw\\\",\\\"component\\\":{\\\"$type\\\":\\\"FieldComponentDef\\\",\\\"componentId\\\":{\\\"$ref\\\":\\\"#/components@6\\\"},\\\"componentPropsKeys\\\":[],\\\"componentPropsValues\\\":[]}}]}\"\n        ],\n        \"semantic_type\": \"\",\n        \"description\": \"\"\n      }\n    },\n    {\n      \"column\": \"userPrompt\",\n      \"properties\": {\n        \"dtype\": \"string\",\n        \"num_unique_values\": 3000,\n        \"samples\": [\n          \"```FormLang\\n\\n  component userDetailsContainer {}\\n  component formContainer {}\\n  component someOtherContainer {}\\n  component OtherContainer2 {}\\n\\n\\n  component myTextBox {\\n    props {\\n      textColor\\n      textSize\\n      textWeight\\n      borderColor\\n    }\\n  }\\n  component myCheckbox {\\n    props {\\n      size\\n    }\\n  }\\n  component otherTextBox {}\\n  component counter {\\n    props {\\n      style\\n    }\\n  }\\n\\nform Ew {\\n\\tcomp userDetailsContainer \\n\\t\\n\\tfield O_ {\\n\\t\\tstate string[]\\n\\t\\tcomp counter \\n\\t\\t\\n\\t}\\n\\tfield Kw {\\n\\t\\tcomp myTextBox \\n\\t\\t\\n\\t}\\n\\tfield Yww {\\n\\t\\tstate string default \\\"'Cesar Kihn'\\\" as expression\\n\\t\\tcomp counter style=\\\"#493826\\\"\\n\\t\\t\\n\\t}\\n}\\n\\n```\\nThe description of the form element you need to add:\\n\\ta field whose id is 'k_' using the component 'otherTextBox'.\\n\\t\\nThe description of the context in the form where you should add the element:\\nThe element to be added:\\n* is a child of the form whose id is 'Ew'.\\n* is located between the field whose id is 'O_' and the field whose id is 'Kw'\\n\",\n          \"```FormLang\\n\\n  component userDetailsContainer {}\\n  component formContainer {}\\n  component someOtherContainer {}\\n  component OtherContainer2 {}\\n\\n\\n  component myTextBox {\\n    props {\\n      textColor\\n      textSize\\n      textWeight\\n      borderColor\\n    }\\n  }\\n  component myCheckbox {\\n    props {\\n      size\\n    }\\n  }\\n  component otherTextBox {}\\n  component counter {\\n    props {\\n      style\\n    }\\n  }\\n\\nform bww {\\n\\tcomp userDetailsContainer \\n\\t\\n\\tform P__ww {\\n\\t\\tcomp formContainer \\n\\t\\t\\n\\t\\tfield Bw_ww__ww {\\n\\t\\t\\tstate boolean default \\\"false\\\" as expression\\n\\t\\t\\tcomp myCheckbox size=\\\"'hello'.replace('l', 'L')\\\" as expression\\n\\t\\t\\t\\n\\t\\t}\\n\\t\\tform d {\\n\\t\\t\\tcomp OtherContainer2 \\n\\t\\t\\t\\n\\t\\t\\tfield sw {\\n\\t\\t\\t\\tstate boolean default \\\"true\\\" as expression\\n\\t\\t\\t\\tcomp otherTextBox \\n\\t\\t\\t\\t\\n\\t\\t\\t}\\n\\t\\t\\tfield Sw {\\n\\t\\t\\t\\tcomp myCheckbox size=\\\"'Hello'.toLowerCase()\\\" as expression\\n\\t\\t\\t\\t\\n\\t\\t\\t}\\n\\t\\t}\\n\\n\\t\\tfield hw {\\n\\t\\t\\tcomp myCheckbox size=\\\"#53736e\\\"\\n\\t\\t\\t\\n\\t\\t}\\n\\t\\tfield c {\\n\\t\\t\\tstate boolean default \\\"false\\\" as expression\\n\\t\\t\\tcomp myCheckbox size=\\\"#281537\\\"\\n\\t\\t\\t\\n\\t\\t}\\n\\t\\tfield a_ {\\n\\t\\t\\tstate string default \\\"Pauline Ortiz\\\"\\n\\t\\t\\tcomp myCheckbox \\n\\t\\t\\t\\n\\t\\t}\\n\\t}\\n\\n\\tfield i_ {\\n\\t\\tstate string\\n\\t\\tcomp otherTextBox \\n\\t\\t\\n\\t}\\n}\\n\\n```\\nThe description of the form element you need to add:\\n\\t\\ta field whose id is 'Iw_' with state of type: 'string', and is using the component 'myCheckbox'.\\n\\t\\t\\nThe description of the context in the form where you should add the element:\\nThe element to be added:\\n* is a child of the form whose id is 'P__ww'.\\n* is located after the field whose id is 'a_'\\n\",\n          \"```FormLang\\n\\n  component userDetailsContainer {}\\n  component formContainer {}\\n  component someOtherContainer {}\\n  component OtherContainer2 {}\\n\\n\\n  component myTextBox {\\n    props {\\n      textColor\\n      textSize\\n      textWeight\\n      borderColor\\n    }\\n  }\\n  component myCheckbox {\\n    props {\\n      size\\n    }\\n  }\\n  component otherTextBox {}\\n  component counter {\\n    props {\\n      style\\n    }\\n  }\\n\\nform f {\\n\\tcomp userDetailsContainer \\n\\t\\n\\tfield o {\\n\\t\\tstate string default \\\"Jodi O'Kon\\\"\\n\\t\\tcomp myCheckbox \\n\\t\\t\\n\\t}\\n}\\n\\n```\\nThe description of the form element you need to add:\\n\\ta field whose id is 'Dw' using the component 'otherTextBox'.\\n\\t\\nThe description of the context in the form where you should add the element:\\nThe element to be added:\\n* is a child of the form whose id is 'f'.\\n* is located after the field whose id is 'o'\\n\"\n        ],\n        \"semantic_type\": \"\",\n        \"description\": \"\"\n      }\n    }\n  ]\n}"
            }
          },
          "metadata": {},
          "execution_count": 49
        }
      ],
      "source": [
        "examples[\"userPrompt\"] = examples.apply(create_prompt, axis=1)\n",
        "examples.head()"
      ]
    },
    {
      "cell_type": "markdown",
      "id": "da77e0c2-5a84-46e3-8f99-c5dc5918ca4e",
      "metadata": {
        "jp-MarkdownHeadingCollapsed": true,
        "id": "da77e0c2-5a84-46e3-8f99-c5dc5918ca4e"
      },
      "source": [
        "##### Example User Prompt vs. original Code"
      ]
    },
    {
      "cell_type": "code",
      "execution_count": 50,
      "id": "ba3b7e13-2753-4da3-86f2-594704d2d56a",
      "metadata": {
        "colab": {
          "base_uri": "https://localhost:8080/"
        },
        "id": "ba3b7e13-2753-4da3-86f2-594704d2d56a",
        "outputId": "32889869-25c6-4366-db40-9d9e4161df0c"
      },
      "outputs": [
        {
          "output_type": "stream",
          "name": "stdout",
          "text": [
            "```FormLang\n",
            "\n",
            "  component userDetailsContainer {}\n",
            "  component formContainer {}\n",
            "  component someOtherContainer {}\n",
            "  component OtherContainer2 {}\n",
            "\n",
            "\n",
            "  component myTextBox {\n",
            "    props {\n",
            "      textColor\n",
            "      textSize\n",
            "      textWeight\n",
            "      borderColor\n",
            "    }\n",
            "  }\n",
            "  component myCheckbox {\n",
            "    props {\n",
            "      size\n",
            "    }\n",
            "  }\n",
            "  component otherTextBox {}\n",
            "  component counter {\n",
            "    props {\n",
            "      style\n",
            "    }\n",
            "  }\n",
            "\n",
            "form Bw {\n",
            "\tcomp OtherContainer2 \n",
            "\t\n",
            "\tfield G {\n",
            "\t\tcomp myCheckbox size=\"'Hello'.toLowerCase()\" as expression\n",
            "\t\t\n",
            "\t}\n",
            "\tform a {\n",
            "\t\tcomp formContainer \n",
            "\t\t\n",
            "\t\tfield qw {\n",
            "\t\t\tstate boolean[]\n",
            "\t\t\tcomp otherTextBox \n",
            "\t\t\t\n",
            "\t\t}\n",
            "\t\tfield F__ {\n",
            "\t\t\tcomp myTextBox \n",
            "\t\t\t\n",
            "\t\t}\n",
            "\t\tfield Y__ {\n",
            "\t\t\tstate string default \"'John Streich'\" as expression\n",
            "\t\t\tcomp myTextBox \n",
            "\t\t\t\n",
            "\t\t}\n",
            "\t\tfield S_w {\n",
            "\t\t\tstate string\n",
            "\t\t\tcomp myCheckbox size=\"#121310\"\n",
            "\t\t\t\n",
            "\t\t}\n",
            "\t\tfield N_ {\n",
            "\t\t\tstate number default \"0.17049162264892637\" as expression\n",
            "\t\t\tcomp counter \n",
            "\t\t\t\n",
            "\t\t}\n",
            "\t}\n",
            "\n",
            "\tfield pw_wwww_w__ {\n",
            "\t\tstate boolean\n",
            "\t\tcomp counter \n",
            "\t\t\n",
            "\t}\n",
            "\tfield J {\n",
            "\t\tstate string\n",
            "\t\tcomp otherTextBox \n",
            "\t\t\n",
            "\t}\n",
            "}\n",
            "\n",
            "```\n",
            "The description of the form element you need to add:\n",
            "\ta field whose id is 'Z_' with state of type: 'string', and is using the component 'otherTextBox'.\n",
            "\t\n",
            "The description of the context in the form where you should add the element:\n",
            "The element to be added:\n",
            "* is a child of the form whose id is 'Bw'.\n",
            "* is located between the field whose id is 'pw_wwww_w__' and the field whose id is 'J'\n",
            "\n"
          ]
        }
      ],
      "source": [
        "print(examples['userPrompt'][0])"
      ]
    },
    {
      "cell_type": "code",
      "execution_count": 51,
      "id": "d01fd5ce-4812-46dc-8563-8ca335fec0fa",
      "metadata": {
        "colab": {
          "base_uri": "https://localhost:8080/"
        },
        "id": "d01fd5ce-4812-46dc-8563-8ca335fec0fa",
        "outputId": "ff71f955-f985-4164-c491-b5f6bef6e935"
      },
      "outputs": [
        {
          "output_type": "stream",
          "name": "stdout",
          "text": [
            "\n",
            "  component userDetailsContainer {}\n",
            "  component formContainer {}\n",
            "  component someOtherContainer {}\n",
            "  component OtherContainer2 {}\n",
            "\n",
            "\n",
            "  component myTextBox {\n",
            "    props {\n",
            "      textColor\n",
            "      textSize\n",
            "      textWeight\n",
            "      borderColor\n",
            "    }\n",
            "  }\n",
            "  component myCheckbox {\n",
            "    props {\n",
            "      size\n",
            "    }\n",
            "  }\n",
            "  component otherTextBox {}\n",
            "  component counter {\n",
            "    props {\n",
            "      style\n",
            "    }\n",
            "  }\n",
            "\n",
            "form Bw {\n",
            "\tcomp OtherContainer2 \n",
            "\t\n",
            "\tfield G {\n",
            "\t\tcomp myCheckbox size=\"'Hello'.toLowerCase()\" as expression\n",
            "\t\t\n",
            "\t}\n",
            "\tform a {\n",
            "\t\tcomp formContainer \n",
            "\t\t\n",
            "\t\tfield qw {\n",
            "\t\t\tstate boolean[]\n",
            "\t\t\tcomp otherTextBox \n",
            "\t\t\t\n",
            "\t\t}\n",
            "\t\tfield F__ {\n",
            "\t\t\tcomp myTextBox \n",
            "\t\t\t\n",
            "\t\t}\n",
            "\t\tfield Y__ {\n",
            "\t\t\tstate string default \"'John Streich'\" as expression\n",
            "\t\t\tcomp myTextBox \n",
            "\t\t\t\n",
            "\t\t}\n",
            "\t\tfield S_w {\n",
            "\t\t\tstate string\n",
            "\t\t\tcomp myCheckbox size=\"#121310\"\n",
            "\t\t\t\n",
            "\t\t}\n",
            "\t\tfield N_ {\n",
            "\t\t\tstate number default \"0.17049162264892637\" as expression\n",
            "\t\t\tcomp counter \n",
            "\t\t\t\n",
            "\t\t}\n",
            "\t}\n",
            "\n",
            "\tfield pw_wwww_w__ {\n",
            "\t\tstate boolean\n",
            "\t\tcomp counter \n",
            "\t\t\n",
            "\t}\n",
            "\tfield Z_ {\n",
            "\t\tstate string\n",
            "\t\tcomp otherTextBox \n",
            "\t\t\n",
            "\t}\n",
            "\tfield J {\n",
            "\t\tstate string\n",
            "\t\tcomp otherTextBox \n",
            "\t\t\n",
            "\t}\n",
            "}\n",
            "\n"
          ]
        }
      ],
      "source": [
        "print(examples['originalFormCode'][0])"
      ]
    },
    {
      "cell_type": "markdown",
      "id": "d002401a-0651-416f-908a-c3c444299f6a",
      "metadata": {
        "id": "d002401a-0651-416f-908a-c3c444299f6a"
      },
      "source": [
        "### Creating a Dataset on HuggingFace using `Datasets`"
      ]
    },
    {
      "cell_type": "markdown",
      "source": [
        "First we've manually created a Dataset repository on the hugging-face hub for our [form-lang-examples](https://huggingface.co/datasets/guy-or/form-lang-examples) .\n",
        "\n",
        "We then manually update the `metadata` field of our Dataset README file in the Hub to create a `config` for our 3K examples dataset.\n",
        "\n",
        "![image.png](data:image/png;base64,iVBORw0KGgoAAAANSUhEUgAAAwEAAAH6CAYAAABf1UDmAAAABHNCSVQICAgIfAhkiAAAABl0RVh0U29mdHdhcmUAZ25vbWUtc2NyZWVuc2hvdO8Dvz4AAAAmdEVYdENyZWF0aW9uIFRpbWUARnJpIDA3IEZlYiAyMDI1IDE2OjQ1OjQ1/1skvAAAIABJREFUeJzsnXl8VOW9/99ntsxMMmSykoQACXtYFBBBFEVwRa1cFduK3mpdurj1XtHen6XUtkpv69Z73bqotPYq2kqxKoqtsqhAUJaAgAlLSAKBhJBlkpnMfub8/piZZBKyApoh+X5e4ief8znnOd9nOWfOc57znKNomqYhEAgEAoFAIBAIBgx0AJqmoUVYtGjRokWLFi1atGjR/VsrWvQvgUAgEAgEAoFAMCBgkD6AQCAQCAQCgUAwsGBQFAUNUOAEjkJ88cUXX3zxxRdffPHF7z++EgppWnhxyyJEixYtWrRo0aJFixbdf7WiRSYFKHQO8cUXX3zxxRdffPHFF7//+EooFNK68AUCgUAgEAgEAkE/Q3hOgAaK0tpjEC1atGjRokWLFi1adP/VMhIgEAgEAoFAIBAMMHT5diBhYWFhYWFhYWFh4f7HMhIgEAgEAoFAIBAMMOhQlPBfigIoiBYtWrRo0aJFixYtun9rGQkQCAQCgUAgEAgGGFreDoQCaOEOgmjRokWLFi1atGjRovuvlpEAgUAgEAgEAoFggKF1TgARFi1atGjRokWLFi1adL/WMhIgEAgEAoFAIBAMMMjbgUSLFi1atGjRokWLHmBaCYVCsfMEhIWFhYWFhYWFhYX7OetAQQGEhYWFhYWFhYWFhQcIx44ERCFatGjRokWLFi1atOj+q9uMBBBh0aJFixYtWrRo0aJF91+tAw0NEBYWFhYWFhYWFhYeGKyEnwYKyzAURIsWLVq0aNGiRYsW3X91zEhA1BItWrRo0aJFixYtWnR/1jEjAdEegrCwsLCwsPCZxq5mL16fj2BQRdM0BhIURcFg0GNOMJGUaCUe6kNYON5ZUUMhLU5iERYWFhYWFu4lB1WVxiYXBoOeRIsZo9GAEv0w0BmEo9W15GSln9S2mqYRCARp9ngJBlWSbUkYjPq4qB9h4XhlJRQKaQgEAoFAIDgjUVvfiMWcQFKipa9DOSWcSicgFq5mDx6vj/TU5NMQlUDQf6EDiD4QFB09bNG00+KLL7744osvftz4rmYPBoP+jO8AnE4kJVowGPS4mj19Xj/iix/Pvg5AUcKjA9HRwxZNOx3nvj/gx+P10ez24HK5aXK6aHS6cDW7aW724PX58Pn9cRu/+OJ/JX5zGav/+xZmjbSi0+nQ63XodTr05y+lyBUH8Z1y/or41fRwvtrkL/UaXj4QB/GJL/X7Ffpen59EixlBWyRazHh9/j6vH/HFj2ffoEG4S6Cc2Vzf2ITf56cnMJlMpKYMiou4hU/kJrfGhv0h3ihUQYNvzdAza6yeZGt8xBdXHHJztKIGf0oOw+2m8IHeZj0vxX+6iwWL1+LlRLTcIejrfJwqd4F+kb+Bzl0gnur3WG1tp/7g9PSvZL/BoIrRaOi6kAYgjEZDZII0fd4uhIXjlQ0KoCnhZeH/nchngl9f39jj4dD6hkbSUgb1MH2Vpv1beGvLMdSWFIzY7DbS0jIYPiKP4ZlmDCcZv7+hki/LGyEll0l5yehPMv+nx1dxVBxgf51G8rCRjEk3fq379wZh4e98HG/SIkaYHl8V4ol3g2RadfzlPiMtN73iqP31la963TSHTKRYjeg62j7opbykLNwByFrIis9f5fpc2iB6TojH/PXIt01h8echFgPgYO2iC7j0t8WtGezr+GJ8b8lyHvregzy/oRomLuKjtU8wJz1+4otL/wyq37vufZhJE8YSCw3IykjnRz+87avZv6bR00nAdfUOANJS7S3L9peWk5pib7OsP0BRFDRNi6v2Ib748ea3jARoCl32GOLdd7macbu9GIx6DHoDRqMBnV4hGFTRoQMdeDxe3G4PBr2eaL57lP4JCOB01ON01FNeuhdL9jjmXjCWTFNv41dpOlLGzi/r0Q9NZsywZCy6PizfoI+ag6XsOqqSbRnCiDQj+q9p/54gXP6bDu5VK+HVdJpKbbPG1b9SWfVwAhaLElftr2/8EJ5mL6oxkUSj0vEdL7wQaFukHa0Xn/k7Bb9NhuMlPi9fvvU8L2+ojtP4ziA/DsvvWE0tEyeMZemSBztcr6s70qe0/25QV+/g1TfeJi3V3tIJuOqK2QC8+sbbpKbYqW9wkJpi55Zvz++wMxA4/CnP/KWMc+9ayEWpLra+8RofGC/i/hsnYTkS8b6/kIvS43BEIk7ah/jix6OvU6DNM0NnKgOEQip+nx+3201jYxMN9Y04m1w0NjXR6Ag/LmTQ64Fepk8EpsHMnn8Nty64jPlzz2Fqng094Kkq4ZMdx/D2Nl0lhN/jbRlh6PNyJIDbE+h9+ZwGvvl3PjqCEtLQayH0hNATQK/5ufM5V5+3t7jgkJ9mdxCT1YpFF7P82Er+fVjk2WlTDte8VBYuzOrlLBgW80z1BUvZETsnwFfNut89xL9feQ5DrDrSxl7Ajfcs5a09jrb79RXz9CXW1nT0OvS6VL7xUjGNJSv58TUTGGLSoR9yC29Vetn8/yag1+kYdcvzvP7IAiYOyWHat5ayrrSM1Y8uYNoQK2lnLeBX66tPS7m0HrBdHVdeSv6xlO/dcCnTRqai1+lIHDKBWTc8xLJtXeR3+hI2VxSxbNGlTEzToU8dyWX3vsyO2hP346t4n1/d0Zq+Xm9l2uJC8u9awVF3iNAXTzA3/RTyqzrY8X9L+d415zBqkDVcXz96itWl3rZx7H2ZG3Mi9XTWfaw+1ppO47olTEvQoddZmfXztTQGe1s+J1G/dWv58VnheNLmv8yOnSv52c0XMCpNh35QDtMWLGF1ufcU67fn5dPCdYUsW7SAWRNySNTp0KeNZNoVt3D/kys7rN+uuOZ4La+veIfX33ynU17z8cbT0967wep/fczoUXnc8u35/OjuW7nl2/N59Y23efWNt1uW/WLxjxg9Ko/Ptu7sPkFDEvlTpnPR2UPDN62+Tvgb+XLDGv7vtX/w539sZEdVRw85tkWfn6eFheOYDeEZw110Ic4Y7h16nm9o8401TY/OZCE1K5fUjBSswQ1sqPTiLN/HgdFpTEwxhNcLeqg8cIB9lbXU1DnxYMSelsm4yWdTkG5ArdvHe/8qoS6StP/wNl5fvg0UG2dfdhFT0w2o7uMc3HuI0upaahq8qCYraVnDOHfqGLKt0fhCeGoq2Lm7nPLjTjyqDlOSndwx45g+Nh2LElkv6KJiz16Kj9RR4/CCNZnsrFwmnj2KbEsQ5/6tMY88hTi6fS2vbAeShnPZFWeTawpSd3Av2/cdoarBi6oYsdnTGX3WRCYOsaDXfFTtKWLjfhfJIycza1IGFqVn9dfkCbU+AtRSQaDTQihoGDQVoxrAGAqiV0J4GqHJacGWpO84XU8d+/fsp7jyOHXuUNt0LTnMvWIaw0OH+PD9HdRkTObai4dhi5aTp4qP/7mFCusErr1kJPryz3jns+OkTbuYy8Ykoae13Ov2bOK9LwIUXDKLczNNXebTX1vG9i+PUHXcgcOvx5aWSm7+aKaOSsMULSfNw8GNn7DBOYwrZ6VTs7uE3YfqUTMnc+1Fw7Hp26ar+Ty4ggYSrYZw04zuT+v5EaFphIfMK1fz0LcW8PTmmB/VA4WsPFDIyt8t47rnV/DqDyZjRqHl9QLt4KnexGO33xeTRni96FsJqgqf5t7Xy3AAvLmEu8pW0rC1KKyrV7L00ZlcN20RBUmneB5oiS26//breSh67kau+dH7xN6T91YXU/hWMYXrtlP93t/5yXnJkfKMya+3jL8/sICn/xHpWFHG2t/dxQX7HWz4+wNMSQrvx3vgde68+hZePxBey5yVBdXVeIHiF+/k5nH5rPqPSHmeTD4dm3n61ht4aFVMDg4UsvLZQla+uJy7X1nBEwvyMKOQMHYhv1y6mk13rKR69/Msefo6Zi6di921iecfeYqiIJhnLeaJ/5hDsh40rTflcxL1G9t8nDt4/nsvs2xrtM1UU/TWUq7Z72DVe88wL/dk6rd35QPh9n/f/AW8sCOm/TvKKPqwjKIPl/P8/93TSTwxx6OmtRxPa9ZvouZ4HRPHj6EzrPl4ExPHj2VwRlrv678Nd439peX84ts/atFpqXbu/+GtJ9zxv+ry2Tyy9H+ZMe3sbh4NMpA24VwuiqhAF2ueXgSoKd7Jbs9gLr56Jvqq3RRu2Y390mnkWTvfqsP2ISwsDCjoFAVQFM507i16lX7LiVYJ/xldbkgkb1wudgUIOqiqDb+JgOYjfLLqQz7cXkbFcS+YdKAGcNQcYfOnOzjoCqGYEknNsGGJJq03Y7fbSMtIxmZUCFTt4p23N7GhuJKqZjCZAL+bukMlrP2slEY1HEfIUcbH63dRXB3uaFgSwO+q5+DOEvbVB8PxqE3s/vRT1u45QpXDCwlGcDdSeXAPH366l7qAAaPFRqbdHJ6TAJBgxW5PJjMtCYsuhKtsBx9+Vkplgxc1wYxFH8DZUMX2olJqvAqKt559+2twetxUlpZT4+15+X6yN+ZCPfIDr9NC6LQQpmAAi9/DIL+TNF8Dme5aMty1FBU1dJheqPkoGz7awIYKL8l5BcyaOorhKUbASOb4yVw2axzZVqW1yXRY362NZFDOMHKtIWoOHcOpxqwXclNV5UBNHszwFFOX+fNXf8kHa3ZRXK2SOfYsZk8fSTb1FG/ZxAc7j+OPbccKqL4G9hRuYfvRAOnDR1CQl0qioX26Gl6PB7/eQpJZ33a/2dfz2qEQaihEyH+UVXflh/OTtZAV0eWhEOqmxUy1Aeox3vpp9OI9n+uWrmLPoaMc+ORF7jnPDJTx1n/dyws7feH0LeNZtNaNGgpRv2YRBQB4qV79NMvKC5j33UUsengxP3noBgpSWg8fr/16Xt2+kWdvzAKgrDybxWv2sGrJTMyAt7Kc8uZeHJedcksFdly/ikJKVj7ZWflcv3QVWw/WU39wGyuWXk8+gGMdy15aS7Xatl4A2L2WouwH+OjLoxzY9CqLzgtPUPGuX87KPZHyURopfGlpuANgn8ujnxzFffQodYc+4tE5ZsDBuj8tp7DuZPPXyObnHgxf4CbN5O7nV7HnUD1Htq/iiZvywVvECz+6j+V7o/FYGH/Tozx6Xbjci55bwgsbyih66Wcs3eANx/j0PcxMOdny6W39thanY+taGi58lBdfW8GLTy3i+smRi8/dL/P8qhJ8J1W/vS0fHzveWMqyHV6ggNtf3khpjZvmo6Vse+9Zbp+cxZQ5c5iS0bvfo4njx3DpxRdwycUXdMin3s7bna86QWrKiRf0nV3k92huQMjFjlf/l8f+vh/PCaaXyjV/4ZFn/sU+J+BzsOfDv/Hrny/lP3/2PH/+uBJP6MQkewSfg/KjKkMnjGWo3UrO6LGMtDRSWu3uervTVc7Cwv2QI3MCNLTImTX87NCZp3U6HaFQz84uRoOh9Z2pPUk/emUaRYxvtKWQagaHJ4TH7SWIFX1iJhPOGkd20lBGDLai14I4K3bzz40VOD3HKT3mZcTIXGbNSaZ4/Xo2Hwthyp7AlRfmRuYEaJCYx9mTEzENHU5ukg40H5VFm/mwpBF/TRWHm/JJToGGI1XUBIGUsVx7yTjSEsDfeJwabyLZaUY0VBylu9leFQBLDufNnkxBqgE8tWz/dDM7a8vZfXQYs4dP4MrUZNau3kaFT0f2hPO4bJwtPCcg1Mz+iuN4ANuo87h2eiYmQjhrjuGyDCbbrKGpdoZmmDl4yIslLZPUyI3xnpTv3z5rnXKtaBqENBQ0jKqKVfVj87tJ8zdh97uwhLxomsKuf/m46MKMdumpNB0q5aDTzOiLzmNWrhkUGD08nQ0fbqaiEZIn2zChtdR/+/psU9MaaNYMxuTaOFhaSYUjH3u6HjSNYNNxKh1gH5VNmlFD0zrJX6Ce3UUHqFOtFMw+j/NyzaBpjMixo1+zmeLiPezOncXUdEPrzt3HOWwZy5XXjCPTHGkP7durFsDj8qO3pmDWdbH/Dppv+/L3lr3Ha6vLAMi/61mee3AeWQYFhtzB4y84+PKih1jnKmT534q4ffJM7B2Wl5di71xWff4s84bE3KFUvBRGVsqfPJMpE2cy7pqZ2N98C0feFOacW0BB0lVMeaKQQlcD3mBrfI7NL7P0z5txBGLTA/OoeTzwH9eTb+6sfXWdX7QE8hY8y4Yrn8BsC9cHTOG6exdTvHolSzZAWXExVR7IsrUtfybfzKOP3c1MuwIs5IH73ue1zcupDlZRVuZAOy8LAh6qyxoAME+cw3VnD0bTwDzkfOZdXMCSdUVQW0a1J1o/vczv8e38/c1CAAruepRHfzAHOwoMuYq7f1HF2tV3sbp6LcveLWbhuCmYNQ0toYCFjz3K+4V38VZ1IUtuvYZltcV4sTNnyePcfY495njtbfn0sn71rcVpnnw7j/78AQqSFOB6Fs4bh+eiu1hd66VwXRFH7yogX9/L+u1t+QQ8VJVVRybPFzD34vPIS1OAfCbPu4cXL74dr8GC2dC2vlrjiWit1W8JrYfrn9LvXzeob3BQV+/o9uJ+f2k59Q2O7hPsAk0ln/DX7WYu+fe5jLF52bfqr7x2cCjXf/ce8gP7efed93g3/Wa+OSGp12mrPid1fhO51sgzSPoE7BYod3hRsbbewGqPOLg+ES06XnXk7UBK20GCM1CXHCgHIDUlmUGJVvSGtqcENajiDwRpcrpwuT1MHD+qx+m3/CBHEevr9USmGeAPRdZUTKSPHEtaTHrm5BQyrBU43QFcTh8hJbH1bS7RXSgx+zfaGDHeFhOHnqT0NOxKIw7VTaM7BKlGEsxG9IDqPE5F3TBScqyYkjMYmhzZLuimsrweFUgbNZKxaeE3/ijWVIYPsbO7tp6q6iYCeRaMSmtOFWLj0WOy6IEAzpoqqpzp5A3SYxucw6BofAYrIy68gpGx5djD8lXQ0Gkhoj+KOkXDFAxiDfixez0M9jWT7XWT5nNjDXrCpWHSty2vSHrRfqDSpjwj+dFUlBCgb3cHLdIjjrn0aikEBSOZ+Tmkle6n4mgjk9JT0SkhXDXV1IVsjB9qQ68oKJpKUG2bb51BT8hRQ4UD9NkjGZdtbo3Xms6EsRns23KcisomJmek0vp4rZWxZ40k09x5+RHw0hTQk5hqCu+/q/bbrvnSzveW72BHLYCZ/In52I2tviWrgIIsWHcAindux+Gdid3c/vgIY8p1tzM3N7zDDvcfqQeLwUL4/nm4PDBGX/fkDV+IReJrKFnNshdXcsJlyeQsbv7h9eRbTi6/0fXNRi8lG9ZSVFxMWaUDj7eazZHHdwh68aox5R1N02DHbGxtL5b0FCzR2L2e8PpGC/mjs4FqvLvXsXrnPYyfZUerLmL1+shbbbLyybO1jaen+fUcK2ZHedgqfv0+Li200/KWeG81xY5wPNUlZTQGp2A2RPJbcDOP/WI1hd9fSXVlMWWA/RuP8uxdU2kzz76X5dP7+m3dxJxix2yJKc+sfAqyYHUtOCrLaPQCSb2r316Xj9FCfkE+ZsrwVq/klhkTeX5SPnmjChg/eQoz51zF3HGWbs9nKOG3AMWeXLpbX+kg/t7+/nWH+394a8vz/511BKKTh+//4a09SLFjBI4VsfL9MoZedTMXZRmgsZhPdsG5N85l2nAzMIVLzy7m1ZIqPBNG0+tPm/l9+DQdCdEfXEWP3gCqL4CqEb5h1RHi4PpEtOh41S1zArTI4jOVx+QPwx8I0NTspqa2AbfXS3NzeLAyMfLq0NSUZAbZksjJyqDn+SZSXBHWoLUnpaEFA/gjD0Wa9FpLukFXLQcPVlJeVUtNvRt/zN0rNagS1MAUe4exfbooeGor2VdWReWx49Q0xT55qRJUVdAMJOWMpCC9np219exc9yG7k1IZnpfPxLG5pCVoaH43Dm/4yrhu16e8sosToPq8eENgbBdOazwJZI8aSW7VHiqbKlj7bgWWtBzGjB5BwfA0LPpTq7+F0xWeWBVs2bk+pGFW/Qzyecj0eBjW7CPHo5Lm1WEN+gGNwZfnn1BeoCM5J5vM4j2U7i5lROp4ss0+qvbuo9RlJHtcestIi9ZZucfeZdTCd9j19hxGpO1n++Gj1I5NJVPvpeaIAzU5n2HJRtCC1H6xgXd2N8ZsbGXipbOZ6HHi1sCeasfWcsdeQ0OPNSUFu3Icp8uNL5SKJdq+DFYGJeo6yF8r+90evIqJ1AR9l+tpWkzz7aj9ouB1eSLD+mYSzOa2vt6MOXoF5fTiCQAJ7Y8PADtZ6QkdHFcx+9do8WOKuMv4OkY0X50cr93kFzSqVv2YBXc8RWFtJ7uIBKdpCm1GAmKXo6EZzK0XmC3tJ5nJdy7i9jdvYdmBtTx0USpLYuYEQD63/+fdTEmObQ+9yK/HQUPLI/TFFFV3vJXH421XTgmM+7e7WfjsSp7eDWBmysVzyU88MY6el09M2D2u37aL2pSnZmltb0FPuL1pvazfXpdPAuNue5ZXD9/LvU+uo7q2mMJ1xRSuez+yZj43vbyKl24b1zKHoKPjbXB6Gvf/4LZoIbTmv7Pzn9ZVO+4Nd420VDtXXTG7045AXb2DR5b+Lz+6+8R5Aj1FwHecwn8cproe8qtdBCYkgctFo6OaHb/7DWti1rVMmkIgRO8nFZsSSFBC+FSV8HCSihpU0VuMnXcA4DSUr7Bw/2VD+A5M9AiK9hDOQK2AyWQk3ZQMKXQPpefpn3CrS2nVgeZGGv0ARpJsFgwKBJsO8fFHO6jwgCklhzGTx5CdYqRq+xZ2OyLJRdOJSbr1jrSCp2IH722swKnpsOfmcW5BGmkJTrZvLKEm5nVCijWDqVdcwehjlZSUlFJcWc/B3fVUHGlk7sUTGBpNH7Bk5pKfYiL23KvodJjTUrHqWrPXaraWhyljFJfNz+V4RTm7Sg5SUXeUnXVHOVhzDldMz8WmP/n6O3+snsR/uEEDTVHQqyGS/D7SfW5yPR6GNKtkNWvY/fVYgk40FDJnZ7eJL5qeIXU4U8dW8sGXB/ngrchtS1MyI6adx8wxgzAore0lttxb2kNsAUTrwzCI4fkZ7NxawyFHgDRrLeUOFfvoHFKMAAbso8/h6mwvSvQCRzFhSTWhVEbS0ulPjFcXfnVtS3tAacsd5E8BNC2Ex+1DZ0kh0di2PZ6wfkvabdONXd+cZGm5m+3zetv6qhdv9ILKZsbSwf5aYLBErHZ+7OHT5nxDl/Hlf/fv1H83Up6ta8ToTo7XbvKr1a5j6X+FL3Dtcxbz6lP3MGdiFuZgMS/MP4f7PvS2BKcotB0JiAYdc/6IjS6aP3P+Qp79WwOO6x/i/Vov3upqwEz+nJu5+8GfcPe8fMwt+eldfrHYsZsBF8xcuo2PHp7S0hFpuz7tysfHjlefZtnuqOtl3RMPseyyFdw90XzS5dP7+m0XYGx5qp7W9ma2dNzeuqnfkyofWwHXPb6G869fzmuriygrL6N41yYKd1TjpYzX77mF/NFreGyWvRfnt/bl0c5vKb/enS9P/H3qHqNH5nHVFZzQEYjtAIwemdfD1DqAz4U773J+eOVx3vpgLYUTvslFliSSU7O44tt38I3hp/7qUL0xkSTFi8sdArseVB8ON1gzjF1veIrlK1p0f9YnvB0o2kOInmlb74THu99LaLHU0/Rb7zyBApqXYweP4tCAhFSGppvQNBVHWRkVHsA+issumUCmSYNgEzVKzL41QNO3/qCFVILROxZqM+X7DuPUwDZiOlfPyMSkKKhNB9ve8Wi5o6bDljmcczOHMbGmlA2f7qGy4QDbS3PJHmfGbtaBKwSJ2Zw1NSfmrT3tEtJ0aJEegtrmjl1kfV0CGfnjmJs3groDu1i3pRLnwWJKRmS2vB3nZOrPZtUzzuKgxqGCosegqgzy+8j2eRjsCZLmUbD7jmPzNZEQ8sIgM6aRaSfGh0awoYIt+3zkTr+E2Tng9OmwDUpoeatP9I4jmh704VGZ1rFkrd1IAC138mzZw8i1bONwRT35aceoU+1MHJKELuLrLTYyLUktcUTzp1psWBVwNzrxhwahV1p9v8uFWwWr1YKJSLuKHo8dlX+0/AIemjxgTo9M5Na6KN9O7rTHlr85bzKT06Gs1kvZrjIcgXHhOQGA53gxxZE7qQVnT8GecOL2sQXW9nzSmp325dmyRQ/i6935oV1QbdILb+89XERxJYCZgiuvZ87Zg8MXiQENr6ftttE7tW3T1EDrOv/Vq37MNbc+D3eu4sjSOdgNsXG3pncy5z/z4AKm5MG63VD86SbK/mMyBeZW31Gyiar08ylIb7u9Y+vzPPjo+zgwM/PbV+H4x0qKq99nyU9eZs5r91CQdLLl0053W7+tSXg9XryB1uPPc7iIwvKwl5WbT1ab9taz+j2p8nEdo+iARsGMhTww46aW8q9edRez5r9MmbeM4v31aBfYu62fE/LfWf3Gtq9T+v3rGdp3BICedwB0AAECnUy7Mw7K55KrzmVCugtP8Su8+69dTPhmPpOzvaz8oJCxCy9kjC1I05HDNA3KJ9fWi8CjsKQyMtdI4f7DODJHkFB1kHJ/KpOH2DqfDwCnoXzFF7//+t28HYhuZhfHj99b9Cp9oukr4T+VEN76o+ws3MTa0vCbCezD8xluM6AoIfyBQLv9KHhrq6hqjklGAfQ6rFYTAP6mBhq90TvRQfxqqGXd8B3hAHVHa3AEWxejQKC+gp37anBF3hZkTcsg0xa5ktdAMSaROywt/D2Dsl1s3luPn/B+VE89lTVu1Gh+jUYGGQFCOOvrcYei8YdorNjL7kOu8OvgdCZSstNJDoeOGlJQQk72b/yIv7z+Lis2ltEY6l39Lb1vOMPdh8h1H2Kou5KhniNke6rJ8NeTEijHFqjBrDZhDHpIeWVBp/UXcDbgDBoZlGhEb7aSkmwOPzPffv8mIzYjqO4mGgNKSz7rKw5RGX3ZRGz6iRmMGZKIs6qM4ooGVHs2uYP03ebPkJLJcDt4jpZR2hhq9VUnpfuP4lGSGT7MHp6cE3MMwrhZAAAgAElEQVRHlC7aZ9DnwaMZsVkMPSxfYjJ0om/Ov5qb5+UDUPbSfdz75GpKjlRTtvFlfvz9JaxzAUkzWfjNqaS0377tUdX1/k84nnoWX+/PD21COtG3mFEMAF6K16+luFFBUbyUrX+dlbGviIw9v7RJs7v8N1L80fsUObw4jhSxbv061q1fy7r169j8WTFldb5Ty1/GVG64biYAjg+WcN9Pl7G5tBpH6WZe//UtzDpnFtPmL2HdsZjtGwt5YdES1jnAftmjPPfCS7z4UPitPY5VS/jxq8V4T7p8elu/rYu8m19gyZOvs7mimuptr/OzB5dS6AIwM+XCKeGRtt7Wb2/Lp7mEZT+4gGkzZvHvj62kOPrWpuYyCj/aThkA2eTnpvaw/bXP/1f8+9cLhDsC4UeDejMCYEzNZ2KmizXvFlEX7GQdA2Cwc/bl55N1eBMf7Dcw7bob+MbQKt59Zin3LlrKr98pptrTSQLdR0HOxLMp0Jfx7l//wV+3uck7ZyJ53c0x/qrLX3zxz2A/Zk5AGNGewpmmewtNi/aRuku/9f/4j/H52g/53OOm9Tymwz5yCpdOyYy8dcZIUmoyFtx4HAdYveoYNr0XhyvmmX4tuv8EUrPTsRysxOOs4MN/HEZvsjFx1rlkplqhzo2zdDMra2wY/E6cvtgkNPDV8eWWL9heF2L7NiM2mxl9oBmHJwT6VIZnW9BpeuyjxjP16Ca2VHsp3/4p5TuN2Kx63E4vqmkwsy6fxuhBejAmM2SwjV1NTjwVO1hx5AtM1qFceO4g9m4podJfwhaTFbtVj8/lDJfBoCyGJxvQvE4O17hRNXDW1OLw5pNs7Xn9GRLN/PTRC3jrkRX43D6sARW7TyXV78emqiSEApiSLFj/70502YM6rT+j2UZC6Chfbi1CNzqHzCQjKAYsSTbsScbWEQHjIHIzrRQfrGDDhiB5dhPBploqXTpsFsKTM2OfVcZA5vBs7Af2sd+lI3tqJjZ9rN9J/oypTJwyksqPS9myZhOOccPIMXupKSunuAbSCiYwMU0Xzk+bkYDwvxPS0zS8Li8h4yCsBujw+PV+yVNXT+Oh9e0+pFO9nAXDlkeEnete2cqKW0aAfjDzfv4EtxctYNnuMt5afA1vLY7d0M68XzzL3WdHnvnvMH0Hq78/Euv3IzL3JlZ89irXZbUePtFsxR6vnc8J6Lq9tNGu7Sy9ZBpLtrbNLo73uWuMjrva5dc8ZA7zptlZ+5EDx+qHmJa5lCy7g+rgTG7/9kyKXirEu3Ups0Zs58XP/s7tuVpsyMTOKWl75okuTyBv8jiyKKbs9YdY8DonwDzuOp545SXunpbSff5O0Mmcd+8TPPrpNSxZ72Ddb+/igt+2Sx8P3kCkfQYbWPv4vSzZ4IWkmSx67HYmJyfDvU/wwOpL+dVWB+8/8iDLZq3g7omWXpbPaxT0un5bF9mnzSXl3Tu54JF2bXXi7dxzzTgSNHpdv70uH03DkmjHHCxi5SMLWPnIifWVf8ti7p6V3PHx1oHOzEjjjRWrWPNxIW1bSevv1e4v95GZnt779n6C7h2iIwIwu+ePAFlyueKuH3FFRKbd8iMmR72hF7Jo8YUtqxozz+WHi8+NqCRmXvVNZl7V6zA7himZ8bMuYfysXmxzyuUrWnT/1YbwMqX13HSG6qysDKqrj9MTZA3OCHeBepp+zInW43QDOiyD7KSlpZI3Mp8RmdboaDYoYMubwtyAiS0lh6lxOXGYbIyYeg4jPcV8WByZPBrZv21oAbMm+NhcchynGkL1uXG4FaZOns5sZQ87y4/jcDrR2wYzdcZI9Hs3s+VYJCZTGhPPOwd1ZwnFR5w4o5OHDcmMPncyE9NN4dANdibOvhDrF3vYvu8YTjWA0xlAn5TKiPxhZJgNkfyayJ40iXM9u9he6UQNhvC7nTQljOe8C0Js/6KUg3VuHP7wbvS2HM49fxzZFgVIpWD0YOr3OkkemU+mNVJmvahPQ/Igbvzf2/EfOkL9x9twrtmG1aRhv2oy5sunox+d2267E9PTp2UzOuMgW+qPsXNLVduK15vJHjuZ2WcPxqKzkHv2ZKZ6d7Dz6BGKG21k5w5j9vTBuLZ8SmEgEnxM+np7LiNSDlDnSGN4dmK4Q9GD/JmyJnLlXCuFW0vYv3MH+wEMNkZMPZeZ41LDjwLFbodCa1e9XXqalyaPSkKyBZPSyf6j23WL1u3N+dfz7Hsbmfvqct77cC3rNhfjzZ3JzDlzuerfFrLwsoLwIyE9Tl/peL12x1NbX2mb/kkcnz3Kb9J47v7jqzTcfgu/Wu+AoINqw1we+MOLPDqzjKySa/jVBu+J8bRPR+skfc1C/jd+yuJbdnDfq2UdRuIteYv7braQ8q+XuGm4uXf51RTIOJ+f/HUjBW8s5/0P17JuQyFlDsCQz5wf/IQnfnYHUyKvJ6v+6Ffc92QRYGbmfz4Z7ngoQPr53LP0Ht66+imKa1ezZPEy5iy/h4Jel0/bIui+fmNgm8zdT70E37+z5YNh+Vcu5tkXFoc/zHUy9dvL8iFpPDf9cSOTL3uKpU88z+tbI8+/JWVRMHEqc256gMV3zQ0/mtTD+rnk4guYOH5sJ+erMA9OTz8tv3+KEv5QmaL0tJw4tef/zxC0lsmpla9o0f1ZK6oa0jo9S51h7Pf78fuD+AJ+AgGVQCCA0Whs8ZOsZpKSEvs8TuGviv3U7P6MtYeSmT3nLLItkeWaH2ddDSXbitjtTGPW5dMZPcjQ+/R9x9n8r02UJk7i2tkjTviC79fBqrue8qNeBg3JIcNCnJS7cBuuXctDV1/D0zsKeOCfa3ji4uQW31tbTuGrD3LLoreoJp+7/7mNZy9N7ps4+7J8LrmUp3eD/ZoX2fr328lvP2dCuMdc19BIsi0Rk6mbCbJnAI5W15KTlX5a0vL7AzQ6m0lLGUQ81JOwcDxyu5GAdhz+3xnjm0wmTAkmkjRrixX22+c9PuMX/xR9n4vKQw5UyzCSEoCWO2MmbKnJJBn1YEjAYjScRPoqjopSSl1msidmYTP0Rf7B5/EQMFpJTFBa7Lgpf/FBAe+Bdazb4QW8eB0NeLFjjvjmjGzy7JHtDHbstsg7guIo/q/cj0V0vXiK7wzzzQkmmj3eftEJOJ1o9ngxJ5iQ9iW++J37hujzcopGZAPaahBf/DPDN1rIzDCzc38JG7cFGJNtw6QHze/kyP5SimtUMs/KI8sSSaQn6atujlYco77xGCUlNTB4AlOGWmjzLvCvK38hH83NQQxWCwm61jzETfmLDxok5M1k5igoKinmhRtG8kJ6AVNGhT9Y5XWVUbw7/L2ArH+7m4UTEtDQ4ir+r8OPNbXYhXES35nkW61m6huacDV7SErs9Se4+iVczR6CQZVkW+KAPL7EF7+nvgFFCS9QomsjWvSZqbGQe86FXJ1WTvHBQ3x+0IknpMNis5OWkcu5Y3IZMyyZlpv4PUnf20BJ0S4qNBvZIyZx0dkjSDH0VX4VTIl2MpPCbzzq8/IW3bHOuoon/rWR8/+0jNfeeo/VO4opin50y57PzH+7g6u+cRM3fXsu+ZbW7eIm/q9aEwMFlOjCeInvDNTJg5JobHIRCAZJtJgxGg29miPQH6BpGoFAkGaPN9IBSEKub0SL7ka3zgmIIsZtw+KLL7744osvfrz6zW4vXp+fYFBteYPaQIGiKBgMeswJJhKt7XvXLWsRz/Unvvhft6+ooZDW4TbCwsLCwsLCwsLCwv2SFVVVtTiJRVhYWFhYWFhYWFj4a+DI40ACgUAgEAgEAoFgoMAA8jSQsLCwsLCwsLCw8EDi1jkBUURd0aJFixYtWrRo0aJF90vdMicgjmISLVq0aNGiRYsWLVr0V6hjXhGqxFiiRYsWLVq0aNGiRYvur7rTkYD2LL744osvvvjiiy+++OL3D1/eDiQQCAQCgUAgEAwwGDS0jrsOSsxa4osvvvjiiy+++OKLL36/8RVVDWkaGkqMK1q0aNGiRYsWLVq06P6rlaCqapG/O4f44osvvvjiiy+++OKL32/8dm8HEhYWFhYWFhYWFhbu79x2JEBYWFhYWFhYWFhYuN9zmzkBwmcuh9QQ/kCQYFBF0zRCoRCCrw46nQ4ARVEwGPQYjXr0en2ftwNhYWFhYWFh4Z6wjASc4RxQg3g9fkAjwWTCYNSj1+nR6ZT2162C04hQ5M26akglGFAJBFVCoRAJZhMmg6HP24WwsLCwsLCwcFfc5UhAdC3x488PqSHcHi+appGYaMFoMCDoWwSCQTweP6FQiESrGb1eR7y2H/HFF1988cUXf2D7rSMBUUQ90XGrA4EgbrcXizkBiyUBQXzB4/Hh8wdISDBhMhn6vL2IFi1atGjRokW314qqqlqcxSS6Cx0MBmlu9mKzWeXufxwjFNJwNbtJSDBiiKmnvm4/okWLFi1atGjRCqDTiFmqRf4UHZc6pKrSAThDoNMpWCwJ4ceD1Mgk7ThrT6JFixYtWrTogat1CgqR/yIsOl612+MjSZ7/P2NgNBiwWhJodnvjov2IFi1atGjRokVHtRIMqtF+gSCO4Q8ECQSCDLJZ+zoUQS/R5HRjMhmk8yYQCAQCgSBuYAh3Cfo3/DUlfPhZPbkzZ3B2ur6vwzkp+P1+rFZzr7bZsOlzhg0dwrChQ76iqAQ9gcViornZi9EmnQCBQCAQCATxgfAXj7Qu/p0pftDJ7g//xXu7GlHb+aakTArGDGdokj5+4+/C9/uDqGqox3eSN2z6nMnTL+HaG77DtTd8h3v/42EOHT7So21boDpY/98/4Nv/swtn77ZsC08Zf/7h7TzwViX+U0mnG/j3ruCuhY+w4tBXuZeTg9FgQKfTEQyqcdm+xBdffPHFF1/8geeHryq7Gw04E/z2/2JhTWXE2K94/1+lj4bJZOxuJQ4dPsK1N3ynzQX/ocNHWP7Xt9iw6XNu+tZ13PTN6+JrZMBTyTt/eJE/f1zCUZeJvMnnseC7t7FgfGJfR3ZaYTToCQZVDIYORqL6un2JL7744osvvvgDzjegQevHA8I4I3VM70bTtDY5D9aV8P6mekZfNIOCZD2a2syRkhL2lNVQ5YbUIaOZOW0UGXo3FcV72Fl6jEY1kdzxZ3PBuFSMeCgr3MxuXSZp3gbqXG48+jTOmnEWBalGNLWZQ3t2sfNgLfV+E6nZwzl32liyLeCvK2P7jlIOHveiTx/OeTPGM8ymI1D1JR9srSXn3PM5J8vQZf78/gAWc9ffAzh0+AiTp1/Spf+bJ59j46bPeefvf+kyrdOOLp7A8tdXUm+ZxP2/vptzMtxs+tNveeaF1Zz1xALGWL6+EL9qGIx63G4vaKb4OF5EixYtWrRo0QNaG1BA0ZQ2vYUzVkf+KbTziUHITdmWQjbXpjBlxmwuMrupqteRlBCgqmgLm2tTmXrBXDI4xhfbdlGUPIMZ2QpoARprA5w9ZyYXWANUbinks91V5M4aRkJdOTvLggyfOZerM4w01jqxJIDqLOOTTaXoR5zFVTMSaDywh6Jt5STPGonNYiUtOZlks+7EeNvlT9No8675jjBs6JAeXdzPOn96t+vEwn/kE5594HnW7aqBIefx3UX3sHBSIviPsem1V/j9B9vY15jImJnzeei++UxKhbpdq/nDn97mgy+byZk0ifR6MHWSvmnIedz2/VY9bUY+CbsaaPIDHXUC/A62vvMaf357M1uPGxkzaz4/vW8+ee1Wq/t8Bc/85SM27a3BmZTPFd/5Hg9eOxabeowVix/mnfFLeOm7+Zjws2/5I/y/oot4buk8cug8X869H/GHl97hn7uOYRs/j/sXLeTiIZ3lrC30Oj3RvmncHC+iRYsWLVq06AGrdXT03FB/1FE013KwGnInTaAgw4rFls6I4alYXDWUHIGRk8YxOsOKPWMYE3ONHDvaFH6WXdFhy8whO1EPipnkdAs0O/EGQW8yk6AL4HWroDOSmpmKRadSX3aIxuSRTBuXiT0pmeFj8kn1HKeqWUVvz+eCiyYz2q7vNv5QKIROp9AdZp0/nTf+9hbDhg5h1vnT2Vj4ecvyQ4ePtOgeQ/VTW91MzvX/xRvLn+K+8ZX86fE/s6kenHvX8PsPm5n78B/45J1n+eX1Z5GTBP5Dq1n62JscnXIPbyx/ksUXJ9LkCvRoPkDd3k/50xu7ME2aRH5SR/E4WP8//4+HV/m5/OEnee+P/8ntF44j7YR1/TgbIf+ae3jxr8t4475xlL25nH/2YL5A5/n6iKWPvUPttFt58c+/5v7xZfz+hTWUe3qQsVjEy/EgWrRo0aJFix7Quv+8HUhp968TqKoXn2IkI8nYZj012Izb3UjFutXsjlnfNCQXH4Pa7gcw6PRAiCCgTxnJRdNVNhcV8tedCQwvmMDUUUm43T6cR3bx97/titnehs0fAqVnbynS2nzPuWts2PQ5y//6FufPnM7Cb13Hb558joXfuo5Z50/n8aeeC88FWNTj5EBvIuecedwwKx8bcO13bmTTA6+x6UAz01ITSde7qG10gSmXvEn5gJ99H3/E3oyr+O2CSeRYIGfuVcxdtY0vutqPp4w/P7CI3+8Fhl3Cr789lbSOiqd6K+9sgzl3f5drx9uBwVw8LGy1vbw3kXfZAm5T/dQdKWOvCxI8h9l1xM2CbqZDJFg6y9ca9uVfy3PXnUOOCfKun8emxR+x9fgl5A3rfjRAp1MIhUJoaChKfznoBAKBQCAQnKloMyfgjOaYnk10TkCrH4WG3mAmAR+NLh9amqVle70hEat1EGfPuIDJGYa26WsejhMup2h5hffTuj/L4DFcfOVoQo2H+eSTHWw2zWCC2YRt2ATmnZ+DVWkbb0/LXQtpKDodoZDWo9GArxQWO+kWqG10YZo+n8WL4Jk//Iyrn01hzne+x/evzKW2JkBCVi5pHV0Xqw7++fjPeHLDMXwkMva6/+LpO8dis+Rz29PLuLishE1vv8kT/72CtF8vwLb2cR54aRe1KtjGL+R/bgM/KeRkdf+thLpdb/PE429zNP8irpyQiM0Cvh7ctTeN6iRfVcc4uuEFrr/yhdaV9bnc5upx6QGghTTQ0ffHi7CwsLCwsPCA5jZzAs50BsKadn7LJZgC1nSGp8DmL74g1XQWY9Kg8bgbc0YKw1OCbNldStaMcWQnqnjrGvBY00lNUCJbd5CuAt6qg5R40pkwIhm9wYhJB3702IdkYdy4j6KyQZw30obe5+J4o57UDCs0HmJrcSMZBeMZkazvNF+aoqFTQA2p6HTdzwtoz+fPnN7y96m+FcjfWBl+g09q+PmbtMnz+cXv5uMv+4ilP/stzyQ9ys2pRnw7KnH6Ia39M/16O1c8/AxXdJS4xU7e+PPISw3wxQNvsm7vfO6/9qesvDZmnepPSaKBsmo3jO3i7nvjLl57djXc+EteujYXk2svtWs+4SiAHkwmwB8zduDz44vZvKN8LcgYTN7c7/L8wxd2PErRU3TUPoWFhYWFhYWFv2ZuHQnQFDRACd+kbsdngg+E/Bz/4mP+L+bZk9SJs7kiJ+YiTGclf9pUgsVl7P98LVvdkDxkFOcmjyZ/6lTUvaVsX7OK464Qlox8zj03hZSE8FiCFvlfe9YZFNz7P2P5Z15AR/LwCcweYsVoGs1F03TsPrCVv37uxK+3MXz8JGakW1FcjRw9UgvDQ+Qn6zrPHwp6nY5gQO32OwHDhg6hvqqkRe/4fE3L3yf1RiDVz9Edn7Dp0AjO15fw9xfeZFfWVfxgfCJ1297m3eNnccOV+diSkrCZoFYNkT1jJjnvvM8zK/J5cMEkEvZuY2t1oJMd+Cl/5394cs8k7r97HmOS/ez7/GN2+VOYltHBK1EzxjBnrJ+lf/gjY5Nu5RujoHyvg7RJY2n5BpwajtvlhwSLEfwO9n1eyK5qP2kA+iRyspKo+vwj1l2ey7T6t3nmvTL8kceKOstX3oxJ2H7xJn9Ym8+Dl+Vich1j1yEYO35wp5OeO4QGmhKPx4/44osvvvjiiz+QfCWoqlpYwQkchfh95muahhpU8Xh92JNtdIZDh4/06KNgN33rOv5r0b1drgOEJ+E+/jOWufLJObKZ9UcSmTT7Kr5/57VMyzLh/HI1z77wJu986QCMjLnsNn563zzGJPk5+vFyfvWH1WythrzLbuRi1yfsm/Fjfn1t7okXzMe38eenXuT3n9eEdcZYFnz3e9x/ZX7HF9f1e3nnzbd5d+02dh2HvFk38uB9C5hm2cvy//4tr6nzefGXl+B653H+84Xt1GHn/G/dyJgDq6m6/Jf84jI7/urN/P7xP7J8hwPb2Hncd0kDK7ZO4te/nIftQBf5KlzN8rc/Yd22MuosuVxx813cv2BSj0cG6huasNms6BRd3LQv8cUXX3zxxRd/YPpKMKhqnfcCWp8dEr9vfDQIaSE8Hh9Wq7nT0YBoJ6A7fPub17HwW9d1u57g9MDpcmNLCs9hqG9oIinJGpnbER/tS3zxxRdffPHFH5h+60hAFNF1RMeF1tDQQhpBNYjPF+hyNEAQX3C63DhdbnKy0oF2IwFRxFl7Ey1atGjRokUPDK1DA41wP0ALC6K9glgtft/40Z6cXm9AURQ8ntgprIJ4RbQDcALirH2JL7744osvvvgD0+96ToBwXLAWCldjSA3h8wewWBK6nSQs6Du07wB0OBIQB+1KWFhYWFhYeOCyEgiqWlhFEXVFx4vWtFDLR8NCIQ2v14fVYsZk6uANOoI+RUcjALGdgNY5AVH0ffsSLVq0aNGiRQ88rQSDauwSQZxC07SYjkB4RMBoMGCxJPRxZIIoOnsEqM1IQJIVnU53wjoCgUAgEAgEXycM4ctKjdYegnA8skb4z8jHkDEaDfj9AXx+v4wKxAlsSdaWNwF1Bo1obcZHuxIWFhYWFhYemCxvBzqDtKZpoBCeIxAZGVA1jYA/gKZpGAwGEhKM6HX6do+cCOIB8nYg0aJFixYtWnS8aCUQDMYuEsQ5oo8ExT4epGkaoVCIkKqhhkKENNBCob4MU9AJkpIs8jiQQCAQCASCPkfkY2GtHQTh+OeQpnXJfR2f8ImsUxRQFBRA0en6PB5hYWFhYWHhgc0dvB2oPaKrix9PfnQUAMJvD2q7rO/jE7+tryhKWClKy9/xFJ/44osvvvjiiz+w/C5HAqIQP359Tet4mikxHYJ4jn8g+SgKOkWJ2/jEF1988cUXX/yB44fnBHS2lvAZw9Gvv/V1HMJds6JT4iIOYWFhYWFh4YHNMiegH7PMEYgPjs4F6Os4hIWFhYWFhYWj3HYkoDOIL7744osvvvjiiy+++P3Gl5EAYWFhYWFhYWFh4QHGMidAWFhYWFhYWFhYeICxDpTwAmFhYWFhYWFhYWHhAcE60MI9AmFhYWFhYWFhYWHhAcExHwtTaIVo0aJFixYtWrRo0aL7q26dE9CyJLKOaNGiRYsWLVq0aNGi+6VuNxIgLCwsLCwsLCwsLNzfWeYECAsLCwsLCwsLCw8wlrcDCQsLCwsLCwsLCw8wVgKBoHwsTFhYWFhYWFhYWHgAccycgCiitmjRokWLFi1atGjRovujlpEAYWFhYWFhYWFh4QHG8nYgYWFhYWFhYWFh4QHGLSMBUXS2qvjiiy+++OKLL7744ovfP/zWj4V15EYhvvjiiy+++OKLL7744vcbX+YECAsLCwsLCwsLCw8wDs8J0LSwghg7Rosvvvjiiy+++OKLL774/cZX/IFg7BKBQCAQCAQCgUDQz2FQoh0DYWFhYWFhYWFhYeEBwTISIBAIBAKBQCAQDDDISICwsLCwsLCwsLDwAOPISEB0aWcQX3zxxRdffPHFF1988fuLr1MUAKVlFSXyhxL9J7744osvvvjiiy+++OL3K1/mBAgEAoFAIBAIBAMMupaegRLbcxAtWrRo0aJFixYtWnR/1e3mBAgLCwsLCwsLCwsL93fWKQBEnxkSFhYWFhYWFhYWFu7v3MnbgUSLFi1atGjRokWLFt1fdbuRgKglWrRo0aJFixYtWrTo/qp1GoCmoQHQCYsvvvjiiy+++OKLL774/caXV4QKBAKBQCAQCAQDDLowRfsBwsLCwsLCwsLCwsL9nZVAIKhFF0H4GaGBqgOBIApgMBriIh7RokWLPhmtK30lvCBrNqHEvD6PR7Ro0aJFx58OPw6kaa3uCazQ3/1gIEizx4PH4wMFLAkJJCZaMOj1cRGf+OKLL35nvuIqR7fzlyjNFagXvIx+4x0o1R8DoGXNJnjZR3Edv/inz2/2eDhw8DAARqOR8WNHxFV84osvfnz5A35OgKvZjavZ06GXlGghKdHaw5TcbHvx5zy2rrFlSWJaNiOnXMytN17MCNtpCLYfo2HLyyz6Yy0LHnmAq3KNfR0O1TV1NDe7GZk/lMojxzpcx5poIdU+6BT24qfy7f/mzscLyfzWUp675xwSyl7nrpueY/vYe3n75ZsYmXAKyX8t8PPlM99l/ktHufiR13jxhpw+j6d9mQ7S93FIXzH0G+9AV/oKWt50lPLPAQid9x0w2dF98gzqBS+jJeahZc3uWYKqm8otH/K39z/ns7JajNljmXnJ1SycO5aUvj80Tz+8h3n7md/zvvEyltx7MXFw+uk1mt1uEq1WDldWU+9oalk+akQuiVZri98zBKjc8n64/vfWgi2dcefP49YFsxiRePpi9h/7nOeeWEHjhT9g8fwRmE5f0gKBoIcIzwmIPhA0gLipycXx2vpwB6CT9VwuN8eO11NzvK5n6WIgcdR8nn359/z1hZ+z5KYJ+D57nZ/97/scbO5pfG6+eOURvv+7IhqCX0N5HFvPY/f/hjcPBvq+XqLo6zg0jdKyw1TX1AJgbHk8TGvDCQZDt+k0FT3H/LMuYHT7f1Nu44WdPgj6aHI6afTFZzn0iKPl0iL7OJ5AtEzjpHy+Qlaay9GVvkJo6rWQHV4cmnotOnU9uMqBcCfB8K9L0O34ZYmTuesAACAASURBVPfpqo1sfvU3LHp+PUfSJrPwzju47cIsGtb8hefXV+GPk3yfVjbYyB0+lBHDs0jRhZc3bH6Z7z+8nC+ccRBfN9zQ0MiBg5V8ufdgpAPQelxWVFazc/deKiqr8fv8PUgvQM36l3n0T7tg0mXcc+8d3HrpWNixmjc/q+1Z/VdHflNKY/bXwe+MyZLG0Lyh5OcMCncA4qQ8hYUHEoevYhSFgcYNjU5UVcVqsXS6XlANUVF+mKAaIjMjrft0adUmezZjz7+RJZmJPPqbD/njukn88pqh4ZNdV+moAdzO4NdWDv5mN67ob0Zf10sUfR1Hu/ocnJlGl+hJvgafwy2Xj2m9K52YzZTBNnLP/hWbbmhdzdebdOOFW9p9PMRtInfBr9i0gBjESTl9BazfeAeaPQ+dfgcaWa1/G8ai2/IO2vjLIdkBjfb/z96dx1VR9Q8c/wzchUU22RUScMENDVwhTVxLLC2XSk3NSFvUFrPsyR6tnuwxM+tX2lOWaZtaLqWmZppbhraIlrgrYpiCgLLDvReY3x934YIgam7I993rdjz3O3PmzJm5c++ZOTPgcGYrZTWUd+63ZczbmEvzYROZ0tdyvKIjve40YXTQ1nz8qo2pxpN29z9GO6xKKMjPwVTqcmPUr4b0L8uVSpPJ8r1R/kHEZCyxpekZZwkOCrhweaZMdmw9BG1HMnpAJF6OAB2Ju+fit7+x0PKdYvd+ld8z7o0ZMn4CNjdIe0oqaV1KNWC5JUChTqWgkptfQH5BIW5u9XB20mE/Vup0egYHD6dgKimhUXADam4n1TwjoKrWFFxDYxjQZgvv/LqX1J5BNNbk8OeGVSzfksTB0zkYnbyJ6juS8QPC8Sw4xMfT3mZtOsAHPJwAuoihvPvkraRvW8WyzUkcsszTLm4k4+4Ox0sDqmri7+3LmLcigb3p4NmoNXFDBtM/0hu9Avkpv7Lsmw1s3ZNKoWswnfoP5dHeweRvmsOTCw5hBA69NJ5FeBP3ryk80tql4voZc9i7bS0rt+wh6UQOWv9weg0eydBO7uTsXssXq38lKTmLc2UuBHWKY9zIXjR3B7Ukix9nz2Zj6FCG1PuVRd/uxtjtGf47NAzTsa0sXbGZbfvSoH44Uc1N5rNMqKiqes33h+SUk+TnF9IkLBgXF2fbtgSVo8dTKSgoovKYOn8/HwL86te4nwG4N+3Nw8/cRbDGPq5ycvUUBkzZiu+ID/h2Umtb8RX2o+LTbF3yKV+s2srOUzpadujGkDFjGBzhZi4nI4kv353D/A1JnCz1pmWHbjzy1BjuauZWoT45Sd/xv/nfseWPwxzLNOLTpBuPPDeRhzt7oyiQunoK909JIvLRQfjtXs/3f5wgz6UpfeKf5eXhrXFzAEUxkvHLd7z/yXK+TzyNU0g7Ij3ybPt7hc/J2R28OuI5vijqw9xFU+ntb55/30dPcv97J+gz/RNm3x1ITtJ3fLLwO1ZtP4zBP4LYuwbyxPBuNHQG47ElPPLgHHIHTWW4YQX/W55EcY+prPpPBPs+m8P7X+9gdyYEhUdz95jxjOsTyJnVU7jH0qYrn2uNToW8wz/w8Scr+GH7YTKcG9G5593Ej76LqAAdqgp/fzeFIVOSiHp0EL671/PDHyfIdWlKn0eeZdrQ1nhoLr6dr1XqsOc/KGlbKYvqj8IeOA2Et0F1KELZsQE1ujdKyUFUwlH2/0BZQLcLH8dKsti1PYmCoG6Muj0IraqCNa7VmPOW7Vz41698++0WtiWlku0cTNRtsQzu25HGdp/7dT5daJeTyIY9qWTjQXivB5h4tw8HVi9j0bZkCrxaMyT+Afo380BRTBz79m1mJoURF5zKxoRDnMzT4ndrL8bFx6LfvYoFq37leEkAtw8eyUM9gnFRIXvHh0z8tJDhr46np5/WXM7qt5m2KZBnXhlBO3e7csPS2LbjEMlZ4HdrN8aOHkA7X62lvtP5Uv8Asx8P5+CHrzNzRw5wiGmPbgG3SJ597Ba++WA7YY8+zxORHrb2+vGdmSx1eYAZj0bi6XDtv8cKi4pQUSsM9fX39aa+lztpZ7I4l51rez+voLDm7zG0aHWQfewAyWdbmdunmu3/9fIN/PRHKgWuwXQaMJSxPYMp3DKHCZ/Yf6fUJ/aO+iSsP3r+90zQId6e9jnZcc/z0p0BaM/t5u1XV0KPTuj/2M6OQ1mY3IK5/d6RPNTbvL2Vshx2rfychRsPcTLbRDkPek2axriWRexYvZhFG5M4WexCUKsYBg8fQLeG2hvid4ekkt5oqQMoKIpCnUxRUFXIzc3n7LlcTCWlnMvO5dfEfezdfxRTifWMPBdVnmXCiu87uuJ/iztk/kVGoQLGsxxPVYga8hjvvTOdVwbewsnvPmHBb7ko7s0ZM/NlxrR0wSvmMT75/EO++lcs/pzl+F8K7ezmSV39CQt+zwUUCg+v4+2vU2k+YgqfvD+F8bGBYDTXw5j+G3P/bznHG/ThhZkzeWtsJ9j6OXO25+LVeyKfPN8FP9dghr02h28Wvc6YCNeK9S/NJXHxO0z7dA9Ku6H89+3pPN+vMa6AUlZE6rEs3DoP46W3ZvLek7HUP7SSud8cpgAFRQEo4vjGJSxNuYVR02fy1sDG6E7/zNw3F7OtqDljp01n9rgu1E9Lo6D04tr5aqT5BYUcTTnJnqTDlbanQqCfD8FBgQQHB1ZIzfcDXMx+wfn7hS21RW15xX760nx2vvccY2b/wMn6UQzp3RqnI9/x4tMz+O6kCQynWfb6c7yy8jDuUXcTP7AdfrmnOVNYeTkm/v59A0u3n8a9eSx3R4dgPLqVGS/MYNlJk+XzAAay+OHDeawvaED3nu0IKjzC6rffYulBE4qiYDi0gmefms0XO07jERVNpMthfvg1y1LfStvPI4I+0Q0gcxdb9p01v284ze5fDmPwiqJ7uwYYjn/Hi+Nm8H6igZY97yC2YS5b3nuFiQv2kWdtj1LY//UM3thqIPKeUYy7vy0ZX89g/PtbOekfzYND7ybSI4uT2QW29Sj/4Crk7f2M8aNe5X/rDqNvG01n37P8sHg29z86ly2Z5e1utKz7DwUNiLWu++y3WHboUtr52qRKwQkc/3wVNaSj+cy/w63g4gkOaXDgiKUDcAi1oLm5Q+DXCIe0rSgFJ6ov15DLyTMmPJu2wN+1+uWb/trIzNc+4UdDBONem857YyIwbf2EaXM3klxc/rlP3ryFQyH38J/ZLzP5DneOr/uQCVOX8Xfzocx45THiXA+x6MsEjhus5ZvI3r+RtTkRjHl1Jm893gnd3nVMe+FNvi2IYvy0KTzTqYRtXy1j66mSSp8X+3pa3lUqlXuqMcP+NZ0P/xVHcMpWFq49bnecsnzeHD2JnjCdt+4NxrVBLK98+CHffPgYXVpH0jOkiD8TjpNdZik3O5ldf2lp06ExXo7XZz9wdXGhUVAg1u+z+p4eBPj7oNPpCPDzsb0Pivkm4ZrK1XrQvltrPE9u5bUXZzJ3/WGySypt/zO/Meed5aQ07MNk63fKls+Z+3Munr0qf6f8l6dGPXeB75lKxw1DGj+tSkTX7XHee+clxrUvYduyZeywbO9zf6xm3nep+PeO561ZkxnXKxhXtzAGPB7PgHAdJzd/xkeJPgz/90w++e9jDAjVoZSUXPPtIqmktSXVAFjPvFrvFq4LeXPGfI5ERcVkMnH2XDZ/JB3mPKrlfxcs31oeWM/gWk/BaF1c0JaayC9TwTWM/mNDbfP79RrMgD3TWfnHXxS0b42r/UJVS/1cQhnwaKhteb497ebpEEH+mdOcK9Xi6e+Nl6eOqD79aacAqpHkhM0kB8bx74EdCNIA/rEMSdvLa78kkR3d7fzlVVo/Y/puVm7PJKz/MzxzTxiuioIa2582lni7IfFEWaf37suolL1MTfyTkwXNCLfe1OrbgbEjexHmAigmju3cwl5dJOOeGMTtvjpU1ZsBcXvZNi/T1n7Xen/w9/Pmj6TDFBQ42+0flpapdvurNdfXInf7DLpHzrDlWz7yAV9PaF1xJ7OWZ7dgw6ktfPFtCkF3T+fzV7rhq1HISfyQkY8uYdW2U/SJy+Joch40uItnpk4mNqBS/Wz10dLygdfYfJ87bs4qipLH7tmPcd/CJLbsymRIcKCtJkF9p/L1633wdchjx4x4Ri5OY19yJrSsR+Kq79hRCC0fepPPn2yHuyafHf8dzcjFWbaK25bvUI9WPaNp/PVyEn89Tm6P+ujP7GXLASO+0d3o7JdL4ttL+KGwNS8sfJf4ljooO82qZx/mxbXr2Te0FVHW9tC145n3p/NgUz1qSSYbVqZgcGzEkGf+xdMd6lVob7stB6VZ7FiynB2FOqInfMhHY5qhKz7Fsn89zIs/rubLHwbSeWij8nWPm8bXr/XGV5PHjv8+XL7uDU5xLDkPGtxtaedru39Wzmu+74nq2QjFNw0ApWwPuAIlQFPL0e2IghrmhNLhFtA0gzMnIO8EqkujqssvLaDABPVcNWirPd4VcfDHzRzURjJuZC/a+OtQ/foyduhfTPx4Mz8euY3QFua29IocxNP9W+PpoOIX24Xmm1dC/6EMah+AXgmgV7cwNn59jNQClTAn8/K0/l0YO6IXbbwA927cvv4X1vr2Z+xdrfByAL+etxGasJnjZ4wQqLHb3tbjl/3n1fr5BK3/bYyN70s7LwXVL4ZeEVuYk/oX50zhuCgVPujlx2+747miDaB9l3CWff0Lf55tRTdfLWcOJJKsa87YJu7U/P1wdfPWuhpNJltcp7W2j4pOp8VoMKLT62ooT4tv9MO817gj65avZOmns9m4Moxedw9gWM9wvHQlpP5s+U65twNBOgXVrxv3pe/lP78kkR0Ti4vt+8++Pe2Pp5WPn3bby9GF8L4jGdU1CJ0KnXt2ZO2O7Rw6Y6RXoMq5Eyco8OnAkD63EuYCYQP6sCvxWwpcgwjSG9l1MgujNgw/L3e8XNzpNSS8fPk30O8PyUv+RslrAKw9cqxJncgrtjcUa6A6iuV/F1tepbipsBCTow/1HCzxklyS9+5m5297+fNYGidPF0LbHAoUBVfbsVIBxa48U07V8wD+t3an1/r3+Oi5yfzYPY5R98bSxkcLJbkcPJjKmb3JTBi1uOI6BTXmnEmx6wRUWp7lLVNWKumlPnSLDMS1ijiYyD6WxLYdiSQeSiUt/TQFToHkmxRwMk/m6tcALydL+5lyOHQoC22jWJrX11Usz1qT67A/FBQU0bZ1M9q2DqdCEEg9lY7RaKSyAH9f/H3r11g+UPGeAI2OoM4N0FdYb7v2L28Icg8ksjsPMlZPIWZ1pQqk54NXBAMGR7P6ze8Yc08ikR2jGfLgA/Tv2AB95fo4ucPRHSxbv5Ut23exc98pADLSCzDYVVbv0xB3RwVwwsPdFcgkr8iIwXiW/UkpQAix3cNx1yiAHg9XfbXr7968G7Ghy5n/206O5bfBd88O9ue50blbBL7GdJYmpoABZgztQXkXCXA7TWZxeXvoQ9sRfYt5OYrGh84D7iL6x095/5EhrI+M4o6Bw3jwztb46u2bXQHDWY4dzwLHpnS7PQQ9gFMDontE4f7jVo4eOY2xLKR83b0bWNbLCQ/3ekCWed292tB/cDSr3lzNmHt2VWrna7u/OhSeQCk4UT4MqCo5CrTwx6FkD2Wlt+Lw2ypLuzaqvnxHV1y1kF9QggkFXVXLN+Vw8lQR2pDWNPct//z6tWhNc6dDnDyVg6ml5fE6mvLjhU7vgosTmBy1tvbSurpAaQ4FBvOZWhTAUYPWMh8aLa5OWnQ6nS2u0zpTjxLyC0sqfV7sj19V5B21tnIVjQ4XFy38bcJYCor1aUCVj2+Vjud+EV1ot/Izfvoji+juWg7uTkUXMZTmXtfv+6ygsJDUv9NtQYPJRHrGWep7upN+xnKFDvM9AUdPnKRls7CLKl/nH8GAJyLoe08SK79azKLP55BaPJF/3+XOoUOW75SHqvhOMWL7nqjYnnafyvPiloUr5m2s12mxbW8nF/QOJRiKS0BxxT+8Of6bjrErOZfwCBfOHNrLSYdABgToQKOlec9YGr+xjGef2EPXgQO4r1ckQa7Xb/tIXvI3el6DqtqfsESBOpFXLf9VjldJLT87VH355Wc7VFW1nuRAKc3h2OEs8InC10WFjN3MfeNz/mzQm4cGDGXASEj430wWlVqWYTuJYjkzooKauZv3LfOMHjCU/iNhh2UeVBW1XjOGvvwGXY8msXP9WqY/s5bw/o/y/F0eUKrFs9MIZo/riKdj5fqrFNqdtVHVKtqjxLxehpIq4sVp/Pi/91iY0Zhh9/Xm6Xu9Kdg8hxc2WMuruC6qCopqglLMd6NY16+8mW31qGn7Xel8WEhQeTuU1wZUleZNQ6qdv6bPj7URbPcEONqtr2o/paV91fPjKuDTbSwv39eqwuMu3Rs1Ra9qafHgm6zrvJUvP1jIFxuW8+KWLeyY/gFv3RVYXp/SLHa+PYkxnx/BreMD/Ovp6Ty4fw7j395l27ZqpbpUeEcFtcSI+QEjKqqDdX8on858wq1Se3g2pVuXRsxf9Ds7jtxFk+1JZHhFERsViKoeMU/k2IiHp4wntoHdQwJdfWjpp8LxSu1haR+3DmOYtzqWDZ/P4+PlW3n/31tZv/9Nvn4uusJ6YN/G1v2wwjaqft3VCrOZ2/n7zlv54oOFfF6pnW3rCxfcH65EntwU87/1aeYz/1VQXA9SVnYrZIASWERZp/44/LKqwrHsvPL19Qlr6MK65AOkFTUjzKmK5avlM1b4/KpaVEdsTW7eFco/97YJKy0fsE1jf0a4wsnjCseP8uOt/efDqNrtj3blVFy+tb52hVuXXaG+dscAu+MYHqH0inJnxm9JpIa7s+O4hnajQ3Gx23+u9feZ1lFT4XNqMppIO5Npe7KZ/fT1XJxrPF5VzusCWzF4wnMEzZ/JOz/v5Fi37hW+U7wcK8+vkm/3nWL7vFX6nrHFbZPZbU9rnvO3t+stkXT2+pllM59naSngGc7gMQ/TM1Bjjof24uV3IjmUtJsfV37GhO/W0HfsY4xp731F2lvykr/Z8g4oirkDrljGCNWRfH1Pd3Ra8xkHxfL/qq4IuLo60zik4UWVb/mKrhAvSPmVHw9DaMcIgp1LOPnHFnYYWzP64TiiG/vgqrNObylD0YIjKIrlTJdSwt9283Ru7EM9u3lsy9e4Ety8E0Oemsyrd3mTnPAbh0o88G/gQmHKIZLzq6m/xnIarJr10/rfQoBjFocOncVUKW46vZt1h3T0GvEAcZG34FVPZ33elG06a3vYynd0wd9Xiyk9lfSi8vIwmcytd4PsH1j2ChSFv0+l8/epM/x96gwnT52x5c/l5F1UebYPXFVxu4+jOY5tL1QUBfeGIQQ7QuZfWbi3aE90THuiY9oRHdOeVg31oCgYs/NwahrLE28tZOW7g2hMFju3JpFZZre8zH0sXXcEQ/AgZs8YT/9OIXgoBtvTiBSl4t5fuX6KAoqTN8EN3YAT7Nz5F0ZFAcWI0VB5O9uvvzutukXTmCOs/+Y7Vv6WhW+HbkQHKChO3jQJ84bS0yQbGxAVY7d+bUPw0JzfHrby8/Mxujfj7omz+HrJVO72gWPbd7Ivz349FLAt4wRbt/+FQVFQjKfZuSmRXHQ0adoAJw0V5rHV337dFQVjdj76prE88dYCVlVo52u7f+IeYn7uvyHgvOOVPcUhrXy4UHqaeZ56IdWXr/EkokM4rie2snjbyYqf97ISCg0K6Dzwb+CMKfU4x3PK49kph803Yjb0QG/ZZhXKt25I+2Od3WZS7D93FfLWj2Llz4c5r3NyRVdWSIHBEi8rIjsjB1P5guzKrfz5tttfK9dXUz5PeXu5EnpbFP6nfuH7Lb+S7BpBdGPXa3I8qi6v0+toFBSAgoJOd/73mVanteUD/HxqLr+siL+PpZJdZh/XotMq4KBDrzdv/8KUwyTnV1M/66OTK7SntmJ7W6e3+3xVma+0vQuOJrCtLIYp73/IN4s+5Jv3JzI80qPi8p29ad6hN+NemshDjbLYuf1YpfW5fttL8pK/0fLlTweynE9QwJJa8go3Zdy9nivNm4aQnpFFesZZW9xeRKumtG3dzHxYVWsu33bOQgXjudMkH9jOwk83crLRAF6NDUKrgquLC9qi0yT/XUAnFxOHt61l5Z4cjK0sZ0sUZ/z9nSnYk8iOI8G0cXdG6+KCrug0x/4uoLOLiYNby+eBAg6u+ISFGRGMGdqNxk6FpGUVovMLwE/jjH/PWMJ3LGPeRz48NCSGdj4l7N3+K+eadqNnmAtar0D8HX5l1297idIH4uYRgK9r+frp/G/lzvY/MPOr2UzNGsToAZF4/pXAj5lh9A13oR45JKdkUdBMS/7+rXy5LpmCMp8KZ9BsZ4hVUBzcCet4K54JP/Pp0mDG9muOYfdKPlq8m3OElU93nfePAF9vXF3NTwnSaLWUmEznza/TaKjp82Pf77Y/c3r+/mY+0+Wkq4fOEQzHt7ByR28mRvcmvu9qxn+3nPFjM+nfJRC3wtMcSG/E46+MpVXOd0yMn83JDmOJ76lj//ItHANa3hKIm0P5/qjoXPF1A47/wNtvqvxg2MWqTSfKH0la6Qwhla4EoILqUJ9uA/vR8ocl7J47gfuS+hDteZr1K08AugpXAuzb1615LHeELuH9lYvZjxt3d4vA10FFpT6d7x9E5x/nsWXGkzyS1JsoH8g4fgT6vMBU+ysZ9u2Xd4RPJjzJ+8ZuPDMiCn5bwdZM0HcMxM+54ll9HOvT6b5BRP84jx3vjuW+xGiCziXxw748CB3I8B6N0FVccduZ4/LlgiF5Nf96pLp2tl/vq79/lrk0wiHgdhwSP0Pt1N98P0AV1LIA85WAlA2oAd0ojfm4yu1jX75X+wGM6f4X7yx6jzdy+xPX1APyUtm5aQt/eg7iP+M60rpHd5rvWMbbbxgZNaI3QX9v4KOvf6Wg6WD6NnFGVQvLt5fd58N6iCw/XpZvpvOvGNidgbc/fqi2oyyqqqINCMbf4Re2/fAzQe3dOffnFtbtKQJH1XrgqeJKgLVQ++1t3b9UVFWLl78P2rMH+WXPX3iFuVDf3xsXR9AFdqTnLVv4eGMaQXFxBLle/+9PF2dnWjQNQavTkn4mi7SMLFu8SUiQZX7L3zupYfubUrbw9n9Wci7sNgb0jiSILA7u2s66XwsJv68joS7OqJbtP+8jb0bfF0OkdwlJ23/lbNNu9A5zQePZgACH39j1217aOQXi6h6Al2cV3zN2Z/7trxBUPI5U3N5GkxFjxgkS950mrH0A9TR29S9OY928z9gbNoCxd4TjWZDNmVzwC/dB56Da2uFabx+JS/xGjmvA3DPAMkGV6U0ad1AUAv19qe/pQfqZLPOZXSA0pCFtWzXD3a0e9i5cvgKUUHB0JU/GrwStB0HNw2l3z2OM7xJJkKUor7b9GBL+Hh9Nn8hSXAjqcBu3xwSyMQ9zz8zRlYh+Q+h7ahmfvvoyhMXx6lP9GGyZZ1mleUBH/bDG+CWuZdJj5jGarmGxjJ8QS7CzAo16M/klD1au3szC6SuZWQB+LbswoInlTFJgR4YPPMacZR8yaaUHXcc/z8QYn/L1c/QketREXmq4jlXblvPCxs/BO4y4wc3RNezIoDsTmfnFdB78ArzCOtKrayTJv5gbxdbudj1QAK/IIfzncR1zv1rOCxsLwTuMXnFd0P2cYZlOuSbb/0LxxmHBtu0eUMPfCbhw+YrddAoo509nzSmKAv7tGNCzAVtXJ7H6xyOM6BrNHdPe5bMWS/hi7RaWLtyKwSWE2AHROCkKerdQYntEMP+7OTy7DtwbtGbIxH/xxNAInGztD9Rvw4hH72bnlNXsXreCY6HdeHBcG7Z8vNpcE0Wxr6klr1DxLQX3mEeZPUNhxtzlbNn6HSdDu/HgQ91YtTDRvBy7cmypewixsSG8fzQFLE8FsraDe5tRzP00kPkLvmP9z0t4/xwEtenDEDeq2A8s7af3pmX3WFotWc8rL3wHbg2IHTSRJ8YNorETnLSvNAoebUcx59NA5i9YzvqftrLTpSl9ho7ikdF3ExlQcSvYtoPd2isK6N0vop2r3P5XZ/8sve0T85N+flmFGtLRHHDxNKenDqNkp+DAX+Yf/7fNp6zxqAqtUm35Oh+iR03Gv/kGlq5dxcxV5kcCR3Xoz8ReUfhpFAjpzfMvebBy5WZWvj2d7HrBRN0RzzNxHQlyxjzcD8rb0Xp8VLDtRxWbXLHuctj+oZTXC/vjh+3zYzl+NejIQ0OOMXfFYmZuBr+YoYx7wIO531oLUM4v11oRWzl29bUsxytqAMOjP2PRvOmsdQpnzLQJ5r9krvOhbecwtAcy6dzhFlztPtDX+vvLmur15cPo3NxcOJtT/heDzfdTVHSh8nWNezN5sjtbf97NjqWfcCgT/JqEE/d4PANiAs1/J8C6/VdvZsFrK3nD7jsFRUHfoCPDLN8pz1q/UzpV8T3TUilfvv1xv8rjiDnueksEYY6/svLdl1lpXSGtC35NOzJ6TB8aN2/AtjVzeHixCdAS1HUwk+MaY70t4Gq0v8QlXqvjBqNJRQBQUFhEQWERfj71r3dVhBCiRg7HPsMh+TOUvBQA1IBuAJT5d0MN6Ibq2ug61u5mZOLQspm8sT+Kl57vS5jT9a5PHVKaw84Fb7OouDfPP3IbQU6AqZCTiWt5Z34CfiOn8HyXGv6woxCiAo1iu16gQKULBra0jsTruTpTz9Xlhq2fxCUucYnbp2qTUZQ2HlltXLnB61974iUUZGaSfvhnFm7OpfnQjjR25gaqXx2Iq0WcSc+lwKmIwsISFGcNKCUUZqSR7xxO32bulqsJN2j9JS7xGzCuGI0my0i8qlknlbjEJS5xiUu8TsYLDrHw5bdZdcqF8LseZvJ9rat42tp1rF8diRtP7mbV2i3s3JdMj+ouKwAAIABJREFUcqb5LwZ7tuzGQw8O4PZGLte9fhKXeG2LK0ZTiVreM6iOxCUucYlLXOISl7jEJS7xmyUu9wQIIYQQQghRxziU35EvqaSSSiqppJJKKqmkktaFVK4ECCGEEEIIUcdUuBKgUKmHIHnJS17ykpe85CUveclL/qbLy5UAIYQQQggh6hi7KwFYUslLXvKSl7zkJS95yUte8jdzXq4ECCGEEEIIUcfI04EklVRSSSWVVFJJJZW0jqVyJUAIIYQQQog6xuF6V0AIIYQQQghxbUknQAghhBBCiDrGdk+AlVJpAolLXOISl7jEJS5xiUtc4jdXXO4JEEIIIYQQoo7RXO8KCHGl3H7Hfde7CkJctG3rv77eVRBCCFGHaYxG0/WugxBC1Dly7BVCCHE9KaqqynAgIYQQQggh6hB5OpAQQgghhBB1jHQChBBCCCGEqGOkEyCEEEIIIUQdI50AIYQQQggh6hjpBAghhBBCCFHHSCdACCGEEEKIOkY6AUIIIYQQQtQx0gkQQgghhBCijpFOgBBCCCGEEHWMdAKEEEIIIYSoY6QTIIQQQgghRB0jnQAhhBBCCCHqGOkECCGEEEIIUcdIJ0AIIYQQQog6RjoBQgghhBBC1DHSCRBCCCGEEKKOkU6AEEIIIYQQdYx0AoQQQgghhKhjpBMghBBCCCFEHSOdACGEEEIIIeoY6QQIIYQQQghRx0gnQAghhBBCiDpGOgFCCCGEEELUMdIJEEIIIYQQoo6RToAQQgghhBB1jHQChBBCCCGEqGOkEyCEEEIIIUQdI50AIYQQQggh6hjpBAghhBBCCFHHSCdACCGEEEKIOkY6AUIIIYQQQtQxmutdgSvFaDJRWGjAaDJRUlJ6vatTq2k0jui0Wlxc9Oi02utdHSGEEEIIcYUpqqqq17sS/1R2Tj4GoxEXZyec9DocHR1wcHBAVVUURZH0ElIAk6kEo6mEgsIi9Dodnh71rvMWFkIIIYQQV1Kt7wRkncvF0UHBw70eKAqKXUxVQbF7QwWJX0K8rEwlNy+f0jIVby93hBBCCCHEzaFWdwKyc/IB1dwBEFdNTm4+oMgVASGEEEKIm0StvTHYaDJhMBpxd3O93lW56bm7uWIwGjGaTNe7KkIIIYQQ4gqotTcGFxYacHF2Aqxj2RXKB7RIemVTcHF2orDQgM5DbhQWQgghhKjtavWVAJ3W2odRqkmR+BWK67RauRIghBBCCHGTqLVXAkpKSnF0dERFBcsNrvYXBMrzEr8ScY3GQR69KoQQQghxk6i1VwIAFAfL04DsTmBL/urkFfvHCAkhhBBCiFqt1l4JAGzPtbc+3kjSq5sKIYQQQoibQ62+EmB2/nh2pZr37eOn0zL45LOvWbt+y2XNX3fjQgghhBCitqvVVwLMtwNYrwZUTKnmfWs6eMQTBPj7kZZ+hgB/XyLbtrLF09LPcDotg8i2rS67/Js1LoSou9IzMjlzJuu89yNahV+H2gghhPgnboIrAZdu9x/7AJgzaxoB/n6s3bClQmzwiHFMeO5lBo8Yd51qCJDH7rmPEjtwButPXcdqXA3n9vLRc2PoGtmZkO7T+D7tOten9BRfPdqPrs+tJ0Pufb4016jtVGMuJ46ncdZ4fmc0bfFwAhUFxfrSehEW2Y9Jiw9QbJmm+OBcerrZTWN9BQ5i0Um7wrJ381IHBcV3EPOPFldYznlleAXSsutwpq87jv2U1vrE/Gc3FUuA4wsG4aU4E/OmNZbNpifDzq+XohA19fz5r6iURQwKDmT44ov7AO7dd4h33l/A3v2HKrzSMzKvZi2FEEJcJbX6SkCFP3ZsearNxeQD/H0J8Pe1/cjv2+txrE8ZWrthMwH+vrw362WGjBhH4p4k81WCSyj/yuR1+IQ2o2WrEILqWc7DX9PlV5G/IoykblzAvF/cmLBwDX39wd33SpUtblamoiKMGmdctdXsiEED+fKn5QwLKiZtzybWfD2X6WP7ka1J4OMhAeZpnAKIe3Euz3b2LJ/POZCogPJs8dG1bEoLJVSTwNqfThPfJLTicuqFEr8ogY97O5F2NJHls8czaWA/Ti/axJx7AypMunvtcnZPiCTaurji42xanUD2eZV3wql1PHNmDiPUqfxdr9AWOJ037fUV0TKcYUP6X+9qCCGEuAJqdScAsPuxavnHReTtf+S/OOkJy1AgczyyTSt2/7GfCZNeASAw0K/igi5jeZeX1xPUdyJz467V8i4mf2XkpmVi8GpP6zBvfN2uWLHiZqWWUlRgROPiia6m3VDjRED7OOJbh5L9ewxzNySSdm8cngAaZwJbx9Cje0A1MxdzYMMm0loMY1zACuZu2EHaiFACqjpKOnkS0LoH495fQ6CmH/EvvkZc9BziLEV7NYkmMHMTa5Kyie5i7gUUp2xi7QEvIps741y5ON8WxHTvQYsb7Vd/NeLHvYCfn3e18WGD+8sQISGEuMHV6uFAKqCqlt+oqnpJ+QA/8+nnyvE7e8cS2bYlaelneHfmNPz9fGsur/Q0SycM5r7pS5j97Gi6d+xC0w79GTFrK6kZR1g16znuvK070fdN4YvEPNv8xUd/YPbTj3FnbA+atulO9xEzWHXEaIkb2PfxY0QPmM2Oc+X5Ox+dxxfvTeG+Xt1p2rYHd06Yx5ZTxirrdzT5BN9v+Om8+v6y60/Ons2+5Pa7EhLfGEm//x0m98giBnbqTL9ZezEAuQfXM+u5MfTqdDtteo/hqXfWs++cdS4j++aNode4ZSRsXMhTA3rTYfQijp7awuS7HmDyvIVMHjqQNi07E377SKZ+k0Ju8hbmPDOSDpG96TXuAxIuaciRkdTNC3nqwQfo0L4zIRG96ffcsvPr88gHfPbOCwzsfjshLW+n17gP2Py30VaK4cgqpo4eSIeIzoS0LH+FD13EUUM1izacIuHT1xl9V2/CI3rT69F3+f4vI5TmkTBrJB3umkWCZfRFbuIHDLz9AaYn5IEhyzzfgH60iehMSKcHeOx/v5cP0cm8jLYqPcVX4wbSb8pCZj0zkq7tOxMS2Y+BU+zb4hLWwSL3j1VMfXAg4S0706b3GCZ/upfcCw0lKjWQZ3DA1UV3yV1RJw0XfzY9/wBrN+wnoGs/4nq3gB1r2HSyhnmcQol7YjgtMtey4je7ncwzlB4R2WxalWg581/M8Z/WciC4B1GeRZe4FhVlb55EVMQgpr85np4RXiiKQmDkcOb+nsbxzW/xSNcwnL3C6Pf8Co7bjScqPrmJuU/0o2WgM87BUQyauYnTJZdXBz8/b/477bkqXxEt5ce/EELUBrW6EwDnn5/+J/m09Az2/LGPdT9spW+fbtzattXFz1+az+7liznQdCwfrf6Sj4YGsv/zKdwzYg5Ho8bz+eLpjPBI5O3Z37C/0DxLxvHDZIbdxbSPl5Lw9Qv0cdzKK68tscWrWt7JHUv4IjmCZ+YtZdNHY2m8bwlvL9pLbhXTH03+i/Ubt7F+40+2937b9SdLlq7maPKJS26fKyFq8mesebwZ7k2HseKXnayZFAEHl/FU/DS+yr2NV5d+w5pXumNYMY2HXljGUbu2OJOwgOlfZtJj+hJ+nDuYJjqgIIWvPv0Z34dm8OP3c5jU4jSfTRlJv6m/Exw/gxXzR9Nk/yKmf/q7rY1qVJpHatIp/O56ksUr17Dx3eH4/f4uz8+rWEZqwiI+S27DpPnf8NOCx2iydxGzvvjTPE1hCl+98R7f5rRn0qdL2Pjhk9zZ0I0m/SbxwZQ7CNZXteA8EudNY/JK6D75I7Z/P5dJLQ4z68VPSMx1I+ahx+jLemZ9sZfcvBS+/XA1uTGPMbaTGxhPsS9ZR8yEt1mzYQWLngjh6PzXmbXR7ibOy2mrkjz2rd9EbqcnWfD9GjbOHoLHT+/y1HsJ1fxwv8A6nAMyE5g1dSFner/Cxm1rWDy5O74YqK5PBFBaXECxgxP1arwMYK1zGjv+9xJzf/Mipm8Unhd5vbP46CbWHPAipksLQjv0oEXxDtbsqLn36BQQSUvPc+xPOl1+D0KJFy16R5K9eS2JmViGAh0gtHcM1V2HuBTFB1cw62uIX5BI8o6P6ZG/iPFdIxm+2JP4zxNImN2D4x9NYvo6S/3zdzP34UGMX+fE8HmJHN88lzgS2X2978cRQghx3dTqToCqqv/oBbB77z6efO4Vut5xH/eNHMeTz79CgL8v/5r4xCWWB0E9xvF6fGfC/G6h86B+RLq5EfnQMzze/RZ8gjpzV79IdH8fJDXXPE/DXuOYPr4fnRrXx6dZbx5/tDe+KbtI/NtgLhPr1Q7VltcH92HylPvpHFKfhlG9GNLZmzMHU8gpPr9OfXp24Y5eXVm/cRvfb9zGr7//weKlq3lg8F10iIq4rPa68vLYtXwZCY6xvDT1IWJu8SY4ZhhTJsXCr4v4ak9e+aQu4Yz895MMaO2Nu4vO/J7GjZixU5hwRzN8b2nPPQNjCHYJ4f4XnmRA6wYEt72D+2N8zG10oV+a9hy9iZnwIlMeiKFJQ2+adB/GpPtCOPPL7xy1q47+ljuZMnUYMWHeBLevtJzcFHad0BEz4iHujwqhSdfBTOgfSE6mkeCm3lTZB0jbxVfrDdw5aQIju4bg27AZd44aRkxhAusO5IFPDBMmxJC78kPmLV7AV8nhjBkbg68j4BbBmFcmMaZXM4IDGhDzwJOMuTWPXQmHyn+sX1Zb6QjuPpwJQ9rTxMfSFkNDOPPTenZVdTWghnUw5J4iNRM8AhoQ7ONNq17DmDSqvXkdqlRGUYEBnF3QVzsNcHIFw0OtNwYHEvPiblo8M4fX+tr95M4/zvz+gXY334bxyDrrCP1iDmxeywHPGHq08MQpKIYeLc6xY10CaTWdLdc44ekExXkVb+MNjB5ETPEmVuzOpvjoJtamtmBg99AqCigme/MkWjqX3xTs3OMtDlzgrmAnn0gmvTeLYe1DCe08iPi7W+DUZDivvR5PdEgAkffGM7DJORItHZPsHV8yf3cgz86bz5S7WxDQJJr45ycRF1TDulXi51v9ECAhhBC1S+2/J+AfWvfDVgL8fRn94GAC/HwJDPClbZtWl1GSrkJr6nV63J11GPQ62w8+Jzc9TmVnyS00mqcHDKlJrN+0ga3b97L/xAmO5QaSkWeAqn8motPo0Fu7bo469PV0GP/KJ7cUGlYx/R09u6KC7WrAA4PvokO7NpexfleJIY+jR7NwjxhW4QbN4Hbdaee2i6PJWRhiGgCg92pAsJfuvCL0dk2ld3NDr9ejt24LRx0e7joMR8xtlLpmGqOnrSfVAOgbcM8rc3jjzqoqZiQjKYF1329m86+HSP07hQyX5uYfx5b7GPQaXfkPU0cdejcdhhPm5eDVjB6t9byX8DtH7+hPE8MhNidmEdyqGX76qusxxed3diUf5ugjvfmoQl3cGJCZB7jhG/soY1aNYvI7BmKe/ph7wuzaw5DFvoTNrNuYQGJSCkeS8+D2THIA98toq6qPDjr8wkLxKMziTK4RvCpGc09ceB30nbpz/x3LeOqZfiTEDGPShOHc2baaThFAqZH8InD11XOhPgA+0Tw7+yXi6h1g7sSXOHD3HL6cGlfxKsB5NwY7Expp+XfxcTatS8QrMp4oH0DTgpguobz0+XIS0gYy8EI/lkuKyS4GJ7eKA4+cAmKIiy7mtXUJ7A5dy+mmA+kR5MSi8wo4/8ZgZ6+WFW4SPp+T3fZxwsvLEycnJ5yt7zl54uUGxefOUUwxx/ckcNonhh4RntWUV7OIVuFEIEN9hBDiZlG7OwGqimq5c1VVFHO+cnqhOHBrm1b83xv/Bsv7XMr81rjtLLlaYTy97fE6tunt653H/oUvMeFzI32efITHZ4zD96+FjHpym105VCrXPq+UL8d+HH8V9bujRxcA6nu6mzsAl7p+lLfXVeOovyZPQgnuNYkVnZ60DD/R4e7mBlR6Bqshha9emMisE+2Z8MxoZj7qTc6KfzH0i0tYkL4BMb0imPXSLHqteR3Q0ereSfzfE+1xB9yrqIdhF+DWjEnzP2Z86/M7OwCcO0ziMQM4AqXmYTR6gL+3MPWJ6SSEDWdK/CTGhsHmF8bw2lV4bGdxbh7FJVQ9hKe05nW4c+pn/Db0TzavWcSsh/oxq+skPpg+mFZV3CSuGgsoVPX4OtVw0dIpkKiucfQI6UFgylpiXn+L+Q/34Nlb7faqC9wYXHx0E2t3ZHM8fziBi4fbRbJZ+1saA4OqH8STfTSBxEwvoloHVtyHNZ7E3N0Dps5nftJpQof2INDp/GcDwTW4Mbj4qj5sVAghRC1Uq4cDgWIZtF79X7+tLv7U868CkJZ+hj1/7r/k+S86XiG1q/e5w6xeeYSgYRN5un87Gnvr0DteYPoq8zW9X16/O3p2pUNU23+4fleB3o0mTbzJPbyLpIzytzMO7OJooTdNwi5wlvgyl+fu442vjze+Pm4VzoxbGY5s4atfddwz2TKkxe0yamBIYd2qQ7R6cQkp+3eSsn8ba6b3p4lL9fXQB4QQrDlNwq5T1fzAziPh009ICHyYBVO7c2bxh3x10AgYSf1pFesKY5gy5SG6t26A+xVtNPv1OkViwiFyfUNoUtVVmZrWAQAd7k3bM+Dp2ayYPRj9L6vYnJxXxXQqxfnFlDo543zRRyonWoyYQnxQAnPfXVvzUB7AetNuoiaSZz9Zw4+bfjS/VsxiYJD5sZ7VllN8nE2freBAQBwDO1TuKDgR0CGOmOIVzD8QyqCuoThdl9MuTniGhOKUuZ8DaeWdgeLicxRf5o3BQgghar9a3QkoHytfafx6Dfndf+5jz5/7eGfGVAL8fdn95/5Lmr/KPKr5zLl93P4/21l7S17nhruzgZMHD3LGoFKcvINPPvyO/YXYpresZbV5+/sG+Kf1v4j81eFGu0GDiTm3iqeeeJ3PEg6TsOR1HnphFTntBnP/rdfmGaJO+vIz3LjUw4Msjh48jaHUSGrCMt5b/DsZl/iDyVCQxdGEBBLTjDVPDOgbdWfkHd7sen8qs5buJTXPSEbSej76NIEMA+QmLWfWqny6D7+b7v1GM7LZIea9vYqjhTqcvNxwyj3OvmPmJwUlrljIvJ+yLnjD7cUxkrr5S+atOkxG2l6+evUF/r1Rzz2PDyPGMhTIvu1qWoeMn95l9COz+P5IHmAkJ/0UBq9QmvhUsZ3LTOQXlaF3dUZzKf1QnxjGPRlH0TezmL/T7sx7SRGnkxLYtHlT+Wv7bo5nmn/oO3WNJ35oHD269zC/7o4n/t4WnP7JcnOvveJs0pLMT9sZ/jnEv/6S7fGglesS1zuS0K6DiA6pvsrFGQdIsK/X5k3sOGiue9o344kKjWL86su/ize063B61NvNrOdfY8We4xzY8Bbx945n7WUWeeZMFouWrqrytXf/oQs+PlQIIcSNoVZ3Ai73UUAB/ubHg854+3/s+XM/Af4+/6i8avMX4tKUwWPvxefnmfTqfDsdxy8ho00/ujWoZhhIVa50fa/2o4GqoW8+mP/79BVGNj7OZ888wmPzj9PkwVdYOGNw+Znzq8mxAVH9uhN8YAHTV52CRncw4cFwkt4YSXjE7Qx87xBN+8XSxPUSytR7065TIKnrZzGwx+22x4O26T6Sp744XPWTihy96T55LgsmtCF18Qv06nQ7HeK/JKnQSHFhCt++t5SMjo8ypqs3uIRw/9OjaZq0gFlrUnCPGc6YTlnMGt2bkMgH+HdCPfrGNcPvggPpL4aO4E498Pv9NXr2GMOsJB/uf3UGr/ZrUGXbGS60DoB7wza0cvmTfw/obX6s6vtG7p/yJHdWcUOLaioiv1SHu/OlroQTofdOIr75Aea8u7z8MZnFaax9cRA9e/Qsf3WP57MtW1m714mYe+MqDsfReBJzbxyhmZtYu9vSmbDeXOzsRYuh09lUbzjzN2xi1r3VDBfSeBL3biLJi4YRWu1VgGKKk+bzSFzPCnUb+Kr5SkZRyTmyM7P/2Vn7kIHMXT2f4awgPjKMlgPnU9x3CvHtvWqetwqvvzyJiJbhVb6GDe6Pv6/PP6isEEKIa0FRr94p3qvqVFomXp5uWP+alYJiGTl/cfn09EzWbdxCgJ8vd/budsnz18X82excGgTIl/vFMBxcxGNPb6bdK7MZ38l8ltvw916+mvUCs07czeJPH6tyDPwNpfQUXz0xhjnuz7FiRuwFnuBzNagYzqXzV4ELjRq61/xHwoQQQghxSWr3jcEotp+ol5oP8PfloeFDLPl/Xl7dyIuLZcg4RWqegSbZWeSWuuHuCAZDFql/Q5PbbyP4Ru8AVPDPBxVdMrWEggITGlcntLL7CSGEEFdcre4EWC9ilI+Wl/RqpuLiuceMZuaEL/n08xfo+UIKGQbALYQB8a/w4agI2yM7RTVKisk3OVLPRStdUCGEEOIqqNXDgTzc6+GgKOZBKwrmJ3yC5K9CHlSyc/JlOJAQQgghxE2g1l4J0GgcKSstRdGYBypbuzK2s9eWx+aoChK/AvHS0lI0mms6KFwIIYQQQlwltfbpQDqtlpLSMi7+GfcS/yfxkpIydFotQgghhBCi9qu1VwJcXPScPZeLVqtBUcoHrVRM7Uc6Sfxy46qqYjCaqO9Vq+5mFUIIIYQQ1ajVVwKc9HqKiy/05JKabimU+MXEi4sNOOl1ciVACCGEEOImUWtvDLbKPJsDqoper7NcETCzvzZQFYnXHC9TVQwGIygKPvU9LjC1EEIIIYSoTWrtlQArn/oeaDQaCgqLMRpNlJWVmR8daukQKNWkEq/mfaC0tAyDqYSCwiI0Go10AIQQQgghbjK1/kqAldFkorDQgNFkoqSk9HpXp1bTaBzRabW4uOhlCJAQQgghxE3opukECCGEEEIIIS5OrR8OJIQQQgghhLg00gkQQgghhBCijpFOgBBCCCGEEHWMdAKEEEIIIYSoY6QTIIQQQgghRB0jnQAhhBBCCCHqGOkECCGEEEIIUcdIJ0AIIYQQQog6RjoBQgghhBBC1DHSCRBCCCGEEKKOkU6AEEIIIYQQdYx0AoQQQgghhKhjpBMghBBCCCFEHSOdACGEEEIIIeoY6QQIIYQQQghRx2iudwWuFKPJRGGhAaPJRElJ6fWujhBCCCGEEDcsRVVV9XpX4p/KzsnHYDTi6uKMXqfFUeOIg6LY4qoKdllUwC4rcYlLXOISl7jEJS5xidepeK3vBGSdy8XRQcHDvR6K/ZoKIYQQQgghqlSrOwHZOfmAiod7vetdFSGEEEIIIWqNWntjsNFkwmA04u5WuQOgVJNKXOISl7jEJS5xiUtc4hIHpfZ2AgoLDbg4O6Eo5jFPYE3ValKJS1ziEpe4xCUucYlLXOKg1t7hQGcyz+HpXg+t9qZ5wJEQQgghhBDXRK39BV1SUoqjowO1tA8jhBBCCCHEdVNrhwMBlqcBVTcGSlJJJZVUUkkllVRSSSWtKq21w4FOpWXi71vfvC4qkkoqqaSSSiqppJJKKulFprX6SgCKeV0klVRSSSWVVFJJJZVU0otPa+09AYDtfgDVmpdUUklvqrSkpJT8wmKMRtNNf/+PoijodFpcXZzQahxviPaXVFJJJZX05k1r/3AgwLw6il1U8pKXfG3Pl5SUcDY7DxcXZ/Q6LQ4O9tPcfMrKVAxGE4WFRdT3dEOjsZ6juTG2h+QlL3nJS/7mytfqToCfj5d5XezXQPKSl/xNkc/JK0Cj0eDspKMuKSo2UlJSgoeb6w21PSQveclLXvI3V75WDwdCqfTvyitbedoq4ln5KtsPlbFilwplMKi9A7c1VfD2UC5qfolLXOJXJ240mnB1caau0eu0FBYWXdbxLQ8DeRgoUI2UUHb+EKpK2Rshr6CgwQFXRYcbetzQ3xD7n8QlLnGJ3+zxWn0lwNfHk6rXruZ8eo7KA++XlL+tlkcpA6VM4fPHNTTwvbzyJS95yf+zfEZmNj7entRFmVnZl3R8K6aEdDUfFRVPxRkXtGhxRLmBtmd1eRUVE6UUYiJbLUJBwV+phxOaG6J+kpe85CV/s+ZreSfAy7ZKl5J+/2cZM9aUnF+opSWUMhWlTEEpg+f6OXJHB8fLWk7dSEtIS1jC+7uCGDs2liA9qJRw5qclzP0ziEcfiaWB/jLKNaSz5uOlnIl+kIeiPC9+vnN7mPfRbpo+OILYBporvL4lnFj7Me9szSzfZzT1CGnTmXviOtPIDZRzScz7v2/ZX0RF+hAGPfUAXb015vJKsvlp4QcsP+ZN73Gj6ReksS2n8NhGZs3byVnLrFo3H1p2vZP7u4bg4gA5e5YxY/FR/O8azbiu/mgo4dSPC3jzBwNdHnmEQU0159fTon7nB5l0bwguV2V/KObANwtZWdaLpwc1wekflncm81wd7wRc3PEtDwMn1RwCFDe8cL5BjguXn56jiDQ1jyDFAzf0170+kkoqqaQ3a1q7hwOpKqr1nxeZpuWq1XYAFFRLy6g4OKgoisrstaW0DdUT4K1c0nLqTmppM1Tz9rD8uzw1xy+5XFW1ln5p21m1m/8y9o8LpyoqKu7hd/LUiHbU15SQe+wPVn67hcUbvXmqfxOcVRWcvOky7CEGNXWiMtsTrXJTOXLWifr1CkhJzsbY0ButdTmqita9CQ88fj+d3PJJSdzCkvXrWOv7IINa1LOUVMLffx4hvYMfDcvS2JOUDniYG0CtXM/zKnGV9gfVssXUK/bkriut+I+3GfDgZh749mtGNz5/+1yx5RxbwP13fUL0Fxt4od1lLucitlMRJZwkhyA8qKfqrJ+YG+C4cPmpJ05ocOCkmkMIXjihuSHqJamkkkp6s6W1++8EACiKJaWatGK8whAg+2JUFUUBB7UUjVqCo2pCq5rQYmTM3LyLLr/OxqkhfrnlV1tu1fObivMpLLuCy68cr1AfDe5NbqVHlDdFJ09y1nTx5eempZDuHE6X1q5kJZ8kr7Sa5WvdCOnYi0HtNez/9RhnLdPEApx6AAAgAElEQVQ5e/lTv+AIf5wxUHTqAPsN/jT00lRRz2u8f1BD/HK3fxXSN/6XAS180bsH023CYlLygZI0lowIRq/TVny5d+WdP4prLjT7IAsm9KFti6a0jezKqDfWkW43W/YfC5h8bwduqe+Gf2R/pq1M4SJKvXw1tE86+QTgRj1FV810N8jx4RLj9RQdAbiRTv4NWT+JS1ziEr8Z4rX6SoDtLLSqAsr5aaX42fyyygUAoKCioOJYVoZDmQkdZejKTDiWleBAGaqqcC7bGU93zQXLt0+L9y1h8nOv8832gxV+RDjFzuSXRbF8e28fFnf+iq1v9sBTVSHtex7rPZbT4zfw1cBTTIsbxc57vmb9lGicVBUwcPD/+tNnya18vfYNOntVtfwiUtZ8wIwPFrH25xScW8VyzyPPMnFYJ/y1CpiOs2BYf5bc+n/8y3MJ02Z9w9bjGRfdflXHred+QVVVVNUcV1W79/IO8sW8LRDRhKK9f3AgowS3W1oRd09POjVwNpdnyOXP779h+W9/k6f1oEXHDtS39NfMZ5VLyTu+hx+2/U7ioSzwCiGqe0/i2gfgrJr4e8OnvPVjuq2dU/7vDVYBoKHJgHjGRPugVVXyjv3KynU72XsyH1y9adK+C4N6taK+9uLWv3w9rfufiqMDld7HLl5V+xWRfiwNfLvQoin88t1xUgva4uWmWvZG66ItV1RUPQ3DAiDpOKmFbQlVVXANIuL/2Tvv8KjKtA/fJ1PTK+mBAIEEIdQgEIpEQWCjtEUpughWRAF1VVB3QdlF0UVFUEBxFVxFUKS5fKCisIoBFBAEJPQIJIQS0pOpme+PySSTkAqJMPDc15U888zvnLed+pz3fc8EpnFk/wkiTGloWsYQ8HtqaUdA2fP40jLVf/sWH1zH6+uyCfE1kHbeQnR8DJrTRzlS2IT+owbTt5k7UEz6jm9Z/vUB0ovUhLTtQhc3QGerpf513b9qIH01M55bRdi0bziUcIYPn3mWKUs7seKxOEb95xSj/lO6nCWHLbPuZkbOo4xuq4cDNSebtnY6c/d05NVN6xjomcrchybx7BdtWHpPNIZjnzJtwgcwYT7fL4wmZ8cG0kL1VPuc/wrPrrW1X4FixGaz4WvTle4z9uPk5OlV3J/Vkg/iO9PUDbAVs/PYZ8yw9mFRk+OM37cXg84TXwVQvOkVfSfP+aTz1O51fK34EmozkosnCeG3Mrtpc3yNqUzbt5vYuLsYrz1WtlwzN3slmwbdyuxwI6/s201sm7sZ717AqgMfMa1ARyu1fRm9RztejO2MPn0Zw07lEqrVYSiBpr4dearlzSToLq2fLzpyKCYfI1423WWen0QXXXTRRa9Od/GeAKXUVGMr6T8criIFmw2lpAQ1JWisFjxKzPiaCwg05BJcfJEmxdkEG3PY+0tOremX2cJDLHnuWZbnJ/HShn3sXfcaQ2P9iLtvHiv+NZpofTXrO2iSyOgR0ZxYs5rtF0p1Qxpbvj1B837DifOvan0DacseYcDolzmRMJOvf9vH0nH+bJx0J3e/toOcsuVy2P7uFF7Z34lXtxypV/tVq5c1ZjX1AbDkkl7QhD9NmMKsv/6ZpMDT/N+aHaQVA4qVs7v+y4o9Ftr/+UH+NvkuuqhPczTbWp5e4Wl+2Po77p2H8ddpExjf3YujG9bwzTEDKBoi+j/IG7Nf4NW/DiTGP4LBk6fyxuwXeGP2VCb2CEIDmC/+yhdrfqG41W08OnUKT42Ixz31Wz7+PoPiy61/cRYHj+eiCQ3FR1u53tWsZ8rj8EkDAc3DCAiNJKQkkyNnDFW0m9N6Oj3u5hwuFlnsvpue5u2iKf51CxsOq4lpE4q7qtJ2qOfxcYm1utN+2L08lKDn6CEjnUf/hXtjs9m1N51ioPjkDpZvOIR71yFMfeZBRsZaOHEyFzMNlH8NpG1azS8xE5k2siPRbQcx8bEkctavJrWg4nKGAx/y5qZonnxiGCGOm3JLNjvefphbWnmjC2jFgGdW23sRMJBzIQd9TA86hejBL46+Ce6kpWaSg4E9yz/kYK+ZzL6nO9GhoXQcMp6h3UJL08xhzyfPMqRrFL7h8Qx5cUNpmo6CZLLlnckM6RSFb0AUtzy0kD05tdWy5vbJt5nwxb3S92qCA1rS1HiMnYbS48eax8+5FroGhuED+Hp2YG6XR1h/8yOs7zqG55p4A6BVR/LXdg+wqcdkNsXFkZvxHR/mGMoP89J8HMutv/kR1t/8AAtbNKfCy9QUBdBxW/SosmW+aNeNeI0CioZmTW7ni5sfYWvnAfQ27eDRQ7s5WVJFPVHwxZ18TFW3wxXvX6KLLrroN7bu0j0B9ojGHuwoNS1Wqq/ZVYJis2FTFLBRNgRIZbOhMZvRW0x4W4vxMxXgYy7Cy1KMymbFprhxcIuRW24JqjH9MgoOsu2Inr4vPMn4xGhsNOO5XasYvNVGdOsQ9JYz5eW32UrXtzl9pyNuyGg6vb+Q1Tuf45YBfhjTvmPDkVAGPd/B3nNQOf+Cgyx/fzU5t7zKW08NJM4LGPsqr+7bxsgl77Dlvm4MDbGvp285mldfnkBHP5zyr739qlPLSmMrjTxxKl9p+qh9iWnbmggPFXi0pOdtBRz5905+O9eTZuG5HNx/gYBuf+ZPHYNxBwJ6duP0wTNctNmfZCsezfjTvc3Kkg3ofgu9jnzM3owCTC10aJ3L4NS25eW3cPHQfk77duShW9vabwj9EvlT8WkWbN1Heo9wYqp5G2V5/e31yz+0kX/+bWOpqiYgpguDb22Jt1Jaf0MWP/77dX50TiSwCxMfHUCMJ5izT5CWoyc6zAONVyjN/I3sPnYBc+sINBUytpUF82pFDSVgsTjqpcYnIpYYt1385HkLHZqo2F5WxqrKaS9rzJAHeKh7YIV8qty+NhUavxAifXXog/wICAwhxMcD/L2xZBiwWM1k/XaUvLCe3HNLLCE6oFM3uqWlsoHytq82/dryr5Ec0lJPQOR4/Eofw/tGNkd//hdSc6Fj2bSJTDa+vwzDwPkMLN91MOSmcUJ9P69ufI3QEx8y5dHJPBLZnLVTOhLXbxChH7/Byyua81Kynl9S/Rh0Xxx+hkz27MzGr2Mqix6azoL1aYQNmMirs5+kb4Ses+uf5b6/HWTo29/wXkcDmxc9y7PflpdjzTP9eWR7D2a//zPv+aWxbb+eaC9qppbzWxFGAnHHhq2Crtc1o7duJ1tzChju7ktx8Ql+KAnlAS8dFDml7ThUAMXm/L0NX59Y+uv3s89sLt+UTutccnxV8X3F85tjSafltM0Y3+Jmfjiwn28L2zPe69LLkQdqsigAqm+sK92/RBdddNFvVN21gwAARUFx7t5QlIrdHU66W+lNPyUlpcGQDZXVhrrEit5iwddoIMBYRIixiABjAV5WA1qrFYubCpVOVZZfdemX5e/bkUEJel7533ZShzYnrngPG7dn0rxLHKHuCuRXV37KojR9y+GM7v4mr3yxhXO3DSR7y0ZSIwfxUjt3DAcWMHLYVLacBdAT9/AKvno8l4On9XR8/NbSmwsF1H50H5hE6Ge/kJpphBB7Fn7RbQjzqqH8tdWvsl5pe5Rf69UVdbfy9tPovPBRG7hYYEQx5pNVqCIw1At3R/puGtRqnNa3cvHAVtZt2cvB0wWYS5OMaGYt1Z3KV+Y7t6+V/HPZXDz6La/+3XF3VopnLHlmBdxrq7/duId3YfCtkWRt/5Ydql5MvLczAWrH8oDGizZ9BtArXFWWjkYfTIS7vTz5v//OWU0oSX5q0HjRPFLHprTfOWeMIEKvVCxbaf6WEgu4gVrtVD99KF3aR3PRI45gXU7596W4h3dhcP8YfNzs5de4qXAP9SsNAGrbvk75q5zSdQNKgBIjedkGPIKD8NWV6m5qNGp7sFKv/adavRospU/sI93Lh+J4+aG35JBTYADHt+mbWb0njGHvd6wwZEcf2IlRE0bTvaUeWj7Jc/f+H/d9u43MRzoSHdKDpJgPeOOZ/ix5EqKT57G2ux9Y0si5kMqWldsYtOg//DztIB8+M5kpszvy9Stt+L8lm9GPeo8nk+PwA4aOG82nKz8oK8enG2HYnJmM7xIKhDK0ZfXVq0AN7WNRbGhQX6q7+dLL35uVOZmcC/PCkHsSo1d74ksjv9y8HSRv3WF3PLuxqdOtxDvlB5Cbf4gfjHq66t0rHd+VPpSVr+L62ApZdXgBqw4D6Bke+wALwzwqJWRD7xFFvHovh4xW8FJfsn9oFDUWbGC7gvOT6KKLLrroVeouHQTYrz02+wel7Asnv6I+rLON+V9bsJXYfQXQ2ErQWSx4mQwEGAxEFBkJLjbTxGTDy2xDU2LEomgJ6euPrZb0y/LXNaPvkB7MePhhOiwdC+jp+MBbLHm2L7620nHaZXVwjNkufbOKQ1eH0PfuQbzy/Cq+O9qMnK9OED3gRWI9behaj2NJyjCMFkDRo/PwxTdvrT1Bden6peWzqUFvK03dqfxl483r0X5V6yrUKpV9uI3VMYbdhrnEDIoalVulfG2l6WHDVlL6nUKVOrby78xndrJ8/VFC+v+ZZ2PDCdDm8dOyj9mOc32d30pTuX42bIqagPghTB55E94qxZ6+o15KxXJWW38bqL2CiIltS7z3BQ5+9DNbT7ThzlbuZToqHQGRzYhrqXdK337w2awFnDp+hvysQhbP2lu+M+vSOJHblXCdxqkclLWHubCAYpUX/npVWb1sip7w7rdxpxKAWsl2NGLZ+mqvIGJiWhKgcjr4FcWu17J9bU752yql69hX7dutUvs71muI/as61Hr8/PQYCoopu+UvyMGAH3768tv9s3s2k+rdgycjan47T2ikP2zJIacwjeXPPMSGdvP49dMe5Gz9kBnPPct9s0JZ+0IYeu9o+o6bybie0eiJZvwjSayes40TuWGczYHQmOZVzg8wFGSSow6jR3T9Xndaa/tRvn9U1FVE+rfA99wxDhlCOZeTT9MmETTBRi7g630z6zvcRpeyGNWGzQpGUxrTfn6NaQDaaJ6IGcI4bxU2g60sL5utdLmdpcu5RfBKp9GM19rL6jif2RRPhre+nwXhvk77nbn0kHY6/1Q+NzjXr3Q/QqHs3FhZv/Lzl+iiiy76jau79pwAx42C4+nTJbai3rO1Cr3VgL7EhK7EjL7Egt5iwtNcTIDJQIjBQKjBSliRiqBCC0FF+QQV5dOksIiwHkG1pl9mjYdY/ckvdHzjVwxGEwZjHtsXjCfOu1TXuOPnBYbc3NIbeQXDhTQyc4wV0gnpNZqhfttZvnQ5a9LCGDiwjf0mQ+OOX1AoIaGhhIT44eetgG80cZFwcPseMo2O8uRwaMs2Mv2iiQvV17389dTd/bzQFOeQa3F8b6U424DGzwsPx9P/EgvFpvIx/ua8LM6a9QR460HrTYCnldw8o/0Jv6JASTHFpvL8DVmZXNRG0r51BAEe9nzMViqVp9KdY4Xyq/EO9obcC+RZystvzj5Ler616nSqq38p7uEd6dvCyK6tv3HRUlv+pbY4k4OnrUR0T+bB8Xfb//7cjQi3CxxNL6omfyOnj2ZiDowmxMP5e9D4hBDiXTnfavzL3f6XpKuAmx5fPz3m3EKKraXf26yYjZYK5bui/KtFT2h0GIa0NHJKJ93nnj5Bjlco0b6OZQyc2HMQQ0QcYTXGAAbSUs+AXyh+hhNsSwsjaWAP/NR6ovs+ymvTBpGzZTOpBX5EN4PM1BPlbwNyvGhM7YefN2SmZVb5piC9XyihnCE1rdZJABWppX3UNgUz1ip1vXs0vdS57MxPZ585kNt8vGptf502mlcSnuFQ+250UWtp7eVpP99UWs+xXGbf58jsM5bx3o7BZdUdh9Vvf0PxafZZ9DTVq6vUzVhR2y5z/xFddNFFF71G3aWDgLJ3wdfR+nop+Jpz8Lbm4WPNx9uSj485H39TPkGGPIINxQQWm/E3FOFfnIuPoRAvQzFexiI0rQPqlZ/BcIbULRvYkVl8qa4LIa5tNJlblvHhmg1sWP4mEx5fSKoRwGk53w4MHRLNL+8t5GDkUAa00FWfr2csIx8YiPsXDzP04TfZuHMby5+5m7vfSCX2nkfpG17e40A92602qw9pSQRp/LjrNMVWG8XpB/jxkIGImAi8HU/YSwpJ27WTX0/mkJWeysZ1P3LWpyU3BamwqXxoExfI2f/9ly9/ySTrYia/bt/F0TxLWXvo/YLwtlwgLcvenuazRzl43nhpeRQVGjeqKKcK/5ibCMnZxfINe0gvLCbztx9Z9u+lfLLlNMV1rW/5zmcvd6/2eJ/eyY8nyrdzmV7F+sXn0/i92Jf2nW8irlVL2rRqSVyHDnQOs3D62BnyrY40StczFJD207d8+Zuazn1iCVE5nqBScTs6l6sqvzp7MZUVb7zG3xZs4kihs+6UfqXjzb4PqQhu0xL3tC2s+DaVsxdzSPt1Jz+dLMRsq0O+dbDVoyfujtF0PP0pH27PgYJUVi/ZRujQMfZ5LgCWHDLTctCHhqGr1N9pyPqFNSv3kFOQw55PpjN1hYGB4wYR7RtGm9AzbN64zf5GL0Ma27YchJg2hHqF0uOOJAwrp/PKilRyLqSyevk2/Pr9ibiQUPoO6cSZpdN5c20qOYYcUjdtIDW3NMOQHgxKMPDp355l0ZY0cnLS2L5pe8WJw5dxfnNHSzGmqnW3AHr5qvg5cz+Htc3oqnFq12rb2259/G7mKb9cFqQd4pzVqaey0nLVre/cG1flcg7fmMaHx3ZwxKMtye6qqo8XTLijbdDzlVixYsWKtVuXHg6klP23AQpKqa3Jf3NCIC+/dQgrKhQU9JYSvE1GmpjNBBpL8DeW4Gu6iIclH521CKUE9G8NRHFzK0un1vz0ofTo2ZwXZ07hlmVTSkurx69lRwY+No+5EzvQfcpLTPt9KnPvGUJOYF+mvfcWHRdMYYvTY1QFPXHJw2jz+h70Q5Jorq+pvu40H/MuG307MXvBhzwy4BXcb+rL6AVf88SYbvhd+ni2Tu1VJ98nlsF3nuXDzz7ib1/b6xrRI5lxHXzL81P7Et3cm9+/X8GKQ7lowtoyZGg3mrkr2FAT0vUO/py9hnVrP2CXT0u6d48hJjCT/NL1NZHdGNk3nxWfLWar0YImvAv9u4aw7usPmF9yP5P7haLBhsa3OZ0j/8cnb/+LL+0ZEzPkfh7sFoQ2sAMj7y7kiy+/441//h+gJqTjbdzTrxnuTvWqvr4V9z4FG+5hnUhquZd1236jZ3RnAlDsE4M/eLPixGBdNMMfH0b0iXSKAlrSKlBTnr7al1YxgWzae5qLxjiCAXPeMT771yt8hpqAZrH0HDGSnjGeTtvP+SiwXXJUAOQf/opZ07+qsHRAtzE8NcReXwUbqBTMFgvFVgX7y42qT0+p4Cu4R3Vj5MBCln+zjjd/8qXNzQm0ifIt/aXjK9+/aqTZaF77RxoPPxqFLt2P7g+8xtJHnMb+WwxkZhnwi7v0FZ76iDaEHZ1Ot/DN5LQcxLhX/sNzyaGgDmXC/HnkTJpM+6Y56DDg3vMp3l04mmg9MGAmK2a/wYy5/Qn5SybRQ+axYkp3/AC/e+bx0YXJTHk0ntkFcYyaej9JsRvsGaqjGfWv/1D8zgKWPxrPlGN6Oo58nlfbdK9xcnBt5zdvtGRRjE/pbzNX1DW08g8h5+RuQlreTrBb+Xo5RXt54pdj+CiAoic27E+8HOh0flA8uS2qJ5sO/MjCi82Y7u3YnhW3f+XyOZcam5Hv0j4jOR1ADbponovtTYjNwskLXzMi9xsyzTZiA7qxoGVnmro5p1Ne3xyMBOBeZf3FF1988cW/Ml+x2Ww2XJCMzAsE+PmU18lBHfzfvjvIxrXHQHFDa7XhYzQSYCwhuMBKYLEBX0MRepMJta0EzdiuqB7uVa/0DfsXMfqe1XRfsIKpPf3ABob07Sx5/j5eTBvPV+un0cGrbunlfjeVAU+lMeGLpYwrG2Nev/pedT//EJ+8/z887hjLsFb6q18e8V3Cv5iTR1Bg/cbRXy9cyMqp0/ntlFsePjYtvjZ9lbor+7mKgTzFRFSJzzVRHvHFF1/868136Z4AlGo+1+LflNSG6GhvNr6yDhUKHiYrPkYLfhYzniVW+w+FoUI7dzRuXZvbG60e6RszD5KWYyD2Qia5Fj98VWAszCTtNMT162t/+ldLeoZzaaT9vp13X/oUbnuPYdH6y67vNeFX/u5ql0d81/JvROpwvATbPDjplovapsLTpql1eVfxC93MnFMKaVrie02UR3zxxRf/evRdOgiwd2IogM0puqmb7948gmHvTsB84iR5P/xC0dZfcdeU4NWtPdpbOuPWNhoUsPeT1C99n1ueY+H0N1n03n10eGAPZwuAwI6M/Osilj/aHR9s2GpKz5LJlpcGMOyDNKIHv8qHzw/AxzEW/DLre9V97NvrctpT/BvTVxSFkhIbbm6Vz2DXNyUlNhRFqdP5TYuasBIvMtzyCLZ54mPT17i8K/h5ioFzSiFhJV5obWps11j5xBdffPGvF9+lhwP5+3lTVimxYsVeV7awqBiNRoO7vuyn4G4Iig0mzGYznh72sf51aS+jYuW8UogN8LXp0Ns0aHBDuQa2Y23Whg0zJRgUM7mKEQVoYvNEZ1Nd1XKJFStW7PVuXTsI8PUGBWw2e5UA8cUX/zrxrVYr+YXFeHi4o9NqrvsegZISG0aTmaKiYrw93VGpVPVuv0I3E/mKCQNmLIoNG9f+6V1BQW1TcEeDl02LR4n2mtj/xBdffPGvd9+lhwM5aqI4/tkq+YguuuiuqqvUKry93DEY7TfGLvq8os4oioJGo7YHAGpV+feOf3VoP0+bFs8SbQW92gdB16peQ/1qq7/ooosuuuj10F25J8DP1zHD1rkK4osvvvjiiy+++OKLL35Nvmv3BKBU81l88cUXX3zxxRdffPHFr8536Z4AXx8vFOxxjVixYsWKFStWrFixYutm3XBhlLJ/diu++OKLL7744osvvvji1+679HAg+/ujFbDZsGG34OSLLrrooosuuuiiiy666JfoLj8cSBAEQRAEQRCE+uHaPQGuGb8IgiAIgiAIwlXFpecEACiKUqWviC666KKLLrrooosuuuhV6i7dE5CXX3i1iyAIgiAIgiAILodLBwHhoUFXuwiCIAiCIAiC4HK4/HAgQRAEQRAEQRDqhwQBgiAIgiAIgnCDIUGAIAiCIAiCINxgSBAgCIIgCIIgCDcYEgQIgiAIgiAIwg2GBAGCIAiCIAiCcIMhQYAgCIIgCIIg3GBIECAIgiAIgiAINxgSBAiCIAiCIAjCDYZL/2LwlVBQWEyxwYjFYsVms13t4lw2iqKgVqtw1+vw8nS/2sURBEEQBEEQXIAbLgiwWKxk5+ZjNluudlEaBJvNhtlswWy2UGww4u/rjVqtutrFEgRBEARBEK5hbrjhQNdTAFAZs9lCdm7+1S6GIAiCIAiCcI1zQ/UEFBQWX7cBgAOz2UJBYbEMDRIalNPpZ6rVIiPC/sCSCIJQFafTz8ixKABw5NiJCn6rls2vUkmEa50bKggoNhivdhH+EIoNRgkChAalV/9hdL+58yXfR0aEMWfW369CiYTrndPpZzidfqbK/U4oZ+4777P9591lQcDp9DOMGJrME489eLWLdk1yOv0MvfoPIzIijOVLFlyXgdO8hR9QUFAIgJeXJ/Pn/OMql0i4VrmhhgNZLNarWwBrNlteeZRxr6eQ1YhFuer1rIHz62fQb8gcUrKvUgFsFgqy88g3Ne5k8O0/7Sb18LFGzeOPwnEjtnzJgkv+rpsAoOgwb49OZvzyNP6oRwXG1CWM6f84K46bGjbh6upizWLjtOEkz9pJHmDcu4QxdzzO4v11yD97J7OGD2fqV1kNW9YqmPvO+/TqP4ynX/gHcxfYP8995/26J1Ba1inrqyqriaPLp5F877yrdw5qIBw3swDLlyxg6zery45LsAfuNfXgOXPq86foPXoJB4qqECvtN66Mo82WL1nAExMfZNS4iY2ST4Xr3IUUZo0exZTPMxr13LJy9fqyv1t6did5wG0kD7iNW3p2r6DVdZ9wps7X7RqPPeFa5IbqCaj2LUCmU3zx9GRe32+2+yovoqPj6HH3WB7p3wJtQxVA5UXr24bxZ7eWeDfi3N0Gf9uRMYuU5e+yeO2PpKRmoQtpTdLdk/nbwwk0kTnIVfLj9p+JCA8jrnXLq12UBuV0+hlWrllf4zKR4WGMGJZcS0omTm1axtufbOS7PWnkacNpmzSCv00dQ2f/hiuvUD26pomMvDeMmIgGO8NdMaPGTaR7185s/WY123/aXfaUduWa9fTqP4yt36y+why0RHUZyFiPQFr51LBY+ldMmbSZW+fPZkjEFWbZSDz9wj+YM+vvl/SUREaE8cRjDzJiaDKjxk1sgDa7PnDuAYiMCKP7zZ1ZuXY923/a3bi9Tf6xDLp7BLkdgtBBo+xbp9PPsHKt/bzcvWvVddn+8+6yel8L5P0wh3FLw3ntnTHE6K52aW5cbqggoEY0XnR55GVeHxGK6WImh7at4PUFc9FGvMwjN3k1VCaE33w74Q2U2h+CNYvNrz7GlM1BjJz4Ei/0bg5HNrNmVwbniqCJdz3Tuw73uNPpZy652M5f9CHff/UFQNmTp+uh23nlmvWczjhD94TqLyQr166n+82da6iviaOrZzFh9j5i7n2Ed19KIKpoH2v+m8q5fBP4X62b0uvpSlSHuvi3Zsio1o1flDoy95336d61c9kwlu0/7yYy3R5QOr5z3PjWiWrONbpWfRnZquZVjcZ88hq4g6YhcbSV44au8nwAhz9iaHL92uw6xbkHIDIijFHjJlYIBhoc531PFUjnYSPK3MbYtyIjwhgxJJnTGWeqHQY29533iQwPu7zrUCNct415+Riv3UELNww31HCgOqHS4NUkii639KWLbyFnzpghdy/zJ5nQymoAACAASURBVD/D/BUf8fxDDzDm2c84XAwFh75m/rRHuX3gMEY8+2+2ZZrh4k5ef+BRXtla3m9W8Mu/eXjcHLaczWbLKw8wbv5eChxaVWkUH+fTyQ/w11WnMAHk7uX1ccMY9++Ddt90ik+ffZQXN55t9ObI2/kJc9bDyFmv8MJdCcSEBhLTewRPPzGYtqUBQF7qOmY9NpauCf3p9+DLfLTbqSuwKION86cxvE8f2vd/iH+uP0GucwaZO/loxuP0S+hD+zue4u0U1+pGdFxcnC+yuXn2NzQ1jbI/5lm+ZAGjxk2sUzfsqc+nMXzyEhbPeIh+/UcxfcPv7F7+MmPu6E/sTd1pf8e00jbKJ+XVsfR78ivOW7F32T+ZTPvxyzhqBMhn99yxJM9IIa+BT7TdEzozYlhytX+1kpnC4gUpBD8wm7cmDaBz00CaxPXloacnMLBpaQBwYR8fzXycfj370HXIU8xafbisHqc+n0a/u2cw/ZmnGHP3KHr3H8vUzw9jxMTRj5+i371OwxqsGax9chRjFh6+pCv+/O6VTB8/nPad+pP85AfsuuC8hImjXy1iyt3JtO82nDHTlpCSbqJe7X5hJ7NGj2XKnDlMefAhkpOSSX5yGbur61I3ZpDywcuM6d+f9kljmTJ/C0cd9chPY+2sp0ju04fom/rQ78F5bD5ZfidRc12qyc55OJI1i40vjGXMC/OYPvlxht+RTO+7Z7Aiteq3jeXtWMSYO55i8f6GexvZyjXraxzHPmJoMtt/2l3n9PJ2fsiE4cnExvep0O4Vhr4YM9i8cBrDk/oQ3SmZ4c8sY8f/FjH8jjlsPr6FKf27E33HPHbnU+M+aUxdwvi7Z7B44QyGDxzO8H9+wozhoyoMnzLuXcTwITPYmHkZjVMJ57aKvql7haE/0Td1LxvmUq82y09lxYyH6J3Qndg+9mOqyuE/NeyLxtQljBn+FLNmzWD86FF07ZbMmFnr2Lj0ZcaPHkXvPqOY8N5Op3OSiaPrF9m3U6dkxsxcV77PNxDOAYDj4YTjr17BkTGDze/NYHhSH2J7jmLqx/vK61HTdc5piIxxbzX7VgMz6em/c+TYCY4cO8Gkpy8jAGyw63ZV29fE0aUP0euZrziwYx79OnWn9wtbOG+FvP3rmPXIKNp36kPvB+exOf0ajsSvEyQIqAprAWk/pbCvwJPmkaW9AHkH+fLrHG5/cRHLXrub6ItfM+efq8nq9ADvLZnHX2OP8+6Cr0hzj6NvRzi042DpuP8C0nanYopNJL7SMAdTejVpqIKJb+vJmX3HyLeCKf0QadYATIdSySgGLh7kUFYA8bEBjdwQJs4d2Me5Zn0ZGl/1I/+8/UuY8PC7HGh1P5/+dykzEy+weNKTzEnJB2s+KfOn8fdNPtz33mq+XTCeVtas8ui/6DCL//Yyayx9eW3Vcj59OJyUOfPYmN7I1WogKl9cHKRs38nYMeVPfhwT0OoWCJg4tflzUppNZtXG5cy8VUNuUThDpi5m6/ereKtfFivmf86BfG9adYmD4/s4kgfkHWJXug7f879y4CxgzGLXfhMxHaPxucaGbOVl/Mp+SywD+0VX/bz6wk5mPfwUi88mMPM/q/l0UmsOvPkYU5Y6buRN5GZmETX6JZZ9tpz1c27l1Hv/ZP5uIzF9+tI250c2O8bZnz9Myu9BJPWumJfx+Dr+/tcPOdXjedZ/s5R/9Asit+zxnImjn09n/MwUgu99k29XvcQQNjLhkTlsTK9nu+ensTu9NU/PW8z6VbMZdH4lc9ZVMe/AmsXGmY8zYZWRIa8u5dv59+D7wyzGT1tnDy4KL5AbkMjT7y3n12/eYaRuC3OW2G+maq5LPbBmsWuviaSpb7Bq7UfM7HCCxQs2c6pSEGlM38Kc11OImfQ0D7Wrb1dg9VT1RHbl2vX2ia+lQ4MiI8LqdlNrusD+g1oGzVjMpqWTidn/IXNWX9ruxtR1zF9VwKDZqzm0fTmvjU6gRfcJrPp0HJ0j+vLWN9tJ++9kOhtr2ych9/hXrDjehdc+X8Wqvw1mSB8tuzbttAeLmDiasgtjuyS6NLnChqpE95s7V+h5c7RT5c+1YTifhrHDeD787yo+fTicXXP+yXtV3aHWsC8CGE7uZJfnnbz18XL+b3YS51bOYc7hLsxcspz1CwaS9/m7fHTQvn+e3zSHKfMP027im2z64iWSLqxk+tJ9DTZ2vqpztKMXoH69I/mkLJzB9O8DuW/ucjbNHwHr/sX8lKzar3NO6DpUsW813CFUhmNScOXPdaIBr9tVb99DRN33DuunJhDVbTKbftnOD7P64pO+jr8/vYxz3Saz6r8fMbPdYea8Wnr+ExoNCQIcmAvY9e6j9L31DhIHP8rLP3gyZuZL3BersesqfxKGj6RvhAYwk/bdNxxuPoyHhyUQHRpFj2HJxF/cyb7zOmJ7dIDfdnI4Fyg8xa69BcT2bkNghZuxGtLI1BEdfxPa06mk5ZrJSD2K9uYBxBsOsu+imazjqaS5xxIbrGn0ZsnLM6L3CcKnyhEa+RzduJEjTe/ihYf7EhMaTuI9T/N4xyw2rt9HXuYuVmwu4NaJjzAkLpAmrRIZ+acEgkvbIW/POtacT2DSkyPo3DSctsljGNLsBJv3uE5vQFU3Lik7dpLYLaHCd46b/7r0BuhbDOChYfH2m0hdOEn3j2NkF28MmRnkoYP0w+zPhiZtutDWeojdJ/PJO/krR0NvZ2SLLHYdzsJ44Vf2nw+iS7ugBqlngw5lyi3AqA4k2KPqYT/n93zN5ux4Hp86hsQWgcT0u58X7o1m/383cqD0nkQfkUBinP3q6RN3O0NaF5Dy4xmMET0Z1CGflM2HMALn96dwJCCRxBbOeZk4+tWXHIi4i6fvTSAqKJzOyYO51bGMMYPNa3fhM3gykwa3pklEPCOfmMAgy4+s+Smjfu2uDaJzv55EeQA+0bRtrSX394xLbxAyf2RNCgx6YjIjO4fTpN0Anv7rnfjs+dL+lDU0gbGPjiAxBE6dzsCohXMHD3POWEtd6oWOmB596RKhBVUg7eLD4XwGeU5PZg1Fh1jx8iKO9n6Gpwc03MBGx5uAnOnetTMjhiQTGV6+79X5plYbROLoexjSIZyoDgMYmhhI7ukq2t0jCF9VHudy8kHnTUzn1jSpIjKt0z7pHc/IBwYS4w3gTdt+txJ8OIWUTKAojZRdRrokxV/xPKrK7eQ8GRgomyBc3fLVoW8xkLHDE4kJDafzXRMYe1MWKT9WEbBWuy+WpuPfnpGD2+OjgiZt4mkbFM3APycSpQOfiHa09cjiVGY+GDP47vOdBN89gYf6tSaqRQIjxyXAT7sarDegYQIAIHMXKzYZGfLUePs+1XkwYwf6sOv7E+Sdr/k653LUUp86X7frtX1NHF3/JQdaj+HpexKJiYgm6d4RdDmfwi7pDWhUrsMR2peJY07AyKiqJwK7adHqSxWrkawzmaRtnceIgfPKl1G14JEC8Gp1Cz3cF5JyNJt4r33sLG7DmJv8AadxALWmEUe0eT37fz9F2KFCWt+WQPO8n9mVmkl42im0sYlEezZCO1TCx98H8i5UPaTEaiI334RvZDTBjgunzpuopt4Y0y9wvshEnjWQVhFVP+rIPXuBU0e2ML7POqdvtSR1ycdI4DU/QttxMXn6hX/wBA+WXWj+8+kXPPPEhLLltv+0u9pJfFXi4YNvWeXzOfD5HJ5dcIiofgNJDAhEp8rCaDFBSCxdIrLYvO8MSdY0dO3uIVF3mDm7DnGK/Rz1bsfDoVc+vr6hXwOqCwjAx7Kfc0UmqOJoM+TnYfSJJsrboWkJbhaOr6mAXCNc8iBVrcPXA/KyL2CkNYkDE3jv3R85cG84uSkn8E0cQYyH0/JWI7nn89GFOe23zpjyyS3SEtUinLK5oz7hRPnDqTwTxqA6tnvlnyRRgU4FxiITRiqO2jcWFZBHIF1Cy48VXVg0waqd5OYboegCG9+cwawfdCQlJxLl4wXpBoymWupyJah0YDWV3wRa8zmwZA4bj2QQrDpBrjEenwbK0/FqS2eqOla2/7SbyFn1DEhVoNOWt7szulYjeOtlE3+f/RhdZ4UzdOJkJt0VT+U5w7XtkwCodRUeluha9WVg5Ea++ymDpHa/sqswjpHtAutX9iqoz9P9y0btTXCQjrzsKsZtF2VUvS9WN+yw8s2wCgxGwJTFqcwMNs8ZS+wcJz1ihL1NPbgitv+0mxHDkq88AACM+RmcTz/M2nv787bT900G3El+fn6N1zlXw1h04Qqu207Usn2DnZe1Gjl3OoOjm16md6eXy79XteZp+f3TRkWCgMtBpSOwSSjRtz3A/Gl9Kz3hB4iiZycd83Yc5JDfXoxxw2jtW880TG3oErmCLXv2kpEdQo/mwUS38eTLPXvZf95I80EtaajpytWjJbhjO5q8l8KGfffQtlulk4LKm+AgL4w7Muw3Zx6AMZ9TJ/PxCQmiibcJH0qf+lRx8fMNCiIqbgQv/PtpEl30jTCOi8rcBe8TGRGGtaQEAB/v8raau+D9ugcAlTCmfsmsf2cxdO5iHurgjTF1GRtXpdhFXThduoSzYtdONlNAzKhoYvStYf5OUjiBLv52oq7B65Iuoj3tdF+wcUsaI1u0viTY8w0KQpeXxqmyScImzv2egdG7S9U3usYsjp42EpwUhE4Fuo4DSGQeG1Kaw2FvEu+uNOxIpcO3iRbjYaf91hmtN8EBsPn3DPIoDQTyMjiVraNJkDc6nXfd2r0er6DUeQfSRJ3FUadjxXgmjXP4kOSn49T6WczZG8+rH08mMQhOrf6VFQfrUJeGxJrPUUsSb73fju9mLuHtTQm8mtxwvQEjhiYz9533a5zYOGJoHeac1BOfzmN467MxGI+v49mJM/in92Jei6y4TL33SQBdNEn9olnzfQq7slM413ow7RpoKFD3rp1rbCsHl91mlY4pZ06tn1f1vlhftN4Eh4aTNPoNFo2qZmjgFXI6/Yz91Zhr11/RwwyddyBNIuJ5evY7PN6u0oOLzC01XudcDZ1H0OVft7MvlH+ucfuaOOrsqnQEh4YTkzyZT2cPkLcO/oHIcKDLQkN4t6547V3Fku9KJ+8WnmX/b2ftn/Eiukc8uj3rWfZ9PvE9WlYRKNSShjaA+PgAzqRs5oRnHK19vQiPawG/fc3m8wG0a974IQCAT9xARnY8w+JpM5izbh+n8k3k7f+KWU++zNrjENPnVpoc+ZDp723haGYGKZ/M4e0d3iQmxePTJJ5BXWDDgndZm5qPsSiDlJR9nCt9YuTTJpFE62be/ncK543YbzL2HrZ/diEcF5fIiDBStu9k8qP3V9ArzxmoD8aiPAxo0enAmJ1GyuYUjpR1pWqJSmiN7shGvssMp0szb3yatqdtXgprUvJp1bH5JU80rwmCEhg5PJr986fx7MItHMg0Yczcx0czpzFrUxY+bfqS5LmTt19dRsrxLI5u+oBZSw/RpE/P0qEWYDj+HWtSMjBmp7Fxwb9YmhnPEMccA+9YBvXRsXn+u2z2TCCpeeXeBi1RibcSdeITZn2cwqkiE3mpKaQ4JtrqwknsF8u5z+cxf91hzqfvY8XceWwwxjOoYyAN1+72chkBmiQwqKORDXPnsWJ3Buf3f8WcV1dyrnVfEiPsPQVGrRa9ykTeyZ1s/v4w5yx1qEsldCrAaoLLmSyuDWfIpEcYkjiQSeOiSfn3MjZfqH21ujJiqP3tJlX9JoDjB7Ea+gewzu9Yydvr7BNgdR5B+HoAViN4BKG3ZHDkdD7GIhO6OuyTVRHVYyCtji9j1mcXaNf3yocCOXC0VU3zI7b/tLvWydbOGI5/x4YdVR9T5fuNqYZ9sZ7owknsHc3RjxexpnSCuTHzMLuPN8yj38iIMLp37Wx/m1nXzlfWm9kkgVvbZLFi/jJ2l+7z51P3cTQbqOU6dwmV9q3GuNz17tmtys914kqu22qd/RxsNdayfbX4+nvBmTSOZpswFkFUn5747PyE+etLh6DlZ7B7b+P+toJwgwUBiqI0WFpeNw3jxSeS0P7vX/y5/x0kjprFl79dxFR6oHg160WCdi/bDDeR2Lbqx9w1p6EhqG0LtGmnICaGIC1oI24iuvg4ae43Eduk+vkADVlPdNGM/Oc7vDbQxNppD9G7Wx/a/+VDznW8k6RmWnQdxvDW7PHEHFzE6DvuY/oP3oycNZtJid6gCmTg1Jd4umUq/xzen9iBL3OkWSJlcwmDEpk05xkSs5cxrk93ouOHM31VKudceAhgpw7t6Nm9a4Ol59N2MPd1TGP68P7EDpxFinciiSHlN7U+TRNoVXiYoz7tiPEHfGJpF5HF7sxwOre5BrsBANDS9oHZLJmawKkl00i+tQ+xtz7FGmsiI7sFQlACk96cyUi/nUwfPYzR8w8T8/Bs3rovvuxpkt7Hh3OfP0X7nmOZdaA5k15/hpEtyodqxPTrS1R2PsGJ9rHIlfHpMIZXpw+Az6fRO6Efoz+DxC5hpelriRn2Am89mcCpj5/ktiEzWGu9nX/MnczA0vd6N0S76yISSGqdweLX13HKEsjAqW/yj36wduoobpv4Cee6TeatlwYTo9MSM2AMA4uWMbxnH3o98TV0TCgb4lRzXZxQeRPTJxHd5nnM33l5N1p6dWn7DJ7AWN8U5n/ccD8gFRkRxhMT7TesvfoPY9S4iYwaN7HCD2I1NDpPLec+e5L2N3Un+tZp7Go9jklJ4fbfUEjI4u3x/YkdMocUat8nq6RJF4Z0gVPEkRTfcE+JHW01d8H7lwRNp9PtgVT9Xg2qxbdFc84vf/zSY6rCfmOscV+sH1pi7nqBV+8NJ2XWKPvbzx5cRMrv+Vd843cm8xwLFi/l3PkLZX/Pvzi7xr8zmeeqT1AVyJCpL/F0uxPMubcP0Td1Z/iczRzNNtV+navEJftWAwbSDu7/y0hatWxOq5bNuf8vI+u38pVctz3CSUwKZ/eCd9mYWfP2bXLzYJJ065hwax96TdtIbrsxvDV9ILqvptMrvjvR/aaxYk/VE6yFhkOxNfgvS/0xZGReIDy0fpMez2flYDZfziML10KjUdMk0O9qF+PaxGahIKcIm6c33toGDJZuEFauXl829Kk6tv+0m7TftjdaGU59/hRjVrVn0b/H0baamw/j8XVMeXILiXNmM7bVtfNjWELdqfzue9ckn5RXH2OOcQJLXkhs8Dd1OX68b/vPu8va63T6GUYMTW7wXhNX4kzmOY4cO1GvdVq1bE5YaHDtC16jOOaeVXfMnE4/c9nDUoXrlxtqToC7XndDBAHu+mt9Sq3gqjhPtKuOq37jZs1n16ovOdVmBEmX9ZYc4Vrgqu9HDYDx+GZWpOi4dWZ8o7yq1/HrwHC9BE0NQ1hosEvf0F8O3W/uXGNvmewbQlXcUEGAl6c7xQbjdR0IaDRqvDzdr3YxhOuYa/likrd7EaPvW8KpNmN4a94AomSCmXA1sGaw9sn7mLJJy8Dn3+ShDo0/NO9aPi6FPwbZB4T6ckMNBwKwWKxk5+Zfl4GARqPG39cbtVrufKpFhgMJgiAIgiDcWD0BAGq1iiaBfhQUFlNsMGKxWHHROAiwTwJWq1W463XSA1AXFDVe/tfkO3MEQRAEQRD+MG64IMCBl6e73DQLgiAIgiAINyQ31CtCBUEQBEEQBEGQIEAQBEEQBEEQbjgkCBAEQRAEQRCEGwwJAgRBEARBEAThBkOCAEEQBEEQBEG4wZAgQBAEQRAEQRBuMCQIEARBEARBEIQbDAkCBEEQBEEQBOEGQ4IAQRAEQRAEQbjBcOlfDM7IvHC1iyAIgiAIgiAILodLBwHhoUFXuwiCIAiCIAiC4HLIcCBBEARBEARBuMFw6SDAZrOJFStWrFixYsWKFSu2nlaxOT65GBmZF2Q4kCAIgiAIgiBcBtdNT4BNfPHFF1988cUXX3zxxa+TLz0BgiAIgiAIgnCD4dJvB3LR+EUQBEEQBEEQriouHQSgKCiAzQaKAjYQX3zxxRdffPHFF1988WvxXXo4UFhI4NUuhiAIgiAIgiC4HC49MRgUFEWxf1IU8cUXX3zxxRdffPHFF78OvvQECIIgCIIgCMINhov3BAAooosuuuiiiy666KKLLno9dJeeGOzo2rgWGlJ00UUXXXTRRRdddNFdRb8OegIEQRAEQRAEQagPLh0EOGYziBUrVqxYsWLFihUrtu7WpScGyy8GC4IgCIIgCEL9cek5ATYbKMofZ40mM8XFRkxmMxaL9WpX/6qgVqvQajR4eOjQqDV/aPuLFStWrFixYsWKbRgrPQF1JCe3AKPJhKeHOzqtBrVaRfnE5BsDm82GxWLFaDJTWFSMTqvFz9frahdLEARBEARBqCcu3hNgAxSgpjjmyvWLOXmo3BSaBPpVuPH/o/K/lnS1WoVarcLDXUdefiFZ2XkE+HlfM+UTXXTRRRdddNFFF7123aV7AsJCg+xVdHRvQIP7ubkFgA0/X+9GSd/V/dzcfEDBz9frmiiP+OKLL7744osvvvi1+64dBIQEUlqtGpa8fN1kNpOTW3BJD0BDpX896DYbnM/Kxs/XC61Gc82VT3TRRRdddNFFF130S3WXHg6EopRGNkotkc/l6cXF9jkAiuLWKOlfD7qbAh7u7hQXm9Bqtddc+UQXXXTRRRdddNFFv1S/DnoCGo/zWTn4+Xih0bh2rNTYmM0WcvLsPSaCIAiCIAjCtY9L/1gYYA9p7B8a3LdYrKjLAoCGTx+A3F+Y/7eFbMm6/PQKU9fwzMw1pBbWcfkDn/PM7G84ZW6Y+qjVqvJXpjbi9hBffPHFF1988cUXv2F81w8CyjoybI3iO5qssdLHYsLYIOlR9+Wt5gatT4X5Eo28PcQXX3zxxRdffPHFv3L/OhjnomCvUGPY2tI3cfbbhbz0rZkA6wUu+rShg2cGe09qSBz3EPe294GcQ6z+7Ct2nTeDSkNIq94MTe5EVOF+Pli0ml+zcjmVXsSvs6azRqNB0zyJyeN6EZLzEx/O+4zNORoC/Hxp0eUO/jK4HSEaBczn2fnFMj7YfBICw2jR0gOzNcxeXGsxqesXM2fdMfAJwj+4Jf3vGsrtLT0pTF3NnI/3cTbnDKcuanjpuR14qTSE9LyLyYNj0GRu58N5nzvlmcxfBrcnRFOX9vojtodYsWLFihUrVqzYhrAuPScgNDgQRcEe3JTWqSH9zLNZhIUE1rC8mXPfvc+co914boSGj1//mqgHHqVL6vu8m5PMcyOD+PWD9/kx+i4m394UrSWXXR8vZHXAGKYPborWBsrFHfzr9d10/euj3BJQnr7p4jFSs4PoEOOLreAYH7/xOdw1mb+08eDiro+Yuc6deycNJcG/iL1rFvL6rjiee34obdyLOJl6EqLjiPKAnJT3eWlnPNMe70aImz39gl+W8bevgnjqqdtpqi2vj+nCMVJzg2jfwheKjvHxnM9RRk7mnliPWtsr81xWo28P8cUXX3zxxRdffPEbxnfpngBFqWhpaJ+6La/z8kCnBS9PDzR60HloULLMKAUn2ZV6gVzzVj45b399pjnPAy/vIixW0KkqJFOhPjqtB+bft7JiZxGFplyOZ+USYgAwk30sA03robQJ0gC+xLSNI+RA6foqDd6qXLZ8vYbvi8wUZp7kYmFTzCWg1JAfgE7ngTltK5/9XJrnxVxCiuveXo2+PcQXX3zxxRdffPHFbxDfpYMAWxWRTWV7RbpTPtWt79BtjuVKvy7z9UF0+dNdDG2uuWR9m61CMuX5WHLZ9dlS/ht+H8+PCkNjOsP6jPc57ZSu2Wl5m1M5jGmbeevTC9zx5Bi6+ELRHjMHNzqVR6mUn8OW5LJrxVL+G3Efz40MQ2s5w/r090mvpf5KpfwbtP1FF1100UUXXXTRRW8U3aWDAEdEUzmyqWwvW6cW3Wl9xbk8jj+fpnRpmsvqn09ye/OWeJbkkrL8c051HMPIth7l61eRj8lsLn9yX3SB9AtmzICChsCYcFi3j9SLLUkIhMLMM2SbwkrLYcYCaFSgKGYuZp6hwBxUsXwq0FTRfiaLPU9FAaXwAulZZkz1aL/qlmu07SO66KKLLrrooosu+mXpqhdffPFFXJD8giK8PN2x16SGUOcKbEFhMZ4e7qU5VrWclYITv7Ajvzm9YmH/jhN4dexI+MU97MhtTq+OEbSICafwxxXM+XAjKQd+xxyZyOBuEejdStNRVGTv/ZrPNnzPd99t5dujbsTFtyK6iZGUjz/m0293sOOEicCAPHbuSMfnprbERUfhe34bS5esYv2Pv3ESNcZ8b7okxhISEIL7iY3M/+Rb/rfjAGfdQ9Cc2MEvxc1JaOOPBgWbrYj9327ky2+38c2329hdHEqnuHBC/J3zNBMYkMvOHRn43NSGZl6qatvJZiuhsMjQ6NtDrFixYsWKFStWbMNY154YHBLYqE3k+LEwtUZ9DWyqa9eazBZy8woICvS7JsojVqxYsWLFihUrtmbr2kFAcACN2Ty5eQWo1So8PfSNmo+r28KiYiyWEnx9PK6J8ogVK1asWLFixYqt2bp2ENDIPQFGs5ncXPsTbjdFuUY22bVlsdnsPSa+Xmg0mqteHrFixYoVK1asWLG1W9cOAoIDGj2f3LxCwIavj1ej5+WK5OYVAAq+Pp5XuyiCIAiCIAhCHXHptwOBUh7SOH3VkL6vrxcXs/PJzSvEx9sTxU1p1PxcxbfZbOTlF2K1QYCvV73XF1988cUXX3zxxRf/6vnSE1BHcvMKMZnNeLjr0WrUqNUqlLJ3L90Y2Gw2LBYrJrOFomIDWo1GegAEQRAEQRBcEOkJqKPv6+OFyWym2GCi2FCIxWJtkBq4Gmq1Co1ag6+PF1qN5pqIZMUXX3zxxRdffPHFr5/v0j0BIcEBZXUSK1asWLFixYoVK1Zs3axLBwFhIYFcG80oVqxYsWLFihUrVqzrWJcOApxfEepAfPHFxNb1SwAAIABJREFUF1988cUXX3zxxa/Zd+kgoGJPgAPxxRdffPHFF1988cUXvybfpYOA0ODAS+tUGdFFF1100UUXXXTRRRe9gu7abwdSSuuolNe1Siu66KKLLrrooosuuuiil1nX7wkQBEEQBEEQBKFeXB89ARW/qjLiEV100UUXXXTRRRdddNHt1sV7AgKovtpixYoVK1asWLFixYqtyrrh0ij2uogVK1asWLFixYoVK7bO1sWDAJs9mBErVqxYsWLFihUrVmydrYsHAddGJCVWrFixYsWKFStWrCtZl54TEBIcgEJpUFMNV6RnbSBl2ctk5ORQVBBKp0lfEh+pr7S+gQvf/YVNO+PoPfEfhHs1YP7XgG4+v5JZuwsY03ccrXVXkH7JWX744V/sjnyBKS39a16/6BAbdy9m5dlCvNyDiWjSnSFtB9Ha4wryt57m2+2L2ZidTXZRIbGdX+aZmJCr3r6iiy666KKLLrroV0N36bcDKaX/FWyUV/dSe9l64CB6TvoTFHzHj4sWopQuXXE5d/w7PU9Sc3/8ParSG7F8f4he3trVLVfX9Mu3FzWun513HHPkkyzsFYG2JIcftk7n/YMtmdWlNdrLzV8VRb+eL9GvJIcfUv7JtgrluZbbX3TRRRdddNFFF73hdZcOAmxO//8Iayv7D1BM9g+T+WHrQUyFBykKmsmdj03E361UL8nm3PfT2f7jNkwaP7ybjqbTHfcT7GUD8wnSvnqFQyfOYEWPNrAHsQMmEhWox3r6Hb76zwbcfTI5c/IM+CXR5s/z6dTaD4Ci1FlsWb6AHFVzvLz06CLv5+bBo/HX2bBmb+O3/77BqSwDaPxwbzaGjv0H4a8rrYf5BIc+Hsyu80PpW9ZrUXO9bQDWc3y/8x8svniC7JJI+nSYyKjoELRAdsbnLPxpLceVEIL1GrwC/sTYDr2J1NooPL+Bj3auZJfRk2DfeKLMJqcWrD5fv9BB3OnwjGc5awS/EI9K7V+1NeVv44udK9lRAB76CLrEjeHOqBC0lbZj5XKY8rfx0dbF/FCkxd89mOYRQxjVrjMhKiOnD77Ggtw/8UL3znhi5MS+WSw2jOCFrvF4lhRw4tA7vLX/EGbPYHxVWqKi72NsqxZ4ukHh+U18uv97TptBq/YjstkQ/ty8BZ5uDbdfihUrVqxYsWLF1te6dBCglP23NbK156OU/bcB7gT0fo8hvRVM+yax/nsq6Kajb7DjFx0dHt5KdBMd+b99wKmMTEJa+5O9/RV+yxtEnwnD8NYo5P/0EJu+WIb/+PvxAKxGaDJkK7eGF3P2u4fZ/NUymjd/DP+S3RzcuIXAUftJjvMH8xkuHEtDAyglZ/l9w8ucjfoXA/8Sh6okl1OfjWDbljAGDuiICgVU/vi3GU9sVBt8NLVHiGBDAcymbDybT2VOTz+y0z/lX3tXsifocbppj7F5/y4iuy/ihVAvsF7k+Nn/b+/c46Oq7/T/PjOZSTKTkJmETBIyYAKaBAxK4iWBigpUJVaw3rpCV9l6a6W/eqvYl9hadRV3wXa1u8WuYi24Jb2ItrBdwAqxgFxUAgoKRCEREknCZQLJJJmZJOf3x0zIxXDRYmHI835pnjx5zvmez/d7TvLiM2cu+7BbwGirYeX7K2ga+mN+cU42tsOrmbu6nCCfvxPQl/pr5zPjzT9TB3iz72fm2YOJPV697bWsKX+V6tQ7mXVZHs62nazeWcm+tjS8Md07Y3oomBhGMqMvfIY7U5MhuJ2Fb/2Glem5TE2zR85r9/Pb5UOHV1Fa5WTqN35NkcOEQA1bG0zsFgOj5QMWvb+e5JEPcWdaQmTcF1nk/DHT0hP+AdetVCqVSqVSad8a1U2AaQKGGZnLV6x0uxPQKzcj34bVBLOVwzvX0ZYxk4zUWEwTEkbcxnATzFAtddvW0RiI44PF5ViB9kAL8bGtBIIQD1ideSQNiMU0YkkZNor4D/bSHDJxxWaQ4mlhw/89BNXjSMvMI2lwMQl2MBvLqdlZRXPoJd5dFH7dQrDFhT3BR1s7WKwmGC48xQ/g6Vb38eZtAra4XC5IcWGa4EotJN/yG7b7m7g43k1mYogFm1/A5j2PoW4vWQNz8VjB9O9iV8BF4aBsHAYwIIfCAU7KiRzXPMjqNTN5bncdALbkG3l8wlRyYsMHdaRP45ffnoL/8A5WbF5I6SfZ3J3jxW4EqN4+m0feK8cPYB/JrV9/hMnJdmitZIvfxcjzs3FYTEzbUC4ZPjQyj57nEXrO32ZzEKhZzat7mvC3+djV7CctFN66x/ntti6mCbZYL15jMX9892X2pOeR7fKSm+LFhknToS1sOezD++kfmb8bIIQvxok7EOzzOpJKpVKpVCr9R2lUNwEYYGBgGuFHrE2DPvRk5D0O+bk88t8R7bm9Ab3Gx+IipfB+xnwtOzw+5pG+rMNHz/EsccQYLWFvTSf7piUkfbqJwwe3sf+9R9nw+3hG3rWAcxOA2CyGTPhXRnnjuvV53cb/UvOPTJqedQFgdVN88RNkHtjJvsZqtu9eyIL3bEy67CFKYrrOD4aJYfY6b4absZc+z6W95t/z+HYSkvIo9DhZWbMD39le0q12vHk/ZkFe3/OjI9TrPPWaX+86MDDNg2wq/yXLXN9nRqEXW3s1y5ueZU/382uGCzSMXucn/jxuHf8YFftrqGvcRfmHC3mp7VLuvfxGMg2wO0dSMmoaufZu8ztWfV/J9atcuXLlypUrV94zj+63CDWh8xFV84jvrScn73bIE9g/jsTsYqyfrWRfU/iHgcpStpRX0mZz4clJp2HzUg60gkkLvnUzWLlyE+3HrAM4tI4PVy6lI20cZ108nQtueoIc114afK2YCQUMSmtg9+ZNBE0wQ7VULbqL9yp83cZp5XBFKR+VbyLQcaLzh2BrNXtag2DCwf0b2dHmJdfphOYdLP1oI6EBIykYVsKUwmmMdzRQ7Q9hxmWTbW9g42c7I/U0UO33Ezze+rXXsXrdbOZX1YX3C+5ha209DpeXBMtx1t+eTb7Tz5a6egIAbXVs3PYmFc299uvj+gl2hMCI5IF69jQHCZlgYsPpcONv+IDKVjA7/FQfqscfaQqaDrzJol0NpKYVMjbnRm694FoyQ3vwBcGZOJLcji2sqvWFx23ewqtv/4YNjSf/+lSuXLly5cqVK/8iue4EHCs/2PUWoY31lVjnjWVnQh5n3fAihdlwcM09rFmzjYB/Gw2H4nhjTimOIdO55OYpJOf8kOLPHmLtU16aY91gHcXIfy4hhjjco2dzUcNDlD3+H+ApwOWdyHlXFWA1oOPIvPrQxOGkOUpZ9bNZtDvScQxIJzF3JqNyXBgWyJo8m8Y/PcSrM1tJ9Obhyr2Ngmw3R+5EtO1l78oZbKidwoCcArwJJ7I+YLfZqdw6m5kHa6jv8HDp+dMpTAA6vOTaV/DisoU021144ty406dyfboTw+pkwvkTqHlvDtO3OUlLysUbY8PebT59rr81jfzsPMrfe5Bp68Fuc5ObPZXv5+fiPN75i0nj0sIbqXn3Ke7cCglWcA2axj2xYLRX8+b6F1nu83GwsRp/3VPMqHDiPfv/cXdOJiNzLmXF2z/l/k88pA7IZajLzqYPfsOaxLu4JKOECR8/xWOvr8CbnEt2rBN7bHgeCUl5eHa+wI+X+HDEu3HbXWSPuCm8PozkxgtLmF8+kzvKXQxN8pI37FoKEk+vRwKUK1euXLly5f0vj+7PCUh1E5mOVCqVSqVSqVQqPUGN7qcDYYTnIpVKpVKpVCqVSk9Yo7wJMCP/hVVeXl5eXl5eXl5e/vg+yp8OlBzuaEykUqlUKpVKpVLpCWpUNwGeVDcGBiZdU+icW5dXrly5cuXKlStXrlx59zyqm4C01ORTXYYQQgghhBBRR1S/RaiJeVp0UsqVK1euXLly5cqVR1Me1XcC0j0pp7oMIYQQQgghoo7ovhNgml2tTRRq8wc/4a2/vEXABBKLKfj2HLKSI3ljGav/6x6axy7m65dkYz0N6pVKpVKpVCqVnhka3W8RaoAR/tJpjvjeevrlAVr2biZ49hN8Y+ZqrvvBM2Qld8sTCsmf8gIX5g8KNwB9jNu+++cseTCGBXNLaQydbvNTrly5cuXKlStXfrrmUf10oH/EW4S271/K5kWz+GQf2F3DGXLpw4w6L/zIfPv+Mja/9iifVDeAxYWrcCZjSkpIjIHGDbewfG08iYEy6hrAMeQ7FP3TAwxObuWz/7uTDVuqCDZsozGUjWugC2vnnYCYMja88ih7GhpoPgDZd6xm7HDXkXqad/6azW+WUrevioZ6HynX/JVvXFkQqWcpG165h08OuEhMcWFNHMd51z5A1sC48P7BSnb8djIb67/J5d//VwY5v7p1k0qlUqlUKpWevhrVTwfCAAMD04jMxjBPrm/bxc4/z2L/2bO57q4x2Fs/Ytc7mzkczMZtqeOTJY9Sd9YcJt1RjKNpM1sW/oAN7wxn3NeyAIP2jiwK7v0Ej3UXO175FpvWl5B5TSGDrvkj110T4MDyG1l9+AGuvmkc9shZMRhP0ffHURTazpZf3UljeJKRej5i1/KXab/0j1w3MoP2T3/G8t//hs9GFzB4wCE+K/s5DSP+yLevGoWVAI2VawnGxkPnfGLcuId/h9zBw0m0fQXrJS8vLy8vLy8vHxU+upsAE7pe+WxGvp5E37iZmvp0Bn+jALthQvxwhl42PBwfLqe+3sXgK0bhMIDEPLy56XzyySYCxVlgmthTsomPNcGSgWdYFh9V19LabuKwHCk+fDSzj+Ob3dTstn1HK831PtrbXTQfqCJgxkZeLxBLQkY6zWU/YW2ghEFZw3ENGk1KYrf9DReeogfw0P34X+H6ycvLy8vLy8vLn5Y+upsA4x8wvtFKu9nHsYxuP+tLe3wfBzFxx9+v9/i9t7cPJ7dkCnsWfIu/fJxHDFmM+PYjDEoEiMN9yYtcnbWJAweqaNhZyoevPkTi5CWMuzD9C05cCCGEEEKcyUR3E2Aef5O/C+co0lIa+GzXXkZkZGMNVVL1dhmOwtvwxBfgSW2gausmcjNGY2/eRvX2WhLzRxFrQHP3hqvzf/r4/mjz6Gv7UCWVb68j7dbVXDDM1XPbUC17Vi8kOHw6w84bzeDzSkjpuIn3avfSbqZjBaCVxorX2ePP4+zzC7BH98vChRBCCCHElyS6m4DOR8j7eqS+O182t2eTe91MGn83md/+BWJtED/iCcY5AFs6Z09+gqY/3sPvZu4FMkj72hOMKYq8nedR7xK04ltzD6vXbKKlYRuNoSoWf+zCnvUA4266jsSWbi8Mrt1G+74r+MyZRfa1L3JBnpvEhFrW/lc+n6RmY4914UgZxeCxP2TE2emkDIa18y/ivQ4X8a50HCnXceEVBeEGwABCe/msbAYbaqeQmFPA4ISveP2UK1euXLly5cqVn5Z5VL87kCfVHX6hw5FZmme0b69dyLplVQy9/mEGDTAgsJfqN25lfe13mPgvU0mwnV71ysvLy8vLy8vLn54+qpuAtNTkU13GP5amdWz67T1sqwW7PQ46Ggi2pZP1zRcoOj878pQfIYQQQgghjk1UNwGeVDedHY1UKpVKpVKpVCo9MY3qJqDf3QkQQgghhBDiJBDVLwwOP7eJrsamK5CXl5eXl5eXl5eXP4qP6jsBntRkDLrmJJVKpVKpVCqVSo+vUd4EuMOmczadyMvLy8vLy8vLy8sf1Ud5E6A7AVKpVCqVSqVS6RfV6G4CBrpPdRlRR/OWR/nbX8oIACSOZtTU2WRFljG4cxbL/2c9g7/zB0YNiTuVZf7jaa5g+eYXeLWuGWecB29qEZNHlJDjAH/NPB7/OJN7x5aQedLfhzVIzbY5zPrUy92XTSM//u8bzV9byi82b6QuUE9DzARmXjGNHPvJqfTvoqWceW/No2HYTO7J8XKySvLXlTJrww4uGDOT6weeDhMVQgghooOofmEwxqkuINpopWXvZgLnPMHVN4773D/E7IOmUHTL1TjS446ytq00vH0XS0pfJ3HSO0y6avgZ89kEvsadBDPv45df82Lv8LH67ceYt2MYTxbmdK2FwVdwzdlJHTKVez0OMuO+xPgdPjasf4RnqmxMmjCLWzOm8HDGFIL7X+Xp8tBXVPOXIC6XkovuI+j0YD+J9TiTx3NHcTFOt/30mKcQQggRJUR3E2B2SV+3ObpvFk25f/vPWf+XUvYH4hiQPo6ckpkMy4jDBFoq5rJhycvUHw5AbBaDv/7vXHzxcGI6Gqj6/SQ2t2Rj/XQ9DW1xDCx4nNGTriPJ1sDepXfxzpZKAoe20xSqYvHHScRE7gRkHPo5f1v0Oodb6mgKFjP2/gUkHOkQGti/4ee8v64Mn287hxqzyP/+HoryXMde/2PVEwsd+19n7cs/oqoxjvjELNwj7ubiK0tIDJSx9vmHOOBwE6hvwT2ikPbKMpoz7uOym2/DHduK751ZlG/cTDAE1oQ8vJfNZMQw15HjB3bOYumvf0fiN/7M5WOysZzA+rvTSrgGMEwwW/exLwBujwNM6LxXZppAayXL3n2BDY5rufv8YjzWY59f32ev8qt3F7PL8OCJs5GQfDW3nDcWrz1IzcdzmftJNf5APQ3OKTw5vgSnEd5/3845zNplw9u2lR3N4EyZwC0X3cAFTjtmWzXvfPgqy/ZWUu+vpz5mLA9Ons7FzvDBzc5JRdQ0u+pq3r+C0g9XUxMEu81F5pBruT4rmwTLca7PtmpWfzCfRXtqCAGulIlMKZxMvnULC8rmscPuwN8YYmj6UPwHt+JLuoF7L55AZmgLpRvms8nfjM8PRV+bw+3x9hNYHwg2red3a+exstlJpsOBPf48JhXcQEGCneZ9i3l+4yrq2xqoDuVy95UzSHVG6m+rZk0ftZ7rgJBvMU+vLccd72OLzweOkUwquIPJ6e7T5vdfuXLlypUr/0fk0d0EGOEvBmaXpecEoy73LaX8L2/hunoJl49Ih9plbNu9nWD6KOxNZWxc8iccVy3hxpHptNeUsva3P2Jrxh8Y5QU6WmlzTOHKxxYQ61vK2hdm8dGu8YwZ4WLQNX/gm9e0cmD5t1jdeH+3OwEGJD/AlQ8+AAdKeeOFpeFCOos88Bbvr6pi8HdWMyG1lYbVd/Hm2qWcmzuFBMsx5md01jO1Vz3jGDPCBZYMsm5exZghGVibN7HxxYeo2DOOC9IAWwbZ1y0gY9utrK4t4crvfZONv3mZfY23MaB+Lu++C8O/vZjBbmjf+zwrfvtTHLc/d+RpTTFJBZz9NbBnurEanZf98de/uXY+D61YTD2QmX0fM8/2YjcMQpEdQv71LNjwKvXeu3gwLwfnseYPEKyk7MNyMouf5+F0J7T7qKzbh90KGHYyc+7jqRwD/55f8ngFGJF179w/1J7G5K/fT45lDyvXzuG1ncWMPD+bUP0yFh8YyvQr7iPT0sCG9U+ycnc1BSPCT7MxehRjYBiR+lq2sOiD9STnz+CONCcEKyh960Vecz7CrenOY6xPgJqP57PEX8i9Vz9CttVH+QfPsWCLh4fPTwCLm+KCGRTWzuG5hkIevrSYRW+vYEfrBDITz2PKuGeY0l7NkrJnqTMi8zzu+vjZuv3PVA56hBdGZmMnSP2+HfitdgwDnJ7JPFgyGZrW8Myq9zqnCgT5rEetDZR/8Gy41ouLcRpAO2QXzuGepBCVHz3Lcx+t5wJP11O9Tuu/D8qVK1euXPlJyqO6CQg/wnnk0wL65JTlHR2ULQrw9Afh1J4ew+zb7Izo9Zzv3vsHa8s4YC0mZ2g6FhOMtImcmxbOAvVlHKCY0ZHMkj6OwZ657Px0L22ZbrDEMSAtC7sBFlcBgzKhyncQ00w6Mr4Z+WKanR1hH/VH8nB9LZihWhoPNWAmg39/Ldjiwo+YH2v9TSL1nNWjnkqfD9N0YbEn0f7RQjZvbqAtcIj6Az5c/lZME6wWFxZrHPZ4F9bYWMyYeOwWaGtvwFfxFgcOuaha+SifAXQcgkQIBFoxzfDrGCwDSzj36pJIHSd+/hxp0/ivqVPwH97ByvcXUvpJNnfneDHNIMHDq5i3ooLK+Ck8OSwHh3EC15/VRWZikAXvv4ht/0iGugeTlZJDqrX7+po97jQc+R5wJnhJtZqYFg85aR6WHayjqT0buwmhQD21AciM8VHXEoKUrnPaOdaR+Ue+9x/aytbDPjI/fZUFuwFCNNicuAJBTNN59PVp97F9v4/UQYVk2cDEzbmZ+dg27qAmVAhWJw4rxNidOG1ObJZY7FYItgfBtHddc53aWdsx18eGJykZ3475vNReRH6yl0z3ULLju+3f6/yZJtCrVnAdqbU6WEyOCdi9DIq1Yxp2MtNycdfU09QGpuXY18dR10e5cuXKlSuPwjyqm4DORzwNM2KOoqckt1oYf1M847919P362t8wgHYwOj4/v+6d3JFHUzt/1s135eGOowOwdo7fbXuj9/F7j2cCKddR8LWlvPnKJA4MygDnN7n02utwWk9gffqoxwA6OhrY87/3UpH2HBMmD8carGTrvnJ81q55GN3PLz1/Fj9kChdcV4LDOMpx/67zZydhQC4XpCaw8rMdNJztxQmEOmLJP/8+civm89KHucwcNTL8qPKxxre4Kbr4cbwHdlHXWM2O3QtZsNHG5EtncJXL3nX83uvU7TyFczt27NgieUL6JCbtnsWvyh4j12nD7pnG9872EkvX8Q2j+/5danOMpOT8aeTEHn/dutdn9K7PAAgdKfRo5+tz1283Pd76eM+5l5+mVlF5uI6a/StYVj4P7/kzuTsrras++jhen/WEevzeGN3r6LX9afH3Q7ly5cqVK/+K8z4e+4oeTDjy6OeZojbPaJI6NlOzrxUTaDtYxkd/K6MxCLbUcXhYT2VVLW0mtNWVsbveTeqQDCzm59flyPfdj9O5zVGOT+/8UBk7dqQz+oHVXHHXH7ji29NJHXBi8zl6Pa3Q1gK2uPD2LVX4fK3Q/vm66VaXSRxJ51yOtfpP7D0QXp/Ap3Mp+30pvmC34zdvo+rtUmoOtp7YurfXsXrdHBZU1REwwQzWsKWuHmfSYBwWMLHjdBUx9qyx/NPoKbj2zGPBHt/xx22pYNlH5QQGjKRgaAk3F05jvMPHHn+oz3U/5nnq5pv2r2QNN/LkxMf44eWP8IP8QlyWvte/u3cMyCe3Ywur6nyR+rawaO18NviPMw+rm5yBbur3llMdALPDx46arYRc+QyyHut89XF9nej6tPnYuG0ZFUYWBUPGck3Bndyc6aD+cDOBXuvS43iWbrUGwWz3seOzSK22vtflWL8PUqlUKpWeqRrVdwIsnQ/nmZw5mnI9F11Txdrfnsf/BOKIxYXnyhfIizWw2MdTcO121r56KaWvtEBsAWdfM5vzz4rHYgYwDAMMA4thYLEYGIBhGFiMAIfW3MPq1ZtoObSNxlAV/7vThf2sBxh303XEVv+cskWv09hSS2PtXg7MvZQtrmIKpswhKzEDR3Mpf31yGa5kF9b4dBIzxpF71W0MdsUdfR4W4+j1WDPIvGwqFS9fxWurs0gcNIqUzHiqlv2Uypu/cWQ7AyL7h4c1MLBlfZ+xE37Curnn8I69gJSMUWRd8W2SY40jxw/WlLLx1ZdxXFtAxrjhWI+37kY6I4fmsendGXznHbDb3ORmT2X6ubkkWsAfLgTDMIhzf507C6uZ9f48ylz3MaHbI/qf0zgvebFv8uLyUprtLjxxbtzp3+b69AQsliDVO37J3J01NLdWU91Szs+WrcSVXMIdRROwRY5psUTmb0TWwmIQG58GtXO5f8mreOPs2GweBnsu5foRxSQcWMhz5eXUB+uo9sN//rUch7OQaaOnku84jxsvupoFGx/hrk0uhiZ5yR12LYUJ4WMc/bqMZXDuvzB504v825JSmrDj8ZQw7cLRpMRsOfr5Mgwsga2UrptPebOf+kN1BBtnUrHFQ2Hh/UxJPcb6xMCwFIN5b9/HK6aT1HgXzoTLmJozlDgD/PsWM/e9VdS3+6g+5KfirRksicvlxtF3UpTzL0ze3KvWi0aTYoVg5FZA57paevlT/vsvlUqlUuk/SKP7cwJS3XTNppOjzVb5l8mb3n+UDR8XUHTtdSTYoN23nm2lP2BPzitc+fU8rKd5/Wdc3tHM1i0vsDr+Jm7PycSOgf/gm7y0dimuix7n1rSE07t+5cqVK1euXPlpkUd5E5B81CnKnxzfUfNryhb8B/vbXVitYARraYsvoeCW2Xh9T/HG739HS6jbDsSR8vU/MGF8+DMETnX9X60P8vEHT/HsJ9UEu22D1cP44h8zJc35FRw/SF3lfJ77oBy/1YmdIMH2ELhLuLdoMkNjv+T4Tet5/q0XKe8xEUhIncrDYybgsR5nf3l5eXl5efmo8lHeBETuBJhmeDadmHTzypUrV65cuXLlypUr755HeRPw+TsBvVGuXLly5cqVK1euXHnPPKpfGIxpYvZudHrNWrly5cqVK1euXLly5T3zKL8T0P2FwVKpVCqVSqVSqfRENLqbgIFuMPhcpyMvLy8vLy8vLy8vf3Qf3U2A7gRIpVKpVCqVSqVfWKO6CUgd6D7VZXzlBHfO4o0lcPFdM/E4TmD77Y/yRlk6l9wxHZft5NXRvv911s3/OXUhiLFmMPjaFyjMcYXDUC0VCyexxTKTkm9fh8MChCqp+P132bbbR0vDIVJuWM4VRdknr6Avgf/gCn73TikbAk7c8R5yMkuYlFeIxwr+mnk88XEm94wtIdN6kg/cXseadbNYZJ3Co0XFuP+uz+kOUrntOV7aVY0/WE8ofQb/XlSI8zT47G9/XSlPb9hB4ZiZXD/QfpJGDVKzbQ5Pf+rle5dNIz/+JA0rhBBC9HOi+oXBRueX06Oh+ko08oGmdH448nG3N1tp/wLbn6h2+DbRYCth3A9mkmLvldtcDL7qP3GbecRZwTABeza5//ztYfC6AAASFElEQVQGuWYtO//nJqpO9fky/ezz+ckteo473E5o3cK8FfN4LSmbu73uL7zOX0itbvLzv0+akUmy9Uvs3+5jw4ZHeKbKxqQJs7h1+AyeGhGkZscc5vrCmxinwfWa4B7PHcXFOF32k1iPHc+QqdzrcZAZe3rMUyqVSqXSM0Gjugkwj3w5gzRYyafLfsSG9ZvBlYdniIt28jBNMDsaqH/zLt4qWwfOLGJTRpPzjZkMH+IiuGMWf/vzUg43bedQQxzLZ5ditcTjumg2YyeMwrrvdda9/COqGuOIT8zCNeJuiq4sIcF27HqaNj/EmjfW4Y+M++YzS4m1Re4EZLey67W72FK5l8ChKmLH/JVrJo3q87yYnd92n+cb/0ZF1V7aicOWXEzOVdMZnBwHgW1U/PEuyj88hG1gOrG2bLxXPs6ovPTI/q0cWHkrfy1rJe+OPzBqSNzx19VwkjVsMlmRH/mbqvGZDobGOcO1ddZpghmoZPm7L7DBcS3fO784/EFZRxu33U9lxVx+8eEOQo5UXNZYvFnTuOXsbJymj3fee45F+334W+pxnjOLfz0/G3tkv/J3fsproTQ4uIOaDjvZ3incXjCWzBggVM07H77Ksr2V1PvrqY8Zy4OTp3Oxs2sdu+uR+3lmkJpdpZRWVdJsgt3upSDnBq5Kcx/3+gs2lfO/mxay8mAzGA6yzrqRW/OL8bRt4ZWyeeywO/A3hshOH0rzwa34km7gnosn4PIt5vmNq9jX1kB1KJe7r5xBaudflmOtjwV8Na/y3+8uZpfhwRNnIyH5am45byyZ9iA1H8/l+U+q8QfqaXBO4cnxJTg66w1Vs+aD+SzaU0MIcKVM5ObCyeQ7oH7nHJ7eZSOzbSsVzeBMmcAtF91AodN+7Oukw0/Ftmf5xfZKiHXhSshjfP4Uxg90Qqia5e/8kpX791Hdns3N5w7lw4qllIdG8uBV03HtmsuCTyup8UPReZOw1SxhZT2Mv2wOt3t8fdcaU8Fra/+Mq/BeChrm8pONfm6+Ygbn7pvHfzd8nR8U5OA81X+PpFKpVHrGalQ3AUbki2lyzEcIoylv3vYsm3fmMeaHCxjsauWzZbfyt90ceYQ65qwHuOonxbic0LThu7xZtpTBt0whMXcmV86YSXDbQ/zfyiwu/+50XDFd43dYMsj6p1WMOSsdq38zG+c9RMXucVxwdtwx60scNZuJ50Po40dZvjSOMd/reSdg2M2LGWq2su/Pk9lgidTZe5yIdJ4vzFYaNvwb2w5PZOx3r8MZA/53v8ubry0k+V9ugy3Psq31O0x64jYS7NC2bz31wbhu+8fh8E4kpwjSBkTGP6H1DVK5ZSYPbakE3BRd+AiTUsP/MOy8ExDyr+eVDa9S772LB3NzcFqPff6CTav4fZWTKVfPoygeCFaz1Qd2Kximm6Lix7jYDPLxpp8yn57rY5gh/PYJPDppBgkt63lp1assqy/kjkFO/PXLWHxgKNOvuI9Bho93NjzFyt3VFIzwYu/c/8gvQVd9wQPLeKUKrhr9GIXxEGxYys/Wl+K+bHq4vqOtT0cd72xeSIX7LmZ/LQdnsIIl61/glV3Z/HAIYHFTPGoGhXVzeK6hkIcvLWbR2yuoaJ3AuNTJzCiZDE2reWbVxp71HGt9ApW89eFGMoue5+EMJ7T5qKzfh90ChmHHe859PJUDTbvn8sTHkWsoch5rPp7PEn8h9179CFkWH5u2PMcrH3h4uKgYAwi1p3HthPvIsVazYu0cXttZzMjzsrEf6/oAEgZOZuakkWTGgm/nszy9vZz8MWNJs3mZOOZpJjat4Ok3F7HpcCE3XPo8Dyc5w/uPnMFTedW8tvIxVtQ2cPPIp7jV48ZuBKn+KFJrySNkx/gof/85Xtni4eELsvHEBqlu9rP/cAjPAKj2+/E2+3EmJJFwBv59U65cuXLlp08e1U2AiQlmeDZmRDmKRkfeQuOebTDkcTzJcZjEkpJbTEJF+ESalljsMXupWjWLHa2ttO8vp6X5fNraTUxL5ziRtTF7ro/FnkT77oVsfr+BtkAD9Qd8uJpbMM24E6yv73F75mYfeee56vbzkI+67es4HIjlg8WbsGLSHmjBEdtKaxBcnlxia55n7Wu1eIcVkJQxirRMV49x48+5jcJzuq7mE1tfG1kjn+EP5zZRv28Dr72/kGXu+5iU6sA0gwQPr2Leigoq46fw5LAcHJaucY82vs3mJdOymEXvzac6PYesAYPJHZiJrdc6fH59wDRspCV5cFpMbPG55CfB+pYmTByYJoQCddQGYFCMj7qWEKTQc//OhT1SX4D62nJ2tTgp/3A+WzHBbCYmzqQpGMSMtx19fQI1bG1M4Nxzs8LzjsuiIN3N6n2V+LwOsDpxxJjE2J04bQ5sljjsVgi2BwFb1zpBj/U65vrEJJGZGGLBBy9iOzCSoW4vWSm5pMb0sd6R0U3TgHYf2/f7SB1USJYNwMW5mfnYNm6nOliMB3AmeBkYY2JaPOSmeVh+sI6mjizclmNcH5YY4mlgzfaFrGoL4W/chS84lJDZrR6AmGwuySvh3ITu59UI12g4yR92FZd43OGft/nY0Vmr3cTEzbnefGwbd1DdXoDHAVv9e9jjd5Kf7qLeV019M7jcCWfg3zflypUrV3465VHdBIAR+Seg8TnfW6Mp/7yGaa95mTV/quLcO2czcgAEPmqlviy8Hb22776/2XGIT5fcS0X6c0yYNBxLqJIP923CZ/2i9fUa9zj1m73q7/FzSxIpBfczZkw2Zo8twBzyAFf+YDy1tZX4q9ex7c0f8e7Zz3HF9eNwWk7C+lsSSEstJN+xmJV19VyVmg1AqCOW/PPvI7diPi99mMvD548kwXKc8eNHcsvlj1Gxv4b6pl1s2vY7fh0ay72X3cg59uOd356rajdsGB1hn5A+iUm7Z/GrssfIcdqwe6bx3WFeYo+yrt3HdyeP5YbCYlyWroa/x/qe4Pk92vh9XWd95cdfn2SKLnqczIO7qGuspmJ3KQveszHpshlMTLJ3m2fv9afH8bvqb+vjerNjw46td119zD/oW85/v1/PlWPv4IJ4aKoJUbHj88ePsdpIsPQcrxO7xYbNGnvM6z9MCIjFneimqaGKmg4vBSlQ/2klu0I2vAm2PsY/Pf4+KVeuXLnyMyM/Dd5T5O+h65HH3r63Rkcei9M7HHb/hVpf+OeB/dtpDkXi9lYArBYTk1aa67YTaO9jfAu9xm+B9hawxYV9SyU+Xyu0f9H6eo97ovvTM7clkZqTQcP7S9kfCNfXsOEh3irbRButNGz6OR/VJpE24pucc+UTjL6qGA5WEuxWb1tdGRVr/w9f8wnW31zOK3/7JSsO+sPr2rSV8kMmmUku7JiAHaeriLFnjeWfRk/BtWcer1QfPO78mg6u4LWqBlLTCrkk5wZuKZyMt60aX+hE1qfnqnZf36b9K1nDDTw58TEevHwm9+QX4rYeb38bA9PycR5cz9bmYGScpfxqwwrq24+zPvZM8hOb2FpThb8jfGegvNZHamo2bsvR6/+71qdlB8u2lRMckE/h0BJuLryV8U4f1f7gsa8vq4ucgW727S2nOgh0HKTis62EXOcyqMc7Yh3l+sMkcLiclTs3hvfv3MqEIDbsmJgEaWisxt/X71cf4/U8E93WweomN1JrTdDE7PBFas0n02bicLppa9hBXYyHzMRMnC1bqGpzkWqzH33+X/rvi3LlypUrV96lZ+ydgGj1zhH3MWr3j3jnP3J4JzGPgUNcxEb+YWPNmMpw702smn0x8cnZpGTlMeDwy6xfUcj4icXYMYjxFJDke5oVc0rBEo/7otlcMmEUGZdOoeLlq1i0KosBmaNIzoyjatlj7Mr4d4YOjDtqPaGqn/PWotc5fDj8wuAVP1tKbNI4Cm95gsHxdV0vDD64mSam8act6biKZnP5JUns7HyL0P2bCWz/FovK3Ay85DkuuWQ4rqJ/50Lfj3jriWchdRQu70RGXllADJB41nCCv/8Wi/4YR6w7A0dCFsMnXo/L1llfgIb3n2bdGy2MHDSewqyj13/Ex+VyScZ6Xiq7g5ew4YwZSlH+/UzJ7Pk2swZgT5rA7QXV/Nv7L1GWdC/jkuxHHT9hQC6enfP4yf/6cMa7cce6yMq7kVFOoL2h2wuDq6nnGX5UnUTm0Lu4J9fT66jdvzOwxXmg9nnuX7IIb6wNmz0Nb+pYbhhRSNPHkbcIba2npr2GHx9w4B54Iz+4sJjkgZO5fXgpL62Yzu/sXrKTsinKuzH84uZjrY81jYtHTaX6vV/y/173AW5yh07h9qFp0FbfY/ve9fr3Lel6YfBhPxVlM1gSn8cNxXdQdKz16fCSa1/BvGWl+O1JpMUn40qbyvVpCUD3FwbXUNOyiWeWrcCdXMLtF08g85xpTPLP4+klpfix4/FM5JYLRpNsgbpu1XVV2n2+IWp2/5GXPgpxY9JIrou8nak9aSwTk57iF8vvw+3wkD3Qi7dlBa98mMcPRjhY0/nC4CY/FSsfZFGMm/xzp3PLYDsVWyMvDD5cR7DpESpiHKSe9R2m5+ccpdbwW8UaTg8cWkpz2hSccTbSOipZaRZyi/0450teXl5eXv7v9NH9OQEpLjD43Asf5OWj2rf7+XDrPNbE38htOeHnzzf7VvLS2qW4L3qMf/Y4T6965eXl5eXl5aPOR3cT0A8+LOwrJ7SNbfNv5f3KQz1/7vomo787m7MGnJqyThvaq1m+Zg6LDvp7/NgeV8xtl91B4Ql8gNsXJ0h95QJ+8UE5/hgHdkIE20KQPJF7Lp5MduyXG9VfM5+n31tNfUf3n9oZmjeDB4ZH3rpUCCGEEP2CqG4CBqa4MDo7GyKNjby8vLy8vLy8vLz8MX1UNwG6EyCEEEIIIcQXJ6pfGByl/YsQQgghhBCnlKhuAgwDoPP+Rh8avuGhXLly5cqVK1euXLnybnlUPx1oYIrrVJchhBBCCCFE1BHddwKg7w5HKpVKpVKpVCqVHlV1J0AIIYQQQoh+huVUF/D3YsjLy8vLy8vLy8vLfyEf1XcC9BahQgghhBBCfHGi/k6AEEIIIYQQ4osR3U1A5CbGkZsZ8vLy8vLy8vLy8vLH9Xo6kBBCCCGEEP2MM+pOQG9Vrly5cuXKlStXrlz553PdCRBCCCGEEKKfEdUfFhal/YsQQgghhBCnlKhuAgwj8q6npglG93dANenxjqjKlStXrly5cuXKlSs/4qL66UD6xGAhhBBCCCG+OFH9wmDD4MjdAMMwwp9+1t0rV65cuXLlypUrV678c7nuBAghhBBCCNHPiOo7AdDV2XR55cqVK1euXLly5cqVHyvXnQAhhBBCCCH6GWfcnQDlypUrV65cuXLlypUfO4/qtwjdf6DhVJcghBBCCCFE1BHVTcCg9IGnugQhhBBCCCGijqh/OpAQQgghhBDii6EmQAghhBBCiH6GmgAhhBBCCCH6GWoChBBCCCGE6GeoCRBCCCGEEKKfoSZACCGEEEKIfoaaACGEEEIIIfoZagKEEEIIIYToZ6gJEEIIIYQQop+hJkAIIYQQQoh+hpoAIYQQQggh+hlqAoQQQgghhOhnqAkQQgghhBCin6EmQAghhBBCiH6GmgAhhBBCCCH6GWoChBBCCCGE6GeoCRBCCCGEEKKfoSZACCGEEEKIfoaaACGEEEIIIfoZagKEEEIIIYToZ6gJEEIIIYQQop+hJkAIIYQQQoh+hpoAIYQQQggh+hlqAoQQQgghhOhnqAkQQgghhBCin6EmQAghhBBCiH6GmgAhhBBCCCH6GWoChBBCCCGE6GeoCRBCCCGEEKKfoSZACCGEEEKIfoaaACGEEEIIIfoZagKEEEIIIYToZ6gJEEIIIYQQop+hJkAIIYQQQoh+hpoAIYQQQggh+hlqAoQQQgghhOhnqAkQQgghhBCin6EmQAghhBBCiH6GmgAhhBBCCCH6GWoChBBCCCGE6GdEdRNgmuapLkEIIYQQQoioI2qbgJgYK21t7ae6DCGEEEIIIaKOqG0C7DYbgWDoVJchhBBCCCFE1BG1TYDDEYu/uUVPCRJCCCGEEOILErVNgN1mI9Zu59DhplNdihBCCCGEEFFF1DYBAK6kBNo7TBoONeqOgBBCCCGEECeIYZ4B/3puONREIBjE6Ygn1m4jJsaKYRinuiwhhBBCCCFOS/4/QzZUV4qagZEAAAAASUVORK5CYII=)"
      ],
      "metadata": {
        "id": "l4qrBCMhzr4V"
      },
      "id": "l4qrBCMhzr4V"
    },
    {
      "cell_type": "markdown",
      "source": [
        "We now convert our `examples` DataFrame into a Dataset object."
      ],
      "metadata": {
        "id": "uL4rctW44Ax5"
      },
      "id": "uL4rctW44Ax5"
    },
    {
      "cell_type": "code",
      "source": [
        "ds = Dataset.from_pandas(examples)\n",
        "ds.push_to_hub(\"guy-or/form-lang-examples\", \"3k_single_omission\")\n",
        "ds"
      ],
      "metadata": {
        "id": "jC8Ts1qj5OyU",
        "outputId": "26183734-470f-4ad9-f90e-01370adc7f9a",
        "colab": {
          "base_uri": "https://localhost:8080/",
          "height": 287,
          "referenced_widgets": [
            "19026d60d9c34feabbb1ff6b18da50ac",
            "45be70b82dac4658b28da2c0206a4c03",
            "495ad3b125ac4b0c8d0746f4b2af9c5a",
            "e80113d508fb4fa595d2edd5b4af51b0",
            "3e2e2dafb6e248e6b01eef83fbb4a289",
            "988c34d7864b4b8f86f23d6cbeea775d",
            "c3b410b67ef0477490e0d8533f05ad72",
            "efc4548f3ebc4bfa9ded7d72f6bd9c35",
            "3fabb76d516e4c3b8d7be580fb764271",
            "d8fae8d2f4d24fcab83115f37993fa19",
            "041f3dbf6ed2418cae784b1c0a2d2d24",
            "02e895f116a044a7b744cdc2b3216a2b",
            "bd6f198e00ff4c28a92085bf4a87c08b",
            "20307279cd424ec49836fc44752e2348",
            "9a745883769144fab784695dbd92fb87",
            "f35b5ac74ccb431db258aa56a2f8c2b8",
            "51e8ce8d9087477d8043dab48e4e6e09",
            "a80f91e355b94cec9021bd7343646900",
            "41264665defd46bc94a8ad387c2b8a85",
            "117e0c1d4f7045bc89b6e78ca1bd11bf",
            "76c7dfce9924442abf6a02b6d01d7ec3",
            "8d39ceb36f704d469a821aeef3daf28a",
            "a5dbb72b453b47e49d1569ce99cdea29",
            "914fe4d1edfe45f6b56ebb1d2507bfb1",
            "36ec1930b9a5477e83ceb9ec8f7c8ddb",
            "04029cacace54a1cb37937784fe437f9",
            "87859ff67e234fefb90ac85e397f5193",
            "422538ed947d4dec996f81907cb6bef2",
            "10772f3b466d424d8b94e3f8c72e4536",
            "92ee481aa9b14e9a90c92615f2ae3a95",
            "88a89230e227461991bb80e4f2e70b97",
            "4275acab2ac84fe1a03885cc1b0540c4",
            "e59bc52e83364ba7bb0c5e0ed4d623e4"
          ]
        }
      },
      "id": "jC8Ts1qj5OyU",
      "execution_count": 59,
      "outputs": [
        {
          "output_type": "stream",
          "name": "stderr",
          "text": [
            "/usr/local/lib/python3.11/dist-packages/huggingface_hub/utils/_auth.py:94: UserWarning: \n",
            "The secret `HF_TOKEN` does not exist in your Colab secrets.\n",
            "To authenticate with the Hugging Face Hub, create a token in your settings tab (https://huggingface.co/settings/tokens), set it as secret in your Google Colab and restart your session.\n",
            "You will be able to reuse this secret in all of your notebooks.\n",
            "Please note that authentication is recommended but still optional to access public models or datasets.\n",
            "  warnings.warn(\n"
          ]
        },
        {
          "output_type": "display_data",
          "data": {
            "text/plain": [
              "Uploading the dataset shards:   0%|          | 0/1 [00:00<?, ?it/s]"
            ],
            "application/vnd.jupyter.widget-view+json": {
              "version_major": 2,
              "version_minor": 0,
              "model_id": "19026d60d9c34feabbb1ff6b18da50ac"
            }
          },
          "metadata": {}
        },
        {
          "output_type": "display_data",
          "data": {
            "text/plain": [
              "Creating parquet from Arrow format:   0%|          | 0/3 [00:00<?, ?ba/s]"
            ],
            "application/vnd.jupyter.widget-view+json": {
              "version_major": 2,
              "version_minor": 0,
              "model_id": "02e895f116a044a7b744cdc2b3216a2b"
            }
          },
          "metadata": {}
        },
        {
          "output_type": "display_data",
          "data": {
            "text/plain": [
              "README.md:   0%|          | 0.00/114 [00:00<?, ?B/s]"
            ],
            "application/vnd.jupyter.widget-view+json": {
              "version_major": 2,
              "version_minor": 0,
              "model_id": "a5dbb72b453b47e49d1569ce99cdea29"
            }
          },
          "metadata": {}
        },
        {
          "output_type": "execute_result",
          "data": {
            "text/plain": [
              "Dataset({\n",
              "    features: ['originalFormCode', 'modifiedFormCode', 'removedNodeEnglish', 'removedNodeContextEnglish', 'originalFormAst', 'userPrompt'],\n",
              "    num_rows: 3000\n",
              "})"
            ]
          },
          "metadata": {},
          "execution_count": 59
        }
      ]
    },
    {
      "cell_type": "markdown",
      "source": [
        "### Loading the Dataset from HuggingFace using `Datasets`"
      ],
      "metadata": {
        "id": "oMYGTbnVzAM7"
      },
      "id": "oMYGTbnVzAM7"
    },
    {
      "cell_type": "code",
      "source": [],
      "metadata": {
        "id": "nZLwM8m1zEAA"
      },
      "id": "nZLwM8m1zEAA",
      "execution_count": null,
      "outputs": []
    },
    {
      "cell_type": "markdown",
      "id": "f9c2613f-879e-4a67-8216-af5af4a78b6d",
      "metadata": {
        "id": "f9c2613f-879e-4a67-8216-af5af4a78b6d"
      },
      "source": [
        "### Zero-shot evaluation using Llama 3.2-1B"
      ]
    },
    {
      "cell_type": "markdown",
      "id": "cbbd5154-6661-46d9-b02b-704e6628b096",
      "metadata": {
        "id": "cbbd5154-6661-46d9-b02b-704e6628b096"
      },
      "source": [
        "The LLM might ignore the instruction to output plain code without the \"```FormLang\" delimiter, in that case we should try to extract the contents."
      ]
    },
    {
      "cell_type": "code",
      "execution_count": null,
      "id": "9fa8d994-82ce-4274-a2e1-016230ec5301",
      "metadata": {
        "id": "9fa8d994-82ce-4274-a2e1-016230ec5301"
      },
      "outputs": [],
      "source": [
        "def extract_code_block(text, lang):\n",
        "  \"\"\"\n",
        "  Extracts a code block from a string.\n",
        "\n",
        "  Args:\n",
        "    text: The string containing the code block.\n",
        "    lang: The name of the language the code block is written in.\n",
        "\n",
        "  Returns:\n",
        "    The code block, or None if no code block is found.\n",
        "  \"\"\"\n",
        "  pattern = f\"```{lang}\\n(.*?)```\"\n",
        "  match = re.search(pattern, text, re.DOTALL)\n",
        "  if match:\n",
        "    return match.group(1).strip()\n",
        "  return None\n",
        "\n",
        "def extract_llm_formlang_output(text):\n",
        "    # Strip leading and trailing whitespace and check for delimiters\n",
        "    text = text.strip()\n",
        "    return extract_code_block(text, \"FormLang\") or text"
      ]
    },
    {
      "cell_type": "code",
      "execution_count": null,
      "id": "cceceb71-4287-427b-bcd4-dd009c7e6744",
      "metadata": {
        "colab": {
          "referenced_widgets": [
            "5eff54e834f94b88a3578e2fdf7875ea",
            "dcb6c00821d34c808bf5edecff6c1cdc",
            "a55786cfd1cd466483b2ac4eab2d4dd7",
            "73539f48f65346f8b7849b5b63eea848"
          ]
        },
        "id": "cceceb71-4287-427b-bcd4-dd009c7e6744",
        "outputId": "1d997808-fc2f-4830-e8c6-9494c6fb6936"
      },
      "outputs": [
        {
          "data": {
            "application/vnd.jupyter.widget-view+json": {
              "model_id": "5eff54e834f94b88a3578e2fdf7875ea",
              "version_major": 2,
              "version_minor": 0
            },
            "text/plain": [
              "generation_config.json:   0%|          | 0.00/189 [00:00<?, ?B/s]"
            ]
          },
          "metadata": {},
          "output_type": "display_data"
        },
        {
          "data": {
            "application/vnd.jupyter.widget-view+json": {
              "model_id": "dcb6c00821d34c808bf5edecff6c1cdc",
              "version_major": 2,
              "version_minor": 0
            },
            "text/plain": [
              "tokenizer_config.json:   0%|          | 0.00/54.5k [00:00<?, ?B/s]"
            ]
          },
          "metadata": {},
          "output_type": "display_data"
        },
        {
          "data": {
            "application/vnd.jupyter.widget-view+json": {
              "model_id": "a55786cfd1cd466483b2ac4eab2d4dd7",
              "version_major": 2,
              "version_minor": 0
            },
            "text/plain": [
              "tokenizer.json:   0%|          | 0.00/9.09M [00:00<?, ?B/s]"
            ]
          },
          "metadata": {},
          "output_type": "display_data"
        },
        {
          "data": {
            "application/vnd.jupyter.widget-view+json": {
              "model_id": "73539f48f65346f8b7849b5b63eea848",
              "version_major": 2,
              "version_minor": 0
            },
            "text/plain": [
              "special_tokens_map.json:   0%|          | 0.00/296 [00:00<?, ?B/s]"
            ]
          },
          "metadata": {},
          "output_type": "display_data"
        },
        {
          "name": "stderr",
          "output_type": "stream",
          "text": [
            "Device set to use cpu\n"
          ]
        }
      ],
      "source": [
        "llama3_pipeline = pipeline(\"text-generation\", model=\"meta-llama/Llama-3.2-1B-Instruct\", torch_dtype=torch.bfloat16, device_map=\"cpu\")"
      ]
    },
    {
      "cell_type": "code",
      "execution_count": null,
      "id": "08528c70-5fb5-40a7-8146-0a25e1f9a8b1",
      "metadata": {
        "id": "08528c70-5fb5-40a7-8146-0a25e1f9a8b1",
        "outputId": "ee5de261-d426-4d37-a956-cd805d442789"
      },
      "outputs": [
        {
          "name": "stderr",
          "output_type": "stream",
          "text": [
            "Setting `pad_token_id` to `eos_token_id`:128001 for open-end generation.\n"
          ]
        },
        {
          "name": "stdout",
          "output_type": "stream",
          "text": [
            "CPU times: user 5min 50s, sys: 278 ms, total: 5min 51s\n",
            "Wall time: 43.9 s\n"
          ]
        },
        {
          "data": {
            "text/plain": [
              "[{'generated_text': [{'role': 'system',\n",
              "    'content': \"You are a code generation AI assistant.\\nYour job is to generate valid FormLang code according to the instructions given below:\\nInspect the following FormLang Form definition, the start of the code will be denoted with ```FormLang and its end with ``` .\\nAfter inspection, complete the Form's code according to the given a description of a new form element and a description of its location in the form.\\nYou may assume that the new form element to be added is always either a 'form' or a 'field'.\\nYour output must be valid and compiler-friendly FormLang code only.\\nIf you are unsure of the FormLang syntax, try to infer it from the form code which is given below as an input.Your answer will be evaluated using an AST comparison of your code to the expected code.\\nAssume that the input code is valid and requires no modification other than the NEW code you must generate.\\nYou must output plain FormLang code without any additional text or delimiters.\\nYou must not change any part of the original input code other than adding the required element.\\n\"},\n",
              "   {'role': 'user',\n",
              "    'content': '```FormLang\\n\\n  component userDetailsContainer {}\\n  component formContainer {}\\n  component someOtherContainer {}\\n  component OtherContainer2 {}\\n\\n\\n  component myTextBox {\\n    props {\\n      textColor\\n      textSize\\n      textWeight\\n      borderColor\\n    }\\n  }\\n  component myCheckbox {\\n    props {\\n      size\\n    }\\n  }\\n  component otherTextBox {}\\n  component counter {\\n    props {\\n      style\\n    }\\n  }\\n\\nform i_ {\\n\\tcomp userDetailsContainer \\n\\t\\n\\tform _ {\\n\\t\\tcomp userDetailsContainer \\n\\t\\t\\n\\t\\tfield M {\\n\\t\\t\\tstate string\\n\\t\\t\\tcomp counter style=\"(() => 91.82371540078952)()\" as expression\\n\\t\\t\\t\\n\\t\\t}\\n\\t\\tfield d {\\n\\t\\t\\tcomp counter style=\"Math.sqrt(16)\" as expression\\n\\t\\t\\t\\n\\t\\t}\\n\\t\\tfield Bw {\\n\\t\\t\\tstate boolean default \"true\" as expression\\n\\t\\t\\tcomp otherTextBox \\n\\t\\t\\t\\n\\t\\t}\\n\\t\\tfield j {\\n\\t\\t\\tstate boolean default \"true\" as expression\\n\\t\\t\\tcomp otherTextBox \\n\\t\\t\\t\\n\\t\\t}\\n\\t}\\n\\n\\tform g {\\n\\t\\tcomp OtherContainer2 \\n\\t\\t\\n\\n\\t}\\n\\n\\tfield dw {\\n\\t\\tcomp myCheckbox size=\"#342508\"\\n\\t\\t\\n\\t}\\n}\\n\\n```\\nThe description of the form element you need to add:\\n\\ta field whose id is \\'Ow\\' with state of type: \\'string\\', and is using the component \\'counter\\' to which the following prop assignments are made: style=\"#4a6461\".\\n\\t\\nThe description of the context in the form where you should add the element:\\nThe element to be added:\\n* is a child of the form whose id is \\'i_\\'.\\n* is located after the field whose id is \\'dw\\'\\n'},\n",
              "   {'role': 'assistant',\n",
              "    'content': 'Based on the provided FormLang code and the description of the new form element, I will add the required code as follows:\\n\\n```FormLang\\n\\n  component userDetailsContainer {}\\n  component formContainer {}\\n  component someOtherContainer {}\\n  component OtherContainer2 {}\\n\\n\\n  component myTextBox {\\n    props {\\n      textColor\\n      textSize\\n      textWeight\\n      borderColor\\n    }\\n  }\\n  component myCheckbox {\\n    props {\\n      size\\n    }\\n  }\\n  component otherTextBox {}\\n  component counter {\\n    props {\\n      style\\n    }\\n  }\\n\\nform i_ {\\n\\tcomp userDetailsContainer \\n\\t\\n  field M {\\n    state string\\n    comp counter style=\"(() => 91.82371540078952)()\" as expression\\n  }\\n  field d {\\n    comp counter style=\"Math.sqrt(16)\" as expression\\n  }\\n  field Bw {\\n    state boolean default \"true\" as expression\\n    comp otherTextBox \\n  }\\n  field j {\\n    state boolean default \"true\" as expression\\n    comp otherTextBox \\n  }\\n  \\n  field Ow {\\n    comp myCheckbox\\n    props {\\n      size\\n    }\\n  }\\n}\\n\\nform g {\\n  comp OtherContainer2 \\n  \\n\\n  field dw {\\n    comp myCheckbox size=\"#4a6461\"\\n  }\\n}\\n\\n```\\n\\nThis code adds a new field `Ow` with state type `string` and using the `counter` component. The `Ow` field is located after the `dw` field.'}]}]"
            ]
          },
          "execution_count": 66,
          "metadata": {},
          "output_type": "execute_result"
        }
      ],
      "source": [
        "%%time\n",
        "pred_example_0 = llama3_pipeline([\n",
        "    {\"role\": \"system\", \"content\": \"You are a code generation AI assistant.\\n\" + get_system_prompt()},\n",
        "    {\"role\": \"user\", \"content\": examples['userPrompt'][0]},\n",
        "], max_new_tokens=10**4)\n",
        "pred_example_0"
      ]
    },
    {
      "cell_type": "code",
      "execution_count": null,
      "id": "a9bae009-a157-412b-b06d-4f580df2efa0",
      "metadata": {
        "id": "a9bae009-a157-412b-b06d-4f580df2efa0",
        "outputId": "e9e20da0-e178-45ce-9de5-738983cf9e64"
      },
      "outputs": [
        {
          "name": "stdout",
          "output_type": "stream",
          "text": [
            "component userDetailsContainer {}\n",
            "  component formContainer {}\n",
            "  component someOtherContainer {}\n",
            "  component OtherContainer2 {}\n",
            "\n",
            "\n",
            "  component myTextBox {\n",
            "    props {\n",
            "      textColor\n",
            "      textSize\n",
            "      textWeight\n",
            "      borderColor\n",
            "    }\n",
            "  }\n",
            "  component myCheckbox {\n",
            "    props {\n",
            "      size\n",
            "    }\n",
            "  }\n",
            "  component otherTextBox {}\n",
            "  component counter {\n",
            "    props {\n",
            "      style\n",
            "    }\n",
            "  }\n",
            "\n",
            "form i_ {\n",
            "\tcomp userDetailsContainer \n",
            "\t\n",
            "  field M {\n",
            "    state string\n",
            "    comp counter style=\"(() => 91.82371540078952)()\" as expression\n",
            "  }\n",
            "  field d {\n",
            "    comp counter style=\"Math.sqrt(16)\" as expression\n",
            "  }\n",
            "  field Bw {\n",
            "    state boolean default \"true\" as expression\n",
            "    comp otherTextBox \n",
            "  }\n",
            "  field j {\n",
            "    state boolean default \"true\" as expression\n",
            "    comp otherTextBox \n",
            "  }\n",
            "  \n",
            "  field Ow {\n",
            "    comp myCheckbox\n",
            "    props {\n",
            "      size\n",
            "    }\n",
            "  }\n",
            "}\n",
            "\n",
            "form g {\n",
            "  comp OtherContainer2 \n",
            "  \n",
            "\n",
            "  field dw {\n",
            "    comp myCheckbox size=\"#4a6461\"\n",
            "  }\n",
            "}\n"
          ]
        }
      ],
      "source": [
        "pred_example_0_generated = pred_example_0[0]['generated_text'][2]['content']\n",
        "print(extract_llm_formlang_output(pred_example_0_generated))"
      ]
    },
    {
      "cell_type": "code",
      "execution_count": null,
      "id": "a19a84f2-a25f-4cb3-87a7-005912660ed5",
      "metadata": {
        "id": "a19a84f2-a25f-4cb3-87a7-005912660ed5",
        "outputId": "4fba1459-7b29-40ee-9b5c-94cbd20eaaea"
      },
      "outputs": [
        {
          "data": {
            "text/plain": [
              "{'ast': '{\"$type\":\"Form\",\"name\":\"i_\",\"component\":{\"$type\":\"FieldComponentDef\",\"componentId\":{\"$ref\":\"#/components@0\"},\"componentPropsKeys\":[],\"componentPropsValues\":[]},\"children\":[{\"$type\":\"Field\",\"name\":\"M\",\"state\":{\"$type\":\"FieldStateDef\",\"type\":\"string\",\"isArray\":false},\"component\":{\"$type\":\"FieldComponentDef\",\"componentId\":{\"$ref\":\"#/components@7\"},\"componentPropsKeys\":[{\"$type\":\"ComponentPropKey\",\"key\":\"style\"}],\"componentPropsValues\":[{\"$type\":\"ValueExpression\",\"value\":\"(() => 91.82371540078952)()\",\"isExpression\":true}]}},{\"$type\":\"Field\",\"name\":\"d\",\"component\":{\"$type\":\"FieldComponentDef\",\"componentId\":{\"$ref\":\"#/components@7\"},\"componentPropsKeys\":[{\"$type\":\"ComponentPropKey\",\"key\":\"style\"}],\"componentPropsValues\":[{\"$type\":\"ValueExpression\",\"value\":\"Math.sqrt(16)\",\"isExpression\":true}]}},{\"$type\":\"Field\",\"name\":\"Bw\",\"state\":{\"$type\":\"FieldStateDef\",\"type\":\"boolean\",\"defaultValue\":{\"$type\":\"ValueExpression\",\"value\":\"true\",\"isExpression\":true},\"isArray\":false},\"component\":{\"$type\":\"FieldComponentDef\",\"componentId\":{\"$ref\":\"#/components@6\"},\"componentPropsKeys\":[],\"componentPropsValues\":[]}},{\"$type\":\"Field\",\"name\":\"j\",\"state\":{\"$type\":\"FieldStateDef\",\"type\":\"boolean\",\"defaultValue\":{\"$type\":\"ValueExpression\",\"value\":\"true\",\"isExpression\":true},\"isArray\":false},\"component\":{\"$type\":\"FieldComponentDef\",\"componentId\":{\"$ref\":\"#/components@6\"},\"componentPropsKeys\":[],\"componentPropsValues\":[]}},{\"$type\":\"Field\",\"name\":\"Ow\",\"component\":{\"$type\":\"FieldComponentDef\",\"componentId\":{\"$ref\":\"#/components@5\"},\"componentPropsKeys\":[],\"componentPropsValues\":[]}}]}',\n",
              " 'errors': [{'severity': 1,\n",
              "   'range': {'start': {'character': 4, 'line': 47},\n",
              "    'end': {'character': 9, 'line': 47}},\n",
              "   'message': \"Expecting token of type '}' but found `props`.\",\n",
              "   'data': {'code': 'parsing-error'},\n",
              "   'source': 'form-lang'},\n",
              "  {'severity': 1,\n",
              "   'range': {'start': {'character': 4, 'line': 47},\n",
              "    'end': {'character': 9, 'line': 47}},\n",
              "   'message': \"Expecting token of type '}' but found `props`.\",\n",
              "   'data': {'code': 'parsing-error'},\n",
              "   'source': 'form-lang'},\n",
              "  {'severity': 1,\n",
              "   'range': {'start': {'character': 2, 'line': 50},\n",
              "    'end': {'character': 3, 'line': 50}},\n",
              "   'message': \"Expecting token of type 'EOF' but found `}`.\",\n",
              "   'data': {'code': 'parsing-error'},\n",
              "   'source': 'form-lang'}]}"
            ]
          },
          "execution_count": 68,
          "metadata": {},
          "output_type": "execute_result"
        }
      ],
      "source": [
        "get_ast(extract_llm_formlang_output(pred_example_0_generated), True)"
      ]
    }
  ],
  "metadata": {
    "kernelspec": {
      "display_name": "Python 3 (ipykernel)",
      "language": "python",
      "name": "python3"
    },
    "language_info": {
      "codemirror_mode": {
        "name": "ipython",
        "version": 3
      },
      "file_extension": ".py",
      "mimetype": "text/x-python",
      "name": "python",
      "nbconvert_exporter": "python",
      "pygments_lexer": "ipython3",
      "version": "3.10.12"
    },
    "colab": {
      "provenance": []
    },
    "widgets": {
      "application/vnd.jupyter.widget-state+json": {
        "ee85a590cc8e4d989f0645c04095734c": {
          "model_module": "@jupyter-widgets/controls",
          "model_name": "VBoxModel",
          "model_module_version": "1.5.0",
          "state": {
            "_dom_classes": [],
            "_model_module": "@jupyter-widgets/controls",
            "_model_module_version": "1.5.0",
            "_model_name": "VBoxModel",
            "_view_count": null,
            "_view_module": "@jupyter-widgets/controls",
            "_view_module_version": "1.5.0",
            "_view_name": "VBoxView",
            "box_style": "",
            "children": [],
            "layout": "IPY_MODEL_d34a6313715c41bdb481df968094b837"
          }
        },
        "52fef795d6074f99b067f15bc3e5fe3b": {
          "model_module": "@jupyter-widgets/controls",
          "model_name": "HTMLModel",
          "model_module_version": "1.5.0",
          "state": {
            "_dom_classes": [],
            "_model_module": "@jupyter-widgets/controls",
            "_model_module_version": "1.5.0",
            "_model_name": "HTMLModel",
            "_view_count": null,
            "_view_module": "@jupyter-widgets/controls",
            "_view_module_version": "1.5.0",
            "_view_name": "HTMLView",
            "description": "",
            "description_tooltip": null,
            "layout": "IPY_MODEL_b39885cd2b43465b9ff24ecf29babc24",
            "placeholder": "​",
            "style": "IPY_MODEL_a1ee16963d8a426abcab709f355745cb",
            "value": "<center> <img\nsrc=https://huggingface.co/front/assets/huggingface_logo-noborder.svg\nalt='Hugging Face'> <br> Copy a token from <a\nhref=\"https://huggingface.co/settings/tokens\" target=\"_blank\">your Hugging Face\ntokens page</a> and paste it below. <br> Immediately click login after copying\nyour token or it might be stored in plain text in this notebook file. </center>"
          }
        },
        "a1f82789f45d4d9eb5b27be682f751bd": {
          "model_module": "@jupyter-widgets/controls",
          "model_name": "PasswordModel",
          "model_module_version": "1.5.0",
          "state": {
            "_dom_classes": [],
            "_model_module": "@jupyter-widgets/controls",
            "_model_module_version": "1.5.0",
            "_model_name": "PasswordModel",
            "_view_count": null,
            "_view_module": "@jupyter-widgets/controls",
            "_view_module_version": "1.5.0",
            "_view_name": "PasswordView",
            "continuous_update": true,
            "description": "Token:",
            "description_tooltip": null,
            "disabled": false,
            "layout": "IPY_MODEL_fcf3cfaa74b94a74a0bd5d7224718d28",
            "placeholder": "​",
            "style": "IPY_MODEL_58274e69d94343c6af79919d091f0f43",
            "value": ""
          }
        },
        "ac49b94d59574260b3aaf5e51b758efa": {
          "model_module": "@jupyter-widgets/controls",
          "model_name": "CheckboxModel",
          "model_module_version": "1.5.0",
          "state": {
            "_dom_classes": [],
            "_model_module": "@jupyter-widgets/controls",
            "_model_module_version": "1.5.0",
            "_model_name": "CheckboxModel",
            "_view_count": null,
            "_view_module": "@jupyter-widgets/controls",
            "_view_module_version": "1.5.0",
            "_view_name": "CheckboxView",
            "description": "Add token as git credential?",
            "description_tooltip": null,
            "disabled": false,
            "indent": true,
            "layout": "IPY_MODEL_36f46d963a2f4b27aa740ed9b83a0ee6",
            "style": "IPY_MODEL_a78fef415cf34536b24947c54ea58d23",
            "value": false
          }
        },
        "53dce855ee7740db86f40581c1526a48": {
          "model_module": "@jupyter-widgets/controls",
          "model_name": "ButtonModel",
          "model_module_version": "1.5.0",
          "state": {
            "_dom_classes": [],
            "_model_module": "@jupyter-widgets/controls",
            "_model_module_version": "1.5.0",
            "_model_name": "ButtonModel",
            "_view_count": null,
            "_view_module": "@jupyter-widgets/controls",
            "_view_module_version": "1.5.0",
            "_view_name": "ButtonView",
            "button_style": "",
            "description": "Login",
            "disabled": false,
            "icon": "",
            "layout": "IPY_MODEL_86527565f70949518c417c87f746d33a",
            "style": "IPY_MODEL_7cabf4927ad14f4b95ded3967a7d546e",
            "tooltip": ""
          }
        },
        "de77af92a65941a9ad58ab8a9bd3528e": {
          "model_module": "@jupyter-widgets/controls",
          "model_name": "HTMLModel",
          "model_module_version": "1.5.0",
          "state": {
            "_dom_classes": [],
            "_model_module": "@jupyter-widgets/controls",
            "_model_module_version": "1.5.0",
            "_model_name": "HTMLModel",
            "_view_count": null,
            "_view_module": "@jupyter-widgets/controls",
            "_view_module_version": "1.5.0",
            "_view_name": "HTMLView",
            "description": "",
            "description_tooltip": null,
            "layout": "IPY_MODEL_18cf2eed3fbb45c38f516d8e5bc08e5d",
            "placeholder": "​",
            "style": "IPY_MODEL_a23a74f437f740e18deb464d59e16e6a",
            "value": "\n<b>Pro Tip:</b> If you don't already have one, you can create a dedicated\n'notebooks' token with 'write' access, that you can then easily reuse for all\nnotebooks. </center>"
          }
        },
        "d34a6313715c41bdb481df968094b837": {
          "model_module": "@jupyter-widgets/base",
          "model_name": "LayoutModel",
          "model_module_version": "1.2.0",
          "state": {
            "_model_module": "@jupyter-widgets/base",
            "_model_module_version": "1.2.0",
            "_model_name": "LayoutModel",
            "_view_count": null,
            "_view_module": "@jupyter-widgets/base",
            "_view_module_version": "1.2.0",
            "_view_name": "LayoutView",
            "align_content": null,
            "align_items": "center",
            "align_self": null,
            "border": null,
            "bottom": null,
            "display": "flex",
            "flex": null,
            "flex_flow": "column",
            "grid_area": null,
            "grid_auto_columns": null,
            "grid_auto_flow": null,
            "grid_auto_rows": null,
            "grid_column": null,
            "grid_gap": null,
            "grid_row": null,
            "grid_template_areas": null,
            "grid_template_columns": null,
            "grid_template_rows": null,
            "height": null,
            "justify_content": null,
            "justify_items": null,
            "left": null,
            "margin": null,
            "max_height": null,
            "max_width": null,
            "min_height": null,
            "min_width": null,
            "object_fit": null,
            "object_position": null,
            "order": null,
            "overflow": null,
            "overflow_x": null,
            "overflow_y": null,
            "padding": null,
            "right": null,
            "top": null,
            "visibility": null,
            "width": "50%"
          }
        },
        "b39885cd2b43465b9ff24ecf29babc24": {
          "model_module": "@jupyter-widgets/base",
          "model_name": "LayoutModel",
          "model_module_version": "1.2.0",
          "state": {
            "_model_module": "@jupyter-widgets/base",
            "_model_module_version": "1.2.0",
            "_model_name": "LayoutModel",
            "_view_count": null,
            "_view_module": "@jupyter-widgets/base",
            "_view_module_version": "1.2.0",
            "_view_name": "LayoutView",
            "align_content": null,
            "align_items": null,
            "align_self": null,
            "border": null,
            "bottom": null,
            "display": null,
            "flex": null,
            "flex_flow": null,
            "grid_area": null,
            "grid_auto_columns": null,
            "grid_auto_flow": null,
            "grid_auto_rows": null,
            "grid_column": null,
            "grid_gap": null,
            "grid_row": null,
            "grid_template_areas": null,
            "grid_template_columns": null,
            "grid_template_rows": null,
            "height": null,
            "justify_content": null,
            "justify_items": null,
            "left": null,
            "margin": null,
            "max_height": null,
            "max_width": null,
            "min_height": null,
            "min_width": null,
            "object_fit": null,
            "object_position": null,
            "order": null,
            "overflow": null,
            "overflow_x": null,
            "overflow_y": null,
            "padding": null,
            "right": null,
            "top": null,
            "visibility": null,
            "width": null
          }
        },
        "a1ee16963d8a426abcab709f355745cb": {
          "model_module": "@jupyter-widgets/controls",
          "model_name": "DescriptionStyleModel",
          "model_module_version": "1.5.0",
          "state": {
            "_model_module": "@jupyter-widgets/controls",
            "_model_module_version": "1.5.0",
            "_model_name": "DescriptionStyleModel",
            "_view_count": null,
            "_view_module": "@jupyter-widgets/base",
            "_view_module_version": "1.2.0",
            "_view_name": "StyleView",
            "description_width": ""
          }
        },
        "fcf3cfaa74b94a74a0bd5d7224718d28": {
          "model_module": "@jupyter-widgets/base",
          "model_name": "LayoutModel",
          "model_module_version": "1.2.0",
          "state": {
            "_model_module": "@jupyter-widgets/base",
            "_model_module_version": "1.2.0",
            "_model_name": "LayoutModel",
            "_view_count": null,
            "_view_module": "@jupyter-widgets/base",
            "_view_module_version": "1.2.0",
            "_view_name": "LayoutView",
            "align_content": null,
            "align_items": null,
            "align_self": null,
            "border": null,
            "bottom": null,
            "display": null,
            "flex": null,
            "flex_flow": null,
            "grid_area": null,
            "grid_auto_columns": null,
            "grid_auto_flow": null,
            "grid_auto_rows": null,
            "grid_column": null,
            "grid_gap": null,
            "grid_row": null,
            "grid_template_areas": null,
            "grid_template_columns": null,
            "grid_template_rows": null,
            "height": null,
            "justify_content": null,
            "justify_items": null,
            "left": null,
            "margin": null,
            "max_height": null,
            "max_width": null,
            "min_height": null,
            "min_width": null,
            "object_fit": null,
            "object_position": null,
            "order": null,
            "overflow": null,
            "overflow_x": null,
            "overflow_y": null,
            "padding": null,
            "right": null,
            "top": null,
            "visibility": null,
            "width": null
          }
        },
        "58274e69d94343c6af79919d091f0f43": {
          "model_module": "@jupyter-widgets/controls",
          "model_name": "DescriptionStyleModel",
          "model_module_version": "1.5.0",
          "state": {
            "_model_module": "@jupyter-widgets/controls",
            "_model_module_version": "1.5.0",
            "_model_name": "DescriptionStyleModel",
            "_view_count": null,
            "_view_module": "@jupyter-widgets/base",
            "_view_module_version": "1.2.0",
            "_view_name": "StyleView",
            "description_width": ""
          }
        },
        "36f46d963a2f4b27aa740ed9b83a0ee6": {
          "model_module": "@jupyter-widgets/base",
          "model_name": "LayoutModel",
          "model_module_version": "1.2.0",
          "state": {
            "_model_module": "@jupyter-widgets/base",
            "_model_module_version": "1.2.0",
            "_model_name": "LayoutModel",
            "_view_count": null,
            "_view_module": "@jupyter-widgets/base",
            "_view_module_version": "1.2.0",
            "_view_name": "LayoutView",
            "align_content": null,
            "align_items": null,
            "align_self": null,
            "border": null,
            "bottom": null,
            "display": null,
            "flex": null,
            "flex_flow": null,
            "grid_area": null,
            "grid_auto_columns": null,
            "grid_auto_flow": null,
            "grid_auto_rows": null,
            "grid_column": null,
            "grid_gap": null,
            "grid_row": null,
            "grid_template_areas": null,
            "grid_template_columns": null,
            "grid_template_rows": null,
            "height": null,
            "justify_content": null,
            "justify_items": null,
            "left": null,
            "margin": null,
            "max_height": null,
            "max_width": null,
            "min_height": null,
            "min_width": null,
            "object_fit": null,
            "object_position": null,
            "order": null,
            "overflow": null,
            "overflow_x": null,
            "overflow_y": null,
            "padding": null,
            "right": null,
            "top": null,
            "visibility": null,
            "width": null
          }
        },
        "a78fef415cf34536b24947c54ea58d23": {
          "model_module": "@jupyter-widgets/controls",
          "model_name": "DescriptionStyleModel",
          "model_module_version": "1.5.0",
          "state": {
            "_model_module": "@jupyter-widgets/controls",
            "_model_module_version": "1.5.0",
            "_model_name": "DescriptionStyleModel",
            "_view_count": null,
            "_view_module": "@jupyter-widgets/base",
            "_view_module_version": "1.2.0",
            "_view_name": "StyleView",
            "description_width": ""
          }
        },
        "86527565f70949518c417c87f746d33a": {
          "model_module": "@jupyter-widgets/base",
          "model_name": "LayoutModel",
          "model_module_version": "1.2.0",
          "state": {
            "_model_module": "@jupyter-widgets/base",
            "_model_module_version": "1.2.0",
            "_model_name": "LayoutModel",
            "_view_count": null,
            "_view_module": "@jupyter-widgets/base",
            "_view_module_version": "1.2.0",
            "_view_name": "LayoutView",
            "align_content": null,
            "align_items": null,
            "align_self": null,
            "border": null,
            "bottom": null,
            "display": null,
            "flex": null,
            "flex_flow": null,
            "grid_area": null,
            "grid_auto_columns": null,
            "grid_auto_flow": null,
            "grid_auto_rows": null,
            "grid_column": null,
            "grid_gap": null,
            "grid_row": null,
            "grid_template_areas": null,
            "grid_template_columns": null,
            "grid_template_rows": null,
            "height": null,
            "justify_content": null,
            "justify_items": null,
            "left": null,
            "margin": null,
            "max_height": null,
            "max_width": null,
            "min_height": null,
            "min_width": null,
            "object_fit": null,
            "object_position": null,
            "order": null,
            "overflow": null,
            "overflow_x": null,
            "overflow_y": null,
            "padding": null,
            "right": null,
            "top": null,
            "visibility": null,
            "width": null
          }
        },
        "7cabf4927ad14f4b95ded3967a7d546e": {
          "model_module": "@jupyter-widgets/controls",
          "model_name": "ButtonStyleModel",
          "model_module_version": "1.5.0",
          "state": {
            "_model_module": "@jupyter-widgets/controls",
            "_model_module_version": "1.5.0",
            "_model_name": "ButtonStyleModel",
            "_view_count": null,
            "_view_module": "@jupyter-widgets/base",
            "_view_module_version": "1.2.0",
            "_view_name": "StyleView",
            "button_color": null,
            "font_weight": ""
          }
        },
        "18cf2eed3fbb45c38f516d8e5bc08e5d": {
          "model_module": "@jupyter-widgets/base",
          "model_name": "LayoutModel",
          "model_module_version": "1.2.0",
          "state": {
            "_model_module": "@jupyter-widgets/base",
            "_model_module_version": "1.2.0",
            "_model_name": "LayoutModel",
            "_view_count": null,
            "_view_module": "@jupyter-widgets/base",
            "_view_module_version": "1.2.0",
            "_view_name": "LayoutView",
            "align_content": null,
            "align_items": null,
            "align_self": null,
            "border": null,
            "bottom": null,
            "display": null,
            "flex": null,
            "flex_flow": null,
            "grid_area": null,
            "grid_auto_columns": null,
            "grid_auto_flow": null,
            "grid_auto_rows": null,
            "grid_column": null,
            "grid_gap": null,
            "grid_row": null,
            "grid_template_areas": null,
            "grid_template_columns": null,
            "grid_template_rows": null,
            "height": null,
            "justify_content": null,
            "justify_items": null,
            "left": null,
            "margin": null,
            "max_height": null,
            "max_width": null,
            "min_height": null,
            "min_width": null,
            "object_fit": null,
            "object_position": null,
            "order": null,
            "overflow": null,
            "overflow_x": null,
            "overflow_y": null,
            "padding": null,
            "right": null,
            "top": null,
            "visibility": null,
            "width": null
          }
        },
        "a23a74f437f740e18deb464d59e16e6a": {
          "model_module": "@jupyter-widgets/controls",
          "model_name": "DescriptionStyleModel",
          "model_module_version": "1.5.0",
          "state": {
            "_model_module": "@jupyter-widgets/controls",
            "_model_module_version": "1.5.0",
            "_model_name": "DescriptionStyleModel",
            "_view_count": null,
            "_view_module": "@jupyter-widgets/base",
            "_view_module_version": "1.2.0",
            "_view_name": "StyleView",
            "description_width": ""
          }
        },
        "e59091ad3a8c442297adc38b04197cc4": {
          "model_module": "@jupyter-widgets/controls",
          "model_name": "LabelModel",
          "model_module_version": "1.5.0",
          "state": {
            "_dom_classes": [],
            "_model_module": "@jupyter-widgets/controls",
            "_model_module_version": "1.5.0",
            "_model_name": "LabelModel",
            "_view_count": null,
            "_view_module": "@jupyter-widgets/controls",
            "_view_module_version": "1.5.0",
            "_view_name": "LabelView",
            "description": "",
            "description_tooltip": null,
            "layout": "IPY_MODEL_81c1b01be4074900815e171d0b2a5d9e",
            "placeholder": "​",
            "style": "IPY_MODEL_a048dac1984d4428bdc6ae1ee4153547",
            "value": "Connecting..."
          }
        },
        "81c1b01be4074900815e171d0b2a5d9e": {
          "model_module": "@jupyter-widgets/base",
          "model_name": "LayoutModel",
          "model_module_version": "1.2.0",
          "state": {
            "_model_module": "@jupyter-widgets/base",
            "_model_module_version": "1.2.0",
            "_model_name": "LayoutModel",
            "_view_count": null,
            "_view_module": "@jupyter-widgets/base",
            "_view_module_version": "1.2.0",
            "_view_name": "LayoutView",
            "align_content": null,
            "align_items": null,
            "align_self": null,
            "border": null,
            "bottom": null,
            "display": null,
            "flex": null,
            "flex_flow": null,
            "grid_area": null,
            "grid_auto_columns": null,
            "grid_auto_flow": null,
            "grid_auto_rows": null,
            "grid_column": null,
            "grid_gap": null,
            "grid_row": null,
            "grid_template_areas": null,
            "grid_template_columns": null,
            "grid_template_rows": null,
            "height": null,
            "justify_content": null,
            "justify_items": null,
            "left": null,
            "margin": null,
            "max_height": null,
            "max_width": null,
            "min_height": null,
            "min_width": null,
            "object_fit": null,
            "object_position": null,
            "order": null,
            "overflow": null,
            "overflow_x": null,
            "overflow_y": null,
            "padding": null,
            "right": null,
            "top": null,
            "visibility": null,
            "width": null
          }
        },
        "a048dac1984d4428bdc6ae1ee4153547": {
          "model_module": "@jupyter-widgets/controls",
          "model_name": "DescriptionStyleModel",
          "model_module_version": "1.5.0",
          "state": {
            "_model_module": "@jupyter-widgets/controls",
            "_model_module_version": "1.5.0",
            "_model_name": "DescriptionStyleModel",
            "_view_count": null,
            "_view_module": "@jupyter-widgets/base",
            "_view_module_version": "1.2.0",
            "_view_name": "StyleView",
            "description_width": ""
          }
        },
        "19026d60d9c34feabbb1ff6b18da50ac": {
          "model_module": "@jupyter-widgets/controls",
          "model_name": "HBoxModel",
          "model_module_version": "1.5.0",
          "state": {
            "_dom_classes": [],
            "_model_module": "@jupyter-widgets/controls",
            "_model_module_version": "1.5.0",
            "_model_name": "HBoxModel",
            "_view_count": null,
            "_view_module": "@jupyter-widgets/controls",
            "_view_module_version": "1.5.0",
            "_view_name": "HBoxView",
            "box_style": "",
            "children": [
              "IPY_MODEL_45be70b82dac4658b28da2c0206a4c03",
              "IPY_MODEL_495ad3b125ac4b0c8d0746f4b2af9c5a",
              "IPY_MODEL_e80113d508fb4fa595d2edd5b4af51b0"
            ],
            "layout": "IPY_MODEL_3e2e2dafb6e248e6b01eef83fbb4a289"
          }
        },
        "45be70b82dac4658b28da2c0206a4c03": {
          "model_module": "@jupyter-widgets/controls",
          "model_name": "HTMLModel",
          "model_module_version": "1.5.0",
          "state": {
            "_dom_classes": [],
            "_model_module": "@jupyter-widgets/controls",
            "_model_module_version": "1.5.0",
            "_model_name": "HTMLModel",
            "_view_count": null,
            "_view_module": "@jupyter-widgets/controls",
            "_view_module_version": "1.5.0",
            "_view_name": "HTMLView",
            "description": "",
            "description_tooltip": null,
            "layout": "IPY_MODEL_988c34d7864b4b8f86f23d6cbeea775d",
            "placeholder": "​",
            "style": "IPY_MODEL_c3b410b67ef0477490e0d8533f05ad72",
            "value": "Uploading the dataset shards: 100%"
          }
        },
        "495ad3b125ac4b0c8d0746f4b2af9c5a": {
          "model_module": "@jupyter-widgets/controls",
          "model_name": "FloatProgressModel",
          "model_module_version": "1.5.0",
          "state": {
            "_dom_classes": [],
            "_model_module": "@jupyter-widgets/controls",
            "_model_module_version": "1.5.0",
            "_model_name": "FloatProgressModel",
            "_view_count": null,
            "_view_module": "@jupyter-widgets/controls",
            "_view_module_version": "1.5.0",
            "_view_name": "ProgressView",
            "bar_style": "success",
            "description": "",
            "description_tooltip": null,
            "layout": "IPY_MODEL_efc4548f3ebc4bfa9ded7d72f6bd9c35",
            "max": 1,
            "min": 0,
            "orientation": "horizontal",
            "style": "IPY_MODEL_3fabb76d516e4c3b8d7be580fb764271",
            "value": 1
          }
        },
        "e80113d508fb4fa595d2edd5b4af51b0": {
          "model_module": "@jupyter-widgets/controls",
          "model_name": "HTMLModel",
          "model_module_version": "1.5.0",
          "state": {
            "_dom_classes": [],
            "_model_module": "@jupyter-widgets/controls",
            "_model_module_version": "1.5.0",
            "_model_name": "HTMLModel",
            "_view_count": null,
            "_view_module": "@jupyter-widgets/controls",
            "_view_module_version": "1.5.0",
            "_view_name": "HTMLView",
            "description": "",
            "description_tooltip": null,
            "layout": "IPY_MODEL_d8fae8d2f4d24fcab83115f37993fa19",
            "placeholder": "​",
            "style": "IPY_MODEL_041f3dbf6ed2418cae784b1c0a2d2d24",
            "value": " 1/1 [00:02&lt;00:00,  2.32s/it]"
          }
        },
        "3e2e2dafb6e248e6b01eef83fbb4a289": {
          "model_module": "@jupyter-widgets/base",
          "model_name": "LayoutModel",
          "model_module_version": "1.2.0",
          "state": {
            "_model_module": "@jupyter-widgets/base",
            "_model_module_version": "1.2.0",
            "_model_name": "LayoutModel",
            "_view_count": null,
            "_view_module": "@jupyter-widgets/base",
            "_view_module_version": "1.2.0",
            "_view_name": "LayoutView",
            "align_content": null,
            "align_items": null,
            "align_self": null,
            "border": null,
            "bottom": null,
            "display": null,
            "flex": null,
            "flex_flow": null,
            "grid_area": null,
            "grid_auto_columns": null,
            "grid_auto_flow": null,
            "grid_auto_rows": null,
            "grid_column": null,
            "grid_gap": null,
            "grid_row": null,
            "grid_template_areas": null,
            "grid_template_columns": null,
            "grid_template_rows": null,
            "height": null,
            "justify_content": null,
            "justify_items": null,
            "left": null,
            "margin": null,
            "max_height": null,
            "max_width": null,
            "min_height": null,
            "min_width": null,
            "object_fit": null,
            "object_position": null,
            "order": null,
            "overflow": null,
            "overflow_x": null,
            "overflow_y": null,
            "padding": null,
            "right": null,
            "top": null,
            "visibility": null,
            "width": null
          }
        },
        "988c34d7864b4b8f86f23d6cbeea775d": {
          "model_module": "@jupyter-widgets/base",
          "model_name": "LayoutModel",
          "model_module_version": "1.2.0",
          "state": {
            "_model_module": "@jupyter-widgets/base",
            "_model_module_version": "1.2.0",
            "_model_name": "LayoutModel",
            "_view_count": null,
            "_view_module": "@jupyter-widgets/base",
            "_view_module_version": "1.2.0",
            "_view_name": "LayoutView",
            "align_content": null,
            "align_items": null,
            "align_self": null,
            "border": null,
            "bottom": null,
            "display": null,
            "flex": null,
            "flex_flow": null,
            "grid_area": null,
            "grid_auto_columns": null,
            "grid_auto_flow": null,
            "grid_auto_rows": null,
            "grid_column": null,
            "grid_gap": null,
            "grid_row": null,
            "grid_template_areas": null,
            "grid_template_columns": null,
            "grid_template_rows": null,
            "height": null,
            "justify_content": null,
            "justify_items": null,
            "left": null,
            "margin": null,
            "max_height": null,
            "max_width": null,
            "min_height": null,
            "min_width": null,
            "object_fit": null,
            "object_position": null,
            "order": null,
            "overflow": null,
            "overflow_x": null,
            "overflow_y": null,
            "padding": null,
            "right": null,
            "top": null,
            "visibility": null,
            "width": null
          }
        },
        "c3b410b67ef0477490e0d8533f05ad72": {
          "model_module": "@jupyter-widgets/controls",
          "model_name": "DescriptionStyleModel",
          "model_module_version": "1.5.0",
          "state": {
            "_model_module": "@jupyter-widgets/controls",
            "_model_module_version": "1.5.0",
            "_model_name": "DescriptionStyleModel",
            "_view_count": null,
            "_view_module": "@jupyter-widgets/base",
            "_view_module_version": "1.2.0",
            "_view_name": "StyleView",
            "description_width": ""
          }
        },
        "efc4548f3ebc4bfa9ded7d72f6bd9c35": {
          "model_module": "@jupyter-widgets/base",
          "model_name": "LayoutModel",
          "model_module_version": "1.2.0",
          "state": {
            "_model_module": "@jupyter-widgets/base",
            "_model_module_version": "1.2.0",
            "_model_name": "LayoutModel",
            "_view_count": null,
            "_view_module": "@jupyter-widgets/base",
            "_view_module_version": "1.2.0",
            "_view_name": "LayoutView",
            "align_content": null,
            "align_items": null,
            "align_self": null,
            "border": null,
            "bottom": null,
            "display": null,
            "flex": null,
            "flex_flow": null,
            "grid_area": null,
            "grid_auto_columns": null,
            "grid_auto_flow": null,
            "grid_auto_rows": null,
            "grid_column": null,
            "grid_gap": null,
            "grid_row": null,
            "grid_template_areas": null,
            "grid_template_columns": null,
            "grid_template_rows": null,
            "height": null,
            "justify_content": null,
            "justify_items": null,
            "left": null,
            "margin": null,
            "max_height": null,
            "max_width": null,
            "min_height": null,
            "min_width": null,
            "object_fit": null,
            "object_position": null,
            "order": null,
            "overflow": null,
            "overflow_x": null,
            "overflow_y": null,
            "padding": null,
            "right": null,
            "top": null,
            "visibility": null,
            "width": null
          }
        },
        "3fabb76d516e4c3b8d7be580fb764271": {
          "model_module": "@jupyter-widgets/controls",
          "model_name": "ProgressStyleModel",
          "model_module_version": "1.5.0",
          "state": {
            "_model_module": "@jupyter-widgets/controls",
            "_model_module_version": "1.5.0",
            "_model_name": "ProgressStyleModel",
            "_view_count": null,
            "_view_module": "@jupyter-widgets/base",
            "_view_module_version": "1.2.0",
            "_view_name": "StyleView",
            "bar_color": null,
            "description_width": ""
          }
        },
        "d8fae8d2f4d24fcab83115f37993fa19": {
          "model_module": "@jupyter-widgets/base",
          "model_name": "LayoutModel",
          "model_module_version": "1.2.0",
          "state": {
            "_model_module": "@jupyter-widgets/base",
            "_model_module_version": "1.2.0",
            "_model_name": "LayoutModel",
            "_view_count": null,
            "_view_module": "@jupyter-widgets/base",
            "_view_module_version": "1.2.0",
            "_view_name": "LayoutView",
            "align_content": null,
            "align_items": null,
            "align_self": null,
            "border": null,
            "bottom": null,
            "display": null,
            "flex": null,
            "flex_flow": null,
            "grid_area": null,
            "grid_auto_columns": null,
            "grid_auto_flow": null,
            "grid_auto_rows": null,
            "grid_column": null,
            "grid_gap": null,
            "grid_row": null,
            "grid_template_areas": null,
            "grid_template_columns": null,
            "grid_template_rows": null,
            "height": null,
            "justify_content": null,
            "justify_items": null,
            "left": null,
            "margin": null,
            "max_height": null,
            "max_width": null,
            "min_height": null,
            "min_width": null,
            "object_fit": null,
            "object_position": null,
            "order": null,
            "overflow": null,
            "overflow_x": null,
            "overflow_y": null,
            "padding": null,
            "right": null,
            "top": null,
            "visibility": null,
            "width": null
          }
        },
        "041f3dbf6ed2418cae784b1c0a2d2d24": {
          "model_module": "@jupyter-widgets/controls",
          "model_name": "DescriptionStyleModel",
          "model_module_version": "1.5.0",
          "state": {
            "_model_module": "@jupyter-widgets/controls",
            "_model_module_version": "1.5.0",
            "_model_name": "DescriptionStyleModel",
            "_view_count": null,
            "_view_module": "@jupyter-widgets/base",
            "_view_module_version": "1.2.0",
            "_view_name": "StyleView",
            "description_width": ""
          }
        },
        "02e895f116a044a7b744cdc2b3216a2b": {
          "model_module": "@jupyter-widgets/controls",
          "model_name": "HBoxModel",
          "model_module_version": "1.5.0",
          "state": {
            "_dom_classes": [],
            "_model_module": "@jupyter-widgets/controls",
            "_model_module_version": "1.5.0",
            "_model_name": "HBoxModel",
            "_view_count": null,
            "_view_module": "@jupyter-widgets/controls",
            "_view_module_version": "1.5.0",
            "_view_name": "HBoxView",
            "box_style": "",
            "children": [
              "IPY_MODEL_bd6f198e00ff4c28a92085bf4a87c08b",
              "IPY_MODEL_20307279cd424ec49836fc44752e2348",
              "IPY_MODEL_9a745883769144fab784695dbd92fb87"
            ],
            "layout": "IPY_MODEL_f35b5ac74ccb431db258aa56a2f8c2b8"
          }
        },
        "bd6f198e00ff4c28a92085bf4a87c08b": {
          "model_module": "@jupyter-widgets/controls",
          "model_name": "HTMLModel",
          "model_module_version": "1.5.0",
          "state": {
            "_dom_classes": [],
            "_model_module": "@jupyter-widgets/controls",
            "_model_module_version": "1.5.0",
            "_model_name": "HTMLModel",
            "_view_count": null,
            "_view_module": "@jupyter-widgets/controls",
            "_view_module_version": "1.5.0",
            "_view_name": "HTMLView",
            "description": "",
            "description_tooltip": null,
            "layout": "IPY_MODEL_51e8ce8d9087477d8043dab48e4e6e09",
            "placeholder": "​",
            "style": "IPY_MODEL_a80f91e355b94cec9021bd7343646900",
            "value": "Creating parquet from Arrow format: 100%"
          }
        },
        "20307279cd424ec49836fc44752e2348": {
          "model_module": "@jupyter-widgets/controls",
          "model_name": "FloatProgressModel",
          "model_module_version": "1.5.0",
          "state": {
            "_dom_classes": [],
            "_model_module": "@jupyter-widgets/controls",
            "_model_module_version": "1.5.0",
            "_model_name": "FloatProgressModel",
            "_view_count": null,
            "_view_module": "@jupyter-widgets/controls",
            "_view_module_version": "1.5.0",
            "_view_name": "ProgressView",
            "bar_style": "success",
            "description": "",
            "description_tooltip": null,
            "layout": "IPY_MODEL_41264665defd46bc94a8ad387c2b8a85",
            "max": 3,
            "min": 0,
            "orientation": "horizontal",
            "style": "IPY_MODEL_117e0c1d4f7045bc89b6e78ca1bd11bf",
            "value": 3
          }
        },
        "9a745883769144fab784695dbd92fb87": {
          "model_module": "@jupyter-widgets/controls",
          "model_name": "HTMLModel",
          "model_module_version": "1.5.0",
          "state": {
            "_dom_classes": [],
            "_model_module": "@jupyter-widgets/controls",
            "_model_module_version": "1.5.0",
            "_model_name": "HTMLModel",
            "_view_count": null,
            "_view_module": "@jupyter-widgets/controls",
            "_view_module_version": "1.5.0",
            "_view_name": "HTMLView",
            "description": "",
            "description_tooltip": null,
            "layout": "IPY_MODEL_76c7dfce9924442abf6a02b6d01d7ec3",
            "placeholder": "​",
            "style": "IPY_MODEL_8d39ceb36f704d469a821aeef3daf28a",
            "value": " 3/3 [00:00&lt;00:00, 39.18ba/s]"
          }
        },
        "f35b5ac74ccb431db258aa56a2f8c2b8": {
          "model_module": "@jupyter-widgets/base",
          "model_name": "LayoutModel",
          "model_module_version": "1.2.0",
          "state": {
            "_model_module": "@jupyter-widgets/base",
            "_model_module_version": "1.2.0",
            "_model_name": "LayoutModel",
            "_view_count": null,
            "_view_module": "@jupyter-widgets/base",
            "_view_module_version": "1.2.0",
            "_view_name": "LayoutView",
            "align_content": null,
            "align_items": null,
            "align_self": null,
            "border": null,
            "bottom": null,
            "display": null,
            "flex": null,
            "flex_flow": null,
            "grid_area": null,
            "grid_auto_columns": null,
            "grid_auto_flow": null,
            "grid_auto_rows": null,
            "grid_column": null,
            "grid_gap": null,
            "grid_row": null,
            "grid_template_areas": null,
            "grid_template_columns": null,
            "grid_template_rows": null,
            "height": null,
            "justify_content": null,
            "justify_items": null,
            "left": null,
            "margin": null,
            "max_height": null,
            "max_width": null,
            "min_height": null,
            "min_width": null,
            "object_fit": null,
            "object_position": null,
            "order": null,
            "overflow": null,
            "overflow_x": null,
            "overflow_y": null,
            "padding": null,
            "right": null,
            "top": null,
            "visibility": null,
            "width": null
          }
        },
        "51e8ce8d9087477d8043dab48e4e6e09": {
          "model_module": "@jupyter-widgets/base",
          "model_name": "LayoutModel",
          "model_module_version": "1.2.0",
          "state": {
            "_model_module": "@jupyter-widgets/base",
            "_model_module_version": "1.2.0",
            "_model_name": "LayoutModel",
            "_view_count": null,
            "_view_module": "@jupyter-widgets/base",
            "_view_module_version": "1.2.0",
            "_view_name": "LayoutView",
            "align_content": null,
            "align_items": null,
            "align_self": null,
            "border": null,
            "bottom": null,
            "display": null,
            "flex": null,
            "flex_flow": null,
            "grid_area": null,
            "grid_auto_columns": null,
            "grid_auto_flow": null,
            "grid_auto_rows": null,
            "grid_column": null,
            "grid_gap": null,
            "grid_row": null,
            "grid_template_areas": null,
            "grid_template_columns": null,
            "grid_template_rows": null,
            "height": null,
            "justify_content": null,
            "justify_items": null,
            "left": null,
            "margin": null,
            "max_height": null,
            "max_width": null,
            "min_height": null,
            "min_width": null,
            "object_fit": null,
            "object_position": null,
            "order": null,
            "overflow": null,
            "overflow_x": null,
            "overflow_y": null,
            "padding": null,
            "right": null,
            "top": null,
            "visibility": null,
            "width": null
          }
        },
        "a80f91e355b94cec9021bd7343646900": {
          "model_module": "@jupyter-widgets/controls",
          "model_name": "DescriptionStyleModel",
          "model_module_version": "1.5.0",
          "state": {
            "_model_module": "@jupyter-widgets/controls",
            "_model_module_version": "1.5.0",
            "_model_name": "DescriptionStyleModel",
            "_view_count": null,
            "_view_module": "@jupyter-widgets/base",
            "_view_module_version": "1.2.0",
            "_view_name": "StyleView",
            "description_width": ""
          }
        },
        "41264665defd46bc94a8ad387c2b8a85": {
          "model_module": "@jupyter-widgets/base",
          "model_name": "LayoutModel",
          "model_module_version": "1.2.0",
          "state": {
            "_model_module": "@jupyter-widgets/base",
            "_model_module_version": "1.2.0",
            "_model_name": "LayoutModel",
            "_view_count": null,
            "_view_module": "@jupyter-widgets/base",
            "_view_module_version": "1.2.0",
            "_view_name": "LayoutView",
            "align_content": null,
            "align_items": null,
            "align_self": null,
            "border": null,
            "bottom": null,
            "display": null,
            "flex": null,
            "flex_flow": null,
            "grid_area": null,
            "grid_auto_columns": null,
            "grid_auto_flow": null,
            "grid_auto_rows": null,
            "grid_column": null,
            "grid_gap": null,
            "grid_row": null,
            "grid_template_areas": null,
            "grid_template_columns": null,
            "grid_template_rows": null,
            "height": null,
            "justify_content": null,
            "justify_items": null,
            "left": null,
            "margin": null,
            "max_height": null,
            "max_width": null,
            "min_height": null,
            "min_width": null,
            "object_fit": null,
            "object_position": null,
            "order": null,
            "overflow": null,
            "overflow_x": null,
            "overflow_y": null,
            "padding": null,
            "right": null,
            "top": null,
            "visibility": null,
            "width": null
          }
        },
        "117e0c1d4f7045bc89b6e78ca1bd11bf": {
          "model_module": "@jupyter-widgets/controls",
          "model_name": "ProgressStyleModel",
          "model_module_version": "1.5.0",
          "state": {
            "_model_module": "@jupyter-widgets/controls",
            "_model_module_version": "1.5.0",
            "_model_name": "ProgressStyleModel",
            "_view_count": null,
            "_view_module": "@jupyter-widgets/base",
            "_view_module_version": "1.2.0",
            "_view_name": "StyleView",
            "bar_color": null,
            "description_width": ""
          }
        },
        "76c7dfce9924442abf6a02b6d01d7ec3": {
          "model_module": "@jupyter-widgets/base",
          "model_name": "LayoutModel",
          "model_module_version": "1.2.0",
          "state": {
            "_model_module": "@jupyter-widgets/base",
            "_model_module_version": "1.2.0",
            "_model_name": "LayoutModel",
            "_view_count": null,
            "_view_module": "@jupyter-widgets/base",
            "_view_module_version": "1.2.0",
            "_view_name": "LayoutView",
            "align_content": null,
            "align_items": null,
            "align_self": null,
            "border": null,
            "bottom": null,
            "display": null,
            "flex": null,
            "flex_flow": null,
            "grid_area": null,
            "grid_auto_columns": null,
            "grid_auto_flow": null,
            "grid_auto_rows": null,
            "grid_column": null,
            "grid_gap": null,
            "grid_row": null,
            "grid_template_areas": null,
            "grid_template_columns": null,
            "grid_template_rows": null,
            "height": null,
            "justify_content": null,
            "justify_items": null,
            "left": null,
            "margin": null,
            "max_height": null,
            "max_width": null,
            "min_height": null,
            "min_width": null,
            "object_fit": null,
            "object_position": null,
            "order": null,
            "overflow": null,
            "overflow_x": null,
            "overflow_y": null,
            "padding": null,
            "right": null,
            "top": null,
            "visibility": null,
            "width": null
          }
        },
        "8d39ceb36f704d469a821aeef3daf28a": {
          "model_module": "@jupyter-widgets/controls",
          "model_name": "DescriptionStyleModel",
          "model_module_version": "1.5.0",
          "state": {
            "_model_module": "@jupyter-widgets/controls",
            "_model_module_version": "1.5.0",
            "_model_name": "DescriptionStyleModel",
            "_view_count": null,
            "_view_module": "@jupyter-widgets/base",
            "_view_module_version": "1.2.0",
            "_view_name": "StyleView",
            "description_width": ""
          }
        },
        "a5dbb72b453b47e49d1569ce99cdea29": {
          "model_module": "@jupyter-widgets/controls",
          "model_name": "HBoxModel",
          "model_module_version": "1.5.0",
          "state": {
            "_dom_classes": [],
            "_model_module": "@jupyter-widgets/controls",
            "_model_module_version": "1.5.0",
            "_model_name": "HBoxModel",
            "_view_count": null,
            "_view_module": "@jupyter-widgets/controls",
            "_view_module_version": "1.5.0",
            "_view_name": "HBoxView",
            "box_style": "",
            "children": [
              "IPY_MODEL_914fe4d1edfe45f6b56ebb1d2507bfb1",
              "IPY_MODEL_36ec1930b9a5477e83ceb9ec8f7c8ddb",
              "IPY_MODEL_04029cacace54a1cb37937784fe437f9"
            ],
            "layout": "IPY_MODEL_87859ff67e234fefb90ac85e397f5193"
          }
        },
        "914fe4d1edfe45f6b56ebb1d2507bfb1": {
          "model_module": "@jupyter-widgets/controls",
          "model_name": "HTMLModel",
          "model_module_version": "1.5.0",
          "state": {
            "_dom_classes": [],
            "_model_module": "@jupyter-widgets/controls",
            "_model_module_version": "1.5.0",
            "_model_name": "HTMLModel",
            "_view_count": null,
            "_view_module": "@jupyter-widgets/controls",
            "_view_module_version": "1.5.0",
            "_view_name": "HTMLView",
            "description": "",
            "description_tooltip": null,
            "layout": "IPY_MODEL_422538ed947d4dec996f81907cb6bef2",
            "placeholder": "​",
            "style": "IPY_MODEL_10772f3b466d424d8b94e3f8c72e4536",
            "value": "README.md: 100%"
          }
        },
        "36ec1930b9a5477e83ceb9ec8f7c8ddb": {
          "model_module": "@jupyter-widgets/controls",
          "model_name": "FloatProgressModel",
          "model_module_version": "1.5.0",
          "state": {
            "_dom_classes": [],
            "_model_module": "@jupyter-widgets/controls",
            "_model_module_version": "1.5.0",
            "_model_name": "FloatProgressModel",
            "_view_count": null,
            "_view_module": "@jupyter-widgets/controls",
            "_view_module_version": "1.5.0",
            "_view_name": "ProgressView",
            "bar_style": "success",
            "description": "",
            "description_tooltip": null,
            "layout": "IPY_MODEL_92ee481aa9b14e9a90c92615f2ae3a95",
            "max": 114,
            "min": 0,
            "orientation": "horizontal",
            "style": "IPY_MODEL_88a89230e227461991bb80e4f2e70b97",
            "value": 114
          }
        },
        "04029cacace54a1cb37937784fe437f9": {
          "model_module": "@jupyter-widgets/controls",
          "model_name": "HTMLModel",
          "model_module_version": "1.5.0",
          "state": {
            "_dom_classes": [],
            "_model_module": "@jupyter-widgets/controls",
            "_model_module_version": "1.5.0",
            "_model_name": "HTMLModel",
            "_view_count": null,
            "_view_module": "@jupyter-widgets/controls",
            "_view_module_version": "1.5.0",
            "_view_name": "HTMLView",
            "description": "",
            "description_tooltip": null,
            "layout": "IPY_MODEL_4275acab2ac84fe1a03885cc1b0540c4",
            "placeholder": "​",
            "style": "IPY_MODEL_e59bc52e83364ba7bb0c5e0ed4d623e4",
            "value": " 114/114 [00:00&lt;00:00, 7.24kB/s]"
          }
        },
        "87859ff67e234fefb90ac85e397f5193": {
          "model_module": "@jupyter-widgets/base",
          "model_name": "LayoutModel",
          "model_module_version": "1.2.0",
          "state": {
            "_model_module": "@jupyter-widgets/base",
            "_model_module_version": "1.2.0",
            "_model_name": "LayoutModel",
            "_view_count": null,
            "_view_module": "@jupyter-widgets/base",
            "_view_module_version": "1.2.0",
            "_view_name": "LayoutView",
            "align_content": null,
            "align_items": null,
            "align_self": null,
            "border": null,
            "bottom": null,
            "display": null,
            "flex": null,
            "flex_flow": null,
            "grid_area": null,
            "grid_auto_columns": null,
            "grid_auto_flow": null,
            "grid_auto_rows": null,
            "grid_column": null,
            "grid_gap": null,
            "grid_row": null,
            "grid_template_areas": null,
            "grid_template_columns": null,
            "grid_template_rows": null,
            "height": null,
            "justify_content": null,
            "justify_items": null,
            "left": null,
            "margin": null,
            "max_height": null,
            "max_width": null,
            "min_height": null,
            "min_width": null,
            "object_fit": null,
            "object_position": null,
            "order": null,
            "overflow": null,
            "overflow_x": null,
            "overflow_y": null,
            "padding": null,
            "right": null,
            "top": null,
            "visibility": null,
            "width": null
          }
        },
        "422538ed947d4dec996f81907cb6bef2": {
          "model_module": "@jupyter-widgets/base",
          "model_name": "LayoutModel",
          "model_module_version": "1.2.0",
          "state": {
            "_model_module": "@jupyter-widgets/base",
            "_model_module_version": "1.2.0",
            "_model_name": "LayoutModel",
            "_view_count": null,
            "_view_module": "@jupyter-widgets/base",
            "_view_module_version": "1.2.0",
            "_view_name": "LayoutView",
            "align_content": null,
            "align_items": null,
            "align_self": null,
            "border": null,
            "bottom": null,
            "display": null,
            "flex": null,
            "flex_flow": null,
            "grid_area": null,
            "grid_auto_columns": null,
            "grid_auto_flow": null,
            "grid_auto_rows": null,
            "grid_column": null,
            "grid_gap": null,
            "grid_row": null,
            "grid_template_areas": null,
            "grid_template_columns": null,
            "grid_template_rows": null,
            "height": null,
            "justify_content": null,
            "justify_items": null,
            "left": null,
            "margin": null,
            "max_height": null,
            "max_width": null,
            "min_height": null,
            "min_width": null,
            "object_fit": null,
            "object_position": null,
            "order": null,
            "overflow": null,
            "overflow_x": null,
            "overflow_y": null,
            "padding": null,
            "right": null,
            "top": null,
            "visibility": null,
            "width": null
          }
        },
        "10772f3b466d424d8b94e3f8c72e4536": {
          "model_module": "@jupyter-widgets/controls",
          "model_name": "DescriptionStyleModel",
          "model_module_version": "1.5.0",
          "state": {
            "_model_module": "@jupyter-widgets/controls",
            "_model_module_version": "1.5.0",
            "_model_name": "DescriptionStyleModel",
            "_view_count": null,
            "_view_module": "@jupyter-widgets/base",
            "_view_module_version": "1.2.0",
            "_view_name": "StyleView",
            "description_width": ""
          }
        },
        "92ee481aa9b14e9a90c92615f2ae3a95": {
          "model_module": "@jupyter-widgets/base",
          "model_name": "LayoutModel",
          "model_module_version": "1.2.0",
          "state": {
            "_model_module": "@jupyter-widgets/base",
            "_model_module_version": "1.2.0",
            "_model_name": "LayoutModel",
            "_view_count": null,
            "_view_module": "@jupyter-widgets/base",
            "_view_module_version": "1.2.0",
            "_view_name": "LayoutView",
            "align_content": null,
            "align_items": null,
            "align_self": null,
            "border": null,
            "bottom": null,
            "display": null,
            "flex": null,
            "flex_flow": null,
            "grid_area": null,
            "grid_auto_columns": null,
            "grid_auto_flow": null,
            "grid_auto_rows": null,
            "grid_column": null,
            "grid_gap": null,
            "grid_row": null,
            "grid_template_areas": null,
            "grid_template_columns": null,
            "grid_template_rows": null,
            "height": null,
            "justify_content": null,
            "justify_items": null,
            "left": null,
            "margin": null,
            "max_height": null,
            "max_width": null,
            "min_height": null,
            "min_width": null,
            "object_fit": null,
            "object_position": null,
            "order": null,
            "overflow": null,
            "overflow_x": null,
            "overflow_y": null,
            "padding": null,
            "right": null,
            "top": null,
            "visibility": null,
            "width": null
          }
        },
        "88a89230e227461991bb80e4f2e70b97": {
          "model_module": "@jupyter-widgets/controls",
          "model_name": "ProgressStyleModel",
          "model_module_version": "1.5.0",
          "state": {
            "_model_module": "@jupyter-widgets/controls",
            "_model_module_version": "1.5.0",
            "_model_name": "ProgressStyleModel",
            "_view_count": null,
            "_view_module": "@jupyter-widgets/base",
            "_view_module_version": "1.2.0",
            "_view_name": "StyleView",
            "bar_color": null,
            "description_width": ""
          }
        },
        "4275acab2ac84fe1a03885cc1b0540c4": {
          "model_module": "@jupyter-widgets/base",
          "model_name": "LayoutModel",
          "model_module_version": "1.2.0",
          "state": {
            "_model_module": "@jupyter-widgets/base",
            "_model_module_version": "1.2.0",
            "_model_name": "LayoutModel",
            "_view_count": null,
            "_view_module": "@jupyter-widgets/base",
            "_view_module_version": "1.2.0",
            "_view_name": "LayoutView",
            "align_content": null,
            "align_items": null,
            "align_self": null,
            "border": null,
            "bottom": null,
            "display": null,
            "flex": null,
            "flex_flow": null,
            "grid_area": null,
            "grid_auto_columns": null,
            "grid_auto_flow": null,
            "grid_auto_rows": null,
            "grid_column": null,
            "grid_gap": null,
            "grid_row": null,
            "grid_template_areas": null,
            "grid_template_columns": null,
            "grid_template_rows": null,
            "height": null,
            "justify_content": null,
            "justify_items": null,
            "left": null,
            "margin": null,
            "max_height": null,
            "max_width": null,
            "min_height": null,
            "min_width": null,
            "object_fit": null,
            "object_position": null,
            "order": null,
            "overflow": null,
            "overflow_x": null,
            "overflow_y": null,
            "padding": null,
            "right": null,
            "top": null,
            "visibility": null,
            "width": null
          }
        },
        "e59bc52e83364ba7bb0c5e0ed4d623e4": {
          "model_module": "@jupyter-widgets/controls",
          "model_name": "DescriptionStyleModel",
          "model_module_version": "1.5.0",
          "state": {
            "_model_module": "@jupyter-widgets/controls",
            "_model_module_version": "1.5.0",
            "_model_name": "DescriptionStyleModel",
            "_view_count": null,
            "_view_module": "@jupyter-widgets/base",
            "_view_module_version": "1.2.0",
            "_view_name": "StyleView",
            "description_width": ""
          }
        }
      }
    }
  },
  "nbformat": 4,
  "nbformat_minor": 5
}