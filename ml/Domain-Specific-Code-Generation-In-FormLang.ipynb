{
  "cells": [
    {
      "cell_type": "markdown",
      "id": "3da41cfd-8291-4b03-87ed-5df197c2efbd",
      "metadata": {
        "id": "3da41cfd-8291-4b03-87ed-5df197c2efbd"
      },
      "source": [
        "# Domain Specific Code Generation using the FormLang DSL"
      ]
    },
    {
      "cell_type": "markdown",
      "id": "1b4cbce9-f06b-46e7-87da-cd82364afd6c",
      "metadata": {
        "id": "1b4cbce9-f06b-46e7-87da-cd82364afd6c"
      },
      "source": [
        "## Abstract\n",
        "\n",
        "AI and LLM systems are being trained to perform a variety of complex tasks requiring expertise in many software tools, languages and technology stacks. Some of the challenges in this process involve quality data acquisition in large amounts, handling the increase of model parameter count which leads to increasing compute demands and costs, as well as emerging Data Privacy and Intellctual Property concerns related with using 3rd party cloud services for model training.\n",
        "\n",
        "In this work we attempt to harness and combine the benefits of Abstraction and Determinism provided by Formal Domain Specific Languages (DSLs) with the innate ability of LLMs to learn new languages and their semantics. We propose a novel generation task called \"Domain Specific Code Generation\" which involve mapping user requests written in natural language to DSL code.\n",
        "\n",
        "By utilizing a specially crafted DSL called `FormLang` as a case study, we attempt to lay the groundwork for methods of automated DSL dataset generation, training techniques and performance evaluation, with the end goal of creating an AI system capable of generating Web forms according to a user request. If successful and viable, these methods can be applied to other problem domains in which real-world processes can be formally modelled using DSLs, opening the door to the training of AI agents that understand these DSLs and can be engineered to perform tasks autonomously.\n",
        "\n",
        "Our `FormLang` DSL allows expressing the semantics of Web-forms using a simplified syntax that does not require much, if any, Web-programming knowledge and expertise.\n",
        "\n",
        "Given a user prompt in English describing the desired form and its fields the LLM produces syntactically valid `FormLang` output which is run through the accompanying FormLang parser and a hand-crafted React JSX compiler to output a final implementation of the form in JavaScript and React.\n",
        "\n",
        "**(TBD)** The project includes a live demo which demonstrates the capabilities of the system.\n"
      ]
    },
    {
      "cell_type": "markdown",
      "id": "9fe6f6e1-43e6-45d7-a792-8e8d141c075b",
      "metadata": {
        "id": "9fe6f6e1-43e6-45d7-a792-8e8d141c075b"
      },
      "source": [
        "## Referring to this work\n",
        "\n",
        "If you use this work the following quote is preferred:\n",
        "\n",
        "```bibtex\n",
        "@misc{guyor2025dscodegenformlang,\n",
        "      title={Domain Specific Code Generation using the FormLang DSL},\n",
        "      author={Guy Or},\n",
        "      year={2025}\n",
        "}\n",
        "```\n",
        "\n",
        "The official repository of this work is hosted in GitHub at https://github.com/guyo13/Form-Lang."
      ]
    },
    {
      "cell_type": "markdown",
      "id": "3b0ab27f-eb13-4744-aac1-57e8ca65d63e",
      "metadata": {
        "id": "3b0ab27f-eb13-4744-aac1-57e8ca65d63e"
      },
      "source": [
        "## Project Goals\n",
        "\n",
        "* Create an AI training pipeline for FormLang (implemented as a Juypter notebook) which includes:\n",
        "    * Automatic FormLang Dataset generation using searching algorithms and heuristics.\n",
        "    * Baseline model selection and loading from Hugging Face.\n",
        "    * Dataset Preprocessing and loading.\n",
        "    * Defining performance metrics for the model.\n",
        "    * Model fine tuning using Transformers library\n",
        "    * Model Adapter training using PEFT library.\n",
        "    * Model upload to Hugging Face Hub and example usage from the Hub.\n",
        "    *  **(TBD)** Export to ONNX using Optimum and run on-device using Transformers.js.\n",
        "* Create the “FormLang” language:\n",
        "    * Describe the problem domain.\n",
        "    * Defining a viable minimal syntax and semantics which are research focused rather than completeness focused.\n",
        "    *  **(TBD)** Implementing a “JavaScript React” compile target.\n",
        "*  **(TBD)** Create a live demo website:\n",
        "    * **(TBD)** Users input a prompt.\n",
        "    * **(TBD)** A FormLang editor is populated with the AI’s code generation results.\n",
        "    * **(TBD)** The form is rendered alongside the generated code.\n",
        "*  Discuss the project results:\n",
        "    * Perfornace and user acceptability.\n",
        "    * **(TBD)** Viability of the implemented methods for the Domain Specific Code Generation task and generalization to other domains.  \n",
        "    * **(TBD)** Potential enhancements to the system.\n",
        "    * **(TBD)** Possible research directions on how to learn from user data.\n",
        "\n",
        "\n",
        "**(TBD)** - Features marked as TBD are depending on the project's progress and timeline constraints as well as proving the viability of the methods and system."
      ]
    },
    {
      "cell_type": "markdown",
      "id": "f82857ab-ff94-41c5-ac86-3118861b0590",
      "metadata": {
        "id": "f82857ab-ff94-41c5-ac86-3118861b0590"
      },
      "source": [
        "# Notebook Setup"
      ]
    },
    {
      "cell_type": "markdown",
      "id": "e11e7427-aed5-48ac-96e2-b84fbdf073f3",
      "metadata": {
        "id": "e11e7427-aed5-48ac-96e2-b84fbdf073f3"
      },
      "source": [
        "## About the FormLang DSL and its codebase"
      ]
    },
    {
      "cell_type": "markdown",
      "id": "0472c753-5fe4-44b7-b36c-81139377cc6b",
      "metadata": {
        "id": "0472c753-5fe4-44b7-b36c-81139377cc6b"
      },
      "source": [
        "The FormLang DSL is implemented using [Langium](https://langium.org/). Langium is a toolkit written in TypeScript that allows language engineers to create DSLs and quickly iterate over their development lifecycle.\n",
        "\n",
        "Some of the many features offered by Langium are:\n",
        "\n",
        "* Parser generation - Langium leverages [Chevrotain](https://chevrotain.io/docs/) to create a fast parser that can parse the DSL code to AST.\n",
        "* TypeScript AST nodes generation - Langium automatically generates TS types that represent the AST of the language.\n",
        "* Simplified Validation rules - Langium has built in support for writing and executing validation rules with built in error reporting.\n",
        "* Language Server Protocol support - Langium implements the LSP protocol which allows code completion and syntax highlighting in many IDEs such as VSCode.\n",
        "\n",
        "Since we are using Langium to parse the FormLang DSL, some of this project tooling and algorithms are written in TypeScript.\n",
        "\n",
        "To call our TypeScript code from Python we are using two distinct methods:\n",
        "\n",
        "* [PythonMonkey](https://pythonmonkey.io/) - A Python package that implements FFI between Python and JavaScript.\n",
        "* Local HTTP API - For some cases in which the PythonMonkey FFI is too slow or buggy, we've implemented a local REST-API server that implements some functions we require (e.g for parsing FormLang code to AST).\n",
        "\n",
        "### Codebase\n",
        "\n",
        "The entire codebase is hosted in Github at [FormLang](https://github.com/guyo13/Form-Lang)."
      ]
    },
    {
      "cell_type": "markdown",
      "id": "Ou2nd_6VfMJb",
      "metadata": {
        "id": "Ou2nd_6VfMJb"
      },
      "source": [
        "### Running from Colab"
      ]
    },
    {
      "cell_type": "markdown",
      "id": "eJxc5-6UfnjC",
      "metadata": {
        "id": "eJxc5-6UfnjC"
      },
      "source": [
        "#### Installing PNPM and Bun"
      ]
    },
    {
      "cell_type": "code",
      "execution_count": 1,
      "id": "sacCOlA8fqLv",
      "metadata": {
        "colab": {
          "base_uri": "https://localhost:8080/"
        },
        "collapsed": true,
        "id": "sacCOlA8fqLv",
        "jupyter": {
          "outputs_hidden": true
        },
        "outputId": "610a647f-ee2b-477e-cc21-665924ffdf8d"
      },
      "outputs": [
        {
          "output_type": "stream",
          "name": "stdout",
          "text": [
            "\u001b[1G\u001b[0K⠙\u001b[1G\u001b[0K⠹\u001b[1G\u001b[0K⠸\u001b[1G\u001b[0K⠼\u001b[1G\u001b[0K⠴\u001b[1G\u001b[0K⠦\u001b[1G\u001b[0K⠧\u001b[1G\u001b[0K⠇\u001b[1G\u001b[0K⠏\u001b[1G\u001b[0K⠋\u001b[1G\u001b[0K⠙\u001b[1G\u001b[0K⠹\u001b[1G\u001b[0K⠸\u001b[1G\u001b[0K⠼\u001b[1G\u001b[0K⠴\u001b[1G\u001b[0K⠦\u001b[1G\u001b[0K⠧\u001b[1G\u001b[0K⠇\u001b[1G\u001b[0K⠏\u001b[1G\u001b[0K⠋\u001b[1G\u001b[0K⠙\u001b[1G\u001b[0K⠹\u001b[1G\u001b[0K⠸\u001b[1G\u001b[0K⠼\u001b[1G\u001b[0K⠴\u001b[1G\u001b[0K⠦\u001b[1G\u001b[0K⠧\u001b[1G\u001b[0K⠇\u001b[1G\u001b[0K⠏\u001b[1G\u001b[0K⠋\u001b[1G\u001b[0K⠙\u001b[1G\u001b[0K⠹\u001b[1G\u001b[0K⠸\u001b[1G\u001b[0K⠼\u001b[1G\u001b[0K⠴\u001b[1G\u001b[0K⠦\u001b[1G\u001b[0K⠧\u001b[1G\u001b[0K\n",
            "added 1 package in 6s\n",
            "\u001b[1G\u001b[0K⠧\u001b[1G\u001b[0K\n",
            "\u001b[1G\u001b[0K⠧\u001b[1G\u001b[0K1 package is looking for funding\n",
            "\u001b[1G\u001b[0K⠧\u001b[1G\u001b[0K  run `npm fund` for details\n",
            "\u001b[1G\u001b[0K⠧\u001b[1G\u001b[0K\u001b[1G\u001b[0K⠙\u001b[1G\u001b[0K⠹\u001b[1G\u001b[0K⠸\u001b[1G\u001b[0K⠼\u001b[1G\u001b[0K⠴\u001b[1G\u001b[0K⠦\u001b[1G\u001b[0K⠧\u001b[1G\u001b[0K⠇\u001b[1G\u001b[0K⠏\u001b[1G\u001b[0K⠋\u001b[1G\u001b[0K⠙\u001b[1G\u001b[0K⠹\u001b[1G\u001b[0K⠸\u001b[1G\u001b[0K⠼\u001b[1G\u001b[0K⠴\u001b[1G\u001b[0K⠦\u001b[1G\u001b[0K⠧\u001b[1G\u001b[0K⠇\u001b[1G\u001b[0K⠏\u001b[1G\u001b[0K⠋\u001b[1G\u001b[0K⠙\u001b[1G\u001b[0K⠹\u001b[1G\u001b[0K⠸\u001b[1G\u001b[0K⠼\u001b[1G\u001b[0K⠴\u001b[1G\u001b[0K⠦\u001b[1G\u001b[0K⠧\u001b[1G\u001b[0K⠇\u001b[1G\u001b[0K⠏\u001b[1G\u001b[0K⠋\u001b[1G\u001b[0K⠙\u001b[1G\u001b[0K⠹\u001b[1G\u001b[0K⠸\u001b[1G\u001b[0K⠼\u001b[1G\u001b[0K⠴\u001b[1G\u001b[0K⠦\u001b[1G\u001b[0K⠧\u001b[1G\u001b[0K⠇\u001b[1G\u001b[0K⠏\u001b[1G\u001b[0K⠋\u001b[1G\u001b[0K⠙\u001b[1G\u001b[0K⠹\u001b[1G\u001b[0K⠸\u001b[1G\u001b[0K⠼\u001b[1G\u001b[0K⠴\u001b[1G\u001b[0K⠦\u001b[1G\u001b[0K⠧\u001b[1G\u001b[0K⠇\u001b[1G\u001b[0K⠏\u001b[1G\u001b[0K⠋\u001b[1G\u001b[0K⠙\u001b[1G\u001b[0K⠹\u001b[1G\u001b[0K⠸\u001b[1G\u001b[0K⠼\u001b[1G\u001b[0K⠴\u001b[1G\u001b[0K⠦\u001b[1G\u001b[0K⠧\u001b[1G\u001b[0K⠇\u001b[1G\u001b[0K⠏\u001b[1G\u001b[0K⠋\u001b[1G\u001b[0K⠙\u001b[1G\u001b[0K⠹\u001b[1G\u001b[0K⠸\u001b[1G\u001b[0K⠼\u001b[1G\u001b[0K⠴\u001b[1G\u001b[0K⠦\u001b[1G\u001b[0K⠧\u001b[1G\u001b[0K⠇\u001b[1G\u001b[0K⠏\u001b[1G\u001b[0K⠋\u001b[1G\u001b[0K⠙\u001b[1G\u001b[0K⠹\u001b[1G\u001b[0K⠸\u001b[1G\u001b[0K⠼\u001b[1G\u001b[0K⠴\u001b[1G\u001b[0K⠦\u001b[1G\u001b[0K⠧\u001b[1G\u001b[0K⠇\u001b[1G\u001b[0K⠏\u001b[1G\u001b[0K⠋\u001b[1G\u001b[0K⠙\u001b[1G\u001b[0K⠹\u001b[1G\u001b[0K⠸\u001b[1G\u001b[0K⠼\u001b[1G\u001b[0K⠴\u001b[1G\u001b[0K⠦\u001b[1G\u001b[0K⠧\u001b[1G\u001b[0K⠇\u001b[1G\u001b[0K⠏\u001b[1G\u001b[0K⠋\u001b[1G\u001b[0K⠙\u001b[1G\u001b[0K⠹\u001b[1G\u001b[0K⠸\u001b[1G\u001b[0K⠼\u001b[1G\u001b[0K⠴\u001b[1G\u001b[0K⠦\u001b[1G\u001b[0K⠧\u001b[1G\u001b[0K⠇\u001b[1G\u001b[0K⠏\u001b[1G\u001b[0K⠋\u001b[1G\u001b[0K⠙\u001b[1G\u001b[0K⠹\u001b[1G\u001b[0K⠸\u001b[1G\u001b[0K⠼\u001b[1G\u001b[0K⠴\u001b[1G\u001b[0K⠦\u001b[1G\u001b[0K⠧\u001b[1G\u001b[0K⠇\u001b[1G\u001b[0K⠏\u001b[1G\u001b[0K⠋\u001b[1G\u001b[0K⠙\u001b[1G\u001b[0K⠹\u001b[1G\u001b[0K⠸\u001b[1G\u001b[0K⠼\u001b[1G\u001b[0K⠴\u001b[1G\u001b[0K⠦\u001b[1G\u001b[0K⠧\u001b[1G\u001b[0K⠇\u001b[1G\u001b[0K⠏\u001b[1G\u001b[0K⠋\u001b[1G\u001b[0K⠙\u001b[1G\u001b[0K⠹\u001b[1G\u001b[0K⠸\u001b[1G\u001b[0K⠼\u001b[1G\u001b[0K⠴\u001b[1G\u001b[0K⠦\u001b[1G\u001b[0K⠧\u001b[1G\u001b[0K⠇\u001b[1G\u001b[0K⠏\u001b[1G\u001b[0K⠋\u001b[1G\u001b[0K⠙\u001b[1G\u001b[0K⠹\u001b[1G\u001b[0K⠸\u001b[1G\u001b[0K⠼\u001b[1G\u001b[0K⠴\u001b[1G\u001b[0K⠦\u001b[1G\u001b[0K⠧\u001b[1G\u001b[0K⠇\u001b[1G\u001b[0K⠏\u001b[1G\u001b[0K⠋\u001b[1G\u001b[0K⠙\u001b[1G\u001b[0K⠹\u001b[1G\u001b[0K⠸\u001b[1G\u001b[0K⠼\u001b[1G\u001b[0K⠴\u001b[1G\u001b[0K⠦\u001b[1G\u001b[0K⠧\u001b[1G\u001b[0K⠇\u001b[1G\u001b[0K⠏\u001b[1G\u001b[0K⠋\u001b[1G\u001b[0K⠙\u001b[1G\u001b[0K⠹\u001b[1G\u001b[0K⠸\u001b[1G\u001b[0K⠼\u001b[1G\u001b[0K⠴\u001b[1G\u001b[0K⠦\u001b[1G\u001b[0K⠧\u001b[1G\u001b[0K⠇\u001b[1G\u001b[0K⠏\u001b[1G\u001b[0K⠋\u001b[1G\u001b[0K⠙\u001b[1G\u001b[0K⠹\u001b[1G\u001b[0K⠸\u001b[1G\u001b[0K⠼\u001b[1G\u001b[0K⠴\u001b[1G\u001b[0K⠦\u001b[1G\u001b[0K⠧\u001b[1G\u001b[0K⠇\u001b[1G\u001b[0K⠏\u001b[1G\u001b[0K⠋\u001b[1G\u001b[0K⠙\u001b[1G\u001b[0K⠹\u001b[1G\u001b[0K⠸\u001b[1G\u001b[0K⠼\u001b[1G\u001b[0K⠴\u001b[1G\u001b[0K⠦\u001b[1G\u001b[0K⠧\u001b[1G\u001b[0K⠇\u001b[1G\u001b[0K⠏\u001b[1G\u001b[0K⠋\u001b[1G\u001b[0K⠙\u001b[1G\u001b[0K⠹\u001b[1G\u001b[0K⠸\u001b[1G\u001b[0K⠼\u001b[1G\u001b[0K⠴\u001b[1G\u001b[0K⠦\u001b[1G\u001b[0K⠧\u001b[1G\u001b[0K⠇\u001b[1G\u001b[0K\n",
            "added 5 packages in 18s\n",
            "\u001b[1G\u001b[0K⠇\u001b[1G\u001b[0K\u001b[1G\u001b[0K⠙\u001b[1G\u001b[0K⠹\u001b[1G\u001b[0K⠸\u001b[1G\u001b[0K⠼\u001b[1G\u001b[0K⠴\u001b[1G\u001b[0K⠦\u001b[1G\u001b[0K⠧\u001b[1G\u001b[0K⠇\u001b[1G\u001b[0K⠏\u001b[1G\u001b[0K⠋\u001b[1G\u001b[0K⠙\u001b[1G\u001b[0K⠹\u001b[1G\u001b[0K⠸\u001b[1G\u001b[0K⠼\u001b[1G\u001b[0K⠴\u001b[1G\u001b[0K⠦\u001b[1G\u001b[0K⠧\u001b[1G\u001b[0K\n",
            "changed 1 package in 3s\n",
            "\u001b[1G\u001b[0K⠧\u001b[1G\u001b[0K"
          ]
        }
      ],
      "source": [
        "!npm install -g pnpm\n",
        "!npm install -g bun@latest\n",
        "!npm install -g corepack@latest"
      ]
    },
    {
      "cell_type": "code",
      "execution_count": 2,
      "id": "S1UNnkGMpIMk",
      "metadata": {
        "colab": {
          "base_uri": "https://localhost:8080/"
        },
        "id": "S1UNnkGMpIMk",
        "outputId": "7e304d50-1fdf-4750-b0ad-7afd98f87178"
      },
      "outputs": [
        {
          "output_type": "stream",
          "name": "stdout",
          "text": [
            "1.2.2\n"
          ]
        }
      ],
      "source": [
        "!bun -v"
      ]
    },
    {
      "cell_type": "markdown",
      "id": "eJNyxbOUf06Z",
      "metadata": {
        "id": "eJNyxbOUf06Z"
      },
      "source": [
        "#### Installing PythonMonkey"
      ]
    },
    {
      "cell_type": "code",
      "execution_count": 3,
      "id": "2xL-UgVOf6BY",
      "metadata": {
        "colab": {
          "base_uri": "https://localhost:8080/"
        },
        "collapsed": true,
        "id": "2xL-UgVOf6BY",
        "jupyter": {
          "outputs_hidden": true
        },
        "outputId": "bd54b47e-aeb8-4fd7-ec17-e9678a557aad"
      },
      "outputs": [
        {
          "output_type": "stream",
          "name": "stdout",
          "text": [
            "  Installing build dependencies ... \u001b[?25l\u001b[?25hdone\n",
            "  Getting requirements to build wheel ... \u001b[?25l\u001b[?25hdone\n",
            "  Preparing metadata (pyproject.toml) ... \u001b[?25l\u001b[?25hdone\n",
            "\u001b[2K   \u001b[90m━━━━━━━━━━━━━━━━━━━━━━━━━━━━━━━━━━━━━━━━\u001b[0m \u001b[32m21.6/21.6 MB\u001b[0m \u001b[31m15.6 MB/s\u001b[0m eta \u001b[36m0:00:00\u001b[0m\n",
            "\u001b[2K   \u001b[90m━━━━━━━━━━━━━━━━━━━━━━━━━━━━━━━━━━━━━━━━\u001b[0m \u001b[32m2.9/2.9 MB\u001b[0m \u001b[31m64.6 MB/s\u001b[0m eta \u001b[36m0:00:00\u001b[0m\n",
            "\u001b[2K   \u001b[90m━━━━━━━━━━━━━━━━━━━━━━━━━━━━━━━━━━━━━━━━\u001b[0m \u001b[32m288.6/288.6 kB\u001b[0m \u001b[31m23.0 MB/s\u001b[0m eta \u001b[36m0:00:00\u001b[0m\n",
            "\u001b[?25h  Building wheel for pminit (pyproject.toml) ... \u001b[?25l\u001b[?25hdone\n"
          ]
        }
      ],
      "source": [
        "!pip install --quiet pythonmonkey"
      ]
    },
    {
      "cell_type": "markdown",
      "id": "Gg8rNPQ122uw",
      "metadata": {
        "id": "Gg8rNPQ122uw"
      },
      "source": [
        "#### Installing Huggingface libraries and Unsloth"
      ]
    },
    {
      "cell_type": "code",
      "execution_count": 4,
      "id": "ZLalOx4-25Im",
      "metadata": {
        "colab": {
          "base_uri": "https://localhost:8080/"
        },
        "collapsed": true,
        "id": "ZLalOx4-25Im",
        "jupyter": {
          "outputs_hidden": true
        },
        "outputId": "80ab290e-f74d-48da-85be-9cbe93eec799"
      },
      "outputs": [
        {
          "output_type": "stream",
          "name": "stdout",
          "text": [
            "\u001b[2K     \u001b[90m━━━━━━━━━━━━━━━━━━━━━━━━━━━━━━━━━━━━━━━━\u001b[0m \u001b[32m57.4/57.4 kB\u001b[0m \u001b[31m2.9 MB/s\u001b[0m eta \u001b[36m0:00:00\u001b[0m\n",
            "\u001b[2K   \u001b[90m━━━━━━━━━━━━━━━━━━━━━━━━━━━━━━━━━━━━━━━━\u001b[0m \u001b[32m480.6/480.6 kB\u001b[0m \u001b[31m17.1 MB/s\u001b[0m eta \u001b[36m0:00:00\u001b[0m\n",
            "\u001b[2K   \u001b[90m━━━━━━━━━━━━━━━━━━━━━━━━━━━━━━━━━━━━━━━━\u001b[0m \u001b[32m84.0/84.0 kB\u001b[0m \u001b[31m8.0 MB/s\u001b[0m eta \u001b[36m0:00:00\u001b[0m\n",
            "\u001b[2K   \u001b[90m━━━━━━━━━━━━━━━━━━━━━━━━━━━━━━━━━━━━━━━━\u001b[0m \u001b[32m69.7/69.7 MB\u001b[0m \u001b[31m8.6 MB/s\u001b[0m eta \u001b[36m0:00:00\u001b[0m\n",
            "\u001b[2K   \u001b[90m━━━━━━━━━━━━━━━━━━━━━━━━━━━━━━━━━━━━━━━━\u001b[0m \u001b[32m181.2/181.2 kB\u001b[0m \u001b[31m7.4 MB/s\u001b[0m eta \u001b[36m0:00:00\u001b[0m\n",
            "\u001b[2K   \u001b[90m━━━━━━━━━━━━━━━━━━━━━━━━━━━━━━━━━━━━━━━━\u001b[0m \u001b[32m116.3/116.3 kB\u001b[0m \u001b[31m7.9 MB/s\u001b[0m eta \u001b[36m0:00:00\u001b[0m\n",
            "\u001b[2K   \u001b[90m━━━━━━━━━━━━━━━━━━━━━━━━━━━━━━━━━━━━━━━━\u001b[0m \u001b[32m179.3/179.3 kB\u001b[0m \u001b[31m16.1 MB/s\u001b[0m eta \u001b[36m0:00:00\u001b[0m\n",
            "\u001b[2K   \u001b[90m━━━━━━━━━━━━━━━━━━━━━━━━━━━━━━━━━━━━━━━━\u001b[0m \u001b[32m143.5/143.5 kB\u001b[0m \u001b[31m11.5 MB/s\u001b[0m eta \u001b[36m0:00:00\u001b[0m\n",
            "\u001b[2K   \u001b[90m━━━━━━━━━━━━━━━━━━━━━━━━━━━━━━━━━━━━━━━━\u001b[0m \u001b[32m162.1/162.1 kB\u001b[0m \u001b[31m11.9 MB/s\u001b[0m eta \u001b[36m0:00:00\u001b[0m\n",
            "\u001b[2K   \u001b[90m━━━━━━━━━━━━━━━━━━━━━━━━━━━━━━━━━━━━━━━━\u001b[0m \u001b[32m363.4/363.4 MB\u001b[0m \u001b[31m4.3 MB/s\u001b[0m eta \u001b[36m0:00:00\u001b[0m\n",
            "\u001b[2K   \u001b[90m━━━━━━━━━━━━━━━━━━━━━━━━━━━━━━━━━━━━━━━━\u001b[0m \u001b[32m13.8/13.8 MB\u001b[0m \u001b[31m62.4 MB/s\u001b[0m eta \u001b[36m0:00:00\u001b[0m\n",
            "\u001b[2K   \u001b[90m━━━━━━━━━━━━━━━━━━━━━━━━━━━━━━━━━━━━━━━━\u001b[0m \u001b[32m24.6/24.6 MB\u001b[0m \u001b[31m63.1 MB/s\u001b[0m eta \u001b[36m0:00:00\u001b[0m\n",
            "\u001b[2K   \u001b[90m━━━━━━━━━━━━━━━━━━━━━━━━━━━━━━━━━━━━━━━━\u001b[0m \u001b[32m883.7/883.7 kB\u001b[0m \u001b[31m34.1 MB/s\u001b[0m eta \u001b[36m0:00:00\u001b[0m\n",
            "\u001b[2K   \u001b[90m━━━━━━━━━━━━━━━━━━━━━━━━━━━━━━━━━━━━━━━━\u001b[0m \u001b[32m664.8/664.8 MB\u001b[0m \u001b[31m2.7 MB/s\u001b[0m eta \u001b[36m0:00:00\u001b[0m\n",
            "\u001b[2K   \u001b[90m━━━━━━━━━━━━━━━━━━━━━━━━━━━━━━━━━━━━━━━━\u001b[0m \u001b[32m211.5/211.5 MB\u001b[0m \u001b[31m5.2 MB/s\u001b[0m eta \u001b[36m0:00:00\u001b[0m\n",
            "\u001b[2K   \u001b[90m━━━━━━━━━━━━━━━━━━━━━━━━━━━━━━━━━━━━━━━━\u001b[0m \u001b[32m56.3/56.3 MB\u001b[0m \u001b[31m11.5 MB/s\u001b[0m eta \u001b[36m0:00:00\u001b[0m\n",
            "\u001b[2K   \u001b[90m━━━━━━━━━━━━━━━━━━━━━━━━━━━━━━━━━━━━━━━━\u001b[0m \u001b[32m127.9/127.9 MB\u001b[0m \u001b[31m7.6 MB/s\u001b[0m eta \u001b[36m0:00:00\u001b[0m\n",
            "\u001b[2K   \u001b[90m━━━━━━━━━━━━━━━━━━━━━━━━━━━━━━━━━━━━━━━━\u001b[0m \u001b[32m207.5/207.5 MB\u001b[0m \u001b[31m5.9 MB/s\u001b[0m eta \u001b[36m0:00:00\u001b[0m\n",
            "\u001b[2K   \u001b[90m━━━━━━━━━━━━━━━━━━━━━━━━━━━━━━━━━━━━━━━━\u001b[0m \u001b[32m21.1/21.1 MB\u001b[0m \u001b[31m98.0 MB/s\u001b[0m eta \u001b[36m0:00:00\u001b[0m\n",
            "\u001b[2K   \u001b[90m━━━━━━━━━━━━━━━━━━━━━━━━━━━━━━━━━━━━━━━━\u001b[0m \u001b[32m313.9/313.9 kB\u001b[0m \u001b[31m27.4 MB/s\u001b[0m eta \u001b[36m0:00:00\u001b[0m\n",
            "\u001b[2K   \u001b[90m━━━━━━━━━━━━━━━━━━━━━━━━━━━━━━━━━━━━━━━━\u001b[0m \u001b[32m99.2/99.2 kB\u001b[0m \u001b[31m9.4 MB/s\u001b[0m eta \u001b[36m0:00:00\u001b[0m\n",
            "\u001b[2K   \u001b[90m━━━━━━━━━━━━━━━━━━━━━━━━━━━━━━━━━━━━━━━━\u001b[0m \u001b[32m44.3/44.3 MB\u001b[0m \u001b[31m14.1 MB/s\u001b[0m eta \u001b[36m0:00:00\u001b[0m\n",
            "\u001b[2K   \u001b[90m━━━━━━━━━━━━━━━━━━━━━━━━━━━━━━━━━━━━━━━━\u001b[0m \u001b[32m766.7/766.7 MB\u001b[0m \u001b[31m1.9 MB/s\u001b[0m eta \u001b[36m0:00:00\u001b[0m\n",
            "\u001b[2K   \u001b[90m━━━━━━━━━━━━━━━━━━━━━━━━━━━━━━━━━━━━━━━━\u001b[0m \u001b[32m253.2/253.2 MB\u001b[0m \u001b[31m5.0 MB/s\u001b[0m eta \u001b[36m0:00:00\u001b[0m\n",
            "\u001b[2K   \u001b[90m━━━━━━━━━━━━━━━━━━━━━━━━━━━━━━━━━━━━━━━━\u001b[0m \u001b[32m150.1/150.1 MB\u001b[0m \u001b[31m6.3 MB/s\u001b[0m eta \u001b[36m0:00:00\u001b[0m\n",
            "\u001b[2K   \u001b[90m━━━━━━━━━━━━━━━━━━━━━━━━━━━━━━━━━━━━━━━━\u001b[0m \u001b[32m3.6/3.6 MB\u001b[0m \u001b[31m70.5 MB/s\u001b[0m eta \u001b[36m0:00:00\u001b[0m\n",
            "\u001b[2K   \u001b[90m━━━━━━━━━━━━━━━━━━━━━━━━━━━━━━━━━━━━━━━━\u001b[0m \u001b[32m7.2/7.2 MB\u001b[0m \u001b[31m81.7 MB/s\u001b[0m eta \u001b[36m0:00:00\u001b[0m\n",
            "\u001b[2K   \u001b[90m━━━━━━━━━━━━━━━━━━━━━━━━━━━━━━━━━━━━━━━━\u001b[0m \u001b[32m115.7/115.7 kB\u001b[0m \u001b[31m12.4 MB/s\u001b[0m eta \u001b[36m0:00:00\u001b[0m\n",
            "\u001b[2K   \u001b[90m━━━━━━━━━━━━━━━━━━━━━━━━━━━━━━━━━━━━━━━━\u001b[0m \u001b[32m194.8/194.8 kB\u001b[0m \u001b[31m19.6 MB/s\u001b[0m eta \u001b[36m0:00:00\u001b[0m\n",
            "\u001b[?25h\u001b[31mERROR: pip's dependency resolver does not currently take into account all the packages that are installed. This behaviour is the source of the following dependency conflicts.\n",
            "gcsfs 2024.10.0 requires fsspec==2024.10.0, but you have fsspec 2024.9.0 which is incompatible.\n",
            "tensorflow-metadata 1.16.1 requires protobuf<6.0.0dev,>=4.25.2; python_version >= \"3.11\", but you have protobuf 3.20.3 which is incompatible.\n",
            "torchaudio 2.5.1+cu124 requires torch==2.5.1, but you have torch 2.6.0 which is incompatible.\n",
            "fastai 2.7.18 requires torch<2.6,>=1.10, but you have torch 2.6.0 which is incompatible.\n",
            "grpcio-status 1.62.3 requires protobuf>=4.21.6, but you have protobuf 3.20.3 which is incompatible.\u001b[0m\u001b[31m\n",
            "\u001b[0m"
          ]
        }
      ],
      "source": [
        "!pip install --quiet datasets evaluate bitsandbytes unsloth"
      ]
    },
    {
      "cell_type": "markdown",
      "id": "d537df63-edda-4c6a-aa6c-a41ba8c99949",
      "metadata": {
        "id": "d537df63-edda-4c6a-aa6c-a41ba8c99949"
      },
      "source": [
        "#### Installing dependencies for ROUGE score"
      ]
    },
    {
      "cell_type": "code",
      "execution_count": 5,
      "id": "5d325f7d-d0b5-4e13-a5d2-aa030f915885",
      "metadata": {
        "colab": {
          "base_uri": "https://localhost:8080/"
        },
        "id": "5d325f7d-d0b5-4e13-a5d2-aa030f915885",
        "outputId": "85f51fd2-cb8c-4de4-c4bb-3b4d27b4c6bb"
      },
      "outputs": [
        {
          "output_type": "stream",
          "name": "stdout",
          "text": [
            "  Preparing metadata (setup.py) ... \u001b[?25l\u001b[?25hdone\n",
            "  Building wheel for rouge_score (setup.py) ... \u001b[?25l\u001b[?25hdone\n"
          ]
        }
      ],
      "source": [
        "!pip install --quiet nltk absl-py rouge_score"
      ]
    },
    {
      "cell_type": "markdown",
      "id": "cBeWGXlGpfsD",
      "metadata": {
        "id": "cBeWGXlGpfsD"
      },
      "source": [
        "#### Clone the repo"
      ]
    },
    {
      "cell_type": "code",
      "execution_count": 6,
      "id": "b59psKFItLqX",
      "metadata": {
        "id": "b59psKFItLqX"
      },
      "outputs": [],
      "source": [
        "!rm -rf Form-Lang"
      ]
    },
    {
      "cell_type": "code",
      "execution_count": 7,
      "id": "XuvuEliefRsv",
      "metadata": {
        "colab": {
          "base_uri": "https://localhost:8080/"
        },
        "collapsed": true,
        "id": "XuvuEliefRsv",
        "jupyter": {
          "outputs_hidden": true
        },
        "outputId": "c243dc7c-5d27-4193-ceed-6c8b597fe2ca"
      },
      "outputs": [
        {
          "output_type": "stream",
          "name": "stdout",
          "text": [
            "Cloning into 'Form-Lang'...\n",
            "remote: Enumerating objects: 691, done.\u001b[K\n",
            "remote: Counting objects: 100% (111/111), done.\u001b[K\n",
            "remote: Compressing objects: 100% (90/90), done.\u001b[K\n",
            "remote: Total 691 (delta 78), reused 32 (delta 21), pack-reused 580 (from 1)\u001b[K\n",
            "Receiving objects: 100% (691/691), 724.34 KiB | 2.48 MiB/s, done.\n",
            "Resolving deltas: 100% (441/441), done.\n"
          ]
        }
      ],
      "source": [
        "!git clone -b react_compiler https://github.com/guyo13/Form-Lang.git"
      ]
    },
    {
      "cell_type": "markdown",
      "id": "77JM8W54prfR",
      "metadata": {
        "id": "77JM8W54prfR"
      },
      "source": [
        "#### Install project dependencies and build"
      ]
    },
    {
      "cell_type": "code",
      "execution_count": 8,
      "id": "qCmTdtwfpvXu",
      "metadata": {
        "colab": {
          "base_uri": "https://localhost:8080/"
        },
        "collapsed": true,
        "id": "qCmTdtwfpvXu",
        "jupyter": {
          "outputs_hidden": true
        },
        "outputId": "73b72222-e3ff-475b-e4c3-1856bd0987a5"
      },
      "outputs": [
        {
          "output_type": "stream",
          "name": "stdout",
          "text": [
            "Adding pnpm@10.0.0+sha512.b8fef5494bd3fe4cbd4edabd0745df2ee5be3e4b0b8b08fa643aa3e4c6702ccc0f00d68fa8a8c9858a735a0032485a44990ed2810526c875e416f001b17df12b to the cache...\n",
            "Lockfile is up to date, resolution step is skipped\n",
            "Progress: resolved \u001b[96m1\u001b[39m, reused \u001b[96m0\u001b[39m, downloaded \u001b[96m0\u001b[39m, added \u001b[96m0\u001b[39m\n",
            "\u001b[1APackages: \u001b[32m+502\u001b[39m\u001b[0K\n",
            "\n",
            "Progress: resolved \u001b[96m1\u001b[39m, reused \u001b[96m0\u001b[39m, downloaded \u001b[96m0\u001b[39m, added \u001b[96m0\u001b[39m\n",
            "\u001b[1AProgress: resolved \u001b[96m502\u001b[39m, reused \u001b[96m0\u001b[39m, downloaded \u001b[96m0\u001b[39m, added \u001b[96m0\u001b[39m\n",
            "\u001b[1A\u001b[33m\u001b[39m\u001b[0K\n",
            "\u001b[33m   ╭──────────────────────────────────────────────────────────────────╮\u001b[39m\n",
            "   \u001b[33m│\u001b[39m                                                                  \u001b[33m│\u001b[39m\n",
            "   \u001b[33m│\u001b[39m                Update available! \u001b[31m10.0.0\u001b[39m → \u001b[32m10.2.1\u001b[39m.                \u001b[33m│\u001b[39m\n",
            "   \u001b[33m│\u001b[39m   \u001b[35mChangelog:\u001b[39m https://github.com/pnpm/pnpm/releases/tag/v10.2.1   \u001b[33m│\u001b[39m\n",
            "   \u001b[33m│\u001b[39m         Run \"\u001b[35mcorepack install -g pnpm@10.2.1\u001b[39m\" to update.         \u001b[33m│\u001b[39m\n",
            "   \u001b[33m│\u001b[39m                                                                  \u001b[33m│\u001b[39m\n",
            "\u001b[33m   ╰──────────────────────────────────────────────────────────────────╯\u001b[39m\n",
            "\u001b[33m\u001b[39m\n",
            "Progress: resolved \u001b[96m502\u001b[39m, reused \u001b[96m0\u001b[39m, downloaded \u001b[96m0\u001b[39m, added \u001b[96m0\u001b[39m\n",
            "\u001b[1AProgress: resolved \u001b[96m502\u001b[39m, reused \u001b[96m0\u001b[39m, downloaded \u001b[96m1\u001b[39m, added \u001b[96m0\u001b[39m\n",
            "\u001b[1AProgress: resolved \u001b[96m502\u001b[39m, reused \u001b[96m0\u001b[39m, downloaded \u001b[96m3\u001b[39m, added \u001b[96m0\u001b[39m\n",
            "\u001b[1AProgress: resolved \u001b[96m502\u001b[39m, reused \u001b[96m0\u001b[39m, downloaded \u001b[96m4\u001b[39m, added \u001b[96m0\u001b[39m\n",
            "\u001b[1AProgress: resolved \u001b[96m502\u001b[39m, reused \u001b[96m0\u001b[39m, downloaded \u001b[96m5\u001b[39m, added \u001b[96m0\u001b[39m\n",
            "\u001b[1AProgress: resolved \u001b[96m502\u001b[39m, reused \u001b[96m0\u001b[39m, downloaded \u001b[96m6\u001b[39m, added \u001b[96m0\u001b[39m\n",
            "\u001b[1AProgress: resolved \u001b[96m502\u001b[39m, reused \u001b[96m0\u001b[39m, downloaded \u001b[96m12\u001b[39m, added \u001b[96m0\u001b[39m\n",
            "Downloading \u001b[97mmonaco-editor-wrapper@4.0.2\u001b[39m: \u001b[96m0.00 B\u001b[39m/\u001b[96m12.86 MB\u001b[39m\n",
            "\u001b[1ADownloading \u001b[97mmonaco-editor-wrapper@4.0.2\u001b[39m: \u001b[96m15.79 kB\u001b[39m/\u001b[96m12.86 MB\u001b[39m\n",
            "\u001b[2AProgress: resolved \u001b[96m502\u001b[39m, reused \u001b[96m0\u001b[39m, downloaded \u001b[96m15\u001b[39m, added \u001b[96m0\u001b[39m\n",
            "\u001b[1B\u001b[2ADownloading \u001b[97mmonaco-editor-wrapper@4.0.2\u001b[39m: \u001b[96m12.86 MB\u001b[39m/\u001b[96m12.86 MB\u001b[39m, done\n",
            "Progress: resolved \u001b[96m502\u001b[39m, reused \u001b[96m0\u001b[39m, downloaded \u001b[96m15\u001b[39m, added \u001b[96m0\u001b[39m\u001b[0K\n",
            "\u001b[1AProgress: resolved \u001b[96m502\u001b[39m, reused \u001b[96m0\u001b[39m, downloaded \u001b[96m16\u001b[39m, added \u001b[96m0\u001b[39m\n",
            "\u001b[1AProgress: resolved \u001b[96m502\u001b[39m, reused \u001b[96m0\u001b[39m, downloaded \u001b[96m19\u001b[39m, added \u001b[96m5\u001b[39m\n",
            "\u001b[1AProgress: resolved \u001b[96m502\u001b[39m, reused \u001b[96m0\u001b[39m, downloaded \u001b[96m20\u001b[39m, added \u001b[96m5\u001b[39m\n",
            "\u001b[1AProgress: resolved \u001b[96m502\u001b[39m, reused \u001b[96m0\u001b[39m, downloaded \u001b[96m27\u001b[39m, added \u001b[96m15\u001b[39m\n",
            "\u001b[1AProgress: resolved \u001b[96m502\u001b[39m, reused \u001b[96m0\u001b[39m, downloaded \u001b[96m29\u001b[39m, added \u001b[96m15\u001b[39m\n",
            "\u001b[1AProgress: resolved \u001b[96m502\u001b[39m, reused \u001b[96m0\u001b[39m, downloaded \u001b[96m30\u001b[39m, added \u001b[96m15\u001b[39m\n",
            "\u001b[1AProgress: resolved \u001b[96m502\u001b[39m, reused \u001b[96m0\u001b[39m, downloaded \u001b[96m31\u001b[39m, added \u001b[96m15\u001b[39m\n",
            "\u001b[1AProgress: resolved \u001b[96m502\u001b[39m, reused \u001b[96m0\u001b[39m, downloaded \u001b[96m36\u001b[39m, added \u001b[96m23\u001b[39m\n",
            "\u001b[1AProgress: resolved \u001b[96m502\u001b[39m, reused \u001b[96m0\u001b[39m, downloaded \u001b[96m42\u001b[39m, added \u001b[96m29\u001b[39m\n",
            "\u001b[1AProgress: resolved \u001b[96m502\u001b[39m, reused \u001b[96m0\u001b[39m, downloaded \u001b[96m47\u001b[39m, added \u001b[96m34\u001b[39m\n",
            "\u001b[1AProgress: resolved \u001b[96m502\u001b[39m, reused \u001b[96m0\u001b[39m, downloaded \u001b[96m51\u001b[39m, added \u001b[96m37\u001b[39m\n",
            "\u001b[1AProgress: resolved \u001b[96m502\u001b[39m, reused \u001b[96m0\u001b[39m, downloaded \u001b[96m56\u001b[39m, added \u001b[96m47\u001b[39m\n",
            "\u001b[1AProgress: resolved \u001b[96m502\u001b[39m, reused \u001b[96m0\u001b[39m, downloaded \u001b[96m59\u001b[39m, added \u001b[96m49\u001b[39m\n",
            "\u001b[1AProgress: resolved \u001b[96m502\u001b[39m, reused \u001b[96m0\u001b[39m, downloaded \u001b[96m68\u001b[39m, added \u001b[96m54\u001b[39m\n",
            "\u001b[1AProgress: resolved \u001b[96m502\u001b[39m, reused \u001b[96m0\u001b[39m, downloaded \u001b[96m77\u001b[39m, added \u001b[96m65\u001b[39m\n",
            "Downloading \u001b[97mtypescript@5.1.6\u001b[39m: \u001b[96m0.00 B\u001b[39m/\u001b[96m7.15 MB\u001b[39m\n",
            "\u001b[1ADownloading \u001b[97mtypescript@5.1.6\u001b[39m: \u001b[96m15.78 kB\u001b[39m/\u001b[96m7.15 MB\u001b[39m\n",
            "\u001b[2AProgress: resolved \u001b[96m502\u001b[39m, reused \u001b[96m0\u001b[39m, downloaded \u001b[96m85\u001b[39m, added \u001b[96m73\u001b[39m\n",
            "\u001b[1B\u001b[2AProgress: resolved \u001b[96m502\u001b[39m, reused \u001b[96m0\u001b[39m, downloaded \u001b[96m91\u001b[39m, added \u001b[96m82\u001b[39m\n",
            "\u001b[1B\u001b[2ADownloading \u001b[97mtypescript@5.1.6\u001b[39m: \u001b[96m7.15 MB\u001b[39m/\u001b[96m7.15 MB\u001b[39m, done\u001b[0K\n",
            "Progress: resolved \u001b[96m502\u001b[39m, reused \u001b[96m0\u001b[39m, downloaded \u001b[96m91\u001b[39m, added \u001b[96m82\u001b[39m\n",
            "\u001b[1AProgress: resolved \u001b[96m502\u001b[39m, reused \u001b[96m0\u001b[39m, downloaded \u001b[96m94\u001b[39m, added \u001b[96m82\u001b[39m\n",
            "\u001b[1AProgress: resolved \u001b[96m502\u001b[39m, reused \u001b[96m0\u001b[39m, downloaded \u001b[96m95\u001b[39m, added \u001b[96m82\u001b[39m\n",
            "\u001b[1AProgress: resolved \u001b[96m502\u001b[39m, reused \u001b[96m0\u001b[39m, downloaded \u001b[96m110\u001b[39m, added \u001b[96m98\u001b[39m\n",
            "\u001b[1AProgress: resolved \u001b[96m502\u001b[39m, reused \u001b[96m0\u001b[39m, downloaded \u001b[96m138\u001b[39m, added \u001b[96m131\u001b[39m\n",
            "\u001b[1AProgress: resolved \u001b[96m502\u001b[39m, reused \u001b[96m0\u001b[39m, downloaded \u001b[96m168\u001b[39m, added \u001b[96m155\u001b[39m\n",
            "\u001b[1AProgress: resolved \u001b[96m502\u001b[39m, reused \u001b[96m0\u001b[39m, downloaded \u001b[96m179\u001b[39m, added \u001b[96m175\u001b[39m\n",
            "\u001b[1AProgress: resolved \u001b[96m502\u001b[39m, reused \u001b[96m0\u001b[39m, downloaded \u001b[96m180\u001b[39m, added \u001b[96m175\u001b[39m\n",
            "\u001b[1AProgress: resolved \u001b[96m502\u001b[39m, reused \u001b[96m0\u001b[39m, downloaded \u001b[96m182\u001b[39m, added \u001b[96m176\u001b[39m\n",
            "\u001b[1AProgress: resolved \u001b[96m502\u001b[39m, reused \u001b[96m0\u001b[39m, downloaded \u001b[96m187\u001b[39m, added \u001b[96m179\u001b[39m\n",
            "\u001b[1AProgress: resolved \u001b[96m502\u001b[39m, reused \u001b[96m0\u001b[39m, downloaded \u001b[96m191\u001b[39m, added \u001b[96m179\u001b[39m\n",
            "\u001b[1AProgress: resolved \u001b[96m502\u001b[39m, reused \u001b[96m0\u001b[39m, downloaded \u001b[96m195\u001b[39m, added \u001b[96m180\u001b[39m\n",
            "\u001b[1AProgress: resolved \u001b[96m502\u001b[39m, reused \u001b[96m0\u001b[39m, downloaded \u001b[96m199\u001b[39m, added \u001b[96m186\u001b[39m\n",
            "Downloading \u001b[97m@vscode/vsce-sign-linux-x64@2.0.2\u001b[39m: \u001b[96m0.00 B\u001b[39m/\u001b[96m6.89 MB\u001b[39m\n",
            "\u001b[1ADownloading \u001b[97m@vscode/vsce-sign-linux-x64@2.0.2\u001b[39m: \u001b[96m16.38 kB\u001b[39m/\u001b[96m6.89 MB\u001b[39m\n",
            "\u001b[2AProgress: resolved \u001b[96m502\u001b[39m, reused \u001b[96m0\u001b[39m, downloaded \u001b[96m211\u001b[39m, added \u001b[96m195\u001b[39m\n",
            "\u001b[1B\u001b[2AProgress: resolved \u001b[96m502\u001b[39m, reused \u001b[96m0\u001b[39m, downloaded \u001b[96m217\u001b[39m, added \u001b[96m204\u001b[39m\n",
            "\u001b[1B\u001b[2ADownloading \u001b[97m@vscode/vsce-sign-linux-x64@2.0.2\u001b[39m: \u001b[96m6.89 MB\u001b[39m/\u001b[96m6.89 MB\u001b[39m, done\n",
            "Progress: resolved \u001b[96m502\u001b[39m, reused \u001b[96m0\u001b[39m, downloaded \u001b[96m217\u001b[39m, added \u001b[96m204\u001b[39m\u001b[0K\n",
            "\u001b[1AProgress: resolved \u001b[96m502\u001b[39m, reused \u001b[96m0\u001b[39m, downloaded \u001b[96m227\u001b[39m, added \u001b[96m212\u001b[39m\n",
            "\u001b[1AProgress: resolved \u001b[96m502\u001b[39m, reused \u001b[96m0\u001b[39m, downloaded \u001b[96m232\u001b[39m, added \u001b[96m221\u001b[39m\n",
            "\u001b[1AProgress: resolved \u001b[96m502\u001b[39m, reused \u001b[96m0\u001b[39m, downloaded \u001b[96m243\u001b[39m, added \u001b[96m230\u001b[39m\n",
            "\u001b[1AProgress: resolved \u001b[96m502\u001b[39m, reused \u001b[96m0\u001b[39m, downloaded \u001b[96m255\u001b[39m, added \u001b[96m243\u001b[39m\n",
            "\u001b[1AProgress: resolved \u001b[96m502\u001b[39m, reused \u001b[96m0\u001b[39m, downloaded \u001b[96m266\u001b[39m, added \u001b[96m251\u001b[39m\n",
            "\u001b[1AProgress: resolved \u001b[96m502\u001b[39m, reused \u001b[96m0\u001b[39m, downloaded \u001b[96m281\u001b[39m, added \u001b[96m268\u001b[39m\n",
            "\u001b[1AProgress: resolved \u001b[96m502\u001b[39m, reused \u001b[96m0\u001b[39m, downloaded \u001b[96m298\u001b[39m, added \u001b[96m284\u001b[39m\n",
            "\u001b[1AProgress: resolved \u001b[96m502\u001b[39m, reused \u001b[96m0\u001b[39m, downloaded \u001b[96m317\u001b[39m, added \u001b[96m304\u001b[39m\n",
            "\u001b[1AProgress: resolved \u001b[96m502\u001b[39m, reused \u001b[96m0\u001b[39m, downloaded \u001b[96m340\u001b[39m, added \u001b[96m334\u001b[39m\n",
            "\u001b[1AProgress: resolved \u001b[96m502\u001b[39m, reused \u001b[96m0\u001b[39m, downloaded \u001b[96m348\u001b[39m, added \u001b[96m337\u001b[39m\n",
            "\u001b[1AProgress: resolved \u001b[96m502\u001b[39m, reused \u001b[96m0\u001b[39m, downloaded \u001b[96m349\u001b[39m, added \u001b[96m337\u001b[39m\n",
            "\u001b[1AProgress: resolved \u001b[96m502\u001b[39m, reused \u001b[96m0\u001b[39m, downloaded \u001b[96m350\u001b[39m, added \u001b[96m337\u001b[39m\n",
            "\u001b[1AProgress: resolved \u001b[96m502\u001b[39m, reused \u001b[96m0\u001b[39m, downloaded \u001b[96m359\u001b[39m, added \u001b[96m344\u001b[39m\n",
            "\u001b[1AProgress: resolved \u001b[96m502\u001b[39m, reused \u001b[96m0\u001b[39m, downloaded \u001b[96m360\u001b[39m, added \u001b[96m348\u001b[39m\n",
            "\u001b[1AProgress: resolved \u001b[96m502\u001b[39m, reused \u001b[96m0\u001b[39m, downloaded \u001b[96m362\u001b[39m, added \u001b[96m348\u001b[39m\n",
            "\u001b[1AProgress: resolved \u001b[96m502\u001b[39m, reused \u001b[96m0\u001b[39m, downloaded \u001b[96m364\u001b[39m, added \u001b[96m348\u001b[39m\n",
            "\u001b[1AProgress: resolved \u001b[96m502\u001b[39m, reused \u001b[96m0\u001b[39m, downloaded \u001b[96m364\u001b[39m, added \u001b[96m349\u001b[39m\n",
            "\u001b[1AProgress: resolved \u001b[96m502\u001b[39m, reused \u001b[96m0\u001b[39m, downloaded \u001b[96m365\u001b[39m, added \u001b[96m349\u001b[39m\n",
            "\u001b[1AProgress: resolved \u001b[96m502\u001b[39m, reused \u001b[96m0\u001b[39m, downloaded \u001b[96m376\u001b[39m, added \u001b[96m360\u001b[39m\n",
            "\u001b[1AProgress: resolved \u001b[96m502\u001b[39m, reused \u001b[96m0\u001b[39m, downloaded \u001b[96m388\u001b[39m, added \u001b[96m375\u001b[39m\n",
            "\u001b[1AProgress: resolved \u001b[96m502\u001b[39m, reused \u001b[96m0\u001b[39m, downloaded \u001b[96m399\u001b[39m, added \u001b[96m387\u001b[39m\n",
            "\u001b[1AProgress: resolved \u001b[96m502\u001b[39m, reused \u001b[96m0\u001b[39m, downloaded \u001b[96m415\u001b[39m, added \u001b[96m404\u001b[39m\n",
            "\u001b[1AProgress: resolved \u001b[96m502\u001b[39m, reused \u001b[96m0\u001b[39m, downloaded \u001b[96m421\u001b[39m, added \u001b[96m412\u001b[39m\n",
            "\u001b[1AProgress: resolved \u001b[96m502\u001b[39m, reused \u001b[96m0\u001b[39m, downloaded \u001b[96m435\u001b[39m, added \u001b[96m421\u001b[39m\n",
            "\u001b[1AProgress: resolved \u001b[96m502\u001b[39m, reused \u001b[96m0\u001b[39m, downloaded \u001b[96m448\u001b[39m, added \u001b[96m435\u001b[39m\n",
            "\u001b[1AProgress: resolved \u001b[96m502\u001b[39m, reused \u001b[96m0\u001b[39m, downloaded \u001b[96m471\u001b[39m, added \u001b[96m462\u001b[39m\n",
            "\u001b[1AProgress: resolved \u001b[96m502\u001b[39m, reused \u001b[96m0\u001b[39m, downloaded \u001b[96m477\u001b[39m, added \u001b[96m469\u001b[39m\n",
            "\u001b[1AProgress: resolved \u001b[96m502\u001b[39m, reused \u001b[96m0\u001b[39m, downloaded \u001b[96m484\u001b[39m, added \u001b[96m476\u001b[39m\n",
            "\u001b[1AProgress: resolved \u001b[96m502\u001b[39m, reused \u001b[96m0\u001b[39m, downloaded \u001b[96m491\u001b[39m, added \u001b[96m477\u001b[39m\n",
            "\u001b[1AProgress: resolved \u001b[96m502\u001b[39m, reused \u001b[96m0\u001b[39m, downloaded \u001b[96m493\u001b[39m, added \u001b[96m484\u001b[39m\n",
            "\u001b[1AProgress: resolved \u001b[96m502\u001b[39m, reused \u001b[96m0\u001b[39m, downloaded \u001b[96m502\u001b[39m, added \u001b[96m490\u001b[39m\n",
            "\u001b[1AProgress: resolved \u001b[96m502\u001b[39m, reused \u001b[96m0\u001b[39m, downloaded \u001b[96m502\u001b[39m, added \u001b[96m502\u001b[39m, done\n",
            "\n",
            "\u001b[96mdependencies:\u001b[39m\n",
            "\u001b[32m+\u001b[39m @codingame/monaco-vscode-editor-service-override \u001b[90m3.2.3\u001b[39m\n",
            "\u001b[32m+\u001b[39m @codingame/monaco-vscode-keybindings-service-override \u001b[90m3.2.3\u001b[39m\n",
            "\u001b[32m+\u001b[39m @faker-js/faker \u001b[90m9.4.0\u001b[39m\n",
            "\u001b[32m+\u001b[39m @guyo13/langium-utils \u001b[90m1.1.1\u001b[39m\n",
            "\u001b[32m+\u001b[39m chalk \u001b[90m5.3.0\u001b[39m\n",
            "\u001b[32m+\u001b[39m commander \u001b[90m11.0.0\u001b[39m\n",
            "\u001b[32m+\u001b[39m langium \u001b[90m3.3.0\u001b[39m\n",
            "\u001b[32m+\u001b[39m monaco-editor <- @codingame/monaco-vscode-editor-api \u001b[90m3.2.3\u001b[39m\n",
            "\u001b[32m+\u001b[39m monaco-editor-wrapper \u001b[90m4.0.2\u001b[39m\n",
            "\u001b[32m+\u001b[39m monaco-languageclient \u001b[90m8.1.1\u001b[39m\n",
            "\u001b[32m+\u001b[39m prettier \u001b[90m3.4.2\u001b[39m\n",
            "\u001b[32m+\u001b[39m tree-sitter \u001b[90m0.22.4\u001b[39m\n",
            "\u001b[32m+\u001b[39m tree-sitter-javascript \u001b[90m0.23.1\u001b[39m\n",
            "\u001b[32m+\u001b[39m vscode-languageclient \u001b[90m9.0.1\u001b[39m\n",
            "\u001b[32m+\u001b[39m vscode-languageserver \u001b[90m9.0.1\u001b[39m\n",
            "\u001b[32m+\u001b[39m zod \u001b[90m3.24.1\u001b[39m\n",
            "\n",
            "\u001b[96mdevDependencies:\u001b[39m\n",
            "\u001b[32m+\u001b[39m @codingame/esbuild-import-meta-url-plugin \u001b[90m1.0.2\u001b[39m\n",
            "\u001b[32m+\u001b[39m @types/node \u001b[90m18.19.70\u001b[39m\n",
            "\u001b[32m+\u001b[39m @types/vscode \u001b[90m1.67.0\u001b[39m\n",
            "\u001b[32m+\u001b[39m @typescript-eslint/eslint-plugin \u001b[90m7.3.1\u001b[39m\n",
            "\u001b[32m+\u001b[39m @typescript-eslint/parser \u001b[90m7.3.1\u001b[39m\n",
            "\u001b[32m+\u001b[39m @vscode/vsce \u001b[90m3.2.1\u001b[39m\n",
            "\u001b[32m+\u001b[39m concurrently \u001b[90m8.2.2\u001b[39m\n",
            "\u001b[32m+\u001b[39m dependency-cruiser \u001b[90m16.9.0\u001b[39m\n",
            "\u001b[32m+\u001b[39m esbuild \u001b[90m0.20.2\u001b[39m\n",
            "\u001b[32m+\u001b[39m eslint \u001b[90m8.57.1\u001b[39m\n",
            "\u001b[32m+\u001b[39m http-server \u001b[90m14.1.1\u001b[39m\n",
            "\u001b[32m+\u001b[39m langium-cli \u001b[90m3.3.0\u001b[39m\n",
            "\u001b[32m+\u001b[39m typescript \u001b[90m5.1.6\u001b[39m\n",
            "\u001b[32m+\u001b[39m vite \u001b[90m5.2.14\u001b[39m\n",
            "\u001b[32m+\u001b[39m vitest \u001b[90m1.4.0\u001b[39m\n",
            "\u001b[32m+\u001b[39m vscode <- @codingame/monaco-vscode-api \u001b[90m3.2.3\u001b[39m\n",
            "\u001b[32m+\u001b[39m vscode-languageserver-types \u001b[90m3.17.5\u001b[39m\n",
            "\n",
            "The following dependencies have build scripts that were ignored: @vscode/vsce-sign, esbuild, keytar, tree-sitter, tree-sitter-javascript\n",
            "To allow the execution of build scripts for these packages, add their names to \"pnpm.onlyBuiltDependencies\" in your \"package.json\", then run \"pnpm rebuild\"\n",
            "\n",
            "Done in 22.8s\n",
            "\n",
            "> form-lang@0.0.1 gb /content/Form-Lang\n",
            "> corepack pnpm run langium:generate && corepack pnpm run build\n",
            "\n",
            "\n",
            "> form-lang@0.0.1 langium:generate /content/Form-Lang\n",
            "> langium generate\n",
            "\n",
            "Reading config from \u001b[37m\u001b[1m/content/Form-Lang/langium-config.json\u001b[22m\u001b[39m\n",
            "Writing generated files to \u001b[37m\u001b[1m/content/Form-Lang/src/language/generated\u001b[22m\u001b[39m\n",
            "Writing textmate grammar to \u001b[37m\u001b[1m/content/Form-Lang/syntaxes/form-lang.tmLanguage.json\u001b[22m\u001b[39m\n",
            "Writing monarch grammar to \u001b[37m\u001b[1m/content/Form-Lang/src/syntaxes/form-lang.monarch.ts\u001b[22m\u001b[39m\n",
            "[\u001b[90m22:36:35\u001b[39m] Langium generator finished \u001b[32m\u001b[1msuccessfully\u001b[22m\u001b[39m in 459ms\n",
            "\n",
            "> form-lang@0.0.1 build /content/Form-Lang\n",
            "> tsc -b tsconfig.src.json && node esbuild.mjs\n",
            "\n",
            "[22:36:45] Build succeeded\n",
            "Building types\n",
            "[22:36:45] Build succeeded\n",
            "package.json created at /content/Form-Lang/out/esm/package.json\n",
            "[22:36:45] Build succeeded\n",
            "package.json created at /content/Form-Lang/out/cjs/package.json\n",
            "\n",
            "Declaration emit succeeded.\n"
          ]
        }
      ],
      "source": [
        "!cd Form-Lang && corepack install && corepack pnpm install && corepack pnpm run gb"
      ]
    },
    {
      "cell_type": "code",
      "execution_count": 9,
      "id": "WPA2vJdeskqh",
      "metadata": {
        "colab": {
          "base_uri": "https://localhost:8080/"
        },
        "collapsed": true,
        "id": "WPA2vJdeskqh",
        "jupyter": {
          "outputs_hidden": true
        },
        "outputId": "cc8ac5ea-eb0e-46de-f7d4-e30c034615eb"
      },
      "outputs": [
        {
          "output_type": "stream",
          "name": "stdout",
          "text": [
            "Lockfile is up to date, resolution step is skipped\n",
            "Progress: resolved \u001b[96m1\u001b[39m, reused \u001b[96m0\u001b[39m, downloaded \u001b[96m0\u001b[39m, added \u001b[96m0\u001b[39m\n",
            "\u001b[1APackages: \u001b[32m+69\u001b[39m\u001b[0K\n",
            "\n",
            "Progress: resolved \u001b[96m1\u001b[39m, reused \u001b[96m0\u001b[39m, downloaded \u001b[96m0\u001b[39m, added \u001b[96m0\u001b[39m\n",
            "\u001b[1AProgress: resolved \u001b[96m69\u001b[39m, reused \u001b[96m0\u001b[39m, downloaded \u001b[96m0\u001b[39m, added \u001b[96m0\u001b[39m\n",
            "\u001b[1AProgress: resolved \u001b[96m69\u001b[39m, reused \u001b[96m9\u001b[39m, downloaded \u001b[96m0\u001b[39m, added \u001b[96m0\u001b[39m\n",
            "\u001b[1AProgress: resolved \u001b[96m69\u001b[39m, reused \u001b[96m23\u001b[39m, downloaded \u001b[96m0\u001b[39m, added \u001b[96m0\u001b[39m\n",
            "\u001b[1AProgress: resolved \u001b[96m69\u001b[39m, reused \u001b[96m23\u001b[39m, downloaded \u001b[96m15\u001b[39m, added \u001b[96m22\u001b[39m\n",
            "\u001b[1AProgress: resolved \u001b[96m69\u001b[39m, reused \u001b[96m23\u001b[39m, downloaded \u001b[96m45\u001b[39m, added \u001b[96m60\u001b[39m\n",
            "\u001b[1AProgress: resolved \u001b[96m69\u001b[39m, reused \u001b[96m23\u001b[39m, downloaded \u001b[96m46\u001b[39m, added \u001b[96m69\u001b[39m, done\n",
            "\n",
            "\u001b[96mdependencies:\u001b[39m\n",
            "\u001b[32m+\u001b[39m express \u001b[90m4.21.2\u001b[39m\n",
            "\n",
            "Done in 1.7s\n"
          ]
        }
      ],
      "source": [
        "!cd Form-Lang/ml && pnpm install"
      ]
    },
    {
      "cell_type": "markdown",
      "id": "0GvS9UKKrTdw",
      "metadata": {
        "id": "0GvS9UKKrTdw"
      },
      "source": [
        "#### Run the FormLang HTTP API server"
      ]
    },
    {
      "cell_type": "code",
      "execution_count": 10,
      "id": "4MbS22mIp4Uf",
      "metadata": {
        "colab": {
          "base_uri": "https://localhost:8080/"
        },
        "id": "4MbS22mIp4Uf",
        "outputId": "a1c5883b-8f7f-4d59-d4e5-3ab3c959b779"
      },
      "outputs": [
        {
          "output_type": "execute_result",
          "data": {
            "text/plain": [
              "<Popen: returncode: None args: ['bun', 'lib_server.cjs']>"
            ]
          },
          "metadata": {},
          "execution_count": 10
        }
      ],
      "source": [
        "from subprocess import Popen, PIPE\n",
        "import sys\n",
        "\n",
        "def run_js_with_bun(js_file, cwd=None):\n",
        "  \"\"\"\n",
        "  Runs a JavaScript file using Bun as a subprocess.\n",
        "\n",
        "  Args:\n",
        "    js_file: The path to the JavaScript file.\n",
        "    cwd: The working directory for the child process.\n",
        "         If None, the current working directory is used.\n",
        "  \"\"\"\n",
        "  try:\n",
        "    # Execute the JavaScript file using Bun with specified working directory\n",
        "    process = Popen(['bun', js_file], stdout=PIPE, cwd=cwd)\n",
        "    return process\n",
        "\n",
        "  except FileNotFoundError:\n",
        "    print(\"Error: Bun not found. Please ensure Bun is installed and in your PATH.\")\n",
        "  except Exception as e:\n",
        "    import traceback\n",
        "    traceback.print_exc()\n",
        "    print(\"An unexpected error occurred:\", e)\n",
        "\n",
        "http_server = run_js_with_bun(\"lib_server.cjs\", \"Form-Lang/ml\")\n",
        "http_server"
      ]
    },
    {
      "cell_type": "code",
      "execution_count": 18,
      "id": "hFMW6ykOw9bd",
      "metadata": {
        "colab": {
          "base_uri": "https://localhost:8080/"
        },
        "id": "hFMW6ykOw9bd",
        "outputId": "983b8ed6-e68d-4228-8a73-9e27d1f1d217"
      },
      "outputs": [
        {
          "output_type": "stream",
          "name": "stdout",
          "text": [
            "{\"status\":\"ok\",\"result\":{\"ast\":\"{\\\"$type\\\":\\\"Form\\\",\\\"name\\\":\\\"helloWorld\\\",\\\"component\\\":{\\\"$type\\\":\\\"FieldComponentDef\\\",\\\"componentId\\\":{\\\"$ref\\\":\\\"#/components@0\\\"},\\\"componentPropsKeys\\\":[],\\\"componentPropsValues\\\":[]},\\\"children\\\":[]}\"}}"
          ]
        }
      ],
      "source": [
        "!curl -d '{\"sourceCode\": \"component hey{} form helloWorld {comp hey}\"}' -H \"content-type: application/json\" \"http://localhost:3000/compute/ast\""
      ]
    },
    {
      "cell_type": "markdown",
      "id": "d876cfa3-6129-4884-be8b-bc0c23f4a511",
      "metadata": {
        "id": "d876cfa3-6129-4884-be8b-bc0c23f4a511"
      },
      "source": [
        "## Project imports"
      ]
    },
    {
      "cell_type": "code",
      "execution_count": 12,
      "id": "3a9e9c44-4a3b-494b-bb86-63178d67bdd7",
      "metadata": {
        "id": "3a9e9c44-4a3b-494b-bb86-63178d67bdd7"
      },
      "outputs": [],
      "source": [
        "import asyncio\n",
        "import time\n",
        "import re\n",
        "import functools\n",
        "import json\n",
        "from pprint import pprint\n",
        "from transformers import pipeline, AutoTokenizer, AutoModelForCausalLM\n",
        "from datasets import Dataset, load_dataset\n",
        "from huggingface_hub import login\n",
        "import evaluate\n",
        "import pythonmonkey as pm\n",
        "import pandas as pd\n",
        "import requests\n",
        "import torch\n",
        "try:\n",
        "    # If using locally from the `ml` folder\n",
        "    formlang_lib = pm.require(\"../out/cjs/lib/index\")\n",
        "except:\n",
        "    # If using in Colab:\n",
        "    formlang_lib = pm.require(\"./Form-Lang/out/cjs/lib/index\")"
      ]
    },
    {
      "cell_type": "markdown",
      "id": "290ca50b-0174-4c0b-9ecc-79f04eb910ad",
      "metadata": {
        "id": "290ca50b-0174-4c0b-9ecc-79f04eb910ad"
      },
      "source": [
        "## Login to Huggingface Hub"
      ]
    },
    {
      "cell_type": "code",
      "execution_count": 19,
      "id": "93c12f91-3626-4985-af97-0d69b4418475",
      "metadata": {
        "colab": {
          "base_uri": "https://localhost:8080/",
          "height": 17,
          "referenced_widgets": [
            "b8692a1abf74450480f64ee824dd6d7a",
            "0adf4671b9254e6aa90fb1cd3e40e8d0",
            "36380d55fa5142e3a515567e44bd48fb",
            "d918ece58939414fa191ff623c43a57a",
            "281b16f1fc3745a895666a3ea084134f",
            "63d068f03b6542f99013067fc5924fda",
            "a2ba8eafbfe041038c85791703bbbc5f",
            "f3096c47f4e54230968e9ea107d45914",
            "cc0e3706c31f46ac8481eb938cc7d2e3",
            "4441d95b8eaf4d639fc71a6da66afe6c",
            "71029784da3b4ee9b1a6e624f627d0c3",
            "43e052fcad744ac0a13afc0ceeef182d",
            "7e6ac1d2f8f14f73a32ef3a00fa1c6a9",
            "1db162411ee04f0784e43aabd02435bb",
            "c828e738ba9345379f917b310a244ec4",
            "423b78b04f1547edbad3e02a26e5f3c5",
            "e40e79a398c549729fb10fd097c00742",
            "dfc525ea06184992af010f25ff31b2e5",
            "89edf053960e4423bcd8eef251bfe0c7",
            "75c6a1e95d88431c90dfcd37efd4523e"
          ]
        },
        "id": "93c12f91-3626-4985-af97-0d69b4418475",
        "outputId": "8677f410-a4f5-4137-f67a-9ff878392911"
      },
      "outputs": [
        {
          "output_type": "display_data",
          "data": {
            "text/plain": [
              "VBox(children=(HTML(value='<center> <img\\nsrc=https://huggingface.co/front/assets/huggingface_logo-noborder.sv…"
            ],
            "application/vnd.jupyter.widget-view+json": {
              "version_major": 2,
              "version_minor": 0,
              "model_id": "b8692a1abf74450480f64ee824dd6d7a"
            }
          },
          "metadata": {}
        }
      ],
      "source": [
        "login()"
      ]
    },
    {
      "cell_type": "markdown",
      "id": "8e22784f-1cb2-4baf-b6ce-8daea69f835e",
      "metadata": {
        "id": "8e22784f-1cb2-4baf-b6ce-8daea69f835e"
      },
      "source": [
        "## Helper functions"
      ]
    },
    {
      "cell_type": "markdown",
      "id": "B5MZPS6si9gx",
      "metadata": {
        "id": "B5MZPS6si9gx"
      },
      "source": [
        "### Python Monkey helpers\n",
        "\n",
        "These can be used to print JavaScript objects that live inside the PythonMonkey engine."
      ]
    },
    {
      "cell_type": "code",
      "execution_count": 13,
      "id": "eb8eaa24-5aca-4030-93c5-02a9d23c90be",
      "metadata": {
        "id": "eb8eaa24-5aca-4030-93c5-02a9d23c90be"
      },
      "outputs": [],
      "source": [
        "def js_dir(something):\n",
        "    pm.globalThis.console.dir(something)\n",
        "\n",
        "def js_log(something):\n",
        "    pm.globalThis.console.log(something)"
      ]
    },
    {
      "cell_type": "markdown",
      "id": "ea0978fc-0b8c-47c7-8af5-55dafa848fb8",
      "metadata": {
        "id": "ea0978fc-0b8c-47c7-8af5-55dafa848fb8"
      },
      "source": [
        "### Computing the AST\n",
        "\n",
        "In order to check the model's output we will need to parse the output FormLang code and check it for errors. We will also use the AST to compute performance metrics. Our `get_ast` function will be used to send FormLang source code to our local HTTP API for parsing.  "
      ]
    },
    {
      "cell_type": "code",
      "execution_count": 14,
      "id": "3d5a3c28-6767-4729-8e33-0325b467bf84",
      "metadata": {
        "id": "3d5a3c28-6767-4729-8e33-0325b467bf84"
      },
      "outputs": [],
      "source": [
        "def get_ast(code, shouldCheckErrors=False):\n",
        "    result = requests.post(\"http://localhost:3000/compute/ast\", json={\"sourceCode\": code, \"shouldCheckErrors\":shouldCheckErrors}).json()\n",
        "    if not result[\"status\"] == \"ok\":\n",
        "        raise RuntimeError(\"failed\")\n",
        "    return result[\"result\"]"
      ]
    },
    {
      "cell_type": "markdown",
      "id": "b9601b8e-70d6-41f9-87be-6c1bfc0aba11",
      "metadata": {
        "id": "b9601b8e-70d6-41f9-87be-6c1bfc0aba11"
      },
      "source": [
        "# Dataset generation"
      ]
    },
    {
      "cell_type": "markdown",
      "id": "f121c668-74c8-41e1-8f9a-8f9fa8b001ef",
      "metadata": {
        "id": "f121c668-74c8-41e1-8f9a-8f9fa8b001ef"
      },
      "source": [
        "## Generating the dataset\n",
        "\n",
        "The `ProbabilisticSearchFormGenerator` is class implemeting a parameterized algorithm for randomly generating forms:\n",
        "\n",
        "* Iterate Depth-First, start with an empty form definition.\n",
        "* For each item off the frontier if the item is a Field, append it to its Parent Form.\n",
        "* If the item is a Form, generate its children and add them onto the frontier. Generate children according to the following rules:\n",
        "    * Assign to the child node $depth = parentDepth + 1$.\n",
        "    * There is a probability of $\\alpha^{d}$ of generating a random child Form where $0 \\leq \\alpha < 1$ and $d$ is the depth of the child.\n",
        "    * There is an optional parameter $D$ for defining the maximum depth for nested forms, which sets to $0$ the probability to generate a nested Form if its depth will be $D$.\n",
        "    * There is a probability of $1 - \\alpha^{d}$ of generating a random child Field.\n",
        "    * The number of generated children is a random number in the range of $[minChildren, maxChildren]$.\n",
        "    * There is a probability of $\\beta$ that a generated Field will contain a `state`.\n",
        "      * There is a probability of $\\gamma$ that a state definition will be an `array`.\n",
        "        * The number of array elements will be chosen at random from the integer interval $[amin, amax]$.\n",
        "      * There is an equal probability of the state `type` to be any of the supported built-in types.\n",
        "      * There is a probability of $\\delta$ that a state definition will contain a `default` value.\n",
        "        * If the `type` is `string` there is an $\\epsilon$ probability of the default value to be defined as `as expression`, otherwise the probability is $1$.\n",
        "* For each item off the frontier chose a random component from a set of available components.\n",
        "  * Choose at random the number of assigned component props from the range $[0, ComponentPropCount]$.\n",
        "    * For each assigned prop generate a random value with $\\epsilon$ probability of the value to be defined as `as expression`\n",
        "\n",
        "The algorithm ranomly generates the tree structure of the form which is then serialized into `FormLang` source code.\n",
        "\n",
        "Some of the main advatages of using probabilistic search is the simplicity of implementation as well as the ability to create datasets representing different distributions by adjusting the generation hyper parameters.  "
      ]
    },
    {
      "cell_type": "markdown",
      "id": "d5cf20e3-7f30-435e-8910-65029528d619",
      "metadata": {
        "id": "d5cf20e3-7f30-435e-8910-65029528d619"
      },
      "source": [
        "We start by creating a [ProbabilisticSearchFormGenerator](https://github.com/guyo13/Form-Lang/blob/react_compiler/src/generation/formGen.ts#L102) object which is implemented in JavaScript, using the default search hyper parameters and some hard-coded Component definitions.\n",
        "\n",
        "Later on we will implement a random generator for the component definitions as well."
      ]
    },
    {
      "cell_type": "code",
      "execution_count": null,
      "id": "fdb52772-4bdb-4c24-b58e-ea9b92502153",
      "metadata": {
        "id": "fdb52772-4bdb-4c24-b58e-ea9b92502153"
      },
      "outputs": [],
      "source": [
        "form_components = \"\"\"\n",
        "  component userDetailsContainer {}\n",
        "  component formContainer {}\n",
        "  component someOtherContainer {}\n",
        "  component OtherContainer2 {}\n",
        "\"\"\"\n",
        "field_components = \"\"\"\n",
        "  component myTextBox {\n",
        "    props {\n",
        "      textColor\n",
        "      textSize\n",
        "      textWeight\n",
        "      borderColor\n",
        "    }\n",
        "  }\n",
        "  component myCheckbox {\n",
        "    props {\n",
        "      size\n",
        "    }\n",
        "  }\n",
        "  component otherTextBox {}\n",
        "  component counter {\n",
        "    props {\n",
        "      style\n",
        "    }\n",
        "  }\n",
        "\"\"\"\n",
        "\n",
        "form_gen = await formlang_lib.newFormGen(formlang_lib.DEFAULT_GENERATOR_HYPER_PARAMETERS, form_components, field_components)"
      ]
    },
    {
      "cell_type": "markdown",
      "id": "431142f1-0063-48fb-8aba-0a9f92c88e71",
      "metadata": {
        "id": "431142f1-0063-48fb-8aba-0a9f92c88e71"
      },
      "source": [
        "### Create a data generation loop for the prompt data"
      ]
    },
    {
      "cell_type": "markdown",
      "id": "933e48ac-7951-4640-855e-90a9874a9e6f",
      "metadata": {
        "id": "933e48ac-7951-4640-855e-90a9874a9e6f"
      },
      "source": [
        "#### Prompt-Data generation algorithm\n",
        "\n",
        "Each training example consists of a randomly generated form, from-which we remove (or \"mask\") a random node, keep track of the removed node's parent and siblings.\n",
        "\n",
        "The goal being to create a prompt that provides the masked form and describes in English the node that needs to be added along with its location in the form.\n",
        "\n",
        "The algoithm is as follows:\n",
        "\n",
        "* Generate a random Form - outputs $F$.\n",
        "* Serialize the Form to FormLang code - outputs $s(F)$.\n",
        "* Iterate Depth-First starting at the form's root.\n",
        "  * For every node the probability of removing the node is $1 - \\zeta^{depth(node)}, (0 < \\zeta < 1)$ if no node was removed, else the probability is $ 0 $.\n",
        "  * If a node is marked to be removed, recording its surrounding context and remove it from the tree. - $F \\to (F', N, ctx(F, N))$.\n",
        "* Serialize the modified Form to FormLang code - outputs $s(F')$.\n",
        "* Generate Prompt instruction parts:\n",
        "* Serialize the removed child node into plain English - outputs $eng(N)$.\n",
        "* Serialize the Parent and Siblings nodes ids and node types (form/field) into plain English - outputs $eng(ctx(F, N))$.\n",
        "* Output a dict consisting of $s(F), s(F'), eng(N), eng(ctx(F, N))$\n",
        "\n",
        "The algorithm is implemented in TypeScript in the [generateRandomFormWithModification](https://github.com/guyo13/Form-Lang/blob/react_compiler/src/lib/generator.ts#L43) function."
      ]
    },
    {
      "cell_type": "markdown",
      "id": "14256a40-7e47-4d75-a57c-b7c73602e3fa",
      "metadata": {
        "id": "14256a40-7e47-4d75-a57c-b7c73602e3fa"
      },
      "source": [
        "We create a small dataset of 3000 random examples by using the JavaScript FormLang utilities library and the form generator object.\n",
        "\n",
        "We copy from the form generator's output only the relevant fields which will make up the LLM prompt.\n",
        "\n",
        "For each generated example we also compute the original form's AST and store it as part of the dataset."
      ]
    },
    {
      "cell_type": "code",
      "execution_count": null,
      "id": "c39a45a8-8098-4a60-b41b-af9e9a4ac223",
      "metadata": {
        "id": "c39a45a8-8098-4a60-b41b-af9e9a4ac223"
      },
      "outputs": [],
      "source": [
        "# TODO - Refactor data generator pipeline as a Python class with easy interfaces\n",
        "\n",
        "def concat_components_code_with_form_code(form_code, form_components, field_components):\n",
        "    \"\"\"Concatenates the form code with the given components code that are referenced inside of it.\"\"\"\n",
        "    return f\"{form_components}\\n{field_components}\\n{form_code}\"\n",
        "\n",
        "def create_prompt_data(generation_result, form_components, field_components):\n",
        "    data = {\n",
        "        \"originalFormCode\": concat_components_code_with_form_code(generation_result[\"serializedForm\"], form_components, field_components),\n",
        "        \"modifiedFormCode\": concat_components_code_with_form_code(generation_result[\"serializedModifiedForm\"], form_components, field_components),\n",
        "        \"removedNodeEnglish\": str(generation_result[\"removedNodeEnglish\"]),\n",
        "        \"removedNodeContextEnglish\": str(generation_result[\"removedNodeContextEnglish\"]),\n",
        "    }\n",
        "    return data\n",
        "\n",
        "def create_random_data(form_gen, form_components, field_components, num_examples=3000):\n",
        "    start_time = time.time()\n",
        "    DATA = []\n",
        "    for i in range(num_examples):\n",
        "        generation_result = formlang_lib.generateRandomFormWithModification(form_gen)\n",
        "        prompt_data = create_prompt_data(generation_result, form_components, field_components)\n",
        "        DATA.append(prompt_data)\n",
        "    # Generate the ast of each example in one batch\n",
        "    ast_time = time.time()\n",
        "    for example in DATA:\n",
        "        resp = get_ast(example[\"originalFormCode\"], True)\n",
        "        errors = resp.get('errors', [])\n",
        "        if len(errors) > 0:\n",
        "            print(f\"Error parsing generated code\", errors)\n",
        "            raise RuntimeError(\"Error parsing generated code\")\n",
        "        example[\"originalFormAst\"] = resp[\"ast\"]\n",
        "    end_time = time.time()\n",
        "    print(f\"Generation took {end_time - start_time} seconds. Total Ast generation time {end_time - ast_time} seconds\")\n",
        "    return pd.DataFrame(DATA)"
      ]
    },
    {
      "cell_type": "code",
      "execution_count": null,
      "id": "d2155ee7-8286-4e5a-8881-b72b7bb51197",
      "metadata": {
        "colab": {
          "base_uri": "https://localhost:8080/",
          "height": 224
        },
        "id": "d2155ee7-8286-4e5a-8881-b72b7bb51197",
        "outputId": "979c7be1-caf9-4bca-a6c2-7edf3fd55573"
      },
      "outputs": [
        {
          "name": "stdout",
          "output_type": "stream",
          "text": [
            "Generation took 48.5854971408844 seconds. Total Ast generation time 47.7074978351593 seconds\n"
          ]
        },
        {
          "data": {
            "application/vnd.google.colaboratory.intrinsic+json": {
              "summary": "{\n  \"name\": \"examples\",\n  \"rows\": 3000,\n  \"fields\": [\n    {\n      \"column\": \"originalFormCode\",\n      \"properties\": {\n        \"dtype\": \"string\",\n        \"num_unique_values\": 3000,\n        \"samples\": [\n          \"\\n  component userDetailsContainer {}\\n  component formContainer {}\\n  component someOtherContainer {}\\n  component OtherContainer2 {}\\n\\n\\n  component myTextBox {\\n    props {\\n      textColor\\n      textSize\\n      textWeight\\n      borderColor\\n    }\\n  }\\n  component myCheckbox {\\n    props {\\n      size\\n    }\\n  }\\n  component otherTextBox {}\\n  component counter {\\n    props {\\n      style\\n    }\\n  }\\n\\nform Ew {\\n\\tcomp userDetailsContainer \\n\\t\\n\\tfield O_ {\\n\\t\\tstate string[]\\n\\t\\tcomp counter \\n\\t\\t\\n\\t}\\n\\tfield k_ {\\n\\t\\tcomp otherTextBox \\n\\t\\t\\n\\t}\\n\\tfield Kw {\\n\\t\\tcomp myTextBox \\n\\t\\t\\n\\t}\\n\\tfield Yww {\\n\\t\\tstate string default \\\"'Cesar Kihn'\\\" as expression\\n\\t\\tcomp counter style=\\\"#493826\\\"\\n\\t\\t\\n\\t}\\n}\\n\",\n          \"\\n  component userDetailsContainer {}\\n  component formContainer {}\\n  component someOtherContainer {}\\n  component OtherContainer2 {}\\n\\n\\n  component myTextBox {\\n    props {\\n      textColor\\n      textSize\\n      textWeight\\n      borderColor\\n    }\\n  }\\n  component myCheckbox {\\n    props {\\n      size\\n    }\\n  }\\n  component otherTextBox {}\\n  component counter {\\n    props {\\n      style\\n    }\\n  }\\n\\nform bww {\\n\\tcomp userDetailsContainer \\n\\t\\n\\tform P__ww {\\n\\t\\tcomp formContainer \\n\\t\\t\\n\\t\\tfield Bw_ww__ww {\\n\\t\\t\\tstate boolean default \\\"false\\\" as expression\\n\\t\\t\\tcomp myCheckbox size=\\\"'hello'.replace('l', 'L')\\\" as expression\\n\\t\\t\\t\\n\\t\\t}\\n\\t\\tform d {\\n\\t\\t\\tcomp OtherContainer2 \\n\\t\\t\\t\\n\\t\\t\\tfield sw {\\n\\t\\t\\t\\tstate boolean default \\\"true\\\" as expression\\n\\t\\t\\t\\tcomp otherTextBox \\n\\t\\t\\t\\t\\n\\t\\t\\t}\\n\\t\\t\\tfield Sw {\\n\\t\\t\\t\\tcomp myCheckbox size=\\\"'Hello'.toLowerCase()\\\" as expression\\n\\t\\t\\t\\t\\n\\t\\t\\t}\\n\\t\\t}\\n\\n\\t\\tfield hw {\\n\\t\\t\\tcomp myCheckbox size=\\\"#53736e\\\"\\n\\t\\t\\t\\n\\t\\t}\\n\\t\\tfield c {\\n\\t\\t\\tstate boolean default \\\"false\\\" as expression\\n\\t\\t\\tcomp myCheckbox size=\\\"#281537\\\"\\n\\t\\t\\t\\n\\t\\t}\\n\\t\\tfield a_ {\\n\\t\\t\\tstate string default \\\"Pauline Ortiz\\\"\\n\\t\\t\\tcomp myCheckbox \\n\\t\\t\\t\\n\\t\\t}\\n\\t\\tfield Iw_ {\\n\\t\\t\\tstate string\\n\\t\\t\\tcomp myCheckbox \\n\\t\\t\\t\\n\\t\\t}\\n\\t}\\n\\n\\tfield i_ {\\n\\t\\tstate string\\n\\t\\tcomp otherTextBox \\n\\t\\t\\n\\t}\\n}\\n\",\n          \"\\n  component userDetailsContainer {}\\n  component formContainer {}\\n  component someOtherContainer {}\\n  component OtherContainer2 {}\\n\\n\\n  component myTextBox {\\n    props {\\n      textColor\\n      textSize\\n      textWeight\\n      borderColor\\n    }\\n  }\\n  component myCheckbox {\\n    props {\\n      size\\n    }\\n  }\\n  component otherTextBox {}\\n  component counter {\\n    props {\\n      style\\n    }\\n  }\\n\\nform f {\\n\\tcomp userDetailsContainer \\n\\t\\n\\tfield o {\\n\\t\\tstate string default \\\"Jodi O'Kon\\\"\\n\\t\\tcomp myCheckbox \\n\\t\\t\\n\\t}\\n\\tfield Dw {\\n\\t\\tcomp otherTextBox \\n\\t\\t\\n\\t}\\n}\\n\"\n        ],\n        \"semantic_type\": \"\",\n        \"description\": \"\"\n      }\n    },\n    {\n      \"column\": \"modifiedFormCode\",\n      \"properties\": {\n        \"dtype\": \"string\",\n        \"num_unique_values\": 2928,\n        \"samples\": [\n          \"\\n  component userDetailsContainer {}\\n  component formContainer {}\\n  component someOtherContainer {}\\n  component OtherContainer2 {}\\n\\n\\n  component myTextBox {\\n    props {\\n      textColor\\n      textSize\\n      textWeight\\n      borderColor\\n    }\\n  }\\n  component myCheckbox {\\n    props {\\n      size\\n    }\\n  }\\n  component otherTextBox {}\\n  component counter {\\n    props {\\n      style\\n    }\\n  }\\n\\nform m {\\n\\tcomp OtherContainer2 \\n\\t\\n\\tfield k {\\n\\t\\tstate number[]\\n\\t\\tcomp myCheckbox size=\\\"2 ** 4\\\" as expression\\n\\t\\t\\n\\t}\\n}\\n\",\n          \"\\n  component userDetailsContainer {}\\n  component formContainer {}\\n  component someOtherContainer {}\\n  component OtherContainer2 {}\\n\\n\\n  component myTextBox {\\n    props {\\n      textColor\\n      textSize\\n      textWeight\\n      borderColor\\n    }\\n  }\\n  component myCheckbox {\\n    props {\\n      size\\n    }\\n  }\\n  component otherTextBox {}\\n  component counter {\\n    props {\\n      style\\n    }\\n  }\\n\\nform Uw {\\n\\tcomp formContainer \\n\\t\\n\\tform Pww_w_www {\\n\\t\\tcomp userDetailsContainer \\n\\t\\t\\n\\t\\tfield xw {\\n\\t\\t\\tstate number[] default \\\"[]\\\" as expression\\n\\t\\t\\tcomp myCheckbox \\n\\t\\t\\t\\n\\t\\t}\\n\\t}\\n\\n\\tfield jw {\\n\\t\\tcomp myTextBox textWeight=\\\"[1, 2, 3].splice(1, 1)\\\" as expression textSize=\\\"10 < 20 ? 'yes' : 'no'\\\" as expression\\n\\t\\t\\n\\t}\\n\\tfield Rww_w__ww_w_w___w__w____ {\\n\\t\\tcomp myCheckbox size=\\\"#5e3c15\\\"\\n\\t\\t\\n\\t}\\n\\tfield Tww {\\n\\t\\tstate string\\n\\t\\tcomp otherTextBox \\n\\t\\t\\n\\t}\\n\\tform x_ {\\n\\t\\tcomp OtherContainer2 \\n\\t\\t\\n\\t\\tfield N {\\n\\t\\t\\tcomp myCheckbox size=\\\"#585a41\\\"\\n\\t\\t\\t\\n\\t\\t}\\n\\t\\tfield S {\\n\\t\\t\\tstate number\\n\\t\\t\\tcomp counter \\n\\t\\t\\t\\n\\t\\t}\\n\\t}\\n\\n\\tform rw {\\n\\t\\tcomp OtherContainer2 \\n\\t\\t\\n\\t\\tfield E_w_ww_w_www_ww_ {\\n\\t\\t\\tcomp otherTextBox \\n\\t\\t\\t\\n\\t\\t}\\n\\t}\\n\\n}\\n\",\n          \"\\n  component userDetailsContainer {}\\n  component formContainer {}\\n  component someOtherContainer {}\\n  component OtherContainer2 {}\\n\\n\\n  component myTextBox {\\n    props {\\n      textColor\\n      textSize\\n      textWeight\\n      borderColor\\n    }\\n  }\\n  component myCheckbox {\\n    props {\\n      size\\n    }\\n  }\\n  component otherTextBox {}\\n  component counter {\\n    props {\\n      style\\n    }\\n  }\\n\\nform y {\\n\\tcomp userDetailsContainer \\n\\t\\n\\tform x {\\n\\t\\tcomp OtherContainer2 \\n\\t\\t\\n\\t\\tfield Oww {\\n\\t\\t\\tstate number\\n\\t\\t\\tcomp myCheckbox \\n\\t\\t\\t\\n\\t\\t}\\n\\t\\tfield W_ {\\n\\t\\t\\tstate boolean[] default \\\"[true]\\\" as expression\\n\\t\\t\\tcomp myTextBox borderColor=\\\"1 + 2 * 3\\\" as expression\\n\\t\\t\\t\\n\\t\\t}\\n\\t\\tfield jww_ww {\\n\\t\\t\\tstate string[] default \\\"[\\\\\\\"Nathan Wiegand\\\\\\\",\\\\\\\"Eva Rice\\\\\\\",\\\\\\\"George Gottlieb\\\\\\\"]\\\" as expression\\n\\t\\t\\tcomp counter style=\\\"#6f215d\\\"\\n\\t\\t\\t\\n\\t\\t}\\n\\t\\tfield Sw_wwwwwwwwww {\\n\\t\\t\\tcomp myTextBox borderColor=\\\"#4a7939\\\" textWeight=\\\"#751b20\\\"\\n\\t\\t\\t\\n\\t\\t}\\n\\t}\\n\\n\\tfield G {\\n\\t\\tstate string\\n\\t\\tcomp otherTextBox \\n\\t\\t\\n\\t}\\n\\tfield S_ {\\n\\t\\tstate number\\n\\t\\tcomp otherTextBox \\n\\t\\t\\n\\t}\\n\\tfield h {\\n\\t\\tstate number\\n\\t\\tcomp counter \\n\\t\\t\\n\\t}\\n\\tform J {\\n\\t\\tcomp userDetailsContainer \\n\\t\\t\\n\\n\\t}\\n\\n\\tfield p {\\n\\t\\tcomp myCheckbox size=\\\"#116217\\\"\\n\\t\\t\\n\\t}\\n}\\n\"\n        ],\n        \"semantic_type\": \"\",\n        \"description\": \"\"\n      }\n    },\n    {\n      \"column\": \"removedNodeEnglish\",\n      \"properties\": {\n        \"dtype\": \"string\",\n        \"num_unique_values\": 2925,\n        \"samples\": [\n          \"\\t\\ta field whose id is 'g' with state of type: 'number', and is using the component 'otherTextBox'.\\n\\t\\t\",\n          \"\\ta form whose id is 'u' using the component 'formContainer',with no children.\\n\\t\",\n          \"\\t\\ta field whose id is 'L_w' with state of type: 'number' and its default value is: 0.6831019370482362 (and is passed as an expression), and is using the component 'otherTextBox'.\\n\\t\\t\"\n        ],\n        \"semantic_type\": \"\",\n        \"description\": \"\"\n      }\n    },\n    {\n      \"column\": \"removedNodeContextEnglish\",\n      \"properties\": {\n        \"dtype\": \"string\",\n        \"num_unique_values\": 2729,\n        \"samples\": [\n          \"* is a child of the form whose id is 'dw_'.\\n* is located after the field whose id is 'O'\",\n          \"* is a child of the form whose id is 'ww'.\\n* is located before the field whose id is 'gw'\",\n          \"* is a child of the form whose id is 'E'.\\n* is located between the field whose id is 'Mww' and the field whose id is 'Y_w'\"\n        ],\n        \"semantic_type\": \"\",\n        \"description\": \"\"\n      }\n    },\n    {\n      \"column\": \"originalFormAst\",\n      \"properties\": {\n        \"dtype\": \"string\",\n        \"num_unique_values\": 3000,\n        \"samples\": [\n          \"{\\\"$type\\\":\\\"Form\\\",\\\"name\\\":\\\"Ew\\\",\\\"component\\\":{\\\"$type\\\":\\\"FieldComponentDef\\\",\\\"componentId\\\":{\\\"$ref\\\":\\\"#/components@0\\\"},\\\"componentPropsKeys\\\":[],\\\"componentPropsValues\\\":[]},\\\"children\\\":[{\\\"$type\\\":\\\"Field\\\",\\\"name\\\":\\\"O_\\\",\\\"state\\\":{\\\"$type\\\":\\\"FieldStateDef\\\",\\\"isArray\\\":true,\\\"type\\\":\\\"string\\\"},\\\"component\\\":{\\\"$type\\\":\\\"FieldComponentDef\\\",\\\"componentId\\\":{\\\"$ref\\\":\\\"#/components@7\\\"},\\\"componentPropsKeys\\\":[],\\\"componentPropsValues\\\":[]}},{\\\"$type\\\":\\\"Field\\\",\\\"name\\\":\\\"k_\\\",\\\"component\\\":{\\\"$type\\\":\\\"FieldComponentDef\\\",\\\"componentId\\\":{\\\"$ref\\\":\\\"#/components@6\\\"},\\\"componentPropsKeys\\\":[],\\\"componentPropsValues\\\":[]}},{\\\"$type\\\":\\\"Field\\\",\\\"name\\\":\\\"Kw\\\",\\\"component\\\":{\\\"$type\\\":\\\"FieldComponentDef\\\",\\\"componentId\\\":{\\\"$ref\\\":\\\"#/components@4\\\"},\\\"componentPropsKeys\\\":[],\\\"componentPropsValues\\\":[]}},{\\\"$type\\\":\\\"Field\\\",\\\"name\\\":\\\"Yww\\\",\\\"state\\\":{\\\"$type\\\":\\\"FieldStateDef\\\",\\\"type\\\":\\\"string\\\",\\\"defaultValue\\\":{\\\"$type\\\":\\\"ValueExpression\\\",\\\"value\\\":\\\"'Cesar Kihn'\\\",\\\"isExpression\\\":true},\\\"isArray\\\":false},\\\"component\\\":{\\\"$type\\\":\\\"FieldComponentDef\\\",\\\"componentId\\\":{\\\"$ref\\\":\\\"#/components@7\\\"},\\\"componentPropsKeys\\\":[{\\\"$type\\\":\\\"ComponentPropKey\\\",\\\"key\\\":\\\"style\\\"}],\\\"componentPropsValues\\\":[{\\\"$type\\\":\\\"ValueExpression\\\",\\\"value\\\":\\\"#493826\\\",\\\"isExpression\\\":false}]}}]}\",\n          \"{\\\"$type\\\":\\\"Form\\\",\\\"name\\\":\\\"bww\\\",\\\"component\\\":{\\\"$type\\\":\\\"FieldComponentDef\\\",\\\"componentId\\\":{\\\"$ref\\\":\\\"#/components@0\\\"},\\\"componentPropsKeys\\\":[],\\\"componentPropsValues\\\":[]},\\\"children\\\":[{\\\"$type\\\":\\\"Form\\\",\\\"name\\\":\\\"P__ww\\\",\\\"component\\\":{\\\"$type\\\":\\\"FieldComponentDef\\\",\\\"componentId\\\":{\\\"$ref\\\":\\\"#/components@1\\\"},\\\"componentPropsKeys\\\":[],\\\"componentPropsValues\\\":[]},\\\"children\\\":[{\\\"$type\\\":\\\"Field\\\",\\\"name\\\":\\\"Bw_ww__ww\\\",\\\"state\\\":{\\\"$type\\\":\\\"FieldStateDef\\\",\\\"type\\\":\\\"boolean\\\",\\\"defaultValue\\\":{\\\"$type\\\":\\\"ValueExpression\\\",\\\"value\\\":\\\"false\\\",\\\"isExpression\\\":true},\\\"isArray\\\":false},\\\"component\\\":{\\\"$type\\\":\\\"FieldComponentDef\\\",\\\"componentId\\\":{\\\"$ref\\\":\\\"#/components@5\\\"},\\\"componentPropsKeys\\\":[{\\\"$type\\\":\\\"ComponentPropKey\\\",\\\"key\\\":\\\"size\\\"}],\\\"componentPropsValues\\\":[{\\\"$type\\\":\\\"ValueExpression\\\",\\\"value\\\":\\\"'hello'.replace('l', 'L')\\\",\\\"isExpression\\\":true}]}},{\\\"$type\\\":\\\"Form\\\",\\\"name\\\":\\\"d\\\",\\\"component\\\":{\\\"$type\\\":\\\"FieldComponentDef\\\",\\\"componentId\\\":{\\\"$ref\\\":\\\"#/components@3\\\"},\\\"componentPropsKeys\\\":[],\\\"componentPropsValues\\\":[]},\\\"children\\\":[{\\\"$type\\\":\\\"Field\\\",\\\"name\\\":\\\"sw\\\",\\\"state\\\":{\\\"$type\\\":\\\"FieldStateDef\\\",\\\"type\\\":\\\"boolean\\\",\\\"defaultValue\\\":{\\\"$type\\\":\\\"ValueExpression\\\",\\\"value\\\":\\\"true\\\",\\\"isExpression\\\":true},\\\"isArray\\\":false},\\\"component\\\":{\\\"$type\\\":\\\"FieldComponentDef\\\",\\\"componentId\\\":{\\\"$ref\\\":\\\"#/components@6\\\"},\\\"componentPropsKeys\\\":[],\\\"componentPropsValues\\\":[]}},{\\\"$type\\\":\\\"Field\\\",\\\"name\\\":\\\"Sw\\\",\\\"component\\\":{\\\"$type\\\":\\\"FieldComponentDef\\\",\\\"componentId\\\":{\\\"$ref\\\":\\\"#/components@5\\\"},\\\"componentPropsKeys\\\":[{\\\"$type\\\":\\\"ComponentPropKey\\\",\\\"key\\\":\\\"size\\\"}],\\\"componentPropsValues\\\":[{\\\"$type\\\":\\\"ValueExpression\\\",\\\"value\\\":\\\"'Hello'.toLowerCase()\\\",\\\"isExpression\\\":true}]}}]},{\\\"$type\\\":\\\"Field\\\",\\\"name\\\":\\\"hw\\\",\\\"component\\\":{\\\"$type\\\":\\\"FieldComponentDef\\\",\\\"componentId\\\":{\\\"$ref\\\":\\\"#/components@5\\\"},\\\"componentPropsKeys\\\":[{\\\"$type\\\":\\\"ComponentPropKey\\\",\\\"key\\\":\\\"size\\\"}],\\\"componentPropsValues\\\":[{\\\"$type\\\":\\\"ValueExpression\\\",\\\"value\\\":\\\"#53736e\\\",\\\"isExpression\\\":false}]}},{\\\"$type\\\":\\\"Field\\\",\\\"name\\\":\\\"c\\\",\\\"state\\\":{\\\"$type\\\":\\\"FieldStateDef\\\",\\\"type\\\":\\\"boolean\\\",\\\"defaultValue\\\":{\\\"$type\\\":\\\"ValueExpression\\\",\\\"value\\\":\\\"false\\\",\\\"isExpression\\\":true},\\\"isArray\\\":false},\\\"component\\\":{\\\"$type\\\":\\\"FieldComponentDef\\\",\\\"componentId\\\":{\\\"$ref\\\":\\\"#/components@5\\\"},\\\"componentPropsKeys\\\":[{\\\"$type\\\":\\\"ComponentPropKey\\\",\\\"key\\\":\\\"size\\\"}],\\\"componentPropsValues\\\":[{\\\"$type\\\":\\\"ValueExpression\\\",\\\"value\\\":\\\"#281537\\\",\\\"isExpression\\\":false}]}},{\\\"$type\\\":\\\"Field\\\",\\\"name\\\":\\\"a_\\\",\\\"state\\\":{\\\"$type\\\":\\\"FieldStateDef\\\",\\\"type\\\":\\\"string\\\",\\\"defaultValue\\\":{\\\"$type\\\":\\\"ValueExpression\\\",\\\"value\\\":\\\"Pauline Ortiz\\\",\\\"isExpression\\\":false},\\\"isArray\\\":false},\\\"component\\\":{\\\"$type\\\":\\\"FieldComponentDef\\\",\\\"componentId\\\":{\\\"$ref\\\":\\\"#/components@5\\\"},\\\"componentPropsKeys\\\":[],\\\"componentPropsValues\\\":[]}},{\\\"$type\\\":\\\"Field\\\",\\\"name\\\":\\\"Iw_\\\",\\\"state\\\":{\\\"$type\\\":\\\"FieldStateDef\\\",\\\"type\\\":\\\"string\\\",\\\"isArray\\\":false},\\\"component\\\":{\\\"$type\\\":\\\"FieldComponentDef\\\",\\\"componentId\\\":{\\\"$ref\\\":\\\"#/components@5\\\"},\\\"componentPropsKeys\\\":[],\\\"componentPropsValues\\\":[]}}]},{\\\"$type\\\":\\\"Field\\\",\\\"name\\\":\\\"i_\\\",\\\"state\\\":{\\\"$type\\\":\\\"FieldStateDef\\\",\\\"type\\\":\\\"string\\\",\\\"isArray\\\":false},\\\"component\\\":{\\\"$type\\\":\\\"FieldComponentDef\\\",\\\"componentId\\\":{\\\"$ref\\\":\\\"#/components@6\\\"},\\\"componentPropsKeys\\\":[],\\\"componentPropsValues\\\":[]}}]}\",\n          \"{\\\"$type\\\":\\\"Form\\\",\\\"name\\\":\\\"f\\\",\\\"component\\\":{\\\"$type\\\":\\\"FieldComponentDef\\\",\\\"componentId\\\":{\\\"$ref\\\":\\\"#/components@0\\\"},\\\"componentPropsKeys\\\":[],\\\"componentPropsValues\\\":[]},\\\"children\\\":[{\\\"$type\\\":\\\"Field\\\",\\\"name\\\":\\\"o\\\",\\\"state\\\":{\\\"$type\\\":\\\"FieldStateDef\\\",\\\"type\\\":\\\"string\\\",\\\"defaultValue\\\":{\\\"$type\\\":\\\"ValueExpression\\\",\\\"value\\\":\\\"Jodi O'Kon\\\",\\\"isExpression\\\":false},\\\"isArray\\\":false},\\\"component\\\":{\\\"$type\\\":\\\"FieldComponentDef\\\",\\\"componentId\\\":{\\\"$ref\\\":\\\"#/components@5\\\"},\\\"componentPropsKeys\\\":[],\\\"componentPropsValues\\\":[]}},{\\\"$type\\\":\\\"Field\\\",\\\"name\\\":\\\"Dw\\\",\\\"component\\\":{\\\"$type\\\":\\\"FieldComponentDef\\\",\\\"componentId\\\":{\\\"$ref\\\":\\\"#/components@6\\\"},\\\"componentPropsKeys\\\":[],\\\"componentPropsValues\\\":[]}}]}\"\n        ],\n        \"semantic_type\": \"\",\n        \"description\": \"\"\n      }\n    }\n  ]\n}",
              "type": "dataframe",
              "variable_name": "examples"
            },
            "text/html": [
              "\n",
              "  <div id=\"df-7b9ad215-8fba-412c-b1e0-6cc937b4b5aa\" class=\"colab-df-container\">\n",
              "    <div>\n",
              "<style scoped>\n",
              "    .dataframe tbody tr th:only-of-type {\n",
              "        vertical-align: middle;\n",
              "    }\n",
              "\n",
              "    .dataframe tbody tr th {\n",
              "        vertical-align: top;\n",
              "    }\n",
              "\n",
              "    .dataframe thead th {\n",
              "        text-align: right;\n",
              "    }\n",
              "</style>\n",
              "<table border=\"1\" class=\"dataframe\">\n",
              "  <thead>\n",
              "    <tr style=\"text-align: right;\">\n",
              "      <th></th>\n",
              "      <th>originalFormCode</th>\n",
              "      <th>modifiedFormCode</th>\n",
              "      <th>removedNodeEnglish</th>\n",
              "      <th>removedNodeContextEnglish</th>\n",
              "      <th>originalFormAst</th>\n",
              "    </tr>\n",
              "  </thead>\n",
              "  <tbody>\n",
              "    <tr>\n",
              "      <th>0</th>\n",
              "      <td>\\n  component userDetailsContainer {}\\n  compo...</td>\n",
              "      <td>\\n  component userDetailsContainer {}\\n  compo...</td>\n",
              "      <td>\\ta field whose id is 'Z_' with state of type:...</td>\n",
              "      <td>* is a child of the form whose id is 'Bw'.\\n* ...</td>\n",
              "      <td>{\"$type\":\"Form\",\"name\":\"Bw\",\"component\":{\"$typ...</td>\n",
              "    </tr>\n",
              "    <tr>\n",
              "      <th>1</th>\n",
              "      <td>\\n  component userDetailsContainer {}\\n  compo...</td>\n",
              "      <td>\\n  component userDetailsContainer {}\\n  compo...</td>\n",
              "      <td>\\ta field whose id is 'p_' with state of type:...</td>\n",
              "      <td>* is a child of the form whose id is 'Cw'.\\n* ...</td>\n",
              "      <td>{\"$type\":\"Form\",\"name\":\"Cw\",\"component\":{\"$typ...</td>\n",
              "    </tr>\n",
              "    <tr>\n",
              "      <th>2</th>\n",
              "      <td>\\n  component userDetailsContainer {}\\n  compo...</td>\n",
              "      <td>\\n  component userDetailsContainer {}\\n  compo...</td>\n",
              "      <td>\\ta field whose id is 'F' using the component ...</td>\n",
              "      <td>* is a child of the form whose id is 'Vw'.\\n* ...</td>\n",
              "      <td>{\"$type\":\"Form\",\"name\":\"Vw\",\"component\":{\"$typ...</td>\n",
              "    </tr>\n",
              "    <tr>\n",
              "      <th>3</th>\n",
              "      <td>\\n  component userDetailsContainer {}\\n  compo...</td>\n",
              "      <td>\\n  component userDetailsContainer {}\\n  compo...</td>\n",
              "      <td>\\t\\ta field whose id is 'Pww_ww___w' using the...</td>\n",
              "      <td>* is a child of the form whose id is 'd'.\\n* i...</td>\n",
              "      <td>{\"$type\":\"Form\",\"name\":\"Lw\",\"component\":{\"$typ...</td>\n",
              "    </tr>\n",
              "    <tr>\n",
              "      <th>4</th>\n",
              "      <td>\\n  component userDetailsContainer {}\\n  compo...</td>\n",
              "      <td>\\n  component userDetailsContainer {}\\n  compo...</td>\n",
              "      <td>\\ta field whose id is 'nw' with state of type:...</td>\n",
              "      <td>* is a child of the form whose id is 'a_'.\\n* ...</td>\n",
              "      <td>{\"$type\":\"Form\",\"name\":\"a_\",\"component\":{\"$typ...</td>\n",
              "    </tr>\n",
              "  </tbody>\n",
              "</table>\n",
              "</div>\n",
              "    <div class=\"colab-df-buttons\">\n",
              "\n",
              "  <div class=\"colab-df-container\">\n",
              "    <button class=\"colab-df-convert\" onclick=\"convertToInteractive('df-7b9ad215-8fba-412c-b1e0-6cc937b4b5aa')\"\n",
              "            title=\"Convert this dataframe to an interactive table.\"\n",
              "            style=\"display:none;\">\n",
              "\n",
              "  <svg xmlns=\"http://www.w3.org/2000/svg\" height=\"24px\" viewBox=\"0 -960 960 960\">\n",
              "    <path d=\"M120-120v-720h720v720H120Zm60-500h600v-160H180v160Zm220 220h160v-160H400v160Zm0 220h160v-160H400v160ZM180-400h160v-160H180v160Zm440 0h160v-160H620v160ZM180-180h160v-160H180v160Zm440 0h160v-160H620v160Z\"/>\n",
              "  </svg>\n",
              "    </button>\n",
              "\n",
              "  <style>\n",
              "    .colab-df-container {\n",
              "      display:flex;\n",
              "      gap: 12px;\n",
              "    }\n",
              "\n",
              "    .colab-df-convert {\n",
              "      background-color: #E8F0FE;\n",
              "      border: none;\n",
              "      border-radius: 50%;\n",
              "      cursor: pointer;\n",
              "      display: none;\n",
              "      fill: #1967D2;\n",
              "      height: 32px;\n",
              "      padding: 0 0 0 0;\n",
              "      width: 32px;\n",
              "    }\n",
              "\n",
              "    .colab-df-convert:hover {\n",
              "      background-color: #E2EBFA;\n",
              "      box-shadow: 0px 1px 2px rgba(60, 64, 67, 0.3), 0px 1px 3px 1px rgba(60, 64, 67, 0.15);\n",
              "      fill: #174EA6;\n",
              "    }\n",
              "\n",
              "    .colab-df-buttons div {\n",
              "      margin-bottom: 4px;\n",
              "    }\n",
              "\n",
              "    [theme=dark] .colab-df-convert {\n",
              "      background-color: #3B4455;\n",
              "      fill: #D2E3FC;\n",
              "    }\n",
              "\n",
              "    [theme=dark] .colab-df-convert:hover {\n",
              "      background-color: #434B5C;\n",
              "      box-shadow: 0px 1px 3px 1px rgba(0, 0, 0, 0.15);\n",
              "      filter: drop-shadow(0px 1px 2px rgba(0, 0, 0, 0.3));\n",
              "      fill: #FFFFFF;\n",
              "    }\n",
              "  </style>\n",
              "\n",
              "    <script>\n",
              "      const buttonEl =\n",
              "        document.querySelector('#df-7b9ad215-8fba-412c-b1e0-6cc937b4b5aa button.colab-df-convert');\n",
              "      buttonEl.style.display =\n",
              "        google.colab.kernel.accessAllowed ? 'block' : 'none';\n",
              "\n",
              "      async function convertToInteractive(key) {\n",
              "        const element = document.querySelector('#df-7b9ad215-8fba-412c-b1e0-6cc937b4b5aa');\n",
              "        const dataTable =\n",
              "          await google.colab.kernel.invokeFunction('convertToInteractive',\n",
              "                                                    [key], {});\n",
              "        if (!dataTable) return;\n",
              "\n",
              "        const docLinkHtml = 'Like what you see? Visit the ' +\n",
              "          '<a target=\"_blank\" href=https://colab.research.google.com/notebooks/data_table.ipynb>data table notebook</a>'\n",
              "          + ' to learn more about interactive tables.';\n",
              "        element.innerHTML = '';\n",
              "        dataTable['output_type'] = 'display_data';\n",
              "        await google.colab.output.renderOutput(dataTable, element);\n",
              "        const docLink = document.createElement('div');\n",
              "        docLink.innerHTML = docLinkHtml;\n",
              "        element.appendChild(docLink);\n",
              "      }\n",
              "    </script>\n",
              "  </div>\n",
              "\n",
              "\n",
              "<div id=\"df-e1974187-994c-4ba0-8cbe-f3cafd0ff845\">\n",
              "  <button class=\"colab-df-quickchart\" onclick=\"quickchart('df-e1974187-994c-4ba0-8cbe-f3cafd0ff845')\"\n",
              "            title=\"Suggest charts\"\n",
              "            style=\"display:none;\">\n",
              "\n",
              "<svg xmlns=\"http://www.w3.org/2000/svg\" height=\"24px\"viewBox=\"0 0 24 24\"\n",
              "     width=\"24px\">\n",
              "    <g>\n",
              "        <path d=\"M19 3H5c-1.1 0-2 .9-2 2v14c0 1.1.9 2 2 2h14c1.1 0 2-.9 2-2V5c0-1.1-.9-2-2-2zM9 17H7v-7h2v7zm4 0h-2V7h2v10zm4 0h-2v-4h2v4z\"/>\n",
              "    </g>\n",
              "</svg>\n",
              "  </button>\n",
              "\n",
              "<style>\n",
              "  .colab-df-quickchart {\n",
              "      --bg-color: #E8F0FE;\n",
              "      --fill-color: #1967D2;\n",
              "      --hover-bg-color: #E2EBFA;\n",
              "      --hover-fill-color: #174EA6;\n",
              "      --disabled-fill-color: #AAA;\n",
              "      --disabled-bg-color: #DDD;\n",
              "  }\n",
              "\n",
              "  [theme=dark] .colab-df-quickchart {\n",
              "      --bg-color: #3B4455;\n",
              "      --fill-color: #D2E3FC;\n",
              "      --hover-bg-color: #434B5C;\n",
              "      --hover-fill-color: #FFFFFF;\n",
              "      --disabled-bg-color: #3B4455;\n",
              "      --disabled-fill-color: #666;\n",
              "  }\n",
              "\n",
              "  .colab-df-quickchart {\n",
              "    background-color: var(--bg-color);\n",
              "    border: none;\n",
              "    border-radius: 50%;\n",
              "    cursor: pointer;\n",
              "    display: none;\n",
              "    fill: var(--fill-color);\n",
              "    height: 32px;\n",
              "    padding: 0;\n",
              "    width: 32px;\n",
              "  }\n",
              "\n",
              "  .colab-df-quickchart:hover {\n",
              "    background-color: var(--hover-bg-color);\n",
              "    box-shadow: 0 1px 2px rgba(60, 64, 67, 0.3), 0 1px 3px 1px rgba(60, 64, 67, 0.15);\n",
              "    fill: var(--button-hover-fill-color);\n",
              "  }\n",
              "\n",
              "  .colab-df-quickchart-complete:disabled,\n",
              "  .colab-df-quickchart-complete:disabled:hover {\n",
              "    background-color: var(--disabled-bg-color);\n",
              "    fill: var(--disabled-fill-color);\n",
              "    box-shadow: none;\n",
              "  }\n",
              "\n",
              "  .colab-df-spinner {\n",
              "    border: 2px solid var(--fill-color);\n",
              "    border-color: transparent;\n",
              "    border-bottom-color: var(--fill-color);\n",
              "    animation:\n",
              "      spin 1s steps(1) infinite;\n",
              "  }\n",
              "\n",
              "  @keyframes spin {\n",
              "    0% {\n",
              "      border-color: transparent;\n",
              "      border-bottom-color: var(--fill-color);\n",
              "      border-left-color: var(--fill-color);\n",
              "    }\n",
              "    20% {\n",
              "      border-color: transparent;\n",
              "      border-left-color: var(--fill-color);\n",
              "      border-top-color: var(--fill-color);\n",
              "    }\n",
              "    30% {\n",
              "      border-color: transparent;\n",
              "      border-left-color: var(--fill-color);\n",
              "      border-top-color: var(--fill-color);\n",
              "      border-right-color: var(--fill-color);\n",
              "    }\n",
              "    40% {\n",
              "      border-color: transparent;\n",
              "      border-right-color: var(--fill-color);\n",
              "      border-top-color: var(--fill-color);\n",
              "    }\n",
              "    60% {\n",
              "      border-color: transparent;\n",
              "      border-right-color: var(--fill-color);\n",
              "    }\n",
              "    80% {\n",
              "      border-color: transparent;\n",
              "      border-right-color: var(--fill-color);\n",
              "      border-bottom-color: var(--fill-color);\n",
              "    }\n",
              "    90% {\n",
              "      border-color: transparent;\n",
              "      border-bottom-color: var(--fill-color);\n",
              "    }\n",
              "  }\n",
              "</style>\n",
              "\n",
              "  <script>\n",
              "    async function quickchart(key) {\n",
              "      const quickchartButtonEl =\n",
              "        document.querySelector('#' + key + ' button');\n",
              "      quickchartButtonEl.disabled = true;  // To prevent multiple clicks.\n",
              "      quickchartButtonEl.classList.add('colab-df-spinner');\n",
              "      try {\n",
              "        const charts = await google.colab.kernel.invokeFunction(\n",
              "            'suggestCharts', [key], {});\n",
              "      } catch (error) {\n",
              "        console.error('Error during call to suggestCharts:', error);\n",
              "      }\n",
              "      quickchartButtonEl.classList.remove('colab-df-spinner');\n",
              "      quickchartButtonEl.classList.add('colab-df-quickchart-complete');\n",
              "    }\n",
              "    (() => {\n",
              "      let quickchartButtonEl =\n",
              "        document.querySelector('#df-e1974187-994c-4ba0-8cbe-f3cafd0ff845 button');\n",
              "      quickchartButtonEl.style.display =\n",
              "        google.colab.kernel.accessAllowed ? 'block' : 'none';\n",
              "    })();\n",
              "  </script>\n",
              "</div>\n",
              "\n",
              "    </div>\n",
              "  </div>\n"
            ],
            "text/plain": [
              "                                    originalFormCode  \\\n",
              "0  \\n  component userDetailsContainer {}\\n  compo...   \n",
              "1  \\n  component userDetailsContainer {}\\n  compo...   \n",
              "2  \\n  component userDetailsContainer {}\\n  compo...   \n",
              "3  \\n  component userDetailsContainer {}\\n  compo...   \n",
              "4  \\n  component userDetailsContainer {}\\n  compo...   \n",
              "\n",
              "                                    modifiedFormCode  \\\n",
              "0  \\n  component userDetailsContainer {}\\n  compo...   \n",
              "1  \\n  component userDetailsContainer {}\\n  compo...   \n",
              "2  \\n  component userDetailsContainer {}\\n  compo...   \n",
              "3  \\n  component userDetailsContainer {}\\n  compo...   \n",
              "4  \\n  component userDetailsContainer {}\\n  compo...   \n",
              "\n",
              "                                  removedNodeEnglish  \\\n",
              "0  \\ta field whose id is 'Z_' with state of type:...   \n",
              "1  \\ta field whose id is 'p_' with state of type:...   \n",
              "2  \\ta field whose id is 'F' using the component ...   \n",
              "3  \\t\\ta field whose id is 'Pww_ww___w' using the...   \n",
              "4  \\ta field whose id is 'nw' with state of type:...   \n",
              "\n",
              "                           removedNodeContextEnglish  \\\n",
              "0  * is a child of the form whose id is 'Bw'.\\n* ...   \n",
              "1  * is a child of the form whose id is 'Cw'.\\n* ...   \n",
              "2  * is a child of the form whose id is 'Vw'.\\n* ...   \n",
              "3  * is a child of the form whose id is 'd'.\\n* i...   \n",
              "4  * is a child of the form whose id is 'a_'.\\n* ...   \n",
              "\n",
              "                                     originalFormAst  \n",
              "0  {\"$type\":\"Form\",\"name\":\"Bw\",\"component\":{\"$typ...  \n",
              "1  {\"$type\":\"Form\",\"name\":\"Cw\",\"component\":{\"$typ...  \n",
              "2  {\"$type\":\"Form\",\"name\":\"Vw\",\"component\":{\"$typ...  \n",
              "3  {\"$type\":\"Form\",\"name\":\"Lw\",\"component\":{\"$typ...  \n",
              "4  {\"$type\":\"Form\",\"name\":\"a_\",\"component\":{\"$typ...  "
            ]
          },
          "execution_count": 45,
          "metadata": {},
          "output_type": "execute_result"
        }
      ],
      "source": [
        "examples = create_random_data(form_gen, form_components, field_components, 3000)\n",
        "examples.head()"
      ]
    },
    {
      "cell_type": "markdown",
      "id": "af103185-183e-4d5b-b3d1-68777f4553c9",
      "metadata": {
        "id": "af103185-183e-4d5b-b3d1-68777f4553c9",
        "jp-MarkdownHeadingCollapsed": true
      },
      "source": [
        "#### Example generated FormLang code and its AST"
      ]
    },
    {
      "cell_type": "code",
      "execution_count": null,
      "id": "6e3ef8c5-5492-4c2a-8cb7-f3ebb49156bf",
      "metadata": {
        "colab": {
          "base_uri": "https://localhost:8080/",
          "height": 105
        },
        "id": "6e3ef8c5-5492-4c2a-8cb7-f3ebb49156bf",
        "outputId": "b3ab3f3a-cadc-4873-870b-d788613c0a67"
      },
      "outputs": [
        {
          "data": {
            "application/vnd.google.colaboratory.intrinsic+json": {
              "type": "string"
            },
            "text/plain": [
              "'\\n  component userDetailsContainer {}\\n  component formContainer {}\\n  component someOtherContainer {}\\n  component OtherContainer2 {}\\n\\n\\n  component myTextBox {\\n    props {\\n      textColor\\n      textSize\\n      textWeight\\n      borderColor\\n    }\\n  }\\n  component myCheckbox {\\n    props {\\n      size\\n    }\\n  }\\n  component otherTextBox {}\\n  component counter {\\n    props {\\n      style\\n    }\\n  }\\n\\nform T_ {\\n\\tcomp userDetailsContainer \\n\\t\\n\\tform H {\\n\\t\\tcomp userDetailsContainer \\n\\t\\t\\n\\t\\tfield Ew {\\n\\t\\t\\tcomp otherTextBox \\n\\t\\t\\t\\n\\t\\t}\\n\\t\\tfield Rw_w {\\n\\t\\t\\tcomp otherTextBox \\n\\t\\t\\t\\n\\t\\t}\\n\\t\\tfield F_ {\\n\\t\\t\\tstate number\\n\\t\\t\\tcomp myTextBox borderColor=\"#301410\" textSize=\"(() => 97.65823852274963)()\" as expression\\n\\t\\t\\t\\n\\t\\t}\\n\\t}\\n\\n\\tfield p___ {\\n\\t\\tcomp otherTextBox \\n\\t\\t\\n\\t}\\n\\tfield vw {\\n\\t\\tstate string default \"Frankie Kessler\"\\n\\t\\tcomp counter style=\"#5b426f\"\\n\\t\\t\\n\\t}\\n\\tfield f {\\n\\t\\tcomp counter \\n\\t\\t\\n\\t}\\n\\tfield q {\\n\\t\\tstate boolean\\n\\t\\tcomp counter style=\"#515f42\"\\n\\t\\t\\n\\t}\\n\\tfield Rw {\\n\\t\\tstate string\\n\\t\\tcomp myTextBox \\n\\t\\t\\n\\t}\\n}\\n'"
            ]
          },
          "execution_count": 46,
          "metadata": {},
          "output_type": "execute_result"
        }
      ],
      "source": [
        "examples[\"originalFormCode\"][1132]"
      ]
    },
    {
      "cell_type": "code",
      "execution_count": null,
      "id": "61cdb18b-bdce-4e20-8df0-f08f6304fceb",
      "metadata": {
        "colab": {
          "base_uri": "https://localhost:8080/",
          "height": 105
        },
        "id": "61cdb18b-bdce-4e20-8df0-f08f6304fceb",
        "outputId": "2a1ec13a-dd0a-41ce-9e49-2dec4d2e1918"
      },
      "outputs": [
        {
          "data": {
            "application/vnd.google.colaboratory.intrinsic+json": {
              "type": "string"
            },
            "text/plain": [
              "'{\"$type\":\"Form\",\"name\":\"T_\",\"component\":{\"$type\":\"FieldComponentDef\",\"componentId\":{\"$ref\":\"#/components@0\"},\"componentPropsKeys\":[],\"componentPropsValues\":[]},\"children\":[{\"$type\":\"Form\",\"name\":\"H\",\"component\":{\"$type\":\"FieldComponentDef\",\"componentId\":{\"$ref\":\"#/components@0\"},\"componentPropsKeys\":[],\"componentPropsValues\":[]},\"children\":[{\"$type\":\"Field\",\"name\":\"Ew\",\"component\":{\"$type\":\"FieldComponentDef\",\"componentId\":{\"$ref\":\"#/components@6\"},\"componentPropsKeys\":[],\"componentPropsValues\":[]}},{\"$type\":\"Field\",\"name\":\"Rw_w\",\"component\":{\"$type\":\"FieldComponentDef\",\"componentId\":{\"$ref\":\"#/components@6\"},\"componentPropsKeys\":[],\"componentPropsValues\":[]}},{\"$type\":\"Field\",\"name\":\"F_\",\"state\":{\"$type\":\"FieldStateDef\",\"type\":\"number\",\"isArray\":false},\"component\":{\"$type\":\"FieldComponentDef\",\"componentId\":{\"$ref\":\"#/components@4\"},\"componentPropsKeys\":[{\"$type\":\"ComponentPropKey\",\"key\":\"borderColor\"},{\"$type\":\"ComponentPropKey\",\"key\":\"textSize\"}],\"componentPropsValues\":[{\"$type\":\"ValueExpression\",\"value\":\"#301410\",\"isExpression\":false},{\"$type\":\"ValueExpression\",\"value\":\"(() => 97.65823852274963)()\",\"isExpression\":true}]}}]},{\"$type\":\"Field\",\"name\":\"p___\",\"component\":{\"$type\":\"FieldComponentDef\",\"componentId\":{\"$ref\":\"#/components@6\"},\"componentPropsKeys\":[],\"componentPropsValues\":[]}},{\"$type\":\"Field\",\"name\":\"vw\",\"state\":{\"$type\":\"FieldStateDef\",\"type\":\"string\",\"defaultValue\":{\"$type\":\"ValueExpression\",\"value\":\"Frankie Kessler\",\"isExpression\":false},\"isArray\":false},\"component\":{\"$type\":\"FieldComponentDef\",\"componentId\":{\"$ref\":\"#/components@7\"},\"componentPropsKeys\":[{\"$type\":\"ComponentPropKey\",\"key\":\"style\"}],\"componentPropsValues\":[{\"$type\":\"ValueExpression\",\"value\":\"#5b426f\",\"isExpression\":false}]}},{\"$type\":\"Field\",\"name\":\"f\",\"component\":{\"$type\":\"FieldComponentDef\",\"componentId\":{\"$ref\":\"#/components@7\"},\"componentPropsKeys\":[],\"componentPropsValues\":[]}},{\"$type\":\"Field\",\"name\":\"q\",\"state\":{\"$type\":\"FieldStateDef\",\"type\":\"boolean\",\"isArray\":false},\"component\":{\"$type\":\"FieldComponentDef\",\"componentId\":{\"$ref\":\"#/components@7\"},\"componentPropsKeys\":[{\"$type\":\"ComponentPropKey\",\"key\":\"style\"}],\"componentPropsValues\":[{\"$type\":\"ValueExpression\",\"value\":\"#515f42\",\"isExpression\":false}]}},{\"$type\":\"Field\",\"name\":\"Rw\",\"state\":{\"$type\":\"FieldStateDef\",\"type\":\"string\",\"isArray\":false},\"component\":{\"$type\":\"FieldComponentDef\",\"componentId\":{\"$ref\":\"#/components@4\"},\"componentPropsKeys\":[],\"componentPropsValues\":[]}}]}'"
            ]
          },
          "execution_count": 47,
          "metadata": {},
          "output_type": "execute_result"
        }
      ],
      "source": [
        "examples[\"originalFormAst\"][1132]"
      ]
    },
    {
      "cell_type": "markdown",
      "id": "d8c8e36d-0ee3-4d57-bcd1-212548bdd2f7",
      "metadata": {
        "id": "d8c8e36d-0ee3-4d57-bcd1-212548bdd2f7"
      },
      "source": [
        "### Creating the user prompts\n",
        "\n",
        "For each example in our synthetic dataset, we create the user prompt which will be used to train and test the LLM.\n",
        "\n",
        "The user prompt consists of the modified FormLang code taken from each of our dataset examples along with the english description of the form element to add and its location (context) in the form."
      ]
    },
    {
      "cell_type": "code",
      "execution_count": null,
      "id": "-1vqgTopCaOR",
      "metadata": {
        "id": "-1vqgTopCaOR"
      },
      "outputs": [],
      "source": [
        "def create_prompt(row):\n",
        "    return (\n",
        "            \"```FormLang\\n\"\n",
        "            f\"{row['modifiedFormCode']}\\n\"\n",
        "            \"```\\n\"\n",
        "            \"The description of the form element you need to add:\\n\"\n",
        "            f\"{row['removedNodeEnglish']}\\n\"\n",
        "            \"The description of the context in the form where you should add the element:\\n\"\n",
        "            f\"The element to be added:\\n{row['removedNodeContextEnglish']}\\n\"\n",
        "           )"
      ]
    },
    {
      "cell_type": "code",
      "execution_count": null,
      "id": "b8064d9a-d883-43e5-bb7a-81f81929cffd",
      "metadata": {
        "colab": {
          "base_uri": "https://localhost:8080/",
          "height": 293
        },
        "id": "b8064d9a-d883-43e5-bb7a-81f81929cffd",
        "outputId": "509bf67b-a531-4dda-c696-d98f0e0210bc"
      },
      "outputs": [
        {
          "data": {
            "application/vnd.google.colaboratory.intrinsic+json": {
              "summary": "{\n  \"name\": \"examples\",\n  \"rows\": 3000,\n  \"fields\": [\n    {\n      \"column\": \"originalFormCode\",\n      \"properties\": {\n        \"dtype\": \"string\",\n        \"num_unique_values\": 3000,\n        \"samples\": [\n          \"\\n  component userDetailsContainer {}\\n  component formContainer {}\\n  component someOtherContainer {}\\n  component OtherContainer2 {}\\n\\n\\n  component myTextBox {\\n    props {\\n      textColor\\n      textSize\\n      textWeight\\n      borderColor\\n    }\\n  }\\n  component myCheckbox {\\n    props {\\n      size\\n    }\\n  }\\n  component otherTextBox {}\\n  component counter {\\n    props {\\n      style\\n    }\\n  }\\n\\nform Ew {\\n\\tcomp userDetailsContainer \\n\\t\\n\\tfield O_ {\\n\\t\\tstate string[]\\n\\t\\tcomp counter \\n\\t\\t\\n\\t}\\n\\tfield k_ {\\n\\t\\tcomp otherTextBox \\n\\t\\t\\n\\t}\\n\\tfield Kw {\\n\\t\\tcomp myTextBox \\n\\t\\t\\n\\t}\\n\\tfield Yww {\\n\\t\\tstate string default \\\"'Cesar Kihn'\\\" as expression\\n\\t\\tcomp counter style=\\\"#493826\\\"\\n\\t\\t\\n\\t}\\n}\\n\",\n          \"\\n  component userDetailsContainer {}\\n  component formContainer {}\\n  component someOtherContainer {}\\n  component OtherContainer2 {}\\n\\n\\n  component myTextBox {\\n    props {\\n      textColor\\n      textSize\\n      textWeight\\n      borderColor\\n    }\\n  }\\n  component myCheckbox {\\n    props {\\n      size\\n    }\\n  }\\n  component otherTextBox {}\\n  component counter {\\n    props {\\n      style\\n    }\\n  }\\n\\nform bww {\\n\\tcomp userDetailsContainer \\n\\t\\n\\tform P__ww {\\n\\t\\tcomp formContainer \\n\\t\\t\\n\\t\\tfield Bw_ww__ww {\\n\\t\\t\\tstate boolean default \\\"false\\\" as expression\\n\\t\\t\\tcomp myCheckbox size=\\\"'hello'.replace('l', 'L')\\\" as expression\\n\\t\\t\\t\\n\\t\\t}\\n\\t\\tform d {\\n\\t\\t\\tcomp OtherContainer2 \\n\\t\\t\\t\\n\\t\\t\\tfield sw {\\n\\t\\t\\t\\tstate boolean default \\\"true\\\" as expression\\n\\t\\t\\t\\tcomp otherTextBox \\n\\t\\t\\t\\t\\n\\t\\t\\t}\\n\\t\\t\\tfield Sw {\\n\\t\\t\\t\\tcomp myCheckbox size=\\\"'Hello'.toLowerCase()\\\" as expression\\n\\t\\t\\t\\t\\n\\t\\t\\t}\\n\\t\\t}\\n\\n\\t\\tfield hw {\\n\\t\\t\\tcomp myCheckbox size=\\\"#53736e\\\"\\n\\t\\t\\t\\n\\t\\t}\\n\\t\\tfield c {\\n\\t\\t\\tstate boolean default \\\"false\\\" as expression\\n\\t\\t\\tcomp myCheckbox size=\\\"#281537\\\"\\n\\t\\t\\t\\n\\t\\t}\\n\\t\\tfield a_ {\\n\\t\\t\\tstate string default \\\"Pauline Ortiz\\\"\\n\\t\\t\\tcomp myCheckbox \\n\\t\\t\\t\\n\\t\\t}\\n\\t\\tfield Iw_ {\\n\\t\\t\\tstate string\\n\\t\\t\\tcomp myCheckbox \\n\\t\\t\\t\\n\\t\\t}\\n\\t}\\n\\n\\tfield i_ {\\n\\t\\tstate string\\n\\t\\tcomp otherTextBox \\n\\t\\t\\n\\t}\\n}\\n\",\n          \"\\n  component userDetailsContainer {}\\n  component formContainer {}\\n  component someOtherContainer {}\\n  component OtherContainer2 {}\\n\\n\\n  component myTextBox {\\n    props {\\n      textColor\\n      textSize\\n      textWeight\\n      borderColor\\n    }\\n  }\\n  component myCheckbox {\\n    props {\\n      size\\n    }\\n  }\\n  component otherTextBox {}\\n  component counter {\\n    props {\\n      style\\n    }\\n  }\\n\\nform f {\\n\\tcomp userDetailsContainer \\n\\t\\n\\tfield o {\\n\\t\\tstate string default \\\"Jodi O'Kon\\\"\\n\\t\\tcomp myCheckbox \\n\\t\\t\\n\\t}\\n\\tfield Dw {\\n\\t\\tcomp otherTextBox \\n\\t\\t\\n\\t}\\n}\\n\"\n        ],\n        \"semantic_type\": \"\",\n        \"description\": \"\"\n      }\n    },\n    {\n      \"column\": \"modifiedFormCode\",\n      \"properties\": {\n        \"dtype\": \"string\",\n        \"num_unique_values\": 2928,\n        \"samples\": [\n          \"\\n  component userDetailsContainer {}\\n  component formContainer {}\\n  component someOtherContainer {}\\n  component OtherContainer2 {}\\n\\n\\n  component myTextBox {\\n    props {\\n      textColor\\n      textSize\\n      textWeight\\n      borderColor\\n    }\\n  }\\n  component myCheckbox {\\n    props {\\n      size\\n    }\\n  }\\n  component otherTextBox {}\\n  component counter {\\n    props {\\n      style\\n    }\\n  }\\n\\nform m {\\n\\tcomp OtherContainer2 \\n\\t\\n\\tfield k {\\n\\t\\tstate number[]\\n\\t\\tcomp myCheckbox size=\\\"2 ** 4\\\" as expression\\n\\t\\t\\n\\t}\\n}\\n\",\n          \"\\n  component userDetailsContainer {}\\n  component formContainer {}\\n  component someOtherContainer {}\\n  component OtherContainer2 {}\\n\\n\\n  component myTextBox {\\n    props {\\n      textColor\\n      textSize\\n      textWeight\\n      borderColor\\n    }\\n  }\\n  component myCheckbox {\\n    props {\\n      size\\n    }\\n  }\\n  component otherTextBox {}\\n  component counter {\\n    props {\\n      style\\n    }\\n  }\\n\\nform Uw {\\n\\tcomp formContainer \\n\\t\\n\\tform Pww_w_www {\\n\\t\\tcomp userDetailsContainer \\n\\t\\t\\n\\t\\tfield xw {\\n\\t\\t\\tstate number[] default \\\"[]\\\" as expression\\n\\t\\t\\tcomp myCheckbox \\n\\t\\t\\t\\n\\t\\t}\\n\\t}\\n\\n\\tfield jw {\\n\\t\\tcomp myTextBox textWeight=\\\"[1, 2, 3].splice(1, 1)\\\" as expression textSize=\\\"10 < 20 ? 'yes' : 'no'\\\" as expression\\n\\t\\t\\n\\t}\\n\\tfield Rww_w__ww_w_w___w__w____ {\\n\\t\\tcomp myCheckbox size=\\\"#5e3c15\\\"\\n\\t\\t\\n\\t}\\n\\tfield Tww {\\n\\t\\tstate string\\n\\t\\tcomp otherTextBox \\n\\t\\t\\n\\t}\\n\\tform x_ {\\n\\t\\tcomp OtherContainer2 \\n\\t\\t\\n\\t\\tfield N {\\n\\t\\t\\tcomp myCheckbox size=\\\"#585a41\\\"\\n\\t\\t\\t\\n\\t\\t}\\n\\t\\tfield S {\\n\\t\\t\\tstate number\\n\\t\\t\\tcomp counter \\n\\t\\t\\t\\n\\t\\t}\\n\\t}\\n\\n\\tform rw {\\n\\t\\tcomp OtherContainer2 \\n\\t\\t\\n\\t\\tfield E_w_ww_w_www_ww_ {\\n\\t\\t\\tcomp otherTextBox \\n\\t\\t\\t\\n\\t\\t}\\n\\t}\\n\\n}\\n\",\n          \"\\n  component userDetailsContainer {}\\n  component formContainer {}\\n  component someOtherContainer {}\\n  component OtherContainer2 {}\\n\\n\\n  component myTextBox {\\n    props {\\n      textColor\\n      textSize\\n      textWeight\\n      borderColor\\n    }\\n  }\\n  component myCheckbox {\\n    props {\\n      size\\n    }\\n  }\\n  component otherTextBox {}\\n  component counter {\\n    props {\\n      style\\n    }\\n  }\\n\\nform y {\\n\\tcomp userDetailsContainer \\n\\t\\n\\tform x {\\n\\t\\tcomp OtherContainer2 \\n\\t\\t\\n\\t\\tfield Oww {\\n\\t\\t\\tstate number\\n\\t\\t\\tcomp myCheckbox \\n\\t\\t\\t\\n\\t\\t}\\n\\t\\tfield W_ {\\n\\t\\t\\tstate boolean[] default \\\"[true]\\\" as expression\\n\\t\\t\\tcomp myTextBox borderColor=\\\"1 + 2 * 3\\\" as expression\\n\\t\\t\\t\\n\\t\\t}\\n\\t\\tfield jww_ww {\\n\\t\\t\\tstate string[] default \\\"[\\\\\\\"Nathan Wiegand\\\\\\\",\\\\\\\"Eva Rice\\\\\\\",\\\\\\\"George Gottlieb\\\\\\\"]\\\" as expression\\n\\t\\t\\tcomp counter style=\\\"#6f215d\\\"\\n\\t\\t\\t\\n\\t\\t}\\n\\t\\tfield Sw_wwwwwwwwww {\\n\\t\\t\\tcomp myTextBox borderColor=\\\"#4a7939\\\" textWeight=\\\"#751b20\\\"\\n\\t\\t\\t\\n\\t\\t}\\n\\t}\\n\\n\\tfield G {\\n\\t\\tstate string\\n\\t\\tcomp otherTextBox \\n\\t\\t\\n\\t}\\n\\tfield S_ {\\n\\t\\tstate number\\n\\t\\tcomp otherTextBox \\n\\t\\t\\n\\t}\\n\\tfield h {\\n\\t\\tstate number\\n\\t\\tcomp counter \\n\\t\\t\\n\\t}\\n\\tform J {\\n\\t\\tcomp userDetailsContainer \\n\\t\\t\\n\\n\\t}\\n\\n\\tfield p {\\n\\t\\tcomp myCheckbox size=\\\"#116217\\\"\\n\\t\\t\\n\\t}\\n}\\n\"\n        ],\n        \"semantic_type\": \"\",\n        \"description\": \"\"\n      }\n    },\n    {\n      \"column\": \"removedNodeEnglish\",\n      \"properties\": {\n        \"dtype\": \"string\",\n        \"num_unique_values\": 2925,\n        \"samples\": [\n          \"\\t\\ta field whose id is 'g' with state of type: 'number', and is using the component 'otherTextBox'.\\n\\t\\t\",\n          \"\\ta form whose id is 'u' using the component 'formContainer',with no children.\\n\\t\",\n          \"\\t\\ta field whose id is 'L_w' with state of type: 'number' and its default value is: 0.6831019370482362 (and is passed as an expression), and is using the component 'otherTextBox'.\\n\\t\\t\"\n        ],\n        \"semantic_type\": \"\",\n        \"description\": \"\"\n      }\n    },\n    {\n      \"column\": \"removedNodeContextEnglish\",\n      \"properties\": {\n        \"dtype\": \"string\",\n        \"num_unique_values\": 2729,\n        \"samples\": [\n          \"* is a child of the form whose id is 'dw_'.\\n* is located after the field whose id is 'O'\",\n          \"* is a child of the form whose id is 'ww'.\\n* is located before the field whose id is 'gw'\",\n          \"* is a child of the form whose id is 'E'.\\n* is located between the field whose id is 'Mww' and the field whose id is 'Y_w'\"\n        ],\n        \"semantic_type\": \"\",\n        \"description\": \"\"\n      }\n    },\n    {\n      \"column\": \"originalFormAst\",\n      \"properties\": {\n        \"dtype\": \"string\",\n        \"num_unique_values\": 3000,\n        \"samples\": [\n          \"{\\\"$type\\\":\\\"Form\\\",\\\"name\\\":\\\"Ew\\\",\\\"component\\\":{\\\"$type\\\":\\\"FieldComponentDef\\\",\\\"componentId\\\":{\\\"$ref\\\":\\\"#/components@0\\\"},\\\"componentPropsKeys\\\":[],\\\"componentPropsValues\\\":[]},\\\"children\\\":[{\\\"$type\\\":\\\"Field\\\",\\\"name\\\":\\\"O_\\\",\\\"state\\\":{\\\"$type\\\":\\\"FieldStateDef\\\",\\\"isArray\\\":true,\\\"type\\\":\\\"string\\\"},\\\"component\\\":{\\\"$type\\\":\\\"FieldComponentDef\\\",\\\"componentId\\\":{\\\"$ref\\\":\\\"#/components@7\\\"},\\\"componentPropsKeys\\\":[],\\\"componentPropsValues\\\":[]}},{\\\"$type\\\":\\\"Field\\\",\\\"name\\\":\\\"k_\\\",\\\"component\\\":{\\\"$type\\\":\\\"FieldComponentDef\\\",\\\"componentId\\\":{\\\"$ref\\\":\\\"#/components@6\\\"},\\\"componentPropsKeys\\\":[],\\\"componentPropsValues\\\":[]}},{\\\"$type\\\":\\\"Field\\\",\\\"name\\\":\\\"Kw\\\",\\\"component\\\":{\\\"$type\\\":\\\"FieldComponentDef\\\",\\\"componentId\\\":{\\\"$ref\\\":\\\"#/components@4\\\"},\\\"componentPropsKeys\\\":[],\\\"componentPropsValues\\\":[]}},{\\\"$type\\\":\\\"Field\\\",\\\"name\\\":\\\"Yww\\\",\\\"state\\\":{\\\"$type\\\":\\\"FieldStateDef\\\",\\\"type\\\":\\\"string\\\",\\\"defaultValue\\\":{\\\"$type\\\":\\\"ValueExpression\\\",\\\"value\\\":\\\"'Cesar Kihn'\\\",\\\"isExpression\\\":true},\\\"isArray\\\":false},\\\"component\\\":{\\\"$type\\\":\\\"FieldComponentDef\\\",\\\"componentId\\\":{\\\"$ref\\\":\\\"#/components@7\\\"},\\\"componentPropsKeys\\\":[{\\\"$type\\\":\\\"ComponentPropKey\\\",\\\"key\\\":\\\"style\\\"}],\\\"componentPropsValues\\\":[{\\\"$type\\\":\\\"ValueExpression\\\",\\\"value\\\":\\\"#493826\\\",\\\"isExpression\\\":false}]}}]}\",\n          \"{\\\"$type\\\":\\\"Form\\\",\\\"name\\\":\\\"bww\\\",\\\"component\\\":{\\\"$type\\\":\\\"FieldComponentDef\\\",\\\"componentId\\\":{\\\"$ref\\\":\\\"#/components@0\\\"},\\\"componentPropsKeys\\\":[],\\\"componentPropsValues\\\":[]},\\\"children\\\":[{\\\"$type\\\":\\\"Form\\\",\\\"name\\\":\\\"P__ww\\\",\\\"component\\\":{\\\"$type\\\":\\\"FieldComponentDef\\\",\\\"componentId\\\":{\\\"$ref\\\":\\\"#/components@1\\\"},\\\"componentPropsKeys\\\":[],\\\"componentPropsValues\\\":[]},\\\"children\\\":[{\\\"$type\\\":\\\"Field\\\",\\\"name\\\":\\\"Bw_ww__ww\\\",\\\"state\\\":{\\\"$type\\\":\\\"FieldStateDef\\\",\\\"type\\\":\\\"boolean\\\",\\\"defaultValue\\\":{\\\"$type\\\":\\\"ValueExpression\\\",\\\"value\\\":\\\"false\\\",\\\"isExpression\\\":true},\\\"isArray\\\":false},\\\"component\\\":{\\\"$type\\\":\\\"FieldComponentDef\\\",\\\"componentId\\\":{\\\"$ref\\\":\\\"#/components@5\\\"},\\\"componentPropsKeys\\\":[{\\\"$type\\\":\\\"ComponentPropKey\\\",\\\"key\\\":\\\"size\\\"}],\\\"componentPropsValues\\\":[{\\\"$type\\\":\\\"ValueExpression\\\",\\\"value\\\":\\\"'hello'.replace('l', 'L')\\\",\\\"isExpression\\\":true}]}},{\\\"$type\\\":\\\"Form\\\",\\\"name\\\":\\\"d\\\",\\\"component\\\":{\\\"$type\\\":\\\"FieldComponentDef\\\",\\\"componentId\\\":{\\\"$ref\\\":\\\"#/components@3\\\"},\\\"componentPropsKeys\\\":[],\\\"componentPropsValues\\\":[]},\\\"children\\\":[{\\\"$type\\\":\\\"Field\\\",\\\"name\\\":\\\"sw\\\",\\\"state\\\":{\\\"$type\\\":\\\"FieldStateDef\\\",\\\"type\\\":\\\"boolean\\\",\\\"defaultValue\\\":{\\\"$type\\\":\\\"ValueExpression\\\",\\\"value\\\":\\\"true\\\",\\\"isExpression\\\":true},\\\"isArray\\\":false},\\\"component\\\":{\\\"$type\\\":\\\"FieldComponentDef\\\",\\\"componentId\\\":{\\\"$ref\\\":\\\"#/components@6\\\"},\\\"componentPropsKeys\\\":[],\\\"componentPropsValues\\\":[]}},{\\\"$type\\\":\\\"Field\\\",\\\"name\\\":\\\"Sw\\\",\\\"component\\\":{\\\"$type\\\":\\\"FieldComponentDef\\\",\\\"componentId\\\":{\\\"$ref\\\":\\\"#/components@5\\\"},\\\"componentPropsKeys\\\":[{\\\"$type\\\":\\\"ComponentPropKey\\\",\\\"key\\\":\\\"size\\\"}],\\\"componentPropsValues\\\":[{\\\"$type\\\":\\\"ValueExpression\\\",\\\"value\\\":\\\"'Hello'.toLowerCase()\\\",\\\"isExpression\\\":true}]}}]},{\\\"$type\\\":\\\"Field\\\",\\\"name\\\":\\\"hw\\\",\\\"component\\\":{\\\"$type\\\":\\\"FieldComponentDef\\\",\\\"componentId\\\":{\\\"$ref\\\":\\\"#/components@5\\\"},\\\"componentPropsKeys\\\":[{\\\"$type\\\":\\\"ComponentPropKey\\\",\\\"key\\\":\\\"size\\\"}],\\\"componentPropsValues\\\":[{\\\"$type\\\":\\\"ValueExpression\\\",\\\"value\\\":\\\"#53736e\\\",\\\"isExpression\\\":false}]}},{\\\"$type\\\":\\\"Field\\\",\\\"name\\\":\\\"c\\\",\\\"state\\\":{\\\"$type\\\":\\\"FieldStateDef\\\",\\\"type\\\":\\\"boolean\\\",\\\"defaultValue\\\":{\\\"$type\\\":\\\"ValueExpression\\\",\\\"value\\\":\\\"false\\\",\\\"isExpression\\\":true},\\\"isArray\\\":false},\\\"component\\\":{\\\"$type\\\":\\\"FieldComponentDef\\\",\\\"componentId\\\":{\\\"$ref\\\":\\\"#/components@5\\\"},\\\"componentPropsKeys\\\":[{\\\"$type\\\":\\\"ComponentPropKey\\\",\\\"key\\\":\\\"size\\\"}],\\\"componentPropsValues\\\":[{\\\"$type\\\":\\\"ValueExpression\\\",\\\"value\\\":\\\"#281537\\\",\\\"isExpression\\\":false}]}},{\\\"$type\\\":\\\"Field\\\",\\\"name\\\":\\\"a_\\\",\\\"state\\\":{\\\"$type\\\":\\\"FieldStateDef\\\",\\\"type\\\":\\\"string\\\",\\\"defaultValue\\\":{\\\"$type\\\":\\\"ValueExpression\\\",\\\"value\\\":\\\"Pauline Ortiz\\\",\\\"isExpression\\\":false},\\\"isArray\\\":false},\\\"component\\\":{\\\"$type\\\":\\\"FieldComponentDef\\\",\\\"componentId\\\":{\\\"$ref\\\":\\\"#/components@5\\\"},\\\"componentPropsKeys\\\":[],\\\"componentPropsValues\\\":[]}},{\\\"$type\\\":\\\"Field\\\",\\\"name\\\":\\\"Iw_\\\",\\\"state\\\":{\\\"$type\\\":\\\"FieldStateDef\\\",\\\"type\\\":\\\"string\\\",\\\"isArray\\\":false},\\\"component\\\":{\\\"$type\\\":\\\"FieldComponentDef\\\",\\\"componentId\\\":{\\\"$ref\\\":\\\"#/components@5\\\"},\\\"componentPropsKeys\\\":[],\\\"componentPropsValues\\\":[]}}]},{\\\"$type\\\":\\\"Field\\\",\\\"name\\\":\\\"i_\\\",\\\"state\\\":{\\\"$type\\\":\\\"FieldStateDef\\\",\\\"type\\\":\\\"string\\\",\\\"isArray\\\":false},\\\"component\\\":{\\\"$type\\\":\\\"FieldComponentDef\\\",\\\"componentId\\\":{\\\"$ref\\\":\\\"#/components@6\\\"},\\\"componentPropsKeys\\\":[],\\\"componentPropsValues\\\":[]}}]}\",\n          \"{\\\"$type\\\":\\\"Form\\\",\\\"name\\\":\\\"f\\\",\\\"component\\\":{\\\"$type\\\":\\\"FieldComponentDef\\\",\\\"componentId\\\":{\\\"$ref\\\":\\\"#/components@0\\\"},\\\"componentPropsKeys\\\":[],\\\"componentPropsValues\\\":[]},\\\"children\\\":[{\\\"$type\\\":\\\"Field\\\",\\\"name\\\":\\\"o\\\",\\\"state\\\":{\\\"$type\\\":\\\"FieldStateDef\\\",\\\"type\\\":\\\"string\\\",\\\"defaultValue\\\":{\\\"$type\\\":\\\"ValueExpression\\\",\\\"value\\\":\\\"Jodi O'Kon\\\",\\\"isExpression\\\":false},\\\"isArray\\\":false},\\\"component\\\":{\\\"$type\\\":\\\"FieldComponentDef\\\",\\\"componentId\\\":{\\\"$ref\\\":\\\"#/components@5\\\"},\\\"componentPropsKeys\\\":[],\\\"componentPropsValues\\\":[]}},{\\\"$type\\\":\\\"Field\\\",\\\"name\\\":\\\"Dw\\\",\\\"component\\\":{\\\"$type\\\":\\\"FieldComponentDef\\\",\\\"componentId\\\":{\\\"$ref\\\":\\\"#/components@6\\\"},\\\"componentPropsKeys\\\":[],\\\"componentPropsValues\\\":[]}}]}\"\n        ],\n        \"semantic_type\": \"\",\n        \"description\": \"\"\n      }\n    },\n    {\n      \"column\": \"userPrompt\",\n      \"properties\": {\n        \"dtype\": \"string\",\n        \"num_unique_values\": 3000,\n        \"samples\": [\n          \"```FormLang\\n\\n  component userDetailsContainer {}\\n  component formContainer {}\\n  component someOtherContainer {}\\n  component OtherContainer2 {}\\n\\n\\n  component myTextBox {\\n    props {\\n      textColor\\n      textSize\\n      textWeight\\n      borderColor\\n    }\\n  }\\n  component myCheckbox {\\n    props {\\n      size\\n    }\\n  }\\n  component otherTextBox {}\\n  component counter {\\n    props {\\n      style\\n    }\\n  }\\n\\nform Ew {\\n\\tcomp userDetailsContainer \\n\\t\\n\\tfield O_ {\\n\\t\\tstate string[]\\n\\t\\tcomp counter \\n\\t\\t\\n\\t}\\n\\tfield Kw {\\n\\t\\tcomp myTextBox \\n\\t\\t\\n\\t}\\n\\tfield Yww {\\n\\t\\tstate string default \\\"'Cesar Kihn'\\\" as expression\\n\\t\\tcomp counter style=\\\"#493826\\\"\\n\\t\\t\\n\\t}\\n}\\n\\n```\\nThe description of the form element you need to add:\\n\\ta field whose id is 'k_' using the component 'otherTextBox'.\\n\\t\\nThe description of the context in the form where you should add the element:\\nThe element to be added:\\n* is a child of the form whose id is 'Ew'.\\n* is located between the field whose id is 'O_' and the field whose id is 'Kw'\\n\",\n          \"```FormLang\\n\\n  component userDetailsContainer {}\\n  component formContainer {}\\n  component someOtherContainer {}\\n  component OtherContainer2 {}\\n\\n\\n  component myTextBox {\\n    props {\\n      textColor\\n      textSize\\n      textWeight\\n      borderColor\\n    }\\n  }\\n  component myCheckbox {\\n    props {\\n      size\\n    }\\n  }\\n  component otherTextBox {}\\n  component counter {\\n    props {\\n      style\\n    }\\n  }\\n\\nform bww {\\n\\tcomp userDetailsContainer \\n\\t\\n\\tform P__ww {\\n\\t\\tcomp formContainer \\n\\t\\t\\n\\t\\tfield Bw_ww__ww {\\n\\t\\t\\tstate boolean default \\\"false\\\" as expression\\n\\t\\t\\tcomp myCheckbox size=\\\"'hello'.replace('l', 'L')\\\" as expression\\n\\t\\t\\t\\n\\t\\t}\\n\\t\\tform d {\\n\\t\\t\\tcomp OtherContainer2 \\n\\t\\t\\t\\n\\t\\t\\tfield sw {\\n\\t\\t\\t\\tstate boolean default \\\"true\\\" as expression\\n\\t\\t\\t\\tcomp otherTextBox \\n\\t\\t\\t\\t\\n\\t\\t\\t}\\n\\t\\t\\tfield Sw {\\n\\t\\t\\t\\tcomp myCheckbox size=\\\"'Hello'.toLowerCase()\\\" as expression\\n\\t\\t\\t\\t\\n\\t\\t\\t}\\n\\t\\t}\\n\\n\\t\\tfield hw {\\n\\t\\t\\tcomp myCheckbox size=\\\"#53736e\\\"\\n\\t\\t\\t\\n\\t\\t}\\n\\t\\tfield c {\\n\\t\\t\\tstate boolean default \\\"false\\\" as expression\\n\\t\\t\\tcomp myCheckbox size=\\\"#281537\\\"\\n\\t\\t\\t\\n\\t\\t}\\n\\t\\tfield a_ {\\n\\t\\t\\tstate string default \\\"Pauline Ortiz\\\"\\n\\t\\t\\tcomp myCheckbox \\n\\t\\t\\t\\n\\t\\t}\\n\\t}\\n\\n\\tfield i_ {\\n\\t\\tstate string\\n\\t\\tcomp otherTextBox \\n\\t\\t\\n\\t}\\n}\\n\\n```\\nThe description of the form element you need to add:\\n\\t\\ta field whose id is 'Iw_' with state of type: 'string', and is using the component 'myCheckbox'.\\n\\t\\t\\nThe description of the context in the form where you should add the element:\\nThe element to be added:\\n* is a child of the form whose id is 'P__ww'.\\n* is located after the field whose id is 'a_'\\n\",\n          \"```FormLang\\n\\n  component userDetailsContainer {}\\n  component formContainer {}\\n  component someOtherContainer {}\\n  component OtherContainer2 {}\\n\\n\\n  component myTextBox {\\n    props {\\n      textColor\\n      textSize\\n      textWeight\\n      borderColor\\n    }\\n  }\\n  component myCheckbox {\\n    props {\\n      size\\n    }\\n  }\\n  component otherTextBox {}\\n  component counter {\\n    props {\\n      style\\n    }\\n  }\\n\\nform f {\\n\\tcomp userDetailsContainer \\n\\t\\n\\tfield o {\\n\\t\\tstate string default \\\"Jodi O'Kon\\\"\\n\\t\\tcomp myCheckbox \\n\\t\\t\\n\\t}\\n}\\n\\n```\\nThe description of the form element you need to add:\\n\\ta field whose id is 'Dw' using the component 'otherTextBox'.\\n\\t\\nThe description of the context in the form where you should add the element:\\nThe element to be added:\\n* is a child of the form whose id is 'f'.\\n* is located after the field whose id is 'o'\\n\"\n        ],\n        \"semantic_type\": \"\",\n        \"description\": \"\"\n      }\n    }\n  ]\n}",
              "type": "dataframe",
              "variable_name": "examples"
            },
            "text/html": [
              "\n",
              "  <div id=\"df-41320571-a9d6-404a-91bd-c0d4ff093fe5\" class=\"colab-df-container\">\n",
              "    <div>\n",
              "<style scoped>\n",
              "    .dataframe tbody tr th:only-of-type {\n",
              "        vertical-align: middle;\n",
              "    }\n",
              "\n",
              "    .dataframe tbody tr th {\n",
              "        vertical-align: top;\n",
              "    }\n",
              "\n",
              "    .dataframe thead th {\n",
              "        text-align: right;\n",
              "    }\n",
              "</style>\n",
              "<table border=\"1\" class=\"dataframe\">\n",
              "  <thead>\n",
              "    <tr style=\"text-align: right;\">\n",
              "      <th></th>\n",
              "      <th>originalFormCode</th>\n",
              "      <th>modifiedFormCode</th>\n",
              "      <th>removedNodeEnglish</th>\n",
              "      <th>removedNodeContextEnglish</th>\n",
              "      <th>originalFormAst</th>\n",
              "      <th>userPrompt</th>\n",
              "    </tr>\n",
              "  </thead>\n",
              "  <tbody>\n",
              "    <tr>\n",
              "      <th>0</th>\n",
              "      <td>\\n  component userDetailsContainer {}\\n  compo...</td>\n",
              "      <td>\\n  component userDetailsContainer {}\\n  compo...</td>\n",
              "      <td>\\ta field whose id is 'Z_' with state of type:...</td>\n",
              "      <td>* is a child of the form whose id is 'Bw'.\\n* ...</td>\n",
              "      <td>{\"$type\":\"Form\",\"name\":\"Bw\",\"component\":{\"$typ...</td>\n",
              "      <td>```FormLang\\n\\n  component userDetailsContaine...</td>\n",
              "    </tr>\n",
              "    <tr>\n",
              "      <th>1</th>\n",
              "      <td>\\n  component userDetailsContainer {}\\n  compo...</td>\n",
              "      <td>\\n  component userDetailsContainer {}\\n  compo...</td>\n",
              "      <td>\\ta field whose id is 'p_' with state of type:...</td>\n",
              "      <td>* is a child of the form whose id is 'Cw'.\\n* ...</td>\n",
              "      <td>{\"$type\":\"Form\",\"name\":\"Cw\",\"component\":{\"$typ...</td>\n",
              "      <td>```FormLang\\n\\n  component userDetailsContaine...</td>\n",
              "    </tr>\n",
              "    <tr>\n",
              "      <th>2</th>\n",
              "      <td>\\n  component userDetailsContainer {}\\n  compo...</td>\n",
              "      <td>\\n  component userDetailsContainer {}\\n  compo...</td>\n",
              "      <td>\\ta field whose id is 'F' using the component ...</td>\n",
              "      <td>* is a child of the form whose id is 'Vw'.\\n* ...</td>\n",
              "      <td>{\"$type\":\"Form\",\"name\":\"Vw\",\"component\":{\"$typ...</td>\n",
              "      <td>```FormLang\\n\\n  component userDetailsContaine...</td>\n",
              "    </tr>\n",
              "    <tr>\n",
              "      <th>3</th>\n",
              "      <td>\\n  component userDetailsContainer {}\\n  compo...</td>\n",
              "      <td>\\n  component userDetailsContainer {}\\n  compo...</td>\n",
              "      <td>\\t\\ta field whose id is 'Pww_ww___w' using the...</td>\n",
              "      <td>* is a child of the form whose id is 'd'.\\n* i...</td>\n",
              "      <td>{\"$type\":\"Form\",\"name\":\"Lw\",\"component\":{\"$typ...</td>\n",
              "      <td>```FormLang\\n\\n  component userDetailsContaine...</td>\n",
              "    </tr>\n",
              "    <tr>\n",
              "      <th>4</th>\n",
              "      <td>\\n  component userDetailsContainer {}\\n  compo...</td>\n",
              "      <td>\\n  component userDetailsContainer {}\\n  compo...</td>\n",
              "      <td>\\ta field whose id is 'nw' with state of type:...</td>\n",
              "      <td>* is a child of the form whose id is 'a_'.\\n* ...</td>\n",
              "      <td>{\"$type\":\"Form\",\"name\":\"a_\",\"component\":{\"$typ...</td>\n",
              "      <td>```FormLang\\n\\n  component userDetailsContaine...</td>\n",
              "    </tr>\n",
              "  </tbody>\n",
              "</table>\n",
              "</div>\n",
              "    <div class=\"colab-df-buttons\">\n",
              "\n",
              "  <div class=\"colab-df-container\">\n",
              "    <button class=\"colab-df-convert\" onclick=\"convertToInteractive('df-41320571-a9d6-404a-91bd-c0d4ff093fe5')\"\n",
              "            title=\"Convert this dataframe to an interactive table.\"\n",
              "            style=\"display:none;\">\n",
              "\n",
              "  <svg xmlns=\"http://www.w3.org/2000/svg\" height=\"24px\" viewBox=\"0 -960 960 960\">\n",
              "    <path d=\"M120-120v-720h720v720H120Zm60-500h600v-160H180v160Zm220 220h160v-160H400v160Zm0 220h160v-160H400v160ZM180-400h160v-160H180v160Zm440 0h160v-160H620v160ZM180-180h160v-160H180v160Zm440 0h160v-160H620v160Z\"/>\n",
              "  </svg>\n",
              "    </button>\n",
              "\n",
              "  <style>\n",
              "    .colab-df-container {\n",
              "      display:flex;\n",
              "      gap: 12px;\n",
              "    }\n",
              "\n",
              "    .colab-df-convert {\n",
              "      background-color: #E8F0FE;\n",
              "      border: none;\n",
              "      border-radius: 50%;\n",
              "      cursor: pointer;\n",
              "      display: none;\n",
              "      fill: #1967D2;\n",
              "      height: 32px;\n",
              "      padding: 0 0 0 0;\n",
              "      width: 32px;\n",
              "    }\n",
              "\n",
              "    .colab-df-convert:hover {\n",
              "      background-color: #E2EBFA;\n",
              "      box-shadow: 0px 1px 2px rgba(60, 64, 67, 0.3), 0px 1px 3px 1px rgba(60, 64, 67, 0.15);\n",
              "      fill: #174EA6;\n",
              "    }\n",
              "\n",
              "    .colab-df-buttons div {\n",
              "      margin-bottom: 4px;\n",
              "    }\n",
              "\n",
              "    [theme=dark] .colab-df-convert {\n",
              "      background-color: #3B4455;\n",
              "      fill: #D2E3FC;\n",
              "    }\n",
              "\n",
              "    [theme=dark] .colab-df-convert:hover {\n",
              "      background-color: #434B5C;\n",
              "      box-shadow: 0px 1px 3px 1px rgba(0, 0, 0, 0.15);\n",
              "      filter: drop-shadow(0px 1px 2px rgba(0, 0, 0, 0.3));\n",
              "      fill: #FFFFFF;\n",
              "    }\n",
              "  </style>\n",
              "\n",
              "    <script>\n",
              "      const buttonEl =\n",
              "        document.querySelector('#df-41320571-a9d6-404a-91bd-c0d4ff093fe5 button.colab-df-convert');\n",
              "      buttonEl.style.display =\n",
              "        google.colab.kernel.accessAllowed ? 'block' : 'none';\n",
              "\n",
              "      async function convertToInteractive(key) {\n",
              "        const element = document.querySelector('#df-41320571-a9d6-404a-91bd-c0d4ff093fe5');\n",
              "        const dataTable =\n",
              "          await google.colab.kernel.invokeFunction('convertToInteractive',\n",
              "                                                    [key], {});\n",
              "        if (!dataTable) return;\n",
              "\n",
              "        const docLinkHtml = 'Like what you see? Visit the ' +\n",
              "          '<a target=\"_blank\" href=https://colab.research.google.com/notebooks/data_table.ipynb>data table notebook</a>'\n",
              "          + ' to learn more about interactive tables.';\n",
              "        element.innerHTML = '';\n",
              "        dataTable['output_type'] = 'display_data';\n",
              "        await google.colab.output.renderOutput(dataTable, element);\n",
              "        const docLink = document.createElement('div');\n",
              "        docLink.innerHTML = docLinkHtml;\n",
              "        element.appendChild(docLink);\n",
              "      }\n",
              "    </script>\n",
              "  </div>\n",
              "\n",
              "\n",
              "<div id=\"df-06309696-2758-4581-abb3-3b83b38ce4c0\">\n",
              "  <button class=\"colab-df-quickchart\" onclick=\"quickchart('df-06309696-2758-4581-abb3-3b83b38ce4c0')\"\n",
              "            title=\"Suggest charts\"\n",
              "            style=\"display:none;\">\n",
              "\n",
              "<svg xmlns=\"http://www.w3.org/2000/svg\" height=\"24px\"viewBox=\"0 0 24 24\"\n",
              "     width=\"24px\">\n",
              "    <g>\n",
              "        <path d=\"M19 3H5c-1.1 0-2 .9-2 2v14c0 1.1.9 2 2 2h14c1.1 0 2-.9 2-2V5c0-1.1-.9-2-2-2zM9 17H7v-7h2v7zm4 0h-2V7h2v10zm4 0h-2v-4h2v4z\"/>\n",
              "    </g>\n",
              "</svg>\n",
              "  </button>\n",
              "\n",
              "<style>\n",
              "  .colab-df-quickchart {\n",
              "      --bg-color: #E8F0FE;\n",
              "      --fill-color: #1967D2;\n",
              "      --hover-bg-color: #E2EBFA;\n",
              "      --hover-fill-color: #174EA6;\n",
              "      --disabled-fill-color: #AAA;\n",
              "      --disabled-bg-color: #DDD;\n",
              "  }\n",
              "\n",
              "  [theme=dark] .colab-df-quickchart {\n",
              "      --bg-color: #3B4455;\n",
              "      --fill-color: #D2E3FC;\n",
              "      --hover-bg-color: #434B5C;\n",
              "      --hover-fill-color: #FFFFFF;\n",
              "      --disabled-bg-color: #3B4455;\n",
              "      --disabled-fill-color: #666;\n",
              "  }\n",
              "\n",
              "  .colab-df-quickchart {\n",
              "    background-color: var(--bg-color);\n",
              "    border: none;\n",
              "    border-radius: 50%;\n",
              "    cursor: pointer;\n",
              "    display: none;\n",
              "    fill: var(--fill-color);\n",
              "    height: 32px;\n",
              "    padding: 0;\n",
              "    width: 32px;\n",
              "  }\n",
              "\n",
              "  .colab-df-quickchart:hover {\n",
              "    background-color: var(--hover-bg-color);\n",
              "    box-shadow: 0 1px 2px rgba(60, 64, 67, 0.3), 0 1px 3px 1px rgba(60, 64, 67, 0.15);\n",
              "    fill: var(--button-hover-fill-color);\n",
              "  }\n",
              "\n",
              "  .colab-df-quickchart-complete:disabled,\n",
              "  .colab-df-quickchart-complete:disabled:hover {\n",
              "    background-color: var(--disabled-bg-color);\n",
              "    fill: var(--disabled-fill-color);\n",
              "    box-shadow: none;\n",
              "  }\n",
              "\n",
              "  .colab-df-spinner {\n",
              "    border: 2px solid var(--fill-color);\n",
              "    border-color: transparent;\n",
              "    border-bottom-color: var(--fill-color);\n",
              "    animation:\n",
              "      spin 1s steps(1) infinite;\n",
              "  }\n",
              "\n",
              "  @keyframes spin {\n",
              "    0% {\n",
              "      border-color: transparent;\n",
              "      border-bottom-color: var(--fill-color);\n",
              "      border-left-color: var(--fill-color);\n",
              "    }\n",
              "    20% {\n",
              "      border-color: transparent;\n",
              "      border-left-color: var(--fill-color);\n",
              "      border-top-color: var(--fill-color);\n",
              "    }\n",
              "    30% {\n",
              "      border-color: transparent;\n",
              "      border-left-color: var(--fill-color);\n",
              "      border-top-color: var(--fill-color);\n",
              "      border-right-color: var(--fill-color);\n",
              "    }\n",
              "    40% {\n",
              "      border-color: transparent;\n",
              "      border-right-color: var(--fill-color);\n",
              "      border-top-color: var(--fill-color);\n",
              "    }\n",
              "    60% {\n",
              "      border-color: transparent;\n",
              "      border-right-color: var(--fill-color);\n",
              "    }\n",
              "    80% {\n",
              "      border-color: transparent;\n",
              "      border-right-color: var(--fill-color);\n",
              "      border-bottom-color: var(--fill-color);\n",
              "    }\n",
              "    90% {\n",
              "      border-color: transparent;\n",
              "      border-bottom-color: var(--fill-color);\n",
              "    }\n",
              "  }\n",
              "</style>\n",
              "\n",
              "  <script>\n",
              "    async function quickchart(key) {\n",
              "      const quickchartButtonEl =\n",
              "        document.querySelector('#' + key + ' button');\n",
              "      quickchartButtonEl.disabled = true;  // To prevent multiple clicks.\n",
              "      quickchartButtonEl.classList.add('colab-df-spinner');\n",
              "      try {\n",
              "        const charts = await google.colab.kernel.invokeFunction(\n",
              "            'suggestCharts', [key], {});\n",
              "      } catch (error) {\n",
              "        console.error('Error during call to suggestCharts:', error);\n",
              "      }\n",
              "      quickchartButtonEl.classList.remove('colab-df-spinner');\n",
              "      quickchartButtonEl.classList.add('colab-df-quickchart-complete');\n",
              "    }\n",
              "    (() => {\n",
              "      let quickchartButtonEl =\n",
              "        document.querySelector('#df-06309696-2758-4581-abb3-3b83b38ce4c0 button');\n",
              "      quickchartButtonEl.style.display =\n",
              "        google.colab.kernel.accessAllowed ? 'block' : 'none';\n",
              "    })();\n",
              "  </script>\n",
              "</div>\n",
              "\n",
              "    </div>\n",
              "  </div>\n"
            ],
            "text/plain": [
              "                                    originalFormCode  \\\n",
              "0  \\n  component userDetailsContainer {}\\n  compo...   \n",
              "1  \\n  component userDetailsContainer {}\\n  compo...   \n",
              "2  \\n  component userDetailsContainer {}\\n  compo...   \n",
              "3  \\n  component userDetailsContainer {}\\n  compo...   \n",
              "4  \\n  component userDetailsContainer {}\\n  compo...   \n",
              "\n",
              "                                    modifiedFormCode  \\\n",
              "0  \\n  component userDetailsContainer {}\\n  compo...   \n",
              "1  \\n  component userDetailsContainer {}\\n  compo...   \n",
              "2  \\n  component userDetailsContainer {}\\n  compo...   \n",
              "3  \\n  component userDetailsContainer {}\\n  compo...   \n",
              "4  \\n  component userDetailsContainer {}\\n  compo...   \n",
              "\n",
              "                                  removedNodeEnglish  \\\n",
              "0  \\ta field whose id is 'Z_' with state of type:...   \n",
              "1  \\ta field whose id is 'p_' with state of type:...   \n",
              "2  \\ta field whose id is 'F' using the component ...   \n",
              "3  \\t\\ta field whose id is 'Pww_ww___w' using the...   \n",
              "4  \\ta field whose id is 'nw' with state of type:...   \n",
              "\n",
              "                           removedNodeContextEnglish  \\\n",
              "0  * is a child of the form whose id is 'Bw'.\\n* ...   \n",
              "1  * is a child of the form whose id is 'Cw'.\\n* ...   \n",
              "2  * is a child of the form whose id is 'Vw'.\\n* ...   \n",
              "3  * is a child of the form whose id is 'd'.\\n* i...   \n",
              "4  * is a child of the form whose id is 'a_'.\\n* ...   \n",
              "\n",
              "                                     originalFormAst  \\\n",
              "0  {\"$type\":\"Form\",\"name\":\"Bw\",\"component\":{\"$typ...   \n",
              "1  {\"$type\":\"Form\",\"name\":\"Cw\",\"component\":{\"$typ...   \n",
              "2  {\"$type\":\"Form\",\"name\":\"Vw\",\"component\":{\"$typ...   \n",
              "3  {\"$type\":\"Form\",\"name\":\"Lw\",\"component\":{\"$typ...   \n",
              "4  {\"$type\":\"Form\",\"name\":\"a_\",\"component\":{\"$typ...   \n",
              "\n",
              "                                          userPrompt  \n",
              "0  ```FormLang\\n\\n  component userDetailsContaine...  \n",
              "1  ```FormLang\\n\\n  component userDetailsContaine...  \n",
              "2  ```FormLang\\n\\n  component userDetailsContaine...  \n",
              "3  ```FormLang\\n\\n  component userDetailsContaine...  \n",
              "4  ```FormLang\\n\\n  component userDetailsContaine...  "
            ]
          },
          "execution_count": 49,
          "metadata": {},
          "output_type": "execute_result"
        }
      ],
      "source": [
        "examples[\"userPrompt\"] = examples.apply(create_prompt, axis=1)\n",
        "examples.head()"
      ]
    },
    {
      "cell_type": "markdown",
      "id": "da77e0c2-5a84-46e3-8f99-c5dc5918ca4e",
      "metadata": {
        "id": "da77e0c2-5a84-46e3-8f99-c5dc5918ca4e",
        "jp-MarkdownHeadingCollapsed": true
      },
      "source": [
        "##### Example User Prompt vs. original Code"
      ]
    },
    {
      "cell_type": "code",
      "execution_count": null,
      "id": "ba3b7e13-2753-4da3-86f2-594704d2d56a",
      "metadata": {
        "colab": {
          "base_uri": "https://localhost:8080/"
        },
        "id": "ba3b7e13-2753-4da3-86f2-594704d2d56a",
        "outputId": "32889869-25c6-4366-db40-9d9e4161df0c"
      },
      "outputs": [
        {
          "name": "stdout",
          "output_type": "stream",
          "text": [
            "```FormLang\n",
            "\n",
            "  component userDetailsContainer {}\n",
            "  component formContainer {}\n",
            "  component someOtherContainer {}\n",
            "  component OtherContainer2 {}\n",
            "\n",
            "\n",
            "  component myTextBox {\n",
            "    props {\n",
            "      textColor\n",
            "      textSize\n",
            "      textWeight\n",
            "      borderColor\n",
            "    }\n",
            "  }\n",
            "  component myCheckbox {\n",
            "    props {\n",
            "      size\n",
            "    }\n",
            "  }\n",
            "  component otherTextBox {}\n",
            "  component counter {\n",
            "    props {\n",
            "      style\n",
            "    }\n",
            "  }\n",
            "\n",
            "form Bw {\n",
            "\tcomp OtherContainer2 \n",
            "\t\n",
            "\tfield G {\n",
            "\t\tcomp myCheckbox size=\"'Hello'.toLowerCase()\" as expression\n",
            "\t\t\n",
            "\t}\n",
            "\tform a {\n",
            "\t\tcomp formContainer \n",
            "\t\t\n",
            "\t\tfield qw {\n",
            "\t\t\tstate boolean[]\n",
            "\t\t\tcomp otherTextBox \n",
            "\t\t\t\n",
            "\t\t}\n",
            "\t\tfield F__ {\n",
            "\t\t\tcomp myTextBox \n",
            "\t\t\t\n",
            "\t\t}\n",
            "\t\tfield Y__ {\n",
            "\t\t\tstate string default \"'John Streich'\" as expression\n",
            "\t\t\tcomp myTextBox \n",
            "\t\t\t\n",
            "\t\t}\n",
            "\t\tfield S_w {\n",
            "\t\t\tstate string\n",
            "\t\t\tcomp myCheckbox size=\"#121310\"\n",
            "\t\t\t\n",
            "\t\t}\n",
            "\t\tfield N_ {\n",
            "\t\t\tstate number default \"0.17049162264892637\" as expression\n",
            "\t\t\tcomp counter \n",
            "\t\t\t\n",
            "\t\t}\n",
            "\t}\n",
            "\n",
            "\tfield pw_wwww_w__ {\n",
            "\t\tstate boolean\n",
            "\t\tcomp counter \n",
            "\t\t\n",
            "\t}\n",
            "\tfield J {\n",
            "\t\tstate string\n",
            "\t\tcomp otherTextBox \n",
            "\t\t\n",
            "\t}\n",
            "}\n",
            "\n",
            "```\n",
            "The description of the form element you need to add:\n",
            "\ta field whose id is 'Z_' with state of type: 'string', and is using the component 'otherTextBox'.\n",
            "\t\n",
            "The description of the context in the form where you should add the element:\n",
            "The element to be added:\n",
            "* is a child of the form whose id is 'Bw'.\n",
            "* is located between the field whose id is 'pw_wwww_w__' and the field whose id is 'J'\n",
            "\n"
          ]
        }
      ],
      "source": [
        "print(examples['userPrompt'][0])"
      ]
    },
    {
      "cell_type": "code",
      "execution_count": null,
      "id": "d01fd5ce-4812-46dc-8563-8ca335fec0fa",
      "metadata": {
        "colab": {
          "base_uri": "https://localhost:8080/"
        },
        "id": "d01fd5ce-4812-46dc-8563-8ca335fec0fa",
        "outputId": "ff71f955-f985-4164-c491-b5f6bef6e935"
      },
      "outputs": [
        {
          "name": "stdout",
          "output_type": "stream",
          "text": [
            "\n",
            "  component userDetailsContainer {}\n",
            "  component formContainer {}\n",
            "  component someOtherContainer {}\n",
            "  component OtherContainer2 {}\n",
            "\n",
            "\n",
            "  component myTextBox {\n",
            "    props {\n",
            "      textColor\n",
            "      textSize\n",
            "      textWeight\n",
            "      borderColor\n",
            "    }\n",
            "  }\n",
            "  component myCheckbox {\n",
            "    props {\n",
            "      size\n",
            "    }\n",
            "  }\n",
            "  component otherTextBox {}\n",
            "  component counter {\n",
            "    props {\n",
            "      style\n",
            "    }\n",
            "  }\n",
            "\n",
            "form Bw {\n",
            "\tcomp OtherContainer2 \n",
            "\t\n",
            "\tfield G {\n",
            "\t\tcomp myCheckbox size=\"'Hello'.toLowerCase()\" as expression\n",
            "\t\t\n",
            "\t}\n",
            "\tform a {\n",
            "\t\tcomp formContainer \n",
            "\t\t\n",
            "\t\tfield qw {\n",
            "\t\t\tstate boolean[]\n",
            "\t\t\tcomp otherTextBox \n",
            "\t\t\t\n",
            "\t\t}\n",
            "\t\tfield F__ {\n",
            "\t\t\tcomp myTextBox \n",
            "\t\t\t\n",
            "\t\t}\n",
            "\t\tfield Y__ {\n",
            "\t\t\tstate string default \"'John Streich'\" as expression\n",
            "\t\t\tcomp myTextBox \n",
            "\t\t\t\n",
            "\t\t}\n",
            "\t\tfield S_w {\n",
            "\t\t\tstate string\n",
            "\t\t\tcomp myCheckbox size=\"#121310\"\n",
            "\t\t\t\n",
            "\t\t}\n",
            "\t\tfield N_ {\n",
            "\t\t\tstate number default \"0.17049162264892637\" as expression\n",
            "\t\t\tcomp counter \n",
            "\t\t\t\n",
            "\t\t}\n",
            "\t}\n",
            "\n",
            "\tfield pw_wwww_w__ {\n",
            "\t\tstate boolean\n",
            "\t\tcomp counter \n",
            "\t\t\n",
            "\t}\n",
            "\tfield Z_ {\n",
            "\t\tstate string\n",
            "\t\tcomp otherTextBox \n",
            "\t\t\n",
            "\t}\n",
            "\tfield J {\n",
            "\t\tstate string\n",
            "\t\tcomp otherTextBox \n",
            "\t\t\n",
            "\t}\n",
            "}\n",
            "\n"
          ]
        }
      ],
      "source": [
        "print(examples['originalFormCode'][0])"
      ]
    },
    {
      "cell_type": "markdown",
      "id": "d002401a-0651-416f-908a-c3c444299f6a",
      "metadata": {
        "id": "d002401a-0651-416f-908a-c3c444299f6a"
      },
      "source": [
        "### Creating a Dataset on HuggingFace using `Datasets`"
      ]
    },
    {
      "cell_type": "markdown",
      "id": "l4qrBCMhzr4V",
      "metadata": {
        "id": "l4qrBCMhzr4V"
      },
      "source": [
        "First we've manually created a Dataset repository on the hugging-face hub for our [form-lang-examples](https://huggingface.co/datasets/guy-or/form-lang-examples) .\n",
        "\n",
        "We then convert our `examples` DataFrame into a Dataset object and upload it to the Hub.\n"
      ]
    },
    {
      "cell_type": "code",
      "execution_count": null,
      "id": "jC8Ts1qj5OyU",
      "metadata": {
        "colab": {
          "base_uri": "https://localhost:8080/",
          "height": 182,
          "referenced_widgets": [
            "535dedbd231a49a59c6ac5febb59f2d2",
            "36526451358f4da6acfa94859853a6e8",
            "27b091edf6ff46e98d04cf6aca96aef9",
            "670292204d344b5e81a50d83ee9cf8d3",
            "90f9118b159842c3bc1960ff104306e3",
            "adabaf3f9aad4c73bf429c0364c294f8",
            "94c54783256a4c2395b4f77c1196b187",
            "72eddef802b341e9ad8e49ec40503d5f",
            "bb226d4e103e4f96a852d1f7858f1d3c",
            "d15cb75d835c474cb6be414ba8b9d573",
            "9208ab94b44340d39a4d5a5f03e44870",
            "a3d21459c293496eba1bca2fe3e57384",
            "d5ac92ab35d04ad8a7e53f78732f22e0",
            "6e38c12bff24444db3db8f02f83f989b",
            "3ef3091b5f4c4fae9a631f1cb1185137",
            "90d9cd7f30f644eb91517c881d069a51",
            "371a7ab1355246448dd073ac8332fac2",
            "64367b614d8e4d29b0ab05e1f02c784f",
            "c2ca24b9587a48eb98175feb1814c8f9",
            "eb218f8b37924b2ab1701443b578cb0e",
            "e7f6cf72281a4eb7aeee61fcebfb2807",
            "ffb5673920bc4164bb919c872bf5efed",
            "c6e470bee4234bac80a47b0e1859ffaa",
            "f1da10a8d5a040a4a02e7ab7de9d8a12",
            "c9ec198d82ea4ed78da52b06adab6fd0",
            "5596a93d7aa247839b9d6571b6cc783c",
            "03c41067e47a491d9e4e7437a0dd32eb",
            "fe2bfac3730d4189887f77e4f0052051",
            "6b6b414cbe6649fab0cb94e9f1a5337e",
            "4377df8c289a4eaea15119d6f7cc577e",
            "92449f82122c4cbfa5f7450b29543aa6",
            "bfd7efce41bb4540a71d105df3003571",
            "1a9001f1a1a4454a97b6d6f9495a25f8"
          ]
        },
        "id": "jC8Ts1qj5OyU",
        "outputId": "282533bb-98d6-46ba-eec5-1281baf95f8c"
      },
      "outputs": [
        {
          "data": {
            "application/vnd.jupyter.widget-view+json": {
              "model_id": "535dedbd231a49a59c6ac5febb59f2d2",
              "version_major": 2,
              "version_minor": 0
            },
            "text/plain": [
              "Uploading the dataset shards:   0%|          | 0/1 [00:00<?, ?it/s]"
            ]
          },
          "metadata": {},
          "output_type": "display_data"
        },
        {
          "data": {
            "application/vnd.jupyter.widget-view+json": {
              "model_id": "a3d21459c293496eba1bca2fe3e57384",
              "version_major": 2,
              "version_minor": 0
            },
            "text/plain": [
              "Creating parquet from Arrow format:   0%|          | 0/3 [00:00<?, ?ba/s]"
            ]
          },
          "metadata": {},
          "output_type": "display_data"
        },
        {
          "data": {
            "application/vnd.jupyter.widget-view+json": {
              "model_id": "c6e470bee4234bac80a47b0e1859ffaa",
              "version_major": 2,
              "version_minor": 0
            },
            "text/plain": [
              "README.md:   0%|          | 0.00/30.0 [00:00<?, ?B/s]"
            ]
          },
          "metadata": {},
          "output_type": "display_data"
        },
        {
          "data": {
            "text/plain": [
              "Dataset({\n",
              "    features: ['originalFormCode', 'modifiedFormCode', 'removedNodeEnglish', 'removedNodeContextEnglish', 'originalFormAst', 'userPrompt'],\n",
              "    num_rows: 3000\n",
              "})"
            ]
          },
          "execution_count": 60,
          "metadata": {},
          "output_type": "execute_result"
        }
      ],
      "source": [
        "ds = Dataset.from_pandas(examples)\n",
        "ds.push_to_hub(\"guy-or/form-lang-examples\", \"3k_single_omission\")\n",
        "ds"
      ]
    },
    {
      "cell_type": "markdown",
      "id": "f9c2613f-879e-4a67-8216-af5af4a78b6d",
      "metadata": {
        "id": "f9c2613f-879e-4a67-8216-af5af4a78b6d"
      },
      "source": [
        "# Zero-shot evaluation and Training using Llama 3.2-1B as a foundation model\n",
        "\n",
        "We've selected Llama 3.2 1B Instruct as a foundantion model of our experimentation.\n",
        "\n",
        "This is choice is driven by the popularity of the model and the abundace of resources and examples available online. Specifically the 1B version was chosen because it can run on consumer hardware and can be trained on free cloud resources.\n",
        "\n",
        "Another important factor in this choice is Llama's large context size of 128K tokens, this allows us to experiment with large prompts and opens the door for building complex AI agents that can be fed with `FormLang`'s compiler messages and user feedback and adjust their responses.\n",
        "\n",
        "Successfully demonstrating performance improvement after training the 1B version will justify further time and cost investment required for training larger models."
      ]
    },
    {
      "cell_type": "markdown",
      "id": "g1QKKfwHm3I-",
      "metadata": {
        "id": "g1QKKfwHm3I-"
      },
      "source": [
        "## Performance metrics\n",
        "\n",
        "Before attempting to train the model, we want to define perfomance metrics for the code generation task and evaluate the base model performance on some of our data in order to establish a baseline for performance.\n",
        "\n",
        "We will measure 3 metrics:\n",
        "\n",
        "* Accuracy\n",
        "* BLEU\n",
        "* ROUGE\n",
        "\n",
        "BLUE and ROUGE are standard metrics for measuring text generation performance when we want to compare the model's output to a desired output.\n",
        "\n",
        "In the case of code generation, these metrics may not accurately reflect the quality of the model's output when applied to the source code and therefore we will try to apply them both on the serialized AST (in JSON format) of the generated code as well as the code itself and the raw output of the model vs the expected one.\n",
        "\n",
        "**(TBD)** Try CodeBLEU and `apted` for tree edit distance algorithms that might better reflect the model's performance."
      ]
    },
    {
      "cell_type": "markdown",
      "id": "oMYGTbnVzAM7",
      "metadata": {
        "id": "oMYGTbnVzAM7"
      },
      "source": [
        "## Loading the Dataset from HuggingFace using `Datasets`"
      ]
    },
    {
      "cell_type": "markdown",
      "id": "sId22NagWdh_",
      "metadata": {
        "id": "sId22NagWdh_"
      },
      "source": [
        "We load the Dataset from the Hub using `load_dataset` function. The dataset contains the raw user prompt and expected outputs.\n",
        "\n",
        "In the next steps we will use these fields to create a full prompt which includes our system prompt and finally tokenize the prompt in preparation for running the model."
      ]
    },
    {
      "cell_type": "code",
      "execution_count": 15,
      "id": "nZLwM8m1zEAA",
      "metadata": {
        "colab": {
          "base_uri": "https://localhost:8080/",
          "height": 287,
          "referenced_widgets": [
            "36174ac552a44a9dbbe92a14159e2748",
            "fbfa91aa95d844c09431e4112f8a422e",
            "dad9ba62f2ff4dd09bd53adde3318fc0",
            "d6c069408a1c4a5b96bb6c882e3534bb",
            "de972fc7e3f240f6b968221a62afc622",
            "64c26457d55c44f497c1d88196067f3b",
            "5052135c00fa4c8d81e3b9225604902d",
            "88486f3da0874bfd87019c09cdef9806",
            "fb7256f4a433489ba69760396a0e4eb0",
            "5f57a19b504a4f239a01522c051d5a44",
            "98563bb7283a40eabbee8af09b0d7793",
            "4a28bc24b9574a4f9479ceb24a3bebcc",
            "426aaab3a4094563a6a606c35022e92e",
            "f09c5288bcf94a119f928414377a6c1b",
            "60a9fb7830054ba0b7822ac7b0e7591e",
            "62ee22fef7844db389dd0257fc21eb85",
            "6a05d992884d4738906b5c5fb2be8289",
            "4820b8eb7a38425c83d3fe1b3602249b",
            "4487c6804ba6439894cf2563b562587b",
            "1610ccb0893d44bfad72465295328f48",
            "ef32006be49648bdade303c3b5691ced",
            "87ff1e7b0821407d8f536d41e11ace3b",
            "ee58648e02804d72a2e2ace5153fe2c6",
            "3a4de7f105ac4e7290faaf1d1557b034",
            "affbb9a383c04d9eafc6d072024ec792",
            "892cf6fae08a4b12b1a3f5c9cacce105",
            "99585897bb0b43d3b2339a5399849eeb",
            "ee3df9e8bebe4c438b56d2103e6303bc",
            "2ac85ba17a634adfb71f68db33d32a43",
            "a7294684b1e74809b3b31a309f2f47d2",
            "6097991afe504270ad2045134a8427b9",
            "12426b28d05f4a0bbf7f2770a078a081",
            "cc974b36dd2c41be94ff50c723860e0f"
          ]
        },
        "id": "nZLwM8m1zEAA",
        "outputId": "ebb4e0cb-ca54-43f2-b06f-f075d3f20190"
      },
      "outputs": [
        {
          "output_type": "stream",
          "name": "stderr",
          "text": [
            "/usr/local/lib/python3.11/dist-packages/huggingface_hub/utils/_auth.py:94: UserWarning: \n",
            "The secret `HF_TOKEN` does not exist in your Colab secrets.\n",
            "To authenticate with the Hugging Face Hub, create a token in your settings tab (https://huggingface.co/settings/tokens), set it as secret in your Google Colab and restart your session.\n",
            "You will be able to reuse this secret in all of your notebooks.\n",
            "Please note that authentication is recommended but still optional to access public models or datasets.\n",
            "  warnings.warn(\n"
          ]
        },
        {
          "output_type": "display_data",
          "data": {
            "text/plain": [
              "README.md:   0%|          | 0.00/598 [00:00<?, ?B/s]"
            ],
            "application/vnd.jupyter.widget-view+json": {
              "version_major": 2,
              "version_minor": 0,
              "model_id": "36174ac552a44a9dbbe92a14159e2748"
            }
          },
          "metadata": {}
        },
        {
          "output_type": "display_data",
          "data": {
            "text/plain": [
              "train-00000-of-00001.parquet:   0%|          | 0.00/3.42M [00:00<?, ?B/s]"
            ],
            "application/vnd.jupyter.widget-view+json": {
              "version_major": 2,
              "version_minor": 0,
              "model_id": "4a28bc24b9574a4f9479ceb24a3bebcc"
            }
          },
          "metadata": {}
        },
        {
          "output_type": "display_data",
          "data": {
            "text/plain": [
              "Generating train split:   0%|          | 0/3000 [00:00<?, ? examples/s]"
            ],
            "application/vnd.jupyter.widget-view+json": {
              "version_major": 2,
              "version_minor": 0,
              "model_id": "ee58648e02804d72a2e2ace5153fe2c6"
            }
          },
          "metadata": {}
        },
        {
          "output_type": "execute_result",
          "data": {
            "text/plain": [
              "Dataset({\n",
              "    features: ['originalFormCode', 'modifiedFormCode', 'removedNodeEnglish', 'removedNodeContextEnglish', 'originalFormAst', 'userPrompt'],\n",
              "    num_rows: 3000\n",
              "})"
            ]
          },
          "metadata": {},
          "execution_count": 15
        }
      ],
      "source": [
        "ds_3k_single_omission = load_dataset(\"guy-or/form-lang-examples\", \"3k_single_omission\")\n",
        "ds_3k_single_omission_all = ds_3k_single_omission['train']\n",
        "ds_3k_single_omission_all"
      ]
    },
    {
      "cell_type": "markdown",
      "id": "qzjmFnQVXMan",
      "metadata": {
        "id": "qzjmFnQVXMan"
      },
      "source": [
        "### Dataset pre-processing"
      ]
    },
    {
      "cell_type": "markdown",
      "id": "3Toq4CzCbSbU",
      "metadata": {
        "id": "3Toq4CzCbSbU"
      },
      "source": [
        "In order to create prompts that effectively describe the task to our Llama 3.2 model, we need to format our prompt in a way that the model was trained to respond to.\n",
        "\n",
        "This is called a [Prompt Template](https://www.llama.com/docs/model-cards-and-prompt-formats/llama3_1/#prompt-template), which consists of a **System prompt** which provides the initial context and guidelines for the model, followed by a **User prompt** containing the request and relevant data."
      ]
    },
    {
      "cell_type": "markdown",
      "id": "uT_enSsLCBAo",
      "metadata": {
        "id": "uT_enSsLCBAo"
      },
      "source": [
        "#### System prompt\n",
        "\n",
        "Our System prompt instructs the LLM to generate the original form (the `originalFormCode` column) given the data present in the user prompt which we already created in the Dataset generation part."
      ]
    },
    {
      "cell_type": "code",
      "execution_count": 16,
      "id": "b4b6667d-4313-4aab-9f4e-03bd9acd00a4",
      "metadata": {
        "id": "b4b6667d-4313-4aab-9f4e-03bd9acd00a4"
      },
      "outputs": [],
      "source": [
        "def get_system_prompt():\n",
        "    return (\n",
        "        \"You are a code generation AI assistant.\\n\"\n",
        "        \"Your job is to generate valid FormLang code according to the instructions given below:\\n\"\n",
        "            \"Inspect the following FormLang Form definition, the start of the code will be denoted with ```FormLang and its end with ``` .\\n\"\n",
        "            \"After inspection, complete the Form's code according to the given a description of a new form element and a description of its location in the form.\\n\"\n",
        "            \"You may assume that the new form element to be added is always either a 'form' or a 'field'.\\n\"\n",
        "            \"Your output must be valid and compiler-friendly FormLang code only.\\n\"\n",
        "            \"If you are unsure of the FormLang syntax, try to infer it from the form code which is given below as an input.\"\n",
        "            \"Your answer will be evaluated using an AST comparison of your code to the expected code.\\n\"\n",
        "            \"Assume that the input code is valid and requires no modification other than the NEW code you must generate.\\n\"\n",
        "            \"You must output plain FormLang code without any additional text or delimiters.\\n\"\n",
        "            \"You must not change any part of the original input code other than adding the required element.\\n\"\n",
        "    )\n",
        "\n"
      ]
    },
    {
      "cell_type": "markdown",
      "id": "40697b6f-c5e8-4a88-9396-1b0e91e07e7a",
      "metadata": {
        "id": "40697b6f-c5e8-4a88-9396-1b0e91e07e7a"
      },
      "source": [
        "#### Creating the full chat prompts"
      ]
    },
    {
      "cell_type": "markdown",
      "id": "lnkpStI-d3Vz",
      "metadata": {
        "id": "lnkpStI-d3Vz"
      },
      "source": [
        "We load Llama's tokenizer using Huggingface `AutoTokenizer` class and leverage its [Chat templates](https://huggingface.co/docs/transformers/v4.48.2/en/chat_templating#introduction) capabilities which exposes a simple API for formatting our prompts into Llama's required Prompt Template.\n",
        "\n",
        "We create a `fullPrompt` column to store the input prompt which contains the templated system and user prompts.\n",
        "\n",
        "Since our model's generated text gets appended (according to the prompt template format) to the input prompt, we also create a `labels` column containing the final expected model output.\n",
        "\n",
        "The special `<|eot_id|>` token signifies the End of Turn. In the Lama 3.1 to 3.3 family of models this token signals to the executor that the model has finished generating a response."
      ]
    },
    {
      "cell_type": "code",
      "execution_count": 95,
      "id": "qNBLUfJV9-gJ",
      "metadata": {
        "id": "qNBLUfJV9-gJ"
      },
      "outputs": [],
      "source": [
        "# Setting the padding side to left for generation - later  on for training we will use right\n",
        "tok = AutoTokenizer.from_pretrained(\"meta-llama/Llama-3.2-1B-Instruct\", padding_side=\"left\")\n",
        "tok.pad_token = \"<|finetune_right_pad_id|>\"\n",
        "\n",
        "def get_chat_prompt(userPrompt):\n",
        "    return [\n",
        "        {\"role\": \"system\", \"content\": get_system_prompt()},\n",
        "        {\"role\": \"user\", \"content\": userPrompt}]\n",
        "\n",
        "def preprocess_func(example, add_generation_prompt=True):\n",
        "    full_prompt = tok.apply_chat_template(get_chat_prompt(example[\"userPrompt\"]), tokenize=False, add_generation_prompt=add_generation_prompt)\n",
        "    expected_output = f\"{full_prompt}{example['originalFormCode']}<|eot_id|>\"\n",
        "    return {\"fullPrompt\": full_prompt, \"labels\": expected_output}\n",
        "\n",
        "# Currently unused\n",
        "def tokenize_func(examples):\n",
        "    return tok(examples[\"fullPrompt\"], return_tensors=\"pt\")"
      ]
    },
    {
      "cell_type": "code",
      "execution_count": 75,
      "id": "Afh4hOg0hnYC",
      "metadata": {
        "colab": {
          "base_uri": "https://localhost:8080/"
        },
        "id": "Afh4hOg0hnYC",
        "outputId": "4b03dd5b-dc5b-4c35-eb6c-53c134ec3ae8"
      },
      "outputs": [
        {
          "output_type": "execute_result",
          "data": {
            "text/plain": [
              "Dataset({\n",
              "    features: ['originalFormCode', 'modifiedFormCode', 'removedNodeEnglish', 'removedNodeContextEnglish', 'originalFormAst', 'userPrompt', 'fullPrompt', 'labels'],\n",
              "    num_rows: 3000\n",
              "})"
            ]
          },
          "metadata": {},
          "execution_count": 75
        }
      ],
      "source": [
        "ds_3k_full_prompt = ds_3k_single_omission_all.map(preprocess_func, batched=False) # Our preprocess_func doesn't support batch operations\n",
        "#ds_3k_full_prompt = ds_3k_full_prompt.map(tokenize_func, batched=False)\n",
        "#ds_3k_full_prompt.set_format(type=\"torch\", columns=[\"input_ids\", \"attention_mask\"])\n",
        "ds_3k_full_prompt"
      ]
    },
    {
      "cell_type": "code",
      "execution_count": null,
      "id": "33d6w4H0h7pE",
      "metadata": {
        "colab": {
          "base_uri": "https://localhost:8080/",
          "height": 261
        },
        "id": "33d6w4H0h7pE",
        "outputId": "64cececf-00e3-4700-dabc-71a477e1864b"
      },
      "outputs": [
        {
          "data": {
            "text/plain": [
              "('<|begin_of_text|><|start_header_id|>system<|end_header_id|>\\n\\nCutting Knowledge Date: December 2023\\nToday Date: 09 Feb 2025\\n\\nYou are a code generation AI assistant.\\nYour job is to generate valid FormLang code according to the instructions given below:\\nInspect the following FormLang Form definition, the start of the code will be denoted with ```FormLang and its end with ``` .\\nAfter inspection, complete the Form\\'s code according to the given a description of a new form element and a description of its location in the form.\\nYou may assume that the new form element to be added is always either a \\'form\\' or a \\'field\\'.\\nYour output must be valid and compiler-friendly FormLang code only.\\nIf you are unsure of the FormLang syntax, try to infer it from the form code which is given below as an input.Your answer will be evaluated using an AST comparison of your code to the expected code.\\nAssume that the input code is valid and requires no modification other than the NEW code you must generate.\\nYou must output plain FormLang code without any additional text or delimiters.\\nYou must not change any part of the original input code other than adding the required element.<|eot_id|><|start_header_id|>user<|end_header_id|>\\n\\n```FormLang\\n\\n  component userDetailsContainer {}\\n  component formContainer {}\\n  component someOtherContainer {}\\n  component OtherContainer2 {}\\n\\n\\n  component myTextBox {\\n    props {\\n      textColor\\n      textSize\\n      textWeight\\n      borderColor\\n    }\\n  }\\n  component myCheckbox {\\n    props {\\n      size\\n    }\\n  }\\n  component otherTextBox {}\\n  component counter {\\n    props {\\n      style\\n    }\\n  }\\n\\nform Bw {\\n\\tcomp OtherContainer2 \\n\\t\\n\\tfield G {\\n\\t\\tcomp myCheckbox size=\"\\'Hello\\'.toLowerCase()\" as expression\\n\\t\\t\\n\\t}\\n\\tform a {\\n\\t\\tcomp formContainer \\n\\t\\t\\n\\t\\tfield qw {\\n\\t\\t\\tstate boolean[]\\n\\t\\t\\tcomp otherTextBox \\n\\t\\t\\t\\n\\t\\t}\\n\\t\\tfield F__ {\\n\\t\\t\\tcomp myTextBox \\n\\t\\t\\t\\n\\t\\t}\\n\\t\\tfield Y__ {\\n\\t\\t\\tstate string default \"\\'John Streich\\'\" as expression\\n\\t\\t\\tcomp myTextBox \\n\\t\\t\\t\\n\\t\\t}\\n\\t\\tfield S_w {\\n\\t\\t\\tstate string\\n\\t\\t\\tcomp myCheckbox size=\"#121310\"\\n\\t\\t\\t\\n\\t\\t}\\n\\t\\tfield N_ {\\n\\t\\t\\tstate number default \"0.17049162264892637\" as expression\\n\\t\\t\\tcomp counter \\n\\t\\t\\t\\n\\t\\t}\\n\\t}\\n\\n\\tfield pw_wwww_w__ {\\n\\t\\tstate boolean\\n\\t\\tcomp counter \\n\\t\\t\\n\\t}\\n\\tfield J {\\n\\t\\tstate string\\n\\t\\tcomp otherTextBox \\n\\t\\t\\n\\t}\\n}\\n\\n```\\nThe description of the form element you need to add:\\n\\ta field whose id is \\'Z_\\' with state of type: \\'string\\', and is using the component \\'otherTextBox\\'.\\n\\t\\nThe description of the context in the form where you should add the element:\\nThe element to be added:\\n* is a child of the form whose id is \\'Bw\\'.\\n* is located between the field whose id is \\'pw_wwww_w__\\' and the field whose id is \\'J\\'<|eot_id|><|start_header_id|>assistant<|end_header_id|>\\n\\n',\n",
              " '<|begin_of_text|><|start_header_id|>system<|end_header_id|>\\n\\nCutting Knowledge Date: December 2023\\nToday Date: 09 Feb 2025\\n\\nYou are a code generation AI assistant.\\nYour job is to generate valid FormLang code according to the instructions given below:\\nInspect the following FormLang Form definition, the start of the code will be denoted with ```FormLang and its end with ``` .\\nAfter inspection, complete the Form\\'s code according to the given a description of a new form element and a description of its location in the form.\\nYou may assume that the new form element to be added is always either a \\'form\\' or a \\'field\\'.\\nYour output must be valid and compiler-friendly FormLang code only.\\nIf you are unsure of the FormLang syntax, try to infer it from the form code which is given below as an input.Your answer will be evaluated using an AST comparison of your code to the expected code.\\nAssume that the input code is valid and requires no modification other than the NEW code you must generate.\\nYou must output plain FormLang code without any additional text or delimiters.\\nYou must not change any part of the original input code other than adding the required element.<|eot_id|><|start_header_id|>user<|end_header_id|>\\n\\n```FormLang\\n\\n  component userDetailsContainer {}\\n  component formContainer {}\\n  component someOtherContainer {}\\n  component OtherContainer2 {}\\n\\n\\n  component myTextBox {\\n    props {\\n      textColor\\n      textSize\\n      textWeight\\n      borderColor\\n    }\\n  }\\n  component myCheckbox {\\n    props {\\n      size\\n    }\\n  }\\n  component otherTextBox {}\\n  component counter {\\n    props {\\n      style\\n    }\\n  }\\n\\nform Bw {\\n\\tcomp OtherContainer2 \\n\\t\\n\\tfield G {\\n\\t\\tcomp myCheckbox size=\"\\'Hello\\'.toLowerCase()\" as expression\\n\\t\\t\\n\\t}\\n\\tform a {\\n\\t\\tcomp formContainer \\n\\t\\t\\n\\t\\tfield qw {\\n\\t\\t\\tstate boolean[]\\n\\t\\t\\tcomp otherTextBox \\n\\t\\t\\t\\n\\t\\t}\\n\\t\\tfield F__ {\\n\\t\\t\\tcomp myTextBox \\n\\t\\t\\t\\n\\t\\t}\\n\\t\\tfield Y__ {\\n\\t\\t\\tstate string default \"\\'John Streich\\'\" as expression\\n\\t\\t\\tcomp myTextBox \\n\\t\\t\\t\\n\\t\\t}\\n\\t\\tfield S_w {\\n\\t\\t\\tstate string\\n\\t\\t\\tcomp myCheckbox size=\"#121310\"\\n\\t\\t\\t\\n\\t\\t}\\n\\t\\tfield N_ {\\n\\t\\t\\tstate number default \"0.17049162264892637\" as expression\\n\\t\\t\\tcomp counter \\n\\t\\t\\t\\n\\t\\t}\\n\\t}\\n\\n\\tfield pw_wwww_w__ {\\n\\t\\tstate boolean\\n\\t\\tcomp counter \\n\\t\\t\\n\\t}\\n\\tfield J {\\n\\t\\tstate string\\n\\t\\tcomp otherTextBox \\n\\t\\t\\n\\t}\\n}\\n\\n```\\nThe description of the form element you need to add:\\n\\ta field whose id is \\'Z_\\' with state of type: \\'string\\', and is using the component \\'otherTextBox\\'.\\n\\t\\nThe description of the context in the form where you should add the element:\\nThe element to be added:\\n* is a child of the form whose id is \\'Bw\\'.\\n* is located between the field whose id is \\'pw_wwww_w__\\' and the field whose id is \\'J\\'<|eot_id|><|start_header_id|>assistant<|end_header_id|>\\n\\n\\n  component userDetailsContainer {}\\n  component formContainer {}\\n  component someOtherContainer {}\\n  component OtherContainer2 {}\\n\\n\\n  component myTextBox {\\n    props {\\n      textColor\\n      textSize\\n      textWeight\\n      borderColor\\n    }\\n  }\\n  component myCheckbox {\\n    props {\\n      size\\n    }\\n  }\\n  component otherTextBox {}\\n  component counter {\\n    props {\\n      style\\n    }\\n  }\\n\\nform Bw {\\n\\tcomp OtherContainer2 \\n\\t\\n\\tfield G {\\n\\t\\tcomp myCheckbox size=\"\\'Hello\\'.toLowerCase()\" as expression\\n\\t\\t\\n\\t}\\n\\tform a {\\n\\t\\tcomp formContainer \\n\\t\\t\\n\\t\\tfield qw {\\n\\t\\t\\tstate boolean[]\\n\\t\\t\\tcomp otherTextBox \\n\\t\\t\\t\\n\\t\\t}\\n\\t\\tfield F__ {\\n\\t\\t\\tcomp myTextBox \\n\\t\\t\\t\\n\\t\\t}\\n\\t\\tfield Y__ {\\n\\t\\t\\tstate string default \"\\'John Streich\\'\" as expression\\n\\t\\t\\tcomp myTextBox \\n\\t\\t\\t\\n\\t\\t}\\n\\t\\tfield S_w {\\n\\t\\t\\tstate string\\n\\t\\t\\tcomp myCheckbox size=\"#121310\"\\n\\t\\t\\t\\n\\t\\t}\\n\\t\\tfield N_ {\\n\\t\\t\\tstate number default \"0.17049162264892637\" as expression\\n\\t\\t\\tcomp counter \\n\\t\\t\\t\\n\\t\\t}\\n\\t}\\n\\n\\tfield pw_wwww_w__ {\\n\\t\\tstate boolean\\n\\t\\tcomp counter \\n\\t\\t\\n\\t}\\n\\tfield Z_ {\\n\\t\\tstate string\\n\\t\\tcomp otherTextBox \\n\\t\\t\\n\\t}\\n\\tfield J {\\n\\t\\tstate string\\n\\t\\tcomp otherTextBox \\n\\t\\t\\n\\t}\\n}\\n<|eot_id|>')"
            ]
          },
          "execution_count": 73,
          "metadata": {},
          "output_type": "execute_result"
        }
      ],
      "source": [
        "ds_3k_full_prompt[0]['fullPrompt'],ds_3k_full_prompt[0]['labels']"
      ]
    },
    {
      "cell_type": "markdown",
      "id": "0432f3f4-e868-4d72-926c-07295a3b9da4",
      "metadata": {
        "id": "0432f3f4-e868-4d72-926c-07295a3b9da4"
      },
      "source": [
        "#### Creating the Train Validation Test split\n",
        "\n",
        "We allocate 80% for training and 10% for test and validation each.\n",
        "\n",
        "Since we are able to generate arbitrarily large amounts of data with different distributions, these percentages does not matter too much."
      ]
    },
    {
      "cell_type": "code",
      "execution_count": 77,
      "id": "847ecac0-2670-44c9-a532-a3b5cb871d65",
      "metadata": {
        "colab": {
          "base_uri": "https://localhost:8080/"
        },
        "id": "847ecac0-2670-44c9-a532-a3b5cb871d65",
        "outputId": "8994a5d4-606d-4799-d648-47b997e74123"
      },
      "outputs": [
        {
          "output_type": "execute_result",
          "data": {
            "text/plain": [
              "(Dataset({\n",
              "     features: ['originalFormCode', 'modifiedFormCode', 'removedNodeEnglish', 'removedNodeContextEnglish', 'originalFormAst', 'userPrompt', 'fullPrompt', 'labels'],\n",
              "     num_rows: 2400\n",
              " }),\n",
              " Dataset({\n",
              "     features: ['originalFormCode', 'modifiedFormCode', 'removedNodeEnglish', 'removedNodeContextEnglish', 'originalFormAst', 'userPrompt', 'fullPrompt', 'labels'],\n",
              "     num_rows: 300\n",
              " }),\n",
              " Dataset({\n",
              "     features: ['originalFormCode', 'modifiedFormCode', 'removedNodeEnglish', 'removedNodeContextEnglish', 'originalFormAst', 'userPrompt', 'fullPrompt', 'labels'],\n",
              "     num_rows: 300\n",
              " }))"
            ]
          },
          "metadata": {},
          "execution_count": 77
        }
      ],
      "source": [
        "def create_train_validation_test_split(dataset, test_size):\n",
        "    splits = dataset.train_test_split(test_size=test_size)\n",
        "    test_splits = splits[\"test\"].train_test_split(test_size=0.5) # Split so that test and validation sizes are equal\n",
        "    return {\"train\": splits[\"train\"], \"test\": test_splits[\"train\"], \"validation\": test_splits[\"test\"]}\n",
        "\n",
        "ds_3k_splits = create_train_validation_test_split(ds_3k_full_prompt, 0.2)\n",
        "ds_3k_train, ds_3k_test, ds_3k_val = ds_3k_splits[\"train\"], ds_3k_splits[\"test\"], ds_3k_splits[\"validation\"]\n",
        "ds_3k_train, ds_3k_test, ds_3k_val"
      ]
    },
    {
      "cell_type": "markdown",
      "id": "4GkOV4EcDMYD",
      "metadata": {
        "id": "4GkOV4EcDMYD"
      },
      "source": [
        "## Utils\n",
        "\n",
        "We create several utility functions for pre and post processing the prompt data"
      ]
    },
    {
      "cell_type": "markdown",
      "id": "1XxQP8khpJxw",
      "metadata": {
        "id": "1XxQP8khpJxw"
      },
      "source": [
        "### Extracting the model's response from the output text\n",
        "\n",
        "Our model's raw output is a concatenation of the input and the generated text following Llama's Prompt Template semantics.\n",
        "\n",
        "In order to extract the generated code we first need to identify the model's latest response by extracting all the text between the special `<|start_header_id|>assistant<|end_header_id|>` and `<|eot_id|>` tokens."
      ]
    },
    {
      "cell_type": "code",
      "execution_count": 25,
      "id": "soI2wI4rpyjG",
      "metadata": {
        "id": "soI2wI4rpyjG"
      },
      "outputs": [],
      "source": [
        "# prompt: Create a function that accepts the output text and extracts all the text starting at the LATEST OCCURRENCE of \"<|start_header_id|>assistant<|end_header_id|>\" and ends with \"<|eot_id|>\"\n",
        "\n",
        "def exatract_latest_assistant_response(text):\n",
        "    \"\"\"\n",
        "    Extracts the model's response from the output text.\n",
        "\n",
        "    Args:\n",
        "        text: The output text from the model.\n",
        "\n",
        "    Returns:\n",
        "        The extracted model response, or None if no response is found.\n",
        "    \"\"\"\n",
        "    match = re.findall(r\"<\\|start_header_id\\|>assistant<\\|end_header_id\\|>(.*?)<\\|eot_id\\|>\", text, re.DOTALL)\n",
        "    if match:\n",
        "        return match[-1].strip()  # Return the latest occurrence\n",
        "    else:\n",
        "        return None\n"
      ]
    },
    {
      "cell_type": "markdown",
      "id": "cbbd5154-6661-46d9-b02b-704e6628b096",
      "metadata": {
        "id": "cbbd5154-6661-46d9-b02b-704e6628b096"
      },
      "source": [
        "### Extracting FormLang code from LLM output\n",
        "\n",
        "The LLM might ignore the instruction to output plain code without the \"```FormLang\" delimiter, in that case we should try to extract the contents."
      ]
    },
    {
      "cell_type": "code",
      "execution_count": 26,
      "id": "9fa8d994-82ce-4274-a2e1-016230ec5301",
      "metadata": {
        "id": "9fa8d994-82ce-4274-a2e1-016230ec5301"
      },
      "outputs": [],
      "source": [
        "def extract_code_block(text, lang):\n",
        "  \"\"\"\n",
        "  Extracts a code block from a string.\n",
        "\n",
        "  Args:\n",
        "    text: The string containing the code block.\n",
        "    lang: The name of the language the code block is written in.\n",
        "\n",
        "  Returns:\n",
        "    The code block, or None if no code block is found.\n",
        "  \"\"\"\n",
        "  if text is None:\n",
        "    return None\n",
        "  pattern = f\"```{lang}\\n(.*?)```\"\n",
        "  match = re.search(pattern, text, re.DOTALL)\n",
        "  if match:\n",
        "    return match.group(1).strip()\n",
        "  return None\n",
        "\n",
        "def extract_llm_formlang_output(text):\n",
        "    # Strip leading and trailing whitespace and check for delimiters\n",
        "    text = text.strip()\n",
        "    assistant_response = exatract_latest_assistant_response(text)\n",
        "    return extract_code_block(assistant_response, \"FormLang\") or assistant_response"
      ]
    },
    {
      "cell_type": "markdown",
      "id": "5a1d4df7-8c7c-4667-937c-dae80a2421bc",
      "metadata": {
        "id": "5a1d4df7-8c7c-4667-937c-dae80a2421bc"
      },
      "source": [
        "### Running inference on a single example"
      ]
    },
    {
      "cell_type": "code",
      "execution_count": 27,
      "id": "8885d2d6-048d-42f6-be9e-1c6debb3cd1c",
      "metadata": {
        "id": "8885d2d6-048d-42f6-be9e-1c6debb3cd1c"
      },
      "outputs": [],
      "source": [
        "def clear_mem():\n",
        "    \"\"\"Clear unused GPU memory used by the python process\"\"\"\n",
        "    import gc\n",
        "    gc.collect()\n",
        "    torch.cuda.empty_cache()"
      ]
    },
    {
      "cell_type": "code",
      "execution_count": 28,
      "id": "gdDNgUBRNG1_",
      "metadata": {
        "id": "gdDNgUBRNG1_"
      },
      "outputs": [],
      "source": [
        "def run_inference(model, tok, example, cuda=True):\n",
        "    \"\"\"Runs pre-processing, inference and post-processing on a single example.\"\"\"\n",
        "    example_inputs = tok(example, return_tensors=\"pt\")\n",
        "    if cuda:\n",
        "        example_inputs = example_inputs.to(\"cuda\")\n",
        "    with torch.no_grad():\n",
        "      example_outputs = model.generate(**example_inputs, max_new_tokens=10000)\n",
        "    generated_text = tok.decode(example_outputs[0], skip_special_tokens=False)\n",
        "    del example_inputs\n",
        "    del example_outputs\n",
        "    generated_code = extract_llm_formlang_output(generated_text)\n",
        "    ast = get_ast(generated_code)\n",
        "    return {\"generated_code\": generated_code, \"generated_text\": generated_text, \"ast\": ast}"
      ]
    },
    {
      "cell_type": "markdown",
      "id": "NFAumI6WDQV-",
      "metadata": {
        "id": "NFAumI6WDQV-"
      },
      "source": [
        "## Zero-shot evaluation of Llama 3.2 1B using Transformers and Evaluate"
      ]
    },
    {
      "cell_type": "markdown",
      "id": "e5d51075-8c30-4ed8-8cea-5c6805239d4e",
      "metadata": {
        "id": "e5d51075-8c30-4ed8-8cea-5c6805239d4e"
      },
      "source": [
        "### Loading the metrics and creating evaluators"
      ]
    },
    {
      "cell_type": "markdown",
      "id": "cce15550-1375-401c-903e-26fb6fb61ea2",
      "metadata": {
        "id": "cce15550-1375-401c-903e-26fb6fb61ea2"
      },
      "source": [
        "We load the evaluators for BLEU, ROUGE and Accuracy (using the \"exact match\" metric since our data is text)."
      ]
    },
    {
      "cell_type": "code",
      "execution_count": 29,
      "id": "6202918f-765e-43fd-8deb-8f341cfc6af4",
      "metadata": {
        "id": "6202918f-765e-43fd-8deb-8f341cfc6af4"
      },
      "outputs": [],
      "source": [
        "def get_all_metrics():\n",
        "    bleu_metric = evaluate.load(\"bleu\", module_type=\"metric\")\n",
        "    rouge_metric = evaluate.load(\"rouge\", module_type=\"metric\")\n",
        "    exact_match_metric = evaluate.load(\"exact_match\", module_type=\"metric\")\n",
        "    all_metrics = evaluate.combine([bleu_metric, rouge_metric, exact_match_metric])\n",
        "    return all_metrics"
      ]
    },
    {
      "cell_type": "code",
      "execution_count": 70,
      "id": "cfa8bce5-b3a4-46e5-b676-a7543d12f2de",
      "metadata": {
        "id": "cfa8bce5-b3a4-46e5-b676-a7543d12f2de"
      },
      "outputs": [],
      "source": [
        "all_metrics = get_all_metrics()"
      ]
    },
    {
      "cell_type": "markdown",
      "id": "84c1cda0-e1dd-4e27-a0e4-ea8cb2fc42c6",
      "metadata": {
        "id": "84c1cda0-e1dd-4e27-a0e4-ea8cb2fc42c6"
      },
      "source": [
        "As an example to test the reliability of our metrics (specifically the BLEU and ROUGE scores), we check their values on a single example in the dataset,\n",
        "\n",
        "First, applied to the expected raw output of the model comparted to our prompt and\n",
        "\n",
        "Second, applied to the original form code and the modified form code.\n",
        "\n",
        "Third, between the ASTs of the original form and the modified form."
      ]
    },
    {
      "cell_type": "code",
      "execution_count": null,
      "id": "26a4c536-110d-4524-b477-ae05e89e2ee0",
      "metadata": {
        "id": "26a4c536-110d-4524-b477-ae05e89e2ee0",
        "outputId": "ecb1b3ad-6f44-4747-8270-1b67ac7581a8"
      },
      "outputs": [
        {
          "data": {
            "text/plain": [
              "{'bleu': 0.8394570207692074,\n",
              " 'precisions': [1.0, 1.0, 1.0, 1.0],\n",
              " 'brevity_penalty': 0.8394570207692074,\n",
              " 'length_ratio': 0.851063829787234,\n",
              " 'translation_length': 440,\n",
              " 'reference_length': 517,\n",
              " 'rouge1': np.float64(0.9401459854014599),\n",
              " 'rouge2': np.float64(0.9399707174231332),\n",
              " 'rougeL': np.float64(0.9401459854014599),\n",
              " 'rougeLsum': np.float64(0.9401459854014599),\n",
              " 'exact_match': np.float64(0.0)}"
            ]
          },
          "execution_count": 108,
          "metadata": {},
          "output_type": "execute_result"
        }
      ],
      "source": [
        "all_metrics.compute(references=[ds_3k_train[0][\"labels\"]], predictions=[ds_3k_train[0][\"fullPrompt\"]])"
      ]
    },
    {
      "cell_type": "code",
      "source": [
        "all_metrics.compute(references=[ds_3k_train[0][\"originalFormCode\"]], predictions=[ds_3k_train[0][\"modifiedFormCode\"]])"
      ],
      "metadata": {
        "colab": {
          "base_uri": "https://localhost:8080/"
        },
        "id": "rCSLQs0vEFdO",
        "outputId": "e4905dab-aad1-42d1-ede3-ee08579fe065"
      },
      "id": "rCSLQs0vEFdO",
      "execution_count": 79,
      "outputs": [
        {
          "output_type": "execute_result",
          "data": {
            "text/plain": [
              "{'bleu': 0.35590702586152256,\n",
              " 'precisions': [1.0,\n",
              "  0.9811320754716981,\n",
              "  0.9807692307692307,\n",
              "  0.9803921568627451],\n",
              " 'brevity_penalty': 0.3611295508093596,\n",
              " 'length_ratio': 0.4954128440366973,\n",
              " 'translation_length': 54,\n",
              " 'reference_length': 109,\n",
              " 'rouge1': 0.6666666666666666,\n",
              " 'rouge2': 0.6588235294117647,\n",
              " 'rougeL': 0.6666666666666666,\n",
              " 'rougeLsum': 0.6666666666666666,\n",
              " 'exact_match': 0.0}"
            ]
          },
          "metadata": {},
          "execution_count": 79
        }
      ]
    },
    {
      "cell_type": "code",
      "execution_count": null,
      "id": "9c01419e-6faa-45c7-a04d-d034b314e82a",
      "metadata": {
        "id": "9c01419e-6faa-45c7-a04d-d034b314e82a",
        "outputId": "73570314-daf5-4320-f5d4-c23f7f852b6e"
      },
      "outputs": [
        {
          "data": {
            "text/plain": [
              "{'bleu': 0.6076249287142229,\n",
              " 'precisions': [0.9950248756218906,\n",
              "  0.98,\n",
              "  0.964824120603015,\n",
              "  0.9595959595959596],\n",
              " 'brevity_penalty': 0.6233564232002683,\n",
              " 'length_ratio': 0.6790540540540541,\n",
              " 'translation_length': 201,\n",
              " 'reference_length': 296,\n",
              " 'rouge1': np.float64(0.7945205479452055),\n",
              " 'rouge2': np.float64(0.7887323943661971),\n",
              " 'rougeL': np.float64(0.7945205479452055),\n",
              " 'rougeLsum': np.float64(0.7945205479452055),\n",
              " 'exact_match': np.float64(0.0)}"
            ]
          },
          "execution_count": 110,
          "metadata": {},
          "output_type": "execute_result"
        }
      ],
      "source": [
        "all_metrics.compute(references=[json.dumps(ds_3k_train[0][\"originalFormAst\"])],\n",
        "                    predictions=[json.dumps(get_ast(ds_3k_train[0][\"modifiedFormCode\"]))])"
      ]
    },
    {
      "cell_type": "markdown",
      "id": "c4405479-a58e-4b51-93ce-97e0fc923770",
      "metadata": {
        "id": "c4405479-a58e-4b51-93ce-97e0fc923770"
      },
      "source": [
        "As we can see, except for the `exact_match` score, our input is very \"similar\" to our expected output with the raw prompt comparison yielding scores above 50% except for the source code comparison in the BLEU metric.\n",
        "\n",
        "This could mean on one hand that our trained model would have to exhibit scores that are very close to 100% in order to demonstrate a significant improvement,\n",
        "\n",
        "and on the other hand scores that are far below the above scores are probably very bad even if they are above 50%.\n",
        "\n",
        "It also gives us a good intution that comparing the source codes rather than their ASTs is a better option.\n",
        "\n",
        "We might also need to adjust our data generation algorithm to remove more nodes from the form (instead of a single omission algorithm for our example dataset).\n",
        "\n",
        "In order to get a better sense of the baseline similarity in our dataset we plot a historam of the BLEU and ROUGE scores applied to the AST and the prompts and compute the medians."
      ]
    },
    {
      "cell_type": "code",
      "execution_count": null,
      "id": "1d6faa7c-ee49-4b29-9203-13941133eec5",
      "metadata": {
        "id": "1d6faa7c-ee49-4b29-9203-13941133eec5"
      },
      "outputs": [],
      "source": [
        "## TODO - Draw histogram plots and compute medians"
      ]
    },
    {
      "cell_type": "code",
      "source": [
        "def evaluate_model(model, tokenizer, raw_text_evaluations, source_code_evaluations, ast_evaluations, dataset, batch_size=10, max_new_tokens=100):\n",
        "  model.generation_config.pad_token_id = tokenizer.pad_token_id\n",
        "\n",
        "  def evaluate_batch(batch):\n",
        "    inputs = tokenizer(batch[\"fullPrompt\"], return_tensors=\"pt\", padding=True, truncation=False)\n",
        "    input_ids = inputs[\"input_ids\"].to(\"cuda\")\n",
        "    attention_mask = inputs[\"attention_mask\"].to(\"cuda\")\n",
        "    with torch.no_grad():\n",
        "        t0 = time.time()\n",
        "        print(\"generating\")\n",
        "        outputs = model.generate(input_ids=input_ids, attention_mask=attention_mask, max_new_tokens=max_new_tokens)\n",
        "        print(f\"batch generated. took {time.time() - t0} seconds\")\n",
        "    # Evaluate the raw model output - We dont skip special tokens because we need them to know how to extract the LLMs latest response\n",
        "    predictions = tokenizer.batch_decode(outputs, skip_special_tokens=False)\n",
        "    print(\"decoded\")\n",
        "    references = [target for target in batch[\"labels\"]]\n",
        "    raw_text_evaluations.add_batch(predictions=predictions, references=references)\n",
        "    # Evaluate the source code output\n",
        "    form_lang_predictions = [extract_llm_formlang_output(output) or \"\" for output in predictions]\n",
        "    form_lang_references = [original_code for original_code in batch[\"originalFormCode\"]]\n",
        "    source_code_evaluations.add_batch(predictions=form_lang_predictions, references=form_lang_references)\n",
        "    # Evaluate the AST output - TODO Deal with errors\n",
        "    #ast_predictions = [json.dumps(get_ast(code)) for code in form_lang_predictions]\n",
        "    #ast_references = [ast for ast in batch[\"originalFormAst\"]]\n",
        "    #ast_evaluations.add_batch(predictions=ast_predictions, references=ast_references)\n",
        "    # Free GPU memory\n",
        "    print(\"added to eval\")\n",
        "    del outputs\n",
        "    del input_ids\n",
        "    del attention_mask\n",
        "\n",
        "  for batch in dataset.iter(batch_size):\n",
        "    evaluate_batch(batch)\n",
        "\n",
        "  return raw_text_evaluations, source_code_evaluations, ast_evaluations\n"
      ],
      "metadata": {
        "id": "7amEKRRD_nYy"
      },
      "id": "7amEKRRD_nYy",
      "execution_count": 110,
      "outputs": []
    },
    {
      "cell_type": "markdown",
      "id": "ed16a047-3a63-4d1a-afbd-e51383f12eb7",
      "metadata": {
        "id": "ed16a047-3a63-4d1a-afbd-e51383f12eb7"
      },
      "source": [
        "### Zero-shot evaluation with the original Meta version\n",
        "\n",
        "We the original Llama 3.2 1B model available from Meta and run an evaluation over our validation dataset"
      ]
    },
    {
      "cell_type": "code",
      "execution_count": 112,
      "id": "VvxfcCRFMAPE",
      "metadata": {
        "id": "VvxfcCRFMAPE"
      },
      "outputs": [],
      "source": [
        "llama3_model = AutoModelForCausalLM.from_pretrained(\"meta-llama/Llama-3.2-1B-Instruct\", torch_dtype=torch.bfloat16, device_map=\"cuda\")"
      ]
    },
    {
      "cell_type": "code",
      "source": [
        "for batch in first_50_examples.iter(10):\n",
        "  print('hello')"
      ],
      "metadata": {
        "id": "eYPb-xScOeOH",
        "outputId": "d38d4222-25d1-4d68-f268-29b38099d820",
        "colab": {
          "base_uri": "https://localhost:8080/"
        }
      },
      "id": "eYPb-xScOeOH",
      "execution_count": 98,
      "outputs": [
        {
          "output_type": "stream",
          "name": "stdout",
          "text": [
            "hello\n",
            "hello\n",
            "hello\n",
            "hello\n",
            "hello\n"
          ]
        }
      ]
    },
    {
      "cell_type": "markdown",
      "source": [
        "Trying to evaluate the first 50 examples in our validation dataset"
      ],
      "metadata": {
        "id": "LMps8Mv4Gge7"
      },
      "id": "LMps8Mv4Gge7"
    },
    {
      "cell_type": "code",
      "source": [
        "%%time\n",
        "first_50_examples = ds_3k_val.train_test_split(test_size=(10/300))[\"test\"]\n",
        "raw_text_evaluations, source_code_evaluations, ast_evaluations = evaluate_model(llama3_model, tok, get_all_metrics(), get_all_metrics(), get_all_metrics(), first_50_examples, batch_size=10)"
      ],
      "metadata": {
        "colab": {
          "base_uri": "https://localhost:8080/"
        },
        "id": "fj0v0KdMGXYP",
        "outputId": "e91a4b6d-706a-4478-d4d6-c4034e9e24d1"
      },
      "id": "fj0v0KdMGXYP",
      "execution_count": 113,
      "outputs": [
        {
          "output_type": "stream",
          "name": "stdout",
          "text": [
            "generating\n",
            "batch generated. took 20.98360776901245 seconds\n",
            "decoded\n",
            "added to eval\n",
            "CPU times: user 21.2 s, sys: 78.6 ms, total: 21.3 s\n",
            "Wall time: 29.4 s\n"
          ]
        }
      ]
    },
    {
      "cell_type": "code",
      "source": [
        "raw_text_evaluations.compute()"
      ],
      "metadata": {
        "id": "_UMYTlUDQwii",
        "outputId": "b3898fdd-ef7c-4269-b199-ca61c181dc04",
        "colab": {
          "base_uri": "https://localhost:8080/"
        }
      },
      "id": "_UMYTlUDQwii",
      "execution_count": 114,
      "outputs": [
        {
          "output_type": "execute_result",
          "data": {
            "text/plain": [
              "{'bleu': 0.15686434108673186,\n",
              " 'precisions': [0.15975303362377719,\n",
              "  0.15714896802481018,\n",
              "  0.15580039578542013,\n",
              "  0.15479884442542263],\n",
              " 'brevity_penalty': 1.0,\n",
              " 'length_ratio': 5.317509948834565,\n",
              " 'translation_length': 37414,\n",
              " 'reference_length': 7036,\n",
              " 'rouge1': 0.42606618911976113,\n",
              " 'rouge2': 0.42543222566941963,\n",
              " 'rougeL': 0.42177178536124454,\n",
              " 'rougeLsum': 0.4240750641202402,\n",
              " 'exact_match': 0.0}"
            ]
          },
          "metadata": {},
          "execution_count": 114
        }
      ]
    },
    {
      "cell_type": "code",
      "source": [
        "source_code_evaluations.compute()"
      ],
      "metadata": {
        "id": "bEUYh5MJQzHh",
        "outputId": "8d0201e8-7098-44cb-b5c3-c94df8fb9669",
        "colab": {
          "base_uri": "https://localhost:8080/",
          "height": 651
        }
      },
      "id": "bEUYh5MJQzHh",
      "execution_count": 115,
      "outputs": [
        {
          "output_type": "error",
          "ename": "ZeroDivisionError",
          "evalue": "float division by zero",
          "traceback": [
            "\u001b[0;31m---------------------------------------------------------------------------\u001b[0m",
            "\u001b[0;31mZeroDivisionError\u001b[0m                         Traceback (most recent call last)",
            "\u001b[0;32m<ipython-input-115-12d951ea84fd>\u001b[0m in \u001b[0;36m<cell line: 0>\u001b[0;34m()\u001b[0m\n\u001b[0;32m----> 1\u001b[0;31m \u001b[0msource_code_evaluations\u001b[0m\u001b[0;34m.\u001b[0m\u001b[0mcompute\u001b[0m\u001b[0;34m(\u001b[0m\u001b[0;34m)\u001b[0m\u001b[0;34m\u001b[0m\u001b[0;34m\u001b[0m\u001b[0m\n\u001b[0m",
            "\u001b[0;32m/usr/local/lib/python3.11/dist-packages/evaluate/module.py\u001b[0m in \u001b[0;36mcompute\u001b[0;34m(self, predictions, references, **kwargs)\u001b[0m\n\u001b[1;32m    977\u001b[0m         \u001b[0;32mfor\u001b[0m \u001b[0mevaluation_module\u001b[0m \u001b[0;32min\u001b[0m \u001b[0mself\u001b[0m\u001b[0;34m.\u001b[0m\u001b[0mevaluation_modules\u001b[0m\u001b[0;34m:\u001b[0m\u001b[0;34m\u001b[0m\u001b[0;34m\u001b[0m\u001b[0m\n\u001b[1;32m    978\u001b[0m             \u001b[0mbatch\u001b[0m \u001b[0;34m=\u001b[0m \u001b[0;34m{\u001b[0m\u001b[0;34m\"predictions\"\u001b[0m\u001b[0;34m:\u001b[0m \u001b[0mpredictions\u001b[0m\u001b[0;34m,\u001b[0m \u001b[0;34m\"references\"\u001b[0m\u001b[0;34m:\u001b[0m \u001b[0mreferences\u001b[0m\u001b[0;34m,\u001b[0m \u001b[0;34m**\u001b[0m\u001b[0mkwargs\u001b[0m\u001b[0;34m}\u001b[0m\u001b[0;34m\u001b[0m\u001b[0;34m\u001b[0m\u001b[0m\n\u001b[0;32m--> 979\u001b[0;31m             \u001b[0mresults\u001b[0m\u001b[0;34m.\u001b[0m\u001b[0mappend\u001b[0m\u001b[0;34m(\u001b[0m\u001b[0mevaluation_module\u001b[0m\u001b[0;34m.\u001b[0m\u001b[0mcompute\u001b[0m\u001b[0;34m(\u001b[0m\u001b[0;34m**\u001b[0m\u001b[0mbatch\u001b[0m\u001b[0;34m)\u001b[0m\u001b[0;34m)\u001b[0m\u001b[0;34m\u001b[0m\u001b[0;34m\u001b[0m\u001b[0m\n\u001b[0m\u001b[1;32m    980\u001b[0m \u001b[0;34m\u001b[0m\u001b[0m\n\u001b[1;32m    981\u001b[0m         \u001b[0;32mreturn\u001b[0m \u001b[0mself\u001b[0m\u001b[0;34m.\u001b[0m\u001b[0m_merge_results\u001b[0m\u001b[0;34m(\u001b[0m\u001b[0mresults\u001b[0m\u001b[0;34m)\u001b[0m\u001b[0;34m\u001b[0m\u001b[0;34m\u001b[0m\u001b[0m\n",
            "\u001b[0;32m/usr/local/lib/python3.11/dist-packages/evaluate/module.py\u001b[0m in \u001b[0;36mcompute\u001b[0;34m(self, predictions, references, **kwargs)\u001b[0m\n\u001b[1;32m    465\u001b[0m             \u001b[0minputs\u001b[0m \u001b[0;34m=\u001b[0m \u001b[0;34m{\u001b[0m\u001b[0minput_name\u001b[0m\u001b[0;34m:\u001b[0m \u001b[0mself\u001b[0m\u001b[0;34m.\u001b[0m\u001b[0mdata\u001b[0m\u001b[0;34m[\u001b[0m\u001b[0minput_name\u001b[0m\u001b[0;34m]\u001b[0m \u001b[0;32mfor\u001b[0m \u001b[0minput_name\u001b[0m \u001b[0;32min\u001b[0m \u001b[0mself\u001b[0m\u001b[0;34m.\u001b[0m\u001b[0m_feature_names\u001b[0m\u001b[0;34m(\u001b[0m\u001b[0;34m)\u001b[0m\u001b[0;34m}\u001b[0m\u001b[0;34m\u001b[0m\u001b[0;34m\u001b[0m\u001b[0m\n\u001b[1;32m    466\u001b[0m             \u001b[0;32mwith\u001b[0m \u001b[0mtemp_seed\u001b[0m\u001b[0;34m(\u001b[0m\u001b[0mself\u001b[0m\u001b[0;34m.\u001b[0m\u001b[0mseed\u001b[0m\u001b[0;34m)\u001b[0m\u001b[0;34m:\u001b[0m\u001b[0;34m\u001b[0m\u001b[0;34m\u001b[0m\u001b[0m\n\u001b[0;32m--> 467\u001b[0;31m                 \u001b[0moutput\u001b[0m \u001b[0;34m=\u001b[0m \u001b[0mself\u001b[0m\u001b[0;34m.\u001b[0m\u001b[0m_compute\u001b[0m\u001b[0;34m(\u001b[0m\u001b[0;34m**\u001b[0m\u001b[0minputs\u001b[0m\u001b[0;34m,\u001b[0m \u001b[0;34m**\u001b[0m\u001b[0mcompute_kwargs\u001b[0m\u001b[0;34m)\u001b[0m\u001b[0;34m\u001b[0m\u001b[0;34m\u001b[0m\u001b[0m\n\u001b[0m\u001b[1;32m    468\u001b[0m \u001b[0;34m\u001b[0m\u001b[0m\n\u001b[1;32m    469\u001b[0m             \u001b[0;32mif\u001b[0m \u001b[0mself\u001b[0m\u001b[0;34m.\u001b[0m\u001b[0mbuf_writer\u001b[0m \u001b[0;32mis\u001b[0m \u001b[0;32mnot\u001b[0m \u001b[0;32mNone\u001b[0m\u001b[0;34m:\u001b[0m\u001b[0;34m\u001b[0m\u001b[0;34m\u001b[0m\u001b[0m\n",
            "\u001b[0;32m~/.cache/huggingface/modules/evaluate_modules/metrics/evaluate-metric--bleu/9e0985c1200e367cce45605ce0ecb5ede079894e0f24f54613fca08eeb8aff76/bleu.py\u001b[0m in \u001b[0;36m_compute\u001b[0;34m(self, predictions, references, tokenizer, max_order, smooth)\u001b[0m\n\u001b[1;32m    120\u001b[0m         \u001b[0mreferences\u001b[0m \u001b[0;34m=\u001b[0m \u001b[0;34m[\u001b[0m\u001b[0;34m[\u001b[0m\u001b[0mtokenizer\u001b[0m\u001b[0;34m(\u001b[0m\u001b[0mr\u001b[0m\u001b[0;34m)\u001b[0m \u001b[0;32mfor\u001b[0m \u001b[0mr\u001b[0m \u001b[0;32min\u001b[0m \u001b[0mref\u001b[0m\u001b[0;34m]\u001b[0m \u001b[0;32mfor\u001b[0m \u001b[0mref\u001b[0m \u001b[0;32min\u001b[0m \u001b[0mreferences\u001b[0m\u001b[0;34m]\u001b[0m\u001b[0;34m\u001b[0m\u001b[0;34m\u001b[0m\u001b[0m\n\u001b[1;32m    121\u001b[0m         \u001b[0mpredictions\u001b[0m \u001b[0;34m=\u001b[0m \u001b[0;34m[\u001b[0m\u001b[0mtokenizer\u001b[0m\u001b[0;34m(\u001b[0m\u001b[0mp\u001b[0m\u001b[0;34m)\u001b[0m \u001b[0;32mfor\u001b[0m \u001b[0mp\u001b[0m \u001b[0;32min\u001b[0m \u001b[0mpredictions\u001b[0m\u001b[0;34m]\u001b[0m\u001b[0;34m\u001b[0m\u001b[0;34m\u001b[0m\u001b[0m\n\u001b[0;32m--> 122\u001b[0;31m         score = compute_bleu(\n\u001b[0m\u001b[1;32m    123\u001b[0m             \u001b[0mreference_corpus\u001b[0m\u001b[0;34m=\u001b[0m\u001b[0mreferences\u001b[0m\u001b[0;34m,\u001b[0m \u001b[0mtranslation_corpus\u001b[0m\u001b[0;34m=\u001b[0m\u001b[0mpredictions\u001b[0m\u001b[0;34m,\u001b[0m \u001b[0mmax_order\u001b[0m\u001b[0;34m=\u001b[0m\u001b[0mmax_order\u001b[0m\u001b[0;34m,\u001b[0m \u001b[0msmooth\u001b[0m\u001b[0;34m=\u001b[0m\u001b[0msmooth\u001b[0m\u001b[0;34m\u001b[0m\u001b[0;34m\u001b[0m\u001b[0m\n\u001b[1;32m    124\u001b[0m         )\n",
            "\u001b[0;32m~/.cache/huggingface/modules/evaluate_modules/metrics/evaluate-metric--bleu/9e0985c1200e367cce45605ce0ecb5ede079894e0f24f54613fca08eeb8aff76/nmt_bleu.py\u001b[0m in \u001b[0;36mcompute_bleu\u001b[0;34m(reference_corpus, translation_corpus, max_order, smooth)\u001b[0m\n\u001b[1;32m    106\u001b[0m     \u001b[0mbp\u001b[0m \u001b[0;34m=\u001b[0m \u001b[0;36m1.\u001b[0m\u001b[0;34m\u001b[0m\u001b[0;34m\u001b[0m\u001b[0m\n\u001b[1;32m    107\u001b[0m   \u001b[0;32melse\u001b[0m\u001b[0;34m:\u001b[0m\u001b[0;34m\u001b[0m\u001b[0;34m\u001b[0m\u001b[0m\n\u001b[0;32m--> 108\u001b[0;31m     \u001b[0mbp\u001b[0m \u001b[0;34m=\u001b[0m \u001b[0mmath\u001b[0m\u001b[0;34m.\u001b[0m\u001b[0mexp\u001b[0m\u001b[0;34m(\u001b[0m\u001b[0;36m1\u001b[0m \u001b[0;34m-\u001b[0m \u001b[0;36m1.\u001b[0m \u001b[0;34m/\u001b[0m \u001b[0mratio\u001b[0m\u001b[0;34m)\u001b[0m\u001b[0;34m\u001b[0m\u001b[0;34m\u001b[0m\u001b[0m\n\u001b[0m\u001b[1;32m    109\u001b[0m \u001b[0;34m\u001b[0m\u001b[0m\n\u001b[1;32m    110\u001b[0m   \u001b[0mbleu\u001b[0m \u001b[0;34m=\u001b[0m \u001b[0mgeo_mean\u001b[0m \u001b[0;34m*\u001b[0m \u001b[0mbp\u001b[0m\u001b[0;34m\u001b[0m\u001b[0;34m\u001b[0m\u001b[0m\n",
            "\u001b[0;31mZeroDivisionError\u001b[0m: float division by zero"
          ]
        }
      ]
    },
    {
      "cell_type": "code",
      "source": [
        "ast_evaluations.compute()"
      ],
      "metadata": {
        "id": "ur8dL6-uQ8zf"
      },
      "id": "ur8dL6-uQ8zf",
      "execution_count": null,
      "outputs": []
    },
    {
      "cell_type": "code",
      "execution_count": 111,
      "id": "7c4e3930-67ed-403a-9a01-12397f70cd3e",
      "metadata": {
        "id": "7c4e3930-67ed-403a-9a01-12397f70cd3e"
      },
      "outputs": [],
      "source": [
        "del llama3_model\n",
        "clear_mem()"
      ]
    },
    {
      "cell_type": "markdown",
      "id": "Gle4vtFvsJUB",
      "metadata": {
        "id": "Gle4vtFvsJUB"
      },
      "source": [
        "### Zero-shot evaluation with Unsolth's 4-bit Quantized version of the model"
      ]
    },
    {
      "cell_type": "code",
      "execution_count": null,
      "id": "cceceb71-4287-427b-bcd4-dd009c7e6744",
      "metadata": {
        "colab": {
          "base_uri": "https://localhost:8080/",
          "height": 359
        },
        "id": "cceceb71-4287-427b-bcd4-dd009c7e6744",
        "outputId": "cebacd7b-4ae5-4344-9b45-db7719cf5031"
      },
      "outputs": [
        {
          "name": "stderr",
          "output_type": "stream",
          "text": [
            "Unused kwargs: ['_load_in_4bit', '_load_in_8bit', 'quant_method']. These kwargs are not used in <class 'transformers.utils.quantization_config.BitsAndBytesConfig'>.\n"
          ]
        }
      ],
      "source": [
        "unsloth4_llama3 = AutoModelForCausalLM.from_pretrained(\"unsloth/Llama-3.2-1B-bnb-4bit\", device_map=\"cuda\")"
      ]
    },
    {
      "cell_type": "code",
      "execution_count": null,
      "id": "e02ace1b-b18c-4045-abae-0d85ef53baa5",
      "metadata": {
        "id": "e02ace1b-b18c-4045-abae-0d85ef53baa5"
      },
      "outputs": [],
      "source": [
        "del unsloth4_llama3\n",
        "clear_mem()"
      ]
    }
  ],
  "metadata": {
    "colab": {
      "provenance": [],
      "toc_visible": true,
      "gpuType": "T4"
    },
    "kernelspec": {
      "display_name": "Python 3",
      "name": "python3"
    },
    "language_info": {
      "codemirror_mode": {
        "name": "ipython",
        "version": 3
      },
      "file_extension": ".py",
      "mimetype": "text/x-python",
      "name": "python",
      "nbconvert_exporter": "python",
      "pygments_lexer": "ipython3",
      "version": "3.10.12"
    },
    "widgets": {
      "application/vnd.jupyter.widget-state+json": {
        "03c41067e47a491d9e4e7437a0dd32eb": {
          "model_module": "@jupyter-widgets/base",
          "model_module_version": "1.2.0",
          "model_name": "LayoutModel",
          "state": {
            "_model_module": "@jupyter-widgets/base",
            "_model_module_version": "1.2.0",
            "_model_name": "LayoutModel",
            "_view_count": null,
            "_view_module": "@jupyter-widgets/base",
            "_view_module_version": "1.2.0",
            "_view_name": "LayoutView",
            "align_content": null,
            "align_items": null,
            "align_self": null,
            "border": null,
            "bottom": null,
            "display": null,
            "flex": null,
            "flex_flow": null,
            "grid_area": null,
            "grid_auto_columns": null,
            "grid_auto_flow": null,
            "grid_auto_rows": null,
            "grid_column": null,
            "grid_gap": null,
            "grid_row": null,
            "grid_template_areas": null,
            "grid_template_columns": null,
            "grid_template_rows": null,
            "height": null,
            "justify_content": null,
            "justify_items": null,
            "left": null,
            "margin": null,
            "max_height": null,
            "max_width": null,
            "min_height": null,
            "min_width": null,
            "object_fit": null,
            "object_position": null,
            "order": null,
            "overflow": null,
            "overflow_x": null,
            "overflow_y": null,
            "padding": null,
            "right": null,
            "top": null,
            "visibility": null,
            "width": null
          }
        },
        "1a9001f1a1a4454a97b6d6f9495a25f8": {
          "model_module": "@jupyter-widgets/controls",
          "model_module_version": "1.5.0",
          "model_name": "DescriptionStyleModel",
          "state": {
            "_model_module": "@jupyter-widgets/controls",
            "_model_module_version": "1.5.0",
            "_model_name": "DescriptionStyleModel",
            "_view_count": null,
            "_view_module": "@jupyter-widgets/base",
            "_view_module_version": "1.2.0",
            "_view_name": "StyleView",
            "description_width": ""
          }
        },
        "27b091edf6ff46e98d04cf6aca96aef9": {
          "model_module": "@jupyter-widgets/controls",
          "model_module_version": "1.5.0",
          "model_name": "FloatProgressModel",
          "state": {
            "_dom_classes": [],
            "_model_module": "@jupyter-widgets/controls",
            "_model_module_version": "1.5.0",
            "_model_name": "FloatProgressModel",
            "_view_count": null,
            "_view_module": "@jupyter-widgets/controls",
            "_view_module_version": "1.5.0",
            "_view_name": "ProgressView",
            "bar_style": "success",
            "description": "",
            "description_tooltip": null,
            "layout": "IPY_MODEL_72eddef802b341e9ad8e49ec40503d5f",
            "max": 1,
            "min": 0,
            "orientation": "horizontal",
            "style": "IPY_MODEL_bb226d4e103e4f96a852d1f7858f1d3c",
            "value": 1
          }
        },
        "36526451358f4da6acfa94859853a6e8": {
          "model_module": "@jupyter-widgets/controls",
          "model_module_version": "1.5.0",
          "model_name": "HTMLModel",
          "state": {
            "_dom_classes": [],
            "_model_module": "@jupyter-widgets/controls",
            "_model_module_version": "1.5.0",
            "_model_name": "HTMLModel",
            "_view_count": null,
            "_view_module": "@jupyter-widgets/controls",
            "_view_module_version": "1.5.0",
            "_view_name": "HTMLView",
            "description": "",
            "description_tooltip": null,
            "layout": "IPY_MODEL_adabaf3f9aad4c73bf429c0364c294f8",
            "placeholder": "​",
            "style": "IPY_MODEL_94c54783256a4c2395b4f77c1196b187",
            "value": "Uploading the dataset shards: 100%"
          }
        },
        "371a7ab1355246448dd073ac8332fac2": {
          "model_module": "@jupyter-widgets/base",
          "model_module_version": "1.2.0",
          "model_name": "LayoutModel",
          "state": {
            "_model_module": "@jupyter-widgets/base",
            "_model_module_version": "1.2.0",
            "_model_name": "LayoutModel",
            "_view_count": null,
            "_view_module": "@jupyter-widgets/base",
            "_view_module_version": "1.2.0",
            "_view_name": "LayoutView",
            "align_content": null,
            "align_items": null,
            "align_self": null,
            "border": null,
            "bottom": null,
            "display": null,
            "flex": null,
            "flex_flow": null,
            "grid_area": null,
            "grid_auto_columns": null,
            "grid_auto_flow": null,
            "grid_auto_rows": null,
            "grid_column": null,
            "grid_gap": null,
            "grid_row": null,
            "grid_template_areas": null,
            "grid_template_columns": null,
            "grid_template_rows": null,
            "height": null,
            "justify_content": null,
            "justify_items": null,
            "left": null,
            "margin": null,
            "max_height": null,
            "max_width": null,
            "min_height": null,
            "min_width": null,
            "object_fit": null,
            "object_position": null,
            "order": null,
            "overflow": null,
            "overflow_x": null,
            "overflow_y": null,
            "padding": null,
            "right": null,
            "top": null,
            "visibility": null,
            "width": null
          }
        },
        "3ef3091b5f4c4fae9a631f1cb1185137": {
          "model_module": "@jupyter-widgets/controls",
          "model_module_version": "1.5.0",
          "model_name": "HTMLModel",
          "state": {
            "_dom_classes": [],
            "_model_module": "@jupyter-widgets/controls",
            "_model_module_version": "1.5.0",
            "_model_name": "HTMLModel",
            "_view_count": null,
            "_view_module": "@jupyter-widgets/controls",
            "_view_module_version": "1.5.0",
            "_view_name": "HTMLView",
            "description": "",
            "description_tooltip": null,
            "layout": "IPY_MODEL_e7f6cf72281a4eb7aeee61fcebfb2807",
            "placeholder": "​",
            "style": "IPY_MODEL_ffb5673920bc4164bb919c872bf5efed",
            "value": " 3/3 [00:00&lt;00:00, 38.51ba/s]"
          }
        },
        "4377df8c289a4eaea15119d6f7cc577e": {
          "model_module": "@jupyter-widgets/base",
          "model_module_version": "1.2.0",
          "model_name": "LayoutModel",
          "state": {
            "_model_module": "@jupyter-widgets/base",
            "_model_module_version": "1.2.0",
            "_model_name": "LayoutModel",
            "_view_count": null,
            "_view_module": "@jupyter-widgets/base",
            "_view_module_version": "1.2.0",
            "_view_name": "LayoutView",
            "align_content": null,
            "align_items": null,
            "align_self": null,
            "border": null,
            "bottom": null,
            "display": null,
            "flex": null,
            "flex_flow": null,
            "grid_area": null,
            "grid_auto_columns": null,
            "grid_auto_flow": null,
            "grid_auto_rows": null,
            "grid_column": null,
            "grid_gap": null,
            "grid_row": null,
            "grid_template_areas": null,
            "grid_template_columns": null,
            "grid_template_rows": null,
            "height": null,
            "justify_content": null,
            "justify_items": null,
            "left": null,
            "margin": null,
            "max_height": null,
            "max_width": null,
            "min_height": null,
            "min_width": null,
            "object_fit": null,
            "object_position": null,
            "order": null,
            "overflow": null,
            "overflow_x": null,
            "overflow_y": null,
            "padding": null,
            "right": null,
            "top": null,
            "visibility": null,
            "width": null
          }
        },
        "535dedbd231a49a59c6ac5febb59f2d2": {
          "model_module": "@jupyter-widgets/controls",
          "model_module_version": "1.5.0",
          "model_name": "HBoxModel",
          "state": {
            "_dom_classes": [],
            "_model_module": "@jupyter-widgets/controls",
            "_model_module_version": "1.5.0",
            "_model_name": "HBoxModel",
            "_view_count": null,
            "_view_module": "@jupyter-widgets/controls",
            "_view_module_version": "1.5.0",
            "_view_name": "HBoxView",
            "box_style": "",
            "children": [
              "IPY_MODEL_36526451358f4da6acfa94859853a6e8",
              "IPY_MODEL_27b091edf6ff46e98d04cf6aca96aef9",
              "IPY_MODEL_670292204d344b5e81a50d83ee9cf8d3"
            ],
            "layout": "IPY_MODEL_90f9118b159842c3bc1960ff104306e3"
          }
        },
        "5596a93d7aa247839b9d6571b6cc783c": {
          "model_module": "@jupyter-widgets/controls",
          "model_module_version": "1.5.0",
          "model_name": "HTMLModel",
          "state": {
            "_dom_classes": [],
            "_model_module": "@jupyter-widgets/controls",
            "_model_module_version": "1.5.0",
            "_model_name": "HTMLModel",
            "_view_count": null,
            "_view_module": "@jupyter-widgets/controls",
            "_view_module_version": "1.5.0",
            "_view_name": "HTMLView",
            "description": "",
            "description_tooltip": null,
            "layout": "IPY_MODEL_bfd7efce41bb4540a71d105df3003571",
            "placeholder": "​",
            "style": "IPY_MODEL_1a9001f1a1a4454a97b6d6f9495a25f8",
            "value": " 30.0/30.0 [00:00&lt;00:00, 2.29kB/s]"
          }
        },
        "64367b614d8e4d29b0ab05e1f02c784f": {
          "model_module": "@jupyter-widgets/controls",
          "model_module_version": "1.5.0",
          "model_name": "DescriptionStyleModel",
          "state": {
            "_model_module": "@jupyter-widgets/controls",
            "_model_module_version": "1.5.0",
            "_model_name": "DescriptionStyleModel",
            "_view_count": null,
            "_view_module": "@jupyter-widgets/base",
            "_view_module_version": "1.2.0",
            "_view_name": "StyleView",
            "description_width": ""
          }
        },
        "670292204d344b5e81a50d83ee9cf8d3": {
          "model_module": "@jupyter-widgets/controls",
          "model_module_version": "1.5.0",
          "model_name": "HTMLModel",
          "state": {
            "_dom_classes": [],
            "_model_module": "@jupyter-widgets/controls",
            "_model_module_version": "1.5.0",
            "_model_name": "HTMLModel",
            "_view_count": null,
            "_view_module": "@jupyter-widgets/controls",
            "_view_module_version": "1.5.0",
            "_view_name": "HTMLView",
            "description": "",
            "description_tooltip": null,
            "layout": "IPY_MODEL_d15cb75d835c474cb6be414ba8b9d573",
            "placeholder": "​",
            "style": "IPY_MODEL_9208ab94b44340d39a4d5a5f03e44870",
            "value": " 1/1 [00:00&lt;00:00,  1.79it/s]"
          }
        },
        "6b6b414cbe6649fab0cb94e9f1a5337e": {
          "model_module": "@jupyter-widgets/controls",
          "model_module_version": "1.5.0",
          "model_name": "DescriptionStyleModel",
          "state": {
            "_model_module": "@jupyter-widgets/controls",
            "_model_module_version": "1.5.0",
            "_model_name": "DescriptionStyleModel",
            "_view_count": null,
            "_view_module": "@jupyter-widgets/base",
            "_view_module_version": "1.2.0",
            "_view_name": "StyleView",
            "description_width": ""
          }
        },
        "6e38c12bff24444db3db8f02f83f989b": {
          "model_module": "@jupyter-widgets/controls",
          "model_module_version": "1.5.0",
          "model_name": "FloatProgressModel",
          "state": {
            "_dom_classes": [],
            "_model_module": "@jupyter-widgets/controls",
            "_model_module_version": "1.5.0",
            "_model_name": "FloatProgressModel",
            "_view_count": null,
            "_view_module": "@jupyter-widgets/controls",
            "_view_module_version": "1.5.0",
            "_view_name": "ProgressView",
            "bar_style": "success",
            "description": "",
            "description_tooltip": null,
            "layout": "IPY_MODEL_c2ca24b9587a48eb98175feb1814c8f9",
            "max": 3,
            "min": 0,
            "orientation": "horizontal",
            "style": "IPY_MODEL_eb218f8b37924b2ab1701443b578cb0e",
            "value": 3
          }
        },
        "72eddef802b341e9ad8e49ec40503d5f": {
          "model_module": "@jupyter-widgets/base",
          "model_module_version": "1.2.0",
          "model_name": "LayoutModel",
          "state": {
            "_model_module": "@jupyter-widgets/base",
            "_model_module_version": "1.2.0",
            "_model_name": "LayoutModel",
            "_view_count": null,
            "_view_module": "@jupyter-widgets/base",
            "_view_module_version": "1.2.0",
            "_view_name": "LayoutView",
            "align_content": null,
            "align_items": null,
            "align_self": null,
            "border": null,
            "bottom": null,
            "display": null,
            "flex": null,
            "flex_flow": null,
            "grid_area": null,
            "grid_auto_columns": null,
            "grid_auto_flow": null,
            "grid_auto_rows": null,
            "grid_column": null,
            "grid_gap": null,
            "grid_row": null,
            "grid_template_areas": null,
            "grid_template_columns": null,
            "grid_template_rows": null,
            "height": null,
            "justify_content": null,
            "justify_items": null,
            "left": null,
            "margin": null,
            "max_height": null,
            "max_width": null,
            "min_height": null,
            "min_width": null,
            "object_fit": null,
            "object_position": null,
            "order": null,
            "overflow": null,
            "overflow_x": null,
            "overflow_y": null,
            "padding": null,
            "right": null,
            "top": null,
            "visibility": null,
            "width": null
          }
        },
        "90d9cd7f30f644eb91517c881d069a51": {
          "model_module": "@jupyter-widgets/base",
          "model_module_version": "1.2.0",
          "model_name": "LayoutModel",
          "state": {
            "_model_module": "@jupyter-widgets/base",
            "_model_module_version": "1.2.0",
            "_model_name": "LayoutModel",
            "_view_count": null,
            "_view_module": "@jupyter-widgets/base",
            "_view_module_version": "1.2.0",
            "_view_name": "LayoutView",
            "align_content": null,
            "align_items": null,
            "align_self": null,
            "border": null,
            "bottom": null,
            "display": null,
            "flex": null,
            "flex_flow": null,
            "grid_area": null,
            "grid_auto_columns": null,
            "grid_auto_flow": null,
            "grid_auto_rows": null,
            "grid_column": null,
            "grid_gap": null,
            "grid_row": null,
            "grid_template_areas": null,
            "grid_template_columns": null,
            "grid_template_rows": null,
            "height": null,
            "justify_content": null,
            "justify_items": null,
            "left": null,
            "margin": null,
            "max_height": null,
            "max_width": null,
            "min_height": null,
            "min_width": null,
            "object_fit": null,
            "object_position": null,
            "order": null,
            "overflow": null,
            "overflow_x": null,
            "overflow_y": null,
            "padding": null,
            "right": null,
            "top": null,
            "visibility": null,
            "width": null
          }
        },
        "90f9118b159842c3bc1960ff104306e3": {
          "model_module": "@jupyter-widgets/base",
          "model_module_version": "1.2.0",
          "model_name": "LayoutModel",
          "state": {
            "_model_module": "@jupyter-widgets/base",
            "_model_module_version": "1.2.0",
            "_model_name": "LayoutModel",
            "_view_count": null,
            "_view_module": "@jupyter-widgets/base",
            "_view_module_version": "1.2.0",
            "_view_name": "LayoutView",
            "align_content": null,
            "align_items": null,
            "align_self": null,
            "border": null,
            "bottom": null,
            "display": null,
            "flex": null,
            "flex_flow": null,
            "grid_area": null,
            "grid_auto_columns": null,
            "grid_auto_flow": null,
            "grid_auto_rows": null,
            "grid_column": null,
            "grid_gap": null,
            "grid_row": null,
            "grid_template_areas": null,
            "grid_template_columns": null,
            "grid_template_rows": null,
            "height": null,
            "justify_content": null,
            "justify_items": null,
            "left": null,
            "margin": null,
            "max_height": null,
            "max_width": null,
            "min_height": null,
            "min_width": null,
            "object_fit": null,
            "object_position": null,
            "order": null,
            "overflow": null,
            "overflow_x": null,
            "overflow_y": null,
            "padding": null,
            "right": null,
            "top": null,
            "visibility": null,
            "width": null
          }
        },
        "9208ab94b44340d39a4d5a5f03e44870": {
          "model_module": "@jupyter-widgets/controls",
          "model_module_version": "1.5.0",
          "model_name": "DescriptionStyleModel",
          "state": {
            "_model_module": "@jupyter-widgets/controls",
            "_model_module_version": "1.5.0",
            "_model_name": "DescriptionStyleModel",
            "_view_count": null,
            "_view_module": "@jupyter-widgets/base",
            "_view_module_version": "1.2.0",
            "_view_name": "StyleView",
            "description_width": ""
          }
        },
        "92449f82122c4cbfa5f7450b29543aa6": {
          "model_module": "@jupyter-widgets/controls",
          "model_module_version": "1.5.0",
          "model_name": "ProgressStyleModel",
          "state": {
            "_model_module": "@jupyter-widgets/controls",
            "_model_module_version": "1.5.0",
            "_model_name": "ProgressStyleModel",
            "_view_count": null,
            "_view_module": "@jupyter-widgets/base",
            "_view_module_version": "1.2.0",
            "_view_name": "StyleView",
            "bar_color": null,
            "description_width": ""
          }
        },
        "94c54783256a4c2395b4f77c1196b187": {
          "model_module": "@jupyter-widgets/controls",
          "model_module_version": "1.5.0",
          "model_name": "DescriptionStyleModel",
          "state": {
            "_model_module": "@jupyter-widgets/controls",
            "_model_module_version": "1.5.0",
            "_model_name": "DescriptionStyleModel",
            "_view_count": null,
            "_view_module": "@jupyter-widgets/base",
            "_view_module_version": "1.2.0",
            "_view_name": "StyleView",
            "description_width": ""
          }
        },
        "a3d21459c293496eba1bca2fe3e57384": {
          "model_module": "@jupyter-widgets/controls",
          "model_module_version": "1.5.0",
          "model_name": "HBoxModel",
          "state": {
            "_dom_classes": [],
            "_model_module": "@jupyter-widgets/controls",
            "_model_module_version": "1.5.0",
            "_model_name": "HBoxModel",
            "_view_count": null,
            "_view_module": "@jupyter-widgets/controls",
            "_view_module_version": "1.5.0",
            "_view_name": "HBoxView",
            "box_style": "",
            "children": [
              "IPY_MODEL_d5ac92ab35d04ad8a7e53f78732f22e0",
              "IPY_MODEL_6e38c12bff24444db3db8f02f83f989b",
              "IPY_MODEL_3ef3091b5f4c4fae9a631f1cb1185137"
            ],
            "layout": "IPY_MODEL_90d9cd7f30f644eb91517c881d069a51"
          }
        },
        "adabaf3f9aad4c73bf429c0364c294f8": {
          "model_module": "@jupyter-widgets/base",
          "model_module_version": "1.2.0",
          "model_name": "LayoutModel",
          "state": {
            "_model_module": "@jupyter-widgets/base",
            "_model_module_version": "1.2.0",
            "_model_name": "LayoutModel",
            "_view_count": null,
            "_view_module": "@jupyter-widgets/base",
            "_view_module_version": "1.2.0",
            "_view_name": "LayoutView",
            "align_content": null,
            "align_items": null,
            "align_self": null,
            "border": null,
            "bottom": null,
            "display": null,
            "flex": null,
            "flex_flow": null,
            "grid_area": null,
            "grid_auto_columns": null,
            "grid_auto_flow": null,
            "grid_auto_rows": null,
            "grid_column": null,
            "grid_gap": null,
            "grid_row": null,
            "grid_template_areas": null,
            "grid_template_columns": null,
            "grid_template_rows": null,
            "height": null,
            "justify_content": null,
            "justify_items": null,
            "left": null,
            "margin": null,
            "max_height": null,
            "max_width": null,
            "min_height": null,
            "min_width": null,
            "object_fit": null,
            "object_position": null,
            "order": null,
            "overflow": null,
            "overflow_x": null,
            "overflow_y": null,
            "padding": null,
            "right": null,
            "top": null,
            "visibility": null,
            "width": null
          }
        },
        "bb226d4e103e4f96a852d1f7858f1d3c": {
          "model_module": "@jupyter-widgets/controls",
          "model_module_version": "1.5.0",
          "model_name": "ProgressStyleModel",
          "state": {
            "_model_module": "@jupyter-widgets/controls",
            "_model_module_version": "1.5.0",
            "_model_name": "ProgressStyleModel",
            "_view_count": null,
            "_view_module": "@jupyter-widgets/base",
            "_view_module_version": "1.2.0",
            "_view_name": "StyleView",
            "bar_color": null,
            "description_width": ""
          }
        },
        "bfd7efce41bb4540a71d105df3003571": {
          "model_module": "@jupyter-widgets/base",
          "model_module_version": "1.2.0",
          "model_name": "LayoutModel",
          "state": {
            "_model_module": "@jupyter-widgets/base",
            "_model_module_version": "1.2.0",
            "_model_name": "LayoutModel",
            "_view_count": null,
            "_view_module": "@jupyter-widgets/base",
            "_view_module_version": "1.2.0",
            "_view_name": "LayoutView",
            "align_content": null,
            "align_items": null,
            "align_self": null,
            "border": null,
            "bottom": null,
            "display": null,
            "flex": null,
            "flex_flow": null,
            "grid_area": null,
            "grid_auto_columns": null,
            "grid_auto_flow": null,
            "grid_auto_rows": null,
            "grid_column": null,
            "grid_gap": null,
            "grid_row": null,
            "grid_template_areas": null,
            "grid_template_columns": null,
            "grid_template_rows": null,
            "height": null,
            "justify_content": null,
            "justify_items": null,
            "left": null,
            "margin": null,
            "max_height": null,
            "max_width": null,
            "min_height": null,
            "min_width": null,
            "object_fit": null,
            "object_position": null,
            "order": null,
            "overflow": null,
            "overflow_x": null,
            "overflow_y": null,
            "padding": null,
            "right": null,
            "top": null,
            "visibility": null,
            "width": null
          }
        },
        "c2ca24b9587a48eb98175feb1814c8f9": {
          "model_module": "@jupyter-widgets/base",
          "model_module_version": "1.2.0",
          "model_name": "LayoutModel",
          "state": {
            "_model_module": "@jupyter-widgets/base",
            "_model_module_version": "1.2.0",
            "_model_name": "LayoutModel",
            "_view_count": null,
            "_view_module": "@jupyter-widgets/base",
            "_view_module_version": "1.2.0",
            "_view_name": "LayoutView",
            "align_content": null,
            "align_items": null,
            "align_self": null,
            "border": null,
            "bottom": null,
            "display": null,
            "flex": null,
            "flex_flow": null,
            "grid_area": null,
            "grid_auto_columns": null,
            "grid_auto_flow": null,
            "grid_auto_rows": null,
            "grid_column": null,
            "grid_gap": null,
            "grid_row": null,
            "grid_template_areas": null,
            "grid_template_columns": null,
            "grid_template_rows": null,
            "height": null,
            "justify_content": null,
            "justify_items": null,
            "left": null,
            "margin": null,
            "max_height": null,
            "max_width": null,
            "min_height": null,
            "min_width": null,
            "object_fit": null,
            "object_position": null,
            "order": null,
            "overflow": null,
            "overflow_x": null,
            "overflow_y": null,
            "padding": null,
            "right": null,
            "top": null,
            "visibility": null,
            "width": null
          }
        },
        "c6e470bee4234bac80a47b0e1859ffaa": {
          "model_module": "@jupyter-widgets/controls",
          "model_module_version": "1.5.0",
          "model_name": "HBoxModel",
          "state": {
            "_dom_classes": [],
            "_model_module": "@jupyter-widgets/controls",
            "_model_module_version": "1.5.0",
            "_model_name": "HBoxModel",
            "_view_count": null,
            "_view_module": "@jupyter-widgets/controls",
            "_view_module_version": "1.5.0",
            "_view_name": "HBoxView",
            "box_style": "",
            "children": [
              "IPY_MODEL_f1da10a8d5a040a4a02e7ab7de9d8a12",
              "IPY_MODEL_c9ec198d82ea4ed78da52b06adab6fd0",
              "IPY_MODEL_5596a93d7aa247839b9d6571b6cc783c"
            ],
            "layout": "IPY_MODEL_03c41067e47a491d9e4e7437a0dd32eb"
          }
        },
        "c9ec198d82ea4ed78da52b06adab6fd0": {
          "model_module": "@jupyter-widgets/controls",
          "model_module_version": "1.5.0",
          "model_name": "FloatProgressModel",
          "state": {
            "_dom_classes": [],
            "_model_module": "@jupyter-widgets/controls",
            "_model_module_version": "1.5.0",
            "_model_name": "FloatProgressModel",
            "_view_count": null,
            "_view_module": "@jupyter-widgets/controls",
            "_view_module_version": "1.5.0",
            "_view_name": "ProgressView",
            "bar_style": "success",
            "description": "",
            "description_tooltip": null,
            "layout": "IPY_MODEL_4377df8c289a4eaea15119d6f7cc577e",
            "max": 30,
            "min": 0,
            "orientation": "horizontal",
            "style": "IPY_MODEL_92449f82122c4cbfa5f7450b29543aa6",
            "value": 30
          }
        },
        "d15cb75d835c474cb6be414ba8b9d573": {
          "model_module": "@jupyter-widgets/base",
          "model_module_version": "1.2.0",
          "model_name": "LayoutModel",
          "state": {
            "_model_module": "@jupyter-widgets/base",
            "_model_module_version": "1.2.0",
            "_model_name": "LayoutModel",
            "_view_count": null,
            "_view_module": "@jupyter-widgets/base",
            "_view_module_version": "1.2.0",
            "_view_name": "LayoutView",
            "align_content": null,
            "align_items": null,
            "align_self": null,
            "border": null,
            "bottom": null,
            "display": null,
            "flex": null,
            "flex_flow": null,
            "grid_area": null,
            "grid_auto_columns": null,
            "grid_auto_flow": null,
            "grid_auto_rows": null,
            "grid_column": null,
            "grid_gap": null,
            "grid_row": null,
            "grid_template_areas": null,
            "grid_template_columns": null,
            "grid_template_rows": null,
            "height": null,
            "justify_content": null,
            "justify_items": null,
            "left": null,
            "margin": null,
            "max_height": null,
            "max_width": null,
            "min_height": null,
            "min_width": null,
            "object_fit": null,
            "object_position": null,
            "order": null,
            "overflow": null,
            "overflow_x": null,
            "overflow_y": null,
            "padding": null,
            "right": null,
            "top": null,
            "visibility": null,
            "width": null
          }
        },
        "d5ac92ab35d04ad8a7e53f78732f22e0": {
          "model_module": "@jupyter-widgets/controls",
          "model_module_version": "1.5.0",
          "model_name": "HTMLModel",
          "state": {
            "_dom_classes": [],
            "_model_module": "@jupyter-widgets/controls",
            "_model_module_version": "1.5.0",
            "_model_name": "HTMLModel",
            "_view_count": null,
            "_view_module": "@jupyter-widgets/controls",
            "_view_module_version": "1.5.0",
            "_view_name": "HTMLView",
            "description": "",
            "description_tooltip": null,
            "layout": "IPY_MODEL_371a7ab1355246448dd073ac8332fac2",
            "placeholder": "​",
            "style": "IPY_MODEL_64367b614d8e4d29b0ab05e1f02c784f",
            "value": "Creating parquet from Arrow format: 100%"
          }
        },
        "e7f6cf72281a4eb7aeee61fcebfb2807": {
          "model_module": "@jupyter-widgets/base",
          "model_module_version": "1.2.0",
          "model_name": "LayoutModel",
          "state": {
            "_model_module": "@jupyter-widgets/base",
            "_model_module_version": "1.2.0",
            "_model_name": "LayoutModel",
            "_view_count": null,
            "_view_module": "@jupyter-widgets/base",
            "_view_module_version": "1.2.0",
            "_view_name": "LayoutView",
            "align_content": null,
            "align_items": null,
            "align_self": null,
            "border": null,
            "bottom": null,
            "display": null,
            "flex": null,
            "flex_flow": null,
            "grid_area": null,
            "grid_auto_columns": null,
            "grid_auto_flow": null,
            "grid_auto_rows": null,
            "grid_column": null,
            "grid_gap": null,
            "grid_row": null,
            "grid_template_areas": null,
            "grid_template_columns": null,
            "grid_template_rows": null,
            "height": null,
            "justify_content": null,
            "justify_items": null,
            "left": null,
            "margin": null,
            "max_height": null,
            "max_width": null,
            "min_height": null,
            "min_width": null,
            "object_fit": null,
            "object_position": null,
            "order": null,
            "overflow": null,
            "overflow_x": null,
            "overflow_y": null,
            "padding": null,
            "right": null,
            "top": null,
            "visibility": null,
            "width": null
          }
        },
        "eb218f8b37924b2ab1701443b578cb0e": {
          "model_module": "@jupyter-widgets/controls",
          "model_module_version": "1.5.0",
          "model_name": "ProgressStyleModel",
          "state": {
            "_model_module": "@jupyter-widgets/controls",
            "_model_module_version": "1.5.0",
            "_model_name": "ProgressStyleModel",
            "_view_count": null,
            "_view_module": "@jupyter-widgets/base",
            "_view_module_version": "1.2.0",
            "_view_name": "StyleView",
            "bar_color": null,
            "description_width": ""
          }
        },
        "f1da10a8d5a040a4a02e7ab7de9d8a12": {
          "model_module": "@jupyter-widgets/controls",
          "model_module_version": "1.5.0",
          "model_name": "HTMLModel",
          "state": {
            "_dom_classes": [],
            "_model_module": "@jupyter-widgets/controls",
            "_model_module_version": "1.5.0",
            "_model_name": "HTMLModel",
            "_view_count": null,
            "_view_module": "@jupyter-widgets/controls",
            "_view_module_version": "1.5.0",
            "_view_name": "HTMLView",
            "description": "",
            "description_tooltip": null,
            "layout": "IPY_MODEL_fe2bfac3730d4189887f77e4f0052051",
            "placeholder": "​",
            "style": "IPY_MODEL_6b6b414cbe6649fab0cb94e9f1a5337e",
            "value": "README.md: 100%"
          }
        },
        "fe2bfac3730d4189887f77e4f0052051": {
          "model_module": "@jupyter-widgets/base",
          "model_module_version": "1.2.0",
          "model_name": "LayoutModel",
          "state": {
            "_model_module": "@jupyter-widgets/base",
            "_model_module_version": "1.2.0",
            "_model_name": "LayoutModel",
            "_view_count": null,
            "_view_module": "@jupyter-widgets/base",
            "_view_module_version": "1.2.0",
            "_view_name": "LayoutView",
            "align_content": null,
            "align_items": null,
            "align_self": null,
            "border": null,
            "bottom": null,
            "display": null,
            "flex": null,
            "flex_flow": null,
            "grid_area": null,
            "grid_auto_columns": null,
            "grid_auto_flow": null,
            "grid_auto_rows": null,
            "grid_column": null,
            "grid_gap": null,
            "grid_row": null,
            "grid_template_areas": null,
            "grid_template_columns": null,
            "grid_template_rows": null,
            "height": null,
            "justify_content": null,
            "justify_items": null,
            "left": null,
            "margin": null,
            "max_height": null,
            "max_width": null,
            "min_height": null,
            "min_width": null,
            "object_fit": null,
            "object_position": null,
            "order": null,
            "overflow": null,
            "overflow_x": null,
            "overflow_y": null,
            "padding": null,
            "right": null,
            "top": null,
            "visibility": null,
            "width": null
          }
        },
        "ffb5673920bc4164bb919c872bf5efed": {
          "model_module": "@jupyter-widgets/controls",
          "model_module_version": "1.5.0",
          "model_name": "DescriptionStyleModel",
          "state": {
            "_model_module": "@jupyter-widgets/controls",
            "_model_module_version": "1.5.0",
            "_model_name": "DescriptionStyleModel",
            "_view_count": null,
            "_view_module": "@jupyter-widgets/base",
            "_view_module_version": "1.2.0",
            "_view_name": "StyleView",
            "description_width": ""
          }
        },
        "b8692a1abf74450480f64ee824dd6d7a": {
          "model_module": "@jupyter-widgets/controls",
          "model_name": "VBoxModel",
          "model_module_version": "1.5.0",
          "state": {
            "_dom_classes": [],
            "_model_module": "@jupyter-widgets/controls",
            "_model_module_version": "1.5.0",
            "_model_name": "VBoxModel",
            "_view_count": null,
            "_view_module": "@jupyter-widgets/controls",
            "_view_module_version": "1.5.0",
            "_view_name": "VBoxView",
            "box_style": "",
            "children": [],
            "layout": "IPY_MODEL_a2ba8eafbfe041038c85791703bbbc5f"
          }
        },
        "0adf4671b9254e6aa90fb1cd3e40e8d0": {
          "model_module": "@jupyter-widgets/controls",
          "model_name": "HTMLModel",
          "model_module_version": "1.5.0",
          "state": {
            "_dom_classes": [],
            "_model_module": "@jupyter-widgets/controls",
            "_model_module_version": "1.5.0",
            "_model_name": "HTMLModel",
            "_view_count": null,
            "_view_module": "@jupyter-widgets/controls",
            "_view_module_version": "1.5.0",
            "_view_name": "HTMLView",
            "description": "",
            "description_tooltip": null,
            "layout": "IPY_MODEL_f3096c47f4e54230968e9ea107d45914",
            "placeholder": "​",
            "style": "IPY_MODEL_cc0e3706c31f46ac8481eb938cc7d2e3",
            "value": "<center> <img\nsrc=https://huggingface.co/front/assets/huggingface_logo-noborder.svg\nalt='Hugging Face'> <br> Copy a token from <a\nhref=\"https://huggingface.co/settings/tokens\" target=\"_blank\">your Hugging Face\ntokens page</a> and paste it below. <br> Immediately click login after copying\nyour token or it might be stored in plain text in this notebook file. </center>"
          }
        },
        "36380d55fa5142e3a515567e44bd48fb": {
          "model_module": "@jupyter-widgets/controls",
          "model_name": "PasswordModel",
          "model_module_version": "1.5.0",
          "state": {
            "_dom_classes": [],
            "_model_module": "@jupyter-widgets/controls",
            "_model_module_version": "1.5.0",
            "_model_name": "PasswordModel",
            "_view_count": null,
            "_view_module": "@jupyter-widgets/controls",
            "_view_module_version": "1.5.0",
            "_view_name": "PasswordView",
            "continuous_update": true,
            "description": "Token:",
            "description_tooltip": null,
            "disabled": false,
            "layout": "IPY_MODEL_4441d95b8eaf4d639fc71a6da66afe6c",
            "placeholder": "​",
            "style": "IPY_MODEL_71029784da3b4ee9b1a6e624f627d0c3",
            "value": ""
          }
        },
        "d918ece58939414fa191ff623c43a57a": {
          "model_module": "@jupyter-widgets/controls",
          "model_name": "CheckboxModel",
          "model_module_version": "1.5.0",
          "state": {
            "_dom_classes": [],
            "_model_module": "@jupyter-widgets/controls",
            "_model_module_version": "1.5.0",
            "_model_name": "CheckboxModel",
            "_view_count": null,
            "_view_module": "@jupyter-widgets/controls",
            "_view_module_version": "1.5.0",
            "_view_name": "CheckboxView",
            "description": "Add token as git credential?",
            "description_tooltip": null,
            "disabled": false,
            "indent": true,
            "layout": "IPY_MODEL_43e052fcad744ac0a13afc0ceeef182d",
            "style": "IPY_MODEL_7e6ac1d2f8f14f73a32ef3a00fa1c6a9",
            "value": false
          }
        },
        "281b16f1fc3745a895666a3ea084134f": {
          "model_module": "@jupyter-widgets/controls",
          "model_name": "ButtonModel",
          "model_module_version": "1.5.0",
          "state": {
            "_dom_classes": [],
            "_model_module": "@jupyter-widgets/controls",
            "_model_module_version": "1.5.0",
            "_model_name": "ButtonModel",
            "_view_count": null,
            "_view_module": "@jupyter-widgets/controls",
            "_view_module_version": "1.5.0",
            "_view_name": "ButtonView",
            "button_style": "",
            "description": "Login",
            "disabled": false,
            "icon": "",
            "layout": "IPY_MODEL_1db162411ee04f0784e43aabd02435bb",
            "style": "IPY_MODEL_c828e738ba9345379f917b310a244ec4",
            "tooltip": ""
          }
        },
        "63d068f03b6542f99013067fc5924fda": {
          "model_module": "@jupyter-widgets/controls",
          "model_name": "HTMLModel",
          "model_module_version": "1.5.0",
          "state": {
            "_dom_classes": [],
            "_model_module": "@jupyter-widgets/controls",
            "_model_module_version": "1.5.0",
            "_model_name": "HTMLModel",
            "_view_count": null,
            "_view_module": "@jupyter-widgets/controls",
            "_view_module_version": "1.5.0",
            "_view_name": "HTMLView",
            "description": "",
            "description_tooltip": null,
            "layout": "IPY_MODEL_423b78b04f1547edbad3e02a26e5f3c5",
            "placeholder": "​",
            "style": "IPY_MODEL_e40e79a398c549729fb10fd097c00742",
            "value": "\n<b>Pro Tip:</b> If you don't already have one, you can create a dedicated\n'notebooks' token with 'write' access, that you can then easily reuse for all\nnotebooks. </center>"
          }
        },
        "a2ba8eafbfe041038c85791703bbbc5f": {
          "model_module": "@jupyter-widgets/base",
          "model_name": "LayoutModel",
          "model_module_version": "1.2.0",
          "state": {
            "_model_module": "@jupyter-widgets/base",
            "_model_module_version": "1.2.0",
            "_model_name": "LayoutModel",
            "_view_count": null,
            "_view_module": "@jupyter-widgets/base",
            "_view_module_version": "1.2.0",
            "_view_name": "LayoutView",
            "align_content": null,
            "align_items": "center",
            "align_self": null,
            "border": null,
            "bottom": null,
            "display": "flex",
            "flex": null,
            "flex_flow": "column",
            "grid_area": null,
            "grid_auto_columns": null,
            "grid_auto_flow": null,
            "grid_auto_rows": null,
            "grid_column": null,
            "grid_gap": null,
            "grid_row": null,
            "grid_template_areas": null,
            "grid_template_columns": null,
            "grid_template_rows": null,
            "height": null,
            "justify_content": null,
            "justify_items": null,
            "left": null,
            "margin": null,
            "max_height": null,
            "max_width": null,
            "min_height": null,
            "min_width": null,
            "object_fit": null,
            "object_position": null,
            "order": null,
            "overflow": null,
            "overflow_x": null,
            "overflow_y": null,
            "padding": null,
            "right": null,
            "top": null,
            "visibility": null,
            "width": "50%"
          }
        },
        "f3096c47f4e54230968e9ea107d45914": {
          "model_module": "@jupyter-widgets/base",
          "model_name": "LayoutModel",
          "model_module_version": "1.2.0",
          "state": {
            "_model_module": "@jupyter-widgets/base",
            "_model_module_version": "1.2.0",
            "_model_name": "LayoutModel",
            "_view_count": null,
            "_view_module": "@jupyter-widgets/base",
            "_view_module_version": "1.2.0",
            "_view_name": "LayoutView",
            "align_content": null,
            "align_items": null,
            "align_self": null,
            "border": null,
            "bottom": null,
            "display": null,
            "flex": null,
            "flex_flow": null,
            "grid_area": null,
            "grid_auto_columns": null,
            "grid_auto_flow": null,
            "grid_auto_rows": null,
            "grid_column": null,
            "grid_gap": null,
            "grid_row": null,
            "grid_template_areas": null,
            "grid_template_columns": null,
            "grid_template_rows": null,
            "height": null,
            "justify_content": null,
            "justify_items": null,
            "left": null,
            "margin": null,
            "max_height": null,
            "max_width": null,
            "min_height": null,
            "min_width": null,
            "object_fit": null,
            "object_position": null,
            "order": null,
            "overflow": null,
            "overflow_x": null,
            "overflow_y": null,
            "padding": null,
            "right": null,
            "top": null,
            "visibility": null,
            "width": null
          }
        },
        "cc0e3706c31f46ac8481eb938cc7d2e3": {
          "model_module": "@jupyter-widgets/controls",
          "model_name": "DescriptionStyleModel",
          "model_module_version": "1.5.0",
          "state": {
            "_model_module": "@jupyter-widgets/controls",
            "_model_module_version": "1.5.0",
            "_model_name": "DescriptionStyleModel",
            "_view_count": null,
            "_view_module": "@jupyter-widgets/base",
            "_view_module_version": "1.2.0",
            "_view_name": "StyleView",
            "description_width": ""
          }
        },
        "4441d95b8eaf4d639fc71a6da66afe6c": {
          "model_module": "@jupyter-widgets/base",
          "model_name": "LayoutModel",
          "model_module_version": "1.2.0",
          "state": {
            "_model_module": "@jupyter-widgets/base",
            "_model_module_version": "1.2.0",
            "_model_name": "LayoutModel",
            "_view_count": null,
            "_view_module": "@jupyter-widgets/base",
            "_view_module_version": "1.2.0",
            "_view_name": "LayoutView",
            "align_content": null,
            "align_items": null,
            "align_self": null,
            "border": null,
            "bottom": null,
            "display": null,
            "flex": null,
            "flex_flow": null,
            "grid_area": null,
            "grid_auto_columns": null,
            "grid_auto_flow": null,
            "grid_auto_rows": null,
            "grid_column": null,
            "grid_gap": null,
            "grid_row": null,
            "grid_template_areas": null,
            "grid_template_columns": null,
            "grid_template_rows": null,
            "height": null,
            "justify_content": null,
            "justify_items": null,
            "left": null,
            "margin": null,
            "max_height": null,
            "max_width": null,
            "min_height": null,
            "min_width": null,
            "object_fit": null,
            "object_position": null,
            "order": null,
            "overflow": null,
            "overflow_x": null,
            "overflow_y": null,
            "padding": null,
            "right": null,
            "top": null,
            "visibility": null,
            "width": null
          }
        },
        "71029784da3b4ee9b1a6e624f627d0c3": {
          "model_module": "@jupyter-widgets/controls",
          "model_name": "DescriptionStyleModel",
          "model_module_version": "1.5.0",
          "state": {
            "_model_module": "@jupyter-widgets/controls",
            "_model_module_version": "1.5.0",
            "_model_name": "DescriptionStyleModel",
            "_view_count": null,
            "_view_module": "@jupyter-widgets/base",
            "_view_module_version": "1.2.0",
            "_view_name": "StyleView",
            "description_width": ""
          }
        },
        "43e052fcad744ac0a13afc0ceeef182d": {
          "model_module": "@jupyter-widgets/base",
          "model_name": "LayoutModel",
          "model_module_version": "1.2.0",
          "state": {
            "_model_module": "@jupyter-widgets/base",
            "_model_module_version": "1.2.0",
            "_model_name": "LayoutModel",
            "_view_count": null,
            "_view_module": "@jupyter-widgets/base",
            "_view_module_version": "1.2.0",
            "_view_name": "LayoutView",
            "align_content": null,
            "align_items": null,
            "align_self": null,
            "border": null,
            "bottom": null,
            "display": null,
            "flex": null,
            "flex_flow": null,
            "grid_area": null,
            "grid_auto_columns": null,
            "grid_auto_flow": null,
            "grid_auto_rows": null,
            "grid_column": null,
            "grid_gap": null,
            "grid_row": null,
            "grid_template_areas": null,
            "grid_template_columns": null,
            "grid_template_rows": null,
            "height": null,
            "justify_content": null,
            "justify_items": null,
            "left": null,
            "margin": null,
            "max_height": null,
            "max_width": null,
            "min_height": null,
            "min_width": null,
            "object_fit": null,
            "object_position": null,
            "order": null,
            "overflow": null,
            "overflow_x": null,
            "overflow_y": null,
            "padding": null,
            "right": null,
            "top": null,
            "visibility": null,
            "width": null
          }
        },
        "7e6ac1d2f8f14f73a32ef3a00fa1c6a9": {
          "model_module": "@jupyter-widgets/controls",
          "model_name": "DescriptionStyleModel",
          "model_module_version": "1.5.0",
          "state": {
            "_model_module": "@jupyter-widgets/controls",
            "_model_module_version": "1.5.0",
            "_model_name": "DescriptionStyleModel",
            "_view_count": null,
            "_view_module": "@jupyter-widgets/base",
            "_view_module_version": "1.2.0",
            "_view_name": "StyleView",
            "description_width": ""
          }
        },
        "1db162411ee04f0784e43aabd02435bb": {
          "model_module": "@jupyter-widgets/base",
          "model_name": "LayoutModel",
          "model_module_version": "1.2.0",
          "state": {
            "_model_module": "@jupyter-widgets/base",
            "_model_module_version": "1.2.0",
            "_model_name": "LayoutModel",
            "_view_count": null,
            "_view_module": "@jupyter-widgets/base",
            "_view_module_version": "1.2.0",
            "_view_name": "LayoutView",
            "align_content": null,
            "align_items": null,
            "align_self": null,
            "border": null,
            "bottom": null,
            "display": null,
            "flex": null,
            "flex_flow": null,
            "grid_area": null,
            "grid_auto_columns": null,
            "grid_auto_flow": null,
            "grid_auto_rows": null,
            "grid_column": null,
            "grid_gap": null,
            "grid_row": null,
            "grid_template_areas": null,
            "grid_template_columns": null,
            "grid_template_rows": null,
            "height": null,
            "justify_content": null,
            "justify_items": null,
            "left": null,
            "margin": null,
            "max_height": null,
            "max_width": null,
            "min_height": null,
            "min_width": null,
            "object_fit": null,
            "object_position": null,
            "order": null,
            "overflow": null,
            "overflow_x": null,
            "overflow_y": null,
            "padding": null,
            "right": null,
            "top": null,
            "visibility": null,
            "width": null
          }
        },
        "c828e738ba9345379f917b310a244ec4": {
          "model_module": "@jupyter-widgets/controls",
          "model_name": "ButtonStyleModel",
          "model_module_version": "1.5.0",
          "state": {
            "_model_module": "@jupyter-widgets/controls",
            "_model_module_version": "1.5.0",
            "_model_name": "ButtonStyleModel",
            "_view_count": null,
            "_view_module": "@jupyter-widgets/base",
            "_view_module_version": "1.2.0",
            "_view_name": "StyleView",
            "button_color": null,
            "font_weight": ""
          }
        },
        "423b78b04f1547edbad3e02a26e5f3c5": {
          "model_module": "@jupyter-widgets/base",
          "model_name": "LayoutModel",
          "model_module_version": "1.2.0",
          "state": {
            "_model_module": "@jupyter-widgets/base",
            "_model_module_version": "1.2.0",
            "_model_name": "LayoutModel",
            "_view_count": null,
            "_view_module": "@jupyter-widgets/base",
            "_view_module_version": "1.2.0",
            "_view_name": "LayoutView",
            "align_content": null,
            "align_items": null,
            "align_self": null,
            "border": null,
            "bottom": null,
            "display": null,
            "flex": null,
            "flex_flow": null,
            "grid_area": null,
            "grid_auto_columns": null,
            "grid_auto_flow": null,
            "grid_auto_rows": null,
            "grid_column": null,
            "grid_gap": null,
            "grid_row": null,
            "grid_template_areas": null,
            "grid_template_columns": null,
            "grid_template_rows": null,
            "height": null,
            "justify_content": null,
            "justify_items": null,
            "left": null,
            "margin": null,
            "max_height": null,
            "max_width": null,
            "min_height": null,
            "min_width": null,
            "object_fit": null,
            "object_position": null,
            "order": null,
            "overflow": null,
            "overflow_x": null,
            "overflow_y": null,
            "padding": null,
            "right": null,
            "top": null,
            "visibility": null,
            "width": null
          }
        },
        "e40e79a398c549729fb10fd097c00742": {
          "model_module": "@jupyter-widgets/controls",
          "model_name": "DescriptionStyleModel",
          "model_module_version": "1.5.0",
          "state": {
            "_model_module": "@jupyter-widgets/controls",
            "_model_module_version": "1.5.0",
            "_model_name": "DescriptionStyleModel",
            "_view_count": null,
            "_view_module": "@jupyter-widgets/base",
            "_view_module_version": "1.2.0",
            "_view_name": "StyleView",
            "description_width": ""
          }
        },
        "dfc525ea06184992af010f25ff31b2e5": {
          "model_module": "@jupyter-widgets/controls",
          "model_name": "LabelModel",
          "model_module_version": "1.5.0",
          "state": {
            "_dom_classes": [],
            "_model_module": "@jupyter-widgets/controls",
            "_model_module_version": "1.5.0",
            "_model_name": "LabelModel",
            "_view_count": null,
            "_view_module": "@jupyter-widgets/controls",
            "_view_module_version": "1.5.0",
            "_view_name": "LabelView",
            "description": "",
            "description_tooltip": null,
            "layout": "IPY_MODEL_89edf053960e4423bcd8eef251bfe0c7",
            "placeholder": "​",
            "style": "IPY_MODEL_75c6a1e95d88431c90dfcd37efd4523e",
            "value": "Connecting..."
          }
        },
        "89edf053960e4423bcd8eef251bfe0c7": {
          "model_module": "@jupyter-widgets/base",
          "model_name": "LayoutModel",
          "model_module_version": "1.2.0",
          "state": {
            "_model_module": "@jupyter-widgets/base",
            "_model_module_version": "1.2.0",
            "_model_name": "LayoutModel",
            "_view_count": null,
            "_view_module": "@jupyter-widgets/base",
            "_view_module_version": "1.2.0",
            "_view_name": "LayoutView",
            "align_content": null,
            "align_items": null,
            "align_self": null,
            "border": null,
            "bottom": null,
            "display": null,
            "flex": null,
            "flex_flow": null,
            "grid_area": null,
            "grid_auto_columns": null,
            "grid_auto_flow": null,
            "grid_auto_rows": null,
            "grid_column": null,
            "grid_gap": null,
            "grid_row": null,
            "grid_template_areas": null,
            "grid_template_columns": null,
            "grid_template_rows": null,
            "height": null,
            "justify_content": null,
            "justify_items": null,
            "left": null,
            "margin": null,
            "max_height": null,
            "max_width": null,
            "min_height": null,
            "min_width": null,
            "object_fit": null,
            "object_position": null,
            "order": null,
            "overflow": null,
            "overflow_x": null,
            "overflow_y": null,
            "padding": null,
            "right": null,
            "top": null,
            "visibility": null,
            "width": null
          }
        },
        "75c6a1e95d88431c90dfcd37efd4523e": {
          "model_module": "@jupyter-widgets/controls",
          "model_name": "DescriptionStyleModel",
          "model_module_version": "1.5.0",
          "state": {
            "_model_module": "@jupyter-widgets/controls",
            "_model_module_version": "1.5.0",
            "_model_name": "DescriptionStyleModel",
            "_view_count": null,
            "_view_module": "@jupyter-widgets/base",
            "_view_module_version": "1.2.0",
            "_view_name": "StyleView",
            "description_width": ""
          }
        },
        "36174ac552a44a9dbbe92a14159e2748": {
          "model_module": "@jupyter-widgets/controls",
          "model_name": "HBoxModel",
          "model_module_version": "1.5.0",
          "state": {
            "_dom_classes": [],
            "_model_module": "@jupyter-widgets/controls",
            "_model_module_version": "1.5.0",
            "_model_name": "HBoxModel",
            "_view_count": null,
            "_view_module": "@jupyter-widgets/controls",
            "_view_module_version": "1.5.0",
            "_view_name": "HBoxView",
            "box_style": "",
            "children": [
              "IPY_MODEL_fbfa91aa95d844c09431e4112f8a422e",
              "IPY_MODEL_dad9ba62f2ff4dd09bd53adde3318fc0",
              "IPY_MODEL_d6c069408a1c4a5b96bb6c882e3534bb"
            ],
            "layout": "IPY_MODEL_de972fc7e3f240f6b968221a62afc622"
          }
        },
        "fbfa91aa95d844c09431e4112f8a422e": {
          "model_module": "@jupyter-widgets/controls",
          "model_name": "HTMLModel",
          "model_module_version": "1.5.0",
          "state": {
            "_dom_classes": [],
            "_model_module": "@jupyter-widgets/controls",
            "_model_module_version": "1.5.0",
            "_model_name": "HTMLModel",
            "_view_count": null,
            "_view_module": "@jupyter-widgets/controls",
            "_view_module_version": "1.5.0",
            "_view_name": "HTMLView",
            "description": "",
            "description_tooltip": null,
            "layout": "IPY_MODEL_64c26457d55c44f497c1d88196067f3b",
            "placeholder": "​",
            "style": "IPY_MODEL_5052135c00fa4c8d81e3b9225604902d",
            "value": "README.md: 100%"
          }
        },
        "dad9ba62f2ff4dd09bd53adde3318fc0": {
          "model_module": "@jupyter-widgets/controls",
          "model_name": "FloatProgressModel",
          "model_module_version": "1.5.0",
          "state": {
            "_dom_classes": [],
            "_model_module": "@jupyter-widgets/controls",
            "_model_module_version": "1.5.0",
            "_model_name": "FloatProgressModel",
            "_view_count": null,
            "_view_module": "@jupyter-widgets/controls",
            "_view_module_version": "1.5.0",
            "_view_name": "ProgressView",
            "bar_style": "success",
            "description": "",
            "description_tooltip": null,
            "layout": "IPY_MODEL_88486f3da0874bfd87019c09cdef9806",
            "max": 598,
            "min": 0,
            "orientation": "horizontal",
            "style": "IPY_MODEL_fb7256f4a433489ba69760396a0e4eb0",
            "value": 598
          }
        },
        "d6c069408a1c4a5b96bb6c882e3534bb": {
          "model_module": "@jupyter-widgets/controls",
          "model_name": "HTMLModel",
          "model_module_version": "1.5.0",
          "state": {
            "_dom_classes": [],
            "_model_module": "@jupyter-widgets/controls",
            "_model_module_version": "1.5.0",
            "_model_name": "HTMLModel",
            "_view_count": null,
            "_view_module": "@jupyter-widgets/controls",
            "_view_module_version": "1.5.0",
            "_view_name": "HTMLView",
            "description": "",
            "description_tooltip": null,
            "layout": "IPY_MODEL_5f57a19b504a4f239a01522c051d5a44",
            "placeholder": "​",
            "style": "IPY_MODEL_98563bb7283a40eabbee8af09b0d7793",
            "value": " 598/598 [00:00&lt;00:00, 43.2kB/s]"
          }
        },
        "de972fc7e3f240f6b968221a62afc622": {
          "model_module": "@jupyter-widgets/base",
          "model_name": "LayoutModel",
          "model_module_version": "1.2.0",
          "state": {
            "_model_module": "@jupyter-widgets/base",
            "_model_module_version": "1.2.0",
            "_model_name": "LayoutModel",
            "_view_count": null,
            "_view_module": "@jupyter-widgets/base",
            "_view_module_version": "1.2.0",
            "_view_name": "LayoutView",
            "align_content": null,
            "align_items": null,
            "align_self": null,
            "border": null,
            "bottom": null,
            "display": null,
            "flex": null,
            "flex_flow": null,
            "grid_area": null,
            "grid_auto_columns": null,
            "grid_auto_flow": null,
            "grid_auto_rows": null,
            "grid_column": null,
            "grid_gap": null,
            "grid_row": null,
            "grid_template_areas": null,
            "grid_template_columns": null,
            "grid_template_rows": null,
            "height": null,
            "justify_content": null,
            "justify_items": null,
            "left": null,
            "margin": null,
            "max_height": null,
            "max_width": null,
            "min_height": null,
            "min_width": null,
            "object_fit": null,
            "object_position": null,
            "order": null,
            "overflow": null,
            "overflow_x": null,
            "overflow_y": null,
            "padding": null,
            "right": null,
            "top": null,
            "visibility": null,
            "width": null
          }
        },
        "64c26457d55c44f497c1d88196067f3b": {
          "model_module": "@jupyter-widgets/base",
          "model_name": "LayoutModel",
          "model_module_version": "1.2.0",
          "state": {
            "_model_module": "@jupyter-widgets/base",
            "_model_module_version": "1.2.0",
            "_model_name": "LayoutModel",
            "_view_count": null,
            "_view_module": "@jupyter-widgets/base",
            "_view_module_version": "1.2.0",
            "_view_name": "LayoutView",
            "align_content": null,
            "align_items": null,
            "align_self": null,
            "border": null,
            "bottom": null,
            "display": null,
            "flex": null,
            "flex_flow": null,
            "grid_area": null,
            "grid_auto_columns": null,
            "grid_auto_flow": null,
            "grid_auto_rows": null,
            "grid_column": null,
            "grid_gap": null,
            "grid_row": null,
            "grid_template_areas": null,
            "grid_template_columns": null,
            "grid_template_rows": null,
            "height": null,
            "justify_content": null,
            "justify_items": null,
            "left": null,
            "margin": null,
            "max_height": null,
            "max_width": null,
            "min_height": null,
            "min_width": null,
            "object_fit": null,
            "object_position": null,
            "order": null,
            "overflow": null,
            "overflow_x": null,
            "overflow_y": null,
            "padding": null,
            "right": null,
            "top": null,
            "visibility": null,
            "width": null
          }
        },
        "5052135c00fa4c8d81e3b9225604902d": {
          "model_module": "@jupyter-widgets/controls",
          "model_name": "DescriptionStyleModel",
          "model_module_version": "1.5.0",
          "state": {
            "_model_module": "@jupyter-widgets/controls",
            "_model_module_version": "1.5.0",
            "_model_name": "DescriptionStyleModel",
            "_view_count": null,
            "_view_module": "@jupyter-widgets/base",
            "_view_module_version": "1.2.0",
            "_view_name": "StyleView",
            "description_width": ""
          }
        },
        "88486f3da0874bfd87019c09cdef9806": {
          "model_module": "@jupyter-widgets/base",
          "model_name": "LayoutModel",
          "model_module_version": "1.2.0",
          "state": {
            "_model_module": "@jupyter-widgets/base",
            "_model_module_version": "1.2.0",
            "_model_name": "LayoutModel",
            "_view_count": null,
            "_view_module": "@jupyter-widgets/base",
            "_view_module_version": "1.2.0",
            "_view_name": "LayoutView",
            "align_content": null,
            "align_items": null,
            "align_self": null,
            "border": null,
            "bottom": null,
            "display": null,
            "flex": null,
            "flex_flow": null,
            "grid_area": null,
            "grid_auto_columns": null,
            "grid_auto_flow": null,
            "grid_auto_rows": null,
            "grid_column": null,
            "grid_gap": null,
            "grid_row": null,
            "grid_template_areas": null,
            "grid_template_columns": null,
            "grid_template_rows": null,
            "height": null,
            "justify_content": null,
            "justify_items": null,
            "left": null,
            "margin": null,
            "max_height": null,
            "max_width": null,
            "min_height": null,
            "min_width": null,
            "object_fit": null,
            "object_position": null,
            "order": null,
            "overflow": null,
            "overflow_x": null,
            "overflow_y": null,
            "padding": null,
            "right": null,
            "top": null,
            "visibility": null,
            "width": null
          }
        },
        "fb7256f4a433489ba69760396a0e4eb0": {
          "model_module": "@jupyter-widgets/controls",
          "model_name": "ProgressStyleModel",
          "model_module_version": "1.5.0",
          "state": {
            "_model_module": "@jupyter-widgets/controls",
            "_model_module_version": "1.5.0",
            "_model_name": "ProgressStyleModel",
            "_view_count": null,
            "_view_module": "@jupyter-widgets/base",
            "_view_module_version": "1.2.0",
            "_view_name": "StyleView",
            "bar_color": null,
            "description_width": ""
          }
        },
        "5f57a19b504a4f239a01522c051d5a44": {
          "model_module": "@jupyter-widgets/base",
          "model_name": "LayoutModel",
          "model_module_version": "1.2.0",
          "state": {
            "_model_module": "@jupyter-widgets/base",
            "_model_module_version": "1.2.0",
            "_model_name": "LayoutModel",
            "_view_count": null,
            "_view_module": "@jupyter-widgets/base",
            "_view_module_version": "1.2.0",
            "_view_name": "LayoutView",
            "align_content": null,
            "align_items": null,
            "align_self": null,
            "border": null,
            "bottom": null,
            "display": null,
            "flex": null,
            "flex_flow": null,
            "grid_area": null,
            "grid_auto_columns": null,
            "grid_auto_flow": null,
            "grid_auto_rows": null,
            "grid_column": null,
            "grid_gap": null,
            "grid_row": null,
            "grid_template_areas": null,
            "grid_template_columns": null,
            "grid_template_rows": null,
            "height": null,
            "justify_content": null,
            "justify_items": null,
            "left": null,
            "margin": null,
            "max_height": null,
            "max_width": null,
            "min_height": null,
            "min_width": null,
            "object_fit": null,
            "object_position": null,
            "order": null,
            "overflow": null,
            "overflow_x": null,
            "overflow_y": null,
            "padding": null,
            "right": null,
            "top": null,
            "visibility": null,
            "width": null
          }
        },
        "98563bb7283a40eabbee8af09b0d7793": {
          "model_module": "@jupyter-widgets/controls",
          "model_name": "DescriptionStyleModel",
          "model_module_version": "1.5.0",
          "state": {
            "_model_module": "@jupyter-widgets/controls",
            "_model_module_version": "1.5.0",
            "_model_name": "DescriptionStyleModel",
            "_view_count": null,
            "_view_module": "@jupyter-widgets/base",
            "_view_module_version": "1.2.0",
            "_view_name": "StyleView",
            "description_width": ""
          }
        },
        "4a28bc24b9574a4f9479ceb24a3bebcc": {
          "model_module": "@jupyter-widgets/controls",
          "model_name": "HBoxModel",
          "model_module_version": "1.5.0",
          "state": {
            "_dom_classes": [],
            "_model_module": "@jupyter-widgets/controls",
            "_model_module_version": "1.5.0",
            "_model_name": "HBoxModel",
            "_view_count": null,
            "_view_module": "@jupyter-widgets/controls",
            "_view_module_version": "1.5.0",
            "_view_name": "HBoxView",
            "box_style": "",
            "children": [
              "IPY_MODEL_426aaab3a4094563a6a606c35022e92e",
              "IPY_MODEL_f09c5288bcf94a119f928414377a6c1b",
              "IPY_MODEL_60a9fb7830054ba0b7822ac7b0e7591e"
            ],
            "layout": "IPY_MODEL_62ee22fef7844db389dd0257fc21eb85"
          }
        },
        "426aaab3a4094563a6a606c35022e92e": {
          "model_module": "@jupyter-widgets/controls",
          "model_name": "HTMLModel",
          "model_module_version": "1.5.0",
          "state": {
            "_dom_classes": [],
            "_model_module": "@jupyter-widgets/controls",
            "_model_module_version": "1.5.0",
            "_model_name": "HTMLModel",
            "_view_count": null,
            "_view_module": "@jupyter-widgets/controls",
            "_view_module_version": "1.5.0",
            "_view_name": "HTMLView",
            "description": "",
            "description_tooltip": null,
            "layout": "IPY_MODEL_6a05d992884d4738906b5c5fb2be8289",
            "placeholder": "​",
            "style": "IPY_MODEL_4820b8eb7a38425c83d3fe1b3602249b",
            "value": "train-00000-of-00001.parquet: 100%"
          }
        },
        "f09c5288bcf94a119f928414377a6c1b": {
          "model_module": "@jupyter-widgets/controls",
          "model_name": "FloatProgressModel",
          "model_module_version": "1.5.0",
          "state": {
            "_dom_classes": [],
            "_model_module": "@jupyter-widgets/controls",
            "_model_module_version": "1.5.0",
            "_model_name": "FloatProgressModel",
            "_view_count": null,
            "_view_module": "@jupyter-widgets/controls",
            "_view_module_version": "1.5.0",
            "_view_name": "ProgressView",
            "bar_style": "success",
            "description": "",
            "description_tooltip": null,
            "layout": "IPY_MODEL_4487c6804ba6439894cf2563b562587b",
            "max": 3417218,
            "min": 0,
            "orientation": "horizontal",
            "style": "IPY_MODEL_1610ccb0893d44bfad72465295328f48",
            "value": 3417218
          }
        },
        "60a9fb7830054ba0b7822ac7b0e7591e": {
          "model_module": "@jupyter-widgets/controls",
          "model_name": "HTMLModel",
          "model_module_version": "1.5.0",
          "state": {
            "_dom_classes": [],
            "_model_module": "@jupyter-widgets/controls",
            "_model_module_version": "1.5.0",
            "_model_name": "HTMLModel",
            "_view_count": null,
            "_view_module": "@jupyter-widgets/controls",
            "_view_module_version": "1.5.0",
            "_view_name": "HTMLView",
            "description": "",
            "description_tooltip": null,
            "layout": "IPY_MODEL_ef32006be49648bdade303c3b5691ced",
            "placeholder": "​",
            "style": "IPY_MODEL_87ff1e7b0821407d8f536d41e11ace3b",
            "value": " 3.42M/3.42M [00:00&lt;00:00, 15.1MB/s]"
          }
        },
        "62ee22fef7844db389dd0257fc21eb85": {
          "model_module": "@jupyter-widgets/base",
          "model_name": "LayoutModel",
          "model_module_version": "1.2.0",
          "state": {
            "_model_module": "@jupyter-widgets/base",
            "_model_module_version": "1.2.0",
            "_model_name": "LayoutModel",
            "_view_count": null,
            "_view_module": "@jupyter-widgets/base",
            "_view_module_version": "1.2.0",
            "_view_name": "LayoutView",
            "align_content": null,
            "align_items": null,
            "align_self": null,
            "border": null,
            "bottom": null,
            "display": null,
            "flex": null,
            "flex_flow": null,
            "grid_area": null,
            "grid_auto_columns": null,
            "grid_auto_flow": null,
            "grid_auto_rows": null,
            "grid_column": null,
            "grid_gap": null,
            "grid_row": null,
            "grid_template_areas": null,
            "grid_template_columns": null,
            "grid_template_rows": null,
            "height": null,
            "justify_content": null,
            "justify_items": null,
            "left": null,
            "margin": null,
            "max_height": null,
            "max_width": null,
            "min_height": null,
            "min_width": null,
            "object_fit": null,
            "object_position": null,
            "order": null,
            "overflow": null,
            "overflow_x": null,
            "overflow_y": null,
            "padding": null,
            "right": null,
            "top": null,
            "visibility": null,
            "width": null
          }
        },
        "6a05d992884d4738906b5c5fb2be8289": {
          "model_module": "@jupyter-widgets/base",
          "model_name": "LayoutModel",
          "model_module_version": "1.2.0",
          "state": {
            "_model_module": "@jupyter-widgets/base",
            "_model_module_version": "1.2.0",
            "_model_name": "LayoutModel",
            "_view_count": null,
            "_view_module": "@jupyter-widgets/base",
            "_view_module_version": "1.2.0",
            "_view_name": "LayoutView",
            "align_content": null,
            "align_items": null,
            "align_self": null,
            "border": null,
            "bottom": null,
            "display": null,
            "flex": null,
            "flex_flow": null,
            "grid_area": null,
            "grid_auto_columns": null,
            "grid_auto_flow": null,
            "grid_auto_rows": null,
            "grid_column": null,
            "grid_gap": null,
            "grid_row": null,
            "grid_template_areas": null,
            "grid_template_columns": null,
            "grid_template_rows": null,
            "height": null,
            "justify_content": null,
            "justify_items": null,
            "left": null,
            "margin": null,
            "max_height": null,
            "max_width": null,
            "min_height": null,
            "min_width": null,
            "object_fit": null,
            "object_position": null,
            "order": null,
            "overflow": null,
            "overflow_x": null,
            "overflow_y": null,
            "padding": null,
            "right": null,
            "top": null,
            "visibility": null,
            "width": null
          }
        },
        "4820b8eb7a38425c83d3fe1b3602249b": {
          "model_module": "@jupyter-widgets/controls",
          "model_name": "DescriptionStyleModel",
          "model_module_version": "1.5.0",
          "state": {
            "_model_module": "@jupyter-widgets/controls",
            "_model_module_version": "1.5.0",
            "_model_name": "DescriptionStyleModel",
            "_view_count": null,
            "_view_module": "@jupyter-widgets/base",
            "_view_module_version": "1.2.0",
            "_view_name": "StyleView",
            "description_width": ""
          }
        },
        "4487c6804ba6439894cf2563b562587b": {
          "model_module": "@jupyter-widgets/base",
          "model_name": "LayoutModel",
          "model_module_version": "1.2.0",
          "state": {
            "_model_module": "@jupyter-widgets/base",
            "_model_module_version": "1.2.0",
            "_model_name": "LayoutModel",
            "_view_count": null,
            "_view_module": "@jupyter-widgets/base",
            "_view_module_version": "1.2.0",
            "_view_name": "LayoutView",
            "align_content": null,
            "align_items": null,
            "align_self": null,
            "border": null,
            "bottom": null,
            "display": null,
            "flex": null,
            "flex_flow": null,
            "grid_area": null,
            "grid_auto_columns": null,
            "grid_auto_flow": null,
            "grid_auto_rows": null,
            "grid_column": null,
            "grid_gap": null,
            "grid_row": null,
            "grid_template_areas": null,
            "grid_template_columns": null,
            "grid_template_rows": null,
            "height": null,
            "justify_content": null,
            "justify_items": null,
            "left": null,
            "margin": null,
            "max_height": null,
            "max_width": null,
            "min_height": null,
            "min_width": null,
            "object_fit": null,
            "object_position": null,
            "order": null,
            "overflow": null,
            "overflow_x": null,
            "overflow_y": null,
            "padding": null,
            "right": null,
            "top": null,
            "visibility": null,
            "width": null
          }
        },
        "1610ccb0893d44bfad72465295328f48": {
          "model_module": "@jupyter-widgets/controls",
          "model_name": "ProgressStyleModel",
          "model_module_version": "1.5.0",
          "state": {
            "_model_module": "@jupyter-widgets/controls",
            "_model_module_version": "1.5.0",
            "_model_name": "ProgressStyleModel",
            "_view_count": null,
            "_view_module": "@jupyter-widgets/base",
            "_view_module_version": "1.2.0",
            "_view_name": "StyleView",
            "bar_color": null,
            "description_width": ""
          }
        },
        "ef32006be49648bdade303c3b5691ced": {
          "model_module": "@jupyter-widgets/base",
          "model_name": "LayoutModel",
          "model_module_version": "1.2.0",
          "state": {
            "_model_module": "@jupyter-widgets/base",
            "_model_module_version": "1.2.0",
            "_model_name": "LayoutModel",
            "_view_count": null,
            "_view_module": "@jupyter-widgets/base",
            "_view_module_version": "1.2.0",
            "_view_name": "LayoutView",
            "align_content": null,
            "align_items": null,
            "align_self": null,
            "border": null,
            "bottom": null,
            "display": null,
            "flex": null,
            "flex_flow": null,
            "grid_area": null,
            "grid_auto_columns": null,
            "grid_auto_flow": null,
            "grid_auto_rows": null,
            "grid_column": null,
            "grid_gap": null,
            "grid_row": null,
            "grid_template_areas": null,
            "grid_template_columns": null,
            "grid_template_rows": null,
            "height": null,
            "justify_content": null,
            "justify_items": null,
            "left": null,
            "margin": null,
            "max_height": null,
            "max_width": null,
            "min_height": null,
            "min_width": null,
            "object_fit": null,
            "object_position": null,
            "order": null,
            "overflow": null,
            "overflow_x": null,
            "overflow_y": null,
            "padding": null,
            "right": null,
            "top": null,
            "visibility": null,
            "width": null
          }
        },
        "87ff1e7b0821407d8f536d41e11ace3b": {
          "model_module": "@jupyter-widgets/controls",
          "model_name": "DescriptionStyleModel",
          "model_module_version": "1.5.0",
          "state": {
            "_model_module": "@jupyter-widgets/controls",
            "_model_module_version": "1.5.0",
            "_model_name": "DescriptionStyleModel",
            "_view_count": null,
            "_view_module": "@jupyter-widgets/base",
            "_view_module_version": "1.2.0",
            "_view_name": "StyleView",
            "description_width": ""
          }
        },
        "ee58648e02804d72a2e2ace5153fe2c6": {
          "model_module": "@jupyter-widgets/controls",
          "model_name": "HBoxModel",
          "model_module_version": "1.5.0",
          "state": {
            "_dom_classes": [],
            "_model_module": "@jupyter-widgets/controls",
            "_model_module_version": "1.5.0",
            "_model_name": "HBoxModel",
            "_view_count": null,
            "_view_module": "@jupyter-widgets/controls",
            "_view_module_version": "1.5.0",
            "_view_name": "HBoxView",
            "box_style": "",
            "children": [
              "IPY_MODEL_3a4de7f105ac4e7290faaf1d1557b034",
              "IPY_MODEL_affbb9a383c04d9eafc6d072024ec792",
              "IPY_MODEL_892cf6fae08a4b12b1a3f5c9cacce105"
            ],
            "layout": "IPY_MODEL_99585897bb0b43d3b2339a5399849eeb"
          }
        },
        "3a4de7f105ac4e7290faaf1d1557b034": {
          "model_module": "@jupyter-widgets/controls",
          "model_name": "HTMLModel",
          "model_module_version": "1.5.0",
          "state": {
            "_dom_classes": [],
            "_model_module": "@jupyter-widgets/controls",
            "_model_module_version": "1.5.0",
            "_model_name": "HTMLModel",
            "_view_count": null,
            "_view_module": "@jupyter-widgets/controls",
            "_view_module_version": "1.5.0",
            "_view_name": "HTMLView",
            "description": "",
            "description_tooltip": null,
            "layout": "IPY_MODEL_ee3df9e8bebe4c438b56d2103e6303bc",
            "placeholder": "​",
            "style": "IPY_MODEL_2ac85ba17a634adfb71f68db33d32a43",
            "value": "Generating train split: 100%"
          }
        },
        "affbb9a383c04d9eafc6d072024ec792": {
          "model_module": "@jupyter-widgets/controls",
          "model_name": "FloatProgressModel",
          "model_module_version": "1.5.0",
          "state": {
            "_dom_classes": [],
            "_model_module": "@jupyter-widgets/controls",
            "_model_module_version": "1.5.0",
            "_model_name": "FloatProgressModel",
            "_view_count": null,
            "_view_module": "@jupyter-widgets/controls",
            "_view_module_version": "1.5.0",
            "_view_name": "ProgressView",
            "bar_style": "success",
            "description": "",
            "description_tooltip": null,
            "layout": "IPY_MODEL_a7294684b1e74809b3b31a309f2f47d2",
            "max": 3000,
            "min": 0,
            "orientation": "horizontal",
            "style": "IPY_MODEL_6097991afe504270ad2045134a8427b9",
            "value": 3000
          }
        },
        "892cf6fae08a4b12b1a3f5c9cacce105": {
          "model_module": "@jupyter-widgets/controls",
          "model_name": "HTMLModel",
          "model_module_version": "1.5.0",
          "state": {
            "_dom_classes": [],
            "_model_module": "@jupyter-widgets/controls",
            "_model_module_version": "1.5.0",
            "_model_name": "HTMLModel",
            "_view_count": null,
            "_view_module": "@jupyter-widgets/controls",
            "_view_module_version": "1.5.0",
            "_view_name": "HTMLView",
            "description": "",
            "description_tooltip": null,
            "layout": "IPY_MODEL_12426b28d05f4a0bbf7f2770a078a081",
            "placeholder": "​",
            "style": "IPY_MODEL_cc974b36dd2c41be94ff50c723860e0f",
            "value": " 3000/3000 [00:00&lt;00:00, 8667.26 examples/s]"
          }
        },
        "99585897bb0b43d3b2339a5399849eeb": {
          "model_module": "@jupyter-widgets/base",
          "model_name": "LayoutModel",
          "model_module_version": "1.2.0",
          "state": {
            "_model_module": "@jupyter-widgets/base",
            "_model_module_version": "1.2.0",
            "_model_name": "LayoutModel",
            "_view_count": null,
            "_view_module": "@jupyter-widgets/base",
            "_view_module_version": "1.2.0",
            "_view_name": "LayoutView",
            "align_content": null,
            "align_items": null,
            "align_self": null,
            "border": null,
            "bottom": null,
            "display": null,
            "flex": null,
            "flex_flow": null,
            "grid_area": null,
            "grid_auto_columns": null,
            "grid_auto_flow": null,
            "grid_auto_rows": null,
            "grid_column": null,
            "grid_gap": null,
            "grid_row": null,
            "grid_template_areas": null,
            "grid_template_columns": null,
            "grid_template_rows": null,
            "height": null,
            "justify_content": null,
            "justify_items": null,
            "left": null,
            "margin": null,
            "max_height": null,
            "max_width": null,
            "min_height": null,
            "min_width": null,
            "object_fit": null,
            "object_position": null,
            "order": null,
            "overflow": null,
            "overflow_x": null,
            "overflow_y": null,
            "padding": null,
            "right": null,
            "top": null,
            "visibility": null,
            "width": null
          }
        },
        "ee3df9e8bebe4c438b56d2103e6303bc": {
          "model_module": "@jupyter-widgets/base",
          "model_name": "LayoutModel",
          "model_module_version": "1.2.0",
          "state": {
            "_model_module": "@jupyter-widgets/base",
            "_model_module_version": "1.2.0",
            "_model_name": "LayoutModel",
            "_view_count": null,
            "_view_module": "@jupyter-widgets/base",
            "_view_module_version": "1.2.0",
            "_view_name": "LayoutView",
            "align_content": null,
            "align_items": null,
            "align_self": null,
            "border": null,
            "bottom": null,
            "display": null,
            "flex": null,
            "flex_flow": null,
            "grid_area": null,
            "grid_auto_columns": null,
            "grid_auto_flow": null,
            "grid_auto_rows": null,
            "grid_column": null,
            "grid_gap": null,
            "grid_row": null,
            "grid_template_areas": null,
            "grid_template_columns": null,
            "grid_template_rows": null,
            "height": null,
            "justify_content": null,
            "justify_items": null,
            "left": null,
            "margin": null,
            "max_height": null,
            "max_width": null,
            "min_height": null,
            "min_width": null,
            "object_fit": null,
            "object_position": null,
            "order": null,
            "overflow": null,
            "overflow_x": null,
            "overflow_y": null,
            "padding": null,
            "right": null,
            "top": null,
            "visibility": null,
            "width": null
          }
        },
        "2ac85ba17a634adfb71f68db33d32a43": {
          "model_module": "@jupyter-widgets/controls",
          "model_name": "DescriptionStyleModel",
          "model_module_version": "1.5.0",
          "state": {
            "_model_module": "@jupyter-widgets/controls",
            "_model_module_version": "1.5.0",
            "_model_name": "DescriptionStyleModel",
            "_view_count": null,
            "_view_module": "@jupyter-widgets/base",
            "_view_module_version": "1.2.0",
            "_view_name": "StyleView",
            "description_width": ""
          }
        },
        "a7294684b1e74809b3b31a309f2f47d2": {
          "model_module": "@jupyter-widgets/base",
          "model_name": "LayoutModel",
          "model_module_version": "1.2.0",
          "state": {
            "_model_module": "@jupyter-widgets/base",
            "_model_module_version": "1.2.0",
            "_model_name": "LayoutModel",
            "_view_count": null,
            "_view_module": "@jupyter-widgets/base",
            "_view_module_version": "1.2.0",
            "_view_name": "LayoutView",
            "align_content": null,
            "align_items": null,
            "align_self": null,
            "border": null,
            "bottom": null,
            "display": null,
            "flex": null,
            "flex_flow": null,
            "grid_area": null,
            "grid_auto_columns": null,
            "grid_auto_flow": null,
            "grid_auto_rows": null,
            "grid_column": null,
            "grid_gap": null,
            "grid_row": null,
            "grid_template_areas": null,
            "grid_template_columns": null,
            "grid_template_rows": null,
            "height": null,
            "justify_content": null,
            "justify_items": null,
            "left": null,
            "margin": null,
            "max_height": null,
            "max_width": null,
            "min_height": null,
            "min_width": null,
            "object_fit": null,
            "object_position": null,
            "order": null,
            "overflow": null,
            "overflow_x": null,
            "overflow_y": null,
            "padding": null,
            "right": null,
            "top": null,
            "visibility": null,
            "width": null
          }
        },
        "6097991afe504270ad2045134a8427b9": {
          "model_module": "@jupyter-widgets/controls",
          "model_name": "ProgressStyleModel",
          "model_module_version": "1.5.0",
          "state": {
            "_model_module": "@jupyter-widgets/controls",
            "_model_module_version": "1.5.0",
            "_model_name": "ProgressStyleModel",
            "_view_count": null,
            "_view_module": "@jupyter-widgets/base",
            "_view_module_version": "1.2.0",
            "_view_name": "StyleView",
            "bar_color": null,
            "description_width": ""
          }
        },
        "12426b28d05f4a0bbf7f2770a078a081": {
          "model_module": "@jupyter-widgets/base",
          "model_name": "LayoutModel",
          "model_module_version": "1.2.0",
          "state": {
            "_model_module": "@jupyter-widgets/base",
            "_model_module_version": "1.2.0",
            "_model_name": "LayoutModel",
            "_view_count": null,
            "_view_module": "@jupyter-widgets/base",
            "_view_module_version": "1.2.0",
            "_view_name": "LayoutView",
            "align_content": null,
            "align_items": null,
            "align_self": null,
            "border": null,
            "bottom": null,
            "display": null,
            "flex": null,
            "flex_flow": null,
            "grid_area": null,
            "grid_auto_columns": null,
            "grid_auto_flow": null,
            "grid_auto_rows": null,
            "grid_column": null,
            "grid_gap": null,
            "grid_row": null,
            "grid_template_areas": null,
            "grid_template_columns": null,
            "grid_template_rows": null,
            "height": null,
            "justify_content": null,
            "justify_items": null,
            "left": null,
            "margin": null,
            "max_height": null,
            "max_width": null,
            "min_height": null,
            "min_width": null,
            "object_fit": null,
            "object_position": null,
            "order": null,
            "overflow": null,
            "overflow_x": null,
            "overflow_y": null,
            "padding": null,
            "right": null,
            "top": null,
            "visibility": null,
            "width": null
          }
        },
        "cc974b36dd2c41be94ff50c723860e0f": {
          "model_module": "@jupyter-widgets/controls",
          "model_name": "DescriptionStyleModel",
          "model_module_version": "1.5.0",
          "state": {
            "_model_module": "@jupyter-widgets/controls",
            "_model_module_version": "1.5.0",
            "_model_name": "DescriptionStyleModel",
            "_view_count": null,
            "_view_module": "@jupyter-widgets/base",
            "_view_module_version": "1.2.0",
            "_view_name": "StyleView",
            "description_width": ""
          }
        }
      }
    },
    "accelerator": "GPU"
  },
  "nbformat": 4,
  "nbformat_minor": 5
}