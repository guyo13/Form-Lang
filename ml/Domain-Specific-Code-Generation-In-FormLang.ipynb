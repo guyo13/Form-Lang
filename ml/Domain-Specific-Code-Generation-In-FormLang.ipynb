{
 "cells": [
  {
   "cell_type": "markdown",
   "id": "3da41cfd-8291-4b03-87ed-5df197c2efbd",
   "metadata": {},
   "source": [
    "# Domain Specific Code Generation using the FormLang DSL"
   ]
  },
  {
   "cell_type": "markdown",
   "id": "1b4cbce9-f06b-46e7-87da-cd82364afd6c",
   "metadata": {},
   "source": [
    "## Abstract\n",
    "\n",
    "AI and LLM systems are being trained to perform a variety of complex tasks requiring expertise in many software tools, languages and technology stacks. Some of the challenges in this process involve quality data acquisition in large amounts, handling the increase of model parameter count which leads to increasing compute demands and costs, as well as emerging Data Privacy and Intellctual Property concerns related with using 3rd party cloud services for model training. \n",
    "\n",
    "In this work we attempt to harness and combine the benefits of Abstraction and Determinism provided by Formal Domain Specific Languages (DSLs) with the innate ability of LLMs to learn new languages and their semantics. We propose a novel generation task called \"Domain Specific Code Generation\" which involve mapping user requests written in natural language to DSL code.\n",
    "\n",
    "By utilizing a specially crafted DSL called `FormLang` as a case study, we attempt to lay the groundwork for methods of automated DSL dataset generation, training techniques and performance evaluation, with the end goal of creating an AI system capable of generating Web forms according to a user request.\n",
    "\n",
    "Our `FormLang` DSL allows expressing the semantics of Web-forms using a simplified syntax that does not require much, if any, Web-programming knowledge and expertise.\n",
    "\n",
    "Given a user prompt in English describing the desired form and its fields the LLM produces syntactically valid `FormLang` output which is run through the accompanying FormLang parser and a hand-crafted React JSX compiler to output a final implementation of the form in JavaScript and React.\n",
    "\n",
    "The project includes a live demo which demonstrates the capabilities of the system.\n"
   ]
  },
  {
   "cell_type": "markdown",
   "id": "9fe6f6e1-43e6-45d7-a792-8e8d141c075b",
   "metadata": {},
   "source": [
    "## Referring to this work\n",
    "\n",
    "If you use this work the following quote is preferred:\n",
    "\n",
    "```bibtex\n",
    "@misc{guyor2025dscodegenformlang,\n",
    "      title={Domain Specific Code Generation using the FormLang DSL}, \n",
    "      author={Guy Or},\n",
    "      year={2025}\n",
    "}\n",
    "```\n",
    "\n",
    "The official repository of this work is hosted in GitHub at https://github.com/guyo13/Form-Lang **TBD** - Make the repo public"
   ]
  },
  {
   "cell_type": "markdown",
   "id": "3b0ab27f-eb13-4744-aac1-57e8ca65d63e",
   "metadata": {},
   "source": [
    "## Project Goals\n",
    "\n",
    "* Define the Task of Domain Specific Code Generation.\n",
    "* Create an AI training pipeline for FormLang (implemented as a Juypter notebook) which includes:\n",
    "    * Automatic FormLang Dataset generation using searching algorithms and heuristics.\n",
    "    * Baseline model selection and loading from Hugging Face.\n",
    "    * Dataset Preprocessing and loading.\n",
    "    * Defining performance KPIs for the system.\n",
    "    * Model fine tuning using Transformers library\n",
    "    * Model Adapter training using PEFT library.\n",
    "    * Model upload to Hugging Face Hub and example usage from the Hub.\n",
    "    *  **(TBD)** Export to ONNX using Optimum and run on-device using Transformers.js.\n",
    "* Create the “FormLang” language:\n",
    "    * Describe the problem domain.\n",
    "    * Defining a viable minimal syntax and semantics which are research focused rather than completeness focused.\n",
    "    *  **(TBD)** Implementing a “JavaScript React” compile target.\n",
    "*  **(TBD)** Create a live demo website:\n",
    "    * **(TBD)** Users input a prompt.\n",
    "    * **(TBD)** A FormLang editor is populated with the AI’s code generation results.\n",
    "    * **(TBD)** The form is rendered alongside the generated code.\n",
    "*  Discuss the project results:\n",
    "    * Perfornace and user acceptability.\n",
    "    * **(TBD)** Viability of the implemented methods for the Domain Specific Code Generation task and generalization to other domains.  \n",
    "    * **(TBD)** Potential enhancements to the system.\n",
    "    * **(TBD)** Possible research directions on how to learn from user data.\n",
    "\n",
    "\n",
    "**(TBD)** - Features marked as TBD are depending on the project's progress and timeline constraints as well as proving the viability of the methods and system."
   ]
  },
  {
   "cell_type": "markdown",
   "id": "f82857ab-ff94-41c5-ac86-3118861b0590",
   "metadata": {
    "jp-MarkdownHeadingCollapsed": true
   },
   "source": [
    "# Notebook Setup"
   ]
  },
  {
   "cell_type": "markdown",
   "id": "d876cfa3-6129-4884-be8b-bc0c23f4a511",
   "metadata": {},
   "source": [
    "## Project imports"
   ]
  },
  {
   "cell_type": "code",
   "execution_count": 5,
   "id": "3a9e9c44-4a3b-494b-bb86-63178d67bdd7",
   "metadata": {},
   "outputs": [],
   "source": [
    "from transformers import pipeline\n",
    "from huggingface_hub import login"
   ]
  },
  {
   "cell_type": "markdown",
   "id": "290ca50b-0174-4c0b-9ecc-79f04eb910ad",
   "metadata": {},
   "source": [
    "## Login to Huggingface Hub"
   ]
  },
  {
   "cell_type": "code",
   "execution_count": 8,
   "id": "93c12f91-3626-4985-af97-0d69b4418475",
   "metadata": {},
   "outputs": [
    {
     "data": {
      "application/vnd.jupyter.widget-view+json": {
       "model_id": "1c73477b2887419d9d5da58bff3cfbab",
       "version_major": 2,
       "version_minor": 0
      },
      "text/plain": [
       "VBox(children=(HTML(value='<center> <img\\nsrc=https://huggingface.co/front/assets/huggingface_logo-noborder.sv…"
      ]
     },
     "metadata": {},
     "output_type": "display_data"
    }
   ],
   "source": [
    "login()"
   ]
  }
 ],
 "metadata": {
  "kernelspec": {
   "display_name": "Python 3 (ipykernel)",
   "language": "python",
   "name": "python3"
  },
  "language_info": {
   "codemirror_mode": {
    "name": "ipython",
    "version": 3
   },
   "file_extension": ".py",
   "mimetype": "text/x-python",
   "name": "python",
   "nbconvert_exporter": "python",
   "pygments_lexer": "ipython3",
   "version": "3.10.12"
  }
 },
 "nbformat": 4,
 "nbformat_minor": 5
}
