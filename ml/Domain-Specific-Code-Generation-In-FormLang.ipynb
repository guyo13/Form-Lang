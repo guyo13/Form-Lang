{
  "cells": [
    {
      "cell_type": "markdown",
      "id": "3da41cfd-8291-4b03-87ed-5df197c2efbd",
      "metadata": {
        "id": "3da41cfd-8291-4b03-87ed-5df197c2efbd"
      },
      "source": [
        "# Domain Specific Code Generation using the FormLang DSL"
      ]
    },
    {
      "cell_type": "markdown",
      "id": "1b4cbce9-f06b-46e7-87da-cd82364afd6c",
      "metadata": {
        "id": "1b4cbce9-f06b-46e7-87da-cd82364afd6c"
      },
      "source": [
        "## Abstract\n",
        "\n",
        "AI and LLM systems are being trained to perform a variety of complex tasks requiring expertise in many software tools, languages and technology stacks. Some of the challenges in this process involve quality data acquisition in large amounts, handling the increase of model parameter count which leads to increasing compute demands and costs, as well as emerging Data Privacy and Intellctual Property concerns related with using 3rd party cloud services for model training.\n",
        "\n",
        "In this work we attempt to harness and combine the benefits of Abstraction and Determinism provided by Formal Domain Specific Languages (DSLs) with the innate ability of LLMs to learn new languages and their semantics. We propose a novel generation task called \"Domain Specific Code Generation\" which involve mapping user requests written in natural language to DSL code.\n",
        "\n",
        "By utilizing a specially crafted DSL called `FormLang` as a case study, we attempt to lay the groundwork for methods of automated DSL dataset generation, training techniques and performance evaluation, with the end goal of creating an AI system capable of generating Web forms according to a user request.\n",
        "\n",
        "Our `FormLang` DSL allows expressing the semantics of Web-forms using a simplified syntax that does not require much, if any, Web-programming knowledge and expertise.\n",
        "\n",
        "Given a user prompt in English describing the desired form and its fields the LLM produces syntactically valid `FormLang` output which is run through the accompanying FormLang parser and a hand-crafted React JSX compiler to output a final implementation of the form in JavaScript and React.\n",
        "\n",
        "The project includes a live demo which demonstrates the capabilities of the system.\n"
      ]
    },
    {
      "cell_type": "markdown",
      "id": "9fe6f6e1-43e6-45d7-a792-8e8d141c075b",
      "metadata": {
        "id": "9fe6f6e1-43e6-45d7-a792-8e8d141c075b"
      },
      "source": [
        "## Referring to this work\n",
        "\n",
        "If you use this work the following quote is preferred:\n",
        "\n",
        "```bibtex\n",
        "@misc{guyor2025dscodegenformlang,\n",
        "      title={Domain Specific Code Generation using the FormLang DSL},\n",
        "      author={Guy Or},\n",
        "      year={2025}\n",
        "}\n",
        "```\n",
        "\n",
        "The official repository of this work is hosted in GitHub at https://github.com/guyo13/Form-Lang **TBD** - Make the repo public"
      ]
    },
    {
      "cell_type": "markdown",
      "id": "3b0ab27f-eb13-4744-aac1-57e8ca65d63e",
      "metadata": {
        "id": "3b0ab27f-eb13-4744-aac1-57e8ca65d63e"
      },
      "source": [
        "## Project Goals\n",
        "\n",
        "* Define the Task of Domain Specific Code Generation.\n",
        "* Create an AI training pipeline for FormLang (implemented as a Juypter notebook) which includes:\n",
        "    * Automatic FormLang Dataset generation using searching algorithms and heuristics.\n",
        "    * Baseline model selection and loading from Hugging Face.\n",
        "    * Dataset Preprocessing and loading.\n",
        "    * Defining performance KPIs for the system.\n",
        "    * Model fine tuning using Transformers library\n",
        "    * Model Adapter training using PEFT library.\n",
        "    * Model upload to Hugging Face Hub and example usage from the Hub.\n",
        "    *  **(TBD)** Export to ONNX using Optimum and run on-device using Transformers.js.\n",
        "* Create the “FormLang” language:\n",
        "    * Describe the problem domain.\n",
        "    * Defining a viable minimal syntax and semantics which are research focused rather than completeness focused.\n",
        "    *  **(TBD)** Implementing a “JavaScript React” compile target.\n",
        "*  **(TBD)** Create a live demo website:\n",
        "    * **(TBD)** Users input a prompt.\n",
        "    * **(TBD)** A FormLang editor is populated with the AI’s code generation results.\n",
        "    * **(TBD)** The form is rendered alongside the generated code.\n",
        "*  Discuss the project results:\n",
        "    * Perfornace and user acceptability.\n",
        "    * **(TBD)** Viability of the implemented methods for the Domain Specific Code Generation task and generalization to other domains.  \n",
        "    * **(TBD)** Potential enhancements to the system.\n",
        "    * **(TBD)** Possible research directions on how to learn from user data.\n",
        "\n",
        "\n",
        "**(TBD)** - Features marked as TBD are depending on the project's progress and timeline constraints as well as proving the viability of the methods and system."
      ]
    },
    {
      "cell_type": "markdown",
      "id": "f82857ab-ff94-41c5-ac86-3118861b0590",
      "metadata": {
        "id": "f82857ab-ff94-41c5-ac86-3118861b0590"
      },
      "source": [
        "# Notebook Setup"
      ]
    },
    {
      "cell_type": "markdown",
      "id": "e11e7427-aed5-48ac-96e2-b84fbdf073f3",
      "metadata": {
        "id": "e11e7427-aed5-48ac-96e2-b84fbdf073f3"
      },
      "source": [
        "## About the FormLang DSL and its tooling and codebase"
      ]
    },
    {
      "cell_type": "markdown",
      "id": "0472c753-5fe4-44b7-b36c-81139377cc6b",
      "metadata": {
        "id": "0472c753-5fe4-44b7-b36c-81139377cc6b"
      },
      "source": [
        "The FormLang DSL is implemented using the [Langium](https://langium.org/) project. Langium is a toolkit written in TypeScript that allows language engineers to create DSLs and quickly iterate over their development lifecycle.\n",
        "\n",
        "Some of the many features offered by Langium are:\n",
        "\n",
        "* Parser generation - Langium leverages [Chevrotain](https://chevrotain.io/docs/) to create a fast parser that can parse the DSL code to AST.\n",
        "* TypeScript AST nodes generation - Langium automatically generates TS types that represent the AST of the language.\n",
        "* Simplified Validation rules - Langium has built in support for writing and executing validation rules with built in error reporting.\n",
        "* Language Server Protocol support - Langium implements the LSP protocol which allows code completion and syntax highlighting in many IDEs such as VSCode.\n",
        "\n",
        "Since we are using Langium to parse the FormLang DSL, some of this project tooling and algorithms are written in TypeScript.\n",
        "\n",
        "To call our TypeScript code from Python we are using two distinct methods:\n",
        "\n",
        "* [PythonMonkey](https://pythonmonkey.io/) - A Python package that implements FFI between Python and JavaScript.\n",
        "* Local HTTP API - For some cases in which the PythonMonkey FFI is too slow, we've implemented a local REST-API server that implements some functions we require (e.g for parsing FormLang code to AST).\n",
        "\n",
        "### Codebase\n",
        "\n",
        "The entire codebase is hosted in Github at [FormLang](https://github.com/guyo13/Form-Lang).\n",
        "\n",
        "### Local Setup and Installation instructions - TODO"
      ]
    },
    {
      "cell_type": "markdown",
      "source": [
        "### Running from Colab"
      ],
      "metadata": {
        "id": "Ou2nd_6VfMJb"
      },
      "id": "Ou2nd_6VfMJb"
    },
    {
      "cell_type": "markdown",
      "source": [
        "#### Installing PNPM and Bun"
      ],
      "metadata": {
        "id": "eJxc5-6UfnjC"
      },
      "id": "eJxc5-6UfnjC"
    },
    {
      "cell_type": "code",
      "source": [
        "!npm install -g pnpm\n",
        "!pnpm install bun@latest"
      ],
      "metadata": {
        "id": "sacCOlA8fqLv",
        "outputId": "a4992d6d-aaac-4727-b7f1-a3fe4f2f72d0",
        "colab": {
          "base_uri": "https://localhost:8080/"
        }
      },
      "id": "sacCOlA8fqLv",
      "execution_count": 3,
      "outputs": [
        {
          "output_type": "stream",
          "name": "stdout",
          "text": [
            "\u001b[1G\u001b[0K⠙\u001b[1G\u001b[0K⠹\u001b[1G\u001b[0K⠸\u001b[1G\u001b[0K⠼\u001b[1G\u001b[0K⠴\u001b[1G\u001b[0K⠦\u001b[1G\u001b[0K⠧\u001b[1G\u001b[0K⠇\u001b[1G\u001b[0K⠏\u001b[1G\u001b[0K⠋\u001b[1G\u001b[0K⠙\u001b[1G\u001b[0K⠹\u001b[1G\u001b[0K⠸\u001b[1G\u001b[0K⠼\u001b[1G\u001b[0K⠴\u001b[1G\u001b[0K⠦\u001b[1G\u001b[0K⠧\u001b[1G\u001b[0K⠇\u001b[1G\u001b[0K⠏\u001b[1G\u001b[0K⠋\u001b[1G\u001b[0K⠙\u001b[1G\u001b[0K⠹\u001b[1G\u001b[0K⠸\u001b[1G\u001b[0K\n",
            "added 1 package in 3s\n",
            "\u001b[1G\u001b[0K⠸\u001b[1G\u001b[0K\n",
            "\u001b[1G\u001b[0K⠸\u001b[1G\u001b[0K1 package is looking for funding\n",
            "\u001b[1G\u001b[0K⠸\u001b[1G\u001b[0K  run `npm fund` for details\n",
            "\u001b[1G\u001b[0K⠸\u001b[1G\u001b[0KProgress: resolved \u001b[96m1\u001b[39m, reused \u001b[96m0\u001b[39m, downloaded \u001b[96m0\u001b[39m, added \u001b[96m0\u001b[39m\n",
            "\u001b[1AProgress: resolved \u001b[96m1\u001b[39m, reused \u001b[96m0\u001b[39m, downloaded \u001b[96m1\u001b[39m, added \u001b[96m0\u001b[39m\n",
            "\u001b[1AProgress: resolved \u001b[96m5\u001b[39m, reused \u001b[96m0\u001b[39m, downloaded \u001b[96m1\u001b[39m, added \u001b[96m0\u001b[39m\n",
            "Downloading \u001b[97m@oven/bun-linux-x64-musl-baseline@1.2.2\u001b[39m: \u001b[96m0.00 B\u001b[39m/\u001b[96m39.28 MB\u001b[39m\n",
            "\u001b[1ADownloading \u001b[97m@oven/bun-linux-x64-musl-baseline@1.2.2\u001b[39m: \u001b[96m1.37 kB\u001b[39m/\u001b[96m39.28 MB\u001b[39m\n",
            "\u001b[2AProgress: resolved \u001b[96m10\u001b[39m, reused \u001b[96m0\u001b[39m, downloaded \u001b[96m1\u001b[39m, added \u001b[96m0\u001b[39m\n",
            "\u001b[1BDownloading \u001b[97m@oven/bun-linux-x64-musl@1.2.2\u001b[39m: \u001b[96m0.00 B\u001b[39m/\u001b[96m39.44 MB\u001b[39m\n",
            "\u001b[1ADownloading \u001b[97m@oven/bun-linux-x64-musl@1.2.2\u001b[39m: \u001b[96m3.62 kB\u001b[39m/\u001b[96m39.44 MB\u001b[39m\n",
            "Downloading \u001b[97m@oven/bun-linux-x64-baseline@1.2.2\u001b[39m: \u001b[96m0.00 B\u001b[39m/\u001b[96m38.16 MB\u001b[39m\n",
            "\u001b[1ADownloading \u001b[97m@oven/bun-linux-x64-baseline@1.2.2\u001b[39m: \u001b[96m15.77 kB\u001b[39m/\u001b[96m38.16 MB\u001b[39m\n",
            "Downloading \u001b[97m@oven/bun-linux-x64@1.2.2\u001b[39m: \u001b[96m0.00 B\u001b[39m/\u001b[96m38.33 MB\u001b[39m\n",
            "\u001b[1ADownloading \u001b[97m@oven/bun-linux-x64@1.2.2\u001b[39m: \u001b[96m15.77 kB\u001b[39m/\u001b[96m38.33 MB\u001b[39m\n",
            "\u001b[5AProgress: resolved \u001b[96m11\u001b[39m, reused \u001b[96m0\u001b[39m, downloaded \u001b[96m1\u001b[39m, added \u001b[96m0\u001b[39m\n",
            "\u001b[4B\u001b[4ADownloading \u001b[97m@oven/bun-linux-x64-musl-baseline@1.2.2\u001b[39m: \u001b[96m16.82 MB\u001b[39m/\u001b[96m39.28 MB\u001b[39m\n",
            "\u001b[3B\u001b[5AProgress: resolved \u001b[96m12\u001b[39m, reused \u001b[96m0\u001b[39m, downloaded \u001b[96m1\u001b[39m, added \u001b[96m0\u001b[39m\n",
            "\u001b[4B\u001b[5APackages: \u001b[32m+5\u001b[39m\u001b[0K\n",
            "\u001b[0K\n",
            "Progress: resolved \u001b[96m12\u001b[39m, reused \u001b[96m0\u001b[39m, downloaded \u001b[96m1\u001b[39m, added \u001b[96m0\u001b[39m\u001b[0K\n",
            "Downloading \u001b[97m@oven/bun-linux-x64-musl-baseline@1.2.2\u001b[39m: \u001b[96m16.82 MB\u001b[39m/\u001b[96m39.28 MB\u001b[39m\n",
            "Downloading \u001b[97m@oven/bun-linux-x64-musl@1.2.2\u001b[39m: \u001b[96m3.62 kB\u001b[39m/\u001b[96m39.44 MB\u001b[39m\n",
            "Downloading \u001b[97m@oven/bun-linux-x64-baseline@1.2.2\u001b[39m: \u001b[96m15.77 kB\u001b[39m/\u001b[96m38.16 MB\u001b[39m\n",
            "Downloading \u001b[97m@oven/bun-linux-x64@1.2.2\u001b[39m: \u001b[96m15.77 kB\u001b[39m/\u001b[96m38.33 MB\u001b[39m\n",
            "\u001b[3ADownloading \u001b[97m@oven/bun-linux-x64-musl@1.2.2\u001b[39m: \u001b[96m13.42 MB\u001b[39m/\u001b[96m39.44 MB\u001b[39m\n",
            "\u001b[2B\u001b[2ADownloading \u001b[97m@oven/bun-linux-x64-baseline@1.2.2\u001b[39m: \u001b[96m11.12 MB\u001b[39m/\u001b[96m38.16 MB\u001b[39m\n",
            "\u001b[1B\u001b[1ADownloading \u001b[97m@oven/bun-linux-x64@1.2.2\u001b[39m: \u001b[96m10.09 MB\u001b[39m/\u001b[96m38.33 MB\u001b[39m\n",
            "\u001b[5AProgress: resolved \u001b[96m12\u001b[39m, reused \u001b[96m0\u001b[39m, downloaded \u001b[96m1\u001b[39m, added \u001b[96m1\u001b[39m\n",
            "\u001b[4B\u001b[4ADownloading \u001b[97m@oven/bun-linux-x64-musl-baseline@1.2.2\u001b[39m: \u001b[96m35.12 MB\u001b[39m/\u001b[96m39.28 MB\u001b[39m\n",
            "\u001b[3B\u001b[3ADownloading \u001b[97m@oven/bun-linux-x64-musl@1.2.2\u001b[39m: \u001b[96m31.75 MB\u001b[39m/\u001b[96m39.44 MB\u001b[39m\n",
            "\u001b[2B\u001b[2ADownloading \u001b[97m@oven/bun-linux-x64-baseline@1.2.2\u001b[39m: \u001b[96m29.43 MB\u001b[39m/\u001b[96m38.16 MB\u001b[39m\n",
            "\u001b[1B\u001b[1ADownloading \u001b[97m@oven/bun-linux-x64@1.2.2\u001b[39m: \u001b[96m28.40 MB\u001b[39m/\u001b[96m38.33 MB\u001b[39m\n",
            "\u001b[5ADownloading \u001b[97m@oven/bun-linux-x64-musl-baseline@1.2.2\u001b[39m: \u001b[96m39.28 MB\u001b[39m/\u001b[96m39.28 MB\u001b[39m, done\n",
            "Progress: resolved \u001b[96m12\u001b[39m, reused \u001b[96m0\u001b[39m, downloaded \u001b[96m1\u001b[39m, added \u001b[96m1\u001b[39m\u001b[0K\n",
            "\u001b[3B\u001b[4ADownloading \u001b[97m@oven/bun-linux-x64-musl@1.2.2\u001b[39m: \u001b[96m39.44 MB\u001b[39m/\u001b[96m39.44 MB\u001b[39m, done\n",
            "Progress: resolved \u001b[96m12\u001b[39m, reused \u001b[96m0\u001b[39m, downloaded \u001b[96m1\u001b[39m, added \u001b[96m1\u001b[39m\u001b[0K\n",
            "\u001b[2B\u001b[3ADownloading \u001b[97m@oven/bun-linux-x64-baseline@1.2.2\u001b[39m: \u001b[96m38.16 MB\u001b[39m/\u001b[96m38.16 MB\u001b[39m, done\n",
            "Progress: resolved \u001b[96m12\u001b[39m, reused \u001b[96m0\u001b[39m, downloaded \u001b[96m1\u001b[39m, added \u001b[96m1\u001b[39m\u001b[0K\n",
            "\u001b[1B\u001b[2ADownloading \u001b[97m@oven/bun-linux-x64@1.2.2\u001b[39m: \u001b[96m38.33 MB\u001b[39m/\u001b[96m38.33 MB\u001b[39m, done\n",
            "Progress: resolved \u001b[96m12\u001b[39m, reused \u001b[96m0\u001b[39m, downloaded \u001b[96m1\u001b[39m, added \u001b[96m1\u001b[39m\u001b[0K\n",
            "\u001b[1AProgress: resolved \u001b[96m12\u001b[39m, reused \u001b[96m0\u001b[39m, downloaded \u001b[96m2\u001b[39m, added \u001b[96m1\u001b[39m\n",
            "\u001b[1AProgress: resolved \u001b[96m12\u001b[39m, reused \u001b[96m0\u001b[39m, downloaded \u001b[96m3\u001b[39m, added \u001b[96m1\u001b[39m\n",
            "\u001b[1AProgress: resolved \u001b[96m12\u001b[39m, reused \u001b[96m0\u001b[39m, downloaded \u001b[96m4\u001b[39m, added \u001b[96m1\u001b[39m\n",
            "\u001b[1AProgress: resolved \u001b[96m12\u001b[39m, reused \u001b[96m0\u001b[39m, downloaded \u001b[96m5\u001b[39m, added \u001b[96m1\u001b[39m\n",
            "\u001b[1AProgress: resolved \u001b[96m12\u001b[39m, reused \u001b[96m0\u001b[39m, downloaded \u001b[96m5\u001b[39m, added \u001b[96m5\u001b[39m, done\n",
            "\n",
            "\u001b[96mdependencies:\u001b[39m\n",
            "\u001b[32m+\u001b[39m bun \u001b[90m1.2.2\u001b[39m\n",
            "\n",
            "Ignored build scripts: bun. Run \"pnpm approve-builds\" to pick which dependencies should be allowed to run scripts.\n",
            "\n",
            "Done in 14.7s\n"
          ]
        }
      ]
    },
    {
      "cell_type": "markdown",
      "source": [
        "#### Installing PythonMonkey"
      ],
      "metadata": {
        "id": "eJNyxbOUf06Z"
      },
      "id": "eJNyxbOUf06Z"
    },
    {
      "cell_type": "code",
      "source": [
        "!pip install pythonmonkey"
      ],
      "metadata": {
        "id": "2xL-UgVOf6BY",
        "outputId": "7770e468-039a-4f7a-930b-cd5b0881ed92",
        "colab": {
          "base_uri": "https://localhost:8080/"
        }
      },
      "id": "2xL-UgVOf6BY",
      "execution_count": 4,
      "outputs": [
        {
          "output_type": "stream",
          "name": "stdout",
          "text": [
            "Collecting pythonmonkey\n",
            "  Downloading pythonmonkey-1.1.0-cp311-cp311-manylinux_2_31_x86_64.whl.metadata (22 kB)\n",
            "Requirement already satisfied: aiohttp<4.0.0,>=3.9.5 in /usr/local/lib/python3.11/dist-packages (from aiohttp[speedups]<4.0.0,>=3.9.5->pythonmonkey) (3.11.11)\n",
            "Collecting pminit>=0.4.0 (from pythonmonkey)\n",
            "  Downloading pminit-1.1.0.tar.gz (7.5 kB)\n",
            "  Installing build dependencies ... \u001b[?25l\u001b[?25hdone\n",
            "  Getting requirements to build wheel ... \u001b[?25l\u001b[?25hdone\n",
            "  Preparing metadata (pyproject.toml) ... \u001b[?25l\u001b[?25hdone\n",
            "Requirement already satisfied: aiohappyeyeballs>=2.3.0 in /usr/local/lib/python3.11/dist-packages (from aiohttp<4.0.0,>=3.9.5->aiohttp[speedups]<4.0.0,>=3.9.5->pythonmonkey) (2.4.4)\n",
            "Requirement already satisfied: aiosignal>=1.1.2 in /usr/local/lib/python3.11/dist-packages (from aiohttp<4.0.0,>=3.9.5->aiohttp[speedups]<4.0.0,>=3.9.5->pythonmonkey) (1.3.2)\n",
            "Requirement already satisfied: attrs>=17.3.0 in /usr/local/lib/python3.11/dist-packages (from aiohttp<4.0.0,>=3.9.5->aiohttp[speedups]<4.0.0,>=3.9.5->pythonmonkey) (25.1.0)\n",
            "Requirement already satisfied: frozenlist>=1.1.1 in /usr/local/lib/python3.11/dist-packages (from aiohttp<4.0.0,>=3.9.5->aiohttp[speedups]<4.0.0,>=3.9.5->pythonmonkey) (1.5.0)\n",
            "Requirement already satisfied: multidict<7.0,>=4.5 in /usr/local/lib/python3.11/dist-packages (from aiohttp<4.0.0,>=3.9.5->aiohttp[speedups]<4.0.0,>=3.9.5->pythonmonkey) (6.1.0)\n",
            "Requirement already satisfied: propcache>=0.2.0 in /usr/local/lib/python3.11/dist-packages (from aiohttp<4.0.0,>=3.9.5->aiohttp[speedups]<4.0.0,>=3.9.5->pythonmonkey) (0.2.1)\n",
            "Requirement already satisfied: yarl<2.0,>=1.17.0 in /usr/local/lib/python3.11/dist-packages (from aiohttp<4.0.0,>=3.9.5->aiohttp[speedups]<4.0.0,>=3.9.5->pythonmonkey) (1.18.3)\n",
            "Collecting aiodns>=3.2.0 (from aiohttp[speedups]<4.0.0,>=3.9.5->pythonmonkey)\n",
            "  Downloading aiodns-3.2.0-py3-none-any.whl.metadata (4.0 kB)\n",
            "Collecting Brotli (from aiohttp[speedups]<4.0.0,>=3.9.5->pythonmonkey)\n",
            "  Downloading Brotli-1.1.0-cp311-cp311-manylinux_2_17_x86_64.manylinux2014_x86_64.whl.metadata (5.5 kB)\n",
            "Collecting pycares>=4.0.0 (from aiodns>=3.2.0->aiohttp[speedups]<4.0.0,>=3.9.5->pythonmonkey)\n",
            "  Downloading pycares-4.5.0-cp311-cp311-manylinux_2_17_x86_64.manylinux2014_x86_64.whl.metadata (4.1 kB)\n",
            "Requirement already satisfied: idna>=2.0 in /usr/local/lib/python3.11/dist-packages (from yarl<2.0,>=1.17.0->aiohttp<4.0.0,>=3.9.5->aiohttp[speedups]<4.0.0,>=3.9.5->pythonmonkey) (3.10)\n",
            "Requirement already satisfied: cffi>=1.5.0 in /usr/local/lib/python3.11/dist-packages (from pycares>=4.0.0->aiodns>=3.2.0->aiohttp[speedups]<4.0.0,>=3.9.5->pythonmonkey) (1.17.1)\n",
            "Requirement already satisfied: pycparser in /usr/local/lib/python3.11/dist-packages (from cffi>=1.5.0->pycares>=4.0.0->aiodns>=3.2.0->aiohttp[speedups]<4.0.0,>=3.9.5->pythonmonkey) (2.22)\n",
            "Downloading pythonmonkey-1.1.0-cp311-cp311-manylinux_2_31_x86_64.whl (21.6 MB)\n",
            "\u001b[2K   \u001b[90m━━━━━━━━━━━━━━━━━━━━━━━━━━━━━━━━━━━━━━━━\u001b[0m \u001b[32m21.6/21.6 MB\u001b[0m \u001b[31m12.1 MB/s\u001b[0m eta \u001b[36m0:00:00\u001b[0m\n",
            "\u001b[?25hDownloading aiodns-3.2.0-py3-none-any.whl (5.7 kB)\n",
            "Downloading Brotli-1.1.0-cp311-cp311-manylinux_2_17_x86_64.manylinux2014_x86_64.whl (2.9 MB)\n",
            "\u001b[2K   \u001b[90m━━━━━━━━━━━━━━━━━━━━━━━━━━━━━━━━━━━━━━━━\u001b[0m \u001b[32m2.9/2.9 MB\u001b[0m \u001b[31m54.6 MB/s\u001b[0m eta \u001b[36m0:00:00\u001b[0m\n",
            "\u001b[?25hDownloading pycares-4.5.0-cp311-cp311-manylinux_2_17_x86_64.manylinux2014_x86_64.whl (288 kB)\n",
            "\u001b[2K   \u001b[90m━━━━━━━━━━━━━━━━━━━━━━━━━━━━━━━━━━━━━━━━\u001b[0m \u001b[32m288.6/288.6 kB\u001b[0m \u001b[31m17.4 MB/s\u001b[0m eta \u001b[36m0:00:00\u001b[0m\n",
            "\u001b[?25hBuilding wheels for collected packages: pminit\n",
            "  Building wheel for pminit (pyproject.toml) ... \u001b[?25l\u001b[?25hdone\n",
            "  Created wheel for pminit: filename=pminit-1.1.0-cp311-cp311-manylinux_2_35_x86_64.whl size=2127649 sha256=ed91d46baa2c3629c4dc2a35a3fcd3a1bf6feea709ff03298382244ea3bb0fb7\n",
            "  Stored in directory: /root/.cache/pip/wheels/64/5e/39/2de4476a583c81bbfb9ff2d5dc85aa207866eb1960b06775d7\n",
            "Successfully built pminit\n",
            "Installing collected packages: Brotli, pminit, pycares, aiodns, pythonmonkey\n",
            "Successfully installed Brotli-1.1.0 aiodns-3.2.0 pminit-1.1.0 pycares-4.5.0 pythonmonkey-1.1.0\n"
          ]
        }
      ]
    },
    {
      "cell_type": "code",
      "source": [
        "!git clone -b react_compiler https://github.com/guyo13/Form-Lang.git"
      ],
      "metadata": {
        "id": "XuvuEliefRsv",
        "outputId": "69231657-caab-4e00-9605-129c7c40a44d",
        "colab": {
          "base_uri": "https://localhost:8080/"
        }
      },
      "id": "XuvuEliefRsv",
      "execution_count": 2,
      "outputs": [
        {
          "output_type": "stream",
          "name": "stdout",
          "text": [
            "Cloning into 'Form-Lang'...\n",
            "fatal: could not read Username for 'https://github.com': No such device or address\n"
          ]
        }
      ]
    },
    {
      "cell_type": "markdown",
      "id": "d876cfa3-6129-4884-be8b-bc0c23f4a511",
      "metadata": {
        "id": "d876cfa3-6129-4884-be8b-bc0c23f4a511"
      },
      "source": [
        "## Project imports"
      ]
    },
    {
      "cell_type": "code",
      "execution_count": null,
      "id": "3a9e9c44-4a3b-494b-bb86-63178d67bdd7",
      "metadata": {
        "id": "3a9e9c44-4a3b-494b-bb86-63178d67bdd7"
      },
      "outputs": [],
      "source": [
        "import asyncio\n",
        "import time\n",
        "import re\n",
        "from pprint import pprint\n",
        "from transformers import pipeline\n",
        "from huggingface_hub import login\n",
        "import pythonmonkey as pm\n",
        "import pandas as pd\n",
        "import requests\n",
        "import torch\n",
        "formlang_lib = pm.require(\"../out/cjs/lib/index\")"
      ]
    },
    {
      "cell_type": "markdown",
      "id": "290ca50b-0174-4c0b-9ecc-79f04eb910ad",
      "metadata": {
        "id": "290ca50b-0174-4c0b-9ecc-79f04eb910ad"
      },
      "source": [
        "## Login to Huggingface Hub"
      ]
    },
    {
      "cell_type": "code",
      "execution_count": null,
      "id": "93c12f91-3626-4985-af97-0d69b4418475",
      "metadata": {
        "id": "93c12f91-3626-4985-af97-0d69b4418475",
        "outputId": "e806290a-cdb5-4a72-e36e-b67568391b2b",
        "colab": {
          "referenced_widgets": [
            "4ae6d2f7ab894d2fbd66af09880348ef"
          ]
        }
      },
      "outputs": [
        {
          "data": {
            "application/vnd.jupyter.widget-view+json": {
              "model_id": "4ae6d2f7ab894d2fbd66af09880348ef",
              "version_major": 2,
              "version_minor": 0
            },
            "text/plain": [
              "VBox(children=(HTML(value='<center> <img\\nsrc=https://huggingface.co/front/assets/huggingface_logo-noborder.sv…"
            ]
          },
          "metadata": {},
          "output_type": "display_data"
        }
      ],
      "source": [
        "login()"
      ]
    },
    {
      "cell_type": "markdown",
      "id": "8e22784f-1cb2-4baf-b6ce-8daea69f835e",
      "metadata": {
        "id": "8e22784f-1cb2-4baf-b6ce-8daea69f835e"
      },
      "source": [
        "## Python Monkey helpers"
      ]
    },
    {
      "cell_type": "code",
      "execution_count": null,
      "id": "eb8eaa24-5aca-4030-93c5-02a9d23c90be",
      "metadata": {
        "id": "eb8eaa24-5aca-4030-93c5-02a9d23c90be"
      },
      "outputs": [],
      "source": [
        "def js_dir(something):\n",
        "    pm.globalThis.console.dir(something)\n",
        "\n",
        "def js_log(something):\n",
        "    pm.globalThis.console.log(something)"
      ]
    },
    {
      "cell_type": "markdown",
      "id": "5f3f9796-ae92-4448-8759-b7ce7a6ad8d4",
      "metadata": {
        "jp-MarkdownHeadingCollapsed": true,
        "id": "5f3f9796-ae92-4448-8759-b7ce7a6ad8d4"
      },
      "source": [
        "### Example usage of FormLang library"
      ]
    },
    {
      "cell_type": "markdown",
      "id": "b9601b8e-70d6-41f9-87be-6c1bfc0aba11",
      "metadata": {
        "id": "b9601b8e-70d6-41f9-87be-6c1bfc0aba11"
      },
      "source": [
        "# Dataset generation"
      ]
    },
    {
      "cell_type": "code",
      "execution_count": null,
      "id": "0df7cbd2-fd65-4452-be12-4b3cfbec4fd0",
      "metadata": {
        "id": "0df7cbd2-fd65-4452-be12-4b3cfbec4fd0",
        "outputId": "cb524869-3dac-4f34-b65c-20ec3236655d"
      },
      "outputs": [
        {
          "name": "stdout",
          "output_type": "stream",
          "text": [
            "Validating model\n",
            "Validating model\n"
          ]
        }
      ],
      "source": [
        "form_components = \"\"\"\n",
        "  component userDetailsContainer {}\n",
        "  component formContainer {}\n",
        "  component someOtherContainer {}\n",
        "  component OtherContainer2 {}\n",
        "\"\"\"\n",
        "field_components = \"\"\"\n",
        "  component myTextBox {\n",
        "    props {\n",
        "      textColor\n",
        "      textSize\n",
        "      textWeight\n",
        "      borderColor\n",
        "    }\n",
        "  }\n",
        "  component myCheckbox {\n",
        "    props {\n",
        "      size\n",
        "    }\n",
        "  }\n",
        "  component otherTextBox {}\n",
        "  component counter {\n",
        "    props {\n",
        "      style\n",
        "    }\n",
        "  }\n",
        "\"\"\"\n",
        "\n",
        "form_gen = await formlang_lib.newFormGen(formlang_lib.DEFAULT_GENERATOR_HYPER_PARAMETERS, form_components, field_components)"
      ]
    },
    {
      "cell_type": "code",
      "execution_count": null,
      "id": "13012d90-7bdf-4349-b9e4-1c3f728a6dea",
      "metadata": {
        "id": "13012d90-7bdf-4349-b9e4-1c3f728a6dea"
      },
      "outputs": [],
      "source": [
        "a = form_gen.generateForm()"
      ]
    },
    {
      "cell_type": "code",
      "execution_count": null,
      "id": "c6ba859e-4940-45d5-a4ab-f968078b5263",
      "metadata": {
        "id": "c6ba859e-4940-45d5-a4ab-f968078b5263",
        "outputId": "4930101a-ba03-4120-f324-3f368aeebdea"
      },
      "outputs": [
        {
          "name": "stdout",
          "output_type": "stream",
          "text": [
            "{ \u001b[32m'$type'\u001b[39m: \u001b[32m'Form'\u001b[39m,\n",
            "  name: \u001b[32m'xw'\u001b[39m,\n",
            "  component: \n",
            "   { component: \n",
            "      { \u001b[32m'$type'\u001b[39m: \u001b[32m'ComponentDef'\u001b[39m,\n",
            "        name: \u001b[32m'formContainer'\u001b[39m,\n",
            "        \u001b[32m'$cstNode'\u001b[39m: \u001b[36m[Object]\u001b[39m,\n",
            "        props: [],\n",
            "        \u001b[32m'$container'\u001b[39m: \u001b[36m[Object]\u001b[39m,\n",
            "        \u001b[32m'$containerProperty'\u001b[39m: \u001b[32m'components'\u001b[39m,\n",
            "        \u001b[32m'$containerIndex'\u001b[39m: \u001b[33m1\u001b[39m },\n",
            "     propAssignments: {} },\n",
            "  children: \n",
            "   [ { \u001b[32m'$type'\u001b[39m: \u001b[32m'Field'\u001b[39m,\n",
            "       name: \u001b[32m'c'\u001b[39m,\n",
            "       component: \u001b[36m[Object]\u001b[39m,\n",
            "       state: \u001b[1mnull\u001b[22m,\n",
            "       depth: \u001b[33m1\u001b[39m },\n",
            "     { \u001b[32m'$type'\u001b[39m: \u001b[32m'Field'\u001b[39m,\n",
            "       name: \u001b[32m'e'\u001b[39m,\n",
            "       component: \u001b[36m[Object]\u001b[39m,\n",
            "       state: \u001b[36m[Object]\u001b[39m,\n",
            "       depth: \u001b[33m1\u001b[39m },\n",
            "     { \u001b[32m'$type'\u001b[39m: \u001b[32m'Form'\u001b[39m,\n",
            "       name: \u001b[32m'A'\u001b[39m,\n",
            "       component: \u001b[36m[Object]\u001b[39m,\n",
            "       children: \u001b[36m[Array]\u001b[39m,\n",
            "       depth: \u001b[33m1\u001b[39m },\n",
            "     { \u001b[32m'$type'\u001b[39m: \u001b[32m'Field'\u001b[39m,\n",
            "       name: \u001b[32m'o'\u001b[39m,\n",
            "       component: \u001b[36m[Object]\u001b[39m,\n",
            "       state: \u001b[36m[Object]\u001b[39m,\n",
            "       depth: \u001b[33m1\u001b[39m },\n",
            "     { \u001b[32m'$type'\u001b[39m: \u001b[32m'Field'\u001b[39m,\n",
            "       name: \u001b[32m'pw'\u001b[39m,\n",
            "       component: \u001b[36m[Object]\u001b[39m,\n",
            "       state: \u001b[36m[Object]\u001b[39m,\n",
            "       depth: \u001b[33m1\u001b[39m } ],\n",
            "  depth: \u001b[33m0\u001b[39m }\n"
          ]
        }
      ],
      "source": [
        "js_dir(a)"
      ]
    },
    {
      "cell_type": "code",
      "execution_count": null,
      "id": "522c23bd-6f93-4980-947b-8ba414ec61cf",
      "metadata": {
        "id": "522c23bd-6f93-4980-947b-8ba414ec61cf",
        "outputId": "5cb7b3c3-1e8a-43b9-b8f1-b5782839f4f1"
      },
      "outputs": [
        {
          "name": "stdout",
          "output_type": "stream",
          "text": [
            "Validating model\n"
          ]
        }
      ],
      "source": [
        "fl_obj = await formlang_lib.getFormLangStringParser()(\"\"\"\n",
        "component comp1 {}\n",
        "component comp2 {}\n",
        "form HelloWorld {\n",
        "    comp comp1\n",
        "    field MyField {\n",
        "        comp comp2\n",
        "    }\n",
        "}\n",
        "\"\"\")"
      ]
    },
    {
      "cell_type": "code",
      "execution_count": null,
      "id": "abdffc2b-2bbb-4db5-a132-ac33347ea972",
      "metadata": {
        "id": "abdffc2b-2bbb-4db5-a132-ac33347ea972",
        "outputId": "838077f4-d71c-46cc-aaeb-ed79fcd7cf22"
      },
      "outputs": [
        {
          "data": {
            "text/plain": [
              "False"
            ]
          },
          "execution_count": 20,
          "metadata": {},
          "output_type": "execute_result"
        }
      ],
      "source": [
        "formlang_lib.hasErrors(fl_obj)"
      ]
    },
    {
      "cell_type": "code",
      "execution_count": null,
      "id": "48ef6ac7-69e1-45ca-8a20-d05bc5bd5237",
      "metadata": {
        "id": "48ef6ac7-69e1-45ca-8a20-d05bc5bd5237",
        "outputId": "6623bd8e-bce9-4568-eac7-88e5622790dc"
      },
      "outputs": [
        {
          "name": "stdout",
          "output_type": "stream",
          "text": [
            "{ parseResult: \n",
            "   { value: \n",
            "      { \u001b[32m'$type'\u001b[39m: \u001b[32m'Model'\u001b[39m,\n",
            "        components: \u001b[36m[Array]\u001b[39m,\n",
            "        forms: \u001b[36m[Array]\u001b[39m,\n",
            "        \u001b[32m'$cstNode'\u001b[39m: \u001b[36m[Object]\u001b[39m,\n",
            "        typeDefs: [],\n",
            "        \u001b[32m'$document'\u001b[39m: \u001b[36m[Circular]\u001b[39m },\n",
            "     lexerErrors: [],\n",
            "     lexerReport: { diagnostics: [] },\n",
            "     parserErrors: [] },\n",
            "  uri: \n",
            "   l2 {\n",
            "     scheme: \u001b[32m'file'\u001b[39m,\n",
            "     authority: \u001b[32m''\u001b[39m,\n",
            "     path: \u001b[32m'/10.form'\u001b[39m,\n",
            "     query: \u001b[32m''\u001b[39m,\n",
            "     fragment: \u001b[32m''\u001b[39m,\n",
            "     _formatted: \u001b[32m'file:///10.form'\u001b[39m,\n",
            "     _fsPath: \u001b[1mnull\u001b[22m },\n",
            "  state: \u001b[33m6\u001b[39m,\n",
            "  references: \n",
            "   [ { \u001b[32m'$refNode'\u001b[39m: \u001b[36m[Object]\u001b[39m,\n",
            "       \u001b[32m'$refText'\u001b[39m: \u001b[32m'comp1'\u001b[39m,\n",
            "       ref: \u001b[36m[Getter]\u001b[39m,\n",
            "       \u001b[32m'$nodeDescription'\u001b[39m: \u001b[36m[Getter]\u001b[39m,\n",
            "       error: \u001b[36m[Getter]\u001b[39m,\n",
            "       _ref: \u001b[36m[Object]\u001b[39m,\n",
            "       _nodeDescription: \u001b[36m[Object]\u001b[39m },\n",
            "     { \u001b[32m'$refNode'\u001b[39m: \u001b[36m[Object]\u001b[39m,\n",
            "       \u001b[32m'$refText'\u001b[39m: \u001b[32m'comp2'\u001b[39m,\n",
            "       ref: \u001b[36m[Getter]\u001b[39m,\n",
            "       \u001b[32m'$nodeDescription'\u001b[39m: \u001b[36m[Getter]\u001b[39m,\n",
            "       error: \u001b[36m[Getter]\u001b[39m,\n",
            "       _ref: \u001b[36m[Object]\u001b[39m,\n",
            "       _nodeDescription: \u001b[36m[Object]\u001b[39m } ],\n",
            "  textDocument: \u001b[36m[Getter]\u001b[39m,\n",
            "  precomputedScopes: MultiMap { map: Map { \u001b[36m[Object]\u001b[39m => \u001b[36m[Array]\u001b[39m, \u001b[36m[Object]\u001b[39m => \u001b[36m[Array]\u001b[39m } },\n",
            "  diagnostics: [] }\n"
          ]
        }
      ],
      "source": [
        "js_dir(fl_obj)"
      ]
    },
    {
      "cell_type": "code",
      "execution_count": null,
      "id": "2a0f46d7-f51f-4556-a91b-b7f323d9469a",
      "metadata": {
        "id": "2a0f46d7-f51f-4556-a91b-b7f323d9469a",
        "outputId": "56eeebf7-fb72-4d9f-e69c-2639e060b385"
      },
      "outputs": [
        {
          "data": {
            "text/plain": [
              "'{\"$type\":\"Model\",\"components\":[{\"$type\":\"ComponentDef\",\"name\":\"comp1\",\"props\":[]},{\"$type\":\"ComponentDef\",\"name\":\"comp2\",\"props\":[]}],\"forms\":[{\"$type\":\"Form\",\"name\":\"HelloWorld\",\"component\":{\"$type\":\"FieldComponentDef\",\"componentId\":{\"$ref\":\"#/components@0\"},\"componentPropsKeys\":[],\"componentPropsValues\":[]},\"children\":[{\"$type\":\"Field\",\"name\":\"MyField\",\"component\":{\"$type\":\"FieldComponentDef\",\"componentId\":{\"$ref\":\"#/components@1\"},\"componentPropsKeys\":[],\"componentPropsValues\":[]}}]}],\"typeDefs\":[]}'"
            ]
          },
          "execution_count": 22,
          "metadata": {},
          "output_type": "execute_result"
        }
      ],
      "source": [
        "formlang_lib.serializeAst(fl_obj.parseResult.value, formlang_lib.getServices().FormLang)"
      ]
    },
    {
      "cell_type": "markdown",
      "id": "f121c668-74c8-41e1-8f9a-8f9fa8b001ef",
      "metadata": {
        "id": "f121c668-74c8-41e1-8f9a-8f9fa8b001ef"
      },
      "source": [
        "### Generating the dataset"
      ]
    },
    {
      "cell_type": "markdown",
      "id": "d5cf20e3-7f30-435e-8910-65029528d619",
      "metadata": {
        "id": "d5cf20e3-7f30-435e-8910-65029528d619"
      },
      "source": [
        "We start by creating a ProbabilisticSearchFormGenerator object which is implemented in JavaScript, providing the default search hyper parameters and some Component definitions,\n",
        "later on we will implement a random generator for the component definitions as well."
      ]
    },
    {
      "cell_type": "code",
      "execution_count": null,
      "id": "fdb52772-4bdb-4c24-b58e-ea9b92502153",
      "metadata": {
        "id": "fdb52772-4bdb-4c24-b58e-ea9b92502153"
      },
      "outputs": [],
      "source": [
        "form_components = \"\"\"\n",
        "  component userDetailsContainer {}\n",
        "  component formContainer {}\n",
        "  component someOtherContainer {}\n",
        "  component OtherContainer2 {}\n",
        "\"\"\"\n",
        "field_components = \"\"\"\n",
        "  component myTextBox {\n",
        "    props {\n",
        "      textColor\n",
        "      textSize\n",
        "      textWeight\n",
        "      borderColor\n",
        "    }\n",
        "  }\n",
        "  component myCheckbox {\n",
        "    props {\n",
        "      size\n",
        "    }\n",
        "  }\n",
        "  component otherTextBox {}\n",
        "  component counter {\n",
        "    props {\n",
        "      style\n",
        "    }\n",
        "  }\n",
        "\"\"\"\n",
        "\n",
        "form_gen = await formlang_lib.newFormGen(formlang_lib.DEFAULT_GENERATOR_HYPER_PARAMETERS, form_components, field_components)"
      ]
    },
    {
      "cell_type": "markdown",
      "id": "ea0978fc-0b8c-47c7-8af5-55dafa848fb8",
      "metadata": {
        "id": "ea0978fc-0b8c-47c7-8af5-55dafa848fb8"
      },
      "source": [
        "#### Computing the expected AST"
      ]
    },
    {
      "cell_type": "markdown",
      "id": "6168af80-35cd-499a-8966-609df6428e00",
      "metadata": {
        "id": "6168af80-35cd-499a-8966-609df6428e00"
      },
      "source": [
        "In order to reliablity measure to model's performance, our KPI will be **AST-Accuracy** which is the accuracy measure with respect to the generated code's AST and the expected code's AST."
      ]
    },
    {
      "cell_type": "code",
      "execution_count": null,
      "id": "3d5a3c28-6767-4729-8e33-0325b467bf84",
      "metadata": {
        "id": "3d5a3c28-6767-4729-8e33-0325b467bf84"
      },
      "outputs": [],
      "source": [
        "def get_ast(code, shouldCheckErrors=False):\n",
        "    result = requests.post(\"http://localhost:3000/compute/ast\", json={\"sourceCode\": code, \"shouldCheckErrors\":shouldCheckErrors}).json()\n",
        "    if not result[\"status\"] == \"ok\":\n",
        "        raise RuntimeError(\"failed\")\n",
        "    return result[\"result\"]"
      ]
    },
    {
      "cell_type": "markdown",
      "id": "431142f1-0063-48fb-8aba-0a9f92c88e71",
      "metadata": {
        "id": "431142f1-0063-48fb-8aba-0a9f92c88e71"
      },
      "source": [
        "#### Create a data generation loop for the prompt data"
      ]
    },
    {
      "cell_type": "markdown",
      "id": "14256a40-7e47-4d75-a57c-b7c73602e3fa",
      "metadata": {
        "id": "14256a40-7e47-4d75-a57c-b7c73602e3fa"
      },
      "source": [
        "We create a small dataset of 3000 random examples by using the JavaScript FormLang utilities library and the form generator object.\n",
        "We copy from the form generator's output only the relevant fields which will make up the LLM prompt."
      ]
    },
    {
      "cell_type": "code",
      "execution_count": null,
      "id": "c39a45a8-8098-4a60-b41b-af9e9a4ac223",
      "metadata": {
        "id": "c39a45a8-8098-4a60-b41b-af9e9a4ac223"
      },
      "outputs": [],
      "source": [
        "# TODO - Refactor data generator pipeline as a Python class with easy interfaces\n",
        "\n",
        "def concat_components_code_with_form_code(form_code, form_components, field_components):\n",
        "    \"\"\"Concatenates the form code with the given components code that are referenced inside of it.\"\"\"\n",
        "    return f\"{form_components}\\n{field_components}\\n{form_code}\"\n",
        "\n",
        "def create_prompt_data(generation_result, form_components, field_components):\n",
        "    data = {\n",
        "        \"originalFormCode\": concat_components_code_with_form_code(generation_result[\"serializedForm\"], form_components, field_components),\n",
        "        \"modifiedFormCode\": concat_components_code_with_form_code(generation_result[\"serializedModifiedForm\"], form_components, field_components),\n",
        "        \"removedNodeEnglish\": str(generation_result[\"removedNodeEnglish\"]),\n",
        "        \"removedNodeContextEnglish\": str(generation_result[\"removedNodeContextEnglish\"]),\n",
        "    }\n",
        "    return data\n",
        "\n",
        "def create_random_data(form_gen, form_components, field_components, num_examples=3000):\n",
        "    start_time = time.time()\n",
        "    DATA = []\n",
        "    for i in range(num_examples):\n",
        "        generation_result = formlang_lib.generateRandomFormWithModification(form_gen)\n",
        "        prompt_data = create_prompt_data(generation_result, form_components, field_components)\n",
        "        DATA.append(prompt_data)\n",
        "    # Generate the ast of each example in one batch\n",
        "    ast_time = time.time()\n",
        "    for example in DATA:\n",
        "        resp = get_ast(example[\"originalFormCode\"], True)\n",
        "        errors = resp.get('errors', [])\n",
        "        if len(errors) > 0:\n",
        "            print(f\"Error parsing generated code\", errors)\n",
        "            raise RuntimeError(\"Error parsing generated code\")\n",
        "        example[\"originalFormAst\"] = resp[\"ast\"]\n",
        "    end_time = time.time()\n",
        "    print(f\"Generation took {end_time - start_time} seconds. Total Ast generation time {end_time - ast_time} seconds\")\n",
        "    return pd.DataFrame(DATA)"
      ]
    },
    {
      "cell_type": "code",
      "execution_count": null,
      "id": "d2155ee7-8286-4e5a-8881-b72b7bb51197",
      "metadata": {
        "id": "d2155ee7-8286-4e5a-8881-b72b7bb51197",
        "outputId": "b7874de0-5585-4196-e41a-1052e678440a"
      },
      "outputs": [
        {
          "name": "stdout",
          "output_type": "stream",
          "text": [
            "Generation took 9.601897478103638 seconds. Total Ast generation time 9.301260709762573 seconds\n"
          ]
        },
        {
          "data": {
            "text/html": [
              "<div>\n",
              "<style scoped>\n",
              "    .dataframe tbody tr th:only-of-type {\n",
              "        vertical-align: middle;\n",
              "    }\n",
              "\n",
              "    .dataframe tbody tr th {\n",
              "        vertical-align: top;\n",
              "    }\n",
              "\n",
              "    .dataframe thead th {\n",
              "        text-align: right;\n",
              "    }\n",
              "</style>\n",
              "<table border=\"1\" class=\"dataframe\">\n",
              "  <thead>\n",
              "    <tr style=\"text-align: right;\">\n",
              "      <th></th>\n",
              "      <th>originalFormCode</th>\n",
              "      <th>modifiedFormCode</th>\n",
              "      <th>removedNodeEnglish</th>\n",
              "      <th>removedNodeContextEnglish</th>\n",
              "      <th>originalFormAst</th>\n",
              "    </tr>\n",
              "  </thead>\n",
              "  <tbody>\n",
              "    <tr>\n",
              "      <th>0</th>\n",
              "      <td>\\n  component userDetailsContainer {}\\n  compo...</td>\n",
              "      <td>\\n  component userDetailsContainer {}\\n  compo...</td>\n",
              "      <td>\\ta field whose id is 'Ow' with state of type:...</td>\n",
              "      <td>* is a child of the form whose id is 'i_'.\\n* ...</td>\n",
              "      <td>{\"$type\":\"Form\",\"name\":\"i_\",\"component\":{\"$typ...</td>\n",
              "    </tr>\n",
              "    <tr>\n",
              "      <th>1</th>\n",
              "      <td>\\n  component userDetailsContainer {}\\n  compo...</td>\n",
              "      <td>\\n  component userDetailsContainer {}\\n  compo...</td>\n",
              "      <td>\\ta field whose id is 'vw' with state of type:...</td>\n",
              "      <td>* is a child of the form whose id is 'X'.</td>\n",
              "      <td>{\"$type\":\"Form\",\"name\":\"X\",\"component\":{\"$type...</td>\n",
              "    </tr>\n",
              "    <tr>\n",
              "      <th>2</th>\n",
              "      <td>\\n  component userDetailsContainer {}\\n  compo...</td>\n",
              "      <td>\\n  component userDetailsContainer {}\\n  compo...</td>\n",
              "      <td>\\ta field whose id is 'Tw' with state of type:...</td>\n",
              "      <td>* is a child of the form whose id is 'xw'.\\n* ...</td>\n",
              "      <td>{\"$type\":\"Form\",\"name\":\"xw\",\"component\":{\"$typ...</td>\n",
              "    </tr>\n",
              "    <tr>\n",
              "      <th>3</th>\n",
              "      <td>\\n  component userDetailsContainer {}\\n  compo...</td>\n",
              "      <td>\\n  component userDetailsContainer {}\\n  compo...</td>\n",
              "      <td>\\t\\ta field whose id is 'qw_' with state of ty...</td>\n",
              "      <td>* is a child of the form whose id is 'i'.\\n* i...</td>\n",
              "      <td>{\"$type\":\"Form\",\"name\":\"I\",\"component\":{\"$type...</td>\n",
              "    </tr>\n",
              "    <tr>\n",
              "      <th>4</th>\n",
              "      <td>\\n  component userDetailsContainer {}\\n  compo...</td>\n",
              "      <td>\\n  component userDetailsContainer {}\\n  compo...</td>\n",
              "      <td>\\ta field whose id is 'zw_' with state of type...</td>\n",
              "      <td>* is a child of the form whose id is 'h'.\\n* i...</td>\n",
              "      <td>{\"$type\":\"Form\",\"name\":\"h\",\"component\":{\"$type...</td>\n",
              "    </tr>\n",
              "  </tbody>\n",
              "</table>\n",
              "</div>"
            ],
            "text/plain": [
              "                                    originalFormCode  \\\n",
              "0  \\n  component userDetailsContainer {}\\n  compo...   \n",
              "1  \\n  component userDetailsContainer {}\\n  compo...   \n",
              "2  \\n  component userDetailsContainer {}\\n  compo...   \n",
              "3  \\n  component userDetailsContainer {}\\n  compo...   \n",
              "4  \\n  component userDetailsContainer {}\\n  compo...   \n",
              "\n",
              "                                    modifiedFormCode  \\\n",
              "0  \\n  component userDetailsContainer {}\\n  compo...   \n",
              "1  \\n  component userDetailsContainer {}\\n  compo...   \n",
              "2  \\n  component userDetailsContainer {}\\n  compo...   \n",
              "3  \\n  component userDetailsContainer {}\\n  compo...   \n",
              "4  \\n  component userDetailsContainer {}\\n  compo...   \n",
              "\n",
              "                                  removedNodeEnglish  \\\n",
              "0  \\ta field whose id is 'Ow' with state of type:...   \n",
              "1  \\ta field whose id is 'vw' with state of type:...   \n",
              "2  \\ta field whose id is 'Tw' with state of type:...   \n",
              "3  \\t\\ta field whose id is 'qw_' with state of ty...   \n",
              "4  \\ta field whose id is 'zw_' with state of type...   \n",
              "\n",
              "                           removedNodeContextEnglish  \\\n",
              "0  * is a child of the form whose id is 'i_'.\\n* ...   \n",
              "1          * is a child of the form whose id is 'X'.   \n",
              "2  * is a child of the form whose id is 'xw'.\\n* ...   \n",
              "3  * is a child of the form whose id is 'i'.\\n* i...   \n",
              "4  * is a child of the form whose id is 'h'.\\n* i...   \n",
              "\n",
              "                                     originalFormAst  \n",
              "0  {\"$type\":\"Form\",\"name\":\"i_\",\"component\":{\"$typ...  \n",
              "1  {\"$type\":\"Form\",\"name\":\"X\",\"component\":{\"$type...  \n",
              "2  {\"$type\":\"Form\",\"name\":\"xw\",\"component\":{\"$typ...  \n",
              "3  {\"$type\":\"Form\",\"name\":\"I\",\"component\":{\"$type...  \n",
              "4  {\"$type\":\"Form\",\"name\":\"h\",\"component\":{\"$type...  "
            ]
          },
          "execution_count": 50,
          "metadata": {},
          "output_type": "execute_result"
        }
      ],
      "source": [
        "examples = create_random_data(form_gen, form_components, field_components, 3000)\n",
        "examples.head()"
      ]
    },
    {
      "cell_type": "markdown",
      "id": "af103185-183e-4d5b-b3d1-68777f4553c9",
      "metadata": {
        "jp-MarkdownHeadingCollapsed": true,
        "id": "af103185-183e-4d5b-b3d1-68777f4553c9"
      },
      "source": [
        "##### Example generated FormLang code and its AST"
      ]
    },
    {
      "cell_type": "code",
      "execution_count": null,
      "id": "6e3ef8c5-5492-4c2a-8cb7-f3ebb49156bf",
      "metadata": {
        "id": "6e3ef8c5-5492-4c2a-8cb7-f3ebb49156bf",
        "outputId": "73e6c657-f9a6-4930-e968-847d1b98d19e"
      },
      "outputs": [
        {
          "data": {
            "text/plain": [
              "'\\n  component userDetailsContainer {}\\n  component formContainer {}\\n  component someOtherContainer {}\\n  component OtherContainer2 {}\\n\\n\\n  component myTextBox {\\n    props {\\n      textColor\\n      textSize\\n      textWeight\\n      borderColor\\n    }\\n  }\\n  component myCheckbox {\\n    props {\\n      size\\n    }\\n  }\\n  component otherTextBox {}\\n  component counter {\\n    props {\\n      style\\n    }\\n  }\\n\\nform Ew {\\n\\tcomp OtherContainer2 \\n\\t\\n\\tform b {\\n\\t\\tcomp someOtherContainer \\n\\t\\t\\n\\t\\tfield _www {\\n\\t\\t\\tcomp counter style=\"(() => 50.663073554388895)()\" as expression\\n\\t\\t\\t\\n\\t\\t}\\n\\t}\\n\\n\\tform rw_w {\\n\\t\\tcomp formContainer \\n\\t\\t\\n\\t\\tfield w {\\n\\t\\t\\tcomp myTextBox textWeight=\"typeof \\'hello\\'\" as expression\\n\\t\\t\\t\\n\\t\\t}\\n\\t\\tfield Cw {\\n\\t\\t\\tcomp myCheckbox \\n\\t\\t\\t\\n\\t\\t}\\n\\t}\\n\\n\\tform s_ {\\n\\t\\tcomp someOtherContainer \\n\\t\\t\\n\\t\\tfield h_ {\\n\\t\\t\\tstate boolean\\n\\t\\t\\tcomp counter style=\"#440b2a\"\\n\\t\\t\\t\\n\\t\\t}\\n\\t\\tfield Vwww {\\n\\t\\t\\tstate string\\n\\t\\t\\tcomp otherTextBox \\n\\t\\t\\t\\n\\t\\t}\\n\\t}\\n\\n\\tfield c_ {\\n\\t\\tstate string[] default \"[\\\\\"Angel Koelpin\\\\\"]\" as expression\\n\\t\\tcomp myTextBox \\n\\t\\t\\n\\t}\\n\\tform Tw_ww_w_w_w__www_www__www {\\n\\t\\tcomp OtherContainer2 \\n\\t\\t\\n\\t\\tfield P {\\n\\t\\t\\tstate number\\n\\t\\t\\tcomp myTextBox textColor=\"isFinite(10)\" as expression\\n\\t\\t\\t\\n\\t\\t}\\n\\t\\tfield mw {\\n\\t\\t\\tcomp myTextBox textWeight=\"(() => 42.54005438642251)()\" as expression borderColor=\"#4e0b17\"\\n\\t\\t\\t\\n\\t\\t}\\n\\t}\\n\\n\\tfield kw {\\n\\t\\tstate string default \"\\\\\"Andy Ward\\\\\"\" as expression\\n\\t\\tcomp myCheckbox \\n\\t\\t\\n\\t}\\n}\\n'"
            ]
          },
          "execution_count": 51,
          "metadata": {},
          "output_type": "execute_result"
        }
      ],
      "source": [
        "examples[\"originalFormCode\"][1132]"
      ]
    },
    {
      "cell_type": "code",
      "execution_count": null,
      "id": "61cdb18b-bdce-4e20-8df0-f08f6304fceb",
      "metadata": {
        "id": "61cdb18b-bdce-4e20-8df0-f08f6304fceb",
        "outputId": "d57bbd68-0c30-4b6b-8a09-8e9af74713a2"
      },
      "outputs": [
        {
          "data": {
            "text/plain": [
              "'{\"$type\":\"Form\",\"name\":\"Ew\",\"component\":{\"$type\":\"FieldComponentDef\",\"componentId\":{\"$ref\":\"#/components@3\"},\"componentPropsKeys\":[],\"componentPropsValues\":[]},\"children\":[{\"$type\":\"Form\",\"name\":\"b\",\"component\":{\"$type\":\"FieldComponentDef\",\"componentId\":{\"$ref\":\"#/components@2\"},\"componentPropsKeys\":[],\"componentPropsValues\":[]},\"children\":[{\"$type\":\"Field\",\"name\":\"_www\",\"component\":{\"$type\":\"FieldComponentDef\",\"componentId\":{\"$ref\":\"#/components@7\"},\"componentPropsKeys\":[{\"$type\":\"ComponentPropKey\",\"key\":\"style\"}],\"componentPropsValues\":[{\"$type\":\"ValueExpression\",\"value\":\"(() => 50.663073554388895)()\",\"isExpression\":true}]}}]},{\"$type\":\"Form\",\"name\":\"rw_w\",\"component\":{\"$type\":\"FieldComponentDef\",\"componentId\":{\"$ref\":\"#/components@1\"},\"componentPropsKeys\":[],\"componentPropsValues\":[]},\"children\":[{\"$type\":\"Field\",\"name\":\"w\",\"component\":{\"$type\":\"FieldComponentDef\",\"componentId\":{\"$ref\":\"#/components@4\"},\"componentPropsKeys\":[{\"$type\":\"ComponentPropKey\",\"key\":\"textWeight\"}],\"componentPropsValues\":[{\"$type\":\"ValueExpression\",\"value\":\"typeof \\'hello\\'\",\"isExpression\":true}]}},{\"$type\":\"Field\",\"name\":\"Cw\",\"component\":{\"$type\":\"FieldComponentDef\",\"componentId\":{\"$ref\":\"#/components@5\"},\"componentPropsKeys\":[],\"componentPropsValues\":[]}}]},{\"$type\":\"Form\",\"name\":\"s_\",\"component\":{\"$type\":\"FieldComponentDef\",\"componentId\":{\"$ref\":\"#/components@2\"},\"componentPropsKeys\":[],\"componentPropsValues\":[]},\"children\":[{\"$type\":\"Field\",\"name\":\"h_\",\"state\":{\"$type\":\"FieldStateDef\",\"type\":\"boolean\",\"isArray\":false},\"component\":{\"$type\":\"FieldComponentDef\",\"componentId\":{\"$ref\":\"#/components@7\"},\"componentPropsKeys\":[{\"$type\":\"ComponentPropKey\",\"key\":\"style\"}],\"componentPropsValues\":[{\"$type\":\"ValueExpression\",\"value\":\"#440b2a\",\"isExpression\":false}]}},{\"$type\":\"Field\",\"name\":\"Vwww\",\"state\":{\"$type\":\"FieldStateDef\",\"type\":\"string\",\"isArray\":false},\"component\":{\"$type\":\"FieldComponentDef\",\"componentId\":{\"$ref\":\"#/components@6\"},\"componentPropsKeys\":[],\"componentPropsValues\":[]}}]},{\"$type\":\"Field\",\"name\":\"c_\",\"state\":{\"$type\":\"FieldStateDef\",\"isArray\":true,\"type\":\"string\",\"defaultValue\":{\"$type\":\"ValueExpression\",\"value\":\"[\\\\\"Angel Koelpin\\\\\"]\",\"isExpression\":true}},\"component\":{\"$type\":\"FieldComponentDef\",\"componentId\":{\"$ref\":\"#/components@4\"},\"componentPropsKeys\":[],\"componentPropsValues\":[]}},{\"$type\":\"Form\",\"name\":\"Tw_ww_w_w_w__www_www__www\",\"component\":{\"$type\":\"FieldComponentDef\",\"componentId\":{\"$ref\":\"#/components@3\"},\"componentPropsKeys\":[],\"componentPropsValues\":[]},\"children\":[{\"$type\":\"Field\",\"name\":\"P\",\"state\":{\"$type\":\"FieldStateDef\",\"type\":\"number\",\"isArray\":false},\"component\":{\"$type\":\"FieldComponentDef\",\"componentId\":{\"$ref\":\"#/components@4\"},\"componentPropsKeys\":[{\"$type\":\"ComponentPropKey\",\"key\":\"textColor\"}],\"componentPropsValues\":[{\"$type\":\"ValueExpression\",\"value\":\"isFinite(10)\",\"isExpression\":true}]}},{\"$type\":\"Field\",\"name\":\"mw\",\"component\":{\"$type\":\"FieldComponentDef\",\"componentId\":{\"$ref\":\"#/components@4\"},\"componentPropsKeys\":[{\"$type\":\"ComponentPropKey\",\"key\":\"textWeight\"},{\"$type\":\"ComponentPropKey\",\"key\":\"borderColor\"}],\"componentPropsValues\":[{\"$type\":\"ValueExpression\",\"value\":\"(() => 42.54005438642251)()\",\"isExpression\":true},{\"$type\":\"ValueExpression\",\"value\":\"#4e0b17\",\"isExpression\":false}]}}]},{\"$type\":\"Field\",\"name\":\"kw\",\"state\":{\"$type\":\"FieldStateDef\",\"type\":\"string\",\"defaultValue\":{\"$type\":\"ValueExpression\",\"value\":\"\\\\\"Andy Ward\\\\\"\",\"isExpression\":true},\"isArray\":false},\"component\":{\"$type\":\"FieldComponentDef\",\"componentId\":{\"$ref\":\"#/components@5\"},\"componentPropsKeys\":[],\"componentPropsValues\":[]}}]}'"
            ]
          },
          "execution_count": 52,
          "metadata": {},
          "output_type": "execute_result"
        }
      ],
      "source": [
        "examples[\"originalFormAst\"][1132]"
      ]
    },
    {
      "cell_type": "markdown",
      "id": "d8c8e36d-0ee3-4d57-bcd1-212548bdd2f7",
      "metadata": {
        "id": "d8c8e36d-0ee3-4d57-bcd1-212548bdd2f7"
      },
      "source": [
        "### Creating the prompts"
      ]
    },
    {
      "cell_type": "markdown",
      "id": "430307ce-af62-4a25-962d-7a2a7d6214da",
      "metadata": {
        "id": "430307ce-af62-4a25-962d-7a2a7d6214da"
      },
      "source": [
        "We now create the user prompt which will be used to train the LLM.\n",
        "\n",
        "We instruct the LLM to generate the original form (the `serializedForm` column) given the modified form, an English description of the removed node and its surrounding context (describing which element is the Form's parent and which elements are its siblings).\n"
      ]
    },
    {
      "cell_type": "code",
      "execution_count": null,
      "id": "b4b6667d-4313-4aab-9f4e-03bd9acd00a4",
      "metadata": {
        "id": "b4b6667d-4313-4aab-9f4e-03bd9acd00a4"
      },
      "outputs": [],
      "source": [
        "def get_system_prompt():\n",
        "    return (\n",
        "        \"Your job is to generate valid FormLang code according to the instructions given below:\\n\"\n",
        "            \"Inspect the following FormLang Form definition, the start of the code will be denoted with ```FormLang and its end with ``` .\\n\"\n",
        "            \"After inspection, complete the Form's code according to the given a description of a new form element and a description of its location in the form.\\n\"\n",
        "            \"You may assume that the new form element to be added is always either a 'form' or a 'field'.\\n\"\n",
        "            \"Your output must be valid and compiler-friendly FormLang code only.\\n\"\n",
        "            \"If you are unsure of the FormLang syntax, try to infer it from the form code which is given below as an input.\"\n",
        "            \"Your answer will be evaluated using an AST comparison of your code to the expected code.\\n\"\n",
        "            \"Assume that the input code is valid and requires no modification other than the NEW code you must generate.\\n\"\n",
        "            \"You must output plain FormLang code without any additional text or delimiters.\\n\"\n",
        "            \"You must not change any part of the original input code other than adding the required element.\\n\"\n",
        "    )\n",
        "\n",
        "def create_prompt(row, with_system_prompt=False):\n",
        "    return (get_system_prompt() if with_system_prompt else \"\") + (\n",
        "            \"```FormLang\\n\"\n",
        "            f\"{row['modifiedFormCode']}\\n\"\n",
        "            \"```\\n\"\n",
        "            \"The description of the form element you need to add:\\n\"\n",
        "            f\"{row['removedNodeEnglish']}\\n\"\n",
        "            \"The description of the context in the form where you should add the element:\\n\"\n",
        "            f\"The element to be added:\\n{row['removedNodeContextEnglish']}\\n\"\n",
        "           )\n"
      ]
    },
    {
      "cell_type": "code",
      "execution_count": null,
      "id": "b8064d9a-d883-43e5-bb7a-81f81929cffd",
      "metadata": {
        "id": "b8064d9a-d883-43e5-bb7a-81f81929cffd",
        "outputId": "52535c57-761e-44bf-da38-a5e7faffd98d"
      },
      "outputs": [
        {
          "data": {
            "text/html": [
              "<div>\n",
              "<style scoped>\n",
              "    .dataframe tbody tr th:only-of-type {\n",
              "        vertical-align: middle;\n",
              "    }\n",
              "\n",
              "    .dataframe tbody tr th {\n",
              "        vertical-align: top;\n",
              "    }\n",
              "\n",
              "    .dataframe thead th {\n",
              "        text-align: right;\n",
              "    }\n",
              "</style>\n",
              "<table border=\"1\" class=\"dataframe\">\n",
              "  <thead>\n",
              "    <tr style=\"text-align: right;\">\n",
              "      <th></th>\n",
              "      <th>originalFormCode</th>\n",
              "      <th>modifiedFormCode</th>\n",
              "      <th>removedNodeEnglish</th>\n",
              "      <th>removedNodeContextEnglish</th>\n",
              "      <th>originalFormAst</th>\n",
              "      <th>userPrompt</th>\n",
              "    </tr>\n",
              "  </thead>\n",
              "  <tbody>\n",
              "    <tr>\n",
              "      <th>0</th>\n",
              "      <td>\\n  component userDetailsContainer {}\\n  compo...</td>\n",
              "      <td>\\n  component userDetailsContainer {}\\n  compo...</td>\n",
              "      <td>\\ta field whose id is 'Ow' with state of type:...</td>\n",
              "      <td>* is a child of the form whose id is 'i_'.\\n* ...</td>\n",
              "      <td>{\"$type\":\"Form\",\"name\":\"i_\",\"component\":{\"$typ...</td>\n",
              "      <td>```FormLang\\n\\n  component userDetailsContaine...</td>\n",
              "    </tr>\n",
              "    <tr>\n",
              "      <th>1</th>\n",
              "      <td>\\n  component userDetailsContainer {}\\n  compo...</td>\n",
              "      <td>\\n  component userDetailsContainer {}\\n  compo...</td>\n",
              "      <td>\\ta field whose id is 'vw' with state of type:...</td>\n",
              "      <td>* is a child of the form whose id is 'X'.</td>\n",
              "      <td>{\"$type\":\"Form\",\"name\":\"X\",\"component\":{\"$type...</td>\n",
              "      <td>```FormLang\\n\\n  component userDetailsContaine...</td>\n",
              "    </tr>\n",
              "    <tr>\n",
              "      <th>2</th>\n",
              "      <td>\\n  component userDetailsContainer {}\\n  compo...</td>\n",
              "      <td>\\n  component userDetailsContainer {}\\n  compo...</td>\n",
              "      <td>\\ta field whose id is 'Tw' with state of type:...</td>\n",
              "      <td>* is a child of the form whose id is 'xw'.\\n* ...</td>\n",
              "      <td>{\"$type\":\"Form\",\"name\":\"xw\",\"component\":{\"$typ...</td>\n",
              "      <td>```FormLang\\n\\n  component userDetailsContaine...</td>\n",
              "    </tr>\n",
              "    <tr>\n",
              "      <th>3</th>\n",
              "      <td>\\n  component userDetailsContainer {}\\n  compo...</td>\n",
              "      <td>\\n  component userDetailsContainer {}\\n  compo...</td>\n",
              "      <td>\\t\\ta field whose id is 'qw_' with state of ty...</td>\n",
              "      <td>* is a child of the form whose id is 'i'.\\n* i...</td>\n",
              "      <td>{\"$type\":\"Form\",\"name\":\"I\",\"component\":{\"$type...</td>\n",
              "      <td>```FormLang\\n\\n  component userDetailsContaine...</td>\n",
              "    </tr>\n",
              "    <tr>\n",
              "      <th>4</th>\n",
              "      <td>\\n  component userDetailsContainer {}\\n  compo...</td>\n",
              "      <td>\\n  component userDetailsContainer {}\\n  compo...</td>\n",
              "      <td>\\ta field whose id is 'zw_' with state of type...</td>\n",
              "      <td>* is a child of the form whose id is 'h'.\\n* i...</td>\n",
              "      <td>{\"$type\":\"Form\",\"name\":\"h\",\"component\":{\"$type...</td>\n",
              "      <td>```FormLang\\n\\n  component userDetailsContaine...</td>\n",
              "    </tr>\n",
              "  </tbody>\n",
              "</table>\n",
              "</div>"
            ],
            "text/plain": [
              "                                    originalFormCode  \\\n",
              "0  \\n  component userDetailsContainer {}\\n  compo...   \n",
              "1  \\n  component userDetailsContainer {}\\n  compo...   \n",
              "2  \\n  component userDetailsContainer {}\\n  compo...   \n",
              "3  \\n  component userDetailsContainer {}\\n  compo...   \n",
              "4  \\n  component userDetailsContainer {}\\n  compo...   \n",
              "\n",
              "                                    modifiedFormCode  \\\n",
              "0  \\n  component userDetailsContainer {}\\n  compo...   \n",
              "1  \\n  component userDetailsContainer {}\\n  compo...   \n",
              "2  \\n  component userDetailsContainer {}\\n  compo...   \n",
              "3  \\n  component userDetailsContainer {}\\n  compo...   \n",
              "4  \\n  component userDetailsContainer {}\\n  compo...   \n",
              "\n",
              "                                  removedNodeEnglish  \\\n",
              "0  \\ta field whose id is 'Ow' with state of type:...   \n",
              "1  \\ta field whose id is 'vw' with state of type:...   \n",
              "2  \\ta field whose id is 'Tw' with state of type:...   \n",
              "3  \\t\\ta field whose id is 'qw_' with state of ty...   \n",
              "4  \\ta field whose id is 'zw_' with state of type...   \n",
              "\n",
              "                           removedNodeContextEnglish  \\\n",
              "0  * is a child of the form whose id is 'i_'.\\n* ...   \n",
              "1          * is a child of the form whose id is 'X'.   \n",
              "2  * is a child of the form whose id is 'xw'.\\n* ...   \n",
              "3  * is a child of the form whose id is 'i'.\\n* i...   \n",
              "4  * is a child of the form whose id is 'h'.\\n* i...   \n",
              "\n",
              "                                     originalFormAst  \\\n",
              "0  {\"$type\":\"Form\",\"name\":\"i_\",\"component\":{\"$typ...   \n",
              "1  {\"$type\":\"Form\",\"name\":\"X\",\"component\":{\"$type...   \n",
              "2  {\"$type\":\"Form\",\"name\":\"xw\",\"component\":{\"$typ...   \n",
              "3  {\"$type\":\"Form\",\"name\":\"I\",\"component\":{\"$type...   \n",
              "4  {\"$type\":\"Form\",\"name\":\"h\",\"component\":{\"$type...   \n",
              "\n",
              "                                          userPrompt  \n",
              "0  ```FormLang\\n\\n  component userDetailsContaine...  \n",
              "1  ```FormLang\\n\\n  component userDetailsContaine...  \n",
              "2  ```FormLang\\n\\n  component userDetailsContaine...  \n",
              "3  ```FormLang\\n\\n  component userDetailsContaine...  \n",
              "4  ```FormLang\\n\\n  component userDetailsContaine...  "
            ]
          },
          "execution_count": 73,
          "metadata": {},
          "output_type": "execute_result"
        }
      ],
      "source": [
        "examples[\"userPrompt\"] = examples.apply(create_prompt, axis=1)\n",
        "examples.head()"
      ]
    },
    {
      "cell_type": "markdown",
      "id": "da77e0c2-5a84-46e3-8f99-c5dc5918ca4e",
      "metadata": {
        "jp-MarkdownHeadingCollapsed": true,
        "id": "da77e0c2-5a84-46e3-8f99-c5dc5918ca4e"
      },
      "source": [
        "##### Example User Prompt vs. original Code"
      ]
    },
    {
      "cell_type": "code",
      "execution_count": null,
      "id": "ba3b7e13-2753-4da3-86f2-594704d2d56a",
      "metadata": {
        "id": "ba3b7e13-2753-4da3-86f2-594704d2d56a",
        "outputId": "5feeb1ad-c573-4577-d31b-65e9f4d98488"
      },
      "outputs": [
        {
          "name": "stdout",
          "output_type": "stream",
          "text": [
            "```FormLang\n",
            "\n",
            "  component userDetailsContainer {}\n",
            "  component formContainer {}\n",
            "  component someOtherContainer {}\n",
            "  component OtherContainer2 {}\n",
            "\n",
            "\n",
            "  component myTextBox {\n",
            "    props {\n",
            "      textColor\n",
            "      textSize\n",
            "      textWeight\n",
            "      borderColor\n",
            "    }\n",
            "  }\n",
            "  component myCheckbox {\n",
            "    props {\n",
            "      size\n",
            "    }\n",
            "  }\n",
            "  component otherTextBox {}\n",
            "  component counter {\n",
            "    props {\n",
            "      style\n",
            "    }\n",
            "  }\n",
            "\n",
            "form i_ {\n",
            "\tcomp userDetailsContainer \n",
            "\t\n",
            "\tform _ {\n",
            "\t\tcomp userDetailsContainer \n",
            "\t\t\n",
            "\t\tfield M {\n",
            "\t\t\tstate string\n",
            "\t\t\tcomp counter style=\"(() => 91.82371540078952)()\" as expression\n",
            "\t\t\t\n",
            "\t\t}\n",
            "\t\tfield d {\n",
            "\t\t\tcomp counter style=\"Math.sqrt(16)\" as expression\n",
            "\t\t\t\n",
            "\t\t}\n",
            "\t\tfield Bw {\n",
            "\t\t\tstate boolean default \"true\" as expression\n",
            "\t\t\tcomp otherTextBox \n",
            "\t\t\t\n",
            "\t\t}\n",
            "\t\tfield j {\n",
            "\t\t\tstate boolean default \"true\" as expression\n",
            "\t\t\tcomp otherTextBox \n",
            "\t\t\t\n",
            "\t\t}\n",
            "\t}\n",
            "\n",
            "\tform g {\n",
            "\t\tcomp OtherContainer2 \n",
            "\t\t\n",
            "\n",
            "\t}\n",
            "\n",
            "\tfield dw {\n",
            "\t\tcomp myCheckbox size=\"#342508\"\n",
            "\t\t\n",
            "\t}\n",
            "}\n",
            "\n",
            "```\n",
            "The description of the form element you need to add:\n",
            "\ta field whose id is 'Ow' with state of type: 'string', and is using the component 'counter' to which the following prop assignments are made: style=\"#4a6461\".\n",
            "\t\n",
            "The description of the context in the form where you should add the element:\n",
            "The element to be added:\n",
            "* is a child of the form whose id is 'i_'.\n",
            "* is located after the field whose id is 'dw'\n",
            "\n"
          ]
        }
      ],
      "source": [
        "print(examples['userPrompt'][0])"
      ]
    },
    {
      "cell_type": "code",
      "execution_count": null,
      "id": "d01fd5ce-4812-46dc-8563-8ca335fec0fa",
      "metadata": {
        "id": "d01fd5ce-4812-46dc-8563-8ca335fec0fa",
        "outputId": "f8f143d2-7c14-4014-9e9c-89438bbbef56"
      },
      "outputs": [
        {
          "name": "stdout",
          "output_type": "stream",
          "text": [
            "\n",
            "  component userDetailsContainer {}\n",
            "  component formContainer {}\n",
            "  component someOtherContainer {}\n",
            "  component OtherContainer2 {}\n",
            "\n",
            "\n",
            "  component myTextBox {\n",
            "    props {\n",
            "      textColor\n",
            "      textSize\n",
            "      textWeight\n",
            "      borderColor\n",
            "    }\n",
            "  }\n",
            "  component myCheckbox {\n",
            "    props {\n",
            "      size\n",
            "    }\n",
            "  }\n",
            "  component otherTextBox {}\n",
            "  component counter {\n",
            "    props {\n",
            "      style\n",
            "    }\n",
            "  }\n",
            "\n",
            "form i_ {\n",
            "\tcomp userDetailsContainer \n",
            "\t\n",
            "\tform _ {\n",
            "\t\tcomp userDetailsContainer \n",
            "\t\t\n",
            "\t\tfield M {\n",
            "\t\t\tstate string\n",
            "\t\t\tcomp counter style=\"(() => 91.82371540078952)()\" as expression\n",
            "\t\t\t\n",
            "\t\t}\n",
            "\t\tfield d {\n",
            "\t\t\tcomp counter style=\"Math.sqrt(16)\" as expression\n",
            "\t\t\t\n",
            "\t\t}\n",
            "\t\tfield Bw {\n",
            "\t\t\tstate boolean default \"true\" as expression\n",
            "\t\t\tcomp otherTextBox \n",
            "\t\t\t\n",
            "\t\t}\n",
            "\t\tfield j {\n",
            "\t\t\tstate boolean default \"true\" as expression\n",
            "\t\t\tcomp otherTextBox \n",
            "\t\t\t\n",
            "\t\t}\n",
            "\t}\n",
            "\n",
            "\tform g {\n",
            "\t\tcomp OtherContainer2 \n",
            "\t\t\n",
            "\n",
            "\t}\n",
            "\n",
            "\tfield dw {\n",
            "\t\tcomp myCheckbox size=\"#342508\"\n",
            "\t\t\n",
            "\t}\n",
            "\tfield Ow {\n",
            "\t\tstate string\n",
            "\t\tcomp counter style=\"#4a6461\"\n",
            "\t\t\n",
            "\t}\n",
            "}\n",
            "\n"
          ]
        }
      ],
      "source": [
        "print(examples['originalFormCode'][0])"
      ]
    },
    {
      "cell_type": "markdown",
      "id": "d002401a-0651-416f-908a-c3c444299f6a",
      "metadata": {
        "id": "d002401a-0651-416f-908a-c3c444299f6a"
      },
      "source": [
        "### Creating a Dataset on HuggingFace using `Datasets`"
      ]
    },
    {
      "cell_type": "code",
      "execution_count": null,
      "id": "ef1f1cdf-ef99-4be6-a2b9-a00cb6f47341",
      "metadata": {
        "id": "ef1f1cdf-ef99-4be6-a2b9-a00cb6f47341"
      },
      "outputs": [],
      "source": []
    },
    {
      "cell_type": "markdown",
      "id": "f9c2613f-879e-4a67-8216-af5af4a78b6d",
      "metadata": {
        "id": "f9c2613f-879e-4a67-8216-af5af4a78b6d"
      },
      "source": [
        "### Zero-shot evaluation using Llama 3.2-1B"
      ]
    },
    {
      "cell_type": "markdown",
      "id": "cbbd5154-6661-46d9-b02b-704e6628b096",
      "metadata": {
        "id": "cbbd5154-6661-46d9-b02b-704e6628b096"
      },
      "source": [
        "The LLM might ignore the instruction to output plain code without the \"```FormLang\" delimiter, in that case we should try to extract the contents."
      ]
    },
    {
      "cell_type": "code",
      "execution_count": null,
      "id": "9fa8d994-82ce-4274-a2e1-016230ec5301",
      "metadata": {
        "id": "9fa8d994-82ce-4274-a2e1-016230ec5301"
      },
      "outputs": [],
      "source": [
        "def extract_code_block(text, lang):\n",
        "  \"\"\"\n",
        "  Extracts a code block from a string.\n",
        "\n",
        "  Args:\n",
        "    text: The string containing the code block.\n",
        "    lang: The name of the language the code block is written in.\n",
        "\n",
        "  Returns:\n",
        "    The code block, or None if no code block is found.\n",
        "  \"\"\"\n",
        "  pattern = f\"```{lang}\\n(.*?)```\"\n",
        "  match = re.search(pattern, text, re.DOTALL)\n",
        "  if match:\n",
        "    return match.group(1).strip()\n",
        "  return None\n",
        "\n",
        "def extract_llm_formlang_output(text):\n",
        "    # Strip leading and trailing whitespace and check for delimiters\n",
        "    text = text.strip()\n",
        "    return extract_code_block(text, \"FormLang\") or text"
      ]
    },
    {
      "cell_type": "code",
      "execution_count": null,
      "id": "cceceb71-4287-427b-bcd4-dd009c7e6744",
      "metadata": {
        "id": "cceceb71-4287-427b-bcd4-dd009c7e6744",
        "outputId": "1d997808-fc2f-4830-e8c6-9494c6fb6936",
        "colab": {
          "referenced_widgets": [
            "5eff54e834f94b88a3578e2fdf7875ea",
            "dcb6c00821d34c808bf5edecff6c1cdc",
            "a55786cfd1cd466483b2ac4eab2d4dd7",
            "73539f48f65346f8b7849b5b63eea848"
          ]
        }
      },
      "outputs": [
        {
          "data": {
            "application/vnd.jupyter.widget-view+json": {
              "model_id": "5eff54e834f94b88a3578e2fdf7875ea",
              "version_major": 2,
              "version_minor": 0
            },
            "text/plain": [
              "generation_config.json:   0%|          | 0.00/189 [00:00<?, ?B/s]"
            ]
          },
          "metadata": {},
          "output_type": "display_data"
        },
        {
          "data": {
            "application/vnd.jupyter.widget-view+json": {
              "model_id": "dcb6c00821d34c808bf5edecff6c1cdc",
              "version_major": 2,
              "version_minor": 0
            },
            "text/plain": [
              "tokenizer_config.json:   0%|          | 0.00/54.5k [00:00<?, ?B/s]"
            ]
          },
          "metadata": {},
          "output_type": "display_data"
        },
        {
          "data": {
            "application/vnd.jupyter.widget-view+json": {
              "model_id": "a55786cfd1cd466483b2ac4eab2d4dd7",
              "version_major": 2,
              "version_minor": 0
            },
            "text/plain": [
              "tokenizer.json:   0%|          | 0.00/9.09M [00:00<?, ?B/s]"
            ]
          },
          "metadata": {},
          "output_type": "display_data"
        },
        {
          "data": {
            "application/vnd.jupyter.widget-view+json": {
              "model_id": "73539f48f65346f8b7849b5b63eea848",
              "version_major": 2,
              "version_minor": 0
            },
            "text/plain": [
              "special_tokens_map.json:   0%|          | 0.00/296 [00:00<?, ?B/s]"
            ]
          },
          "metadata": {},
          "output_type": "display_data"
        },
        {
          "name": "stderr",
          "output_type": "stream",
          "text": [
            "Device set to use cpu\n"
          ]
        }
      ],
      "source": [
        "llama3_pipeline = pipeline(\"text-generation\", model=\"meta-llama/Llama-3.2-1B-Instruct\", torch_dtype=torch.bfloat16, device_map=\"cpu\")"
      ]
    },
    {
      "cell_type": "code",
      "execution_count": null,
      "id": "08528c70-5fb5-40a7-8146-0a25e1f9a8b1",
      "metadata": {
        "id": "08528c70-5fb5-40a7-8146-0a25e1f9a8b1",
        "outputId": "ee5de261-d426-4d37-a956-cd805d442789"
      },
      "outputs": [
        {
          "name": "stderr",
          "output_type": "stream",
          "text": [
            "Setting `pad_token_id` to `eos_token_id`:128001 for open-end generation.\n"
          ]
        },
        {
          "name": "stdout",
          "output_type": "stream",
          "text": [
            "CPU times: user 5min 50s, sys: 278 ms, total: 5min 51s\n",
            "Wall time: 43.9 s\n"
          ]
        },
        {
          "data": {
            "text/plain": [
              "[{'generated_text': [{'role': 'system',\n",
              "    'content': \"You are a code generation AI assistant.\\nYour job is to generate valid FormLang code according to the instructions given below:\\nInspect the following FormLang Form definition, the start of the code will be denoted with ```FormLang and its end with ``` .\\nAfter inspection, complete the Form's code according to the given a description of a new form element and a description of its location in the form.\\nYou may assume that the new form element to be added is always either a 'form' or a 'field'.\\nYour output must be valid and compiler-friendly FormLang code only.\\nIf you are unsure of the FormLang syntax, try to infer it from the form code which is given below as an input.Your answer will be evaluated using an AST comparison of your code to the expected code.\\nAssume that the input code is valid and requires no modification other than the NEW code you must generate.\\nYou must output plain FormLang code without any additional text or delimiters.\\nYou must not change any part of the original input code other than adding the required element.\\n\"},\n",
              "   {'role': 'user',\n",
              "    'content': '```FormLang\\n\\n  component userDetailsContainer {}\\n  component formContainer {}\\n  component someOtherContainer {}\\n  component OtherContainer2 {}\\n\\n\\n  component myTextBox {\\n    props {\\n      textColor\\n      textSize\\n      textWeight\\n      borderColor\\n    }\\n  }\\n  component myCheckbox {\\n    props {\\n      size\\n    }\\n  }\\n  component otherTextBox {}\\n  component counter {\\n    props {\\n      style\\n    }\\n  }\\n\\nform i_ {\\n\\tcomp userDetailsContainer \\n\\t\\n\\tform _ {\\n\\t\\tcomp userDetailsContainer \\n\\t\\t\\n\\t\\tfield M {\\n\\t\\t\\tstate string\\n\\t\\t\\tcomp counter style=\"(() => 91.82371540078952)()\" as expression\\n\\t\\t\\t\\n\\t\\t}\\n\\t\\tfield d {\\n\\t\\t\\tcomp counter style=\"Math.sqrt(16)\" as expression\\n\\t\\t\\t\\n\\t\\t}\\n\\t\\tfield Bw {\\n\\t\\t\\tstate boolean default \"true\" as expression\\n\\t\\t\\tcomp otherTextBox \\n\\t\\t\\t\\n\\t\\t}\\n\\t\\tfield j {\\n\\t\\t\\tstate boolean default \"true\" as expression\\n\\t\\t\\tcomp otherTextBox \\n\\t\\t\\t\\n\\t\\t}\\n\\t}\\n\\n\\tform g {\\n\\t\\tcomp OtherContainer2 \\n\\t\\t\\n\\n\\t}\\n\\n\\tfield dw {\\n\\t\\tcomp myCheckbox size=\"#342508\"\\n\\t\\t\\n\\t}\\n}\\n\\n```\\nThe description of the form element you need to add:\\n\\ta field whose id is \\'Ow\\' with state of type: \\'string\\', and is using the component \\'counter\\' to which the following prop assignments are made: style=\"#4a6461\".\\n\\t\\nThe description of the context in the form where you should add the element:\\nThe element to be added:\\n* is a child of the form whose id is \\'i_\\'.\\n* is located after the field whose id is \\'dw\\'\\n'},\n",
              "   {'role': 'assistant',\n",
              "    'content': 'Based on the provided FormLang code and the description of the new form element, I will add the required code as follows:\\n\\n```FormLang\\n\\n  component userDetailsContainer {}\\n  component formContainer {}\\n  component someOtherContainer {}\\n  component OtherContainer2 {}\\n\\n\\n  component myTextBox {\\n    props {\\n      textColor\\n      textSize\\n      textWeight\\n      borderColor\\n    }\\n  }\\n  component myCheckbox {\\n    props {\\n      size\\n    }\\n  }\\n  component otherTextBox {}\\n  component counter {\\n    props {\\n      style\\n    }\\n  }\\n\\nform i_ {\\n\\tcomp userDetailsContainer \\n\\t\\n  field M {\\n    state string\\n    comp counter style=\"(() => 91.82371540078952)()\" as expression\\n  }\\n  field d {\\n    comp counter style=\"Math.sqrt(16)\" as expression\\n  }\\n  field Bw {\\n    state boolean default \"true\" as expression\\n    comp otherTextBox \\n  }\\n  field j {\\n    state boolean default \"true\" as expression\\n    comp otherTextBox \\n  }\\n  \\n  field Ow {\\n    comp myCheckbox\\n    props {\\n      size\\n    }\\n  }\\n}\\n\\nform g {\\n  comp OtherContainer2 \\n  \\n\\n  field dw {\\n    comp myCheckbox size=\"#4a6461\"\\n  }\\n}\\n\\n```\\n\\nThis code adds a new field `Ow` with state type `string` and using the `counter` component. The `Ow` field is located after the `dw` field.'}]}]"
            ]
          },
          "execution_count": 66,
          "metadata": {},
          "output_type": "execute_result"
        }
      ],
      "source": [
        "%%time\n",
        "pred_example_0 = llama3_pipeline([\n",
        "    {\"role\": \"system\", \"content\": \"You are a code generation AI assistant.\\n\" + get_system_prompt()},\n",
        "    {\"role\": \"user\", \"content\": examples['userPrompt'][0]},\n",
        "], max_new_tokens=10**4)\n",
        "pred_example_0"
      ]
    },
    {
      "cell_type": "code",
      "execution_count": null,
      "id": "a9bae009-a157-412b-b06d-4f580df2efa0",
      "metadata": {
        "id": "a9bae009-a157-412b-b06d-4f580df2efa0",
        "outputId": "e9e20da0-e178-45ce-9de5-738983cf9e64"
      },
      "outputs": [
        {
          "name": "stdout",
          "output_type": "stream",
          "text": [
            "component userDetailsContainer {}\n",
            "  component formContainer {}\n",
            "  component someOtherContainer {}\n",
            "  component OtherContainer2 {}\n",
            "\n",
            "\n",
            "  component myTextBox {\n",
            "    props {\n",
            "      textColor\n",
            "      textSize\n",
            "      textWeight\n",
            "      borderColor\n",
            "    }\n",
            "  }\n",
            "  component myCheckbox {\n",
            "    props {\n",
            "      size\n",
            "    }\n",
            "  }\n",
            "  component otherTextBox {}\n",
            "  component counter {\n",
            "    props {\n",
            "      style\n",
            "    }\n",
            "  }\n",
            "\n",
            "form i_ {\n",
            "\tcomp userDetailsContainer \n",
            "\t\n",
            "  field M {\n",
            "    state string\n",
            "    comp counter style=\"(() => 91.82371540078952)()\" as expression\n",
            "  }\n",
            "  field d {\n",
            "    comp counter style=\"Math.sqrt(16)\" as expression\n",
            "  }\n",
            "  field Bw {\n",
            "    state boolean default \"true\" as expression\n",
            "    comp otherTextBox \n",
            "  }\n",
            "  field j {\n",
            "    state boolean default \"true\" as expression\n",
            "    comp otherTextBox \n",
            "  }\n",
            "  \n",
            "  field Ow {\n",
            "    comp myCheckbox\n",
            "    props {\n",
            "      size\n",
            "    }\n",
            "  }\n",
            "}\n",
            "\n",
            "form g {\n",
            "  comp OtherContainer2 \n",
            "  \n",
            "\n",
            "  field dw {\n",
            "    comp myCheckbox size=\"#4a6461\"\n",
            "  }\n",
            "}\n"
          ]
        }
      ],
      "source": [
        "pred_example_0_generated = pred_example_0[0]['generated_text'][2]['content']\n",
        "print(extract_llm_formlang_output(pred_example_0_generated))"
      ]
    },
    {
      "cell_type": "code",
      "execution_count": null,
      "id": "a19a84f2-a25f-4cb3-87a7-005912660ed5",
      "metadata": {
        "id": "a19a84f2-a25f-4cb3-87a7-005912660ed5",
        "outputId": "4fba1459-7b29-40ee-9b5c-94cbd20eaaea"
      },
      "outputs": [
        {
          "data": {
            "text/plain": [
              "{'ast': '{\"$type\":\"Form\",\"name\":\"i_\",\"component\":{\"$type\":\"FieldComponentDef\",\"componentId\":{\"$ref\":\"#/components@0\"},\"componentPropsKeys\":[],\"componentPropsValues\":[]},\"children\":[{\"$type\":\"Field\",\"name\":\"M\",\"state\":{\"$type\":\"FieldStateDef\",\"type\":\"string\",\"isArray\":false},\"component\":{\"$type\":\"FieldComponentDef\",\"componentId\":{\"$ref\":\"#/components@7\"},\"componentPropsKeys\":[{\"$type\":\"ComponentPropKey\",\"key\":\"style\"}],\"componentPropsValues\":[{\"$type\":\"ValueExpression\",\"value\":\"(() => 91.82371540078952)()\",\"isExpression\":true}]}},{\"$type\":\"Field\",\"name\":\"d\",\"component\":{\"$type\":\"FieldComponentDef\",\"componentId\":{\"$ref\":\"#/components@7\"},\"componentPropsKeys\":[{\"$type\":\"ComponentPropKey\",\"key\":\"style\"}],\"componentPropsValues\":[{\"$type\":\"ValueExpression\",\"value\":\"Math.sqrt(16)\",\"isExpression\":true}]}},{\"$type\":\"Field\",\"name\":\"Bw\",\"state\":{\"$type\":\"FieldStateDef\",\"type\":\"boolean\",\"defaultValue\":{\"$type\":\"ValueExpression\",\"value\":\"true\",\"isExpression\":true},\"isArray\":false},\"component\":{\"$type\":\"FieldComponentDef\",\"componentId\":{\"$ref\":\"#/components@6\"},\"componentPropsKeys\":[],\"componentPropsValues\":[]}},{\"$type\":\"Field\",\"name\":\"j\",\"state\":{\"$type\":\"FieldStateDef\",\"type\":\"boolean\",\"defaultValue\":{\"$type\":\"ValueExpression\",\"value\":\"true\",\"isExpression\":true},\"isArray\":false},\"component\":{\"$type\":\"FieldComponentDef\",\"componentId\":{\"$ref\":\"#/components@6\"},\"componentPropsKeys\":[],\"componentPropsValues\":[]}},{\"$type\":\"Field\",\"name\":\"Ow\",\"component\":{\"$type\":\"FieldComponentDef\",\"componentId\":{\"$ref\":\"#/components@5\"},\"componentPropsKeys\":[],\"componentPropsValues\":[]}}]}',\n",
              " 'errors': [{'severity': 1,\n",
              "   'range': {'start': {'character': 4, 'line': 47},\n",
              "    'end': {'character': 9, 'line': 47}},\n",
              "   'message': \"Expecting token of type '}' but found `props`.\",\n",
              "   'data': {'code': 'parsing-error'},\n",
              "   'source': 'form-lang'},\n",
              "  {'severity': 1,\n",
              "   'range': {'start': {'character': 4, 'line': 47},\n",
              "    'end': {'character': 9, 'line': 47}},\n",
              "   'message': \"Expecting token of type '}' but found `props`.\",\n",
              "   'data': {'code': 'parsing-error'},\n",
              "   'source': 'form-lang'},\n",
              "  {'severity': 1,\n",
              "   'range': {'start': {'character': 2, 'line': 50},\n",
              "    'end': {'character': 3, 'line': 50}},\n",
              "   'message': \"Expecting token of type 'EOF' but found `}`.\",\n",
              "   'data': {'code': 'parsing-error'},\n",
              "   'source': 'form-lang'}]}"
            ]
          },
          "execution_count": 68,
          "metadata": {},
          "output_type": "execute_result"
        }
      ],
      "source": [
        "get_ast(extract_llm_formlang_output(pred_example_0_generated), True)"
      ]
    }
  ],
  "metadata": {
    "kernelspec": {
      "display_name": "Python 3 (ipykernel)",
      "language": "python",
      "name": "python3"
    },
    "language_info": {
      "codemirror_mode": {
        "name": "ipython",
        "version": 3
      },
      "file_extension": ".py",
      "mimetype": "text/x-python",
      "name": "python",
      "nbconvert_exporter": "python",
      "pygments_lexer": "ipython3",
      "version": "3.10.12"
    },
    "colab": {
      "provenance": []
    }
  },
  "nbformat": 4,
  "nbformat_minor": 5
}