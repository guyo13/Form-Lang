{
  "cells": [
    {
      "cell_type": "markdown",
      "id": "3da41cfd-8291-4b03-87ed-5df197c2efbd",
      "metadata": {
        "id": "3da41cfd-8291-4b03-87ed-5df197c2efbd"
      },
      "source": [
        "# Domain Specific Code Generation using the FormLang DSL"
      ]
    },
    {
      "cell_type": "markdown",
      "id": "1b4cbce9-f06b-46e7-87da-cd82364afd6c",
      "metadata": {
        "id": "1b4cbce9-f06b-46e7-87da-cd82364afd6c"
      },
      "source": [
        "## Abstract\n",
        "\n",
        "AI and LLM systems are being trained to perform a variety of complex tasks requiring expertise in many software tools, languages and technology stacks. Some of the challenges in this process involve quality data acquisition in large amounts, handling the increase of model parameter count which leads to increasing compute demands and costs, as well as emerging Data Privacy and Intellctual Property concerns related with using 3rd party cloud services for model training.\n",
        "\n",
        "In this work we attempt to harness and combine the benefits of Abstraction and Determinism provided by Formal Domain Specific Languages (DSLs) with the innate ability of LLMs to learn new languages and their semantics. We propose a novel generation task called \"Domain Specific Code Generation\" which involve mapping user requests written in natural language to DSL code.\n",
        "\n",
        "By utilizing a specially crafted DSL called `FormLang` as a case study, we attempt to lay the groundwork for methods of automated DSL dataset generation, training techniques and performance evaluation, with the end goal of creating an AI system capable of generating Web forms according to a user request.\n",
        "\n",
        "Our `FormLang` DSL allows expressing the semantics of Web-forms using a simplified syntax that does not require much, if any, Web-programming knowledge and expertise.\n",
        "\n",
        "Given a user prompt in English describing the desired form and its fields the LLM produces syntactically valid `FormLang` output which is run through the accompanying FormLang parser and a hand-crafted React JSX compiler to output a final implementation of the form in JavaScript and React.\n",
        "\n",
        "The project includes a live demo which demonstrates the capabilities of the system.\n"
      ]
    },
    {
      "cell_type": "markdown",
      "id": "9fe6f6e1-43e6-45d7-a792-8e8d141c075b",
      "metadata": {
        "id": "9fe6f6e1-43e6-45d7-a792-8e8d141c075b"
      },
      "source": [
        "## Referring to this work\n",
        "\n",
        "If you use this work the following quote is preferred:\n",
        "\n",
        "```bibtex\n",
        "@misc{guyor2025dscodegenformlang,\n",
        "      title={Domain Specific Code Generation using the FormLang DSL},\n",
        "      author={Guy Or},\n",
        "      year={2025}\n",
        "}\n",
        "```\n",
        "\n",
        "The official repository of this work is hosted in GitHub at https://github.com/guyo13/Form-Lang **TBD** - Make the repo public"
      ]
    },
    {
      "cell_type": "markdown",
      "id": "3b0ab27f-eb13-4744-aac1-57e8ca65d63e",
      "metadata": {
        "id": "3b0ab27f-eb13-4744-aac1-57e8ca65d63e"
      },
      "source": [
        "## Project Goals\n",
        "\n",
        "* Define the Task of Domain Specific Code Generation.\n",
        "* Create an AI training pipeline for FormLang (implemented as a Juypter notebook) which includes:\n",
        "    * Automatic FormLang Dataset generation using searching algorithms and heuristics.\n",
        "    * Baseline model selection and loading from Hugging Face.\n",
        "    * Dataset Preprocessing and loading.\n",
        "    * Defining performance KPIs for the system.\n",
        "    * Model fine tuning using Transformers library\n",
        "    * Model Adapter training using PEFT library.\n",
        "    * Model upload to Hugging Face Hub and example usage from the Hub.\n",
        "    *  **(TBD)** Export to ONNX using Optimum and run on-device using Transformers.js.\n",
        "* Create the “FormLang” language:\n",
        "    * Describe the problem domain.\n",
        "    * Defining a viable minimal syntax and semantics which are research focused rather than completeness focused.\n",
        "    *  **(TBD)** Implementing a “JavaScript React” compile target.\n",
        "*  **(TBD)** Create a live demo website:\n",
        "    * **(TBD)** Users input a prompt.\n",
        "    * **(TBD)** A FormLang editor is populated with the AI’s code generation results.\n",
        "    * **(TBD)** The form is rendered alongside the generated code.\n",
        "*  Discuss the project results:\n",
        "    * Perfornace and user acceptability.\n",
        "    * **(TBD)** Viability of the implemented methods for the Domain Specific Code Generation task and generalization to other domains.  \n",
        "    * **(TBD)** Potential enhancements to the system.\n",
        "    * **(TBD)** Possible research directions on how to learn from user data.\n",
        "\n",
        "\n",
        "**(TBD)** - Features marked as TBD are depending on the project's progress and timeline constraints as well as proving the viability of the methods and system."
      ]
    },
    {
      "cell_type": "markdown",
      "id": "f82857ab-ff94-41c5-ac86-3118861b0590",
      "metadata": {
        "id": "f82857ab-ff94-41c5-ac86-3118861b0590"
      },
      "source": [
        "# Notebook Setup"
      ]
    },
    {
      "cell_type": "markdown",
      "id": "e11e7427-aed5-48ac-96e2-b84fbdf073f3",
      "metadata": {
        "id": "e11e7427-aed5-48ac-96e2-b84fbdf073f3"
      },
      "source": [
        "## About the FormLang DSL and its tooling and codebase"
      ]
    },
    {
      "cell_type": "markdown",
      "id": "0472c753-5fe4-44b7-b36c-81139377cc6b",
      "metadata": {
        "id": "0472c753-5fe4-44b7-b36c-81139377cc6b"
      },
      "source": [
        "The FormLang DSL is implemented using the [Langium](https://langium.org/) project. Langium is a toolkit written in TypeScript that allows language engineers to create DSLs and quickly iterate over their development lifecycle.\n",
        "\n",
        "Some of the many features offered by Langium are:\n",
        "\n",
        "* Parser generation - Langium leverages [Chevrotain](https://chevrotain.io/docs/) to create a fast parser that can parse the DSL code to AST.\n",
        "* TypeScript AST nodes generation - Langium automatically generates TS types that represent the AST of the language.\n",
        "* Simplified Validation rules - Langium has built in support for writing and executing validation rules with built in error reporting.\n",
        "* Language Server Protocol support - Langium implements the LSP protocol which allows code completion and syntax highlighting in many IDEs such as VSCode.\n",
        "\n",
        "Since we are using Langium to parse the FormLang DSL, some of this project tooling and algorithms are written in TypeScript.\n",
        "\n",
        "To call our TypeScript code from Python we are using two distinct methods:\n",
        "\n",
        "* [PythonMonkey](https://pythonmonkey.io/) - A Python package that implements FFI between Python and JavaScript.\n",
        "* Local HTTP API - For some cases in which the PythonMonkey FFI is too slow, we've implemented a local REST-API server that implements some functions we require (e.g for parsing FormLang code to AST).\n",
        "\n",
        "### Codebase\n",
        "\n",
        "The entire codebase is hosted in Github at [FormLang](https://github.com/guyo13/Form-Lang)."
      ]
    },
    {
      "cell_type": "markdown",
      "source": [
        "### Running from Colab"
      ],
      "metadata": {
        "id": "Ou2nd_6VfMJb"
      },
      "id": "Ou2nd_6VfMJb"
    },
    {
      "cell_type": "markdown",
      "source": [
        "#### Installing PNPM and Bun"
      ],
      "metadata": {
        "id": "eJxc5-6UfnjC"
      },
      "id": "eJxc5-6UfnjC"
    },
    {
      "cell_type": "code",
      "source": [
        "!npm install -g pnpm\n",
        "!npm install -g bun@latest\n",
        "!npm install -g corepack@latest"
      ],
      "metadata": {
        "colab": {
          "base_uri": "https://localhost:8080/"
        },
        "collapsed": true,
        "id": "sacCOlA8fqLv",
        "outputId": "c1d6f4a1-6d5c-45fe-bc2e-eaf377d3eeab"
      },
      "id": "sacCOlA8fqLv",
      "execution_count": 1,
      "outputs": [
        {
          "output_type": "stream",
          "name": "stdout",
          "text": [
            "\u001b[1G\u001b[0K⠙\u001b[1G\u001b[0K⠹\u001b[1G\u001b[0K⠸\u001b[1G\u001b[0K⠼\u001b[1G\u001b[0K⠴\u001b[1G\u001b[0K⠦\u001b[1G\u001b[0K⠧\u001b[1G\u001b[0K⠇\u001b[1G\u001b[0K⠏\u001b[1G\u001b[0K⠋\u001b[1G\u001b[0K⠙\u001b[1G\u001b[0K⠹\u001b[1G\u001b[0K⠸\u001b[1G\u001b[0K⠼\u001b[1G\u001b[0K⠴\u001b[1G\u001b[0K⠦\u001b[1G\u001b[0K⠧\u001b[1G\u001b[0K⠇\u001b[1G\u001b[0K⠏\u001b[1G\u001b[0K⠋\u001b[1G\u001b[0K⠙\u001b[1G\u001b[0K⠹\u001b[1G\u001b[0K⠸\u001b[1G\u001b[0K⠼\u001b[1G\u001b[0K⠴\u001b[1G\u001b[0K⠦\u001b[1G\u001b[0K\n",
            "added 1 package in 4s\n",
            "\u001b[1G\u001b[0K⠦\u001b[1G\u001b[0K\n",
            "\u001b[1G\u001b[0K⠦\u001b[1G\u001b[0K1 package is looking for funding\n",
            "\u001b[1G\u001b[0K⠦\u001b[1G\u001b[0K  run `npm fund` for details\n",
            "\u001b[1G\u001b[0K⠦\u001b[1G\u001b[0K\u001b[1G\u001b[0K⠙\u001b[1G\u001b[0K⠹\u001b[1G\u001b[0K⠸\u001b[1G\u001b[0K⠼\u001b[1G\u001b[0K⠴\u001b[1G\u001b[0K⠦\u001b[1G\u001b[0K⠧\u001b[1G\u001b[0K⠇\u001b[1G\u001b[0K⠏\u001b[1G\u001b[0K⠋\u001b[1G\u001b[0K⠙\u001b[1G\u001b[0K⠹\u001b[1G\u001b[0K⠸\u001b[1G\u001b[0K⠼\u001b[1G\u001b[0K⠴\u001b[1G\u001b[0K⠦\u001b[1G\u001b[0K⠧\u001b[1G\u001b[0K⠇\u001b[1G\u001b[0K⠏\u001b[1G\u001b[0K⠋\u001b[1G\u001b[0K⠙\u001b[1G\u001b[0K⠹\u001b[1G\u001b[0K⠸\u001b[1G\u001b[0K⠼\u001b[1G\u001b[0K⠴\u001b[1G\u001b[0K⠦\u001b[1G\u001b[0K⠧\u001b[1G\u001b[0K⠇\u001b[1G\u001b[0K⠏\u001b[1G\u001b[0K⠋\u001b[1G\u001b[0K⠙\u001b[1G\u001b[0K⠹\u001b[1G\u001b[0K⠸\u001b[1G\u001b[0K⠼\u001b[1G\u001b[0K⠴\u001b[1G\u001b[0K⠦\u001b[1G\u001b[0K⠧\u001b[1G\u001b[0K⠇\u001b[1G\u001b[0K⠏\u001b[1G\u001b[0K⠋\u001b[1G\u001b[0K⠙\u001b[1G\u001b[0K⠹\u001b[1G\u001b[0K⠸\u001b[1G\u001b[0K⠼\u001b[1G\u001b[0K⠴\u001b[1G\u001b[0K⠦\u001b[1G\u001b[0K⠧\u001b[1G\u001b[0K⠇\u001b[1G\u001b[0K⠏\u001b[1G\u001b[0K⠋\u001b[1G\u001b[0K⠙\u001b[1G\u001b[0K⠹\u001b[1G\u001b[0K⠸\u001b[1G\u001b[0K⠼\u001b[1G\u001b[0K⠴\u001b[1G\u001b[0K⠦\u001b[1G\u001b[0K⠧\u001b[1G\u001b[0K⠇\u001b[1G\u001b[0K⠏\u001b[1G\u001b[0K⠋\u001b[1G\u001b[0K⠙\u001b[1G\u001b[0K⠹\u001b[1G\u001b[0K⠸\u001b[1G\u001b[0K⠼\u001b[1G\u001b[0K⠴\u001b[1G\u001b[0K⠦\u001b[1G\u001b[0K⠧\u001b[1G\u001b[0K⠇\u001b[1G\u001b[0K⠏\u001b[1G\u001b[0K⠋\u001b[1G\u001b[0K⠙\u001b[1G\u001b[0K⠹\u001b[1G\u001b[0K⠸\u001b[1G\u001b[0K⠼\u001b[1G\u001b[0K⠴\u001b[1G\u001b[0K⠦\u001b[1G\u001b[0K⠧\u001b[1G\u001b[0K⠇\u001b[1G\u001b[0K⠏\u001b[1G\u001b[0K⠋\u001b[1G\u001b[0K⠙\u001b[1G\u001b[0K⠹\u001b[1G\u001b[0K⠸\u001b[1G\u001b[0K⠼\u001b[1G\u001b[0K⠴\u001b[1G\u001b[0K⠦\u001b[1G\u001b[0K⠧\u001b[1G\u001b[0K⠇\u001b[1G\u001b[0K⠏\u001b[1G\u001b[0K⠋\u001b[1G\u001b[0K⠙\u001b[1G\u001b[0K⠹\u001b[1G\u001b[0K⠸\u001b[1G\u001b[0K⠼\u001b[1G\u001b[0K⠴\u001b[1G\u001b[0K⠦\u001b[1G\u001b[0K⠧\u001b[1G\u001b[0K⠇\u001b[1G\u001b[0K⠏\u001b[1G\u001b[0K⠋\u001b[1G\u001b[0K⠙\u001b[1G\u001b[0K⠹\u001b[1G\u001b[0K⠸\u001b[1G\u001b[0K⠼\u001b[1G\u001b[0K⠴\u001b[1G\u001b[0K⠦\u001b[1G\u001b[0K⠧\u001b[1G\u001b[0K⠇\u001b[1G\u001b[0K⠏\u001b[1G\u001b[0K⠋\u001b[1G\u001b[0K⠙\u001b[1G\u001b[0K⠹\u001b[1G\u001b[0K⠸\u001b[1G\u001b[0K⠼\u001b[1G\u001b[0K⠴\u001b[1G\u001b[0K⠦\u001b[1G\u001b[0K⠧\u001b[1G\u001b[0K⠇\u001b[1G\u001b[0K⠏\u001b[1G\u001b[0K⠋\u001b[1G\u001b[0K⠙\u001b[1G\u001b[0K⠹\u001b[1G\u001b[0K⠸\u001b[1G\u001b[0K⠼\u001b[1G\u001b[0K⠴\u001b[1G\u001b[0K⠦\u001b[1G\u001b[0K⠧\u001b[1G\u001b[0K⠇\u001b[1G\u001b[0K⠏\u001b[1G\u001b[0K⠋\u001b[1G\u001b[0K⠙\u001b[1G\u001b[0K⠹\u001b[1G\u001b[0K⠸\u001b[1G\u001b[0K⠼\u001b[1G\u001b[0K⠴\u001b[1G\u001b[0K⠦\u001b[1G\u001b[0K⠧\u001b[1G\u001b[0K⠇\u001b[1G\u001b[0K⠏\u001b[1G\u001b[0K⠋\u001b[1G\u001b[0K⠙\u001b[1G\u001b[0K⠹\u001b[1G\u001b[0K⠸\u001b[1G\u001b[0K⠼\u001b[1G\u001b[0K⠴\u001b[1G\u001b[0K⠦\u001b[1G\u001b[0K⠧\u001b[1G\u001b[0K⠇\u001b[1G\u001b[0K⠏\u001b[1G\u001b[0K⠋\u001b[1G\u001b[0K⠙\u001b[1G\u001b[0K⠹\u001b[1G\u001b[0K⠸\u001b[1G\u001b[0K⠼\u001b[1G\u001b[0K⠴\u001b[1G\u001b[0K⠦\u001b[1G\u001b[0K⠧\u001b[1G\u001b[0K⠇\u001b[1G\u001b[0K⠏\u001b[1G\u001b[0K⠋\u001b[1G\u001b[0K⠙\u001b[1G\u001b[0K⠹\u001b[1G\u001b[0K⠸\u001b[1G\u001b[0K⠼\u001b[1G\u001b[0K⠴\u001b[1G\u001b[0K⠦\u001b[1G\u001b[0K⠧\u001b[1G\u001b[0K⠇\u001b[1G\u001b[0K⠏\u001b[1G\u001b[0K⠋\u001b[1G\u001b[0K⠙\u001b[1G\u001b[0K⠹\u001b[1G\u001b[0K⠸\u001b[1G\u001b[0K⠼\u001b[1G\u001b[0K⠴\u001b[1G\u001b[0K⠦\u001b[1G\u001b[0K⠧\u001b[1G\u001b[0K⠇\u001b[1G\u001b[0K⠏\u001b[1G\u001b[0K⠋\u001b[1G\u001b[0K⠙\u001b[1G\u001b[0K\n",
            "added 5 packages in 16s\n",
            "\u001b[1G\u001b[0K⠙\u001b[1G\u001b[0K\u001b[1G\u001b[0K⠙\u001b[1G\u001b[0K⠹\u001b[1G\u001b[0K⠸\u001b[1G\u001b[0K⠼\u001b[1G\u001b[0K⠴\u001b[1G\u001b[0K⠦\u001b[1G\u001b[0K⠧\u001b[1G\u001b[0K⠇\u001b[1G\u001b[0K⠏\u001b[1G\u001b[0K⠋\u001b[1G\u001b[0K⠙\u001b[1G\u001b[0K⠹\u001b[1G\u001b[0K⠸\u001b[1G\u001b[0K\n",
            "changed 1 package in 2s\n",
            "\u001b[1G\u001b[0K⠸\u001b[1G\u001b[0K"
          ]
        }
      ]
    },
    {
      "cell_type": "code",
      "source": [
        "!bun -v"
      ],
      "metadata": {
        "colab": {
          "base_uri": "https://localhost:8080/"
        },
        "id": "S1UNnkGMpIMk",
        "outputId": "a990f16a-5849-44b9-fe43-9b5ca23f18bb"
      },
      "id": "S1UNnkGMpIMk",
      "execution_count": 1,
      "outputs": [
        {
          "output_type": "stream",
          "name": "stdout",
          "text": [
            "1.2.2\n"
          ]
        }
      ]
    },
    {
      "cell_type": "markdown",
      "source": [
        "#### Installing PythonMonkey"
      ],
      "metadata": {
        "id": "eJNyxbOUf06Z"
      },
      "id": "eJNyxbOUf06Z"
    },
    {
      "cell_type": "code",
      "source": [
        "!pip install pythonmonkey"
      ],
      "metadata": {
        "colab": {
          "base_uri": "https://localhost:8080/"
        },
        "collapsed": true,
        "id": "2xL-UgVOf6BY",
        "outputId": "6f2a2e3c-0696-477c-c71d-6180e4bc07c1"
      },
      "id": "2xL-UgVOf6BY",
      "execution_count": 3,
      "outputs": [
        {
          "output_type": "stream",
          "name": "stdout",
          "text": [
            "Collecting pythonmonkey\n",
            "  Downloading pythonmonkey-1.1.0-cp311-cp311-manylinux_2_31_x86_64.whl.metadata (22 kB)\n",
            "Requirement already satisfied: aiohttp<4.0.0,>=3.9.5 in /usr/local/lib/python3.11/dist-packages (from aiohttp[speedups]<4.0.0,>=3.9.5->pythonmonkey) (3.11.11)\n",
            "Collecting pminit>=0.4.0 (from pythonmonkey)\n",
            "  Downloading pminit-1.1.0.tar.gz (7.5 kB)\n",
            "  Installing build dependencies ... \u001b[?25l\u001b[?25hdone\n",
            "  Getting requirements to build wheel ... \u001b[?25l\u001b[?25hdone\n",
            "  Preparing metadata (pyproject.toml) ... \u001b[?25l\u001b[?25hdone\n",
            "Requirement already satisfied: aiohappyeyeballs>=2.3.0 in /usr/local/lib/python3.11/dist-packages (from aiohttp<4.0.0,>=3.9.5->aiohttp[speedups]<4.0.0,>=3.9.5->pythonmonkey) (2.4.4)\n",
            "Requirement already satisfied: aiosignal>=1.1.2 in /usr/local/lib/python3.11/dist-packages (from aiohttp<4.0.0,>=3.9.5->aiohttp[speedups]<4.0.0,>=3.9.5->pythonmonkey) (1.3.2)\n",
            "Requirement already satisfied: attrs>=17.3.0 in /usr/local/lib/python3.11/dist-packages (from aiohttp<4.0.0,>=3.9.5->aiohttp[speedups]<4.0.0,>=3.9.5->pythonmonkey) (25.1.0)\n",
            "Requirement already satisfied: frozenlist>=1.1.1 in /usr/local/lib/python3.11/dist-packages (from aiohttp<4.0.0,>=3.9.5->aiohttp[speedups]<4.0.0,>=3.9.5->pythonmonkey) (1.5.0)\n",
            "Requirement already satisfied: multidict<7.0,>=4.5 in /usr/local/lib/python3.11/dist-packages (from aiohttp<4.0.0,>=3.9.5->aiohttp[speedups]<4.0.0,>=3.9.5->pythonmonkey) (6.1.0)\n",
            "Requirement already satisfied: propcache>=0.2.0 in /usr/local/lib/python3.11/dist-packages (from aiohttp<4.0.0,>=3.9.5->aiohttp[speedups]<4.0.0,>=3.9.5->pythonmonkey) (0.2.1)\n",
            "Requirement already satisfied: yarl<2.0,>=1.17.0 in /usr/local/lib/python3.11/dist-packages (from aiohttp<4.0.0,>=3.9.5->aiohttp[speedups]<4.0.0,>=3.9.5->pythonmonkey) (1.18.3)\n",
            "Collecting aiodns>=3.2.0 (from aiohttp[speedups]<4.0.0,>=3.9.5->pythonmonkey)\n",
            "  Downloading aiodns-3.2.0-py3-none-any.whl.metadata (4.0 kB)\n",
            "Collecting Brotli (from aiohttp[speedups]<4.0.0,>=3.9.5->pythonmonkey)\n",
            "  Downloading Brotli-1.1.0-cp311-cp311-manylinux_2_17_x86_64.manylinux2014_x86_64.whl.metadata (5.5 kB)\n",
            "Collecting pycares>=4.0.0 (from aiodns>=3.2.0->aiohttp[speedups]<4.0.0,>=3.9.5->pythonmonkey)\n",
            "  Downloading pycares-4.5.0-cp311-cp311-manylinux_2_17_x86_64.manylinux2014_x86_64.whl.metadata (4.1 kB)\n",
            "Requirement already satisfied: idna>=2.0 in /usr/local/lib/python3.11/dist-packages (from yarl<2.0,>=1.17.0->aiohttp<4.0.0,>=3.9.5->aiohttp[speedups]<4.0.0,>=3.9.5->pythonmonkey) (3.10)\n",
            "Requirement already satisfied: cffi>=1.5.0 in /usr/local/lib/python3.11/dist-packages (from pycares>=4.0.0->aiodns>=3.2.0->aiohttp[speedups]<4.0.0,>=3.9.5->pythonmonkey) (1.17.1)\n",
            "Requirement already satisfied: pycparser in /usr/local/lib/python3.11/dist-packages (from cffi>=1.5.0->pycares>=4.0.0->aiodns>=3.2.0->aiohttp[speedups]<4.0.0,>=3.9.5->pythonmonkey) (2.22)\n",
            "Downloading pythonmonkey-1.1.0-cp311-cp311-manylinux_2_31_x86_64.whl (21.6 MB)\n",
            "\u001b[2K   \u001b[90m━━━━━━━━━━━━━━━━━━━━━━━━━━━━━━━━━━━━━━━━\u001b[0m \u001b[32m21.6/21.6 MB\u001b[0m \u001b[31m76.5 MB/s\u001b[0m eta \u001b[36m0:00:00\u001b[0m\n",
            "\u001b[?25hDownloading aiodns-3.2.0-py3-none-any.whl (5.7 kB)\n",
            "Downloading Brotli-1.1.0-cp311-cp311-manylinux_2_17_x86_64.manylinux2014_x86_64.whl (2.9 MB)\n",
            "\u001b[2K   \u001b[90m━━━━━━━━━━━━━━━━━━━━━━━━━━━━━━━━━━━━━━━━\u001b[0m \u001b[32m2.9/2.9 MB\u001b[0m \u001b[31m73.4 MB/s\u001b[0m eta \u001b[36m0:00:00\u001b[0m\n",
            "\u001b[?25hDownloading pycares-4.5.0-cp311-cp311-manylinux_2_17_x86_64.manylinux2014_x86_64.whl (288 kB)\n",
            "\u001b[2K   \u001b[90m━━━━━━━━━━━━━━━━━━━━━━━━━━━━━━━━━━━━━━━━\u001b[0m \u001b[32m288.6/288.6 kB\u001b[0m \u001b[31m25.5 MB/s\u001b[0m eta \u001b[36m0:00:00\u001b[0m\n",
            "\u001b[?25hBuilding wheels for collected packages: pminit\n",
            "  Building wheel for pminit (pyproject.toml) ... \u001b[?25l\u001b[?25hdone\n",
            "  Created wheel for pminit: filename=pminit-1.1.0-cp311-cp311-manylinux_2_35_x86_64.whl size=2127649 sha256=ed91d46baa2c3629c4dc2a35a3fcd3a1bf6feea709ff03298382244ea3bb0fb7\n",
            "  Stored in directory: /root/.cache/pip/wheels/64/5e/39/2de4476a583c81bbfb9ff2d5dc85aa207866eb1960b06775d7\n",
            "Successfully built pminit\n",
            "Installing collected packages: Brotli, pminit, pycares, aiodns, pythonmonkey\n",
            "Successfully installed Brotli-1.1.0 aiodns-3.2.0 pminit-1.1.0 pycares-4.5.0 pythonmonkey-1.1.0\n"
          ]
        }
      ]
    },
    {
      "cell_type": "markdown",
      "source": [
        "#### Installing Huggingface libraries and Unsloth"
      ],
      "metadata": {
        "id": "Gg8rNPQ122uw"
      },
      "id": "Gg8rNPQ122uw"
    },
    {
      "cell_type": "code",
      "source": [
        "!pip install --quiet datasets evaluate bitsandbytes unsloth"
      ],
      "metadata": {
        "collapsed": true,
        "colab": {
          "base_uri": "https://localhost:8080/",
          "height": 1000
        },
        "id": "ZLalOx4-25Im",
        "outputId": "2e15be8a-e669-4201-bec4-70afba448e9e"
      },
      "id": "ZLalOx4-25Im",
      "execution_count": 23,
      "outputs": [
        {
          "output_type": "stream",
          "name": "stdout",
          "text": [
            "Requirement already satisfied: datasets in /usr/local/lib/python3.11/dist-packages (3.2.0)\n",
            "Requirement already satisfied: evaluate in /usr/local/lib/python3.11/dist-packages (0.4.3)\n",
            "Collecting bitsandbytes\n",
            "  Downloading bitsandbytes-0.45.2-py3-none-manylinux_2_24_x86_64.whl.metadata (5.8 kB)\n",
            "Collecting unsloth\n",
            "  Downloading unsloth-2025.2.5-py3-none-any.whl.metadata (57 kB)\n",
            "\u001b[2K     \u001b[90m━━━━━━━━━━━━━━━━━━━━━━━━━━━━━━━━━━━━━━━━\u001b[0m \u001b[32m57.4/57.4 kB\u001b[0m \u001b[31m3.6 MB/s\u001b[0m eta \u001b[36m0:00:00\u001b[0m\n",
            "\u001b[?25hRequirement already satisfied: filelock in /usr/local/lib/python3.11/dist-packages (from datasets) (3.17.0)\n",
            "Requirement already satisfied: numpy>=1.17 in /usr/local/lib/python3.11/dist-packages (from datasets) (1.26.4)\n",
            "Requirement already satisfied: pyarrow>=15.0.0 in /usr/local/lib/python3.11/dist-packages (from datasets) (17.0.0)\n",
            "Requirement already satisfied: dill<0.3.9,>=0.3.0 in /usr/local/lib/python3.11/dist-packages (from datasets) (0.3.8)\n",
            "Requirement already satisfied: pandas in /usr/local/lib/python3.11/dist-packages (from datasets) (2.2.2)\n",
            "Requirement already satisfied: requests>=2.32.2 in /usr/local/lib/python3.11/dist-packages (from datasets) (2.32.3)\n",
            "Requirement already satisfied: tqdm>=4.66.3 in /usr/local/lib/python3.11/dist-packages (from datasets) (4.67.1)\n",
            "Requirement already satisfied: xxhash in /usr/local/lib/python3.11/dist-packages (from datasets) (3.5.0)\n",
            "Requirement already satisfied: multiprocess<0.70.17 in /usr/local/lib/python3.11/dist-packages (from datasets) (0.70.16)\n",
            "Requirement already satisfied: fsspec<=2024.9.0,>=2023.1.0 in /usr/local/lib/python3.11/dist-packages (from fsspec[http]<=2024.9.0,>=2023.1.0->datasets) (2024.9.0)\n",
            "Requirement already satisfied: aiohttp in /usr/local/lib/python3.11/dist-packages (from datasets) (3.11.11)\n",
            "Requirement already satisfied: huggingface-hub>=0.23.0 in /usr/local/lib/python3.11/dist-packages (from datasets) (0.28.1)\n",
            "Requirement already satisfied: packaging in /usr/local/lib/python3.11/dist-packages (from datasets) (24.2)\n",
            "Requirement already satisfied: pyyaml>=5.1 in /usr/local/lib/python3.11/dist-packages (from datasets) (6.0.2)\n",
            "Requirement already satisfied: torch<3,>=2.0 in /usr/local/lib/python3.11/dist-packages (from bitsandbytes) (2.5.1+cu124)\n",
            "Collecting unsloth_zoo>=2025.2.3 (from unsloth)\n",
            "  Downloading unsloth_zoo-2025.2.3-py3-none-any.whl.metadata (16 kB)\n",
            "Collecting xformers>=0.0.27.post2 (from unsloth)\n",
            "  Downloading xformers-0.0.29.post2-cp311-cp311-manylinux_2_28_x86_64.whl.metadata (1.0 kB)\n",
            "Requirement already satisfied: triton>=3.0.0 in /usr/local/lib/python3.11/dist-packages (from unsloth) (3.1.0)\n",
            "Collecting tyro (from unsloth)\n",
            "  Downloading tyro-0.9.13-py3-none-any.whl.metadata (9.4 kB)\n",
            "Requirement already satisfied: transformers!=4.47.0,>=4.46.1 in /usr/local/lib/python3.11/dist-packages (from unsloth) (4.48.2)\n",
            "Requirement already satisfied: sentencepiece>=0.2.0 in /usr/local/lib/python3.11/dist-packages (from unsloth) (0.2.0)\n",
            "Requirement already satisfied: psutil in /usr/local/lib/python3.11/dist-packages (from unsloth) (5.9.5)\n",
            "Requirement already satisfied: wheel>=0.42.0 in /usr/local/lib/python3.11/dist-packages (from unsloth) (0.45.1)\n",
            "Requirement already satisfied: accelerate>=0.34.1 in /usr/local/lib/python3.11/dist-packages (from unsloth) (1.3.0)\n",
            "Collecting trl!=0.9.0,!=0.9.1,!=0.9.2,!=0.9.3,>=0.7.9 (from unsloth)\n",
            "  Downloading trl-0.14.0-py3-none-any.whl.metadata (12 kB)\n",
            "Requirement already satisfied: peft!=0.11.0,>=0.7.1 in /usr/local/lib/python3.11/dist-packages (from unsloth) (0.14.0)\n",
            "Collecting protobuf<4.0.0 (from unsloth)\n",
            "  Downloading protobuf-3.20.3-py2.py3-none-any.whl.metadata (720 bytes)\n",
            "Collecting hf_transfer (from unsloth)\n",
            "  Downloading hf_transfer-0.1.9-cp38-abi3-manylinux_2_17_x86_64.manylinux2014_x86_64.whl.metadata (1.7 kB)\n",
            "Requirement already satisfied: diffusers in /usr/local/lib/python3.11/dist-packages (from unsloth) (0.32.2)\n",
            "Requirement already satisfied: torchvision in /usr/local/lib/python3.11/dist-packages (from unsloth) (0.20.1+cu124)\n",
            "Requirement already satisfied: safetensors>=0.4.3 in /usr/local/lib/python3.11/dist-packages (from accelerate>=0.34.1->unsloth) (0.5.2)\n",
            "Requirement already satisfied: aiohappyeyeballs>=2.3.0 in /usr/local/lib/python3.11/dist-packages (from aiohttp->datasets) (2.4.4)\n",
            "Requirement already satisfied: aiosignal>=1.1.2 in /usr/local/lib/python3.11/dist-packages (from aiohttp->datasets) (1.3.2)\n",
            "Requirement already satisfied: attrs>=17.3.0 in /usr/local/lib/python3.11/dist-packages (from aiohttp->datasets) (25.1.0)\n",
            "Requirement already satisfied: frozenlist>=1.1.1 in /usr/local/lib/python3.11/dist-packages (from aiohttp->datasets) (1.5.0)\n",
            "Requirement already satisfied: multidict<7.0,>=4.5 in /usr/local/lib/python3.11/dist-packages (from aiohttp->datasets) (6.1.0)\n",
            "Requirement already satisfied: propcache>=0.2.0 in /usr/local/lib/python3.11/dist-packages (from aiohttp->datasets) (0.2.1)\n",
            "Requirement already satisfied: yarl<2.0,>=1.17.0 in /usr/local/lib/python3.11/dist-packages (from aiohttp->datasets) (1.18.3)\n",
            "Requirement already satisfied: typing-extensions>=3.7.4.3 in /usr/local/lib/python3.11/dist-packages (from huggingface-hub>=0.23.0->datasets) (4.12.2)\n",
            "Requirement already satisfied: charset-normalizer<4,>=2 in /usr/local/lib/python3.11/dist-packages (from requests>=2.32.2->datasets) (3.4.1)\n",
            "Requirement already satisfied: idna<4,>=2.5 in /usr/local/lib/python3.11/dist-packages (from requests>=2.32.2->datasets) (3.10)\n",
            "Requirement already satisfied: urllib3<3,>=1.21.1 in /usr/local/lib/python3.11/dist-packages (from requests>=2.32.2->datasets) (2.3.0)\n",
            "Requirement already satisfied: certifi>=2017.4.17 in /usr/local/lib/python3.11/dist-packages (from requests>=2.32.2->datasets) (2025.1.31)\n",
            "Requirement already satisfied: networkx in /usr/local/lib/python3.11/dist-packages (from torch<3,>=2.0->bitsandbytes) (3.4.2)\n",
            "Requirement already satisfied: jinja2 in /usr/local/lib/python3.11/dist-packages (from torch<3,>=2.0->bitsandbytes) (3.1.5)\n",
            "Collecting nvidia-cuda-nvrtc-cu12==12.4.127 (from torch<3,>=2.0->bitsandbytes)\n",
            "  Downloading nvidia_cuda_nvrtc_cu12-12.4.127-py3-none-manylinux2014_x86_64.whl.metadata (1.5 kB)\n",
            "Collecting nvidia-cuda-runtime-cu12==12.4.127 (from torch<3,>=2.0->bitsandbytes)\n",
            "  Downloading nvidia_cuda_runtime_cu12-12.4.127-py3-none-manylinux2014_x86_64.whl.metadata (1.5 kB)\n",
            "Collecting nvidia-cuda-cupti-cu12==12.4.127 (from torch<3,>=2.0->bitsandbytes)\n",
            "  Downloading nvidia_cuda_cupti_cu12-12.4.127-py3-none-manylinux2014_x86_64.whl.metadata (1.6 kB)\n",
            "Collecting nvidia-cudnn-cu12==9.1.0.70 (from torch<3,>=2.0->bitsandbytes)\n",
            "  Downloading nvidia_cudnn_cu12-9.1.0.70-py3-none-manylinux2014_x86_64.whl.metadata (1.6 kB)\n",
            "Collecting nvidia-cublas-cu12==12.4.5.8 (from torch<3,>=2.0->bitsandbytes)\n",
            "  Downloading nvidia_cublas_cu12-12.4.5.8-py3-none-manylinux2014_x86_64.whl.metadata (1.5 kB)\n",
            "Collecting nvidia-cufft-cu12==11.2.1.3 (from torch<3,>=2.0->bitsandbytes)\n",
            "  Downloading nvidia_cufft_cu12-11.2.1.3-py3-none-manylinux2014_x86_64.whl.metadata (1.5 kB)\n",
            "Collecting nvidia-curand-cu12==10.3.5.147 (from torch<3,>=2.0->bitsandbytes)\n",
            "  Downloading nvidia_curand_cu12-10.3.5.147-py3-none-manylinux2014_x86_64.whl.metadata (1.5 kB)\n",
            "Collecting nvidia-cusolver-cu12==11.6.1.9 (from torch<3,>=2.0->bitsandbytes)\n",
            "  Downloading nvidia_cusolver_cu12-11.6.1.9-py3-none-manylinux2014_x86_64.whl.metadata (1.6 kB)\n",
            "Collecting nvidia-cusparse-cu12==12.3.1.170 (from torch<3,>=2.0->bitsandbytes)\n",
            "  Downloading nvidia_cusparse_cu12-12.3.1.170-py3-none-manylinux2014_x86_64.whl.metadata (1.6 kB)\n",
            "Requirement already satisfied: nvidia-nccl-cu12==2.21.5 in /usr/local/lib/python3.11/dist-packages (from torch<3,>=2.0->bitsandbytes) (2.21.5)\n",
            "Requirement already satisfied: nvidia-nvtx-cu12==12.4.127 in /usr/local/lib/python3.11/dist-packages (from torch<3,>=2.0->bitsandbytes) (12.4.127)\n",
            "Collecting nvidia-nvjitlink-cu12==12.4.127 (from torch<3,>=2.0->bitsandbytes)\n",
            "  Downloading nvidia_nvjitlink_cu12-12.4.127-py3-none-manylinux2014_x86_64.whl.metadata (1.5 kB)\n",
            "Requirement already satisfied: sympy==1.13.1 in /usr/local/lib/python3.11/dist-packages (from torch<3,>=2.0->bitsandbytes) (1.13.1)\n",
            "Requirement already satisfied: mpmath<1.4,>=1.1.0 in /usr/local/lib/python3.11/dist-packages (from sympy==1.13.1->torch<3,>=2.0->bitsandbytes) (1.3.0)\n",
            "Requirement already satisfied: regex!=2019.12.17 in /usr/local/lib/python3.11/dist-packages (from transformers!=4.47.0,>=4.46.1->unsloth) (2024.11.6)\n",
            "Requirement already satisfied: tokenizers<0.22,>=0.21 in /usr/local/lib/python3.11/dist-packages (from transformers!=4.47.0,>=4.46.1->unsloth) (0.21.0)\n",
            "Requirement already satisfied: rich in /usr/local/lib/python3.11/dist-packages (from trl!=0.9.0,!=0.9.1,!=0.9.2,!=0.9.3,>=0.7.9->unsloth) (13.9.4)\n",
            "Collecting cut_cross_entropy (from unsloth_zoo>=2025.2.3->unsloth)\n",
            "  Downloading cut_cross_entropy-25.1.1-py3-none-any.whl.metadata (9.3 kB)\n",
            "Requirement already satisfied: pillow in /usr/local/lib/python3.11/dist-packages (from unsloth_zoo>=2025.2.3->unsloth) (11.1.0)\n",
            "Collecting torch<3,>=2.0 (from bitsandbytes)\n",
            "  Downloading torch-2.6.0-cp311-cp311-manylinux1_x86_64.whl.metadata (28 kB)\n",
            "Collecting nvidia-cusparselt-cu12==0.6.2 (from torch<3,>=2.0->bitsandbytes)\n",
            "  Downloading nvidia_cusparselt_cu12-0.6.2-py3-none-manylinux2014_x86_64.whl.metadata (6.8 kB)\n",
            "Collecting triton>=3.0.0 (from unsloth)\n",
            "  Downloading triton-3.2.0-cp311-cp311-manylinux_2_17_x86_64.manylinux2014_x86_64.whl.metadata (1.4 kB)\n",
            "Requirement already satisfied: importlib-metadata in /usr/local/lib/python3.11/dist-packages (from diffusers->unsloth) (8.6.1)\n",
            "Requirement already satisfied: python-dateutil>=2.8.2 in /usr/local/lib/python3.11/dist-packages (from pandas->datasets) (2.8.2)\n",
            "Requirement already satisfied: pytz>=2020.1 in /usr/local/lib/python3.11/dist-packages (from pandas->datasets) (2025.1)\n",
            "Requirement already satisfied: tzdata>=2022.7 in /usr/local/lib/python3.11/dist-packages (from pandas->datasets) (2025.1)\n",
            "INFO: pip is looking at multiple versions of torchvision to determine which version is compatible with other requirements. This could take a while.\n",
            "Collecting torchvision (from unsloth)\n",
            "  Downloading torchvision-0.21.0-cp311-cp311-manylinux1_x86_64.whl.metadata (6.1 kB)\n",
            "Requirement already satisfied: docstring-parser>=0.15 in /usr/local/lib/python3.11/dist-packages (from tyro->unsloth) (0.16)\n",
            "Collecting shtab>=1.5.6 (from tyro->unsloth)\n",
            "  Downloading shtab-1.7.1-py3-none-any.whl.metadata (7.3 kB)\n",
            "Requirement already satisfied: typeguard>=4.0.0 in /usr/local/lib/python3.11/dist-packages (from tyro->unsloth) (4.4.1)\n",
            "Requirement already satisfied: six>=1.5 in /usr/local/lib/python3.11/dist-packages (from python-dateutil>=2.8.2->pandas->datasets) (1.17.0)\n",
            "Requirement already satisfied: markdown-it-py>=2.2.0 in /usr/local/lib/python3.11/dist-packages (from rich->trl!=0.9.0,!=0.9.1,!=0.9.2,!=0.9.3,>=0.7.9->unsloth) (3.0.0)\n",
            "Requirement already satisfied: pygments<3.0.0,>=2.13.0 in /usr/local/lib/python3.11/dist-packages (from rich->trl!=0.9.0,!=0.9.1,!=0.9.2,!=0.9.3,>=0.7.9->unsloth) (2.18.0)\n",
            "Requirement already satisfied: zipp>=3.20 in /usr/local/lib/python3.11/dist-packages (from importlib-metadata->diffusers->unsloth) (3.21.0)\n",
            "Requirement already satisfied: MarkupSafe>=2.0 in /usr/local/lib/python3.11/dist-packages (from jinja2->torch<3,>=2.0->bitsandbytes) (3.0.2)\n",
            "Requirement already satisfied: mdurl~=0.1 in /usr/local/lib/python3.11/dist-packages (from markdown-it-py>=2.2.0->rich->trl!=0.9.0,!=0.9.1,!=0.9.2,!=0.9.3,>=0.7.9->unsloth) (0.1.2)\n",
            "Downloading bitsandbytes-0.45.2-py3-none-manylinux_2_24_x86_64.whl (69.7 MB)\n",
            "\u001b[2K   \u001b[90m━━━━━━━━━━━━━━━━━━━━━━━━━━━━━━━━━━━━━━━━\u001b[0m \u001b[32m69.7/69.7 MB\u001b[0m \u001b[31m14.2 MB/s\u001b[0m eta \u001b[36m0:00:00\u001b[0m\n",
            "\u001b[?25hDownloading unsloth-2025.2.5-py3-none-any.whl (181 kB)\n",
            "\u001b[2K   \u001b[90m━━━━━━━━━━━━━━━━━━━━━━━━━━━━━━━━━━━━━━━━\u001b[0m \u001b[32m181.2/181.2 kB\u001b[0m \u001b[31m17.1 MB/s\u001b[0m eta \u001b[36m0:00:00\u001b[0m\n",
            "\u001b[?25hDownloading protobuf-3.20.3-py2.py3-none-any.whl (162 kB)\n",
            "\u001b[2K   \u001b[90m━━━━━━━━━━━━━━━━━━━━━━━━━━━━━━━━━━━━━━━━\u001b[0m \u001b[32m162.1/162.1 kB\u001b[0m \u001b[31m17.8 MB/s\u001b[0m eta \u001b[36m0:00:00\u001b[0m\n",
            "\u001b[?25hDownloading nvidia_cublas_cu12-12.4.5.8-py3-none-manylinux2014_x86_64.whl (363.4 MB)\n",
            "\u001b[2K   \u001b[90m━━━━━━━━━━━━━━━━━━━━━━━━━━━━━━━━━━━━━━━━\u001b[0m \u001b[32m363.4/363.4 MB\u001b[0m \u001b[31m1.3 MB/s\u001b[0m eta \u001b[36m0:00:00\u001b[0m\n",
            "\u001b[?25hDownloading nvidia_cuda_cupti_cu12-12.4.127-py3-none-manylinux2014_x86_64.whl (13.8 MB)\n",
            "\u001b[2K   \u001b[90m━━━━━━━━━━━━━━━━━━━━━━━━━━━━━━━━━━━━━━━━\u001b[0m \u001b[32m13.8/13.8 MB\u001b[0m \u001b[31m112.5 MB/s\u001b[0m eta \u001b[36m0:00:00\u001b[0m\n",
            "\u001b[?25hDownloading nvidia_cuda_nvrtc_cu12-12.4.127-py3-none-manylinux2014_x86_64.whl (24.6 MB)\n",
            "\u001b[2K   \u001b[90m━━━━━━━━━━━━━━━━━━━━━━━━━━━━━━━━━━━━━━━━\u001b[0m \u001b[32m24.6/24.6 MB\u001b[0m \u001b[31m87.4 MB/s\u001b[0m eta \u001b[36m0:00:00\u001b[0m\n",
            "\u001b[?25hDownloading nvidia_cuda_runtime_cu12-12.4.127-py3-none-manylinux2014_x86_64.whl (883 kB)\n",
            "\u001b[2K   \u001b[90m━━━━━━━━━━━━━━━━━━━━━━━━━━━━━━━━━━━━━━━━\u001b[0m \u001b[32m883.7/883.7 kB\u001b[0m \u001b[31m53.6 MB/s\u001b[0m eta \u001b[36m0:00:00\u001b[0m\n",
            "\u001b[?25hDownloading nvidia_cudnn_cu12-9.1.0.70-py3-none-manylinux2014_x86_64.whl (664.8 MB)\n",
            "\u001b[2K   \u001b[90m━━━━━━━━━━━━━━━━━━━━━━━━━━━━━━━━━━━━━━━━\u001b[0m \u001b[32m664.8/664.8 MB\u001b[0m \u001b[31m2.8 MB/s\u001b[0m eta \u001b[36m0:00:00\u001b[0m\n",
            "\u001b[?25hDownloading nvidia_cufft_cu12-11.2.1.3-py3-none-manylinux2014_x86_64.whl (211.5 MB)\n",
            "\u001b[2K   \u001b[90m━━━━━━━━━━━━━━━━━━━━━━━━━━━━━━━━━━━━━━━━\u001b[0m \u001b[32m211.5/211.5 MB\u001b[0m \u001b[31m5.7 MB/s\u001b[0m eta \u001b[36m0:00:00\u001b[0m\n",
            "\u001b[?25hDownloading nvidia_curand_cu12-10.3.5.147-py3-none-manylinux2014_x86_64.whl (56.3 MB)\n",
            "\u001b[2K   \u001b[90m━━━━━━━━━━━━━━━━━━━━━━━━━━━━━━━━━━━━━━━━\u001b[0m \u001b[32m56.3/56.3 MB\u001b[0m \u001b[31m14.3 MB/s\u001b[0m eta \u001b[36m0:00:00\u001b[0m\n",
            "\u001b[?25hDownloading nvidia_cusolver_cu12-11.6.1.9-py3-none-manylinux2014_x86_64.whl (127.9 MB)\n",
            "\u001b[2K   \u001b[90m━━━━━━━━━━━━━━━━━━━━━━━━━━━━━━━━━━━━━━━━\u001b[0m \u001b[32m127.9/127.9 MB\u001b[0m \u001b[31m8.0 MB/s\u001b[0m eta \u001b[36m0:00:00\u001b[0m\n",
            "\u001b[?25hDownloading nvidia_cusparse_cu12-12.3.1.170-py3-none-manylinux2014_x86_64.whl (207.5 MB)\n",
            "\u001b[2K   \u001b[90m━━━━━━━━━━━━━━━━━━━━━━━━━━━━━━━━━━━━━━━━\u001b[0m \u001b[32m207.5/207.5 MB\u001b[0m \u001b[31m6.2 MB/s\u001b[0m eta \u001b[36m0:00:00\u001b[0m\n",
            "\u001b[?25hDownloading nvidia_nvjitlink_cu12-12.4.127-py3-none-manylinux2014_x86_64.whl (21.1 MB)\n",
            "\u001b[2K   \u001b[90m━━━━━━━━━━━━━━━━━━━━━━━━━━━━━━━━━━━━━━━━\u001b[0m \u001b[32m21.1/21.1 MB\u001b[0m \u001b[31m66.3 MB/s\u001b[0m eta \u001b[36m0:00:00\u001b[0m\n",
            "\u001b[?25hDownloading trl-0.14.0-py3-none-any.whl (313 kB)\n",
            "\u001b[2K   \u001b[90m━━━━━━━━━━━━━━━━━━━━━━━━━━━━━━━━━━━━━━━━\u001b[0m \u001b[32m313.9/313.9 kB\u001b[0m \u001b[31m25.2 MB/s\u001b[0m eta \u001b[36m0:00:00\u001b[0m\n",
            "\u001b[?25hDownloading unsloth_zoo-2025.2.3-py3-none-any.whl (99 kB)\n",
            "\u001b[2K   \u001b[90m━━━━━━━━━━━━━━━━━━━━━━━━━━━━━━━━━━━━━━━━\u001b[0m \u001b[32m99.2/99.2 kB\u001b[0m \u001b[31m7.7 MB/s\u001b[0m eta \u001b[36m0:00:00\u001b[0m\n",
            "\u001b[?25hDownloading xformers-0.0.29.post2-cp311-cp311-manylinux_2_28_x86_64.whl (44.3 MB)\n",
            "\u001b[2K   \u001b[90m━━━━━━━━━━━━━━━━━━━━━━━━━━━━━━━━━━━━━━━━\u001b[0m \u001b[32m44.3/44.3 MB\u001b[0m \u001b[31m14.1 MB/s\u001b[0m eta \u001b[36m0:00:00\u001b[0m\n",
            "\u001b[?25hDownloading torch-2.6.0-cp311-cp311-manylinux1_x86_64.whl (766.7 MB)\n",
            "\u001b[2K   \u001b[90m━━━━━━━━━━━━━━━━━━━━━━━━━━━━━━━━━━━━━━━━\u001b[0m \u001b[32m766.7/766.7 MB\u001b[0m \u001b[31m2.5 MB/s\u001b[0m eta \u001b[36m0:00:00\u001b[0m\n",
            "\u001b[?25hDownloading triton-3.2.0-cp311-cp311-manylinux_2_17_x86_64.manylinux2014_x86_64.whl (253.2 MB)\n",
            "\u001b[2K   \u001b[90m━━━━━━━━━━━━━━━━━━━━━━━━━━━━━━━━━━━━━━━━\u001b[0m \u001b[32m253.2/253.2 MB\u001b[0m \u001b[31m4.2 MB/s\u001b[0m eta \u001b[36m0:00:00\u001b[0m\n",
            "\u001b[?25hDownloading nvidia_cusparselt_cu12-0.6.2-py3-none-manylinux2014_x86_64.whl (150.1 MB)\n",
            "\u001b[2K   \u001b[90m━━━━━━━━━━━━━━━━━━━━━━━━━━━━━━━━━━━━━━━━\u001b[0m \u001b[32m150.1/150.1 MB\u001b[0m \u001b[31m7.3 MB/s\u001b[0m eta \u001b[36m0:00:00\u001b[0m\n",
            "\u001b[?25hDownloading hf_transfer-0.1.9-cp38-abi3-manylinux_2_17_x86_64.manylinux2014_x86_64.whl (3.6 MB)\n",
            "\u001b[2K   \u001b[90m━━━━━━━━━━━━━━━━━━━━━━━━━━━━━━━━━━━━━━━━\u001b[0m \u001b[32m3.6/3.6 MB\u001b[0m \u001b[31m102.1 MB/s\u001b[0m eta \u001b[36m0:00:00\u001b[0m\n",
            "\u001b[?25hDownloading torchvision-0.21.0-cp311-cp311-manylinux1_x86_64.whl (7.2 MB)\n",
            "\u001b[2K   \u001b[90m━━━━━━━━━━━━━━━━━━━━━━━━━━━━━━━━━━━━━━━━\u001b[0m \u001b[32m7.2/7.2 MB\u001b[0m \u001b[31m118.6 MB/s\u001b[0m eta \u001b[36m0:00:00\u001b[0m\n",
            "\u001b[?25hDownloading tyro-0.9.13-py3-none-any.whl (115 kB)\n",
            "\u001b[2K   \u001b[90m━━━━━━━━━━━━━━━━━━━━━━━━━━━━━━━━━━━━━━━━\u001b[0m \u001b[32m115.7/115.7 kB\u001b[0m \u001b[31m11.2 MB/s\u001b[0m eta \u001b[36m0:00:00\u001b[0m\n",
            "\u001b[?25hDownloading shtab-1.7.1-py3-none-any.whl (14 kB)\n",
            "Downloading cut_cross_entropy-25.1.1-py3-none-any.whl (22 kB)\n",
            "Installing collected packages: triton, nvidia-cusparselt-cu12, shtab, protobuf, nvidia-nvjitlink-cu12, nvidia-curand-cu12, nvidia-cufft-cu12, nvidia-cuda-runtime-cu12, nvidia-cuda-nvrtc-cu12, nvidia-cuda-cupti-cu12, nvidia-cublas-cu12, hf_transfer, nvidia-cusparse-cu12, nvidia-cudnn-cu12, tyro, nvidia-cusolver-cu12, torch, xformers, torchvision, cut_cross_entropy, bitsandbytes, trl, unsloth_zoo, unsloth\n",
            "  Attempting uninstall: triton\n",
            "    Found existing installation: triton 3.1.0\n",
            "    Uninstalling triton-3.1.0:\n",
            "      Successfully uninstalled triton-3.1.0\n",
            "  Attempting uninstall: protobuf\n",
            "    Found existing installation: protobuf 4.25.6\n",
            "    Uninstalling protobuf-4.25.6:\n",
            "      Successfully uninstalled protobuf-4.25.6\n",
            "  Attempting uninstall: nvidia-nvjitlink-cu12\n",
            "    Found existing installation: nvidia-nvjitlink-cu12 12.5.82\n",
            "    Uninstalling nvidia-nvjitlink-cu12-12.5.82:\n",
            "      Successfully uninstalled nvidia-nvjitlink-cu12-12.5.82\n",
            "  Attempting uninstall: nvidia-curand-cu12\n",
            "    Found existing installation: nvidia-curand-cu12 10.3.6.82\n",
            "    Uninstalling nvidia-curand-cu12-10.3.6.82:\n",
            "      Successfully uninstalled nvidia-curand-cu12-10.3.6.82\n",
            "  Attempting uninstall: nvidia-cufft-cu12\n",
            "    Found existing installation: nvidia-cufft-cu12 11.2.3.61\n",
            "    Uninstalling nvidia-cufft-cu12-11.2.3.61:\n",
            "      Successfully uninstalled nvidia-cufft-cu12-11.2.3.61\n",
            "  Attempting uninstall: nvidia-cuda-runtime-cu12\n",
            "    Found existing installation: nvidia-cuda-runtime-cu12 12.5.82\n",
            "    Uninstalling nvidia-cuda-runtime-cu12-12.5.82:\n",
            "      Successfully uninstalled nvidia-cuda-runtime-cu12-12.5.82\n",
            "  Attempting uninstall: nvidia-cuda-nvrtc-cu12\n",
            "    Found existing installation: nvidia-cuda-nvrtc-cu12 12.5.82\n",
            "    Uninstalling nvidia-cuda-nvrtc-cu12-12.5.82:\n",
            "      Successfully uninstalled nvidia-cuda-nvrtc-cu12-12.5.82\n",
            "  Attempting uninstall: nvidia-cuda-cupti-cu12\n",
            "    Found existing installation: nvidia-cuda-cupti-cu12 12.5.82\n",
            "    Uninstalling nvidia-cuda-cupti-cu12-12.5.82:\n",
            "      Successfully uninstalled nvidia-cuda-cupti-cu12-12.5.82\n",
            "  Attempting uninstall: nvidia-cublas-cu12\n",
            "    Found existing installation: nvidia-cublas-cu12 12.5.3.2\n",
            "    Uninstalling nvidia-cublas-cu12-12.5.3.2:\n",
            "      Successfully uninstalled nvidia-cublas-cu12-12.5.3.2\n",
            "  Attempting uninstall: nvidia-cusparse-cu12\n",
            "    Found existing installation: nvidia-cusparse-cu12 12.5.1.3\n",
            "    Uninstalling nvidia-cusparse-cu12-12.5.1.3:\n",
            "      Successfully uninstalled nvidia-cusparse-cu12-12.5.1.3\n",
            "  Attempting uninstall: nvidia-cudnn-cu12\n",
            "    Found existing installation: nvidia-cudnn-cu12 9.3.0.75\n",
            "    Uninstalling nvidia-cudnn-cu12-9.3.0.75:\n",
            "      Successfully uninstalled nvidia-cudnn-cu12-9.3.0.75\n",
            "  Attempting uninstall: nvidia-cusolver-cu12\n",
            "    Found existing installation: nvidia-cusolver-cu12 11.6.3.83\n",
            "    Uninstalling nvidia-cusolver-cu12-11.6.3.83:\n",
            "      Successfully uninstalled nvidia-cusolver-cu12-11.6.3.83\n",
            "  Attempting uninstall: torch\n",
            "    Found existing installation: torch 2.5.1+cu124\n",
            "    Uninstalling torch-2.5.1+cu124:\n",
            "      Successfully uninstalled torch-2.5.1+cu124\n",
            "  Attempting uninstall: torchvision\n",
            "    Found existing installation: torchvision 0.20.1+cu124\n",
            "    Uninstalling torchvision-0.20.1+cu124:\n",
            "      Successfully uninstalled torchvision-0.20.1+cu124\n",
            "\u001b[31mERROR: pip's dependency resolver does not currently take into account all the packages that are installed. This behaviour is the source of the following dependency conflicts.\n",
            "tensorflow-metadata 1.16.1 requires protobuf<6.0.0dev,>=4.25.2; python_version >= \"3.11\", but you have protobuf 3.20.3 which is incompatible.\n",
            "torchaudio 2.5.1+cu124 requires torch==2.5.1, but you have torch 2.6.0 which is incompatible.\n",
            "fastai 2.7.18 requires torch<2.6,>=1.10, but you have torch 2.6.0 which is incompatible.\n",
            "grpcio-status 1.62.3 requires protobuf>=4.21.6, but you have protobuf 3.20.3 which is incompatible.\u001b[0m\u001b[31m\n",
            "\u001b[0mSuccessfully installed bitsandbytes-0.45.2 cut_cross_entropy-25.1.1 hf_transfer-0.1.9 nvidia-cublas-cu12-12.4.5.8 nvidia-cuda-cupti-cu12-12.4.127 nvidia-cuda-nvrtc-cu12-12.4.127 nvidia-cuda-runtime-cu12-12.4.127 nvidia-cudnn-cu12-9.1.0.70 nvidia-cufft-cu12-11.2.1.3 nvidia-curand-cu12-10.3.5.147 nvidia-cusolver-cu12-11.6.1.9 nvidia-cusparse-cu12-12.3.1.170 nvidia-cusparselt-cu12-0.6.2 nvidia-nvjitlink-cu12-12.4.127 protobuf-3.20.3 shtab-1.7.1 torch-2.6.0 torchvision-0.21.0 triton-3.2.0 trl-0.14.0 tyro-0.9.13 unsloth-2025.2.5 unsloth_zoo-2025.2.3 xformers-0.0.29.post2\n"
          ]
        },
        {
          "output_type": "display_data",
          "data": {
            "application/vnd.colab-display-data+json": {
              "pip_warning": {
                "packages": [
                  "google",
                  "torch",
                  "torchgen",
                  "torchvision",
                  "triton"
                ]
              },
              "id": "2cbc9af50d784103a42a2bf7ac77a07f"
            }
          },
          "metadata": {}
        }
      ]
    },
    {
      "cell_type": "markdown",
      "source": [
        "#### Clone the repo"
      ],
      "metadata": {
        "id": "cBeWGXlGpfsD"
      },
      "id": "cBeWGXlGpfsD"
    },
    {
      "cell_type": "code",
      "source": [
        "!rm -rf Form-Lang"
      ],
      "metadata": {
        "id": "b59psKFItLqX"
      },
      "id": "b59psKFItLqX",
      "execution_count": 5,
      "outputs": []
    },
    {
      "cell_type": "code",
      "source": [
        "!git clone -b react_compiler https://github.com/guyo13/Form-Lang.git"
      ],
      "metadata": {
        "colab": {
          "base_uri": "https://localhost:8080/"
        },
        "collapsed": true,
        "id": "XuvuEliefRsv",
        "outputId": "0573b6b3-da4b-43d5-dc0f-45d15c5b0d14"
      },
      "id": "XuvuEliefRsv",
      "execution_count": 6,
      "outputs": [
        {
          "output_type": "stream",
          "name": "stdout",
          "text": [
            "Cloning into 'Form-Lang'...\n",
            "remote: Enumerating objects: 619, done.\u001b[K\n",
            "remote: Counting objects: 100% (39/39), done.\u001b[K\n",
            "remote: Compressing objects: 100% (32/32), done.\u001b[K\n",
            "remote: Total 619 (delta 28), reused 7 (delta 7), pack-reused 580 (from 1)\u001b[K\n",
            "Receiving objects: 100% (619/619), 513.32 KiB | 1.90 MiB/s, done.\n",
            "Resolving deltas: 100% (391/391), done.\n"
          ]
        }
      ]
    },
    {
      "cell_type": "markdown",
      "source": [
        "#### Install project dependencies and build"
      ],
      "metadata": {
        "id": "77JM8W54prfR"
      },
      "id": "77JM8W54prfR"
    },
    {
      "cell_type": "code",
      "source": [
        "!cd Form-Lang && corepack install && corepack pnpm install && corepack pnpm run gb"
      ],
      "metadata": {
        "colab": {
          "base_uri": "https://localhost:8080/"
        },
        "collapsed": true,
        "id": "qCmTdtwfpvXu",
        "outputId": "84d76d1e-19f1-426d-90f9-3e74e50e94e0"
      },
      "id": "qCmTdtwfpvXu",
      "execution_count": 7,
      "outputs": [
        {
          "output_type": "stream",
          "name": "stdout",
          "text": [
            "Adding pnpm@10.0.0+sha512.b8fef5494bd3fe4cbd4edabd0745df2ee5be3e4b0b8b08fa643aa3e4c6702ccc0f00d68fa8a8c9858a735a0032485a44990ed2810526c875e416f001b17df12b to the cache...\n",
            "Lockfile is up to date, resolution step is skipped\n",
            "Progress: resolved \u001b[96m1\u001b[39m, reused \u001b[96m0\u001b[39m, downloaded \u001b[96m0\u001b[39m, added \u001b[96m0\u001b[39m\n",
            "\u001b[1APackages: \u001b[32m+502\u001b[39m\u001b[0K\n",
            "\n",
            "Progress: resolved \u001b[96m1\u001b[39m, reused \u001b[96m0\u001b[39m, downloaded \u001b[96m0\u001b[39m, added \u001b[96m0\u001b[39m\n",
            "\u001b[1AProgress: resolved \u001b[96m502\u001b[39m, reused \u001b[96m0\u001b[39m, downloaded \u001b[96m0\u001b[39m, added \u001b[96m0\u001b[39m\n",
            "\u001b[1A\u001b[33m\u001b[39m\u001b[0K\n",
            "\u001b[33m   ╭──────────────────────────────────────────────────────────────────╮\u001b[39m\n",
            "   \u001b[33m│\u001b[39m                                                                  \u001b[33m│\u001b[39m\n",
            "   \u001b[33m│\u001b[39m                Update available! \u001b[31m10.0.0\u001b[39m → \u001b[32m10.2.1\u001b[39m.                \u001b[33m│\u001b[39m\n",
            "   \u001b[33m│\u001b[39m   \u001b[35mChangelog:\u001b[39m https://github.com/pnpm/pnpm/releases/tag/v10.2.1   \u001b[33m│\u001b[39m\n",
            "   \u001b[33m│\u001b[39m         Run \"\u001b[35mcorepack install -g pnpm@10.2.1\u001b[39m\" to update.         \u001b[33m│\u001b[39m\n",
            "   \u001b[33m│\u001b[39m                                                                  \u001b[33m│\u001b[39m\n",
            "\u001b[33m   ╰──────────────────────────────────────────────────────────────────╯\u001b[39m\n",
            "\u001b[33m\u001b[39m\n",
            "Progress: resolved \u001b[96m502\u001b[39m, reused \u001b[96m0\u001b[39m, downloaded \u001b[96m0\u001b[39m, added \u001b[96m0\u001b[39m\n",
            "\u001b[1AProgress: resolved \u001b[96m502\u001b[39m, reused \u001b[96m0\u001b[39m, downloaded \u001b[96m1\u001b[39m, added \u001b[96m0\u001b[39m\n",
            "\u001b[1AProgress: resolved \u001b[96m502\u001b[39m, reused \u001b[96m0\u001b[39m, downloaded \u001b[96m3\u001b[39m, added \u001b[96m0\u001b[39m\n",
            "\u001b[1AProgress: resolved \u001b[96m502\u001b[39m, reused \u001b[96m0\u001b[39m, downloaded \u001b[96m4\u001b[39m, added \u001b[96m0\u001b[39m\n",
            "\u001b[1AProgress: resolved \u001b[96m502\u001b[39m, reused \u001b[96m0\u001b[39m, downloaded \u001b[96m7\u001b[39m, added \u001b[96m0\u001b[39m\n",
            "\u001b[1AProgress: resolved \u001b[96m502\u001b[39m, reused \u001b[96m0\u001b[39m, downloaded \u001b[96m8\u001b[39m, added \u001b[96m0\u001b[39m\n",
            "\u001b[1AProgress: resolved \u001b[96m502\u001b[39m, reused \u001b[96m0\u001b[39m, downloaded \u001b[96m9\u001b[39m, added \u001b[96m0\u001b[39m\n",
            "Downloading \u001b[97mmonaco-editor-wrapper@4.0.2\u001b[39m: \u001b[96m0.00 B\u001b[39m/\u001b[96m12.86 MB\u001b[39m\n",
            "\u001b[1ADownloading \u001b[97mmonaco-editor-wrapper@4.0.2\u001b[39m: \u001b[96m1.37 kB\u001b[39m/\u001b[96m12.86 MB\u001b[39m\n",
            "\u001b[2AProgress: resolved \u001b[96m502\u001b[39m, reused \u001b[96m0\u001b[39m, downloaded \u001b[96m19\u001b[39m, added \u001b[96m3\u001b[39m\n",
            "\u001b[1B\u001b[2AProgress: resolved \u001b[96m502\u001b[39m, reused \u001b[96m0\u001b[39m, downloaded \u001b[96m20\u001b[39m, added \u001b[96m7\u001b[39m\n",
            "\u001b[1B\u001b[2AProgress: resolved \u001b[96m502\u001b[39m, reused \u001b[96m0\u001b[39m, downloaded \u001b[96m23\u001b[39m, added \u001b[96m7\u001b[39m\n",
            "\u001b[1B\u001b[2ADownloading \u001b[97mmonaco-editor-wrapper@4.0.2\u001b[39m: \u001b[96m12.86 MB\u001b[39m/\u001b[96m12.86 MB\u001b[39m, done\n",
            "Progress: resolved \u001b[96m502\u001b[39m, reused \u001b[96m0\u001b[39m, downloaded \u001b[96m23\u001b[39m, added \u001b[96m7\u001b[39m\u001b[0K\n",
            "\u001b[1AProgress: resolved \u001b[96m502\u001b[39m, reused \u001b[96m0\u001b[39m, downloaded \u001b[96m25\u001b[39m, added \u001b[96m12\u001b[39m\n",
            "\u001b[1AProgress: resolved \u001b[96m502\u001b[39m, reused \u001b[96m0\u001b[39m, downloaded \u001b[96m31\u001b[39m, added \u001b[96m20\u001b[39m\n",
            "\u001b[1AProgress: resolved \u001b[96m502\u001b[39m, reused \u001b[96m0\u001b[39m, downloaded \u001b[96m32\u001b[39m, added \u001b[96m20\u001b[39m\n",
            "\u001b[1AProgress: resolved \u001b[96m502\u001b[39m, reused \u001b[96m0\u001b[39m, downloaded \u001b[96m38\u001b[39m, added \u001b[96m23\u001b[39m\n",
            "\u001b[1AProgress: resolved \u001b[96m502\u001b[39m, reused \u001b[96m0\u001b[39m, downloaded \u001b[96m39\u001b[39m, added \u001b[96m23\u001b[39m\n",
            "\u001b[1AProgress: resolved \u001b[96m502\u001b[39m, reused \u001b[96m0\u001b[39m, downloaded \u001b[96m47\u001b[39m, added \u001b[96m34\u001b[39m\n",
            "\u001b[1AProgress: resolved \u001b[96m502\u001b[39m, reused \u001b[96m0\u001b[39m, downloaded \u001b[96m52\u001b[39m, added \u001b[96m38\u001b[39m\n",
            "\u001b[1AProgress: resolved \u001b[96m502\u001b[39m, reused \u001b[96m0\u001b[39m, downloaded \u001b[96m57\u001b[39m, added \u001b[96m47\u001b[39m\n",
            "\u001b[1AProgress: resolved \u001b[96m502\u001b[39m, reused \u001b[96m0\u001b[39m, downloaded \u001b[96m61\u001b[39m, added \u001b[96m49\u001b[39m\n",
            "\u001b[1AProgress: resolved \u001b[96m502\u001b[39m, reused \u001b[96m0\u001b[39m, downloaded \u001b[96m63\u001b[39m, added \u001b[96m49\u001b[39m\n",
            "\u001b[1AProgress: resolved \u001b[96m502\u001b[39m, reused \u001b[96m0\u001b[39m, downloaded \u001b[96m63\u001b[39m, added \u001b[96m50\u001b[39m\n",
            "\u001b[1AProgress: resolved \u001b[96m502\u001b[39m, reused \u001b[96m0\u001b[39m, downloaded \u001b[96m74\u001b[39m, added \u001b[96m61\u001b[39m\n",
            "Downloading \u001b[97mtypescript@5.1.6\u001b[39m: \u001b[96m0.00 B\u001b[39m/\u001b[96m7.15 MB\u001b[39m\n",
            "\u001b[1ADownloading \u001b[97mtypescript@5.1.6\u001b[39m: \u001b[96m15.78 kB\u001b[39m/\u001b[96m7.15 MB\u001b[39m\n",
            "\u001b[2AProgress: resolved \u001b[96m502\u001b[39m, reused \u001b[96m0\u001b[39m, downloaded \u001b[96m82\u001b[39m, added \u001b[96m67\u001b[39m\n",
            "\u001b[1B\u001b[2AProgress: resolved \u001b[96m502\u001b[39m, reused \u001b[96m0\u001b[39m, downloaded \u001b[96m93\u001b[39m, added \u001b[96m81\u001b[39m\n",
            "\u001b[1B\u001b[2ADownloading \u001b[97mtypescript@5.1.6\u001b[39m: \u001b[96m7.15 MB\u001b[39m/\u001b[96m7.15 MB\u001b[39m, done\u001b[0K\n",
            "Progress: resolved \u001b[96m502\u001b[39m, reused \u001b[96m0\u001b[39m, downloaded \u001b[96m93\u001b[39m, added \u001b[96m81\u001b[39m\n",
            "\u001b[1AProgress: resolved \u001b[96m502\u001b[39m, reused \u001b[96m0\u001b[39m, downloaded \u001b[96m96\u001b[39m, added \u001b[96m82\u001b[39m\n",
            "\u001b[1AProgress: resolved \u001b[96m502\u001b[39m, reused \u001b[96m0\u001b[39m, downloaded \u001b[96m97\u001b[39m, added \u001b[96m82\u001b[39m\n",
            "\u001b[1AProgress: resolved \u001b[96m502\u001b[39m, reused \u001b[96m0\u001b[39m, downloaded \u001b[96m107\u001b[39m, added \u001b[96m92\u001b[39m\n",
            "\u001b[1AProgress: resolved \u001b[96m502\u001b[39m, reused \u001b[96m0\u001b[39m, downloaded \u001b[96m119\u001b[39m, added \u001b[96m106\u001b[39m\n",
            "\u001b[1AProgress: resolved \u001b[96m502\u001b[39m, reused \u001b[96m0\u001b[39m, downloaded \u001b[96m137\u001b[39m, added \u001b[96m126\u001b[39m\n",
            "\u001b[1AProgress: resolved \u001b[96m502\u001b[39m, reused \u001b[96m0\u001b[39m, downloaded \u001b[96m166\u001b[39m, added \u001b[96m157\u001b[39m\n",
            "\u001b[1AProgress: resolved \u001b[96m502\u001b[39m, reused \u001b[96m0\u001b[39m, downloaded \u001b[96m176\u001b[39m, added \u001b[96m173\u001b[39m\n",
            "\u001b[1AProgress: resolved \u001b[96m502\u001b[39m, reused \u001b[96m0\u001b[39m, downloaded \u001b[96m180\u001b[39m, added \u001b[96m176\u001b[39m\n",
            "\u001b[1AProgress: resolved \u001b[96m502\u001b[39m, reused \u001b[96m0\u001b[39m, downloaded \u001b[96m186\u001b[39m, added \u001b[96m176\u001b[39m\n",
            "\u001b[1AProgress: resolved \u001b[96m502\u001b[39m, reused \u001b[96m0\u001b[39m, downloaded \u001b[96m187\u001b[39m, added \u001b[96m177\u001b[39m\n",
            "\u001b[1AProgress: resolved \u001b[96m502\u001b[39m, reused \u001b[96m0\u001b[39m, downloaded \u001b[96m188\u001b[39m, added \u001b[96m179\u001b[39m\n",
            "\u001b[1AProgress: resolved \u001b[96m502\u001b[39m, reused \u001b[96m0\u001b[39m, downloaded \u001b[96m191\u001b[39m, added \u001b[96m180\u001b[39m\n",
            "\u001b[1AProgress: resolved \u001b[96m502\u001b[39m, reused \u001b[96m0\u001b[39m, downloaded \u001b[96m196\u001b[39m, added \u001b[96m184\u001b[39m\n",
            "Downloading \u001b[97m@vscode/vsce-sign-linux-x64@2.0.2\u001b[39m: \u001b[96m0.00 B\u001b[39m/\u001b[96m6.89 MB\u001b[39m\n",
            "\u001b[1ADownloading \u001b[97m@vscode/vsce-sign-linux-x64@2.0.2\u001b[39m: \u001b[96m16.38 kB\u001b[39m/\u001b[96m6.89 MB\u001b[39m\n",
            "\u001b[2AProgress: resolved \u001b[96m502\u001b[39m, reused \u001b[96m0\u001b[39m, downloaded \u001b[96m197\u001b[39m, added \u001b[96m184\u001b[39m\n",
            "\u001b[1B\u001b[2AProgress: resolved \u001b[96m502\u001b[39m, reused \u001b[96m0\u001b[39m, downloaded \u001b[96m204\u001b[39m, added \u001b[96m189\u001b[39m\n",
            "\u001b[1B\u001b[2ADownloading \u001b[97m@vscode/vsce-sign-linux-x64@2.0.2\u001b[39m: \u001b[96m6.89 MB\u001b[39m/\u001b[96m6.89 MB\u001b[39m, done\n",
            "Progress: resolved \u001b[96m502\u001b[39m, reused \u001b[96m0\u001b[39m, downloaded \u001b[96m204\u001b[39m, added \u001b[96m189\u001b[39m\u001b[0K\n",
            "\u001b[1AProgress: resolved \u001b[96m502\u001b[39m, reused \u001b[96m0\u001b[39m, downloaded \u001b[96m211\u001b[39m, added \u001b[96m196\u001b[39m\n",
            "\u001b[1AProgress: resolved \u001b[96m502\u001b[39m, reused \u001b[96m0\u001b[39m, downloaded \u001b[96m213\u001b[39m, added \u001b[96m202\u001b[39m\n",
            "\u001b[1AProgress: resolved \u001b[96m502\u001b[39m, reused \u001b[96m0\u001b[39m, downloaded \u001b[96m216\u001b[39m, added \u001b[96m202\u001b[39m\n",
            "\u001b[1AProgress: resolved \u001b[96m502\u001b[39m, reused \u001b[96m0\u001b[39m, downloaded \u001b[96m233\u001b[39m, added \u001b[96m219\u001b[39m\n",
            "\u001b[1AProgress: resolved \u001b[96m502\u001b[39m, reused \u001b[96m0\u001b[39m, downloaded \u001b[96m248\u001b[39m, added \u001b[96m233\u001b[39m\n",
            "\u001b[1AProgress: resolved \u001b[96m502\u001b[39m, reused \u001b[96m0\u001b[39m, downloaded \u001b[96m259\u001b[39m, added \u001b[96m248\u001b[39m\n",
            "\u001b[1AProgress: resolved \u001b[96m502\u001b[39m, reused \u001b[96m0\u001b[39m, downloaded \u001b[96m269\u001b[39m, added \u001b[96m256\u001b[39m\n",
            "\u001b[1AProgress: resolved \u001b[96m502\u001b[39m, reused \u001b[96m0\u001b[39m, downloaded \u001b[96m290\u001b[39m, added \u001b[96m279\u001b[39m\n",
            "\u001b[1AProgress: resolved \u001b[96m502\u001b[39m, reused \u001b[96m0\u001b[39m, downloaded \u001b[96m308\u001b[39m, added \u001b[96m295\u001b[39m\n",
            "\u001b[1AProgress: resolved \u001b[96m502\u001b[39m, reused \u001b[96m0\u001b[39m, downloaded \u001b[96m337\u001b[39m, added \u001b[96m330\u001b[39m\n",
            "\u001b[1AProgress: resolved \u001b[96m502\u001b[39m, reused \u001b[96m0\u001b[39m, downloaded \u001b[96m345\u001b[39m, added \u001b[96m335\u001b[39m\n",
            "\u001b[1AProgress: resolved \u001b[96m502\u001b[39m, reused \u001b[96m0\u001b[39m, downloaded \u001b[96m346\u001b[39m, added \u001b[96m335\u001b[39m\n",
            "\u001b[1AProgress: resolved \u001b[96m502\u001b[39m, reused \u001b[96m0\u001b[39m, downloaded \u001b[96m348\u001b[39m, added \u001b[96m339\u001b[39m\n",
            "\u001b[1AProgress: resolved \u001b[96m502\u001b[39m, reused \u001b[96m0\u001b[39m, downloaded \u001b[96m349\u001b[39m, added \u001b[96m339\u001b[39m\n",
            "\u001b[1AProgress: resolved \u001b[96m502\u001b[39m, reused \u001b[96m0\u001b[39m, downloaded \u001b[96m360\u001b[39m, added \u001b[96m345\u001b[39m\n",
            "\u001b[1AProgress: resolved \u001b[96m502\u001b[39m, reused \u001b[96m0\u001b[39m, downloaded \u001b[96m361\u001b[39m, added \u001b[96m348\u001b[39m\n",
            "\u001b[1AProgress: resolved \u001b[96m502\u001b[39m, reused \u001b[96m0\u001b[39m, downloaded \u001b[96m364\u001b[39m, added \u001b[96m348\u001b[39m\n",
            "\u001b[1AProgress: resolved \u001b[96m502\u001b[39m, reused \u001b[96m0\u001b[39m, downloaded \u001b[96m364\u001b[39m, added \u001b[96m349\u001b[39m\n",
            "\u001b[1AProgress: resolved \u001b[96m502\u001b[39m, reused \u001b[96m0\u001b[39m, downloaded \u001b[96m376\u001b[39m, added \u001b[96m360\u001b[39m\n",
            "\u001b[1AProgress: resolved \u001b[96m502\u001b[39m, reused \u001b[96m0\u001b[39m, downloaded \u001b[96m383\u001b[39m, added \u001b[96m372\u001b[39m\n",
            "\u001b[1AProgress: resolved \u001b[96m502\u001b[39m, reused \u001b[96m0\u001b[39m, downloaded \u001b[96m405\u001b[39m, added \u001b[96m393\u001b[39m\n",
            "\u001b[1AProgress: resolved \u001b[96m502\u001b[39m, reused \u001b[96m0\u001b[39m, downloaded \u001b[96m416\u001b[39m, added \u001b[96m405\u001b[39m\n",
            "\u001b[1AProgress: resolved \u001b[96m502\u001b[39m, reused \u001b[96m0\u001b[39m, downloaded \u001b[96m422\u001b[39m, added \u001b[96m410\u001b[39m\n",
            "\u001b[1AProgress: resolved \u001b[96m502\u001b[39m, reused \u001b[96m0\u001b[39m, downloaded \u001b[96m437\u001b[39m, added \u001b[96m423\u001b[39m\n",
            "\u001b[1AProgress: resolved \u001b[96m502\u001b[39m, reused \u001b[96m0\u001b[39m, downloaded \u001b[96m462\u001b[39m, added \u001b[96m454\u001b[39m\n",
            "\u001b[1AProgress: resolved \u001b[96m502\u001b[39m, reused \u001b[96m0\u001b[39m, downloaded \u001b[96m480\u001b[39m, added \u001b[96m473\u001b[39m\n",
            "\u001b[1AProgress: resolved \u001b[96m502\u001b[39m, reused \u001b[96m0\u001b[39m, downloaded \u001b[96m487\u001b[39m, added \u001b[96m479\u001b[39m\n",
            "\u001b[1AProgress: resolved \u001b[96m502\u001b[39m, reused \u001b[96m0\u001b[39m, downloaded \u001b[96m491\u001b[39m, added \u001b[96m479\u001b[39m\n",
            "\u001b[1AProgress: resolved \u001b[96m502\u001b[39m, reused \u001b[96m0\u001b[39m, downloaded \u001b[96m499\u001b[39m, added \u001b[96m484\u001b[39m\n",
            "\u001b[1AProgress: resolved \u001b[96m502\u001b[39m, reused \u001b[96m0\u001b[39m, downloaded \u001b[96m502\u001b[39m, added \u001b[96m502\u001b[39m, done\n",
            "\n",
            "\u001b[96mdependencies:\u001b[39m\n",
            "\u001b[32m+\u001b[39m @codingame/monaco-vscode-editor-service-override \u001b[90m3.2.3\u001b[39m\n",
            "\u001b[32m+\u001b[39m @codingame/monaco-vscode-keybindings-service-override \u001b[90m3.2.3\u001b[39m\n",
            "\u001b[32m+\u001b[39m @faker-js/faker \u001b[90m9.4.0\u001b[39m\n",
            "\u001b[32m+\u001b[39m @guyo13/langium-utils \u001b[90m1.1.1\u001b[39m\n",
            "\u001b[32m+\u001b[39m chalk \u001b[90m5.3.0\u001b[39m\n",
            "\u001b[32m+\u001b[39m commander \u001b[90m11.0.0\u001b[39m\n",
            "\u001b[32m+\u001b[39m langium \u001b[90m3.3.0\u001b[39m\n",
            "\u001b[32m+\u001b[39m monaco-editor <- @codingame/monaco-vscode-editor-api \u001b[90m3.2.3\u001b[39m\n",
            "\u001b[32m+\u001b[39m monaco-editor-wrapper \u001b[90m4.0.2\u001b[39m\n",
            "\u001b[32m+\u001b[39m monaco-languageclient \u001b[90m8.1.1\u001b[39m\n",
            "\u001b[32m+\u001b[39m prettier \u001b[90m3.4.2\u001b[39m\n",
            "\u001b[32m+\u001b[39m tree-sitter \u001b[90m0.22.4\u001b[39m\n",
            "\u001b[32m+\u001b[39m tree-sitter-javascript \u001b[90m0.23.1\u001b[39m\n",
            "\u001b[32m+\u001b[39m vscode-languageclient \u001b[90m9.0.1\u001b[39m\n",
            "\u001b[32m+\u001b[39m vscode-languageserver \u001b[90m9.0.1\u001b[39m\n",
            "\u001b[32m+\u001b[39m zod \u001b[90m3.24.1\u001b[39m\n",
            "\n",
            "\u001b[96mdevDependencies:\u001b[39m\n",
            "\u001b[32m+\u001b[39m @codingame/esbuild-import-meta-url-plugin \u001b[90m1.0.2\u001b[39m\n",
            "\u001b[32m+\u001b[39m @types/node \u001b[90m18.19.70\u001b[39m\n",
            "\u001b[32m+\u001b[39m @types/vscode \u001b[90m1.67.0\u001b[39m\n",
            "\u001b[32m+\u001b[39m @typescript-eslint/eslint-plugin \u001b[90m7.3.1\u001b[39m\n",
            "\u001b[32m+\u001b[39m @typescript-eslint/parser \u001b[90m7.3.1\u001b[39m\n",
            "\u001b[32m+\u001b[39m @vscode/vsce \u001b[90m3.2.1\u001b[39m\n",
            "\u001b[32m+\u001b[39m concurrently \u001b[90m8.2.2\u001b[39m\n",
            "\u001b[32m+\u001b[39m dependency-cruiser \u001b[90m16.9.0\u001b[39m\n",
            "\u001b[32m+\u001b[39m esbuild \u001b[90m0.20.2\u001b[39m\n",
            "\u001b[32m+\u001b[39m eslint \u001b[90m8.57.1\u001b[39m\n",
            "\u001b[32m+\u001b[39m http-server \u001b[90m14.1.1\u001b[39m\n",
            "\u001b[32m+\u001b[39m langium-cli \u001b[90m3.3.0\u001b[39m\n",
            "\u001b[32m+\u001b[39m typescript \u001b[90m5.1.6\u001b[39m\n",
            "\u001b[32m+\u001b[39m vite \u001b[90m5.2.14\u001b[39m\n",
            "\u001b[32m+\u001b[39m vitest \u001b[90m1.4.0\u001b[39m\n",
            "\u001b[32m+\u001b[39m vscode <- @codingame/monaco-vscode-api \u001b[90m3.2.3\u001b[39m\n",
            "\u001b[32m+\u001b[39m vscode-languageserver-types \u001b[90m3.17.5\u001b[39m\n",
            "\n",
            "The following dependencies have build scripts that were ignored: @vscode/vsce-sign, esbuild, keytar, tree-sitter, tree-sitter-javascript\n",
            "To allow the execution of build scripts for these packages, add their names to \"pnpm.onlyBuiltDependencies\" in your \"package.json\", then run \"pnpm rebuild\"\n",
            "\n",
            "Done in 20.2s\n",
            "\n",
            "> form-lang@0.0.1 gb /content/Form-Lang\n",
            "> corepack pnpm run langium:generate && corepack pnpm run build\n",
            "\n",
            "\n",
            "> form-lang@0.0.1 langium:generate /content/Form-Lang\n",
            "> langium generate\n",
            "\n",
            "Reading config from \u001b[37m\u001b[1m/content/Form-Lang/langium-config.json\u001b[22m\u001b[39m\n",
            "Writing generated files to \u001b[37m\u001b[1m/content/Form-Lang/src/language/generated\u001b[22m\u001b[39m\n",
            "Writing textmate grammar to \u001b[37m\u001b[1m/content/Form-Lang/syntaxes/form-lang.tmLanguage.json\u001b[22m\u001b[39m\n",
            "Writing monarch grammar to \u001b[37m\u001b[1m/content/Form-Lang/src/syntaxes/form-lang.monarch.ts\u001b[22m\u001b[39m\n",
            "[\u001b[90m08:06:26\u001b[39m] Langium generator finished \u001b[32m\u001b[1msuccessfully\u001b[22m\u001b[39m in 658ms\n",
            "\n",
            "> form-lang@0.0.1 build /content/Form-Lang\n",
            "> tsc -b tsconfig.src.json && node esbuild.mjs\n",
            "\n",
            "[08:06:38] Build succeeded\n",
            "package.json created at /content/Form-Lang/out/esm/package.json\n",
            "[08:06:39] Build succeeded\n",
            "Building types\n",
            "[08:06:39] Build succeeded\n",
            "package.json created at /content/Form-Lang/out/cjs/package.json\n",
            "\n",
            "Declaration emit succeeded.\n"
          ]
        }
      ]
    },
    {
      "cell_type": "code",
      "source": [
        "!cd Form-Lang/ml && pnpm install"
      ],
      "metadata": {
        "colab": {
          "base_uri": "https://localhost:8080/"
        },
        "collapsed": true,
        "id": "WPA2vJdeskqh",
        "outputId": "8e017255-0437-499f-ba02-fbc7714e623f"
      },
      "id": "WPA2vJdeskqh",
      "execution_count": 8,
      "outputs": [
        {
          "output_type": "stream",
          "name": "stdout",
          "text": [
            "Lockfile is up to date, resolution step is skipped\n",
            "Progress: resolved \u001b[96m1\u001b[39m, reused \u001b[96m0\u001b[39m, downloaded \u001b[96m0\u001b[39m, added \u001b[96m0\u001b[39m\n",
            "\u001b[1APackages: \u001b[32m+69\u001b[39m\u001b[0K\n",
            "\n",
            "Progress: resolved \u001b[96m1\u001b[39m, reused \u001b[96m0\u001b[39m, downloaded \u001b[96m0\u001b[39m, added \u001b[96m0\u001b[39m\n",
            "\u001b[1AProgress: resolved \u001b[96m69\u001b[39m, reused \u001b[96m3\u001b[39m, downloaded \u001b[96m0\u001b[39m, added \u001b[96m0\u001b[39m\n",
            "\u001b[1AProgress: resolved \u001b[96m69\u001b[39m, reused \u001b[96m23\u001b[39m, downloaded \u001b[96m8\u001b[39m, added \u001b[96m23\u001b[39m\n",
            "\u001b[1AProgress: resolved \u001b[96m69\u001b[39m, reused \u001b[96m23\u001b[39m, downloaded \u001b[96m46\u001b[39m, added \u001b[96m69\u001b[39m, done\n",
            "\n",
            "\u001b[96mdependencies:\u001b[39m\n",
            "\u001b[32m+\u001b[39m express \u001b[90m4.21.2\u001b[39m\n",
            "\n",
            "Done in 1.2s\n"
          ]
        }
      ]
    },
    {
      "cell_type": "markdown",
      "source": [
        "#### Run the FormLang HTTP API server"
      ],
      "metadata": {
        "id": "0GvS9UKKrTdw"
      },
      "id": "0GvS9UKKrTdw"
    },
    {
      "cell_type": "code",
      "source": [
        "from subprocess import Popen, PIPE\n",
        "import sys\n",
        "\n",
        "def run_js_with_bun(js_file, cwd=None):\n",
        "  \"\"\"\n",
        "  Runs a JavaScript file using Bun as a subprocess.\n",
        "\n",
        "  Args:\n",
        "    js_file: The path to the JavaScript file.\n",
        "    cwd: The working directory for the child process.\n",
        "         If None, the current working directory is used.\n",
        "  \"\"\"\n",
        "  try:\n",
        "    # Execute the JavaScript file using Bun with specified working directory\n",
        "    process = Popen(['bun', js_file], stdout=PIPE, cwd=cwd)\n",
        "    return process\n",
        "\n",
        "  except FileNotFoundError:\n",
        "    print(\"Error: Bun not found. Please ensure Bun is installed and in your PATH.\")\n",
        "  except Exception as e:\n",
        "    import traceback\n",
        "    traceback.print_exc()\n",
        "    print(\"An unexpected error occurred:\", e)\n",
        "\n",
        "http_server = run_js_with_bun(\"lib_server.cjs\", \"Form-Lang/ml\")\n",
        "http_server"
      ],
      "metadata": {
        "colab": {
          "base_uri": "https://localhost:8080/"
        },
        "id": "4MbS22mIp4Uf",
        "outputId": "c324656a-c8f7-4b91-bb48-5fbc03524c35"
      },
      "id": "4MbS22mIp4Uf",
      "execution_count": 2,
      "outputs": [
        {
          "output_type": "execute_result",
          "data": {
            "text/plain": [
              "<Popen: returncode: None args: ['bun', 'lib_server.cjs']>"
            ]
          },
          "metadata": {},
          "execution_count": 2
        }
      ]
    },
    {
      "cell_type": "code",
      "source": [
        "!curl -d '{\"sourceCode\": \"component hey{} form helloWorld {comp hey}\"}' -H \"content-type: application/json\" \"http://localhost:3000/compute/ast\""
      ],
      "metadata": {
        "colab": {
          "base_uri": "https://localhost:8080/"
        },
        "id": "hFMW6ykOw9bd",
        "outputId": "7fa2ff53-96c9-42de-86a7-cb97c2dfdacb"
      },
      "id": "hFMW6ykOw9bd",
      "execution_count": 3,
      "outputs": [
        {
          "output_type": "stream",
          "name": "stdout",
          "text": [
            "{\"status\":\"ok\",\"result\":{\"ast\":\"{\\\"$type\\\":\\\"Form\\\",\\\"name\\\":\\\"helloWorld\\\",\\\"component\\\":{\\\"$type\\\":\\\"FieldComponentDef\\\",\\\"componentId\\\":{\\\"$ref\\\":\\\"#/components@0\\\"},\\\"componentPropsKeys\\\":[],\\\"componentPropsValues\\\":[]},\\\"children\\\":[]}\"}}"
          ]
        }
      ]
    },
    {
      "cell_type": "markdown",
      "id": "d876cfa3-6129-4884-be8b-bc0c23f4a511",
      "metadata": {
        "id": "d876cfa3-6129-4884-be8b-bc0c23f4a511"
      },
      "source": [
        "## Project imports"
      ]
    },
    {
      "cell_type": "code",
      "execution_count": 4,
      "id": "3a9e9c44-4a3b-494b-bb86-63178d67bdd7",
      "metadata": {
        "id": "3a9e9c44-4a3b-494b-bb86-63178d67bdd7"
      },
      "outputs": [],
      "source": [
        "import asyncio\n",
        "import time\n",
        "import re\n",
        "from pprint import pprint\n",
        "from transformers import pipeline, AutoTokenizer\n",
        "from datasets import Dataset, load_dataset\n",
        "from huggingface_hub import login\n",
        "import pythonmonkey as pm\n",
        "import pandas as pd\n",
        "import requests\n",
        "import torch\n",
        "# If using locally from the `ml` folder\n",
        "# formlang_lib = pm.require(\"../out/cjs/lib/index\")\n",
        "# If using in Colab:\n",
        "formlang_lib = pm.require(\"./Form-Lang/out/cjs/lib/index\")"
      ]
    },
    {
      "cell_type": "markdown",
      "id": "290ca50b-0174-4c0b-9ecc-79f04eb910ad",
      "metadata": {
        "id": "290ca50b-0174-4c0b-9ecc-79f04eb910ad"
      },
      "source": [
        "## Login to Huggingface Hub"
      ]
    },
    {
      "cell_type": "code",
      "execution_count": 5,
      "id": "93c12f91-3626-4985-af97-0d69b4418475",
      "metadata": {
        "colab": {
          "base_uri": "https://localhost:8080/",
          "height": 17,
          "referenced_widgets": [
            "6f767f3dd00e4d728ccd55a06929f293",
            "06c7313d1e2f474480a2171e2caf3f8c",
            "51112f82fc56418f9a92165e4afcb9f2",
            "f18789755f244ae489bda9223872d37e",
            "6b71eb2d09c045079ec3d68eb8eb2e61",
            "51e39a30556e4dc89181f37699191116",
            "22b1e9ff677641e483d3b3618749a2a2",
            "fb262bb040434bbf99ece32011b76ec6",
            "da102549c2a040e69580a1df1119710c",
            "4fe9beaa8e2743848f696cc1a70e4c29",
            "b049b69656de4245977ff58f05222d60",
            "6bae03d71e894e3bb13859d8839d11c6",
            "206adba26bd848cda4a9c8eb9661561f",
            "57c9d4b04ebc4e46ae70455a66c61233",
            "72971eb32e214a74b6e9e8feb0aa7c26",
            "3981523e57ab4d44b12f5e93cbb323cb",
            "3e72af03ec5b4ac3a567b1c904f83fdf",
            "a5702e0af269486bbde1162616eca7c0",
            "247d44608b4f402f8abfd94fefc3f622",
            "51910566e78448b9820af394724c08ce"
          ]
        },
        "id": "93c12f91-3626-4985-af97-0d69b4418475",
        "outputId": "7cc00feb-2fc6-4918-bc84-3846df906c65"
      },
      "outputs": [
        {
          "output_type": "display_data",
          "data": {
            "text/plain": [
              "VBox(children=(HTML(value='<center> <img\\nsrc=https://huggingface.co/front/assets/huggingface_logo-noborder.sv…"
            ],
            "application/vnd.jupyter.widget-view+json": {
              "version_major": 2,
              "version_minor": 0,
              "model_id": "6f767f3dd00e4d728ccd55a06929f293"
            }
          },
          "metadata": {}
        }
      ],
      "source": [
        "login()"
      ]
    },
    {
      "cell_type": "markdown",
      "id": "8e22784f-1cb2-4baf-b6ce-8daea69f835e",
      "metadata": {
        "id": "8e22784f-1cb2-4baf-b6ce-8daea69f835e"
      },
      "source": [
        "## Python Monkey helpers"
      ]
    },
    {
      "cell_type": "code",
      "execution_count": 6,
      "id": "eb8eaa24-5aca-4030-93c5-02a9d23c90be",
      "metadata": {
        "id": "eb8eaa24-5aca-4030-93c5-02a9d23c90be"
      },
      "outputs": [],
      "source": [
        "def js_dir(something):\n",
        "    pm.globalThis.console.dir(something)\n",
        "\n",
        "def js_log(something):\n",
        "    pm.globalThis.console.log(something)"
      ]
    },
    {
      "cell_type": "markdown",
      "id": "b9601b8e-70d6-41f9-87be-6c1bfc0aba11",
      "metadata": {
        "id": "b9601b8e-70d6-41f9-87be-6c1bfc0aba11"
      },
      "source": [
        "# Dataset generation"
      ]
    },
    {
      "cell_type": "markdown",
      "id": "f121c668-74c8-41e1-8f9a-8f9fa8b001ef",
      "metadata": {
        "id": "f121c668-74c8-41e1-8f9a-8f9fa8b001ef"
      },
      "source": [
        "## Generating the dataset"
      ]
    },
    {
      "cell_type": "markdown",
      "id": "d5cf20e3-7f30-435e-8910-65029528d619",
      "metadata": {
        "id": "d5cf20e3-7f30-435e-8910-65029528d619"
      },
      "source": [
        "We start by creating a ProbabilisticSearchFormGenerator object which is implemented in JavaScript, providing the default search hyper parameters and some Component definitions,\n",
        "later on we will implement a random generator for the component definitions as well."
      ]
    },
    {
      "cell_type": "code",
      "execution_count": 42,
      "id": "fdb52772-4bdb-4c24-b58e-ea9b92502153",
      "metadata": {
        "id": "fdb52772-4bdb-4c24-b58e-ea9b92502153"
      },
      "outputs": [],
      "source": [
        "form_components = \"\"\"\n",
        "  component userDetailsContainer {}\n",
        "  component formContainer {}\n",
        "  component someOtherContainer {}\n",
        "  component OtherContainer2 {}\n",
        "\"\"\"\n",
        "field_components = \"\"\"\n",
        "  component myTextBox {\n",
        "    props {\n",
        "      textColor\n",
        "      textSize\n",
        "      textWeight\n",
        "      borderColor\n",
        "    }\n",
        "  }\n",
        "  component myCheckbox {\n",
        "    props {\n",
        "      size\n",
        "    }\n",
        "  }\n",
        "  component otherTextBox {}\n",
        "  component counter {\n",
        "    props {\n",
        "      style\n",
        "    }\n",
        "  }\n",
        "\"\"\"\n",
        "\n",
        "form_gen = await formlang_lib.newFormGen(formlang_lib.DEFAULT_GENERATOR_HYPER_PARAMETERS, form_components, field_components)"
      ]
    },
    {
      "cell_type": "markdown",
      "id": "ea0978fc-0b8c-47c7-8af5-55dafa848fb8",
      "metadata": {
        "id": "ea0978fc-0b8c-47c7-8af5-55dafa848fb8"
      },
      "source": [
        "### Computing the expected AST"
      ]
    },
    {
      "cell_type": "markdown",
      "id": "6168af80-35cd-499a-8966-609df6428e00",
      "metadata": {
        "id": "6168af80-35cd-499a-8966-609df6428e00"
      },
      "source": [
        "In order to reliablity measure to model's performance, our KPI will be **AST-Accuracy** which is the accuracy measure with respect to the generated code's AST and the expected code's AST."
      ]
    },
    {
      "cell_type": "code",
      "execution_count": 7,
      "id": "3d5a3c28-6767-4729-8e33-0325b467bf84",
      "metadata": {
        "id": "3d5a3c28-6767-4729-8e33-0325b467bf84"
      },
      "outputs": [],
      "source": [
        "def get_ast(code, shouldCheckErrors=False):\n",
        "    result = requests.post(\"http://localhost:3000/compute/ast\", json={\"sourceCode\": code, \"shouldCheckErrors\":shouldCheckErrors}).json()\n",
        "    if not result[\"status\"] == \"ok\":\n",
        "        raise RuntimeError(\"failed\")\n",
        "    return result[\"result\"]"
      ]
    },
    {
      "cell_type": "markdown",
      "id": "431142f1-0063-48fb-8aba-0a9f92c88e71",
      "metadata": {
        "id": "431142f1-0063-48fb-8aba-0a9f92c88e71"
      },
      "source": [
        "### Create a data generation loop for the prompt data"
      ]
    },
    {
      "cell_type": "markdown",
      "id": "14256a40-7e47-4d75-a57c-b7c73602e3fa",
      "metadata": {
        "id": "14256a40-7e47-4d75-a57c-b7c73602e3fa"
      },
      "source": [
        "We create a small dataset of 3000 random examples by using the JavaScript FormLang utilities library and the form generator object.\n",
        "We copy from the form generator's output only the relevant fields which will make up the LLM prompt."
      ]
    },
    {
      "cell_type": "code",
      "execution_count": 8,
      "id": "c39a45a8-8098-4a60-b41b-af9e9a4ac223",
      "metadata": {
        "id": "c39a45a8-8098-4a60-b41b-af9e9a4ac223"
      },
      "outputs": [],
      "source": [
        "# TODO - Refactor data generator pipeline as a Python class with easy interfaces\n",
        "\n",
        "def concat_components_code_with_form_code(form_code, form_components, field_components):\n",
        "    \"\"\"Concatenates the form code with the given components code that are referenced inside of it.\"\"\"\n",
        "    return f\"{form_components}\\n{field_components}\\n{form_code}\"\n",
        "\n",
        "def create_prompt_data(generation_result, form_components, field_components):\n",
        "    data = {\n",
        "        \"originalFormCode\": concat_components_code_with_form_code(generation_result[\"serializedForm\"], form_components, field_components),\n",
        "        \"modifiedFormCode\": concat_components_code_with_form_code(generation_result[\"serializedModifiedForm\"], form_components, field_components),\n",
        "        \"removedNodeEnglish\": str(generation_result[\"removedNodeEnglish\"]),\n",
        "        \"removedNodeContextEnglish\": str(generation_result[\"removedNodeContextEnglish\"]),\n",
        "    }\n",
        "    return data\n",
        "\n",
        "def create_random_data(form_gen, form_components, field_components, num_examples=3000):\n",
        "    start_time = time.time()\n",
        "    DATA = []\n",
        "    for i in range(num_examples):\n",
        "        generation_result = formlang_lib.generateRandomFormWithModification(form_gen)\n",
        "        prompt_data = create_prompt_data(generation_result, form_components, field_components)\n",
        "        DATA.append(prompt_data)\n",
        "    # Generate the ast of each example in one batch\n",
        "    ast_time = time.time()\n",
        "    for example in DATA:\n",
        "        resp = get_ast(example[\"originalFormCode\"], True)\n",
        "        errors = resp.get('errors', [])\n",
        "        if len(errors) > 0:\n",
        "            print(f\"Error parsing generated code\", errors)\n",
        "            raise RuntimeError(\"Error parsing generated code\")\n",
        "        example[\"originalFormAst\"] = resp[\"ast\"]\n",
        "    end_time = time.time()\n",
        "    print(f\"Generation took {end_time - start_time} seconds. Total Ast generation time {end_time - ast_time} seconds\")\n",
        "    return pd.DataFrame(DATA)"
      ]
    },
    {
      "cell_type": "code",
      "execution_count": 45,
      "id": "d2155ee7-8286-4e5a-8881-b72b7bb51197",
      "metadata": {
        "colab": {
          "base_uri": "https://localhost:8080/",
          "height": 224
        },
        "id": "d2155ee7-8286-4e5a-8881-b72b7bb51197",
        "outputId": "979c7be1-caf9-4bca-a6c2-7edf3fd55573"
      },
      "outputs": [
        {
          "output_type": "stream",
          "name": "stdout",
          "text": [
            "Generation took 48.5854971408844 seconds. Total Ast generation time 47.7074978351593 seconds\n"
          ]
        },
        {
          "output_type": "execute_result",
          "data": {
            "text/plain": [
              "                                    originalFormCode  \\\n",
              "0  \\n  component userDetailsContainer {}\\n  compo...   \n",
              "1  \\n  component userDetailsContainer {}\\n  compo...   \n",
              "2  \\n  component userDetailsContainer {}\\n  compo...   \n",
              "3  \\n  component userDetailsContainer {}\\n  compo...   \n",
              "4  \\n  component userDetailsContainer {}\\n  compo...   \n",
              "\n",
              "                                    modifiedFormCode  \\\n",
              "0  \\n  component userDetailsContainer {}\\n  compo...   \n",
              "1  \\n  component userDetailsContainer {}\\n  compo...   \n",
              "2  \\n  component userDetailsContainer {}\\n  compo...   \n",
              "3  \\n  component userDetailsContainer {}\\n  compo...   \n",
              "4  \\n  component userDetailsContainer {}\\n  compo...   \n",
              "\n",
              "                                  removedNodeEnglish  \\\n",
              "0  \\ta field whose id is 'Z_' with state of type:...   \n",
              "1  \\ta field whose id is 'p_' with state of type:...   \n",
              "2  \\ta field whose id is 'F' using the component ...   \n",
              "3  \\t\\ta field whose id is 'Pww_ww___w' using the...   \n",
              "4  \\ta field whose id is 'nw' with state of type:...   \n",
              "\n",
              "                           removedNodeContextEnglish  \\\n",
              "0  * is a child of the form whose id is 'Bw'.\\n* ...   \n",
              "1  * is a child of the form whose id is 'Cw'.\\n* ...   \n",
              "2  * is a child of the form whose id is 'Vw'.\\n* ...   \n",
              "3  * is a child of the form whose id is 'd'.\\n* i...   \n",
              "4  * is a child of the form whose id is 'a_'.\\n* ...   \n",
              "\n",
              "                                     originalFormAst  \n",
              "0  {\"$type\":\"Form\",\"name\":\"Bw\",\"component\":{\"$typ...  \n",
              "1  {\"$type\":\"Form\",\"name\":\"Cw\",\"component\":{\"$typ...  \n",
              "2  {\"$type\":\"Form\",\"name\":\"Vw\",\"component\":{\"$typ...  \n",
              "3  {\"$type\":\"Form\",\"name\":\"Lw\",\"component\":{\"$typ...  \n",
              "4  {\"$type\":\"Form\",\"name\":\"a_\",\"component\":{\"$typ...  "
            ],
            "text/html": [
              "\n",
              "  <div id=\"df-7b9ad215-8fba-412c-b1e0-6cc937b4b5aa\" class=\"colab-df-container\">\n",
              "    <div>\n",
              "<style scoped>\n",
              "    .dataframe tbody tr th:only-of-type {\n",
              "        vertical-align: middle;\n",
              "    }\n",
              "\n",
              "    .dataframe tbody tr th {\n",
              "        vertical-align: top;\n",
              "    }\n",
              "\n",
              "    .dataframe thead th {\n",
              "        text-align: right;\n",
              "    }\n",
              "</style>\n",
              "<table border=\"1\" class=\"dataframe\">\n",
              "  <thead>\n",
              "    <tr style=\"text-align: right;\">\n",
              "      <th></th>\n",
              "      <th>originalFormCode</th>\n",
              "      <th>modifiedFormCode</th>\n",
              "      <th>removedNodeEnglish</th>\n",
              "      <th>removedNodeContextEnglish</th>\n",
              "      <th>originalFormAst</th>\n",
              "    </tr>\n",
              "  </thead>\n",
              "  <tbody>\n",
              "    <tr>\n",
              "      <th>0</th>\n",
              "      <td>\\n  component userDetailsContainer {}\\n  compo...</td>\n",
              "      <td>\\n  component userDetailsContainer {}\\n  compo...</td>\n",
              "      <td>\\ta field whose id is 'Z_' with state of type:...</td>\n",
              "      <td>* is a child of the form whose id is 'Bw'.\\n* ...</td>\n",
              "      <td>{\"$type\":\"Form\",\"name\":\"Bw\",\"component\":{\"$typ...</td>\n",
              "    </tr>\n",
              "    <tr>\n",
              "      <th>1</th>\n",
              "      <td>\\n  component userDetailsContainer {}\\n  compo...</td>\n",
              "      <td>\\n  component userDetailsContainer {}\\n  compo...</td>\n",
              "      <td>\\ta field whose id is 'p_' with state of type:...</td>\n",
              "      <td>* is a child of the form whose id is 'Cw'.\\n* ...</td>\n",
              "      <td>{\"$type\":\"Form\",\"name\":\"Cw\",\"component\":{\"$typ...</td>\n",
              "    </tr>\n",
              "    <tr>\n",
              "      <th>2</th>\n",
              "      <td>\\n  component userDetailsContainer {}\\n  compo...</td>\n",
              "      <td>\\n  component userDetailsContainer {}\\n  compo...</td>\n",
              "      <td>\\ta field whose id is 'F' using the component ...</td>\n",
              "      <td>* is a child of the form whose id is 'Vw'.\\n* ...</td>\n",
              "      <td>{\"$type\":\"Form\",\"name\":\"Vw\",\"component\":{\"$typ...</td>\n",
              "    </tr>\n",
              "    <tr>\n",
              "      <th>3</th>\n",
              "      <td>\\n  component userDetailsContainer {}\\n  compo...</td>\n",
              "      <td>\\n  component userDetailsContainer {}\\n  compo...</td>\n",
              "      <td>\\t\\ta field whose id is 'Pww_ww___w' using the...</td>\n",
              "      <td>* is a child of the form whose id is 'd'.\\n* i...</td>\n",
              "      <td>{\"$type\":\"Form\",\"name\":\"Lw\",\"component\":{\"$typ...</td>\n",
              "    </tr>\n",
              "    <tr>\n",
              "      <th>4</th>\n",
              "      <td>\\n  component userDetailsContainer {}\\n  compo...</td>\n",
              "      <td>\\n  component userDetailsContainer {}\\n  compo...</td>\n",
              "      <td>\\ta field whose id is 'nw' with state of type:...</td>\n",
              "      <td>* is a child of the form whose id is 'a_'.\\n* ...</td>\n",
              "      <td>{\"$type\":\"Form\",\"name\":\"a_\",\"component\":{\"$typ...</td>\n",
              "    </tr>\n",
              "  </tbody>\n",
              "</table>\n",
              "</div>\n",
              "    <div class=\"colab-df-buttons\">\n",
              "\n",
              "  <div class=\"colab-df-container\">\n",
              "    <button class=\"colab-df-convert\" onclick=\"convertToInteractive('df-7b9ad215-8fba-412c-b1e0-6cc937b4b5aa')\"\n",
              "            title=\"Convert this dataframe to an interactive table.\"\n",
              "            style=\"display:none;\">\n",
              "\n",
              "  <svg xmlns=\"http://www.w3.org/2000/svg\" height=\"24px\" viewBox=\"0 -960 960 960\">\n",
              "    <path d=\"M120-120v-720h720v720H120Zm60-500h600v-160H180v160Zm220 220h160v-160H400v160Zm0 220h160v-160H400v160ZM180-400h160v-160H180v160Zm440 0h160v-160H620v160ZM180-180h160v-160H180v160Zm440 0h160v-160H620v160Z\"/>\n",
              "  </svg>\n",
              "    </button>\n",
              "\n",
              "  <style>\n",
              "    .colab-df-container {\n",
              "      display:flex;\n",
              "      gap: 12px;\n",
              "    }\n",
              "\n",
              "    .colab-df-convert {\n",
              "      background-color: #E8F0FE;\n",
              "      border: none;\n",
              "      border-radius: 50%;\n",
              "      cursor: pointer;\n",
              "      display: none;\n",
              "      fill: #1967D2;\n",
              "      height: 32px;\n",
              "      padding: 0 0 0 0;\n",
              "      width: 32px;\n",
              "    }\n",
              "\n",
              "    .colab-df-convert:hover {\n",
              "      background-color: #E2EBFA;\n",
              "      box-shadow: 0px 1px 2px rgba(60, 64, 67, 0.3), 0px 1px 3px 1px rgba(60, 64, 67, 0.15);\n",
              "      fill: #174EA6;\n",
              "    }\n",
              "\n",
              "    .colab-df-buttons div {\n",
              "      margin-bottom: 4px;\n",
              "    }\n",
              "\n",
              "    [theme=dark] .colab-df-convert {\n",
              "      background-color: #3B4455;\n",
              "      fill: #D2E3FC;\n",
              "    }\n",
              "\n",
              "    [theme=dark] .colab-df-convert:hover {\n",
              "      background-color: #434B5C;\n",
              "      box-shadow: 0px 1px 3px 1px rgba(0, 0, 0, 0.15);\n",
              "      filter: drop-shadow(0px 1px 2px rgba(0, 0, 0, 0.3));\n",
              "      fill: #FFFFFF;\n",
              "    }\n",
              "  </style>\n",
              "\n",
              "    <script>\n",
              "      const buttonEl =\n",
              "        document.querySelector('#df-7b9ad215-8fba-412c-b1e0-6cc937b4b5aa button.colab-df-convert');\n",
              "      buttonEl.style.display =\n",
              "        google.colab.kernel.accessAllowed ? 'block' : 'none';\n",
              "\n",
              "      async function convertToInteractive(key) {\n",
              "        const element = document.querySelector('#df-7b9ad215-8fba-412c-b1e0-6cc937b4b5aa');\n",
              "        const dataTable =\n",
              "          await google.colab.kernel.invokeFunction('convertToInteractive',\n",
              "                                                    [key], {});\n",
              "        if (!dataTable) return;\n",
              "\n",
              "        const docLinkHtml = 'Like what you see? Visit the ' +\n",
              "          '<a target=\"_blank\" href=https://colab.research.google.com/notebooks/data_table.ipynb>data table notebook</a>'\n",
              "          + ' to learn more about interactive tables.';\n",
              "        element.innerHTML = '';\n",
              "        dataTable['output_type'] = 'display_data';\n",
              "        await google.colab.output.renderOutput(dataTable, element);\n",
              "        const docLink = document.createElement('div');\n",
              "        docLink.innerHTML = docLinkHtml;\n",
              "        element.appendChild(docLink);\n",
              "      }\n",
              "    </script>\n",
              "  </div>\n",
              "\n",
              "\n",
              "<div id=\"df-e1974187-994c-4ba0-8cbe-f3cafd0ff845\">\n",
              "  <button class=\"colab-df-quickchart\" onclick=\"quickchart('df-e1974187-994c-4ba0-8cbe-f3cafd0ff845')\"\n",
              "            title=\"Suggest charts\"\n",
              "            style=\"display:none;\">\n",
              "\n",
              "<svg xmlns=\"http://www.w3.org/2000/svg\" height=\"24px\"viewBox=\"0 0 24 24\"\n",
              "     width=\"24px\">\n",
              "    <g>\n",
              "        <path d=\"M19 3H5c-1.1 0-2 .9-2 2v14c0 1.1.9 2 2 2h14c1.1 0 2-.9 2-2V5c0-1.1-.9-2-2-2zM9 17H7v-7h2v7zm4 0h-2V7h2v10zm4 0h-2v-4h2v4z\"/>\n",
              "    </g>\n",
              "</svg>\n",
              "  </button>\n",
              "\n",
              "<style>\n",
              "  .colab-df-quickchart {\n",
              "      --bg-color: #E8F0FE;\n",
              "      --fill-color: #1967D2;\n",
              "      --hover-bg-color: #E2EBFA;\n",
              "      --hover-fill-color: #174EA6;\n",
              "      --disabled-fill-color: #AAA;\n",
              "      --disabled-bg-color: #DDD;\n",
              "  }\n",
              "\n",
              "  [theme=dark] .colab-df-quickchart {\n",
              "      --bg-color: #3B4455;\n",
              "      --fill-color: #D2E3FC;\n",
              "      --hover-bg-color: #434B5C;\n",
              "      --hover-fill-color: #FFFFFF;\n",
              "      --disabled-bg-color: #3B4455;\n",
              "      --disabled-fill-color: #666;\n",
              "  }\n",
              "\n",
              "  .colab-df-quickchart {\n",
              "    background-color: var(--bg-color);\n",
              "    border: none;\n",
              "    border-radius: 50%;\n",
              "    cursor: pointer;\n",
              "    display: none;\n",
              "    fill: var(--fill-color);\n",
              "    height: 32px;\n",
              "    padding: 0;\n",
              "    width: 32px;\n",
              "  }\n",
              "\n",
              "  .colab-df-quickchart:hover {\n",
              "    background-color: var(--hover-bg-color);\n",
              "    box-shadow: 0 1px 2px rgba(60, 64, 67, 0.3), 0 1px 3px 1px rgba(60, 64, 67, 0.15);\n",
              "    fill: var(--button-hover-fill-color);\n",
              "  }\n",
              "\n",
              "  .colab-df-quickchart-complete:disabled,\n",
              "  .colab-df-quickchart-complete:disabled:hover {\n",
              "    background-color: var(--disabled-bg-color);\n",
              "    fill: var(--disabled-fill-color);\n",
              "    box-shadow: none;\n",
              "  }\n",
              "\n",
              "  .colab-df-spinner {\n",
              "    border: 2px solid var(--fill-color);\n",
              "    border-color: transparent;\n",
              "    border-bottom-color: var(--fill-color);\n",
              "    animation:\n",
              "      spin 1s steps(1) infinite;\n",
              "  }\n",
              "\n",
              "  @keyframes spin {\n",
              "    0% {\n",
              "      border-color: transparent;\n",
              "      border-bottom-color: var(--fill-color);\n",
              "      border-left-color: var(--fill-color);\n",
              "    }\n",
              "    20% {\n",
              "      border-color: transparent;\n",
              "      border-left-color: var(--fill-color);\n",
              "      border-top-color: var(--fill-color);\n",
              "    }\n",
              "    30% {\n",
              "      border-color: transparent;\n",
              "      border-left-color: var(--fill-color);\n",
              "      border-top-color: var(--fill-color);\n",
              "      border-right-color: var(--fill-color);\n",
              "    }\n",
              "    40% {\n",
              "      border-color: transparent;\n",
              "      border-right-color: var(--fill-color);\n",
              "      border-top-color: var(--fill-color);\n",
              "    }\n",
              "    60% {\n",
              "      border-color: transparent;\n",
              "      border-right-color: var(--fill-color);\n",
              "    }\n",
              "    80% {\n",
              "      border-color: transparent;\n",
              "      border-right-color: var(--fill-color);\n",
              "      border-bottom-color: var(--fill-color);\n",
              "    }\n",
              "    90% {\n",
              "      border-color: transparent;\n",
              "      border-bottom-color: var(--fill-color);\n",
              "    }\n",
              "  }\n",
              "</style>\n",
              "\n",
              "  <script>\n",
              "    async function quickchart(key) {\n",
              "      const quickchartButtonEl =\n",
              "        document.querySelector('#' + key + ' button');\n",
              "      quickchartButtonEl.disabled = true;  // To prevent multiple clicks.\n",
              "      quickchartButtonEl.classList.add('colab-df-spinner');\n",
              "      try {\n",
              "        const charts = await google.colab.kernel.invokeFunction(\n",
              "            'suggestCharts', [key], {});\n",
              "      } catch (error) {\n",
              "        console.error('Error during call to suggestCharts:', error);\n",
              "      }\n",
              "      quickchartButtonEl.classList.remove('colab-df-spinner');\n",
              "      quickchartButtonEl.classList.add('colab-df-quickchart-complete');\n",
              "    }\n",
              "    (() => {\n",
              "      let quickchartButtonEl =\n",
              "        document.querySelector('#df-e1974187-994c-4ba0-8cbe-f3cafd0ff845 button');\n",
              "      quickchartButtonEl.style.display =\n",
              "        google.colab.kernel.accessAllowed ? 'block' : 'none';\n",
              "    })();\n",
              "  </script>\n",
              "</div>\n",
              "\n",
              "    </div>\n",
              "  </div>\n"
            ],
            "application/vnd.google.colaboratory.intrinsic+json": {
              "type": "dataframe",
              "variable_name": "examples",
              "summary": "{\n  \"name\": \"examples\",\n  \"rows\": 3000,\n  \"fields\": [\n    {\n      \"column\": \"originalFormCode\",\n      \"properties\": {\n        \"dtype\": \"string\",\n        \"num_unique_values\": 3000,\n        \"samples\": [\n          \"\\n  component userDetailsContainer {}\\n  component formContainer {}\\n  component someOtherContainer {}\\n  component OtherContainer2 {}\\n\\n\\n  component myTextBox {\\n    props {\\n      textColor\\n      textSize\\n      textWeight\\n      borderColor\\n    }\\n  }\\n  component myCheckbox {\\n    props {\\n      size\\n    }\\n  }\\n  component otherTextBox {}\\n  component counter {\\n    props {\\n      style\\n    }\\n  }\\n\\nform Ew {\\n\\tcomp userDetailsContainer \\n\\t\\n\\tfield O_ {\\n\\t\\tstate string[]\\n\\t\\tcomp counter \\n\\t\\t\\n\\t}\\n\\tfield k_ {\\n\\t\\tcomp otherTextBox \\n\\t\\t\\n\\t}\\n\\tfield Kw {\\n\\t\\tcomp myTextBox \\n\\t\\t\\n\\t}\\n\\tfield Yww {\\n\\t\\tstate string default \\\"'Cesar Kihn'\\\" as expression\\n\\t\\tcomp counter style=\\\"#493826\\\"\\n\\t\\t\\n\\t}\\n}\\n\",\n          \"\\n  component userDetailsContainer {}\\n  component formContainer {}\\n  component someOtherContainer {}\\n  component OtherContainer2 {}\\n\\n\\n  component myTextBox {\\n    props {\\n      textColor\\n      textSize\\n      textWeight\\n      borderColor\\n    }\\n  }\\n  component myCheckbox {\\n    props {\\n      size\\n    }\\n  }\\n  component otherTextBox {}\\n  component counter {\\n    props {\\n      style\\n    }\\n  }\\n\\nform bww {\\n\\tcomp userDetailsContainer \\n\\t\\n\\tform P__ww {\\n\\t\\tcomp formContainer \\n\\t\\t\\n\\t\\tfield Bw_ww__ww {\\n\\t\\t\\tstate boolean default \\\"false\\\" as expression\\n\\t\\t\\tcomp myCheckbox size=\\\"'hello'.replace('l', 'L')\\\" as expression\\n\\t\\t\\t\\n\\t\\t}\\n\\t\\tform d {\\n\\t\\t\\tcomp OtherContainer2 \\n\\t\\t\\t\\n\\t\\t\\tfield sw {\\n\\t\\t\\t\\tstate boolean default \\\"true\\\" as expression\\n\\t\\t\\t\\tcomp otherTextBox \\n\\t\\t\\t\\t\\n\\t\\t\\t}\\n\\t\\t\\tfield Sw {\\n\\t\\t\\t\\tcomp myCheckbox size=\\\"'Hello'.toLowerCase()\\\" as expression\\n\\t\\t\\t\\t\\n\\t\\t\\t}\\n\\t\\t}\\n\\n\\t\\tfield hw {\\n\\t\\t\\tcomp myCheckbox size=\\\"#53736e\\\"\\n\\t\\t\\t\\n\\t\\t}\\n\\t\\tfield c {\\n\\t\\t\\tstate boolean default \\\"false\\\" as expression\\n\\t\\t\\tcomp myCheckbox size=\\\"#281537\\\"\\n\\t\\t\\t\\n\\t\\t}\\n\\t\\tfield a_ {\\n\\t\\t\\tstate string default \\\"Pauline Ortiz\\\"\\n\\t\\t\\tcomp myCheckbox \\n\\t\\t\\t\\n\\t\\t}\\n\\t\\tfield Iw_ {\\n\\t\\t\\tstate string\\n\\t\\t\\tcomp myCheckbox \\n\\t\\t\\t\\n\\t\\t}\\n\\t}\\n\\n\\tfield i_ {\\n\\t\\tstate string\\n\\t\\tcomp otherTextBox \\n\\t\\t\\n\\t}\\n}\\n\",\n          \"\\n  component userDetailsContainer {}\\n  component formContainer {}\\n  component someOtherContainer {}\\n  component OtherContainer2 {}\\n\\n\\n  component myTextBox {\\n    props {\\n      textColor\\n      textSize\\n      textWeight\\n      borderColor\\n    }\\n  }\\n  component myCheckbox {\\n    props {\\n      size\\n    }\\n  }\\n  component otherTextBox {}\\n  component counter {\\n    props {\\n      style\\n    }\\n  }\\n\\nform f {\\n\\tcomp userDetailsContainer \\n\\t\\n\\tfield o {\\n\\t\\tstate string default \\\"Jodi O'Kon\\\"\\n\\t\\tcomp myCheckbox \\n\\t\\t\\n\\t}\\n\\tfield Dw {\\n\\t\\tcomp otherTextBox \\n\\t\\t\\n\\t}\\n}\\n\"\n        ],\n        \"semantic_type\": \"\",\n        \"description\": \"\"\n      }\n    },\n    {\n      \"column\": \"modifiedFormCode\",\n      \"properties\": {\n        \"dtype\": \"string\",\n        \"num_unique_values\": 2928,\n        \"samples\": [\n          \"\\n  component userDetailsContainer {}\\n  component formContainer {}\\n  component someOtherContainer {}\\n  component OtherContainer2 {}\\n\\n\\n  component myTextBox {\\n    props {\\n      textColor\\n      textSize\\n      textWeight\\n      borderColor\\n    }\\n  }\\n  component myCheckbox {\\n    props {\\n      size\\n    }\\n  }\\n  component otherTextBox {}\\n  component counter {\\n    props {\\n      style\\n    }\\n  }\\n\\nform m {\\n\\tcomp OtherContainer2 \\n\\t\\n\\tfield k {\\n\\t\\tstate number[]\\n\\t\\tcomp myCheckbox size=\\\"2 ** 4\\\" as expression\\n\\t\\t\\n\\t}\\n}\\n\",\n          \"\\n  component userDetailsContainer {}\\n  component formContainer {}\\n  component someOtherContainer {}\\n  component OtherContainer2 {}\\n\\n\\n  component myTextBox {\\n    props {\\n      textColor\\n      textSize\\n      textWeight\\n      borderColor\\n    }\\n  }\\n  component myCheckbox {\\n    props {\\n      size\\n    }\\n  }\\n  component otherTextBox {}\\n  component counter {\\n    props {\\n      style\\n    }\\n  }\\n\\nform Uw {\\n\\tcomp formContainer \\n\\t\\n\\tform Pww_w_www {\\n\\t\\tcomp userDetailsContainer \\n\\t\\t\\n\\t\\tfield xw {\\n\\t\\t\\tstate number[] default \\\"[]\\\" as expression\\n\\t\\t\\tcomp myCheckbox \\n\\t\\t\\t\\n\\t\\t}\\n\\t}\\n\\n\\tfield jw {\\n\\t\\tcomp myTextBox textWeight=\\\"[1, 2, 3].splice(1, 1)\\\" as expression textSize=\\\"10 < 20 ? 'yes' : 'no'\\\" as expression\\n\\t\\t\\n\\t}\\n\\tfield Rww_w__ww_w_w___w__w____ {\\n\\t\\tcomp myCheckbox size=\\\"#5e3c15\\\"\\n\\t\\t\\n\\t}\\n\\tfield Tww {\\n\\t\\tstate string\\n\\t\\tcomp otherTextBox \\n\\t\\t\\n\\t}\\n\\tform x_ {\\n\\t\\tcomp OtherContainer2 \\n\\t\\t\\n\\t\\tfield N {\\n\\t\\t\\tcomp myCheckbox size=\\\"#585a41\\\"\\n\\t\\t\\t\\n\\t\\t}\\n\\t\\tfield S {\\n\\t\\t\\tstate number\\n\\t\\t\\tcomp counter \\n\\t\\t\\t\\n\\t\\t}\\n\\t}\\n\\n\\tform rw {\\n\\t\\tcomp OtherContainer2 \\n\\t\\t\\n\\t\\tfield E_w_ww_w_www_ww_ {\\n\\t\\t\\tcomp otherTextBox \\n\\t\\t\\t\\n\\t\\t}\\n\\t}\\n\\n}\\n\",\n          \"\\n  component userDetailsContainer {}\\n  component formContainer {}\\n  component someOtherContainer {}\\n  component OtherContainer2 {}\\n\\n\\n  component myTextBox {\\n    props {\\n      textColor\\n      textSize\\n      textWeight\\n      borderColor\\n    }\\n  }\\n  component myCheckbox {\\n    props {\\n      size\\n    }\\n  }\\n  component otherTextBox {}\\n  component counter {\\n    props {\\n      style\\n    }\\n  }\\n\\nform y {\\n\\tcomp userDetailsContainer \\n\\t\\n\\tform x {\\n\\t\\tcomp OtherContainer2 \\n\\t\\t\\n\\t\\tfield Oww {\\n\\t\\t\\tstate number\\n\\t\\t\\tcomp myCheckbox \\n\\t\\t\\t\\n\\t\\t}\\n\\t\\tfield W_ {\\n\\t\\t\\tstate boolean[] default \\\"[true]\\\" as expression\\n\\t\\t\\tcomp myTextBox borderColor=\\\"1 + 2 * 3\\\" as expression\\n\\t\\t\\t\\n\\t\\t}\\n\\t\\tfield jww_ww {\\n\\t\\t\\tstate string[] default \\\"[\\\\\\\"Nathan Wiegand\\\\\\\",\\\\\\\"Eva Rice\\\\\\\",\\\\\\\"George Gottlieb\\\\\\\"]\\\" as expression\\n\\t\\t\\tcomp counter style=\\\"#6f215d\\\"\\n\\t\\t\\t\\n\\t\\t}\\n\\t\\tfield Sw_wwwwwwwwww {\\n\\t\\t\\tcomp myTextBox borderColor=\\\"#4a7939\\\" textWeight=\\\"#751b20\\\"\\n\\t\\t\\t\\n\\t\\t}\\n\\t}\\n\\n\\tfield G {\\n\\t\\tstate string\\n\\t\\tcomp otherTextBox \\n\\t\\t\\n\\t}\\n\\tfield S_ {\\n\\t\\tstate number\\n\\t\\tcomp otherTextBox \\n\\t\\t\\n\\t}\\n\\tfield h {\\n\\t\\tstate number\\n\\t\\tcomp counter \\n\\t\\t\\n\\t}\\n\\tform J {\\n\\t\\tcomp userDetailsContainer \\n\\t\\t\\n\\n\\t}\\n\\n\\tfield p {\\n\\t\\tcomp myCheckbox size=\\\"#116217\\\"\\n\\t\\t\\n\\t}\\n}\\n\"\n        ],\n        \"semantic_type\": \"\",\n        \"description\": \"\"\n      }\n    },\n    {\n      \"column\": \"removedNodeEnglish\",\n      \"properties\": {\n        \"dtype\": \"string\",\n        \"num_unique_values\": 2925,\n        \"samples\": [\n          \"\\t\\ta field whose id is 'g' with state of type: 'number', and is using the component 'otherTextBox'.\\n\\t\\t\",\n          \"\\ta form whose id is 'u' using the component 'formContainer',with no children.\\n\\t\",\n          \"\\t\\ta field whose id is 'L_w' with state of type: 'number' and its default value is: 0.6831019370482362 (and is passed as an expression), and is using the component 'otherTextBox'.\\n\\t\\t\"\n        ],\n        \"semantic_type\": \"\",\n        \"description\": \"\"\n      }\n    },\n    {\n      \"column\": \"removedNodeContextEnglish\",\n      \"properties\": {\n        \"dtype\": \"string\",\n        \"num_unique_values\": 2729,\n        \"samples\": [\n          \"* is a child of the form whose id is 'dw_'.\\n* is located after the field whose id is 'O'\",\n          \"* is a child of the form whose id is 'ww'.\\n* is located before the field whose id is 'gw'\",\n          \"* is a child of the form whose id is 'E'.\\n* is located between the field whose id is 'Mww' and the field whose id is 'Y_w'\"\n        ],\n        \"semantic_type\": \"\",\n        \"description\": \"\"\n      }\n    },\n    {\n      \"column\": \"originalFormAst\",\n      \"properties\": {\n        \"dtype\": \"string\",\n        \"num_unique_values\": 3000,\n        \"samples\": [\n          \"{\\\"$type\\\":\\\"Form\\\",\\\"name\\\":\\\"Ew\\\",\\\"component\\\":{\\\"$type\\\":\\\"FieldComponentDef\\\",\\\"componentId\\\":{\\\"$ref\\\":\\\"#/components@0\\\"},\\\"componentPropsKeys\\\":[],\\\"componentPropsValues\\\":[]},\\\"children\\\":[{\\\"$type\\\":\\\"Field\\\",\\\"name\\\":\\\"O_\\\",\\\"state\\\":{\\\"$type\\\":\\\"FieldStateDef\\\",\\\"isArray\\\":true,\\\"type\\\":\\\"string\\\"},\\\"component\\\":{\\\"$type\\\":\\\"FieldComponentDef\\\",\\\"componentId\\\":{\\\"$ref\\\":\\\"#/components@7\\\"},\\\"componentPropsKeys\\\":[],\\\"componentPropsValues\\\":[]}},{\\\"$type\\\":\\\"Field\\\",\\\"name\\\":\\\"k_\\\",\\\"component\\\":{\\\"$type\\\":\\\"FieldComponentDef\\\",\\\"componentId\\\":{\\\"$ref\\\":\\\"#/components@6\\\"},\\\"componentPropsKeys\\\":[],\\\"componentPropsValues\\\":[]}},{\\\"$type\\\":\\\"Field\\\",\\\"name\\\":\\\"Kw\\\",\\\"component\\\":{\\\"$type\\\":\\\"FieldComponentDef\\\",\\\"componentId\\\":{\\\"$ref\\\":\\\"#/components@4\\\"},\\\"componentPropsKeys\\\":[],\\\"componentPropsValues\\\":[]}},{\\\"$type\\\":\\\"Field\\\",\\\"name\\\":\\\"Yww\\\",\\\"state\\\":{\\\"$type\\\":\\\"FieldStateDef\\\",\\\"type\\\":\\\"string\\\",\\\"defaultValue\\\":{\\\"$type\\\":\\\"ValueExpression\\\",\\\"value\\\":\\\"'Cesar Kihn'\\\",\\\"isExpression\\\":true},\\\"isArray\\\":false},\\\"component\\\":{\\\"$type\\\":\\\"FieldComponentDef\\\",\\\"componentId\\\":{\\\"$ref\\\":\\\"#/components@7\\\"},\\\"componentPropsKeys\\\":[{\\\"$type\\\":\\\"ComponentPropKey\\\",\\\"key\\\":\\\"style\\\"}],\\\"componentPropsValues\\\":[{\\\"$type\\\":\\\"ValueExpression\\\",\\\"value\\\":\\\"#493826\\\",\\\"isExpression\\\":false}]}}]}\",\n          \"{\\\"$type\\\":\\\"Form\\\",\\\"name\\\":\\\"bww\\\",\\\"component\\\":{\\\"$type\\\":\\\"FieldComponentDef\\\",\\\"componentId\\\":{\\\"$ref\\\":\\\"#/components@0\\\"},\\\"componentPropsKeys\\\":[],\\\"componentPropsValues\\\":[]},\\\"children\\\":[{\\\"$type\\\":\\\"Form\\\",\\\"name\\\":\\\"P__ww\\\",\\\"component\\\":{\\\"$type\\\":\\\"FieldComponentDef\\\",\\\"componentId\\\":{\\\"$ref\\\":\\\"#/components@1\\\"},\\\"componentPropsKeys\\\":[],\\\"componentPropsValues\\\":[]},\\\"children\\\":[{\\\"$type\\\":\\\"Field\\\",\\\"name\\\":\\\"Bw_ww__ww\\\",\\\"state\\\":{\\\"$type\\\":\\\"FieldStateDef\\\",\\\"type\\\":\\\"boolean\\\",\\\"defaultValue\\\":{\\\"$type\\\":\\\"ValueExpression\\\",\\\"value\\\":\\\"false\\\",\\\"isExpression\\\":true},\\\"isArray\\\":false},\\\"component\\\":{\\\"$type\\\":\\\"FieldComponentDef\\\",\\\"componentId\\\":{\\\"$ref\\\":\\\"#/components@5\\\"},\\\"componentPropsKeys\\\":[{\\\"$type\\\":\\\"ComponentPropKey\\\",\\\"key\\\":\\\"size\\\"}],\\\"componentPropsValues\\\":[{\\\"$type\\\":\\\"ValueExpression\\\",\\\"value\\\":\\\"'hello'.replace('l', 'L')\\\",\\\"isExpression\\\":true}]}},{\\\"$type\\\":\\\"Form\\\",\\\"name\\\":\\\"d\\\",\\\"component\\\":{\\\"$type\\\":\\\"FieldComponentDef\\\",\\\"componentId\\\":{\\\"$ref\\\":\\\"#/components@3\\\"},\\\"componentPropsKeys\\\":[],\\\"componentPropsValues\\\":[]},\\\"children\\\":[{\\\"$type\\\":\\\"Field\\\",\\\"name\\\":\\\"sw\\\",\\\"state\\\":{\\\"$type\\\":\\\"FieldStateDef\\\",\\\"type\\\":\\\"boolean\\\",\\\"defaultValue\\\":{\\\"$type\\\":\\\"ValueExpression\\\",\\\"value\\\":\\\"true\\\",\\\"isExpression\\\":true},\\\"isArray\\\":false},\\\"component\\\":{\\\"$type\\\":\\\"FieldComponentDef\\\",\\\"componentId\\\":{\\\"$ref\\\":\\\"#/components@6\\\"},\\\"componentPropsKeys\\\":[],\\\"componentPropsValues\\\":[]}},{\\\"$type\\\":\\\"Field\\\",\\\"name\\\":\\\"Sw\\\",\\\"component\\\":{\\\"$type\\\":\\\"FieldComponentDef\\\",\\\"componentId\\\":{\\\"$ref\\\":\\\"#/components@5\\\"},\\\"componentPropsKeys\\\":[{\\\"$type\\\":\\\"ComponentPropKey\\\",\\\"key\\\":\\\"size\\\"}],\\\"componentPropsValues\\\":[{\\\"$type\\\":\\\"ValueExpression\\\",\\\"value\\\":\\\"'Hello'.toLowerCase()\\\",\\\"isExpression\\\":true}]}}]},{\\\"$type\\\":\\\"Field\\\",\\\"name\\\":\\\"hw\\\",\\\"component\\\":{\\\"$type\\\":\\\"FieldComponentDef\\\",\\\"componentId\\\":{\\\"$ref\\\":\\\"#/components@5\\\"},\\\"componentPropsKeys\\\":[{\\\"$type\\\":\\\"ComponentPropKey\\\",\\\"key\\\":\\\"size\\\"}],\\\"componentPropsValues\\\":[{\\\"$type\\\":\\\"ValueExpression\\\",\\\"value\\\":\\\"#53736e\\\",\\\"isExpression\\\":false}]}},{\\\"$type\\\":\\\"Field\\\",\\\"name\\\":\\\"c\\\",\\\"state\\\":{\\\"$type\\\":\\\"FieldStateDef\\\",\\\"type\\\":\\\"boolean\\\",\\\"defaultValue\\\":{\\\"$type\\\":\\\"ValueExpression\\\",\\\"value\\\":\\\"false\\\",\\\"isExpression\\\":true},\\\"isArray\\\":false},\\\"component\\\":{\\\"$type\\\":\\\"FieldComponentDef\\\",\\\"componentId\\\":{\\\"$ref\\\":\\\"#/components@5\\\"},\\\"componentPropsKeys\\\":[{\\\"$type\\\":\\\"ComponentPropKey\\\",\\\"key\\\":\\\"size\\\"}],\\\"componentPropsValues\\\":[{\\\"$type\\\":\\\"ValueExpression\\\",\\\"value\\\":\\\"#281537\\\",\\\"isExpression\\\":false}]}},{\\\"$type\\\":\\\"Field\\\",\\\"name\\\":\\\"a_\\\",\\\"state\\\":{\\\"$type\\\":\\\"FieldStateDef\\\",\\\"type\\\":\\\"string\\\",\\\"defaultValue\\\":{\\\"$type\\\":\\\"ValueExpression\\\",\\\"value\\\":\\\"Pauline Ortiz\\\",\\\"isExpression\\\":false},\\\"isArray\\\":false},\\\"component\\\":{\\\"$type\\\":\\\"FieldComponentDef\\\",\\\"componentId\\\":{\\\"$ref\\\":\\\"#/components@5\\\"},\\\"componentPropsKeys\\\":[],\\\"componentPropsValues\\\":[]}},{\\\"$type\\\":\\\"Field\\\",\\\"name\\\":\\\"Iw_\\\",\\\"state\\\":{\\\"$type\\\":\\\"FieldStateDef\\\",\\\"type\\\":\\\"string\\\",\\\"isArray\\\":false},\\\"component\\\":{\\\"$type\\\":\\\"FieldComponentDef\\\",\\\"componentId\\\":{\\\"$ref\\\":\\\"#/components@5\\\"},\\\"componentPropsKeys\\\":[],\\\"componentPropsValues\\\":[]}}]},{\\\"$type\\\":\\\"Field\\\",\\\"name\\\":\\\"i_\\\",\\\"state\\\":{\\\"$type\\\":\\\"FieldStateDef\\\",\\\"type\\\":\\\"string\\\",\\\"isArray\\\":false},\\\"component\\\":{\\\"$type\\\":\\\"FieldComponentDef\\\",\\\"componentId\\\":{\\\"$ref\\\":\\\"#/components@6\\\"},\\\"componentPropsKeys\\\":[],\\\"componentPropsValues\\\":[]}}]}\",\n          \"{\\\"$type\\\":\\\"Form\\\",\\\"name\\\":\\\"f\\\",\\\"component\\\":{\\\"$type\\\":\\\"FieldComponentDef\\\",\\\"componentId\\\":{\\\"$ref\\\":\\\"#/components@0\\\"},\\\"componentPropsKeys\\\":[],\\\"componentPropsValues\\\":[]},\\\"children\\\":[{\\\"$type\\\":\\\"Field\\\",\\\"name\\\":\\\"o\\\",\\\"state\\\":{\\\"$type\\\":\\\"FieldStateDef\\\",\\\"type\\\":\\\"string\\\",\\\"defaultValue\\\":{\\\"$type\\\":\\\"ValueExpression\\\",\\\"value\\\":\\\"Jodi O'Kon\\\",\\\"isExpression\\\":false},\\\"isArray\\\":false},\\\"component\\\":{\\\"$type\\\":\\\"FieldComponentDef\\\",\\\"componentId\\\":{\\\"$ref\\\":\\\"#/components@5\\\"},\\\"componentPropsKeys\\\":[],\\\"componentPropsValues\\\":[]}},{\\\"$type\\\":\\\"Field\\\",\\\"name\\\":\\\"Dw\\\",\\\"component\\\":{\\\"$type\\\":\\\"FieldComponentDef\\\",\\\"componentId\\\":{\\\"$ref\\\":\\\"#/components@6\\\"},\\\"componentPropsKeys\\\":[],\\\"componentPropsValues\\\":[]}}]}\"\n        ],\n        \"semantic_type\": \"\",\n        \"description\": \"\"\n      }\n    }\n  ]\n}"
            }
          },
          "metadata": {},
          "execution_count": 45
        }
      ],
      "source": [
        "examples = create_random_data(form_gen, form_components, field_components, 3000)\n",
        "examples.head()"
      ]
    },
    {
      "cell_type": "markdown",
      "id": "af103185-183e-4d5b-b3d1-68777f4553c9",
      "metadata": {
        "jp-MarkdownHeadingCollapsed": true,
        "id": "af103185-183e-4d5b-b3d1-68777f4553c9"
      },
      "source": [
        "#### Example generated FormLang code and its AST"
      ]
    },
    {
      "cell_type": "code",
      "execution_count": 46,
      "id": "6e3ef8c5-5492-4c2a-8cb7-f3ebb49156bf",
      "metadata": {
        "colab": {
          "base_uri": "https://localhost:8080/",
          "height": 105
        },
        "id": "6e3ef8c5-5492-4c2a-8cb7-f3ebb49156bf",
        "outputId": "b3ab3f3a-cadc-4873-870b-d788613c0a67"
      },
      "outputs": [
        {
          "output_type": "execute_result",
          "data": {
            "text/plain": [
              "'\\n  component userDetailsContainer {}\\n  component formContainer {}\\n  component someOtherContainer {}\\n  component OtherContainer2 {}\\n\\n\\n  component myTextBox {\\n    props {\\n      textColor\\n      textSize\\n      textWeight\\n      borderColor\\n    }\\n  }\\n  component myCheckbox {\\n    props {\\n      size\\n    }\\n  }\\n  component otherTextBox {}\\n  component counter {\\n    props {\\n      style\\n    }\\n  }\\n\\nform T_ {\\n\\tcomp userDetailsContainer \\n\\t\\n\\tform H {\\n\\t\\tcomp userDetailsContainer \\n\\t\\t\\n\\t\\tfield Ew {\\n\\t\\t\\tcomp otherTextBox \\n\\t\\t\\t\\n\\t\\t}\\n\\t\\tfield Rw_w {\\n\\t\\t\\tcomp otherTextBox \\n\\t\\t\\t\\n\\t\\t}\\n\\t\\tfield F_ {\\n\\t\\t\\tstate number\\n\\t\\t\\tcomp myTextBox borderColor=\"#301410\" textSize=\"(() => 97.65823852274963)()\" as expression\\n\\t\\t\\t\\n\\t\\t}\\n\\t}\\n\\n\\tfield p___ {\\n\\t\\tcomp otherTextBox \\n\\t\\t\\n\\t}\\n\\tfield vw {\\n\\t\\tstate string default \"Frankie Kessler\"\\n\\t\\tcomp counter style=\"#5b426f\"\\n\\t\\t\\n\\t}\\n\\tfield f {\\n\\t\\tcomp counter \\n\\t\\t\\n\\t}\\n\\tfield q {\\n\\t\\tstate boolean\\n\\t\\tcomp counter style=\"#515f42\"\\n\\t\\t\\n\\t}\\n\\tfield Rw {\\n\\t\\tstate string\\n\\t\\tcomp myTextBox \\n\\t\\t\\n\\t}\\n}\\n'"
            ],
            "application/vnd.google.colaboratory.intrinsic+json": {
              "type": "string"
            }
          },
          "metadata": {},
          "execution_count": 46
        }
      ],
      "source": [
        "examples[\"originalFormCode\"][1132]"
      ]
    },
    {
      "cell_type": "code",
      "execution_count": 47,
      "id": "61cdb18b-bdce-4e20-8df0-f08f6304fceb",
      "metadata": {
        "colab": {
          "base_uri": "https://localhost:8080/",
          "height": 105
        },
        "id": "61cdb18b-bdce-4e20-8df0-f08f6304fceb",
        "outputId": "2a1ec13a-dd0a-41ce-9e49-2dec4d2e1918"
      },
      "outputs": [
        {
          "output_type": "execute_result",
          "data": {
            "text/plain": [
              "'{\"$type\":\"Form\",\"name\":\"T_\",\"component\":{\"$type\":\"FieldComponentDef\",\"componentId\":{\"$ref\":\"#/components@0\"},\"componentPropsKeys\":[],\"componentPropsValues\":[]},\"children\":[{\"$type\":\"Form\",\"name\":\"H\",\"component\":{\"$type\":\"FieldComponentDef\",\"componentId\":{\"$ref\":\"#/components@0\"},\"componentPropsKeys\":[],\"componentPropsValues\":[]},\"children\":[{\"$type\":\"Field\",\"name\":\"Ew\",\"component\":{\"$type\":\"FieldComponentDef\",\"componentId\":{\"$ref\":\"#/components@6\"},\"componentPropsKeys\":[],\"componentPropsValues\":[]}},{\"$type\":\"Field\",\"name\":\"Rw_w\",\"component\":{\"$type\":\"FieldComponentDef\",\"componentId\":{\"$ref\":\"#/components@6\"},\"componentPropsKeys\":[],\"componentPropsValues\":[]}},{\"$type\":\"Field\",\"name\":\"F_\",\"state\":{\"$type\":\"FieldStateDef\",\"type\":\"number\",\"isArray\":false},\"component\":{\"$type\":\"FieldComponentDef\",\"componentId\":{\"$ref\":\"#/components@4\"},\"componentPropsKeys\":[{\"$type\":\"ComponentPropKey\",\"key\":\"borderColor\"},{\"$type\":\"ComponentPropKey\",\"key\":\"textSize\"}],\"componentPropsValues\":[{\"$type\":\"ValueExpression\",\"value\":\"#301410\",\"isExpression\":false},{\"$type\":\"ValueExpression\",\"value\":\"(() => 97.65823852274963)()\",\"isExpression\":true}]}}]},{\"$type\":\"Field\",\"name\":\"p___\",\"component\":{\"$type\":\"FieldComponentDef\",\"componentId\":{\"$ref\":\"#/components@6\"},\"componentPropsKeys\":[],\"componentPropsValues\":[]}},{\"$type\":\"Field\",\"name\":\"vw\",\"state\":{\"$type\":\"FieldStateDef\",\"type\":\"string\",\"defaultValue\":{\"$type\":\"ValueExpression\",\"value\":\"Frankie Kessler\",\"isExpression\":false},\"isArray\":false},\"component\":{\"$type\":\"FieldComponentDef\",\"componentId\":{\"$ref\":\"#/components@7\"},\"componentPropsKeys\":[{\"$type\":\"ComponentPropKey\",\"key\":\"style\"}],\"componentPropsValues\":[{\"$type\":\"ValueExpression\",\"value\":\"#5b426f\",\"isExpression\":false}]}},{\"$type\":\"Field\",\"name\":\"f\",\"component\":{\"$type\":\"FieldComponentDef\",\"componentId\":{\"$ref\":\"#/components@7\"},\"componentPropsKeys\":[],\"componentPropsValues\":[]}},{\"$type\":\"Field\",\"name\":\"q\",\"state\":{\"$type\":\"FieldStateDef\",\"type\":\"boolean\",\"isArray\":false},\"component\":{\"$type\":\"FieldComponentDef\",\"componentId\":{\"$ref\":\"#/components@7\"},\"componentPropsKeys\":[{\"$type\":\"ComponentPropKey\",\"key\":\"style\"}],\"componentPropsValues\":[{\"$type\":\"ValueExpression\",\"value\":\"#515f42\",\"isExpression\":false}]}},{\"$type\":\"Field\",\"name\":\"Rw\",\"state\":{\"$type\":\"FieldStateDef\",\"type\":\"string\",\"isArray\":false},\"component\":{\"$type\":\"FieldComponentDef\",\"componentId\":{\"$ref\":\"#/components@4\"},\"componentPropsKeys\":[],\"componentPropsValues\":[]}}]}'"
            ],
            "application/vnd.google.colaboratory.intrinsic+json": {
              "type": "string"
            }
          },
          "metadata": {},
          "execution_count": 47
        }
      ],
      "source": [
        "examples[\"originalFormAst\"][1132]"
      ]
    },
    {
      "cell_type": "markdown",
      "id": "d8c8e36d-0ee3-4d57-bcd1-212548bdd2f7",
      "metadata": {
        "id": "d8c8e36d-0ee3-4d57-bcd1-212548bdd2f7"
      },
      "source": [
        "### Creating the prompts\n",
        "\n",
        "We now create the user prompt which will be used to train the LLM."
      ]
    },
    {
      "cell_type": "markdown",
      "source": [
        "#### System prompt\n",
        "\n",
        "Frist we create a System promot which instructs the LLM to generate the original form (the `serializedForm` column) given the modified form, an English description of the removed node and its surrounding context (describing which element is the Form's parent and which elements are its siblings).\n"
      ],
      "metadata": {
        "id": "uT_enSsLCBAo"
      },
      "id": "uT_enSsLCBAo"
    },
    {
      "cell_type": "code",
      "execution_count": 9,
      "id": "b4b6667d-4313-4aab-9f4e-03bd9acd00a4",
      "metadata": {
        "id": "b4b6667d-4313-4aab-9f4e-03bd9acd00a4"
      },
      "outputs": [],
      "source": [
        "def get_system_prompt():\n",
        "    return (\n",
        "        \"You are a code generation AI assistant.\\n\"\n",
        "        \"Your job is to generate valid FormLang code according to the instructions given below:\\n\"\n",
        "            \"Inspect the following FormLang Form definition, the start of the code will be denoted with ```FormLang and its end with ``` .\\n\"\n",
        "            \"After inspection, complete the Form's code according to the given a description of a new form element and a description of its location in the form.\\n\"\n",
        "            \"You may assume that the new form element to be added is always either a 'form' or a 'field'.\\n\"\n",
        "            \"Your output must be valid and compiler-friendly FormLang code only.\\n\"\n",
        "            \"If you are unsure of the FormLang syntax, try to infer it from the form code which is given below as an input.\"\n",
        "            \"Your answer will be evaluated using an AST comparison of your code to the expected code.\\n\"\n",
        "            \"Assume that the input code is valid and requires no modification other than the NEW code you must generate.\\n\"\n",
        "            \"You must output plain FormLang code without any additional text or delimiters.\\n\"\n",
        "            \"You must not change any part of the original input code other than adding the required element.\\n\"\n",
        "    )\n",
        "\n"
      ]
    },
    {
      "cell_type": "markdown",
      "source": [
        "#### User prompt\n",
        "\n",
        "The user prompt consists of the modified FormLang code taken from each of our dataset examples along with the english description of the form element to add and its location (context) in the form."
      ],
      "metadata": {
        "id": "8chJRh_zCHsl"
      },
      "id": "8chJRh_zCHsl"
    },
    {
      "cell_type": "code",
      "source": [
        "def create_prompt(row, with_system_prompt=False):\n",
        "    return (get_system_prompt() if with_system_prompt else \"\") + (\n",
        "            \"```FormLang\\n\"\n",
        "            f\"{row['modifiedFormCode']}\\n\"\n",
        "            \"```\\n\"\n",
        "            \"The description of the form element you need to add:\\n\"\n",
        "            f\"{row['removedNodeEnglish']}\\n\"\n",
        "            \"The description of the context in the form where you should add the element:\\n\"\n",
        "            f\"The element to be added:\\n{row['removedNodeContextEnglish']}\\n\"\n",
        "           )"
      ],
      "metadata": {
        "id": "-1vqgTopCaOR"
      },
      "id": "-1vqgTopCaOR",
      "execution_count": 10,
      "outputs": []
    },
    {
      "cell_type": "code",
      "execution_count": 49,
      "id": "b8064d9a-d883-43e5-bb7a-81f81929cffd",
      "metadata": {
        "colab": {
          "base_uri": "https://localhost:8080/",
          "height": 293
        },
        "id": "b8064d9a-d883-43e5-bb7a-81f81929cffd",
        "outputId": "509bf67b-a531-4dda-c696-d98f0e0210bc"
      },
      "outputs": [
        {
          "output_type": "execute_result",
          "data": {
            "text/plain": [
              "                                    originalFormCode  \\\n",
              "0  \\n  component userDetailsContainer {}\\n  compo...   \n",
              "1  \\n  component userDetailsContainer {}\\n  compo...   \n",
              "2  \\n  component userDetailsContainer {}\\n  compo...   \n",
              "3  \\n  component userDetailsContainer {}\\n  compo...   \n",
              "4  \\n  component userDetailsContainer {}\\n  compo...   \n",
              "\n",
              "                                    modifiedFormCode  \\\n",
              "0  \\n  component userDetailsContainer {}\\n  compo...   \n",
              "1  \\n  component userDetailsContainer {}\\n  compo...   \n",
              "2  \\n  component userDetailsContainer {}\\n  compo...   \n",
              "3  \\n  component userDetailsContainer {}\\n  compo...   \n",
              "4  \\n  component userDetailsContainer {}\\n  compo...   \n",
              "\n",
              "                                  removedNodeEnglish  \\\n",
              "0  \\ta field whose id is 'Z_' with state of type:...   \n",
              "1  \\ta field whose id is 'p_' with state of type:...   \n",
              "2  \\ta field whose id is 'F' using the component ...   \n",
              "3  \\t\\ta field whose id is 'Pww_ww___w' using the...   \n",
              "4  \\ta field whose id is 'nw' with state of type:...   \n",
              "\n",
              "                           removedNodeContextEnglish  \\\n",
              "0  * is a child of the form whose id is 'Bw'.\\n* ...   \n",
              "1  * is a child of the form whose id is 'Cw'.\\n* ...   \n",
              "2  * is a child of the form whose id is 'Vw'.\\n* ...   \n",
              "3  * is a child of the form whose id is 'd'.\\n* i...   \n",
              "4  * is a child of the form whose id is 'a_'.\\n* ...   \n",
              "\n",
              "                                     originalFormAst  \\\n",
              "0  {\"$type\":\"Form\",\"name\":\"Bw\",\"component\":{\"$typ...   \n",
              "1  {\"$type\":\"Form\",\"name\":\"Cw\",\"component\":{\"$typ...   \n",
              "2  {\"$type\":\"Form\",\"name\":\"Vw\",\"component\":{\"$typ...   \n",
              "3  {\"$type\":\"Form\",\"name\":\"Lw\",\"component\":{\"$typ...   \n",
              "4  {\"$type\":\"Form\",\"name\":\"a_\",\"component\":{\"$typ...   \n",
              "\n",
              "                                          userPrompt  \n",
              "0  ```FormLang\\n\\n  component userDetailsContaine...  \n",
              "1  ```FormLang\\n\\n  component userDetailsContaine...  \n",
              "2  ```FormLang\\n\\n  component userDetailsContaine...  \n",
              "3  ```FormLang\\n\\n  component userDetailsContaine...  \n",
              "4  ```FormLang\\n\\n  component userDetailsContaine...  "
            ],
            "text/html": [
              "\n",
              "  <div id=\"df-41320571-a9d6-404a-91bd-c0d4ff093fe5\" class=\"colab-df-container\">\n",
              "    <div>\n",
              "<style scoped>\n",
              "    .dataframe tbody tr th:only-of-type {\n",
              "        vertical-align: middle;\n",
              "    }\n",
              "\n",
              "    .dataframe tbody tr th {\n",
              "        vertical-align: top;\n",
              "    }\n",
              "\n",
              "    .dataframe thead th {\n",
              "        text-align: right;\n",
              "    }\n",
              "</style>\n",
              "<table border=\"1\" class=\"dataframe\">\n",
              "  <thead>\n",
              "    <tr style=\"text-align: right;\">\n",
              "      <th></th>\n",
              "      <th>originalFormCode</th>\n",
              "      <th>modifiedFormCode</th>\n",
              "      <th>removedNodeEnglish</th>\n",
              "      <th>removedNodeContextEnglish</th>\n",
              "      <th>originalFormAst</th>\n",
              "      <th>userPrompt</th>\n",
              "    </tr>\n",
              "  </thead>\n",
              "  <tbody>\n",
              "    <tr>\n",
              "      <th>0</th>\n",
              "      <td>\\n  component userDetailsContainer {}\\n  compo...</td>\n",
              "      <td>\\n  component userDetailsContainer {}\\n  compo...</td>\n",
              "      <td>\\ta field whose id is 'Z_' with state of type:...</td>\n",
              "      <td>* is a child of the form whose id is 'Bw'.\\n* ...</td>\n",
              "      <td>{\"$type\":\"Form\",\"name\":\"Bw\",\"component\":{\"$typ...</td>\n",
              "      <td>```FormLang\\n\\n  component userDetailsContaine...</td>\n",
              "    </tr>\n",
              "    <tr>\n",
              "      <th>1</th>\n",
              "      <td>\\n  component userDetailsContainer {}\\n  compo...</td>\n",
              "      <td>\\n  component userDetailsContainer {}\\n  compo...</td>\n",
              "      <td>\\ta field whose id is 'p_' with state of type:...</td>\n",
              "      <td>* is a child of the form whose id is 'Cw'.\\n* ...</td>\n",
              "      <td>{\"$type\":\"Form\",\"name\":\"Cw\",\"component\":{\"$typ...</td>\n",
              "      <td>```FormLang\\n\\n  component userDetailsContaine...</td>\n",
              "    </tr>\n",
              "    <tr>\n",
              "      <th>2</th>\n",
              "      <td>\\n  component userDetailsContainer {}\\n  compo...</td>\n",
              "      <td>\\n  component userDetailsContainer {}\\n  compo...</td>\n",
              "      <td>\\ta field whose id is 'F' using the component ...</td>\n",
              "      <td>* is a child of the form whose id is 'Vw'.\\n* ...</td>\n",
              "      <td>{\"$type\":\"Form\",\"name\":\"Vw\",\"component\":{\"$typ...</td>\n",
              "      <td>```FormLang\\n\\n  component userDetailsContaine...</td>\n",
              "    </tr>\n",
              "    <tr>\n",
              "      <th>3</th>\n",
              "      <td>\\n  component userDetailsContainer {}\\n  compo...</td>\n",
              "      <td>\\n  component userDetailsContainer {}\\n  compo...</td>\n",
              "      <td>\\t\\ta field whose id is 'Pww_ww___w' using the...</td>\n",
              "      <td>* is a child of the form whose id is 'd'.\\n* i...</td>\n",
              "      <td>{\"$type\":\"Form\",\"name\":\"Lw\",\"component\":{\"$typ...</td>\n",
              "      <td>```FormLang\\n\\n  component userDetailsContaine...</td>\n",
              "    </tr>\n",
              "    <tr>\n",
              "      <th>4</th>\n",
              "      <td>\\n  component userDetailsContainer {}\\n  compo...</td>\n",
              "      <td>\\n  component userDetailsContainer {}\\n  compo...</td>\n",
              "      <td>\\ta field whose id is 'nw' with state of type:...</td>\n",
              "      <td>* is a child of the form whose id is 'a_'.\\n* ...</td>\n",
              "      <td>{\"$type\":\"Form\",\"name\":\"a_\",\"component\":{\"$typ...</td>\n",
              "      <td>```FormLang\\n\\n  component userDetailsContaine...</td>\n",
              "    </tr>\n",
              "  </tbody>\n",
              "</table>\n",
              "</div>\n",
              "    <div class=\"colab-df-buttons\">\n",
              "\n",
              "  <div class=\"colab-df-container\">\n",
              "    <button class=\"colab-df-convert\" onclick=\"convertToInteractive('df-41320571-a9d6-404a-91bd-c0d4ff093fe5')\"\n",
              "            title=\"Convert this dataframe to an interactive table.\"\n",
              "            style=\"display:none;\">\n",
              "\n",
              "  <svg xmlns=\"http://www.w3.org/2000/svg\" height=\"24px\" viewBox=\"0 -960 960 960\">\n",
              "    <path d=\"M120-120v-720h720v720H120Zm60-500h600v-160H180v160Zm220 220h160v-160H400v160Zm0 220h160v-160H400v160ZM180-400h160v-160H180v160Zm440 0h160v-160H620v160ZM180-180h160v-160H180v160Zm440 0h160v-160H620v160Z\"/>\n",
              "  </svg>\n",
              "    </button>\n",
              "\n",
              "  <style>\n",
              "    .colab-df-container {\n",
              "      display:flex;\n",
              "      gap: 12px;\n",
              "    }\n",
              "\n",
              "    .colab-df-convert {\n",
              "      background-color: #E8F0FE;\n",
              "      border: none;\n",
              "      border-radius: 50%;\n",
              "      cursor: pointer;\n",
              "      display: none;\n",
              "      fill: #1967D2;\n",
              "      height: 32px;\n",
              "      padding: 0 0 0 0;\n",
              "      width: 32px;\n",
              "    }\n",
              "\n",
              "    .colab-df-convert:hover {\n",
              "      background-color: #E2EBFA;\n",
              "      box-shadow: 0px 1px 2px rgba(60, 64, 67, 0.3), 0px 1px 3px 1px rgba(60, 64, 67, 0.15);\n",
              "      fill: #174EA6;\n",
              "    }\n",
              "\n",
              "    .colab-df-buttons div {\n",
              "      margin-bottom: 4px;\n",
              "    }\n",
              "\n",
              "    [theme=dark] .colab-df-convert {\n",
              "      background-color: #3B4455;\n",
              "      fill: #D2E3FC;\n",
              "    }\n",
              "\n",
              "    [theme=dark] .colab-df-convert:hover {\n",
              "      background-color: #434B5C;\n",
              "      box-shadow: 0px 1px 3px 1px rgba(0, 0, 0, 0.15);\n",
              "      filter: drop-shadow(0px 1px 2px rgba(0, 0, 0, 0.3));\n",
              "      fill: #FFFFFF;\n",
              "    }\n",
              "  </style>\n",
              "\n",
              "    <script>\n",
              "      const buttonEl =\n",
              "        document.querySelector('#df-41320571-a9d6-404a-91bd-c0d4ff093fe5 button.colab-df-convert');\n",
              "      buttonEl.style.display =\n",
              "        google.colab.kernel.accessAllowed ? 'block' : 'none';\n",
              "\n",
              "      async function convertToInteractive(key) {\n",
              "        const element = document.querySelector('#df-41320571-a9d6-404a-91bd-c0d4ff093fe5');\n",
              "        const dataTable =\n",
              "          await google.colab.kernel.invokeFunction('convertToInteractive',\n",
              "                                                    [key], {});\n",
              "        if (!dataTable) return;\n",
              "\n",
              "        const docLinkHtml = 'Like what you see? Visit the ' +\n",
              "          '<a target=\"_blank\" href=https://colab.research.google.com/notebooks/data_table.ipynb>data table notebook</a>'\n",
              "          + ' to learn more about interactive tables.';\n",
              "        element.innerHTML = '';\n",
              "        dataTable['output_type'] = 'display_data';\n",
              "        await google.colab.output.renderOutput(dataTable, element);\n",
              "        const docLink = document.createElement('div');\n",
              "        docLink.innerHTML = docLinkHtml;\n",
              "        element.appendChild(docLink);\n",
              "      }\n",
              "    </script>\n",
              "  </div>\n",
              "\n",
              "\n",
              "<div id=\"df-06309696-2758-4581-abb3-3b83b38ce4c0\">\n",
              "  <button class=\"colab-df-quickchart\" onclick=\"quickchart('df-06309696-2758-4581-abb3-3b83b38ce4c0')\"\n",
              "            title=\"Suggest charts\"\n",
              "            style=\"display:none;\">\n",
              "\n",
              "<svg xmlns=\"http://www.w3.org/2000/svg\" height=\"24px\"viewBox=\"0 0 24 24\"\n",
              "     width=\"24px\">\n",
              "    <g>\n",
              "        <path d=\"M19 3H5c-1.1 0-2 .9-2 2v14c0 1.1.9 2 2 2h14c1.1 0 2-.9 2-2V5c0-1.1-.9-2-2-2zM9 17H7v-7h2v7zm4 0h-2V7h2v10zm4 0h-2v-4h2v4z\"/>\n",
              "    </g>\n",
              "</svg>\n",
              "  </button>\n",
              "\n",
              "<style>\n",
              "  .colab-df-quickchart {\n",
              "      --bg-color: #E8F0FE;\n",
              "      --fill-color: #1967D2;\n",
              "      --hover-bg-color: #E2EBFA;\n",
              "      --hover-fill-color: #174EA6;\n",
              "      --disabled-fill-color: #AAA;\n",
              "      --disabled-bg-color: #DDD;\n",
              "  }\n",
              "\n",
              "  [theme=dark] .colab-df-quickchart {\n",
              "      --bg-color: #3B4455;\n",
              "      --fill-color: #D2E3FC;\n",
              "      --hover-bg-color: #434B5C;\n",
              "      --hover-fill-color: #FFFFFF;\n",
              "      --disabled-bg-color: #3B4455;\n",
              "      --disabled-fill-color: #666;\n",
              "  }\n",
              "\n",
              "  .colab-df-quickchart {\n",
              "    background-color: var(--bg-color);\n",
              "    border: none;\n",
              "    border-radius: 50%;\n",
              "    cursor: pointer;\n",
              "    display: none;\n",
              "    fill: var(--fill-color);\n",
              "    height: 32px;\n",
              "    padding: 0;\n",
              "    width: 32px;\n",
              "  }\n",
              "\n",
              "  .colab-df-quickchart:hover {\n",
              "    background-color: var(--hover-bg-color);\n",
              "    box-shadow: 0 1px 2px rgba(60, 64, 67, 0.3), 0 1px 3px 1px rgba(60, 64, 67, 0.15);\n",
              "    fill: var(--button-hover-fill-color);\n",
              "  }\n",
              "\n",
              "  .colab-df-quickchart-complete:disabled,\n",
              "  .colab-df-quickchart-complete:disabled:hover {\n",
              "    background-color: var(--disabled-bg-color);\n",
              "    fill: var(--disabled-fill-color);\n",
              "    box-shadow: none;\n",
              "  }\n",
              "\n",
              "  .colab-df-spinner {\n",
              "    border: 2px solid var(--fill-color);\n",
              "    border-color: transparent;\n",
              "    border-bottom-color: var(--fill-color);\n",
              "    animation:\n",
              "      spin 1s steps(1) infinite;\n",
              "  }\n",
              "\n",
              "  @keyframes spin {\n",
              "    0% {\n",
              "      border-color: transparent;\n",
              "      border-bottom-color: var(--fill-color);\n",
              "      border-left-color: var(--fill-color);\n",
              "    }\n",
              "    20% {\n",
              "      border-color: transparent;\n",
              "      border-left-color: var(--fill-color);\n",
              "      border-top-color: var(--fill-color);\n",
              "    }\n",
              "    30% {\n",
              "      border-color: transparent;\n",
              "      border-left-color: var(--fill-color);\n",
              "      border-top-color: var(--fill-color);\n",
              "      border-right-color: var(--fill-color);\n",
              "    }\n",
              "    40% {\n",
              "      border-color: transparent;\n",
              "      border-right-color: var(--fill-color);\n",
              "      border-top-color: var(--fill-color);\n",
              "    }\n",
              "    60% {\n",
              "      border-color: transparent;\n",
              "      border-right-color: var(--fill-color);\n",
              "    }\n",
              "    80% {\n",
              "      border-color: transparent;\n",
              "      border-right-color: var(--fill-color);\n",
              "      border-bottom-color: var(--fill-color);\n",
              "    }\n",
              "    90% {\n",
              "      border-color: transparent;\n",
              "      border-bottom-color: var(--fill-color);\n",
              "    }\n",
              "  }\n",
              "</style>\n",
              "\n",
              "  <script>\n",
              "    async function quickchart(key) {\n",
              "      const quickchartButtonEl =\n",
              "        document.querySelector('#' + key + ' button');\n",
              "      quickchartButtonEl.disabled = true;  // To prevent multiple clicks.\n",
              "      quickchartButtonEl.classList.add('colab-df-spinner');\n",
              "      try {\n",
              "        const charts = await google.colab.kernel.invokeFunction(\n",
              "            'suggestCharts', [key], {});\n",
              "      } catch (error) {\n",
              "        console.error('Error during call to suggestCharts:', error);\n",
              "      }\n",
              "      quickchartButtonEl.classList.remove('colab-df-spinner');\n",
              "      quickchartButtonEl.classList.add('colab-df-quickchart-complete');\n",
              "    }\n",
              "    (() => {\n",
              "      let quickchartButtonEl =\n",
              "        document.querySelector('#df-06309696-2758-4581-abb3-3b83b38ce4c0 button');\n",
              "      quickchartButtonEl.style.display =\n",
              "        google.colab.kernel.accessAllowed ? 'block' : 'none';\n",
              "    })();\n",
              "  </script>\n",
              "</div>\n",
              "\n",
              "    </div>\n",
              "  </div>\n"
            ],
            "application/vnd.google.colaboratory.intrinsic+json": {
              "type": "dataframe",
              "variable_name": "examples",
              "summary": "{\n  \"name\": \"examples\",\n  \"rows\": 3000,\n  \"fields\": [\n    {\n      \"column\": \"originalFormCode\",\n      \"properties\": {\n        \"dtype\": \"string\",\n        \"num_unique_values\": 3000,\n        \"samples\": [\n          \"\\n  component userDetailsContainer {}\\n  component formContainer {}\\n  component someOtherContainer {}\\n  component OtherContainer2 {}\\n\\n\\n  component myTextBox {\\n    props {\\n      textColor\\n      textSize\\n      textWeight\\n      borderColor\\n    }\\n  }\\n  component myCheckbox {\\n    props {\\n      size\\n    }\\n  }\\n  component otherTextBox {}\\n  component counter {\\n    props {\\n      style\\n    }\\n  }\\n\\nform Ew {\\n\\tcomp userDetailsContainer \\n\\t\\n\\tfield O_ {\\n\\t\\tstate string[]\\n\\t\\tcomp counter \\n\\t\\t\\n\\t}\\n\\tfield k_ {\\n\\t\\tcomp otherTextBox \\n\\t\\t\\n\\t}\\n\\tfield Kw {\\n\\t\\tcomp myTextBox \\n\\t\\t\\n\\t}\\n\\tfield Yww {\\n\\t\\tstate string default \\\"'Cesar Kihn'\\\" as expression\\n\\t\\tcomp counter style=\\\"#493826\\\"\\n\\t\\t\\n\\t}\\n}\\n\",\n          \"\\n  component userDetailsContainer {}\\n  component formContainer {}\\n  component someOtherContainer {}\\n  component OtherContainer2 {}\\n\\n\\n  component myTextBox {\\n    props {\\n      textColor\\n      textSize\\n      textWeight\\n      borderColor\\n    }\\n  }\\n  component myCheckbox {\\n    props {\\n      size\\n    }\\n  }\\n  component otherTextBox {}\\n  component counter {\\n    props {\\n      style\\n    }\\n  }\\n\\nform bww {\\n\\tcomp userDetailsContainer \\n\\t\\n\\tform P__ww {\\n\\t\\tcomp formContainer \\n\\t\\t\\n\\t\\tfield Bw_ww__ww {\\n\\t\\t\\tstate boolean default \\\"false\\\" as expression\\n\\t\\t\\tcomp myCheckbox size=\\\"'hello'.replace('l', 'L')\\\" as expression\\n\\t\\t\\t\\n\\t\\t}\\n\\t\\tform d {\\n\\t\\t\\tcomp OtherContainer2 \\n\\t\\t\\t\\n\\t\\t\\tfield sw {\\n\\t\\t\\t\\tstate boolean default \\\"true\\\" as expression\\n\\t\\t\\t\\tcomp otherTextBox \\n\\t\\t\\t\\t\\n\\t\\t\\t}\\n\\t\\t\\tfield Sw {\\n\\t\\t\\t\\tcomp myCheckbox size=\\\"'Hello'.toLowerCase()\\\" as expression\\n\\t\\t\\t\\t\\n\\t\\t\\t}\\n\\t\\t}\\n\\n\\t\\tfield hw {\\n\\t\\t\\tcomp myCheckbox size=\\\"#53736e\\\"\\n\\t\\t\\t\\n\\t\\t}\\n\\t\\tfield c {\\n\\t\\t\\tstate boolean default \\\"false\\\" as expression\\n\\t\\t\\tcomp myCheckbox size=\\\"#281537\\\"\\n\\t\\t\\t\\n\\t\\t}\\n\\t\\tfield a_ {\\n\\t\\t\\tstate string default \\\"Pauline Ortiz\\\"\\n\\t\\t\\tcomp myCheckbox \\n\\t\\t\\t\\n\\t\\t}\\n\\t\\tfield Iw_ {\\n\\t\\t\\tstate string\\n\\t\\t\\tcomp myCheckbox \\n\\t\\t\\t\\n\\t\\t}\\n\\t}\\n\\n\\tfield i_ {\\n\\t\\tstate string\\n\\t\\tcomp otherTextBox \\n\\t\\t\\n\\t}\\n}\\n\",\n          \"\\n  component userDetailsContainer {}\\n  component formContainer {}\\n  component someOtherContainer {}\\n  component OtherContainer2 {}\\n\\n\\n  component myTextBox {\\n    props {\\n      textColor\\n      textSize\\n      textWeight\\n      borderColor\\n    }\\n  }\\n  component myCheckbox {\\n    props {\\n      size\\n    }\\n  }\\n  component otherTextBox {}\\n  component counter {\\n    props {\\n      style\\n    }\\n  }\\n\\nform f {\\n\\tcomp userDetailsContainer \\n\\t\\n\\tfield o {\\n\\t\\tstate string default \\\"Jodi O'Kon\\\"\\n\\t\\tcomp myCheckbox \\n\\t\\t\\n\\t}\\n\\tfield Dw {\\n\\t\\tcomp otherTextBox \\n\\t\\t\\n\\t}\\n}\\n\"\n        ],\n        \"semantic_type\": \"\",\n        \"description\": \"\"\n      }\n    },\n    {\n      \"column\": \"modifiedFormCode\",\n      \"properties\": {\n        \"dtype\": \"string\",\n        \"num_unique_values\": 2928,\n        \"samples\": [\n          \"\\n  component userDetailsContainer {}\\n  component formContainer {}\\n  component someOtherContainer {}\\n  component OtherContainer2 {}\\n\\n\\n  component myTextBox {\\n    props {\\n      textColor\\n      textSize\\n      textWeight\\n      borderColor\\n    }\\n  }\\n  component myCheckbox {\\n    props {\\n      size\\n    }\\n  }\\n  component otherTextBox {}\\n  component counter {\\n    props {\\n      style\\n    }\\n  }\\n\\nform m {\\n\\tcomp OtherContainer2 \\n\\t\\n\\tfield k {\\n\\t\\tstate number[]\\n\\t\\tcomp myCheckbox size=\\\"2 ** 4\\\" as expression\\n\\t\\t\\n\\t}\\n}\\n\",\n          \"\\n  component userDetailsContainer {}\\n  component formContainer {}\\n  component someOtherContainer {}\\n  component OtherContainer2 {}\\n\\n\\n  component myTextBox {\\n    props {\\n      textColor\\n      textSize\\n      textWeight\\n      borderColor\\n    }\\n  }\\n  component myCheckbox {\\n    props {\\n      size\\n    }\\n  }\\n  component otherTextBox {}\\n  component counter {\\n    props {\\n      style\\n    }\\n  }\\n\\nform Uw {\\n\\tcomp formContainer \\n\\t\\n\\tform Pww_w_www {\\n\\t\\tcomp userDetailsContainer \\n\\t\\t\\n\\t\\tfield xw {\\n\\t\\t\\tstate number[] default \\\"[]\\\" as expression\\n\\t\\t\\tcomp myCheckbox \\n\\t\\t\\t\\n\\t\\t}\\n\\t}\\n\\n\\tfield jw {\\n\\t\\tcomp myTextBox textWeight=\\\"[1, 2, 3].splice(1, 1)\\\" as expression textSize=\\\"10 < 20 ? 'yes' : 'no'\\\" as expression\\n\\t\\t\\n\\t}\\n\\tfield Rww_w__ww_w_w___w__w____ {\\n\\t\\tcomp myCheckbox size=\\\"#5e3c15\\\"\\n\\t\\t\\n\\t}\\n\\tfield Tww {\\n\\t\\tstate string\\n\\t\\tcomp otherTextBox \\n\\t\\t\\n\\t}\\n\\tform x_ {\\n\\t\\tcomp OtherContainer2 \\n\\t\\t\\n\\t\\tfield N {\\n\\t\\t\\tcomp myCheckbox size=\\\"#585a41\\\"\\n\\t\\t\\t\\n\\t\\t}\\n\\t\\tfield S {\\n\\t\\t\\tstate number\\n\\t\\t\\tcomp counter \\n\\t\\t\\t\\n\\t\\t}\\n\\t}\\n\\n\\tform rw {\\n\\t\\tcomp OtherContainer2 \\n\\t\\t\\n\\t\\tfield E_w_ww_w_www_ww_ {\\n\\t\\t\\tcomp otherTextBox \\n\\t\\t\\t\\n\\t\\t}\\n\\t}\\n\\n}\\n\",\n          \"\\n  component userDetailsContainer {}\\n  component formContainer {}\\n  component someOtherContainer {}\\n  component OtherContainer2 {}\\n\\n\\n  component myTextBox {\\n    props {\\n      textColor\\n      textSize\\n      textWeight\\n      borderColor\\n    }\\n  }\\n  component myCheckbox {\\n    props {\\n      size\\n    }\\n  }\\n  component otherTextBox {}\\n  component counter {\\n    props {\\n      style\\n    }\\n  }\\n\\nform y {\\n\\tcomp userDetailsContainer \\n\\t\\n\\tform x {\\n\\t\\tcomp OtherContainer2 \\n\\t\\t\\n\\t\\tfield Oww {\\n\\t\\t\\tstate number\\n\\t\\t\\tcomp myCheckbox \\n\\t\\t\\t\\n\\t\\t}\\n\\t\\tfield W_ {\\n\\t\\t\\tstate boolean[] default \\\"[true]\\\" as expression\\n\\t\\t\\tcomp myTextBox borderColor=\\\"1 + 2 * 3\\\" as expression\\n\\t\\t\\t\\n\\t\\t}\\n\\t\\tfield jww_ww {\\n\\t\\t\\tstate string[] default \\\"[\\\\\\\"Nathan Wiegand\\\\\\\",\\\\\\\"Eva Rice\\\\\\\",\\\\\\\"George Gottlieb\\\\\\\"]\\\" as expression\\n\\t\\t\\tcomp counter style=\\\"#6f215d\\\"\\n\\t\\t\\t\\n\\t\\t}\\n\\t\\tfield Sw_wwwwwwwwww {\\n\\t\\t\\tcomp myTextBox borderColor=\\\"#4a7939\\\" textWeight=\\\"#751b20\\\"\\n\\t\\t\\t\\n\\t\\t}\\n\\t}\\n\\n\\tfield G {\\n\\t\\tstate string\\n\\t\\tcomp otherTextBox \\n\\t\\t\\n\\t}\\n\\tfield S_ {\\n\\t\\tstate number\\n\\t\\tcomp otherTextBox \\n\\t\\t\\n\\t}\\n\\tfield h {\\n\\t\\tstate number\\n\\t\\tcomp counter \\n\\t\\t\\n\\t}\\n\\tform J {\\n\\t\\tcomp userDetailsContainer \\n\\t\\t\\n\\n\\t}\\n\\n\\tfield p {\\n\\t\\tcomp myCheckbox size=\\\"#116217\\\"\\n\\t\\t\\n\\t}\\n}\\n\"\n        ],\n        \"semantic_type\": \"\",\n        \"description\": \"\"\n      }\n    },\n    {\n      \"column\": \"removedNodeEnglish\",\n      \"properties\": {\n        \"dtype\": \"string\",\n        \"num_unique_values\": 2925,\n        \"samples\": [\n          \"\\t\\ta field whose id is 'g' with state of type: 'number', and is using the component 'otherTextBox'.\\n\\t\\t\",\n          \"\\ta form whose id is 'u' using the component 'formContainer',with no children.\\n\\t\",\n          \"\\t\\ta field whose id is 'L_w' with state of type: 'number' and its default value is: 0.6831019370482362 (and is passed as an expression), and is using the component 'otherTextBox'.\\n\\t\\t\"\n        ],\n        \"semantic_type\": \"\",\n        \"description\": \"\"\n      }\n    },\n    {\n      \"column\": \"removedNodeContextEnglish\",\n      \"properties\": {\n        \"dtype\": \"string\",\n        \"num_unique_values\": 2729,\n        \"samples\": [\n          \"* is a child of the form whose id is 'dw_'.\\n* is located after the field whose id is 'O'\",\n          \"* is a child of the form whose id is 'ww'.\\n* is located before the field whose id is 'gw'\",\n          \"* is a child of the form whose id is 'E'.\\n* is located between the field whose id is 'Mww' and the field whose id is 'Y_w'\"\n        ],\n        \"semantic_type\": \"\",\n        \"description\": \"\"\n      }\n    },\n    {\n      \"column\": \"originalFormAst\",\n      \"properties\": {\n        \"dtype\": \"string\",\n        \"num_unique_values\": 3000,\n        \"samples\": [\n          \"{\\\"$type\\\":\\\"Form\\\",\\\"name\\\":\\\"Ew\\\",\\\"component\\\":{\\\"$type\\\":\\\"FieldComponentDef\\\",\\\"componentId\\\":{\\\"$ref\\\":\\\"#/components@0\\\"},\\\"componentPropsKeys\\\":[],\\\"componentPropsValues\\\":[]},\\\"children\\\":[{\\\"$type\\\":\\\"Field\\\",\\\"name\\\":\\\"O_\\\",\\\"state\\\":{\\\"$type\\\":\\\"FieldStateDef\\\",\\\"isArray\\\":true,\\\"type\\\":\\\"string\\\"},\\\"component\\\":{\\\"$type\\\":\\\"FieldComponentDef\\\",\\\"componentId\\\":{\\\"$ref\\\":\\\"#/components@7\\\"},\\\"componentPropsKeys\\\":[],\\\"componentPropsValues\\\":[]}},{\\\"$type\\\":\\\"Field\\\",\\\"name\\\":\\\"k_\\\",\\\"component\\\":{\\\"$type\\\":\\\"FieldComponentDef\\\",\\\"componentId\\\":{\\\"$ref\\\":\\\"#/components@6\\\"},\\\"componentPropsKeys\\\":[],\\\"componentPropsValues\\\":[]}},{\\\"$type\\\":\\\"Field\\\",\\\"name\\\":\\\"Kw\\\",\\\"component\\\":{\\\"$type\\\":\\\"FieldComponentDef\\\",\\\"componentId\\\":{\\\"$ref\\\":\\\"#/components@4\\\"},\\\"componentPropsKeys\\\":[],\\\"componentPropsValues\\\":[]}},{\\\"$type\\\":\\\"Field\\\",\\\"name\\\":\\\"Yww\\\",\\\"state\\\":{\\\"$type\\\":\\\"FieldStateDef\\\",\\\"type\\\":\\\"string\\\",\\\"defaultValue\\\":{\\\"$type\\\":\\\"ValueExpression\\\",\\\"value\\\":\\\"'Cesar Kihn'\\\",\\\"isExpression\\\":true},\\\"isArray\\\":false},\\\"component\\\":{\\\"$type\\\":\\\"FieldComponentDef\\\",\\\"componentId\\\":{\\\"$ref\\\":\\\"#/components@7\\\"},\\\"componentPropsKeys\\\":[{\\\"$type\\\":\\\"ComponentPropKey\\\",\\\"key\\\":\\\"style\\\"}],\\\"componentPropsValues\\\":[{\\\"$type\\\":\\\"ValueExpression\\\",\\\"value\\\":\\\"#493826\\\",\\\"isExpression\\\":false}]}}]}\",\n          \"{\\\"$type\\\":\\\"Form\\\",\\\"name\\\":\\\"bww\\\",\\\"component\\\":{\\\"$type\\\":\\\"FieldComponentDef\\\",\\\"componentId\\\":{\\\"$ref\\\":\\\"#/components@0\\\"},\\\"componentPropsKeys\\\":[],\\\"componentPropsValues\\\":[]},\\\"children\\\":[{\\\"$type\\\":\\\"Form\\\",\\\"name\\\":\\\"P__ww\\\",\\\"component\\\":{\\\"$type\\\":\\\"FieldComponentDef\\\",\\\"componentId\\\":{\\\"$ref\\\":\\\"#/components@1\\\"},\\\"componentPropsKeys\\\":[],\\\"componentPropsValues\\\":[]},\\\"children\\\":[{\\\"$type\\\":\\\"Field\\\",\\\"name\\\":\\\"Bw_ww__ww\\\",\\\"state\\\":{\\\"$type\\\":\\\"FieldStateDef\\\",\\\"type\\\":\\\"boolean\\\",\\\"defaultValue\\\":{\\\"$type\\\":\\\"ValueExpression\\\",\\\"value\\\":\\\"false\\\",\\\"isExpression\\\":true},\\\"isArray\\\":false},\\\"component\\\":{\\\"$type\\\":\\\"FieldComponentDef\\\",\\\"componentId\\\":{\\\"$ref\\\":\\\"#/components@5\\\"},\\\"componentPropsKeys\\\":[{\\\"$type\\\":\\\"ComponentPropKey\\\",\\\"key\\\":\\\"size\\\"}],\\\"componentPropsValues\\\":[{\\\"$type\\\":\\\"ValueExpression\\\",\\\"value\\\":\\\"'hello'.replace('l', 'L')\\\",\\\"isExpression\\\":true}]}},{\\\"$type\\\":\\\"Form\\\",\\\"name\\\":\\\"d\\\",\\\"component\\\":{\\\"$type\\\":\\\"FieldComponentDef\\\",\\\"componentId\\\":{\\\"$ref\\\":\\\"#/components@3\\\"},\\\"componentPropsKeys\\\":[],\\\"componentPropsValues\\\":[]},\\\"children\\\":[{\\\"$type\\\":\\\"Field\\\",\\\"name\\\":\\\"sw\\\",\\\"state\\\":{\\\"$type\\\":\\\"FieldStateDef\\\",\\\"type\\\":\\\"boolean\\\",\\\"defaultValue\\\":{\\\"$type\\\":\\\"ValueExpression\\\",\\\"value\\\":\\\"true\\\",\\\"isExpression\\\":true},\\\"isArray\\\":false},\\\"component\\\":{\\\"$type\\\":\\\"FieldComponentDef\\\",\\\"componentId\\\":{\\\"$ref\\\":\\\"#/components@6\\\"},\\\"componentPropsKeys\\\":[],\\\"componentPropsValues\\\":[]}},{\\\"$type\\\":\\\"Field\\\",\\\"name\\\":\\\"Sw\\\",\\\"component\\\":{\\\"$type\\\":\\\"FieldComponentDef\\\",\\\"componentId\\\":{\\\"$ref\\\":\\\"#/components@5\\\"},\\\"componentPropsKeys\\\":[{\\\"$type\\\":\\\"ComponentPropKey\\\",\\\"key\\\":\\\"size\\\"}],\\\"componentPropsValues\\\":[{\\\"$type\\\":\\\"ValueExpression\\\",\\\"value\\\":\\\"'Hello'.toLowerCase()\\\",\\\"isExpression\\\":true}]}}]},{\\\"$type\\\":\\\"Field\\\",\\\"name\\\":\\\"hw\\\",\\\"component\\\":{\\\"$type\\\":\\\"FieldComponentDef\\\",\\\"componentId\\\":{\\\"$ref\\\":\\\"#/components@5\\\"},\\\"componentPropsKeys\\\":[{\\\"$type\\\":\\\"ComponentPropKey\\\",\\\"key\\\":\\\"size\\\"}],\\\"componentPropsValues\\\":[{\\\"$type\\\":\\\"ValueExpression\\\",\\\"value\\\":\\\"#53736e\\\",\\\"isExpression\\\":false}]}},{\\\"$type\\\":\\\"Field\\\",\\\"name\\\":\\\"c\\\",\\\"state\\\":{\\\"$type\\\":\\\"FieldStateDef\\\",\\\"type\\\":\\\"boolean\\\",\\\"defaultValue\\\":{\\\"$type\\\":\\\"ValueExpression\\\",\\\"value\\\":\\\"false\\\",\\\"isExpression\\\":true},\\\"isArray\\\":false},\\\"component\\\":{\\\"$type\\\":\\\"FieldComponentDef\\\",\\\"componentId\\\":{\\\"$ref\\\":\\\"#/components@5\\\"},\\\"componentPropsKeys\\\":[{\\\"$type\\\":\\\"ComponentPropKey\\\",\\\"key\\\":\\\"size\\\"}],\\\"componentPropsValues\\\":[{\\\"$type\\\":\\\"ValueExpression\\\",\\\"value\\\":\\\"#281537\\\",\\\"isExpression\\\":false}]}},{\\\"$type\\\":\\\"Field\\\",\\\"name\\\":\\\"a_\\\",\\\"state\\\":{\\\"$type\\\":\\\"FieldStateDef\\\",\\\"type\\\":\\\"string\\\",\\\"defaultValue\\\":{\\\"$type\\\":\\\"ValueExpression\\\",\\\"value\\\":\\\"Pauline Ortiz\\\",\\\"isExpression\\\":false},\\\"isArray\\\":false},\\\"component\\\":{\\\"$type\\\":\\\"FieldComponentDef\\\",\\\"componentId\\\":{\\\"$ref\\\":\\\"#/components@5\\\"},\\\"componentPropsKeys\\\":[],\\\"componentPropsValues\\\":[]}},{\\\"$type\\\":\\\"Field\\\",\\\"name\\\":\\\"Iw_\\\",\\\"state\\\":{\\\"$type\\\":\\\"FieldStateDef\\\",\\\"type\\\":\\\"string\\\",\\\"isArray\\\":false},\\\"component\\\":{\\\"$type\\\":\\\"FieldComponentDef\\\",\\\"componentId\\\":{\\\"$ref\\\":\\\"#/components@5\\\"},\\\"componentPropsKeys\\\":[],\\\"componentPropsValues\\\":[]}}]},{\\\"$type\\\":\\\"Field\\\",\\\"name\\\":\\\"i_\\\",\\\"state\\\":{\\\"$type\\\":\\\"FieldStateDef\\\",\\\"type\\\":\\\"string\\\",\\\"isArray\\\":false},\\\"component\\\":{\\\"$type\\\":\\\"FieldComponentDef\\\",\\\"componentId\\\":{\\\"$ref\\\":\\\"#/components@6\\\"},\\\"componentPropsKeys\\\":[],\\\"componentPropsValues\\\":[]}}]}\",\n          \"{\\\"$type\\\":\\\"Form\\\",\\\"name\\\":\\\"f\\\",\\\"component\\\":{\\\"$type\\\":\\\"FieldComponentDef\\\",\\\"componentId\\\":{\\\"$ref\\\":\\\"#/components@0\\\"},\\\"componentPropsKeys\\\":[],\\\"componentPropsValues\\\":[]},\\\"children\\\":[{\\\"$type\\\":\\\"Field\\\",\\\"name\\\":\\\"o\\\",\\\"state\\\":{\\\"$type\\\":\\\"FieldStateDef\\\",\\\"type\\\":\\\"string\\\",\\\"defaultValue\\\":{\\\"$type\\\":\\\"ValueExpression\\\",\\\"value\\\":\\\"Jodi O'Kon\\\",\\\"isExpression\\\":false},\\\"isArray\\\":false},\\\"component\\\":{\\\"$type\\\":\\\"FieldComponentDef\\\",\\\"componentId\\\":{\\\"$ref\\\":\\\"#/components@5\\\"},\\\"componentPropsKeys\\\":[],\\\"componentPropsValues\\\":[]}},{\\\"$type\\\":\\\"Field\\\",\\\"name\\\":\\\"Dw\\\",\\\"component\\\":{\\\"$type\\\":\\\"FieldComponentDef\\\",\\\"componentId\\\":{\\\"$ref\\\":\\\"#/components@6\\\"},\\\"componentPropsKeys\\\":[],\\\"componentPropsValues\\\":[]}}]}\"\n        ],\n        \"semantic_type\": \"\",\n        \"description\": \"\"\n      }\n    },\n    {\n      \"column\": \"userPrompt\",\n      \"properties\": {\n        \"dtype\": \"string\",\n        \"num_unique_values\": 3000,\n        \"samples\": [\n          \"```FormLang\\n\\n  component userDetailsContainer {}\\n  component formContainer {}\\n  component someOtherContainer {}\\n  component OtherContainer2 {}\\n\\n\\n  component myTextBox {\\n    props {\\n      textColor\\n      textSize\\n      textWeight\\n      borderColor\\n    }\\n  }\\n  component myCheckbox {\\n    props {\\n      size\\n    }\\n  }\\n  component otherTextBox {}\\n  component counter {\\n    props {\\n      style\\n    }\\n  }\\n\\nform Ew {\\n\\tcomp userDetailsContainer \\n\\t\\n\\tfield O_ {\\n\\t\\tstate string[]\\n\\t\\tcomp counter \\n\\t\\t\\n\\t}\\n\\tfield Kw {\\n\\t\\tcomp myTextBox \\n\\t\\t\\n\\t}\\n\\tfield Yww {\\n\\t\\tstate string default \\\"'Cesar Kihn'\\\" as expression\\n\\t\\tcomp counter style=\\\"#493826\\\"\\n\\t\\t\\n\\t}\\n}\\n\\n```\\nThe description of the form element you need to add:\\n\\ta field whose id is 'k_' using the component 'otherTextBox'.\\n\\t\\nThe description of the context in the form where you should add the element:\\nThe element to be added:\\n* is a child of the form whose id is 'Ew'.\\n* is located between the field whose id is 'O_' and the field whose id is 'Kw'\\n\",\n          \"```FormLang\\n\\n  component userDetailsContainer {}\\n  component formContainer {}\\n  component someOtherContainer {}\\n  component OtherContainer2 {}\\n\\n\\n  component myTextBox {\\n    props {\\n      textColor\\n      textSize\\n      textWeight\\n      borderColor\\n    }\\n  }\\n  component myCheckbox {\\n    props {\\n      size\\n    }\\n  }\\n  component otherTextBox {}\\n  component counter {\\n    props {\\n      style\\n    }\\n  }\\n\\nform bww {\\n\\tcomp userDetailsContainer \\n\\t\\n\\tform P__ww {\\n\\t\\tcomp formContainer \\n\\t\\t\\n\\t\\tfield Bw_ww__ww {\\n\\t\\t\\tstate boolean default \\\"false\\\" as expression\\n\\t\\t\\tcomp myCheckbox size=\\\"'hello'.replace('l', 'L')\\\" as expression\\n\\t\\t\\t\\n\\t\\t}\\n\\t\\tform d {\\n\\t\\t\\tcomp OtherContainer2 \\n\\t\\t\\t\\n\\t\\t\\tfield sw {\\n\\t\\t\\t\\tstate boolean default \\\"true\\\" as expression\\n\\t\\t\\t\\tcomp otherTextBox \\n\\t\\t\\t\\t\\n\\t\\t\\t}\\n\\t\\t\\tfield Sw {\\n\\t\\t\\t\\tcomp myCheckbox size=\\\"'Hello'.toLowerCase()\\\" as expression\\n\\t\\t\\t\\t\\n\\t\\t\\t}\\n\\t\\t}\\n\\n\\t\\tfield hw {\\n\\t\\t\\tcomp myCheckbox size=\\\"#53736e\\\"\\n\\t\\t\\t\\n\\t\\t}\\n\\t\\tfield c {\\n\\t\\t\\tstate boolean default \\\"false\\\" as expression\\n\\t\\t\\tcomp myCheckbox size=\\\"#281537\\\"\\n\\t\\t\\t\\n\\t\\t}\\n\\t\\tfield a_ {\\n\\t\\t\\tstate string default \\\"Pauline Ortiz\\\"\\n\\t\\t\\tcomp myCheckbox \\n\\t\\t\\t\\n\\t\\t}\\n\\t}\\n\\n\\tfield i_ {\\n\\t\\tstate string\\n\\t\\tcomp otherTextBox \\n\\t\\t\\n\\t}\\n}\\n\\n```\\nThe description of the form element you need to add:\\n\\t\\ta field whose id is 'Iw_' with state of type: 'string', and is using the component 'myCheckbox'.\\n\\t\\t\\nThe description of the context in the form where you should add the element:\\nThe element to be added:\\n* is a child of the form whose id is 'P__ww'.\\n* is located after the field whose id is 'a_'\\n\",\n          \"```FormLang\\n\\n  component userDetailsContainer {}\\n  component formContainer {}\\n  component someOtherContainer {}\\n  component OtherContainer2 {}\\n\\n\\n  component myTextBox {\\n    props {\\n      textColor\\n      textSize\\n      textWeight\\n      borderColor\\n    }\\n  }\\n  component myCheckbox {\\n    props {\\n      size\\n    }\\n  }\\n  component otherTextBox {}\\n  component counter {\\n    props {\\n      style\\n    }\\n  }\\n\\nform f {\\n\\tcomp userDetailsContainer \\n\\t\\n\\tfield o {\\n\\t\\tstate string default \\\"Jodi O'Kon\\\"\\n\\t\\tcomp myCheckbox \\n\\t\\t\\n\\t}\\n}\\n\\n```\\nThe description of the form element you need to add:\\n\\ta field whose id is 'Dw' using the component 'otherTextBox'.\\n\\t\\nThe description of the context in the form where you should add the element:\\nThe element to be added:\\n* is a child of the form whose id is 'f'.\\n* is located after the field whose id is 'o'\\n\"\n        ],\n        \"semantic_type\": \"\",\n        \"description\": \"\"\n      }\n    }\n  ]\n}"
            }
          },
          "metadata": {},
          "execution_count": 49
        }
      ],
      "source": [
        "examples[\"userPrompt\"] = examples.apply(create_prompt, axis=1)\n",
        "examples.head()"
      ]
    },
    {
      "cell_type": "markdown",
      "id": "da77e0c2-5a84-46e3-8f99-c5dc5918ca4e",
      "metadata": {
        "jp-MarkdownHeadingCollapsed": true,
        "id": "da77e0c2-5a84-46e3-8f99-c5dc5918ca4e"
      },
      "source": [
        "##### Example User Prompt vs. original Code"
      ]
    },
    {
      "cell_type": "code",
      "execution_count": 50,
      "id": "ba3b7e13-2753-4da3-86f2-594704d2d56a",
      "metadata": {
        "colab": {
          "base_uri": "https://localhost:8080/"
        },
        "id": "ba3b7e13-2753-4da3-86f2-594704d2d56a",
        "outputId": "32889869-25c6-4366-db40-9d9e4161df0c"
      },
      "outputs": [
        {
          "output_type": "stream",
          "name": "stdout",
          "text": [
            "```FormLang\n",
            "\n",
            "  component userDetailsContainer {}\n",
            "  component formContainer {}\n",
            "  component someOtherContainer {}\n",
            "  component OtherContainer2 {}\n",
            "\n",
            "\n",
            "  component myTextBox {\n",
            "    props {\n",
            "      textColor\n",
            "      textSize\n",
            "      textWeight\n",
            "      borderColor\n",
            "    }\n",
            "  }\n",
            "  component myCheckbox {\n",
            "    props {\n",
            "      size\n",
            "    }\n",
            "  }\n",
            "  component otherTextBox {}\n",
            "  component counter {\n",
            "    props {\n",
            "      style\n",
            "    }\n",
            "  }\n",
            "\n",
            "form Bw {\n",
            "\tcomp OtherContainer2 \n",
            "\t\n",
            "\tfield G {\n",
            "\t\tcomp myCheckbox size=\"'Hello'.toLowerCase()\" as expression\n",
            "\t\t\n",
            "\t}\n",
            "\tform a {\n",
            "\t\tcomp formContainer \n",
            "\t\t\n",
            "\t\tfield qw {\n",
            "\t\t\tstate boolean[]\n",
            "\t\t\tcomp otherTextBox \n",
            "\t\t\t\n",
            "\t\t}\n",
            "\t\tfield F__ {\n",
            "\t\t\tcomp myTextBox \n",
            "\t\t\t\n",
            "\t\t}\n",
            "\t\tfield Y__ {\n",
            "\t\t\tstate string default \"'John Streich'\" as expression\n",
            "\t\t\tcomp myTextBox \n",
            "\t\t\t\n",
            "\t\t}\n",
            "\t\tfield S_w {\n",
            "\t\t\tstate string\n",
            "\t\t\tcomp myCheckbox size=\"#121310\"\n",
            "\t\t\t\n",
            "\t\t}\n",
            "\t\tfield N_ {\n",
            "\t\t\tstate number default \"0.17049162264892637\" as expression\n",
            "\t\t\tcomp counter \n",
            "\t\t\t\n",
            "\t\t}\n",
            "\t}\n",
            "\n",
            "\tfield pw_wwww_w__ {\n",
            "\t\tstate boolean\n",
            "\t\tcomp counter \n",
            "\t\t\n",
            "\t}\n",
            "\tfield J {\n",
            "\t\tstate string\n",
            "\t\tcomp otherTextBox \n",
            "\t\t\n",
            "\t}\n",
            "}\n",
            "\n",
            "```\n",
            "The description of the form element you need to add:\n",
            "\ta field whose id is 'Z_' with state of type: 'string', and is using the component 'otherTextBox'.\n",
            "\t\n",
            "The description of the context in the form where you should add the element:\n",
            "The element to be added:\n",
            "* is a child of the form whose id is 'Bw'.\n",
            "* is located between the field whose id is 'pw_wwww_w__' and the field whose id is 'J'\n",
            "\n"
          ]
        }
      ],
      "source": [
        "print(examples['userPrompt'][0])"
      ]
    },
    {
      "cell_type": "code",
      "execution_count": 51,
      "id": "d01fd5ce-4812-46dc-8563-8ca335fec0fa",
      "metadata": {
        "colab": {
          "base_uri": "https://localhost:8080/"
        },
        "id": "d01fd5ce-4812-46dc-8563-8ca335fec0fa",
        "outputId": "ff71f955-f985-4164-c491-b5f6bef6e935"
      },
      "outputs": [
        {
          "output_type": "stream",
          "name": "stdout",
          "text": [
            "\n",
            "  component userDetailsContainer {}\n",
            "  component formContainer {}\n",
            "  component someOtherContainer {}\n",
            "  component OtherContainer2 {}\n",
            "\n",
            "\n",
            "  component myTextBox {\n",
            "    props {\n",
            "      textColor\n",
            "      textSize\n",
            "      textWeight\n",
            "      borderColor\n",
            "    }\n",
            "  }\n",
            "  component myCheckbox {\n",
            "    props {\n",
            "      size\n",
            "    }\n",
            "  }\n",
            "  component otherTextBox {}\n",
            "  component counter {\n",
            "    props {\n",
            "      style\n",
            "    }\n",
            "  }\n",
            "\n",
            "form Bw {\n",
            "\tcomp OtherContainer2 \n",
            "\t\n",
            "\tfield G {\n",
            "\t\tcomp myCheckbox size=\"'Hello'.toLowerCase()\" as expression\n",
            "\t\t\n",
            "\t}\n",
            "\tform a {\n",
            "\t\tcomp formContainer \n",
            "\t\t\n",
            "\t\tfield qw {\n",
            "\t\t\tstate boolean[]\n",
            "\t\t\tcomp otherTextBox \n",
            "\t\t\t\n",
            "\t\t}\n",
            "\t\tfield F__ {\n",
            "\t\t\tcomp myTextBox \n",
            "\t\t\t\n",
            "\t\t}\n",
            "\t\tfield Y__ {\n",
            "\t\t\tstate string default \"'John Streich'\" as expression\n",
            "\t\t\tcomp myTextBox \n",
            "\t\t\t\n",
            "\t\t}\n",
            "\t\tfield S_w {\n",
            "\t\t\tstate string\n",
            "\t\t\tcomp myCheckbox size=\"#121310\"\n",
            "\t\t\t\n",
            "\t\t}\n",
            "\t\tfield N_ {\n",
            "\t\t\tstate number default \"0.17049162264892637\" as expression\n",
            "\t\t\tcomp counter \n",
            "\t\t\t\n",
            "\t\t}\n",
            "\t}\n",
            "\n",
            "\tfield pw_wwww_w__ {\n",
            "\t\tstate boolean\n",
            "\t\tcomp counter \n",
            "\t\t\n",
            "\t}\n",
            "\tfield Z_ {\n",
            "\t\tstate string\n",
            "\t\tcomp otherTextBox \n",
            "\t\t\n",
            "\t}\n",
            "\tfield J {\n",
            "\t\tstate string\n",
            "\t\tcomp otherTextBox \n",
            "\t\t\n",
            "\t}\n",
            "}\n",
            "\n"
          ]
        }
      ],
      "source": [
        "print(examples['originalFormCode'][0])"
      ]
    },
    {
      "cell_type": "markdown",
      "id": "d002401a-0651-416f-908a-c3c444299f6a",
      "metadata": {
        "id": "d002401a-0651-416f-908a-c3c444299f6a"
      },
      "source": [
        "### Creating a Dataset on HuggingFace using `Datasets`"
      ]
    },
    {
      "cell_type": "markdown",
      "source": [
        "First we've manually created a Dataset repository on the hugging-face hub for our [form-lang-examples](https://huggingface.co/datasets/guy-or/form-lang-examples) .\n",
        "\n",
        "We then convert our `examples` DataFrame into a Dataset object and upload it to the Hub.\n"
      ],
      "metadata": {
        "id": "l4qrBCMhzr4V"
      },
      "id": "l4qrBCMhzr4V"
    },
    {
      "cell_type": "code",
      "source": [
        "ds = Dataset.from_pandas(examples)\n",
        "ds.push_to_hub(\"guy-or/form-lang-examples\", \"3k_single_omission\")\n",
        "ds"
      ],
      "metadata": {
        "colab": {
          "base_uri": "https://localhost:8080/",
          "height": 182,
          "referenced_widgets": [
            "535dedbd231a49a59c6ac5febb59f2d2",
            "36526451358f4da6acfa94859853a6e8",
            "27b091edf6ff46e98d04cf6aca96aef9",
            "670292204d344b5e81a50d83ee9cf8d3",
            "90f9118b159842c3bc1960ff104306e3",
            "adabaf3f9aad4c73bf429c0364c294f8",
            "94c54783256a4c2395b4f77c1196b187",
            "72eddef802b341e9ad8e49ec40503d5f",
            "bb226d4e103e4f96a852d1f7858f1d3c",
            "d15cb75d835c474cb6be414ba8b9d573",
            "9208ab94b44340d39a4d5a5f03e44870",
            "a3d21459c293496eba1bca2fe3e57384",
            "d5ac92ab35d04ad8a7e53f78732f22e0",
            "6e38c12bff24444db3db8f02f83f989b",
            "3ef3091b5f4c4fae9a631f1cb1185137",
            "90d9cd7f30f644eb91517c881d069a51",
            "371a7ab1355246448dd073ac8332fac2",
            "64367b614d8e4d29b0ab05e1f02c784f",
            "c2ca24b9587a48eb98175feb1814c8f9",
            "eb218f8b37924b2ab1701443b578cb0e",
            "e7f6cf72281a4eb7aeee61fcebfb2807",
            "ffb5673920bc4164bb919c872bf5efed",
            "c6e470bee4234bac80a47b0e1859ffaa",
            "f1da10a8d5a040a4a02e7ab7de9d8a12",
            "c9ec198d82ea4ed78da52b06adab6fd0",
            "5596a93d7aa247839b9d6571b6cc783c",
            "03c41067e47a491d9e4e7437a0dd32eb",
            "fe2bfac3730d4189887f77e4f0052051",
            "6b6b414cbe6649fab0cb94e9f1a5337e",
            "4377df8c289a4eaea15119d6f7cc577e",
            "92449f82122c4cbfa5f7450b29543aa6",
            "bfd7efce41bb4540a71d105df3003571",
            "1a9001f1a1a4454a97b6d6f9495a25f8"
          ]
        },
        "id": "jC8Ts1qj5OyU",
        "outputId": "282533bb-98d6-46ba-eec5-1281baf95f8c"
      },
      "id": "jC8Ts1qj5OyU",
      "execution_count": 60,
      "outputs": [
        {
          "output_type": "display_data",
          "data": {
            "text/plain": [
              "Uploading the dataset shards:   0%|          | 0/1 [00:00<?, ?it/s]"
            ],
            "application/vnd.jupyter.widget-view+json": {
              "version_major": 2,
              "version_minor": 0,
              "model_id": "535dedbd231a49a59c6ac5febb59f2d2"
            }
          },
          "metadata": {}
        },
        {
          "output_type": "display_data",
          "data": {
            "text/plain": [
              "Creating parquet from Arrow format:   0%|          | 0/3 [00:00<?, ?ba/s]"
            ],
            "application/vnd.jupyter.widget-view+json": {
              "version_major": 2,
              "version_minor": 0,
              "model_id": "a3d21459c293496eba1bca2fe3e57384"
            }
          },
          "metadata": {}
        },
        {
          "output_type": "display_data",
          "data": {
            "text/plain": [
              "README.md:   0%|          | 0.00/30.0 [00:00<?, ?B/s]"
            ],
            "application/vnd.jupyter.widget-view+json": {
              "version_major": 2,
              "version_minor": 0,
              "model_id": "c6e470bee4234bac80a47b0e1859ffaa"
            }
          },
          "metadata": {}
        },
        {
          "output_type": "execute_result",
          "data": {
            "text/plain": [
              "Dataset({\n",
              "    features: ['originalFormCode', 'modifiedFormCode', 'removedNodeEnglish', 'removedNodeContextEnglish', 'originalFormAst', 'userPrompt'],\n",
              "    num_rows: 3000\n",
              "})"
            ]
          },
          "metadata": {},
          "execution_count": 60
        }
      ]
    },
    {
      "cell_type": "markdown",
      "source": [
        "### Loading the Dataset from HuggingFace using `Datasets`"
      ],
      "metadata": {
        "id": "oMYGTbnVzAM7"
      },
      "id": "oMYGTbnVzAM7"
    },
    {
      "cell_type": "code",
      "source": [
        "ds_3k_single_omission = load_dataset(\"guy-or/form-lang-examples\", \"3k_single_omission\")\n",
        "ds_3k_single_omission_train = ds_3k_single_omission['train']\n",
        "ds_3k_single_omission_train"
      ],
      "metadata": {
        "colab": {
          "base_uri": "https://localhost:8080/"
        },
        "id": "nZLwM8m1zEAA",
        "outputId": "69656856-543a-4428-f0f6-3bb5b0c45f26"
      },
      "id": "nZLwM8m1zEAA",
      "execution_count": 11,
      "outputs": [
        {
          "output_type": "stream",
          "name": "stderr",
          "text": [
            "/usr/local/lib/python3.11/dist-packages/huggingface_hub/utils/_auth.py:94: UserWarning: \n",
            "The secret `HF_TOKEN` does not exist in your Colab secrets.\n",
            "To authenticate with the Hugging Face Hub, create a token in your settings tab (https://huggingface.co/settings/tokens), set it as secret in your Google Colab and restart your session.\n",
            "You will be able to reuse this secret in all of your notebooks.\n",
            "Please note that authentication is recommended but still optional to access public models or datasets.\n",
            "  warnings.warn(\n"
          ]
        },
        {
          "output_type": "execute_result",
          "data": {
            "text/plain": [
              "Dataset({\n",
              "    features: ['originalFormCode', 'modifiedFormCode', 'removedNodeEnglish', 'removedNodeContextEnglish', 'originalFormAst', 'userPrompt'],\n",
              "    num_rows: 3000\n",
              "})"
            ]
          },
          "metadata": {},
          "execution_count": 11
        }
      ]
    },
    {
      "cell_type": "markdown",
      "id": "f9c2613f-879e-4a67-8216-af5af4a78b6d",
      "metadata": {
        "id": "f9c2613f-879e-4a67-8216-af5af4a78b6d"
      },
      "source": [
        "# Zero-shot evaluation using Llama 3.2-1B"
      ]
    },
    {
      "cell_type": "markdown",
      "source": [
        "## Utils"
      ],
      "metadata": {
        "id": "4GkOV4EcDMYD"
      },
      "id": "4GkOV4EcDMYD"
    },
    {
      "cell_type": "markdown",
      "id": "cbbd5154-6661-46d9-b02b-704e6628b096",
      "metadata": {
        "id": "cbbd5154-6661-46d9-b02b-704e6628b096"
      },
      "source": [
        "### Extracting FormLang code from LLM output\n",
        "\n",
        "The LLM might ignore the instruction to output plain code without the \"```FormLang\" delimiter, in that case we should try to extract the contents."
      ]
    },
    {
      "cell_type": "code",
      "execution_count": 12,
      "id": "9fa8d994-82ce-4274-a2e1-016230ec5301",
      "metadata": {
        "id": "9fa8d994-82ce-4274-a2e1-016230ec5301"
      },
      "outputs": [],
      "source": [
        "def extract_code_block(text, lang):\n",
        "  \"\"\"\n",
        "  Extracts a code block from a string.\n",
        "\n",
        "  Args:\n",
        "    text: The string containing the code block.\n",
        "    lang: The name of the language the code block is written in.\n",
        "\n",
        "  Returns:\n",
        "    The code block, or None if no code block is found.\n",
        "  \"\"\"\n",
        "  pattern = f\"```{lang}\\n(.*?)```\"\n",
        "  match = re.search(pattern, text, re.DOTALL)\n",
        "  if match:\n",
        "    return match.group(1).strip()\n",
        "  return None\n",
        "\n",
        "def extract_llm_formlang_output(text):\n",
        "    # Strip leading and trailing whitespace and check for delimiters\n",
        "    text = text.strip()\n",
        "    return extract_code_block(text, \"FormLang\") or text"
      ]
    },
    {
      "cell_type": "markdown",
      "source": [
        "## Load Llama 3.2 1B using Transformers Pipeline"
      ],
      "metadata": {
        "id": "NFAumI6WDQV-"
      },
      "id": "NFAumI6WDQV-"
    },
    {
      "cell_type": "code",
      "execution_count": 29,
      "id": "cceceb71-4287-427b-bcd4-dd009c7e6744",
      "metadata": {
        "colab": {
          "base_uri": "https://localhost:8080/"
        },
        "id": "cceceb71-4287-427b-bcd4-dd009c7e6744",
        "outputId": "09ce4c8d-5d0d-412c-cdb3-07412ba857a9"
      },
      "outputs": [
        {
          "output_type": "stream",
          "name": "stderr",
          "text": [
            "Unused kwargs: ['_load_in_4bit', '_load_in_8bit', 'quant_method']. These kwargs are not used in <class 'transformers.utils.quantization_config.BitsAndBytesConfig'>.\n",
            "Device set to use cuda\n"
          ]
        }
      ],
      "source": [
        "#llama3_pipeline = pipeline(\"text-generation\", model=\"meta-llama/Llama-3.2-1B-Instruct\", torch_dtype=torch.bfloat16, device_map=\"cuda\")\n",
        "unsloth4_llama3_pipeline = pipeline(\"text-generation\", model=\"unsloth/Llama-3.2-1B-bnb-4bit\", device_map=\"cuda\")"
      ]
    },
    {
      "cell_type": "code",
      "execution_count": 30,
      "id": "08528c70-5fb5-40a7-8146-0a25e1f9a8b1",
      "metadata": {
        "colab": {
          "base_uri": "https://localhost:8080/"
        },
        "id": "08528c70-5fb5-40a7-8146-0a25e1f9a8b1",
        "outputId": "91ed189c-f98d-47ea-d6e7-b43d9daf27c7"
      },
      "outputs": [
        {
          "output_type": "stream",
          "name": "stdout",
          "text": [
            "CPU times: user 2.62 s, sys: 357 ms, total: 2.98 s\n",
            "Wall time: 3.71 s\n"
          ]
        }
      ],
      "source": [
        "%%time\n",
        "pred_example_0 = unsloth4_llama3_pipeline(preprocess_func(ds_3k_single_omission_train[0], tokenize=False), max_new_tokens=10**4)"
      ]
    },
    {
      "cell_type": "code",
      "source": [
        "pred_example_0"
      ],
      "metadata": {
        "id": "JJbBS7Y0r-x0",
        "outputId": "703820d7-e7e0-44a9-ecf8-03f49b2eebcd",
        "colab": {
          "base_uri": "https://localhost:8080/"
        }
      },
      "id": "JJbBS7Y0r-x0",
      "execution_count": 32,
      "outputs": [
        {
          "output_type": "execute_result",
          "data": {
            "text/plain": [
              "[{'generated_text': '<|begin_of_text|><|start_header_id|>system<|end_header_id|>\\n\\nCutting Knowledge Date: December 2023\\nToday Date: 08 Feb 2025\\n\\nYou are a code generation AI assistant.\\nYour job is to generate valid FormLang code according to the instructions given below:\\nInspect the following FormLang Form definition, the start of the code will be denoted with ```FormLang and its end with ``` .\\nAfter inspection, complete the Form\\'s code according to the given a description of a new form element and a description of its location in the form.\\nYou may assume that the new form element to be added is always either a \\'form\\' or a \\'field\\'.\\nYour output must be valid and compiler-friendly FormLang code only.\\nIf you are unsure of the FormLang syntax, try to infer it from the form code which is given below as an input.Your answer will be evaluated using an AST comparison of your code to the expected code.\\nAssume that the input code is valid and requires no modification other than the NEW code you must generate.\\nYou must output plain FormLang code without any additional text or delimiters.\\nYou must not change any part of the original input code other than adding the required element.<|eot_id|><|start_header_id|>user<|end_header_id|>\\n\\n```FormLang\\n\\n  component userDetailsContainer {}\\n  component formContainer {}\\n  component someOtherContainer {}\\n  component OtherContainer2 {}\\n\\n\\n  component myTextBox {\\n    props {\\n      textColor\\n      textSize\\n      textWeight\\n      borderColor\\n    }\\n  }\\n  component myCheckbox {\\n    props {\\n      size\\n    }\\n  }\\n  component otherTextBox {}\\n  component counter {\\n    props {\\n      style\\n    }\\n  }\\n\\nform Bw {\\n\\tcomp OtherContainer2 \\n\\t\\n\\tfield G {\\n\\t\\tcomp myCheckbox size=\"\\'Hello\\'.toLowerCase()\" as expression\\n\\t\\t\\n\\t}\\n\\tform a {\\n\\t\\tcomp formContainer \\n\\t\\t\\n\\t\\tfield qw {\\n\\t\\t\\tstate boolean[]\\n\\t\\t\\tcomp otherTextBox \\n\\t\\t\\t\\n\\t\\t}\\n\\t\\tfield F__ {\\n\\t\\t\\tcomp myTextBox \\n\\t\\t\\t\\n\\t\\t}\\n\\t\\tfield Y__ {\\n\\t\\t\\tstate string default \"\\'John Streich\\'\" as expression\\n\\t\\t\\tcomp myTextBox \\n\\t\\t\\t\\n\\t\\t}\\n\\t\\tfield S_w {\\n\\t\\t\\tstate string\\n\\t\\t\\tcomp myCheckbox size=\"#121310\"\\n\\t\\t\\t\\n\\t\\t}\\n\\t\\tfield N_ {\\n\\t\\t\\tstate number default \"0.17049162264892637\" as expression\\n\\t\\t\\tcomp counter \\n\\t\\t\\t\\n\\t\\t}\\n\\t}\\n\\n\\tfield pw_wwww_w__ {\\n\\t\\tstate boolean\\n\\t\\tcomp counter \\n\\t\\t\\n\\t}\\n\\tfield J {\\n\\t\\tstate string\\n\\t\\tcomp otherTextBox \\n\\t\\t\\n\\t}\\n}\\n\\n```\\nThe description of the form element you need to add:\\n\\ta field whose id is \\'Z_\\' with state of type: \\'string\\', and is using the component \\'otherTextBox\\'.\\n\\t\\nThe description of the context in the form where you should add the element:\\nThe element to be added:\\n* is a child of the form whose id is \\'Bw\\'.\\n* is located between the field whose id is \\'pw_wwww_w__\\' and the field whose id is \\'J\\'<|eot_id|><|start_header_id|>assistant<|end_header_id|>\\n\\nThe input code you must generate:\\n```\\ncomponent userDetailsContainer {}\\ncomponent formContainer {}\\ncomponent someOtherContainer {}\\ncomponent OtherContainer2 {}\\n```\\nThe generated code should be a valid FormLang code, including the delimiters.'}]"
            ]
          },
          "metadata": {},
          "execution_count": 32
        }
      ]
    },
    {
      "cell_type": "code",
      "execution_count": 31,
      "id": "a9bae009-a157-412b-b06d-4f580df2efa0",
      "metadata": {
        "colab": {
          "base_uri": "https://localhost:8080/",
          "height": 176
        },
        "collapsed": true,
        "id": "a9bae009-a157-412b-b06d-4f580df2efa0",
        "outputId": "6df4b315-7210-4bc2-9ac2-1d441a38dc97"
      },
      "outputs": [
        {
          "output_type": "error",
          "ename": "TypeError",
          "evalue": "string indices must be integers, not 'str'",
          "traceback": [
            "\u001b[0;31m---------------------------------------------------------------------------\u001b[0m",
            "\u001b[0;31mTypeError\u001b[0m                                 Traceback (most recent call last)",
            "\u001b[0;32m<ipython-input-31-b9bbedfe5b1a>\u001b[0m in \u001b[0;36m<cell line: 0>\u001b[0;34m()\u001b[0m\n\u001b[0;32m----> 1\u001b[0;31m \u001b[0mpred_example_0_generated\u001b[0m \u001b[0;34m=\u001b[0m \u001b[0mpred_example_0\u001b[0m\u001b[0;34m[\u001b[0m\u001b[0;36m0\u001b[0m\u001b[0;34m]\u001b[0m\u001b[0;34m[\u001b[0m\u001b[0;34m'generated_text'\u001b[0m\u001b[0;34m]\u001b[0m\u001b[0;34m[\u001b[0m\u001b[0;36m2\u001b[0m\u001b[0;34m]\u001b[0m\u001b[0;34m[\u001b[0m\u001b[0;34m'content'\u001b[0m\u001b[0;34m]\u001b[0m\u001b[0;34m\u001b[0m\u001b[0;34m\u001b[0m\u001b[0m\n\u001b[0m\u001b[1;32m      2\u001b[0m \u001b[0mprint\u001b[0m\u001b[0;34m(\u001b[0m\u001b[0mextract_llm_formlang_output\u001b[0m\u001b[0;34m(\u001b[0m\u001b[0mpred_example_0_generated\u001b[0m\u001b[0;34m)\u001b[0m\u001b[0;34m)\u001b[0m\u001b[0;34m\u001b[0m\u001b[0;34m\u001b[0m\u001b[0m\n\u001b[1;32m      3\u001b[0m \u001b[0mpprint\u001b[0m\u001b[0;34m(\u001b[0m\u001b[0mget_ast\u001b[0m\u001b[0;34m(\u001b[0m\u001b[0mextract_llm_formlang_output\u001b[0m\u001b[0;34m(\u001b[0m\u001b[0mpred_example_0_generated\u001b[0m\u001b[0;34m)\u001b[0m\u001b[0;34m,\u001b[0m \u001b[0;32mTrue\u001b[0m\u001b[0;34m)\u001b[0m\u001b[0;34m)\u001b[0m\u001b[0;34m\u001b[0m\u001b[0;34m\u001b[0m\u001b[0m\n",
            "\u001b[0;31mTypeError\u001b[0m: string indices must be integers, not 'str'"
          ]
        }
      ],
      "source": [
        "pred_example_0_generated = pred_example_0[0]['generated_text'][2]['content']\n",
        "print(extract_llm_formlang_output(pred_example_0_generated))\n",
        "pprint(get_ast(extract_llm_formlang_output(pred_example_0_generated), True))"
      ]
    },
    {
      "cell_type": "code",
      "source": [
        "tok = AutoTokenizer.from_pretrained(\"meta-llama/Llama-3.2-1B-Instruct\")\n",
        "def preprocess_func(example, tokenize=True):\n",
        "  return tok.apply_chat_template([\n",
        "    {\"role\": \"system\", \"content\": get_system_prompt()},\n",
        "    {\"role\": \"user\", \"content\": example[\"userPrompt\"]}], tokenize=tokenize, add_generation_prompt=True, return_tensors=\"pt\")"
      ],
      "metadata": {
        "id": "qNBLUfJV9-gJ"
      },
      "id": "qNBLUfJV9-gJ",
      "execution_count": 27,
      "outputs": []
    },
    {
      "cell_type": "code",
      "source": [
        "ds_3k_single_omission_train.map(preprocess_func, batched=True)"
      ],
      "metadata": {
        "id": "66o54VqOBEGD"
      },
      "id": "66o54VqOBEGD",
      "execution_count": null,
      "outputs": []
    }
  ],
  "metadata": {
    "kernelspec": {
      "display_name": "Python 3",
      "name": "python3"
    },
    "language_info": {
      "codemirror_mode": {
        "name": "ipython",
        "version": 3
      },
      "file_extension": ".py",
      "mimetype": "text/x-python",
      "name": "python",
      "nbconvert_exporter": "python",
      "pygments_lexer": "ipython3",
      "version": "3.10.12"
    },
    "colab": {
      "provenance": [],
      "toc_visible": true,
      "gpuType": "T4"
    },
    "accelerator": "GPU",
    "widgets": {
      "application/vnd.jupyter.widget-state+json": {
        "6f767f3dd00e4d728ccd55a06929f293": {
          "model_module": "@jupyter-widgets/controls",
          "model_name": "VBoxModel",
          "model_module_version": "1.5.0",
          "state": {
            "_dom_classes": [],
            "_model_module": "@jupyter-widgets/controls",
            "_model_module_version": "1.5.0",
            "_model_name": "VBoxModel",
            "_view_count": null,
            "_view_module": "@jupyter-widgets/controls",
            "_view_module_version": "1.5.0",
            "_view_name": "VBoxView",
            "box_style": "",
            "children": [],
            "layout": "IPY_MODEL_22b1e9ff677641e483d3b3618749a2a2"
          }
        },
        "06c7313d1e2f474480a2171e2caf3f8c": {
          "model_module": "@jupyter-widgets/controls",
          "model_name": "HTMLModel",
          "model_module_version": "1.5.0",
          "state": {
            "_dom_classes": [],
            "_model_module": "@jupyter-widgets/controls",
            "_model_module_version": "1.5.0",
            "_model_name": "HTMLModel",
            "_view_count": null,
            "_view_module": "@jupyter-widgets/controls",
            "_view_module_version": "1.5.0",
            "_view_name": "HTMLView",
            "description": "",
            "description_tooltip": null,
            "layout": "IPY_MODEL_fb262bb040434bbf99ece32011b76ec6",
            "placeholder": "​",
            "style": "IPY_MODEL_da102549c2a040e69580a1df1119710c",
            "value": "<center> <img\nsrc=https://huggingface.co/front/assets/huggingface_logo-noborder.svg\nalt='Hugging Face'> <br> Copy a token from <a\nhref=\"https://huggingface.co/settings/tokens\" target=\"_blank\">your Hugging Face\ntokens page</a> and paste it below. <br> Immediately click login after copying\nyour token or it might be stored in plain text in this notebook file. </center>"
          }
        },
        "51112f82fc56418f9a92165e4afcb9f2": {
          "model_module": "@jupyter-widgets/controls",
          "model_name": "PasswordModel",
          "model_module_version": "1.5.0",
          "state": {
            "_dom_classes": [],
            "_model_module": "@jupyter-widgets/controls",
            "_model_module_version": "1.5.0",
            "_model_name": "PasswordModel",
            "_view_count": null,
            "_view_module": "@jupyter-widgets/controls",
            "_view_module_version": "1.5.0",
            "_view_name": "PasswordView",
            "continuous_update": true,
            "description": "Token:",
            "description_tooltip": null,
            "disabled": false,
            "layout": "IPY_MODEL_4fe9beaa8e2743848f696cc1a70e4c29",
            "placeholder": "​",
            "style": "IPY_MODEL_b049b69656de4245977ff58f05222d60",
            "value": ""
          }
        },
        "f18789755f244ae489bda9223872d37e": {
          "model_module": "@jupyter-widgets/controls",
          "model_name": "CheckboxModel",
          "model_module_version": "1.5.0",
          "state": {
            "_dom_classes": [],
            "_model_module": "@jupyter-widgets/controls",
            "_model_module_version": "1.5.0",
            "_model_name": "CheckboxModel",
            "_view_count": null,
            "_view_module": "@jupyter-widgets/controls",
            "_view_module_version": "1.5.0",
            "_view_name": "CheckboxView",
            "description": "Add token as git credential?",
            "description_tooltip": null,
            "disabled": false,
            "indent": true,
            "layout": "IPY_MODEL_6bae03d71e894e3bb13859d8839d11c6",
            "style": "IPY_MODEL_206adba26bd848cda4a9c8eb9661561f",
            "value": false
          }
        },
        "6b71eb2d09c045079ec3d68eb8eb2e61": {
          "model_module": "@jupyter-widgets/controls",
          "model_name": "ButtonModel",
          "model_module_version": "1.5.0",
          "state": {
            "_dom_classes": [],
            "_model_module": "@jupyter-widgets/controls",
            "_model_module_version": "1.5.0",
            "_model_name": "ButtonModel",
            "_view_count": null,
            "_view_module": "@jupyter-widgets/controls",
            "_view_module_version": "1.5.0",
            "_view_name": "ButtonView",
            "button_style": "",
            "description": "Login",
            "disabled": false,
            "icon": "",
            "layout": "IPY_MODEL_57c9d4b04ebc4e46ae70455a66c61233",
            "style": "IPY_MODEL_72971eb32e214a74b6e9e8feb0aa7c26",
            "tooltip": ""
          }
        },
        "51e39a30556e4dc89181f37699191116": {
          "model_module": "@jupyter-widgets/controls",
          "model_name": "HTMLModel",
          "model_module_version": "1.5.0",
          "state": {
            "_dom_classes": [],
            "_model_module": "@jupyter-widgets/controls",
            "_model_module_version": "1.5.0",
            "_model_name": "HTMLModel",
            "_view_count": null,
            "_view_module": "@jupyter-widgets/controls",
            "_view_module_version": "1.5.0",
            "_view_name": "HTMLView",
            "description": "",
            "description_tooltip": null,
            "layout": "IPY_MODEL_3981523e57ab4d44b12f5e93cbb323cb",
            "placeholder": "​",
            "style": "IPY_MODEL_3e72af03ec5b4ac3a567b1c904f83fdf",
            "value": "\n<b>Pro Tip:</b> If you don't already have one, you can create a dedicated\n'notebooks' token with 'write' access, that you can then easily reuse for all\nnotebooks. </center>"
          }
        },
        "22b1e9ff677641e483d3b3618749a2a2": {
          "model_module": "@jupyter-widgets/base",
          "model_name": "LayoutModel",
          "model_module_version": "1.2.0",
          "state": {
            "_model_module": "@jupyter-widgets/base",
            "_model_module_version": "1.2.0",
            "_model_name": "LayoutModel",
            "_view_count": null,
            "_view_module": "@jupyter-widgets/base",
            "_view_module_version": "1.2.0",
            "_view_name": "LayoutView",
            "align_content": null,
            "align_items": "center",
            "align_self": null,
            "border": null,
            "bottom": null,
            "display": "flex",
            "flex": null,
            "flex_flow": "column",
            "grid_area": null,
            "grid_auto_columns": null,
            "grid_auto_flow": null,
            "grid_auto_rows": null,
            "grid_column": null,
            "grid_gap": null,
            "grid_row": null,
            "grid_template_areas": null,
            "grid_template_columns": null,
            "grid_template_rows": null,
            "height": null,
            "justify_content": null,
            "justify_items": null,
            "left": null,
            "margin": null,
            "max_height": null,
            "max_width": null,
            "min_height": null,
            "min_width": null,
            "object_fit": null,
            "object_position": null,
            "order": null,
            "overflow": null,
            "overflow_x": null,
            "overflow_y": null,
            "padding": null,
            "right": null,
            "top": null,
            "visibility": null,
            "width": "50%"
          }
        },
        "fb262bb040434bbf99ece32011b76ec6": {
          "model_module": "@jupyter-widgets/base",
          "model_name": "LayoutModel",
          "model_module_version": "1.2.0",
          "state": {
            "_model_module": "@jupyter-widgets/base",
            "_model_module_version": "1.2.0",
            "_model_name": "LayoutModel",
            "_view_count": null,
            "_view_module": "@jupyter-widgets/base",
            "_view_module_version": "1.2.0",
            "_view_name": "LayoutView",
            "align_content": null,
            "align_items": null,
            "align_self": null,
            "border": null,
            "bottom": null,
            "display": null,
            "flex": null,
            "flex_flow": null,
            "grid_area": null,
            "grid_auto_columns": null,
            "grid_auto_flow": null,
            "grid_auto_rows": null,
            "grid_column": null,
            "grid_gap": null,
            "grid_row": null,
            "grid_template_areas": null,
            "grid_template_columns": null,
            "grid_template_rows": null,
            "height": null,
            "justify_content": null,
            "justify_items": null,
            "left": null,
            "margin": null,
            "max_height": null,
            "max_width": null,
            "min_height": null,
            "min_width": null,
            "object_fit": null,
            "object_position": null,
            "order": null,
            "overflow": null,
            "overflow_x": null,
            "overflow_y": null,
            "padding": null,
            "right": null,
            "top": null,
            "visibility": null,
            "width": null
          }
        },
        "da102549c2a040e69580a1df1119710c": {
          "model_module": "@jupyter-widgets/controls",
          "model_name": "DescriptionStyleModel",
          "model_module_version": "1.5.0",
          "state": {
            "_model_module": "@jupyter-widgets/controls",
            "_model_module_version": "1.5.0",
            "_model_name": "DescriptionStyleModel",
            "_view_count": null,
            "_view_module": "@jupyter-widgets/base",
            "_view_module_version": "1.2.0",
            "_view_name": "StyleView",
            "description_width": ""
          }
        },
        "4fe9beaa8e2743848f696cc1a70e4c29": {
          "model_module": "@jupyter-widgets/base",
          "model_name": "LayoutModel",
          "model_module_version": "1.2.0",
          "state": {
            "_model_module": "@jupyter-widgets/base",
            "_model_module_version": "1.2.0",
            "_model_name": "LayoutModel",
            "_view_count": null,
            "_view_module": "@jupyter-widgets/base",
            "_view_module_version": "1.2.0",
            "_view_name": "LayoutView",
            "align_content": null,
            "align_items": null,
            "align_self": null,
            "border": null,
            "bottom": null,
            "display": null,
            "flex": null,
            "flex_flow": null,
            "grid_area": null,
            "grid_auto_columns": null,
            "grid_auto_flow": null,
            "grid_auto_rows": null,
            "grid_column": null,
            "grid_gap": null,
            "grid_row": null,
            "grid_template_areas": null,
            "grid_template_columns": null,
            "grid_template_rows": null,
            "height": null,
            "justify_content": null,
            "justify_items": null,
            "left": null,
            "margin": null,
            "max_height": null,
            "max_width": null,
            "min_height": null,
            "min_width": null,
            "object_fit": null,
            "object_position": null,
            "order": null,
            "overflow": null,
            "overflow_x": null,
            "overflow_y": null,
            "padding": null,
            "right": null,
            "top": null,
            "visibility": null,
            "width": null
          }
        },
        "b049b69656de4245977ff58f05222d60": {
          "model_module": "@jupyter-widgets/controls",
          "model_name": "DescriptionStyleModel",
          "model_module_version": "1.5.0",
          "state": {
            "_model_module": "@jupyter-widgets/controls",
            "_model_module_version": "1.5.0",
            "_model_name": "DescriptionStyleModel",
            "_view_count": null,
            "_view_module": "@jupyter-widgets/base",
            "_view_module_version": "1.2.0",
            "_view_name": "StyleView",
            "description_width": ""
          }
        },
        "6bae03d71e894e3bb13859d8839d11c6": {
          "model_module": "@jupyter-widgets/base",
          "model_name": "LayoutModel",
          "model_module_version": "1.2.0",
          "state": {
            "_model_module": "@jupyter-widgets/base",
            "_model_module_version": "1.2.0",
            "_model_name": "LayoutModel",
            "_view_count": null,
            "_view_module": "@jupyter-widgets/base",
            "_view_module_version": "1.2.0",
            "_view_name": "LayoutView",
            "align_content": null,
            "align_items": null,
            "align_self": null,
            "border": null,
            "bottom": null,
            "display": null,
            "flex": null,
            "flex_flow": null,
            "grid_area": null,
            "grid_auto_columns": null,
            "grid_auto_flow": null,
            "grid_auto_rows": null,
            "grid_column": null,
            "grid_gap": null,
            "grid_row": null,
            "grid_template_areas": null,
            "grid_template_columns": null,
            "grid_template_rows": null,
            "height": null,
            "justify_content": null,
            "justify_items": null,
            "left": null,
            "margin": null,
            "max_height": null,
            "max_width": null,
            "min_height": null,
            "min_width": null,
            "object_fit": null,
            "object_position": null,
            "order": null,
            "overflow": null,
            "overflow_x": null,
            "overflow_y": null,
            "padding": null,
            "right": null,
            "top": null,
            "visibility": null,
            "width": null
          }
        },
        "206adba26bd848cda4a9c8eb9661561f": {
          "model_module": "@jupyter-widgets/controls",
          "model_name": "DescriptionStyleModel",
          "model_module_version": "1.5.0",
          "state": {
            "_model_module": "@jupyter-widgets/controls",
            "_model_module_version": "1.5.0",
            "_model_name": "DescriptionStyleModel",
            "_view_count": null,
            "_view_module": "@jupyter-widgets/base",
            "_view_module_version": "1.2.0",
            "_view_name": "StyleView",
            "description_width": ""
          }
        },
        "57c9d4b04ebc4e46ae70455a66c61233": {
          "model_module": "@jupyter-widgets/base",
          "model_name": "LayoutModel",
          "model_module_version": "1.2.0",
          "state": {
            "_model_module": "@jupyter-widgets/base",
            "_model_module_version": "1.2.0",
            "_model_name": "LayoutModel",
            "_view_count": null,
            "_view_module": "@jupyter-widgets/base",
            "_view_module_version": "1.2.0",
            "_view_name": "LayoutView",
            "align_content": null,
            "align_items": null,
            "align_self": null,
            "border": null,
            "bottom": null,
            "display": null,
            "flex": null,
            "flex_flow": null,
            "grid_area": null,
            "grid_auto_columns": null,
            "grid_auto_flow": null,
            "grid_auto_rows": null,
            "grid_column": null,
            "grid_gap": null,
            "grid_row": null,
            "grid_template_areas": null,
            "grid_template_columns": null,
            "grid_template_rows": null,
            "height": null,
            "justify_content": null,
            "justify_items": null,
            "left": null,
            "margin": null,
            "max_height": null,
            "max_width": null,
            "min_height": null,
            "min_width": null,
            "object_fit": null,
            "object_position": null,
            "order": null,
            "overflow": null,
            "overflow_x": null,
            "overflow_y": null,
            "padding": null,
            "right": null,
            "top": null,
            "visibility": null,
            "width": null
          }
        },
        "72971eb32e214a74b6e9e8feb0aa7c26": {
          "model_module": "@jupyter-widgets/controls",
          "model_name": "ButtonStyleModel",
          "model_module_version": "1.5.0",
          "state": {
            "_model_module": "@jupyter-widgets/controls",
            "_model_module_version": "1.5.0",
            "_model_name": "ButtonStyleModel",
            "_view_count": null,
            "_view_module": "@jupyter-widgets/base",
            "_view_module_version": "1.2.0",
            "_view_name": "StyleView",
            "button_color": null,
            "font_weight": ""
          }
        },
        "3981523e57ab4d44b12f5e93cbb323cb": {
          "model_module": "@jupyter-widgets/base",
          "model_name": "LayoutModel",
          "model_module_version": "1.2.0",
          "state": {
            "_model_module": "@jupyter-widgets/base",
            "_model_module_version": "1.2.0",
            "_model_name": "LayoutModel",
            "_view_count": null,
            "_view_module": "@jupyter-widgets/base",
            "_view_module_version": "1.2.0",
            "_view_name": "LayoutView",
            "align_content": null,
            "align_items": null,
            "align_self": null,
            "border": null,
            "bottom": null,
            "display": null,
            "flex": null,
            "flex_flow": null,
            "grid_area": null,
            "grid_auto_columns": null,
            "grid_auto_flow": null,
            "grid_auto_rows": null,
            "grid_column": null,
            "grid_gap": null,
            "grid_row": null,
            "grid_template_areas": null,
            "grid_template_columns": null,
            "grid_template_rows": null,
            "height": null,
            "justify_content": null,
            "justify_items": null,
            "left": null,
            "margin": null,
            "max_height": null,
            "max_width": null,
            "min_height": null,
            "min_width": null,
            "object_fit": null,
            "object_position": null,
            "order": null,
            "overflow": null,
            "overflow_x": null,
            "overflow_y": null,
            "padding": null,
            "right": null,
            "top": null,
            "visibility": null,
            "width": null
          }
        },
        "3e72af03ec5b4ac3a567b1c904f83fdf": {
          "model_module": "@jupyter-widgets/controls",
          "model_name": "DescriptionStyleModel",
          "model_module_version": "1.5.0",
          "state": {
            "_model_module": "@jupyter-widgets/controls",
            "_model_module_version": "1.5.0",
            "_model_name": "DescriptionStyleModel",
            "_view_count": null,
            "_view_module": "@jupyter-widgets/base",
            "_view_module_version": "1.2.0",
            "_view_name": "StyleView",
            "description_width": ""
          }
        },
        "a5702e0af269486bbde1162616eca7c0": {
          "model_module": "@jupyter-widgets/controls",
          "model_name": "LabelModel",
          "model_module_version": "1.5.0",
          "state": {
            "_dom_classes": [],
            "_model_module": "@jupyter-widgets/controls",
            "_model_module_version": "1.5.0",
            "_model_name": "LabelModel",
            "_view_count": null,
            "_view_module": "@jupyter-widgets/controls",
            "_view_module_version": "1.5.0",
            "_view_name": "LabelView",
            "description": "",
            "description_tooltip": null,
            "layout": "IPY_MODEL_247d44608b4f402f8abfd94fefc3f622",
            "placeholder": "​",
            "style": "IPY_MODEL_51910566e78448b9820af394724c08ce",
            "value": "Connecting..."
          }
        },
        "247d44608b4f402f8abfd94fefc3f622": {
          "model_module": "@jupyter-widgets/base",
          "model_name": "LayoutModel",
          "model_module_version": "1.2.0",
          "state": {
            "_model_module": "@jupyter-widgets/base",
            "_model_module_version": "1.2.0",
            "_model_name": "LayoutModel",
            "_view_count": null,
            "_view_module": "@jupyter-widgets/base",
            "_view_module_version": "1.2.0",
            "_view_name": "LayoutView",
            "align_content": null,
            "align_items": null,
            "align_self": null,
            "border": null,
            "bottom": null,
            "display": null,
            "flex": null,
            "flex_flow": null,
            "grid_area": null,
            "grid_auto_columns": null,
            "grid_auto_flow": null,
            "grid_auto_rows": null,
            "grid_column": null,
            "grid_gap": null,
            "grid_row": null,
            "grid_template_areas": null,
            "grid_template_columns": null,
            "grid_template_rows": null,
            "height": null,
            "justify_content": null,
            "justify_items": null,
            "left": null,
            "margin": null,
            "max_height": null,
            "max_width": null,
            "min_height": null,
            "min_width": null,
            "object_fit": null,
            "object_position": null,
            "order": null,
            "overflow": null,
            "overflow_x": null,
            "overflow_y": null,
            "padding": null,
            "right": null,
            "top": null,
            "visibility": null,
            "width": null
          }
        },
        "51910566e78448b9820af394724c08ce": {
          "model_module": "@jupyter-widgets/controls",
          "model_name": "DescriptionStyleModel",
          "model_module_version": "1.5.0",
          "state": {
            "_model_module": "@jupyter-widgets/controls",
            "_model_module_version": "1.5.0",
            "_model_name": "DescriptionStyleModel",
            "_view_count": null,
            "_view_module": "@jupyter-widgets/base",
            "_view_module_version": "1.2.0",
            "_view_name": "StyleView",
            "description_width": ""
          }
        },
        "535dedbd231a49a59c6ac5febb59f2d2": {
          "model_module": "@jupyter-widgets/controls",
          "model_name": "HBoxModel",
          "model_module_version": "1.5.0",
          "state": {
            "_dom_classes": [],
            "_model_module": "@jupyter-widgets/controls",
            "_model_module_version": "1.5.0",
            "_model_name": "HBoxModel",
            "_view_count": null,
            "_view_module": "@jupyter-widgets/controls",
            "_view_module_version": "1.5.0",
            "_view_name": "HBoxView",
            "box_style": "",
            "children": [
              "IPY_MODEL_36526451358f4da6acfa94859853a6e8",
              "IPY_MODEL_27b091edf6ff46e98d04cf6aca96aef9",
              "IPY_MODEL_670292204d344b5e81a50d83ee9cf8d3"
            ],
            "layout": "IPY_MODEL_90f9118b159842c3bc1960ff104306e3"
          }
        },
        "36526451358f4da6acfa94859853a6e8": {
          "model_module": "@jupyter-widgets/controls",
          "model_name": "HTMLModel",
          "model_module_version": "1.5.0",
          "state": {
            "_dom_classes": [],
            "_model_module": "@jupyter-widgets/controls",
            "_model_module_version": "1.5.0",
            "_model_name": "HTMLModel",
            "_view_count": null,
            "_view_module": "@jupyter-widgets/controls",
            "_view_module_version": "1.5.0",
            "_view_name": "HTMLView",
            "description": "",
            "description_tooltip": null,
            "layout": "IPY_MODEL_adabaf3f9aad4c73bf429c0364c294f8",
            "placeholder": "​",
            "style": "IPY_MODEL_94c54783256a4c2395b4f77c1196b187",
            "value": "Uploading the dataset shards: 100%"
          }
        },
        "27b091edf6ff46e98d04cf6aca96aef9": {
          "model_module": "@jupyter-widgets/controls",
          "model_name": "FloatProgressModel",
          "model_module_version": "1.5.0",
          "state": {
            "_dom_classes": [],
            "_model_module": "@jupyter-widgets/controls",
            "_model_module_version": "1.5.0",
            "_model_name": "FloatProgressModel",
            "_view_count": null,
            "_view_module": "@jupyter-widgets/controls",
            "_view_module_version": "1.5.0",
            "_view_name": "ProgressView",
            "bar_style": "success",
            "description": "",
            "description_tooltip": null,
            "layout": "IPY_MODEL_72eddef802b341e9ad8e49ec40503d5f",
            "max": 1,
            "min": 0,
            "orientation": "horizontal",
            "style": "IPY_MODEL_bb226d4e103e4f96a852d1f7858f1d3c",
            "value": 1
          }
        },
        "670292204d344b5e81a50d83ee9cf8d3": {
          "model_module": "@jupyter-widgets/controls",
          "model_name": "HTMLModel",
          "model_module_version": "1.5.0",
          "state": {
            "_dom_classes": [],
            "_model_module": "@jupyter-widgets/controls",
            "_model_module_version": "1.5.0",
            "_model_name": "HTMLModel",
            "_view_count": null,
            "_view_module": "@jupyter-widgets/controls",
            "_view_module_version": "1.5.0",
            "_view_name": "HTMLView",
            "description": "",
            "description_tooltip": null,
            "layout": "IPY_MODEL_d15cb75d835c474cb6be414ba8b9d573",
            "placeholder": "​",
            "style": "IPY_MODEL_9208ab94b44340d39a4d5a5f03e44870",
            "value": " 1/1 [00:00&lt;00:00,  1.79it/s]"
          }
        },
        "90f9118b159842c3bc1960ff104306e3": {
          "model_module": "@jupyter-widgets/base",
          "model_name": "LayoutModel",
          "model_module_version": "1.2.0",
          "state": {
            "_model_module": "@jupyter-widgets/base",
            "_model_module_version": "1.2.0",
            "_model_name": "LayoutModel",
            "_view_count": null,
            "_view_module": "@jupyter-widgets/base",
            "_view_module_version": "1.2.0",
            "_view_name": "LayoutView",
            "align_content": null,
            "align_items": null,
            "align_self": null,
            "border": null,
            "bottom": null,
            "display": null,
            "flex": null,
            "flex_flow": null,
            "grid_area": null,
            "grid_auto_columns": null,
            "grid_auto_flow": null,
            "grid_auto_rows": null,
            "grid_column": null,
            "grid_gap": null,
            "grid_row": null,
            "grid_template_areas": null,
            "grid_template_columns": null,
            "grid_template_rows": null,
            "height": null,
            "justify_content": null,
            "justify_items": null,
            "left": null,
            "margin": null,
            "max_height": null,
            "max_width": null,
            "min_height": null,
            "min_width": null,
            "object_fit": null,
            "object_position": null,
            "order": null,
            "overflow": null,
            "overflow_x": null,
            "overflow_y": null,
            "padding": null,
            "right": null,
            "top": null,
            "visibility": null,
            "width": null
          }
        },
        "adabaf3f9aad4c73bf429c0364c294f8": {
          "model_module": "@jupyter-widgets/base",
          "model_name": "LayoutModel",
          "model_module_version": "1.2.0",
          "state": {
            "_model_module": "@jupyter-widgets/base",
            "_model_module_version": "1.2.0",
            "_model_name": "LayoutModel",
            "_view_count": null,
            "_view_module": "@jupyter-widgets/base",
            "_view_module_version": "1.2.0",
            "_view_name": "LayoutView",
            "align_content": null,
            "align_items": null,
            "align_self": null,
            "border": null,
            "bottom": null,
            "display": null,
            "flex": null,
            "flex_flow": null,
            "grid_area": null,
            "grid_auto_columns": null,
            "grid_auto_flow": null,
            "grid_auto_rows": null,
            "grid_column": null,
            "grid_gap": null,
            "grid_row": null,
            "grid_template_areas": null,
            "grid_template_columns": null,
            "grid_template_rows": null,
            "height": null,
            "justify_content": null,
            "justify_items": null,
            "left": null,
            "margin": null,
            "max_height": null,
            "max_width": null,
            "min_height": null,
            "min_width": null,
            "object_fit": null,
            "object_position": null,
            "order": null,
            "overflow": null,
            "overflow_x": null,
            "overflow_y": null,
            "padding": null,
            "right": null,
            "top": null,
            "visibility": null,
            "width": null
          }
        },
        "94c54783256a4c2395b4f77c1196b187": {
          "model_module": "@jupyter-widgets/controls",
          "model_name": "DescriptionStyleModel",
          "model_module_version": "1.5.0",
          "state": {
            "_model_module": "@jupyter-widgets/controls",
            "_model_module_version": "1.5.0",
            "_model_name": "DescriptionStyleModel",
            "_view_count": null,
            "_view_module": "@jupyter-widgets/base",
            "_view_module_version": "1.2.0",
            "_view_name": "StyleView",
            "description_width": ""
          }
        },
        "72eddef802b341e9ad8e49ec40503d5f": {
          "model_module": "@jupyter-widgets/base",
          "model_name": "LayoutModel",
          "model_module_version": "1.2.0",
          "state": {
            "_model_module": "@jupyter-widgets/base",
            "_model_module_version": "1.2.0",
            "_model_name": "LayoutModel",
            "_view_count": null,
            "_view_module": "@jupyter-widgets/base",
            "_view_module_version": "1.2.0",
            "_view_name": "LayoutView",
            "align_content": null,
            "align_items": null,
            "align_self": null,
            "border": null,
            "bottom": null,
            "display": null,
            "flex": null,
            "flex_flow": null,
            "grid_area": null,
            "grid_auto_columns": null,
            "grid_auto_flow": null,
            "grid_auto_rows": null,
            "grid_column": null,
            "grid_gap": null,
            "grid_row": null,
            "grid_template_areas": null,
            "grid_template_columns": null,
            "grid_template_rows": null,
            "height": null,
            "justify_content": null,
            "justify_items": null,
            "left": null,
            "margin": null,
            "max_height": null,
            "max_width": null,
            "min_height": null,
            "min_width": null,
            "object_fit": null,
            "object_position": null,
            "order": null,
            "overflow": null,
            "overflow_x": null,
            "overflow_y": null,
            "padding": null,
            "right": null,
            "top": null,
            "visibility": null,
            "width": null
          }
        },
        "bb226d4e103e4f96a852d1f7858f1d3c": {
          "model_module": "@jupyter-widgets/controls",
          "model_name": "ProgressStyleModel",
          "model_module_version": "1.5.0",
          "state": {
            "_model_module": "@jupyter-widgets/controls",
            "_model_module_version": "1.5.0",
            "_model_name": "ProgressStyleModel",
            "_view_count": null,
            "_view_module": "@jupyter-widgets/base",
            "_view_module_version": "1.2.0",
            "_view_name": "StyleView",
            "bar_color": null,
            "description_width": ""
          }
        },
        "d15cb75d835c474cb6be414ba8b9d573": {
          "model_module": "@jupyter-widgets/base",
          "model_name": "LayoutModel",
          "model_module_version": "1.2.0",
          "state": {
            "_model_module": "@jupyter-widgets/base",
            "_model_module_version": "1.2.0",
            "_model_name": "LayoutModel",
            "_view_count": null,
            "_view_module": "@jupyter-widgets/base",
            "_view_module_version": "1.2.0",
            "_view_name": "LayoutView",
            "align_content": null,
            "align_items": null,
            "align_self": null,
            "border": null,
            "bottom": null,
            "display": null,
            "flex": null,
            "flex_flow": null,
            "grid_area": null,
            "grid_auto_columns": null,
            "grid_auto_flow": null,
            "grid_auto_rows": null,
            "grid_column": null,
            "grid_gap": null,
            "grid_row": null,
            "grid_template_areas": null,
            "grid_template_columns": null,
            "grid_template_rows": null,
            "height": null,
            "justify_content": null,
            "justify_items": null,
            "left": null,
            "margin": null,
            "max_height": null,
            "max_width": null,
            "min_height": null,
            "min_width": null,
            "object_fit": null,
            "object_position": null,
            "order": null,
            "overflow": null,
            "overflow_x": null,
            "overflow_y": null,
            "padding": null,
            "right": null,
            "top": null,
            "visibility": null,
            "width": null
          }
        },
        "9208ab94b44340d39a4d5a5f03e44870": {
          "model_module": "@jupyter-widgets/controls",
          "model_name": "DescriptionStyleModel",
          "model_module_version": "1.5.0",
          "state": {
            "_model_module": "@jupyter-widgets/controls",
            "_model_module_version": "1.5.0",
            "_model_name": "DescriptionStyleModel",
            "_view_count": null,
            "_view_module": "@jupyter-widgets/base",
            "_view_module_version": "1.2.0",
            "_view_name": "StyleView",
            "description_width": ""
          }
        },
        "a3d21459c293496eba1bca2fe3e57384": {
          "model_module": "@jupyter-widgets/controls",
          "model_name": "HBoxModel",
          "model_module_version": "1.5.0",
          "state": {
            "_dom_classes": [],
            "_model_module": "@jupyter-widgets/controls",
            "_model_module_version": "1.5.0",
            "_model_name": "HBoxModel",
            "_view_count": null,
            "_view_module": "@jupyter-widgets/controls",
            "_view_module_version": "1.5.0",
            "_view_name": "HBoxView",
            "box_style": "",
            "children": [
              "IPY_MODEL_d5ac92ab35d04ad8a7e53f78732f22e0",
              "IPY_MODEL_6e38c12bff24444db3db8f02f83f989b",
              "IPY_MODEL_3ef3091b5f4c4fae9a631f1cb1185137"
            ],
            "layout": "IPY_MODEL_90d9cd7f30f644eb91517c881d069a51"
          }
        },
        "d5ac92ab35d04ad8a7e53f78732f22e0": {
          "model_module": "@jupyter-widgets/controls",
          "model_name": "HTMLModel",
          "model_module_version": "1.5.0",
          "state": {
            "_dom_classes": [],
            "_model_module": "@jupyter-widgets/controls",
            "_model_module_version": "1.5.0",
            "_model_name": "HTMLModel",
            "_view_count": null,
            "_view_module": "@jupyter-widgets/controls",
            "_view_module_version": "1.5.0",
            "_view_name": "HTMLView",
            "description": "",
            "description_tooltip": null,
            "layout": "IPY_MODEL_371a7ab1355246448dd073ac8332fac2",
            "placeholder": "​",
            "style": "IPY_MODEL_64367b614d8e4d29b0ab05e1f02c784f",
            "value": "Creating parquet from Arrow format: 100%"
          }
        },
        "6e38c12bff24444db3db8f02f83f989b": {
          "model_module": "@jupyter-widgets/controls",
          "model_name": "FloatProgressModel",
          "model_module_version": "1.5.0",
          "state": {
            "_dom_classes": [],
            "_model_module": "@jupyter-widgets/controls",
            "_model_module_version": "1.5.0",
            "_model_name": "FloatProgressModel",
            "_view_count": null,
            "_view_module": "@jupyter-widgets/controls",
            "_view_module_version": "1.5.0",
            "_view_name": "ProgressView",
            "bar_style": "success",
            "description": "",
            "description_tooltip": null,
            "layout": "IPY_MODEL_c2ca24b9587a48eb98175feb1814c8f9",
            "max": 3,
            "min": 0,
            "orientation": "horizontal",
            "style": "IPY_MODEL_eb218f8b37924b2ab1701443b578cb0e",
            "value": 3
          }
        },
        "3ef3091b5f4c4fae9a631f1cb1185137": {
          "model_module": "@jupyter-widgets/controls",
          "model_name": "HTMLModel",
          "model_module_version": "1.5.0",
          "state": {
            "_dom_classes": [],
            "_model_module": "@jupyter-widgets/controls",
            "_model_module_version": "1.5.0",
            "_model_name": "HTMLModel",
            "_view_count": null,
            "_view_module": "@jupyter-widgets/controls",
            "_view_module_version": "1.5.0",
            "_view_name": "HTMLView",
            "description": "",
            "description_tooltip": null,
            "layout": "IPY_MODEL_e7f6cf72281a4eb7aeee61fcebfb2807",
            "placeholder": "​",
            "style": "IPY_MODEL_ffb5673920bc4164bb919c872bf5efed",
            "value": " 3/3 [00:00&lt;00:00, 38.51ba/s]"
          }
        },
        "90d9cd7f30f644eb91517c881d069a51": {
          "model_module": "@jupyter-widgets/base",
          "model_name": "LayoutModel",
          "model_module_version": "1.2.0",
          "state": {
            "_model_module": "@jupyter-widgets/base",
            "_model_module_version": "1.2.0",
            "_model_name": "LayoutModel",
            "_view_count": null,
            "_view_module": "@jupyter-widgets/base",
            "_view_module_version": "1.2.0",
            "_view_name": "LayoutView",
            "align_content": null,
            "align_items": null,
            "align_self": null,
            "border": null,
            "bottom": null,
            "display": null,
            "flex": null,
            "flex_flow": null,
            "grid_area": null,
            "grid_auto_columns": null,
            "grid_auto_flow": null,
            "grid_auto_rows": null,
            "grid_column": null,
            "grid_gap": null,
            "grid_row": null,
            "grid_template_areas": null,
            "grid_template_columns": null,
            "grid_template_rows": null,
            "height": null,
            "justify_content": null,
            "justify_items": null,
            "left": null,
            "margin": null,
            "max_height": null,
            "max_width": null,
            "min_height": null,
            "min_width": null,
            "object_fit": null,
            "object_position": null,
            "order": null,
            "overflow": null,
            "overflow_x": null,
            "overflow_y": null,
            "padding": null,
            "right": null,
            "top": null,
            "visibility": null,
            "width": null
          }
        },
        "371a7ab1355246448dd073ac8332fac2": {
          "model_module": "@jupyter-widgets/base",
          "model_name": "LayoutModel",
          "model_module_version": "1.2.0",
          "state": {
            "_model_module": "@jupyter-widgets/base",
            "_model_module_version": "1.2.0",
            "_model_name": "LayoutModel",
            "_view_count": null,
            "_view_module": "@jupyter-widgets/base",
            "_view_module_version": "1.2.0",
            "_view_name": "LayoutView",
            "align_content": null,
            "align_items": null,
            "align_self": null,
            "border": null,
            "bottom": null,
            "display": null,
            "flex": null,
            "flex_flow": null,
            "grid_area": null,
            "grid_auto_columns": null,
            "grid_auto_flow": null,
            "grid_auto_rows": null,
            "grid_column": null,
            "grid_gap": null,
            "grid_row": null,
            "grid_template_areas": null,
            "grid_template_columns": null,
            "grid_template_rows": null,
            "height": null,
            "justify_content": null,
            "justify_items": null,
            "left": null,
            "margin": null,
            "max_height": null,
            "max_width": null,
            "min_height": null,
            "min_width": null,
            "object_fit": null,
            "object_position": null,
            "order": null,
            "overflow": null,
            "overflow_x": null,
            "overflow_y": null,
            "padding": null,
            "right": null,
            "top": null,
            "visibility": null,
            "width": null
          }
        },
        "64367b614d8e4d29b0ab05e1f02c784f": {
          "model_module": "@jupyter-widgets/controls",
          "model_name": "DescriptionStyleModel",
          "model_module_version": "1.5.0",
          "state": {
            "_model_module": "@jupyter-widgets/controls",
            "_model_module_version": "1.5.0",
            "_model_name": "DescriptionStyleModel",
            "_view_count": null,
            "_view_module": "@jupyter-widgets/base",
            "_view_module_version": "1.2.0",
            "_view_name": "StyleView",
            "description_width": ""
          }
        },
        "c2ca24b9587a48eb98175feb1814c8f9": {
          "model_module": "@jupyter-widgets/base",
          "model_name": "LayoutModel",
          "model_module_version": "1.2.0",
          "state": {
            "_model_module": "@jupyter-widgets/base",
            "_model_module_version": "1.2.0",
            "_model_name": "LayoutModel",
            "_view_count": null,
            "_view_module": "@jupyter-widgets/base",
            "_view_module_version": "1.2.0",
            "_view_name": "LayoutView",
            "align_content": null,
            "align_items": null,
            "align_self": null,
            "border": null,
            "bottom": null,
            "display": null,
            "flex": null,
            "flex_flow": null,
            "grid_area": null,
            "grid_auto_columns": null,
            "grid_auto_flow": null,
            "grid_auto_rows": null,
            "grid_column": null,
            "grid_gap": null,
            "grid_row": null,
            "grid_template_areas": null,
            "grid_template_columns": null,
            "grid_template_rows": null,
            "height": null,
            "justify_content": null,
            "justify_items": null,
            "left": null,
            "margin": null,
            "max_height": null,
            "max_width": null,
            "min_height": null,
            "min_width": null,
            "object_fit": null,
            "object_position": null,
            "order": null,
            "overflow": null,
            "overflow_x": null,
            "overflow_y": null,
            "padding": null,
            "right": null,
            "top": null,
            "visibility": null,
            "width": null
          }
        },
        "eb218f8b37924b2ab1701443b578cb0e": {
          "model_module": "@jupyter-widgets/controls",
          "model_name": "ProgressStyleModel",
          "model_module_version": "1.5.0",
          "state": {
            "_model_module": "@jupyter-widgets/controls",
            "_model_module_version": "1.5.0",
            "_model_name": "ProgressStyleModel",
            "_view_count": null,
            "_view_module": "@jupyter-widgets/base",
            "_view_module_version": "1.2.0",
            "_view_name": "StyleView",
            "bar_color": null,
            "description_width": ""
          }
        },
        "e7f6cf72281a4eb7aeee61fcebfb2807": {
          "model_module": "@jupyter-widgets/base",
          "model_name": "LayoutModel",
          "model_module_version": "1.2.0",
          "state": {
            "_model_module": "@jupyter-widgets/base",
            "_model_module_version": "1.2.0",
            "_model_name": "LayoutModel",
            "_view_count": null,
            "_view_module": "@jupyter-widgets/base",
            "_view_module_version": "1.2.0",
            "_view_name": "LayoutView",
            "align_content": null,
            "align_items": null,
            "align_self": null,
            "border": null,
            "bottom": null,
            "display": null,
            "flex": null,
            "flex_flow": null,
            "grid_area": null,
            "grid_auto_columns": null,
            "grid_auto_flow": null,
            "grid_auto_rows": null,
            "grid_column": null,
            "grid_gap": null,
            "grid_row": null,
            "grid_template_areas": null,
            "grid_template_columns": null,
            "grid_template_rows": null,
            "height": null,
            "justify_content": null,
            "justify_items": null,
            "left": null,
            "margin": null,
            "max_height": null,
            "max_width": null,
            "min_height": null,
            "min_width": null,
            "object_fit": null,
            "object_position": null,
            "order": null,
            "overflow": null,
            "overflow_x": null,
            "overflow_y": null,
            "padding": null,
            "right": null,
            "top": null,
            "visibility": null,
            "width": null
          }
        },
        "ffb5673920bc4164bb919c872bf5efed": {
          "model_module": "@jupyter-widgets/controls",
          "model_name": "DescriptionStyleModel",
          "model_module_version": "1.5.0",
          "state": {
            "_model_module": "@jupyter-widgets/controls",
            "_model_module_version": "1.5.0",
            "_model_name": "DescriptionStyleModel",
            "_view_count": null,
            "_view_module": "@jupyter-widgets/base",
            "_view_module_version": "1.2.0",
            "_view_name": "StyleView",
            "description_width": ""
          }
        },
        "c6e470bee4234bac80a47b0e1859ffaa": {
          "model_module": "@jupyter-widgets/controls",
          "model_name": "HBoxModel",
          "model_module_version": "1.5.0",
          "state": {
            "_dom_classes": [],
            "_model_module": "@jupyter-widgets/controls",
            "_model_module_version": "1.5.0",
            "_model_name": "HBoxModel",
            "_view_count": null,
            "_view_module": "@jupyter-widgets/controls",
            "_view_module_version": "1.5.0",
            "_view_name": "HBoxView",
            "box_style": "",
            "children": [
              "IPY_MODEL_f1da10a8d5a040a4a02e7ab7de9d8a12",
              "IPY_MODEL_c9ec198d82ea4ed78da52b06adab6fd0",
              "IPY_MODEL_5596a93d7aa247839b9d6571b6cc783c"
            ],
            "layout": "IPY_MODEL_03c41067e47a491d9e4e7437a0dd32eb"
          }
        },
        "f1da10a8d5a040a4a02e7ab7de9d8a12": {
          "model_module": "@jupyter-widgets/controls",
          "model_name": "HTMLModel",
          "model_module_version": "1.5.0",
          "state": {
            "_dom_classes": [],
            "_model_module": "@jupyter-widgets/controls",
            "_model_module_version": "1.5.0",
            "_model_name": "HTMLModel",
            "_view_count": null,
            "_view_module": "@jupyter-widgets/controls",
            "_view_module_version": "1.5.0",
            "_view_name": "HTMLView",
            "description": "",
            "description_tooltip": null,
            "layout": "IPY_MODEL_fe2bfac3730d4189887f77e4f0052051",
            "placeholder": "​",
            "style": "IPY_MODEL_6b6b414cbe6649fab0cb94e9f1a5337e",
            "value": "README.md: 100%"
          }
        },
        "c9ec198d82ea4ed78da52b06adab6fd0": {
          "model_module": "@jupyter-widgets/controls",
          "model_name": "FloatProgressModel",
          "model_module_version": "1.5.0",
          "state": {
            "_dom_classes": [],
            "_model_module": "@jupyter-widgets/controls",
            "_model_module_version": "1.5.0",
            "_model_name": "FloatProgressModel",
            "_view_count": null,
            "_view_module": "@jupyter-widgets/controls",
            "_view_module_version": "1.5.0",
            "_view_name": "ProgressView",
            "bar_style": "success",
            "description": "",
            "description_tooltip": null,
            "layout": "IPY_MODEL_4377df8c289a4eaea15119d6f7cc577e",
            "max": 30,
            "min": 0,
            "orientation": "horizontal",
            "style": "IPY_MODEL_92449f82122c4cbfa5f7450b29543aa6",
            "value": 30
          }
        },
        "5596a93d7aa247839b9d6571b6cc783c": {
          "model_module": "@jupyter-widgets/controls",
          "model_name": "HTMLModel",
          "model_module_version": "1.5.0",
          "state": {
            "_dom_classes": [],
            "_model_module": "@jupyter-widgets/controls",
            "_model_module_version": "1.5.0",
            "_model_name": "HTMLModel",
            "_view_count": null,
            "_view_module": "@jupyter-widgets/controls",
            "_view_module_version": "1.5.0",
            "_view_name": "HTMLView",
            "description": "",
            "description_tooltip": null,
            "layout": "IPY_MODEL_bfd7efce41bb4540a71d105df3003571",
            "placeholder": "​",
            "style": "IPY_MODEL_1a9001f1a1a4454a97b6d6f9495a25f8",
            "value": " 30.0/30.0 [00:00&lt;00:00, 2.29kB/s]"
          }
        },
        "03c41067e47a491d9e4e7437a0dd32eb": {
          "model_module": "@jupyter-widgets/base",
          "model_name": "LayoutModel",
          "model_module_version": "1.2.0",
          "state": {
            "_model_module": "@jupyter-widgets/base",
            "_model_module_version": "1.2.0",
            "_model_name": "LayoutModel",
            "_view_count": null,
            "_view_module": "@jupyter-widgets/base",
            "_view_module_version": "1.2.0",
            "_view_name": "LayoutView",
            "align_content": null,
            "align_items": null,
            "align_self": null,
            "border": null,
            "bottom": null,
            "display": null,
            "flex": null,
            "flex_flow": null,
            "grid_area": null,
            "grid_auto_columns": null,
            "grid_auto_flow": null,
            "grid_auto_rows": null,
            "grid_column": null,
            "grid_gap": null,
            "grid_row": null,
            "grid_template_areas": null,
            "grid_template_columns": null,
            "grid_template_rows": null,
            "height": null,
            "justify_content": null,
            "justify_items": null,
            "left": null,
            "margin": null,
            "max_height": null,
            "max_width": null,
            "min_height": null,
            "min_width": null,
            "object_fit": null,
            "object_position": null,
            "order": null,
            "overflow": null,
            "overflow_x": null,
            "overflow_y": null,
            "padding": null,
            "right": null,
            "top": null,
            "visibility": null,
            "width": null
          }
        },
        "fe2bfac3730d4189887f77e4f0052051": {
          "model_module": "@jupyter-widgets/base",
          "model_name": "LayoutModel",
          "model_module_version": "1.2.0",
          "state": {
            "_model_module": "@jupyter-widgets/base",
            "_model_module_version": "1.2.0",
            "_model_name": "LayoutModel",
            "_view_count": null,
            "_view_module": "@jupyter-widgets/base",
            "_view_module_version": "1.2.0",
            "_view_name": "LayoutView",
            "align_content": null,
            "align_items": null,
            "align_self": null,
            "border": null,
            "bottom": null,
            "display": null,
            "flex": null,
            "flex_flow": null,
            "grid_area": null,
            "grid_auto_columns": null,
            "grid_auto_flow": null,
            "grid_auto_rows": null,
            "grid_column": null,
            "grid_gap": null,
            "grid_row": null,
            "grid_template_areas": null,
            "grid_template_columns": null,
            "grid_template_rows": null,
            "height": null,
            "justify_content": null,
            "justify_items": null,
            "left": null,
            "margin": null,
            "max_height": null,
            "max_width": null,
            "min_height": null,
            "min_width": null,
            "object_fit": null,
            "object_position": null,
            "order": null,
            "overflow": null,
            "overflow_x": null,
            "overflow_y": null,
            "padding": null,
            "right": null,
            "top": null,
            "visibility": null,
            "width": null
          }
        },
        "6b6b414cbe6649fab0cb94e9f1a5337e": {
          "model_module": "@jupyter-widgets/controls",
          "model_name": "DescriptionStyleModel",
          "model_module_version": "1.5.0",
          "state": {
            "_model_module": "@jupyter-widgets/controls",
            "_model_module_version": "1.5.0",
            "_model_name": "DescriptionStyleModel",
            "_view_count": null,
            "_view_module": "@jupyter-widgets/base",
            "_view_module_version": "1.2.0",
            "_view_name": "StyleView",
            "description_width": ""
          }
        },
        "4377df8c289a4eaea15119d6f7cc577e": {
          "model_module": "@jupyter-widgets/base",
          "model_name": "LayoutModel",
          "model_module_version": "1.2.0",
          "state": {
            "_model_module": "@jupyter-widgets/base",
            "_model_module_version": "1.2.0",
            "_model_name": "LayoutModel",
            "_view_count": null,
            "_view_module": "@jupyter-widgets/base",
            "_view_module_version": "1.2.0",
            "_view_name": "LayoutView",
            "align_content": null,
            "align_items": null,
            "align_self": null,
            "border": null,
            "bottom": null,
            "display": null,
            "flex": null,
            "flex_flow": null,
            "grid_area": null,
            "grid_auto_columns": null,
            "grid_auto_flow": null,
            "grid_auto_rows": null,
            "grid_column": null,
            "grid_gap": null,
            "grid_row": null,
            "grid_template_areas": null,
            "grid_template_columns": null,
            "grid_template_rows": null,
            "height": null,
            "justify_content": null,
            "justify_items": null,
            "left": null,
            "margin": null,
            "max_height": null,
            "max_width": null,
            "min_height": null,
            "min_width": null,
            "object_fit": null,
            "object_position": null,
            "order": null,
            "overflow": null,
            "overflow_x": null,
            "overflow_y": null,
            "padding": null,
            "right": null,
            "top": null,
            "visibility": null,
            "width": null
          }
        },
        "92449f82122c4cbfa5f7450b29543aa6": {
          "model_module": "@jupyter-widgets/controls",
          "model_name": "ProgressStyleModel",
          "model_module_version": "1.5.0",
          "state": {
            "_model_module": "@jupyter-widgets/controls",
            "_model_module_version": "1.5.0",
            "_model_name": "ProgressStyleModel",
            "_view_count": null,
            "_view_module": "@jupyter-widgets/base",
            "_view_module_version": "1.2.0",
            "_view_name": "StyleView",
            "bar_color": null,
            "description_width": ""
          }
        },
        "bfd7efce41bb4540a71d105df3003571": {
          "model_module": "@jupyter-widgets/base",
          "model_name": "LayoutModel",
          "model_module_version": "1.2.0",
          "state": {
            "_model_module": "@jupyter-widgets/base",
            "_model_module_version": "1.2.0",
            "_model_name": "LayoutModel",
            "_view_count": null,
            "_view_module": "@jupyter-widgets/base",
            "_view_module_version": "1.2.0",
            "_view_name": "LayoutView",
            "align_content": null,
            "align_items": null,
            "align_self": null,
            "border": null,
            "bottom": null,
            "display": null,
            "flex": null,
            "flex_flow": null,
            "grid_area": null,
            "grid_auto_columns": null,
            "grid_auto_flow": null,
            "grid_auto_rows": null,
            "grid_column": null,
            "grid_gap": null,
            "grid_row": null,
            "grid_template_areas": null,
            "grid_template_columns": null,
            "grid_template_rows": null,
            "height": null,
            "justify_content": null,
            "justify_items": null,
            "left": null,
            "margin": null,
            "max_height": null,
            "max_width": null,
            "min_height": null,
            "min_width": null,
            "object_fit": null,
            "object_position": null,
            "order": null,
            "overflow": null,
            "overflow_x": null,
            "overflow_y": null,
            "padding": null,
            "right": null,
            "top": null,
            "visibility": null,
            "width": null
          }
        },
        "1a9001f1a1a4454a97b6d6f9495a25f8": {
          "model_module": "@jupyter-widgets/controls",
          "model_name": "DescriptionStyleModel",
          "model_module_version": "1.5.0",
          "state": {
            "_model_module": "@jupyter-widgets/controls",
            "_model_module_version": "1.5.0",
            "_model_name": "DescriptionStyleModel",
            "_view_count": null,
            "_view_module": "@jupyter-widgets/base",
            "_view_module_version": "1.2.0",
            "_view_name": "StyleView",
            "description_width": ""
          }
        }
      }
    }
  },
  "nbformat": 4,
  "nbformat_minor": 5
}