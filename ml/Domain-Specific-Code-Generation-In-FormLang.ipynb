{
 "cells": [
  {
   "cell_type": "markdown",
   "id": "3da41cfd-8291-4b03-87ed-5df197c2efbd",
   "metadata": {},
   "source": [
    "# Domain Specific Code Generation using the FormLang DSL"
   ]
  },
  {
   "cell_type": "markdown",
   "id": "1b4cbce9-f06b-46e7-87da-cd82364afd6c",
   "metadata": {},
   "source": [
    "## Abstract\n",
    "\n",
    "AI and LLM systems are being trained to perform a variety of complex tasks requiring expertise in many software tools, languages and technology stacks. Some of the challenges in this process involve quality data acquisition in large amounts, handling the increase of model parameter count which leads to increasing compute demands and costs, as well as emerging Data Privacy and Intellctual Property concerns related with using 3rd party cloud services for model training. \n",
    "\n",
    "In this work we attempt to harness and combine the benefits of Abstraction and Determinism provided by Formal Domain Specific Languages (DSLs) with the innate ability of LLMs to learn new languages and their semantics. We propose a novel generation task called \"Domain Specific Code Generation\" which involve mapping user requests written in natural language to DSL code.\n",
    "\n",
    "By utilizing a specially crafted DSL called `FormLang` as a case study, we attempt to lay the groundwork for methods of automated DSL dataset generation, training techniques and performance evaluation, with the end goal of creating an AI system capable of generating Web forms according to a user request.\n",
    "\n",
    "Our `FormLang` DSL allows expressing the semantics of Web-forms using a simplified syntax that does not require much, if any, Web-programming knowledge and expertise.\n",
    "\n",
    "Given a user prompt in English describing the desired form and its fields the LLM produces syntactically valid `FormLang` output which is run through the accompanying FormLang parser and a hand-crafted React JSX compiler to output a final implementation of the form in JavaScript and React.\n",
    "\n",
    "The project includes a live demo which demonstrates the capabilities of the system.\n"
   ]
  },
  {
   "cell_type": "markdown",
   "id": "9fe6f6e1-43e6-45d7-a792-8e8d141c075b",
   "metadata": {},
   "source": [
    "## Referring to this work\n",
    "\n",
    "If you use this work the following quote is preferred:\n",
    "\n",
    "```bibtex\n",
    "@misc{guyor2025dscodegenformlang,\n",
    "      title={Domain Specific Code Generation using the FormLang DSL}, \n",
    "      author={Guy Or},\n",
    "      year={2025}\n",
    "}\n",
    "```\n",
    "\n",
    "The official repository of this work is hosted in GitHub at https://github.com/guyo13/Form-Lang **TBD** - Make the repo public"
   ]
  },
  {
   "cell_type": "markdown",
   "id": "3b0ab27f-eb13-4744-aac1-57e8ca65d63e",
   "metadata": {},
   "source": [
    "## Project Goals\n",
    "\n",
    "* Define the Task of Domain Specific Code Generation.\n",
    "* Create an AI training pipeline for FormLang (implemented as a Juypter notebook) which includes:\n",
    "    * Automatic FormLang Dataset generation using searching algorithms and heuristics.\n",
    "    * Baseline model selection and loading from Hugging Face.\n",
    "    * Dataset Preprocessing and loading.\n",
    "    * Defining performance KPIs for the system.\n",
    "    * Model fine tuning using Transformers library\n",
    "    * Model Adapter training using PEFT library.\n",
    "    * Model upload to Hugging Face Hub and example usage from the Hub.\n",
    "    *  **(TBD)** Export to ONNX using Optimum and run on-device using Transformers.js.\n",
    "* Create the “FormLang” language:\n",
    "    * Describe the problem domain.\n",
    "    * Defining a viable minimal syntax and semantics which are research focused rather than completeness focused.\n",
    "    *  **(TBD)** Implementing a “JavaScript React” compile target.\n",
    "*  **(TBD)** Create a live demo website:\n",
    "    * **(TBD)** Users input a prompt.\n",
    "    * **(TBD)** A FormLang editor is populated with the AI’s code generation results.\n",
    "    * **(TBD)** The form is rendered alongside the generated code.\n",
    "*  Discuss the project results:\n",
    "    * Perfornace and user acceptability.\n",
    "    * **(TBD)** Viability of the implemented methods for the Domain Specific Code Generation task and generalization to other domains.  \n",
    "    * **(TBD)** Potential enhancements to the system.\n",
    "    * **(TBD)** Possible research directions on how to learn from user data.\n",
    "\n",
    "\n",
    "**(TBD)** - Features marked as TBD are depending on the project's progress and timeline constraints as well as proving the viability of the methods and system."
   ]
  },
  {
   "cell_type": "markdown",
   "id": "f82857ab-ff94-41c5-ac86-3118861b0590",
   "metadata": {},
   "source": [
    "# Notebook Setup"
   ]
  },
  {
   "cell_type": "markdown",
   "id": "d876cfa3-6129-4884-be8b-bc0c23f4a511",
   "metadata": {},
   "source": [
    "## Project imports"
   ]
  },
  {
   "cell_type": "code",
   "execution_count": 1,
   "id": "3a9e9c44-4a3b-494b-bb86-63178d67bdd7",
   "metadata": {},
   "outputs": [],
   "source": [
    "import asyncio\n",
    "import time\n",
    "from transformers import pipeline\n",
    "from huggingface_hub import login\n",
    "import pythonmonkey as pm\n",
    "import pandas as pd\n",
    "import requests\n",
    "formlang_lib = pm.require(\"../out/cjs/lib/index\")"
   ]
  },
  {
   "cell_type": "markdown",
   "id": "290ca50b-0174-4c0b-9ecc-79f04eb910ad",
   "metadata": {},
   "source": [
    "## Login to Huggingface Hub"
   ]
  },
  {
   "cell_type": "code",
   "execution_count": 8,
   "id": "93c12f91-3626-4985-af97-0d69b4418475",
   "metadata": {},
   "outputs": [
    {
     "data": {
      "application/vnd.jupyter.widget-view+json": {
       "model_id": "1c73477b2887419d9d5da58bff3cfbab",
       "version_major": 2,
       "version_minor": 0
      },
      "text/plain": [
       "VBox(children=(HTML(value='<center> <img\\nsrc=https://huggingface.co/front/assets/huggingface_logo-noborder.sv…"
      ]
     },
     "metadata": {},
     "output_type": "display_data"
    }
   ],
   "source": [
    "login()"
   ]
  },
  {
   "cell_type": "markdown",
   "id": "8e22784f-1cb2-4baf-b6ce-8daea69f835e",
   "metadata": {},
   "source": [
    "## Python Monkey helpers"
   ]
  },
  {
   "cell_type": "code",
   "execution_count": 2,
   "id": "eb8eaa24-5aca-4030-93c5-02a9d23c90be",
   "metadata": {},
   "outputs": [],
   "source": [
    "def js_dir(something):\n",
    "    pm.globalThis.console.dir(something)\n",
    "\n",
    "def js_log(something):\n",
    "    pm.globalThis.console.log(something)"
   ]
  },
  {
   "cell_type": "markdown",
   "id": "b9601b8e-70d6-41f9-87be-6c1bfc0aba11",
   "metadata": {},
   "source": [
    "# Dataset generation"
   ]
  },
  {
   "cell_type": "markdown",
   "id": "5f3f9796-ae92-4448-8759-b7ce7a6ad8d4",
   "metadata": {
    "jp-MarkdownHeadingCollapsed": true
   },
   "source": [
    "### Example usage of FormLang library"
   ]
  },
  {
   "cell_type": "code",
   "execution_count": 6,
   "id": "0df7cbd2-fd65-4452-be12-4b3cfbec4fd0",
   "metadata": {},
   "outputs": [
    {
     "name": "stdout",
     "output_type": "stream",
     "text": [
      "Validating model\n",
      "Validating model\n"
     ]
    }
   ],
   "source": [
    "form_components = \"\"\"\n",
    "  component userDetailsContainer {}\n",
    "  component formContainer {}\n",
    "  component someOtherContainer {}\n",
    "  component OtherContainer2 {}\n",
    "\"\"\"\n",
    "field_components = \"\"\"\n",
    "  component myTextBox {\n",
    "    props {\n",
    "      textColor\n",
    "      textSize\n",
    "      textWeight\n",
    "      borderColor\n",
    "    }\n",
    "  }\n",
    "  component myCheckbox {\n",
    "    props {\n",
    "      size\n",
    "    }\n",
    "  }\n",
    "  component otherTextBox {}\n",
    "  component counter {\n",
    "    props {\n",
    "      style\n",
    "    }\n",
    "  }\n",
    "\"\"\"\n",
    "\n",
    "form_gen = await formlang_lib.newFormGen(formlang_lib.DEFAULT_GENERATOR_HYPER_PARAMETERS, form_components, field_components)"
   ]
  },
  {
   "cell_type": "code",
   "execution_count": 7,
   "id": "13012d90-7bdf-4349-b9e4-1c3f728a6dea",
   "metadata": {},
   "outputs": [],
   "source": [
    "a = form_gen.generateForm()"
   ]
  },
  {
   "cell_type": "code",
   "execution_count": 8,
   "id": "c6ba859e-4940-45d5-a4ab-f968078b5263",
   "metadata": {},
   "outputs": [
    {
     "name": "stdout",
     "output_type": "stream",
     "text": [
      "{ \u001b[32m'$type'\u001b[39m: \u001b[32m'Form'\u001b[39m,\n",
      "  name: \u001b[32m'xw'\u001b[39m,\n",
      "  component: \n",
      "   { component: \n",
      "      { \u001b[32m'$type'\u001b[39m: \u001b[32m'ComponentDef'\u001b[39m,\n",
      "        name: \u001b[32m'formContainer'\u001b[39m,\n",
      "        \u001b[32m'$cstNode'\u001b[39m: \u001b[36m[Object]\u001b[39m,\n",
      "        props: [],\n",
      "        \u001b[32m'$container'\u001b[39m: \u001b[36m[Object]\u001b[39m,\n",
      "        \u001b[32m'$containerProperty'\u001b[39m: \u001b[32m'components'\u001b[39m,\n",
      "        \u001b[32m'$containerIndex'\u001b[39m: \u001b[33m1\u001b[39m },\n",
      "     propAssignments: {} },\n",
      "  children: \n",
      "   [ { \u001b[32m'$type'\u001b[39m: \u001b[32m'Field'\u001b[39m,\n",
      "       name: \u001b[32m'c'\u001b[39m,\n",
      "       component: \u001b[36m[Object]\u001b[39m,\n",
      "       state: \u001b[1mnull\u001b[22m,\n",
      "       depth: \u001b[33m1\u001b[39m },\n",
      "     { \u001b[32m'$type'\u001b[39m: \u001b[32m'Field'\u001b[39m,\n",
      "       name: \u001b[32m'e'\u001b[39m,\n",
      "       component: \u001b[36m[Object]\u001b[39m,\n",
      "       state: \u001b[36m[Object]\u001b[39m,\n",
      "       depth: \u001b[33m1\u001b[39m },\n",
      "     { \u001b[32m'$type'\u001b[39m: \u001b[32m'Form'\u001b[39m,\n",
      "       name: \u001b[32m'A'\u001b[39m,\n",
      "       component: \u001b[36m[Object]\u001b[39m,\n",
      "       children: \u001b[36m[Array]\u001b[39m,\n",
      "       depth: \u001b[33m1\u001b[39m },\n",
      "     { \u001b[32m'$type'\u001b[39m: \u001b[32m'Field'\u001b[39m,\n",
      "       name: \u001b[32m'o'\u001b[39m,\n",
      "       component: \u001b[36m[Object]\u001b[39m,\n",
      "       state: \u001b[36m[Object]\u001b[39m,\n",
      "       depth: \u001b[33m1\u001b[39m },\n",
      "     { \u001b[32m'$type'\u001b[39m: \u001b[32m'Field'\u001b[39m,\n",
      "       name: \u001b[32m'pw'\u001b[39m,\n",
      "       component: \u001b[36m[Object]\u001b[39m,\n",
      "       state: \u001b[36m[Object]\u001b[39m,\n",
      "       depth: \u001b[33m1\u001b[39m } ],\n",
      "  depth: \u001b[33m0\u001b[39m }\n"
     ]
    }
   ],
   "source": [
    "js_dir(a)"
   ]
  },
  {
   "cell_type": "code",
   "execution_count": 19,
   "id": "522c23bd-6f93-4980-947b-8ba414ec61cf",
   "metadata": {},
   "outputs": [
    {
     "name": "stdout",
     "output_type": "stream",
     "text": [
      "Validating model\n"
     ]
    }
   ],
   "source": [
    "fl_obj = await formlang_lib.getFormLangStringParser()(\"\"\"\n",
    "component comp1 {}\n",
    "component comp2 {}\n",
    "form HelloWorld {\n",
    "    comp comp1\n",
    "    field MyField {\n",
    "        comp comp2\n",
    "    }\n",
    "}\n",
    "\"\"\")"
   ]
  },
  {
   "cell_type": "code",
   "execution_count": 20,
   "id": "abdffc2b-2bbb-4db5-a132-ac33347ea972",
   "metadata": {},
   "outputs": [
    {
     "data": {
      "text/plain": [
       "False"
      ]
     },
     "execution_count": 20,
     "metadata": {},
     "output_type": "execute_result"
    }
   ],
   "source": [
    "formlang_lib.hasErrors(fl_obj)"
   ]
  },
  {
   "cell_type": "code",
   "execution_count": 21,
   "id": "48ef6ac7-69e1-45ca-8a20-d05bc5bd5237",
   "metadata": {},
   "outputs": [
    {
     "name": "stdout",
     "output_type": "stream",
     "text": [
      "{ parseResult: \n",
      "   { value: \n",
      "      { \u001b[32m'$type'\u001b[39m: \u001b[32m'Model'\u001b[39m,\n",
      "        components: \u001b[36m[Array]\u001b[39m,\n",
      "        forms: \u001b[36m[Array]\u001b[39m,\n",
      "        \u001b[32m'$cstNode'\u001b[39m: \u001b[36m[Object]\u001b[39m,\n",
      "        typeDefs: [],\n",
      "        \u001b[32m'$document'\u001b[39m: \u001b[36m[Circular]\u001b[39m },\n",
      "     lexerErrors: [],\n",
      "     lexerReport: { diagnostics: [] },\n",
      "     parserErrors: [] },\n",
      "  uri: \n",
      "   l2 {\n",
      "     scheme: \u001b[32m'file'\u001b[39m,\n",
      "     authority: \u001b[32m''\u001b[39m,\n",
      "     path: \u001b[32m'/10.form'\u001b[39m,\n",
      "     query: \u001b[32m''\u001b[39m,\n",
      "     fragment: \u001b[32m''\u001b[39m,\n",
      "     _formatted: \u001b[32m'file:///10.form'\u001b[39m,\n",
      "     _fsPath: \u001b[1mnull\u001b[22m },\n",
      "  state: \u001b[33m6\u001b[39m,\n",
      "  references: \n",
      "   [ { \u001b[32m'$refNode'\u001b[39m: \u001b[36m[Object]\u001b[39m,\n",
      "       \u001b[32m'$refText'\u001b[39m: \u001b[32m'comp1'\u001b[39m,\n",
      "       ref: \u001b[36m[Getter]\u001b[39m,\n",
      "       \u001b[32m'$nodeDescription'\u001b[39m: \u001b[36m[Getter]\u001b[39m,\n",
      "       error: \u001b[36m[Getter]\u001b[39m,\n",
      "       _ref: \u001b[36m[Object]\u001b[39m,\n",
      "       _nodeDescription: \u001b[36m[Object]\u001b[39m },\n",
      "     { \u001b[32m'$refNode'\u001b[39m: \u001b[36m[Object]\u001b[39m,\n",
      "       \u001b[32m'$refText'\u001b[39m: \u001b[32m'comp2'\u001b[39m,\n",
      "       ref: \u001b[36m[Getter]\u001b[39m,\n",
      "       \u001b[32m'$nodeDescription'\u001b[39m: \u001b[36m[Getter]\u001b[39m,\n",
      "       error: \u001b[36m[Getter]\u001b[39m,\n",
      "       _ref: \u001b[36m[Object]\u001b[39m,\n",
      "       _nodeDescription: \u001b[36m[Object]\u001b[39m } ],\n",
      "  textDocument: \u001b[36m[Getter]\u001b[39m,\n",
      "  precomputedScopes: MultiMap { map: Map { \u001b[36m[Object]\u001b[39m => \u001b[36m[Array]\u001b[39m, \u001b[36m[Object]\u001b[39m => \u001b[36m[Array]\u001b[39m } },\n",
      "  diagnostics: [] }\n"
     ]
    }
   ],
   "source": [
    "js_dir(fl_obj)"
   ]
  },
  {
   "cell_type": "code",
   "execution_count": 22,
   "id": "2a0f46d7-f51f-4556-a91b-b7f323d9469a",
   "metadata": {},
   "outputs": [
    {
     "data": {
      "text/plain": [
       "'{\"$type\":\"Model\",\"components\":[{\"$type\":\"ComponentDef\",\"name\":\"comp1\",\"props\":[]},{\"$type\":\"ComponentDef\",\"name\":\"comp2\",\"props\":[]}],\"forms\":[{\"$type\":\"Form\",\"name\":\"HelloWorld\",\"component\":{\"$type\":\"FieldComponentDef\",\"componentId\":{\"$ref\":\"#/components@0\"},\"componentPropsKeys\":[],\"componentPropsValues\":[]},\"children\":[{\"$type\":\"Field\",\"name\":\"MyField\",\"component\":{\"$type\":\"FieldComponentDef\",\"componentId\":{\"$ref\":\"#/components@1\"},\"componentPropsKeys\":[],\"componentPropsValues\":[]}}]}],\"typeDefs\":[]}'"
      ]
     },
     "execution_count": 22,
     "metadata": {},
     "output_type": "execute_result"
    }
   ],
   "source": [
    "formlang_lib.serializeAst(fl_obj.parseResult.value, formlang_lib.getServices().FormLang)"
   ]
  },
  {
   "cell_type": "markdown",
   "id": "f121c668-74c8-41e1-8f9a-8f9fa8b001ef",
   "metadata": {},
   "source": [
    "### Generating the dataset"
   ]
  },
  {
   "cell_type": "markdown",
   "id": "d5cf20e3-7f30-435e-8910-65029528d619",
   "metadata": {},
   "source": [
    "We start by creating a ProbabilisticSearchFormGenerator object which is implemented in JavaScript, providing the default search hyper parameters and some Component definitions,\n",
    "later on we will implement a random generator for the component definitions as well."
   ]
  },
  {
   "cell_type": "code",
   "execution_count": 3,
   "id": "fdb52772-4bdb-4c24-b58e-ea9b92502153",
   "metadata": {},
   "outputs": [],
   "source": [
    "form_components = \"\"\"\n",
    "  component userDetailsContainer {}\n",
    "  component formContainer {}\n",
    "  component someOtherContainer {}\n",
    "  component OtherContainer2 {}\n",
    "\"\"\"\n",
    "field_components = \"\"\"\n",
    "  component myTextBox {\n",
    "    props {\n",
    "      textColor\n",
    "      textSize\n",
    "      textWeight\n",
    "      borderColor\n",
    "    }\n",
    "  }\n",
    "  component myCheckbox {\n",
    "    props {\n",
    "      size\n",
    "    }\n",
    "  }\n",
    "  component otherTextBox {}\n",
    "  component counter {\n",
    "    props {\n",
    "      style\n",
    "    }\n",
    "  }\n",
    "\"\"\"\n",
    "\n",
    "form_gen = await formlang_lib.newFormGen(formlang_lib.DEFAULT_GENERATOR_HYPER_PARAMETERS, form_components, field_components)"
   ]
  },
  {
   "cell_type": "markdown",
   "id": "ea0978fc-0b8c-47c7-8af5-55dafa848fb8",
   "metadata": {},
   "source": [
    "#### Computing the expected AST"
   ]
  },
  {
   "cell_type": "markdown",
   "id": "6168af80-35cd-499a-8966-609df6428e00",
   "metadata": {},
   "source": [
    "In order to reliablity measure to model's performance, our KPI will be **AST-Accuracy** which is the accuracy measure with respect to the generated code's AST and the expected code's AST."
   ]
  },
  {
   "cell_type": "code",
   "execution_count": 18,
   "id": "3d5a3c28-6767-4729-8e33-0325b467bf84",
   "metadata": {},
   "outputs": [],
   "source": [
    "def get_ast(form_code, form_components, field_components):\n",
    "    result = requests.post(\"http://localhost:3000/compute/ast\", json={\"sourceCode\": form_code, \"formComponentsCode\": form_components, \"fieldComponentsCode\":field_components}).json()\n",
    "    if not result[\"status\"] == \"ok\":\n",
    "        raise RuntimeError(\"failed\")\n",
    "    return result[\"result\"]"
   ]
  },
  {
   "cell_type": "markdown",
   "id": "14256a40-7e47-4d75-a57c-b7c73602e3fa",
   "metadata": {},
   "source": [
    "We create a small dataset of 3000 random examples by using the JavaScript FormLang utilities library and the form generator object.\n",
    "We copy from the form generator's output only the relevant fields which will make up the LLM prompt."
   ]
  },
  {
   "cell_type": "code",
   "execution_count": 5,
   "id": "c39a45a8-8098-4a60-b41b-af9e9a4ac223",
   "metadata": {},
   "outputs": [],
   "source": [
    "def copy_relevant_prompt_data(prompt_data):\n",
    "    data = {\n",
    "        # We copy the string to Python so that it's memory will be managed entirely in Python rather that by PythonMonkey\n",
    "        \"serializedForm\": str(prompt_data[\"serializedForm\"]),\n",
    "        \"serializedModifiedForm\": str(prompt_data[\"serializedModifiedForm\"]),\n",
    "        \"removedNodeEnglish\": str(prompt_data[\"removedNodeEnglish\"]),\n",
    "        \"removedNodeContextEnglish\": str(prompt_data[\"removedNodeContextEnglish\"]),\n",
    "    }\n",
    "    return data\n",
    "\n",
    "def create_random_data(form_gen, form_components, field_components, num_examples=3000):\n",
    "    start_time = time.time()\n",
    "    DATA = []\n",
    "    for i in range(num_examples):\n",
    "        prompt_data = formlang_lib.generateRandomFormPromptData(form_gen)\n",
    "        DATA.append(copy_relevant_prompt_data(prompt_data))\n",
    "    # Generate the ast of each example in one batch\n",
    "    ast_time = time.time()\n",
    "    for example in DATA:\n",
    "        example[\"ast\"] = get_ast(example[\"serializedForm\"], form_components, field_components)\n",
    "    end_time = time.time()\n",
    "    print(f\"Generation took {end_time - start_time} seconds ast time {end_time - ast_time}\")\n",
    "    return pd.DataFrame(DATA)"
   ]
  },
  {
   "cell_type": "code",
   "execution_count": 19,
   "id": "d2155ee7-8286-4e5a-8881-b72b7bb51197",
   "metadata": {},
   "outputs": [
    {
     "name": "stdout",
     "output_type": "stream",
     "text": [
      "Generation took 9.005642652511597 seconds ast time 8.696900129318237\n"
     ]
    },
    {
     "data": {
      "text/html": [
       "<div>\n",
       "<style scoped>\n",
       "    .dataframe tbody tr th:only-of-type {\n",
       "        vertical-align: middle;\n",
       "    }\n",
       "\n",
       "    .dataframe tbody tr th {\n",
       "        vertical-align: top;\n",
       "    }\n",
       "\n",
       "    .dataframe thead th {\n",
       "        text-align: right;\n",
       "    }\n",
       "</style>\n",
       "<table border=\"1\" class=\"dataframe\">\n",
       "  <thead>\n",
       "    <tr style=\"text-align: right;\">\n",
       "      <th></th>\n",
       "      <th>serializedForm</th>\n",
       "      <th>serializedModifiedForm</th>\n",
       "      <th>removedNodeEnglish</th>\n",
       "      <th>removedNodeContextEnglish</th>\n",
       "      <th>ast</th>\n",
       "    </tr>\n",
       "  </thead>\n",
       "  <tbody>\n",
       "    <tr>\n",
       "      <th>0</th>\n",
       "      <td>form G {\\n\\tcomp userDetailsContainer \\n\\t\\n\\t...</td>\n",
       "      <td>form G {\\n\\tcomp userDetailsContainer \\n\\t\\n\\t...</td>\n",
       "      <td>\\ta field whose id is 'Bww' using the componen...</td>\n",
       "      <td>* is a child of the form whose id is 'G'.\\n* i...</td>\n",
       "      <td>{\"$type\":\"Form\",\"name\":\"G\",\"component\":{\"$type...</td>\n",
       "    </tr>\n",
       "    <tr>\n",
       "      <th>1</th>\n",
       "      <td>form nw {\\n\\tcomp formContainer \\n\\t\\n\\tfield ...</td>\n",
       "      <td>form nw {\\n\\tcomp formContainer \\n\\t\\n\\tfield ...</td>\n",
       "      <td>\\ta field whose id is 'U' using the component ...</td>\n",
       "      <td>* is a child of the form whose id is 'nw'.\\n* ...</td>\n",
       "      <td>{\"$type\":\"Form\",\"name\":\"nw\",\"component\":{\"$typ...</td>\n",
       "    </tr>\n",
       "    <tr>\n",
       "      <th>2</th>\n",
       "      <td>form Qw {\\n\\tcomp OtherContainer2 \\n\\t\\n\\tfiel...</td>\n",
       "      <td>form Qw {\\n\\tcomp OtherContainer2 \\n\\t\\n\\tfiel...</td>\n",
       "      <td>\\ta field whose id is 'o___w' using the compon...</td>\n",
       "      <td>* is a child of the form whose id is 'Qw'.\\n* ...</td>\n",
       "      <td>{\"$type\":\"Form\",\"name\":\"Qw\",\"component\":{\"$typ...</td>\n",
       "    </tr>\n",
       "    <tr>\n",
       "      <th>3</th>\n",
       "      <td>form rwwww {\\n\\tcomp formContainer \\n\\t\\n\\tfor...</td>\n",
       "      <td>form rwwww {\\n\\tcomp formContainer \\n\\t\\n\\tfor...</td>\n",
       "      <td>\\t\\t\\ta field whose id is 'Q_w' with state of ...</td>\n",
       "      <td>* is a child of the form whose id is 't'.\\n* i...</td>\n",
       "      <td>{\"$type\":\"Form\",\"name\":\"rwwww\",\"component\":{\"$...</td>\n",
       "    </tr>\n",
       "    <tr>\n",
       "      <th>4</th>\n",
       "      <td>form P {\\n\\tcomp someOtherContainer \\n\\t\\n\\tfi...</td>\n",
       "      <td>form P {\\n\\tcomp someOtherContainer \\n\\t\\n\\tfi...</td>\n",
       "      <td>\\ta field whose id is 'c_ww' with state of typ...</td>\n",
       "      <td>* is a child of the form whose id is 'P'.\\n* i...</td>\n",
       "      <td>{\"$type\":\"Form\",\"name\":\"P\",\"component\":{\"$type...</td>\n",
       "    </tr>\n",
       "  </tbody>\n",
       "</table>\n",
       "</div>"
      ],
      "text/plain": [
       "                                      serializedForm  \\\n",
       "0  form G {\\n\\tcomp userDetailsContainer \\n\\t\\n\\t...   \n",
       "1  form nw {\\n\\tcomp formContainer \\n\\t\\n\\tfield ...   \n",
       "2  form Qw {\\n\\tcomp OtherContainer2 \\n\\t\\n\\tfiel...   \n",
       "3  form rwwww {\\n\\tcomp formContainer \\n\\t\\n\\tfor...   \n",
       "4  form P {\\n\\tcomp someOtherContainer \\n\\t\\n\\tfi...   \n",
       "\n",
       "                              serializedModifiedForm  \\\n",
       "0  form G {\\n\\tcomp userDetailsContainer \\n\\t\\n\\t...   \n",
       "1  form nw {\\n\\tcomp formContainer \\n\\t\\n\\tfield ...   \n",
       "2  form Qw {\\n\\tcomp OtherContainer2 \\n\\t\\n\\tfiel...   \n",
       "3  form rwwww {\\n\\tcomp formContainer \\n\\t\\n\\tfor...   \n",
       "4  form P {\\n\\tcomp someOtherContainer \\n\\t\\n\\tfi...   \n",
       "\n",
       "                                  removedNodeEnglish  \\\n",
       "0  \\ta field whose id is 'Bww' using the componen...   \n",
       "1  \\ta field whose id is 'U' using the component ...   \n",
       "2  \\ta field whose id is 'o___w' using the compon...   \n",
       "3  \\t\\t\\ta field whose id is 'Q_w' with state of ...   \n",
       "4  \\ta field whose id is 'c_ww' with state of typ...   \n",
       "\n",
       "                           removedNodeContextEnglish  \\\n",
       "0  * is a child of the form whose id is 'G'.\\n* i...   \n",
       "1  * is a child of the form whose id is 'nw'.\\n* ...   \n",
       "2  * is a child of the form whose id is 'Qw'.\\n* ...   \n",
       "3  * is a child of the form whose id is 't'.\\n* i...   \n",
       "4  * is a child of the form whose id is 'P'.\\n* i...   \n",
       "\n",
       "                                                 ast  \n",
       "0  {\"$type\":\"Form\",\"name\":\"G\",\"component\":{\"$type...  \n",
       "1  {\"$type\":\"Form\",\"name\":\"nw\",\"component\":{\"$typ...  \n",
       "2  {\"$type\":\"Form\",\"name\":\"Qw\",\"component\":{\"$typ...  \n",
       "3  {\"$type\":\"Form\",\"name\":\"rwwww\",\"component\":{\"$...  \n",
       "4  {\"$type\":\"Form\",\"name\":\"P\",\"component\":{\"$type...  "
      ]
     },
     "execution_count": 19,
     "metadata": {},
     "output_type": "execute_result"
    }
   ],
   "source": [
    "examples = create_random_data(form_gen, form_components, field_components,3000)\n",
    "examples.head()"
   ]
  },
  {
   "cell_type": "code",
   "execution_count": 21,
   "id": "8ee9c2d0-ddca-493f-8f65-d9970ab1bfd7",
   "metadata": {},
   "outputs": [
    {
     "data": {
      "text/plain": [
       "'form Yww {\\n\\tcomp OtherContainer2 \\n\\t\\n\\tfield g_wwwww {\\n\\t\\tstate string[]\\n\\t\\tcomp counter \\n\\t\\t\\n\\t}\\n}\\n'"
      ]
     },
     "execution_count": 21,
     "metadata": {},
     "output_type": "execute_result"
    }
   ],
   "source": [
    "examples[\"serializedForm\"][1093]"
   ]
  },
  {
   "cell_type": "code",
   "execution_count": 20,
   "id": "206d8ddc-77ed-44b8-a506-98c15e2c5cd4",
   "metadata": {},
   "outputs": [
    {
     "data": {
      "text/plain": [
       "'{\"$type\":\"Form\",\"name\":\"Yww\",\"component\":{\"$type\":\"FieldComponentDef\",\"componentId\":{\"$ref\":\"#/components@3\"},\"componentPropsKeys\":[],\"componentPropsValues\":[]},\"children\":[{\"$type\":\"Field\",\"name\":\"g_wwwww\",\"state\":{\"$type\":\"FieldStateDef\",\"isArray\":true,\"type\":\"string\"},\"component\":{\"$type\":\"FieldComponentDef\",\"componentId\":{\"$ref\":\"#/components@7\"},\"componentPropsKeys\":[],\"componentPropsValues\":[]}}]}'"
      ]
     },
     "execution_count": 20,
     "metadata": {},
     "output_type": "execute_result"
    }
   ],
   "source": [
    "examples[\"ast\"][1093]"
   ]
  },
  {
   "cell_type": "code",
   "execution_count": null,
   "id": "077efeb6-38db-4ee3-9d98-250a86a7e9c5",
   "metadata": {},
   "outputs": [],
   "source": []
  },
  {
   "cell_type": "markdown",
   "id": "d8c8e36d-0ee3-4d57-bcd1-212548bdd2f7",
   "metadata": {},
   "source": [
    "### Creating the prompt"
   ]
  },
  {
   "cell_type": "markdown",
   "id": "430307ce-af62-4a25-962d-7a2a7d6214da",
   "metadata": {},
   "source": [
    "We now create the user prompt which will be used to train the LLM.\n",
    "\n",
    "We instruct the LLM to generate the original form (the `serializedForm` column) given the modified form, an English description of the removed node and its surrounding context (describing which element is the Form's parent and which elements are its siblings).\n"
   ]
  },
  {
   "cell_type": "code",
   "execution_count": 30,
   "id": "87ae5fa9-9376-4205-801d-43b993d7cdb3",
   "metadata": {},
   "outputs": [
    {
     "data": {
      "text/html": [
       "<div>\n",
       "<style scoped>\n",
       "    .dataframe tbody tr th:only-of-type {\n",
       "        vertical-align: middle;\n",
       "    }\n",
       "\n",
       "    .dataframe tbody tr th {\n",
       "        vertical-align: top;\n",
       "    }\n",
       "\n",
       "    .dataframe thead th {\n",
       "        text-align: right;\n",
       "    }\n",
       "</style>\n",
       "<table border=\"1\" class=\"dataframe\">\n",
       "  <thead>\n",
       "    <tr style=\"text-align: right;\">\n",
       "      <th></th>\n",
       "      <th>serializedForm</th>\n",
       "      <th>serializedModifiedForm</th>\n",
       "      <th>removedNodeEnglish</th>\n",
       "      <th>removedNodeContextEnglish</th>\n",
       "      <th>userPrompt</th>\n",
       "    </tr>\n",
       "  </thead>\n",
       "  <tbody>\n",
       "    <tr>\n",
       "      <th>0</th>\n",
       "      <td>form p_ {\\n\\tcomp someOtherContainer \\n\\t\\n\\tf...</td>\n",
       "      <td>form p_ {\\n\\tcomp someOtherContainer \\n\\t\\n\\tf...</td>\n",
       "      <td>\\t\\ta field whose id is 'y' with state of type...</td>\n",
       "      <td>* is a child of the form whose id is 'a_w'.\\n*...</td>\n",
       "      <td>Your job is to generate valid FormLang code ac...</td>\n",
       "    </tr>\n",
       "    <tr>\n",
       "      <th>1</th>\n",
       "      <td>form z_ {\\n\\tcomp userDetailsContainer \\n\\t\\n\\...</td>\n",
       "      <td>form z_ {\\n\\tcomp userDetailsContainer \\n\\t\\n\\...</td>\n",
       "      <td>\\ta field whose id is 'm' using the component ...</td>\n",
       "      <td>* is a child of the form whose id is 'z_'.\\n* ...</td>\n",
       "      <td>Your job is to generate valid FormLang code ac...</td>\n",
       "    </tr>\n",
       "    <tr>\n",
       "      <th>2</th>\n",
       "      <td>form C_ {\\n\\tcomp someOtherContainer \\n\\t\\n\\tf...</td>\n",
       "      <td>form C_ {\\n\\tcomp someOtherContainer \\n\\t\\n\\tf...</td>\n",
       "      <td>\\ta field whose id is 'yw_' with state of type...</td>\n",
       "      <td>* is a child of the form whose id is 'C_'.\\n* ...</td>\n",
       "      <td>Your job is to generate valid FormLang code ac...</td>\n",
       "    </tr>\n",
       "    <tr>\n",
       "      <th>3</th>\n",
       "      <td>form Fw {\\n\\tcomp OtherContainer2 \\n\\t\\n\\tfiel...</td>\n",
       "      <td>form Fw {\\n\\tcomp OtherContainer2 \\n\\t\\n\\tfiel...</td>\n",
       "      <td>\\t\\ta field whose id is 'Sww' with state of ty...</td>\n",
       "      <td>* is a child of the form whose id is 'v'.\\n* i...</td>\n",
       "      <td>Your job is to generate valid FormLang code ac...</td>\n",
       "    </tr>\n",
       "    <tr>\n",
       "      <th>4</th>\n",
       "      <td>form lw {\\n\\tcomp OtherContainer2 \\n\\t\\n\\tfiel...</td>\n",
       "      <td>form lw {\\n\\tcomp OtherContainer2 \\n\\t\\n\\tfiel...</td>\n",
       "      <td>\\ta field whose id is 'b' with state of type: ...</td>\n",
       "      <td>* is a child of the form whose id is 'lw'.\\n* ...</td>\n",
       "      <td>Your job is to generate valid FormLang code ac...</td>\n",
       "    </tr>\n",
       "  </tbody>\n",
       "</table>\n",
       "</div>"
      ],
      "text/plain": [
       "                                      serializedForm  \\\n",
       "0  form p_ {\\n\\tcomp someOtherContainer \\n\\t\\n\\tf...   \n",
       "1  form z_ {\\n\\tcomp userDetailsContainer \\n\\t\\n\\...   \n",
       "2  form C_ {\\n\\tcomp someOtherContainer \\n\\t\\n\\tf...   \n",
       "3  form Fw {\\n\\tcomp OtherContainer2 \\n\\t\\n\\tfiel...   \n",
       "4  form lw {\\n\\tcomp OtherContainer2 \\n\\t\\n\\tfiel...   \n",
       "\n",
       "                              serializedModifiedForm  \\\n",
       "0  form p_ {\\n\\tcomp someOtherContainer \\n\\t\\n\\tf...   \n",
       "1  form z_ {\\n\\tcomp userDetailsContainer \\n\\t\\n\\...   \n",
       "2  form C_ {\\n\\tcomp someOtherContainer \\n\\t\\n\\tf...   \n",
       "3  form Fw {\\n\\tcomp OtherContainer2 \\n\\t\\n\\tfiel...   \n",
       "4  form lw {\\n\\tcomp OtherContainer2 \\n\\t\\n\\tfiel...   \n",
       "\n",
       "                                  removedNodeEnglish  \\\n",
       "0  \\t\\ta field whose id is 'y' with state of type...   \n",
       "1  \\ta field whose id is 'm' using the component ...   \n",
       "2  \\ta field whose id is 'yw_' with state of type...   \n",
       "3  \\t\\ta field whose id is 'Sww' with state of ty...   \n",
       "4  \\ta field whose id is 'b' with state of type: ...   \n",
       "\n",
       "                           removedNodeContextEnglish  \\\n",
       "0  * is a child of the form whose id is 'a_w'.\\n*...   \n",
       "1  * is a child of the form whose id is 'z_'.\\n* ...   \n",
       "2  * is a child of the form whose id is 'C_'.\\n* ...   \n",
       "3  * is a child of the form whose id is 'v'.\\n* i...   \n",
       "4  * is a child of the form whose id is 'lw'.\\n* ...   \n",
       "\n",
       "                                          userPrompt  \n",
       "0  Your job is to generate valid FormLang code ac...  \n",
       "1  Your job is to generate valid FormLang code ac...  \n",
       "2  Your job is to generate valid FormLang code ac...  \n",
       "3  Your job is to generate valid FormLang code ac...  \n",
       "4  Your job is to generate valid FormLang code ac...  "
      ]
     },
     "execution_count": 30,
     "metadata": {},
     "output_type": "execute_result"
    }
   ],
   "source": [
    "def create_prompt(row):\n",
    "    return (\"Your job is to generate valid FormLang code according to the instructions given below:\\n\"\n",
    "            \"Inspect the following FormLang Form definition, the start of the code will be denoted with ```FormLang and its end with ``` .\\n\"\n",
    "            \"After inspection, complete the Form's code according to the given a description of a new form element and a description of its location in the form.\\n\"\n",
    "            \"You may assume that the new form element to be added is always either a 'form' or a 'field'.\\n\"\n",
    "            \"Your output must be valid and compiler-friendly FormLang code only.\\n\"\n",
    "            \"If you are unsure of the FormLang syntax, try to infer it from the form code which is given below as an input.\"\n",
    "            \"Your answer will be evaluated using an AST comparison of your code to the expected code.\\n\"\n",
    "            \"```FormLang\\n\"\n",
    "            f\"{row['serializedModifiedForm']}\\n\"\n",
    "            \"```\\n\"\n",
    "            \"The description of the form element you need to add:\\n\"\n",
    "            f\"{row['removedNodeEnglish']}\\n\"\n",
    "            \"The description of the context in the form where you should add the element:\\n\"\n",
    "            f\"The element to be added:\\n{row['removedNodeContextEnglish']}\\n\"\n",
    "           )\n",
    "\n",
    "examples[\"userPrompt\"] = examples.apply(create_prompt, axis=1)\n",
    "examples.head()"
   ]
  },
  {
   "cell_type": "code",
   "execution_count": 31,
   "id": "ba3b7e13-2753-4da3-86f2-594704d2d56a",
   "metadata": {},
   "outputs": [
    {
     "name": "stdout",
     "output_type": "stream",
     "text": [
      "Your job is to generate valid FormLang code according to the instructions given below:\n",
      "Inspect the following FormLang Form definition, the start of the code will be denoted with ```FormLang and its end with ``` .\n",
      "After inspection, complete the Form's code according to the given a description of a new form element and a description of its location in the form.\n",
      "You may assume that the new form element to be added is always either a 'form' or a 'field'.\n",
      "Your output must be valid and compiler-friendly FormLang code only.\n",
      "If you are unsure of the FormLang syntax, try to infer it from the form code which is given below as an input.Your answer will be evaluated using an AST comparison of your code to the expected code.\n",
      "```FormLang\n",
      "form p_ {\n",
      "\tcomp someOtherContainer \n",
      "\t\n",
      "\tfield M_ {\n",
      "\t\tstate boolean\n",
      "\t\tcomp otherTextBox \n",
      "\t\t\n",
      "\t}\n",
      "\tform a_w {\n",
      "\t\tcomp someOtherContainer \n",
      "\t\t\n",
      "\t\tfield rw_ {\n",
      "\t\t\tstate boolean[]\n",
      "\t\t\tcomp otherTextBox \n",
      "\t\t\t\n",
      "\t\t}\n",
      "\t\tfield pww {\n",
      "\t\t\tstate string default \"Ian Dickens\"\n",
      "\t\t\tcomp counter style=\"#6e5e5f\"\n",
      "\t\t\t\n",
      "\t\t}\n",
      "\t\tfield bw_wwww {\n",
      "\t\t\tstate boolean\n",
      "\t\t\tcomp myCheckbox size=\"(() => 16.964398542552882)()\" as expression\n",
      "\t\t\t\n",
      "\t\t}\n",
      "\t\tfield I_ {\n",
      "\t\t\tstate string default \"Tyler Strosin\"\n",
      "\t\t\tcomp myTextBox \n",
      "\t\t\t\n",
      "\t\t}\n",
      "\t}\n",
      "\n",
      "}\n",
      "\n",
      "```\n",
      "The description of the form element you need to add:\n",
      "\t\ta field whose id is 'y' with state of type: 'string', and is using the component 'myTextBox' to which the following prop assignments are made: textSize=\"#527a25\" borderColor=\"(() => 21.57343463561503)()\" as expression textWeight=\"(() => 94.06740392022547)()\" as expression textColor=\"#7d141b\".\n",
      "\t\t\n",
      "The description of the context in the form where you should add the element:\n",
      "The element to be added:\n",
      "* is a child of the form whose id is 'a_w'.\n",
      "* is located between the field whose id is 'bw_wwww' and the field whose id is 'I_'\n",
      "\n"
     ]
    }
   ],
   "source": [
    "print(examples['userPrompt'][0])"
   ]
  },
  {
   "cell_type": "code",
   "execution_count": 36,
   "id": "1a4d7bb4-4b53-4c85-91cd-67c3b026194d",
   "metadata": {},
   "outputs": [
    {
     "data": {
      "text/plain": [
       "'{\"$type\":\"Model\",\"forms\":[{\"$type\":\"Form\",\"name\":\"p_\",\"component\":{\"$type\":\"FieldComponentDef\",\"componentId\":{\"$error\":\"Could not resolve reference to ComponentDef named \\'someOtherContainer\\'.\"},\"componentPropsKeys\":[],\"componentPropsValues\":[]},\"children\":[{\"$type\":\"Field\",\"name\":\"M_\",\"state\":{\"$type\":\"FieldStateDef\",\"type\":\"boolean\",\"isArray\":false},\"component\":{\"$type\":\"FieldComponentDef\",\"componentId\":{\"$error\":\"Could not resolve reference to ComponentDef named \\'otherTextBox\\'.\"},\"componentPropsKeys\":[],\"componentPropsValues\":[]}},{\"$type\":\"Form\",\"name\":\"a_w\",\"component\":{\"$type\":\"FieldComponentDef\",\"componentId\":{\"$error\":\"Could not resolve reference to ComponentDef named \\'someOtherContainer\\'.\"},\"componentPropsKeys\":[],\"componentPropsValues\":[]},\"children\":[{\"$type\":\"Field\",\"name\":\"rw_\",\"state\":{\"$type\":\"FieldStateDef\",\"isArray\":true,\"type\":\"boolean\"},\"component\":{\"$type\":\"FieldComponentDef\",\"componentId\":{\"$error\":\"Could not resolve reference to ComponentDef named \\'otherTextBox\\'.\"},\"componentPropsKeys\":[],\"componentPropsValues\":[]}},{\"$type\":\"Field\",\"name\":\"pww\",\"state\":{\"$type\":\"FieldStateDef\",\"type\":\"string\",\"defaultValue\":{\"$type\":\"ValueExpression\",\"value\":\"Ian Dickens\",\"isExpression\":false},\"isArray\":false},\"component\":{\"$type\":\"FieldComponentDef\",\"componentId\":{\"$error\":\"Could not resolve reference to ComponentDef named \\'counter\\'.\"},\"componentPropsKeys\":[{\"$type\":\"ComponentPropKey\",\"key\":\"style\"}],\"componentPropsValues\":[{\"$type\":\"ValueExpression\",\"value\":\"#6e5e5f\",\"isExpression\":false}]}},{\"$type\":\"Field\",\"name\":\"bw_wwww\",\"state\":{\"$type\":\"FieldStateDef\",\"type\":\"boolean\",\"isArray\":false},\"component\":{\"$type\":\"FieldComponentDef\",\"componentId\":{\"$error\":\"Could not resolve reference to ComponentDef named \\'myCheckbox\\'.\"},\"componentPropsKeys\":[{\"$type\":\"ComponentPropKey\",\"key\":\"size\"}],\"componentPropsValues\":[{\"$type\":\"ValueExpression\",\"value\":\"(() => 16.964398542552882)()\",\"isExpression\":true}]}},{\"$type\":\"Field\",\"name\":\"y\",\"state\":{\"$type\":\"FieldStateDef\",\"type\":\"string\",\"isArray\":false},\"component\":{\"$type\":\"FieldComponentDef\",\"componentId\":{\"$error\":\"Could not resolve reference to ComponentDef named \\'myTextBox\\'.\"},\"componentPropsKeys\":[{\"$type\":\"ComponentPropKey\",\"key\":\"textSize\"},{\"$type\":\"ComponentPropKey\",\"key\":\"borderColor\"},{\"$type\":\"ComponentPropKey\",\"key\":\"textWeight\"},{\"$type\":\"ComponentPropKey\",\"key\":\"textColor\"}],\"componentPropsValues\":[{\"$type\":\"ValueExpression\",\"value\":\"#527a25\",\"isExpression\":false},{\"$type\":\"ValueExpression\",\"value\":\"(() => 21.57343463561503)()\",\"isExpression\":true},{\"$type\":\"ValueExpression\",\"value\":\"(() => 94.06740392022547)()\",\"isExpression\":true},{\"$type\":\"ValueExpression\",\"value\":\"#7d141b\",\"isExpression\":false}]}},{\"$type\":\"Field\",\"name\":\"I_\",\"state\":{\"$type\":\"FieldStateDef\",\"type\":\"string\",\"defaultValue\":{\"$type\":\"ValueExpression\",\"value\":\"Tyler Strosin\",\"isExpression\":false},\"isArray\":false},\"component\":{\"$type\":\"FieldComponentDef\",\"componentId\":{\"$error\":\"Could not resolve reference to ComponentDef named \\'myTextBox\\'.\"},\"componentPropsKeys\":[],\"componentPropsValues\":[]}}]}]}],\"components\":[],\"typeDefs\":[]}'"
      ]
     },
     "execution_count": 36,
     "metadata": {},
     "output_type": "execute_result"
    }
   ],
   "source": [
    "# [await get_ast(code) for code in examples[\"serializedForm\"]]\n",
    "ast1 = await get_ast(examples[\"serializedForm\"][0])\n",
    "ast1"
   ]
  },
  {
   "cell_type": "code",
   "execution_count": null,
   "id": "560a3c6e-c8b1-42af-a57e-71000c643d1f",
   "metadata": {},
   "outputs": [],
   "source": []
  }
 ],
 "metadata": {
  "kernelspec": {
   "display_name": "Python 3 (ipykernel)",
   "language": "python",
   "name": "python3"
  },
  "language_info": {
   "codemirror_mode": {
    "name": "ipython",
    "version": 3
   },
   "file_extension": ".py",
   "mimetype": "text/x-python",
   "name": "python",
   "nbconvert_exporter": "python",
   "pygments_lexer": "ipython3",
   "version": "3.10.12"
  }
 },
 "nbformat": 4,
 "nbformat_minor": 5
}
