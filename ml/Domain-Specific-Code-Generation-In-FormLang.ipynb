{
  "cells": [
    {
      "cell_type": "markdown",
      "id": "3da41cfd-8291-4b03-87ed-5df197c2efbd",
      "metadata": {
        "id": "3da41cfd-8291-4b03-87ed-5df197c2efbd"
      },
      "source": [
        "# Domain Specific Code Generation using the FormLang DSL"
      ]
    },
    {
      "cell_type": "markdown",
      "id": "1b4cbce9-f06b-46e7-87da-cd82364afd6c",
      "metadata": {
        "id": "1b4cbce9-f06b-46e7-87da-cd82364afd6c"
      },
      "source": [
        "## Abstract\n",
        "\n",
        "AI and LLM systems are being trained to perform a variety of complex tasks requiring expertise in many software tools, languages and technology stacks. Some of the challenges in this process involve quality data acquisition in large amounts, handling the increase of model parameter count which leads to increasing compute demands and costs, as well as emerging Data Privacy and Intellctual Property concerns related with using 3rd party cloud services for model training.\n",
        "\n",
        "In this work we attempt to harness and combine the benefits of Abstraction and Determinism provided by Formal Domain Specific Languages (DSLs) with the innate ability of LLMs to learn new languages and their semantics. We propose a novel generation task called \"Domain Specific Code Generation\" which involve mapping user requests written in natural language to DSL code.\n",
        "\n",
        "By utilizing a specially crafted DSL called `FormLang` as a case study, we attempt to lay the groundwork for methods of automated DSL dataset generation, training techniques and performance evaluation, with the end goal of creating an AI system capable of generating Web forms according to a user request. If successful and viable, these methods can be applied to other problem domains in which real-world processes can be formally modelled using DSLs, opening the door to the training of AI agents that understand these DSLs and can be engineered to perform tasks autonomously.\n",
        "\n",
        "Our `FormLang` DSL allows expressing the semantics of Web-forms using a simplified syntax that does not require much, if any, Web-programming knowledge and expertise.\n",
        "\n",
        "Given a user prompt in English describing the desired form and its fields the LLM produces syntactically valid `FormLang` output which is run through the accompanying FormLang parser and a hand-crafted React JSX compiler to output a final implementation of the form in JavaScript and React.\n",
        "\n",
        "**(TBD)** The project includes a live demo which demonstrates the capabilities of the system.\n"
      ]
    },
    {
      "cell_type": "markdown",
      "id": "9fe6f6e1-43e6-45d7-a792-8e8d141c075b",
      "metadata": {
        "id": "9fe6f6e1-43e6-45d7-a792-8e8d141c075b"
      },
      "source": [
        "## Referring to this work\n",
        "\n",
        "If you use this work the following quote is preferred:\n",
        "\n",
        "```bibtex\n",
        "@misc{guyor2025dscodegenformlang,\n",
        "      title={Domain Specific Code Generation using the FormLang DSL},\n",
        "      author={Guy Or},\n",
        "      year={2025}\n",
        "}\n",
        "```\n",
        "\n",
        "The official repository of this work is hosted in GitHub at https://github.com/guyo13/Form-Lang."
      ]
    },
    {
      "cell_type": "markdown",
      "id": "3b0ab27f-eb13-4744-aac1-57e8ca65d63e",
      "metadata": {
        "id": "3b0ab27f-eb13-4744-aac1-57e8ca65d63e"
      },
      "source": [
        "## Project Goals\n",
        "\n",
        "* Create an AI training pipeline for FormLang (implemented as a Juypter notebook) which includes:\n",
        "    * Automatic FormLang Dataset generation using searching algorithms and heuristics.\n",
        "    * Baseline model selection and loading from Hugging Face.\n",
        "    * Dataset Preprocessing and loading.\n",
        "    * Defining performance metrics for the model.\n",
        "    * Model fine tuning using Transformers library\n",
        "    * Model Adapter training using PEFT library.\n",
        "    * Model upload to Hugging Face Hub and example usage from the Hub.\n",
        "    *  **(TBD)** Export to ONNX using Optimum and run on-device using Transformers.js.\n",
        "* Create the “FormLang” language:\n",
        "    * Describe the problem domain.\n",
        "    * Defining a viable minimal syntax and semantics which are research focused rather than completeness focused.\n",
        "    *  **(TBD)** Implementing a “JavaScript React” compile target.\n",
        "*  **(TBD)** Create a live demo website:\n",
        "    * **(TBD)** Users input a prompt.\n",
        "    * **(TBD)** A FormLang editor is populated with the AI’s code generation results.\n",
        "    * **(TBD)** The form is rendered alongside the generated code.\n",
        "*  Discuss the project results:\n",
        "    * Perfornace and user acceptability.\n",
        "    * **(TBD)** Viability of the implemented methods for the Domain Specific Code Generation task and generalization to other domains.  \n",
        "    * **(TBD)** Potential enhancements to the system.\n",
        "    * **(TBD)** Possible research directions on how to learn from user data.\n",
        "\n",
        "\n",
        "**(TBD)** - Features marked as TBD are depending on the project's progress and timeline constraints as well as proving the viability of the methods and system."
      ]
    },
    {
      "cell_type": "markdown",
      "id": "f82857ab-ff94-41c5-ac86-3118861b0590",
      "metadata": {
        "id": "f82857ab-ff94-41c5-ac86-3118861b0590"
      },
      "source": [
        "# Notebook Setup"
      ]
    },
    {
      "cell_type": "markdown",
      "id": "e11e7427-aed5-48ac-96e2-b84fbdf073f3",
      "metadata": {
        "id": "e11e7427-aed5-48ac-96e2-b84fbdf073f3"
      },
      "source": [
        "## About the FormLang DSL and its codebase"
      ]
    },
    {
      "cell_type": "markdown",
      "id": "0472c753-5fe4-44b7-b36c-81139377cc6b",
      "metadata": {
        "id": "0472c753-5fe4-44b7-b36c-81139377cc6b"
      },
      "source": [
        "The FormLang DSL is implemented using [Langium](https://langium.org/). Langium is a toolkit written in TypeScript that allows language engineers to create DSLs and quickly iterate over their development lifecycle.\n",
        "\n",
        "Some of the many features offered by Langium are:\n",
        "\n",
        "* Parser generation - Langium leverages [Chevrotain](https://chevrotain.io/docs/) to create a fast parser that can parse the DSL code to AST.\n",
        "* TypeScript AST nodes generation - Langium automatically generates TS types that represent the AST of the language.\n",
        "* Simplified Validation rules - Langium has built in support for writing and executing validation rules with built in error reporting.\n",
        "* Language Server Protocol support - Langium implements the LSP protocol which allows code completion and syntax highlighting in many IDEs such as VSCode.\n",
        "\n",
        "Since we are using Langium to parse the FormLang DSL, some of this project tooling and algorithms are written in TypeScript.\n",
        "\n",
        "To call our TypeScript code from Python we are using two distinct methods:\n",
        "\n",
        "* [PythonMonkey](https://pythonmonkey.io/) - A Python package that implements FFI between Python and JavaScript.\n",
        "* Local HTTP API - For some cases in which the PythonMonkey FFI is too slow or buggy, we've implemented a local REST-API server that implements some functions we require (e.g for parsing FormLang code to AST).\n",
        "\n",
        "### Codebase\n",
        "\n",
        "The entire codebase is hosted in Github at [FormLang](https://github.com/guyo13/Form-Lang)."
      ]
    },
    {
      "cell_type": "markdown",
      "id": "Ou2nd_6VfMJb",
      "metadata": {
        "id": "Ou2nd_6VfMJb"
      },
      "source": [
        "### Running from Colab"
      ]
    },
    {
      "cell_type": "markdown",
      "id": "eJxc5-6UfnjC",
      "metadata": {
        "id": "eJxc5-6UfnjC"
      },
      "source": [
        "#### Installing PNPM and Bun"
      ]
    },
    {
      "cell_type": "code",
      "execution_count": 2,
      "id": "sacCOlA8fqLv",
      "metadata": {
        "colab": {
          "base_uri": "https://localhost:8080/"
        },
        "collapsed": true,
        "id": "sacCOlA8fqLv",
        "jupyter": {
          "outputs_hidden": true
        },
        "outputId": "73f0dea6-1554-4b26-e2dd-faf4a723107b"
      },
      "outputs": [
        {
          "output_type": "stream",
          "name": "stdout",
          "text": [
            "\u001b[1G\u001b[0K⠙\u001b[1G\u001b[0K⠹\u001b[1G\u001b[0K⠸\u001b[1G\u001b[0K⠼\u001b[1G\u001b[0K⠴\u001b[1G\u001b[0K⠦\u001b[1G\u001b[0K⠧\u001b[1G\u001b[0K⠇\u001b[1G\u001b[0K⠏\u001b[1G\u001b[0K⠋\u001b[1G\u001b[0K\n",
            "changed 1 package in 1s\n",
            "\u001b[1G\u001b[0K⠋\u001b[1G\u001b[0K\n",
            "\u001b[1G\u001b[0K⠋\u001b[1G\u001b[0K1 package is looking for funding\n",
            "\u001b[1G\u001b[0K⠋\u001b[1G\u001b[0K  run `npm fund` for details\n",
            "\u001b[1G\u001b[0K⠋\u001b[1G\u001b[0K\u001b[1G\u001b[0K⠙\u001b[1G\u001b[0K⠹\u001b[1G\u001b[0K⠸\u001b[1G\u001b[0K⠼\u001b[1G\u001b[0K⠴\u001b[1G\u001b[0K⠦\u001b[1G\u001b[0K⠧\u001b[1G\u001b[0K⠇\u001b[1G\u001b[0K⠏\u001b[1G\u001b[0K⠋\u001b[1G\u001b[0K⠙\u001b[1G\u001b[0K⠹\u001b[1G\u001b[0K⠸\u001b[1G\u001b[0K⠼\u001b[1G\u001b[0K⠴\u001b[1G\u001b[0K⠦\u001b[1G\u001b[0K⠧\u001b[1G\u001b[0K⠇\u001b[1G\u001b[0K⠏\u001b[1G\u001b[0K⠋\u001b[1G\u001b[0K⠙\u001b[1G\u001b[0K⠹\u001b[1G\u001b[0K⠸\u001b[1G\u001b[0K⠼\u001b[1G\u001b[0K⠴\u001b[1G\u001b[0K⠦\u001b[1G\u001b[0K⠧\u001b[1G\u001b[0K⠇\u001b[1G\u001b[0K⠏\u001b[1G\u001b[0K⠋\u001b[1G\u001b[0K⠙\u001b[1G\u001b[0K⠹\u001b[1G\u001b[0K⠸\u001b[1G\u001b[0K⠼\u001b[1G\u001b[0K⠴\u001b[1G\u001b[0K⠦\u001b[1G\u001b[0K⠧\u001b[1G\u001b[0K⠇\u001b[1G\u001b[0K⠏\u001b[1G\u001b[0K⠋\u001b[1G\u001b[0K⠙\u001b[1G\u001b[0K⠹\u001b[1G\u001b[0K⠸\u001b[1G\u001b[0K⠼\u001b[1G\u001b[0K⠴\u001b[1G\u001b[0K⠦\u001b[1G\u001b[0K⠧\u001b[1G\u001b[0K\n",
            "changed 5 packages in 6s\n",
            "\u001b[1G\u001b[0K⠧\u001b[1G\u001b[0K\u001b[1G\u001b[0K⠙\u001b[1G\u001b[0K⠹\u001b[1G\u001b[0K⠸\u001b[1G\u001b[0K⠼\u001b[1G\u001b[0K\n",
            "changed 1 package in 597ms\n",
            "\u001b[1G\u001b[0K⠼\u001b[1G\u001b[0K"
          ]
        }
      ],
      "source": [
        "!npm install -g pnpm\n",
        "!npm install -g bun@latest\n",
        "!npm install -g corepack@latest"
      ]
    },
    {
      "cell_type": "code",
      "execution_count": 3,
      "id": "S1UNnkGMpIMk",
      "metadata": {
        "colab": {
          "base_uri": "https://localhost:8080/"
        },
        "id": "S1UNnkGMpIMk",
        "outputId": "74b4b8d3-c913-42cd-8c79-3332d65f8e20"
      },
      "outputs": [
        {
          "output_type": "stream",
          "name": "stdout",
          "text": [
            "1.2.2\n"
          ]
        }
      ],
      "source": [
        "!bun -v"
      ]
    },
    {
      "cell_type": "markdown",
      "id": "eJNyxbOUf06Z",
      "metadata": {
        "id": "eJNyxbOUf06Z"
      },
      "source": [
        "#### Installing PythonMonkey"
      ]
    },
    {
      "cell_type": "code",
      "execution_count": 4,
      "id": "2xL-UgVOf6BY",
      "metadata": {
        "collapsed": true,
        "id": "2xL-UgVOf6BY",
        "jupyter": {
          "outputs_hidden": true
        }
      },
      "outputs": [],
      "source": [
        "!pip install --quiet pythonmonkey"
      ]
    },
    {
      "cell_type": "markdown",
      "id": "Gg8rNPQ122uw",
      "metadata": {
        "id": "Gg8rNPQ122uw"
      },
      "source": [
        "#### Installing Huggingface libraries and Unsloth"
      ]
    },
    {
      "cell_type": "code",
      "execution_count": 5,
      "id": "ZLalOx4-25Im",
      "metadata": {
        "collapsed": true,
        "id": "ZLalOx4-25Im",
        "jupyter": {
          "outputs_hidden": true
        }
      },
      "outputs": [],
      "source": [
        "!pip install --quiet datasets evaluate bitsandbytes unsloth"
      ]
    },
    {
      "cell_type": "markdown",
      "id": "d537df63-edda-4c6a-aa6c-a41ba8c99949",
      "metadata": {
        "id": "d537df63-edda-4c6a-aa6c-a41ba8c99949"
      },
      "source": [
        "#### Installing dependencies for ROUGE score"
      ]
    },
    {
      "cell_type": "code",
      "execution_count": 6,
      "id": "5d325f7d-d0b5-4e13-a5d2-aa030f915885",
      "metadata": {
        "id": "5d325f7d-d0b5-4e13-a5d2-aa030f915885"
      },
      "outputs": [],
      "source": [
        "!pip install --quiet nltk absl-py rouge_score"
      ]
    },
    {
      "cell_type": "markdown",
      "source": [
        "#### Installing Flash attention 2"
      ],
      "metadata": {
        "id": "7wqPRVQ5Nr85"
      },
      "id": "7wqPRVQ5Nr85"
    },
    {
      "cell_type": "code",
      "source": [
        "!pip install flash-attn --quiet --no-build-isolation"
      ],
      "metadata": {
        "id": "8Ar_RLk0Nv5N"
      },
      "id": "8Ar_RLk0Nv5N",
      "execution_count": 7,
      "outputs": []
    },
    {
      "cell_type": "markdown",
      "source": [
        "#### Installing Optimum-Quato"
      ],
      "metadata": {
        "id": "UAUIoMlsZYQF"
      },
      "id": "UAUIoMlsZYQF"
    },
    {
      "cell_type": "code",
      "source": [
        "!pip install optimum-quanto --quiet"
      ],
      "metadata": {
        "id": "HhL69dfTZbll"
      },
      "id": "HhL69dfTZbll",
      "execution_count": 8,
      "outputs": []
    },
    {
      "cell_type": "markdown",
      "id": "cBeWGXlGpfsD",
      "metadata": {
        "id": "cBeWGXlGpfsD"
      },
      "source": [
        "#### Clone the repo"
      ]
    },
    {
      "cell_type": "code",
      "execution_count": 9,
      "id": "b59psKFItLqX",
      "metadata": {
        "id": "b59psKFItLqX"
      },
      "outputs": [],
      "source": [
        "!rm -rf Form-Lang"
      ]
    },
    {
      "cell_type": "code",
      "execution_count": 10,
      "id": "XuvuEliefRsv",
      "metadata": {
        "colab": {
          "base_uri": "https://localhost:8080/"
        },
        "collapsed": true,
        "id": "XuvuEliefRsv",
        "jupyter": {
          "outputs_hidden": true
        },
        "outputId": "1a1f2083-1bd2-4768-e70e-7fbffd033940"
      },
      "outputs": [
        {
          "output_type": "stream",
          "name": "stdout",
          "text": [
            "Cloning into 'Form-Lang'...\n",
            "remote: Enumerating objects: 717, done.\u001b[K\n",
            "remote: Counting objects: 100% (137/137), done.\u001b[K\n",
            "remote: Compressing objects: 100% (113/113), done.\u001b[K\n",
            "remote: Total 717 (delta 98), reused 34 (delta 24), pack-reused 580 (from 1)\u001b[K\n",
            "Receiving objects: 100% (717/717), 802.22 KiB | 971.00 KiB/s, done.\n",
            "Resolving deltas: 100% (461/461), done.\n"
          ]
        }
      ],
      "source": [
        "!git clone -b react_compiler https://github.com/guyo13/Form-Lang.git"
      ]
    },
    {
      "cell_type": "markdown",
      "id": "77JM8W54prfR",
      "metadata": {
        "id": "77JM8W54prfR"
      },
      "source": [
        "#### Install project dependencies and build"
      ]
    },
    {
      "cell_type": "code",
      "execution_count": 11,
      "id": "qCmTdtwfpvXu",
      "metadata": {
        "colab": {
          "base_uri": "https://localhost:8080/"
        },
        "collapsed": true,
        "id": "qCmTdtwfpvXu",
        "jupyter": {
          "outputs_hidden": true
        },
        "outputId": "16c76ebd-28e9-4796-c2f0-c3fdfc90ab23"
      },
      "outputs": [
        {
          "output_type": "stream",
          "name": "stdout",
          "text": [
            "Adding pnpm@10.0.0 to the cache...\n",
            "Lockfile is up to date, resolution step is skipped\n",
            "Progress: resolved \u001b[96m1\u001b[39m, reused \u001b[96m0\u001b[39m, downloaded \u001b[96m0\u001b[39m, added \u001b[96m0\u001b[39m\n",
            "\u001b[1APackages: \u001b[32m+502\u001b[39m\u001b[0K\n",
            "\n",
            "Progress: resolved \u001b[96m1\u001b[39m, reused \u001b[96m0\u001b[39m, downloaded \u001b[96m0\u001b[39m, added \u001b[96m0\u001b[39m\n",
            "\u001b[1AProgress: resolved \u001b[96m502\u001b[39m, reused \u001b[96m0\u001b[39m, downloaded \u001b[96m0\u001b[39m, added \u001b[96m0\u001b[39m\n",
            "\u001b[1AProgress: resolved \u001b[96m502\u001b[39m, reused \u001b[96m222\u001b[39m, downloaded \u001b[96m0\u001b[39m, added \u001b[96m0\u001b[39m\n",
            "\u001b[1AProgress: resolved \u001b[96m502\u001b[39m, reused \u001b[96m501\u001b[39m, downloaded \u001b[96m0\u001b[39m, added \u001b[96m24\u001b[39m\n",
            "\u001b[1AProgress: resolved \u001b[96m502\u001b[39m, reused \u001b[96m502\u001b[39m, downloaded \u001b[96m0\u001b[39m, added \u001b[96m334\u001b[39m\n",
            "\u001b[1AProgress: resolved \u001b[96m502\u001b[39m, reused \u001b[96m502\u001b[39m, downloaded \u001b[96m0\u001b[39m, added \u001b[96m500\u001b[39m\n",
            "\u001b[1AProgress: resolved \u001b[96m502\u001b[39m, reused \u001b[96m502\u001b[39m, downloaded \u001b[96m0\u001b[39m, added \u001b[96m501\u001b[39m\n",
            "\u001b[1AProgress: resolved \u001b[96m502\u001b[39m, reused \u001b[96m502\u001b[39m, downloaded \u001b[96m0\u001b[39m, added \u001b[96m502\u001b[39m, done\n",
            "\n",
            "\u001b[96mdependencies:\u001b[39m\n",
            "\u001b[32m+\u001b[39m @codingame/monaco-vscode-editor-service-override \u001b[90m3.2.3\u001b[39m\n",
            "\u001b[32m+\u001b[39m @codingame/monaco-vscode-keybindings-service-override \u001b[90m3.2.3\u001b[39m\n",
            "\u001b[32m+\u001b[39m @faker-js/faker \u001b[90m9.4.0\u001b[39m\n",
            "\u001b[32m+\u001b[39m @guyo13/langium-utils \u001b[90m1.1.1\u001b[39m\n",
            "\u001b[32m+\u001b[39m chalk \u001b[90m5.3.0\u001b[39m\n",
            "\u001b[32m+\u001b[39m commander \u001b[90m11.0.0\u001b[39m\n",
            "\u001b[32m+\u001b[39m langium \u001b[90m3.3.0\u001b[39m\n",
            "\u001b[32m+\u001b[39m monaco-editor <- @codingame/monaco-vscode-editor-api \u001b[90m3.2.3\u001b[39m\n",
            "\u001b[32m+\u001b[39m monaco-editor-wrapper \u001b[90m4.0.2\u001b[39m\n",
            "\u001b[32m+\u001b[39m monaco-languageclient \u001b[90m8.1.1\u001b[39m\n",
            "\u001b[32m+\u001b[39m prettier \u001b[90m3.4.2\u001b[39m\n",
            "\u001b[32m+\u001b[39m tree-sitter \u001b[90m0.22.4\u001b[39m\n",
            "\u001b[32m+\u001b[39m tree-sitter-javascript \u001b[90m0.23.1\u001b[39m\n",
            "\u001b[32m+\u001b[39m vscode-languageclient \u001b[90m9.0.1\u001b[39m\n",
            "\u001b[32m+\u001b[39m vscode-languageserver \u001b[90m9.0.1\u001b[39m\n",
            "\u001b[32m+\u001b[39m zod \u001b[90m3.24.1\u001b[39m\n",
            "\n",
            "\u001b[96mdevDependencies:\u001b[39m\n",
            "\u001b[32m+\u001b[39m @codingame/esbuild-import-meta-url-plugin \u001b[90m1.0.2\u001b[39m\n",
            "\u001b[32m+\u001b[39m @types/node \u001b[90m18.19.70\u001b[39m\n",
            "\u001b[32m+\u001b[39m @types/vscode \u001b[90m1.67.0\u001b[39m\n",
            "\u001b[32m+\u001b[39m @typescript-eslint/eslint-plugin \u001b[90m7.3.1\u001b[39m\n",
            "\u001b[32m+\u001b[39m @typescript-eslint/parser \u001b[90m7.3.1\u001b[39m\n",
            "\u001b[32m+\u001b[39m @vscode/vsce \u001b[90m3.2.1\u001b[39m\n",
            "\u001b[32m+\u001b[39m concurrently \u001b[90m8.2.2\u001b[39m\n",
            "\u001b[32m+\u001b[39m dependency-cruiser \u001b[90m16.9.0\u001b[39m\n",
            "\u001b[32m+\u001b[39m esbuild \u001b[90m0.20.2\u001b[39m\n",
            "\u001b[32m+\u001b[39m eslint \u001b[90m8.57.1\u001b[39m\n",
            "\u001b[32m+\u001b[39m http-server \u001b[90m14.1.1\u001b[39m\n",
            "\u001b[32m+\u001b[39m langium-cli \u001b[90m3.3.0\u001b[39m\n",
            "\u001b[32m+\u001b[39m typescript \u001b[90m5.1.6\u001b[39m\n",
            "\u001b[32m+\u001b[39m vite \u001b[90m5.2.14\u001b[39m\n",
            "\u001b[32m+\u001b[39m vitest \u001b[90m1.4.0\u001b[39m\n",
            "\u001b[32m+\u001b[39m vscode <- @codingame/monaco-vscode-api \u001b[90m3.2.3\u001b[39m\n",
            "\u001b[32m+\u001b[39m vscode-languageserver-types \u001b[90m3.17.5\u001b[39m\n",
            "\n",
            "The following dependencies have build scripts that were ignored: @vscode/vsce-sign, esbuild, keytar, tree-sitter, tree-sitter-javascript\n",
            "To allow the execution of build scripts for these packages, add their names to \"pnpm.onlyBuiltDependencies\" in your \"package.json\", then run \"pnpm rebuild\"\n",
            "\n",
            "Done in 2.1s\n",
            "\n",
            "> form-lang@0.0.1 gb /content/Form-Lang\n",
            "> corepack pnpm run langium:generate && corepack pnpm run build\n",
            "\n",
            "\n",
            "> form-lang@0.0.1 langium:generate /content/Form-Lang\n",
            "> langium generate\n",
            "\n",
            "Reading config from \u001b[37m\u001b[1m/content/Form-Lang/langium-config.json\u001b[22m\u001b[39m\n",
            "Writing generated files to \u001b[37m\u001b[1m/content/Form-Lang/src/language/generated\u001b[22m\u001b[39m\n",
            "Writing textmate grammar to \u001b[37m\u001b[1m/content/Form-Lang/syntaxes/form-lang.tmLanguage.json\u001b[22m\u001b[39m\n",
            "Writing monarch grammar to \u001b[37m\u001b[1m/content/Form-Lang/src/syntaxes/form-lang.monarch.ts\u001b[22m\u001b[39m\n",
            "[\u001b[90m07:00:34\u001b[39m] Langium generator finished \u001b[32m\u001b[1msuccessfully\u001b[22m\u001b[39m in 285ms\n",
            "\n",
            "> form-lang@0.0.1 build /content/Form-Lang\n",
            "> tsc -b tsconfig.src.json && node esbuild.mjs\n",
            "\n",
            "[07:00:39] Build succeeded\n",
            "package.json created at /content/Form-Lang/out/esm/package.json\n",
            "[07:00:39] Build succeeded\n",
            "package.json created at /content/Form-Lang/out/cjs/package.json\n",
            "[07:00:39] Build succeeded\n",
            "Building types\n",
            "\n",
            "Declaration emit succeeded.\n"
          ]
        }
      ],
      "source": [
        "!cd Form-Lang && corepack install && corepack pnpm install && corepack pnpm run gb"
      ]
    },
    {
      "cell_type": "code",
      "execution_count": 12,
      "id": "WPA2vJdeskqh",
      "metadata": {
        "colab": {
          "base_uri": "https://localhost:8080/"
        },
        "collapsed": true,
        "id": "WPA2vJdeskqh",
        "jupyter": {
          "outputs_hidden": true
        },
        "outputId": "c2575e99-1e03-4403-e94f-7fd3e67809c2"
      },
      "outputs": [
        {
          "output_type": "stream",
          "name": "stdout",
          "text": [
            "Lockfile is up to date, resolution step is skipped\n",
            "Progress: resolved \u001b[96m1\u001b[39m, reused \u001b[96m0\u001b[39m, downloaded \u001b[96m0\u001b[39m, added \u001b[96m0\u001b[39m\n",
            "\u001b[1APackages: \u001b[32m+69\u001b[39m\u001b[0K\n",
            "\n",
            "Progress: resolved \u001b[96m1\u001b[39m, reused \u001b[96m0\u001b[39m, downloaded \u001b[96m0\u001b[39m, added \u001b[96m0\u001b[39m\n",
            "\u001b[1AProgress: resolved \u001b[96m69\u001b[39m, reused \u001b[96m32\u001b[39m, downloaded \u001b[96m0\u001b[39m, added \u001b[96m0\u001b[39m\n",
            "\u001b[1AProgress: resolved \u001b[96m69\u001b[39m, reused \u001b[96m69\u001b[39m, downloaded \u001b[96m0\u001b[39m, added \u001b[96m69\u001b[39m, done\n",
            "\n",
            "\u001b[96mdependencies:\u001b[39m\n",
            "\u001b[32m+\u001b[39m express \u001b[90m4.21.2\u001b[39m\n",
            "\n",
            "Done in 761ms\n"
          ]
        }
      ],
      "source": [
        "!cd Form-Lang/ml && pnpm install"
      ]
    },
    {
      "cell_type": "markdown",
      "id": "0GvS9UKKrTdw",
      "metadata": {
        "id": "0GvS9UKKrTdw"
      },
      "source": [
        "#### Run the FormLang HTTP API server"
      ]
    },
    {
      "cell_type": "code",
      "execution_count": 13,
      "id": "4MbS22mIp4Uf",
      "metadata": {
        "colab": {
          "base_uri": "https://localhost:8080/"
        },
        "id": "4MbS22mIp4Uf",
        "outputId": "849d49c7-cbeb-43f9-f905-8bdb89133531"
      },
      "outputs": [
        {
          "output_type": "execute_result",
          "data": {
            "text/plain": [
              "<Popen: returncode: None args: ['bun', 'lib_server.cjs']>"
            ]
          },
          "metadata": {},
          "execution_count": 13
        }
      ],
      "source": [
        "from subprocess import Popen, PIPE\n",
        "import sys\n",
        "\n",
        "def run_js_with_bun(js_file, cwd=None):\n",
        "  \"\"\"\n",
        "  Runs a JavaScript file using Bun as a subprocess.\n",
        "\n",
        "  Args:\n",
        "    js_file: The path to the JavaScript file.\n",
        "    cwd: The working directory for the child process.\n",
        "         If None, the current working directory is used.\n",
        "  \"\"\"\n",
        "  try:\n",
        "    # Execute the JavaScript file using Bun with specified working directory\n",
        "    process = Popen(['bun', js_file], stdout=PIPE, cwd=cwd)\n",
        "    return process\n",
        "\n",
        "  except FileNotFoundError:\n",
        "    print(\"Error: Bun not found. Please ensure Bun is installed and in your PATH.\")\n",
        "  except Exception as e:\n",
        "    import traceback\n",
        "    traceback.print_exc()\n",
        "    print(\"An unexpected error occurred:\", e)\n",
        "\n",
        "http_server = run_js_with_bun(\"lib_server.cjs\", \"Form-Lang/ml\")\n",
        "http_server"
      ]
    },
    {
      "cell_type": "code",
      "execution_count": 15,
      "id": "hFMW6ykOw9bd",
      "metadata": {
        "colab": {
          "base_uri": "https://localhost:8080/"
        },
        "id": "hFMW6ykOw9bd",
        "outputId": "3b497f71-a2a2-4ee6-cc08-294e52333b79"
      },
      "outputs": [
        {
          "output_type": "stream",
          "name": "stdout",
          "text": [
            "{\"status\":\"ok\",\"result\":{\"ast\":\"{\\\"$type\\\":\\\"Form\\\",\\\"name\\\":\\\"helloWorld\\\",\\\"component\\\":{\\\"$type\\\":\\\"FieldComponentDef\\\",\\\"componentId\\\":{\\\"$ref\\\":\\\"#/components@0\\\"},\\\"componentPropsKeys\\\":[],\\\"componentPropsValues\\\":[]},\\\"children\\\":[]}\"}}"
          ]
        }
      ],
      "source": [
        "!curl -d '{\"sourceCode\": \"component hey{} form helloWorld {comp hey}\"}' -H \"content-type: application/json\" \"http://localhost:3000/compute/ast\""
      ]
    },
    {
      "cell_type": "markdown",
      "id": "d876cfa3-6129-4884-be8b-bc0c23f4a511",
      "metadata": {
        "id": "d876cfa3-6129-4884-be8b-bc0c23f4a511"
      },
      "source": [
        "## Project imports"
      ]
    },
    {
      "cell_type": "code",
      "execution_count": 16,
      "id": "3a9e9c44-4a3b-494b-bb86-63178d67bdd7",
      "metadata": {
        "id": "3a9e9c44-4a3b-494b-bb86-63178d67bdd7"
      },
      "outputs": [],
      "source": [
        "import asyncio\n",
        "import time\n",
        "import re\n",
        "import functools\n",
        "import json\n",
        "from pprint import pprint\n",
        "from transformers import pipeline, AutoTokenizer, AutoModelForCausalLM, GenerationConfig, QuantizedCacheConfig\n",
        "from datasets import Dataset, load_dataset\n",
        "from huggingface_hub import login\n",
        "from tqdm.notebook import trange, tqdm\n",
        "import evaluate\n",
        "import pythonmonkey as pm\n",
        "import pandas as pd\n",
        "import requests\n",
        "import torch\n",
        "try:\n",
        "    # If using locally from the `ml` folder\n",
        "    formlang_lib = pm.require(\"../out/cjs/lib/index\")\n",
        "except:\n",
        "    # If using in Colab:\n",
        "    formlang_lib = pm.require(\"./Form-Lang/out/cjs/lib/index\")"
      ]
    },
    {
      "cell_type": "markdown",
      "id": "290ca50b-0174-4c0b-9ecc-79f04eb910ad",
      "metadata": {
        "id": "290ca50b-0174-4c0b-9ecc-79f04eb910ad"
      },
      "source": [
        "## Login to Huggingface Hub"
      ]
    },
    {
      "cell_type": "code",
      "execution_count": 19,
      "id": "93c12f91-3626-4985-af97-0d69b4418475",
      "metadata": {
        "colab": {
          "base_uri": "https://localhost:8080/",
          "height": 17,
          "referenced_widgets": [
            "ca1f2b49a8c64809a028b244d94dd0e6",
            "33ccdfd3031d4223a2406b7b2bb7c18c",
            "b1fb6808c27e442aa42cdc69fa0aa139",
            "85da865a2557488f9392ea4100c07a7a",
            "70a674ec1709447f96df210a2937e8a2",
            "6c6bea75f9cd49a49e6b4dfd630be001",
            "bd633a55158e4a6ea3c6e478026c4f35",
            "a3af23e41d9843d9aa73e79f9f4a6c6e",
            "2f1809f11f6841ae9c01078522c24b77",
            "dd79006905b34a4ca649b56db0a23f1c",
            "257c80ce586949aaaf57387ace01d53e",
            "bd8d695f65f34a9ab9d782fa63d59227",
            "0abe4191cf114aaf82c2b516b8e170c6",
            "6947694e230c420092e68e1743665288",
            "02739349838543b1849bb6860710b476",
            "1a43dc81d44146ef9f1b92c13b1ac2a7",
            "257d9fdec8044f9a8cdaaa83f55453be",
            "1623ae9ac2c342beb2f45100837f5bb0",
            "1a166fe28ebb45808687e3934a6bea35",
            "5a1de887508740ed9534a35d3856182b"
          ]
        },
        "id": "93c12f91-3626-4985-af97-0d69b4418475",
        "outputId": "92403c8d-d56e-4c66-aee8-dac345cf4744"
      },
      "outputs": [
        {
          "output_type": "display_data",
          "data": {
            "text/plain": [
              "VBox(children=(HTML(value='<center> <img\\nsrc=https://huggingface.co/front/assets/huggingface_logo-noborder.sv…"
            ],
            "application/vnd.jupyter.widget-view+json": {
              "version_major": 2,
              "version_minor": 0,
              "model_id": "ca1f2b49a8c64809a028b244d94dd0e6"
            }
          },
          "metadata": {}
        }
      ],
      "source": [
        "login()"
      ]
    },
    {
      "cell_type": "markdown",
      "id": "8e22784f-1cb2-4baf-b6ce-8daea69f835e",
      "metadata": {
        "id": "8e22784f-1cb2-4baf-b6ce-8daea69f835e"
      },
      "source": [
        "## Helper functions"
      ]
    },
    {
      "cell_type": "markdown",
      "id": "B5MZPS6si9gx",
      "metadata": {
        "id": "B5MZPS6si9gx"
      },
      "source": [
        "### Python Monkey helpers\n",
        "\n",
        "These can be used to print JavaScript objects that live inside the PythonMonkey engine."
      ]
    },
    {
      "cell_type": "code",
      "execution_count": 17,
      "id": "eb8eaa24-5aca-4030-93c5-02a9d23c90be",
      "metadata": {
        "id": "eb8eaa24-5aca-4030-93c5-02a9d23c90be"
      },
      "outputs": [],
      "source": [
        "def js_dir(something):\n",
        "    pm.globalThis.console.dir(something)\n",
        "\n",
        "def js_log(something):\n",
        "    pm.globalThis.console.log(something)"
      ]
    },
    {
      "cell_type": "markdown",
      "id": "ea0978fc-0b8c-47c7-8af5-55dafa848fb8",
      "metadata": {
        "id": "ea0978fc-0b8c-47c7-8af5-55dafa848fb8"
      },
      "source": [
        "### Computing the AST\n",
        "\n",
        "In order to check the model's output we will need to parse the output FormLang code and check it for errors. We will also use the AST to compute performance metrics. Our `get_ast` function will be used to send FormLang source code to our local HTTP API for parsing.  "
      ]
    },
    {
      "cell_type": "code",
      "execution_count": 18,
      "id": "3d5a3c28-6767-4729-8e33-0325b467bf84",
      "metadata": {
        "id": "3d5a3c28-6767-4729-8e33-0325b467bf84"
      },
      "outputs": [],
      "source": [
        "def get_ast(code, shouldCheckErrors=False):\n",
        "    result = requests.post(\"http://localhost:3000/compute/ast\", json={\"sourceCode\": code, \"shouldCheckErrors\":shouldCheckErrors}).json()\n",
        "    if not result[\"status\"] == \"ok\":\n",
        "        raise RuntimeError(\"failed\")\n",
        "    return result[\"result\"]"
      ]
    },
    {
      "cell_type": "markdown",
      "id": "b9601b8e-70d6-41f9-87be-6c1bfc0aba11",
      "metadata": {
        "id": "b9601b8e-70d6-41f9-87be-6c1bfc0aba11"
      },
      "source": [
        "# Dataset generation"
      ]
    },
    {
      "cell_type": "markdown",
      "id": "f121c668-74c8-41e1-8f9a-8f9fa8b001ef",
      "metadata": {
        "id": "f121c668-74c8-41e1-8f9a-8f9fa8b001ef"
      },
      "source": [
        "## Generating the dataset\n",
        "\n",
        "The `ProbabilisticSearchFormGenerator` is class implemeting a parameterized algorithm for randomly generating forms:\n",
        "\n",
        "* Iterate Depth-First, start with an empty form definition.\n",
        "* For each item off the frontier if the item is a Field, append it to its Parent Form.\n",
        "* If the item is a Form, generate its children and add them onto the frontier. Generate children according to the following rules:\n",
        "    * Assign to the child node $depth = parentDepth + 1$.\n",
        "    * There is a probability of $\\alpha^{d}$ of generating a random child Form where $0 \\leq \\alpha < 1$ and $d$ is the depth of the child.\n",
        "    * There is an optional parameter $D$ for defining the maximum depth for nested forms, which sets to $0$ the probability to generate a nested Form if its depth will be $D$.\n",
        "    * There is a probability of $1 - \\alpha^{d}$ of generating a random child Field.\n",
        "    * The number of generated children is a random number in the range of $[minChildren, maxChildren]$.\n",
        "    * There is a probability of $\\beta$ that a generated Field will contain a `state`.\n",
        "      * There is a probability of $\\gamma$ that a state definition will be an `array`.\n",
        "        * The number of array elements will be chosen at random from the integer interval $[amin, amax]$.\n",
        "      * There is an equal probability of the state `type` to be any of the supported built-in types.\n",
        "      * There is a probability of $\\delta$ that a state definition will contain a `default` value.\n",
        "        * If the `type` is `string` there is an $\\epsilon$ probability of the default value to be defined as `as expression`, otherwise the probability is $1$.\n",
        "* For each item off the frontier chose a random component from a set of available components.\n",
        "  * Choose at random the number of assigned component props from the range $[0, ComponentPropCount]$.\n",
        "    * For each assigned prop generate a random value with $\\epsilon$ probability of the value to be defined as `as expression`\n",
        "\n",
        "The algorithm ranomly generates the tree structure of the form which is then serialized into `FormLang` source code.\n",
        "\n",
        "Some of the main advatages of using probabilistic search is the simplicity of implementation as well as the ability to create datasets representing different distributions by adjusting the generation hyper parameters.  "
      ]
    },
    {
      "cell_type": "markdown",
      "id": "d5cf20e3-7f30-435e-8910-65029528d619",
      "metadata": {
        "id": "d5cf20e3-7f30-435e-8910-65029528d619"
      },
      "source": [
        "We start by creating a [ProbabilisticSearchFormGenerator](https://github.com/guyo13/Form-Lang/blob/react_compiler/src/generation/formGen.ts#L102) object which is implemented in JavaScript, using the default search hyper parameters and some hard-coded Component definitions.\n",
        "\n",
        "Later on we will implement a random generator for the component definitions as well."
      ]
    },
    {
      "cell_type": "code",
      "execution_count": null,
      "id": "fdb52772-4bdb-4c24-b58e-ea9b92502153",
      "metadata": {
        "id": "fdb52772-4bdb-4c24-b58e-ea9b92502153"
      },
      "outputs": [],
      "source": [
        "form_components = \"\"\"\n",
        "  component userDetailsContainer {}\n",
        "  component formContainer {}\n",
        "  component someOtherContainer {}\n",
        "  component OtherContainer2 {}\n",
        "\"\"\"\n",
        "field_components = \"\"\"\n",
        "  component myTextBox {\n",
        "    props {\n",
        "      textColor\n",
        "      textSize\n",
        "      textWeight\n",
        "      borderColor\n",
        "    }\n",
        "  }\n",
        "  component myCheckbox {\n",
        "    props {\n",
        "      size\n",
        "    }\n",
        "  }\n",
        "  component otherTextBox {}\n",
        "  component counter {\n",
        "    props {\n",
        "      style\n",
        "    }\n",
        "  }\n",
        "\"\"\"\n",
        "\n",
        "form_gen = await formlang_lib.newFormGen(formlang_lib.DEFAULT_GENERATOR_HYPER_PARAMETERS, form_components, field_components)"
      ]
    },
    {
      "cell_type": "markdown",
      "id": "431142f1-0063-48fb-8aba-0a9f92c88e71",
      "metadata": {
        "id": "431142f1-0063-48fb-8aba-0a9f92c88e71"
      },
      "source": [
        "### Create a data generation loop for the prompt data"
      ]
    },
    {
      "cell_type": "markdown",
      "id": "933e48ac-7951-4640-855e-90a9874a9e6f",
      "metadata": {
        "id": "933e48ac-7951-4640-855e-90a9874a9e6f"
      },
      "source": [
        "#### Prompt-Data generation algorithm\n",
        "\n",
        "Each training example consists of a randomly generated form, from-which we remove (or \"mask\") a random node, keep track of the removed node's parent and siblings.\n",
        "\n",
        "The goal being to create a prompt that provides the masked form and describes in English the node that needs to be added along with its location in the form.\n",
        "\n",
        "The algoithm is as follows:\n",
        "\n",
        "* Generate a random Form - outputs $F$.\n",
        "* Serialize the Form to FormLang code - outputs $s(F)$.\n",
        "* Iterate Depth-First starting at the form's root.\n",
        "  * For every node the probability of removing the node is $1 - \\zeta^{depth(node)}, (0 < \\zeta < 1)$ if no node was removed, else the probability is $ 0 $.\n",
        "  * If a node is marked to be removed, recording its surrounding context and remove it from the tree. - $F \\to (F', N, ctx(F, N))$.\n",
        "* Serialize the modified Form to FormLang code - outputs $s(F')$.\n",
        "* Generate Prompt instruction parts:\n",
        "* Serialize the removed child node into plain English - outputs $eng(N)$.\n",
        "* Serialize the Parent and Siblings nodes ids and node types (form/field) into plain English - outputs $eng(ctx(F, N))$.\n",
        "* Output a dict consisting of $s(F), s(F'), eng(N), eng(ctx(F, N))$\n",
        "\n",
        "The algorithm is implemented in TypeScript in the [generateRandomFormWithModification](https://github.com/guyo13/Form-Lang/blob/react_compiler/src/lib/generator.ts#L43) function."
      ]
    },
    {
      "cell_type": "markdown",
      "id": "14256a40-7e47-4d75-a57c-b7c73602e3fa",
      "metadata": {
        "id": "14256a40-7e47-4d75-a57c-b7c73602e3fa"
      },
      "source": [
        "We create a small dataset of 3000 random examples by using the JavaScript FormLang utilities library and the form generator object.\n",
        "\n",
        "We copy from the form generator's output only the relevant fields which will make up the LLM prompt.\n",
        "\n",
        "For each generated example we also compute the original form's AST and store it as part of the dataset."
      ]
    },
    {
      "cell_type": "code",
      "execution_count": null,
      "id": "c39a45a8-8098-4a60-b41b-af9e9a4ac223",
      "metadata": {
        "id": "c39a45a8-8098-4a60-b41b-af9e9a4ac223"
      },
      "outputs": [],
      "source": [
        "# TODO - Refactor data generator pipeline as a Python class with easy interfaces\n",
        "\n",
        "def concat_components_code_with_form_code(form_code, form_components, field_components):\n",
        "    \"\"\"Concatenates the form code with the given components code that are referenced inside of it.\"\"\"\n",
        "    return f\"{form_components}\\n{field_components}\\n{form_code}\"\n",
        "\n",
        "def create_prompt_data(generation_result, form_components, field_components):\n",
        "    data = {\n",
        "        \"originalFormCode\": concat_components_code_with_form_code(generation_result[\"serializedForm\"], form_components, field_components),\n",
        "        \"modifiedFormCode\": concat_components_code_with_form_code(generation_result[\"serializedModifiedForm\"], form_components, field_components),\n",
        "        \"removedNodeEnglish\": str(generation_result[\"removedNodeEnglish\"]),\n",
        "        \"removedNodeContextEnglish\": str(generation_result[\"removedNodeContextEnglish\"]),\n",
        "    }\n",
        "    return data\n",
        "\n",
        "def create_random_data(form_gen, form_components, field_components, num_examples=3000):\n",
        "    start_time = time.time()\n",
        "    DATA = []\n",
        "    for i in range(num_examples):\n",
        "        generation_result = formlang_lib.generateRandomFormWithModification(form_gen)\n",
        "        prompt_data = create_prompt_data(generation_result, form_components, field_components)\n",
        "        DATA.append(prompt_data)\n",
        "    # Generate the ast of each example in one batch\n",
        "    ast_time = time.time()\n",
        "    for example in DATA:\n",
        "        resp = get_ast(example[\"originalFormCode\"], True)\n",
        "        errors = resp.get('errors', [])\n",
        "        if len(errors) > 0:\n",
        "            print(f\"Error parsing generated code\", errors)\n",
        "            raise RuntimeError(\"Error parsing generated code\")\n",
        "        example[\"originalFormAst\"] = resp[\"ast\"]\n",
        "    end_time = time.time()\n",
        "    print(f\"Generation took {end_time - start_time} seconds. Total Ast generation time {end_time - ast_time} seconds\")\n",
        "    return pd.DataFrame(DATA)"
      ]
    },
    {
      "cell_type": "code",
      "execution_count": null,
      "id": "d2155ee7-8286-4e5a-8881-b72b7bb51197",
      "metadata": {
        "colab": {
          "base_uri": "https://localhost:8080/",
          "height": 224
        },
        "id": "d2155ee7-8286-4e5a-8881-b72b7bb51197",
        "outputId": "979c7be1-caf9-4bca-a6c2-7edf3fd55573"
      },
      "outputs": [
        {
          "name": "stdout",
          "output_type": "stream",
          "text": [
            "Generation took 48.5854971408844 seconds. Total Ast generation time 47.7074978351593 seconds\n"
          ]
        },
        {
          "data": {
            "application/vnd.google.colaboratory.intrinsic+json": {
              "summary": "{\n  \"name\": \"examples\",\n  \"rows\": 3000,\n  \"fields\": [\n    {\n      \"column\": \"originalFormCode\",\n      \"properties\": {\n        \"dtype\": \"string\",\n        \"num_unique_values\": 3000,\n        \"samples\": [\n          \"\\n  component userDetailsContainer {}\\n  component formContainer {}\\n  component someOtherContainer {}\\n  component OtherContainer2 {}\\n\\n\\n  component myTextBox {\\n    props {\\n      textColor\\n      textSize\\n      textWeight\\n      borderColor\\n    }\\n  }\\n  component myCheckbox {\\n    props {\\n      size\\n    }\\n  }\\n  component otherTextBox {}\\n  component counter {\\n    props {\\n      style\\n    }\\n  }\\n\\nform Ew {\\n\\tcomp userDetailsContainer \\n\\t\\n\\tfield O_ {\\n\\t\\tstate string[]\\n\\t\\tcomp counter \\n\\t\\t\\n\\t}\\n\\tfield k_ {\\n\\t\\tcomp otherTextBox \\n\\t\\t\\n\\t}\\n\\tfield Kw {\\n\\t\\tcomp myTextBox \\n\\t\\t\\n\\t}\\n\\tfield Yww {\\n\\t\\tstate string default \\\"'Cesar Kihn'\\\" as expression\\n\\t\\tcomp counter style=\\\"#493826\\\"\\n\\t\\t\\n\\t}\\n}\\n\",\n          \"\\n  component userDetailsContainer {}\\n  component formContainer {}\\n  component someOtherContainer {}\\n  component OtherContainer2 {}\\n\\n\\n  component myTextBox {\\n    props {\\n      textColor\\n      textSize\\n      textWeight\\n      borderColor\\n    }\\n  }\\n  component myCheckbox {\\n    props {\\n      size\\n    }\\n  }\\n  component otherTextBox {}\\n  component counter {\\n    props {\\n      style\\n    }\\n  }\\n\\nform bww {\\n\\tcomp userDetailsContainer \\n\\t\\n\\tform P__ww {\\n\\t\\tcomp formContainer \\n\\t\\t\\n\\t\\tfield Bw_ww__ww {\\n\\t\\t\\tstate boolean default \\\"false\\\" as expression\\n\\t\\t\\tcomp myCheckbox size=\\\"'hello'.replace('l', 'L')\\\" as expression\\n\\t\\t\\t\\n\\t\\t}\\n\\t\\tform d {\\n\\t\\t\\tcomp OtherContainer2 \\n\\t\\t\\t\\n\\t\\t\\tfield sw {\\n\\t\\t\\t\\tstate boolean default \\\"true\\\" as expression\\n\\t\\t\\t\\tcomp otherTextBox \\n\\t\\t\\t\\t\\n\\t\\t\\t}\\n\\t\\t\\tfield Sw {\\n\\t\\t\\t\\tcomp myCheckbox size=\\\"'Hello'.toLowerCase()\\\" as expression\\n\\t\\t\\t\\t\\n\\t\\t\\t}\\n\\t\\t}\\n\\n\\t\\tfield hw {\\n\\t\\t\\tcomp myCheckbox size=\\\"#53736e\\\"\\n\\t\\t\\t\\n\\t\\t}\\n\\t\\tfield c {\\n\\t\\t\\tstate boolean default \\\"false\\\" as expression\\n\\t\\t\\tcomp myCheckbox size=\\\"#281537\\\"\\n\\t\\t\\t\\n\\t\\t}\\n\\t\\tfield a_ {\\n\\t\\t\\tstate string default \\\"Pauline Ortiz\\\"\\n\\t\\t\\tcomp myCheckbox \\n\\t\\t\\t\\n\\t\\t}\\n\\t\\tfield Iw_ {\\n\\t\\t\\tstate string\\n\\t\\t\\tcomp myCheckbox \\n\\t\\t\\t\\n\\t\\t}\\n\\t}\\n\\n\\tfield i_ {\\n\\t\\tstate string\\n\\t\\tcomp otherTextBox \\n\\t\\t\\n\\t}\\n}\\n\",\n          \"\\n  component userDetailsContainer {}\\n  component formContainer {}\\n  component someOtherContainer {}\\n  component OtherContainer2 {}\\n\\n\\n  component myTextBox {\\n    props {\\n      textColor\\n      textSize\\n      textWeight\\n      borderColor\\n    }\\n  }\\n  component myCheckbox {\\n    props {\\n      size\\n    }\\n  }\\n  component otherTextBox {}\\n  component counter {\\n    props {\\n      style\\n    }\\n  }\\n\\nform f {\\n\\tcomp userDetailsContainer \\n\\t\\n\\tfield o {\\n\\t\\tstate string default \\\"Jodi O'Kon\\\"\\n\\t\\tcomp myCheckbox \\n\\t\\t\\n\\t}\\n\\tfield Dw {\\n\\t\\tcomp otherTextBox \\n\\t\\t\\n\\t}\\n}\\n\"\n        ],\n        \"semantic_type\": \"\",\n        \"description\": \"\"\n      }\n    },\n    {\n      \"column\": \"modifiedFormCode\",\n      \"properties\": {\n        \"dtype\": \"string\",\n        \"num_unique_values\": 2928,\n        \"samples\": [\n          \"\\n  component userDetailsContainer {}\\n  component formContainer {}\\n  component someOtherContainer {}\\n  component OtherContainer2 {}\\n\\n\\n  component myTextBox {\\n    props {\\n      textColor\\n      textSize\\n      textWeight\\n      borderColor\\n    }\\n  }\\n  component myCheckbox {\\n    props {\\n      size\\n    }\\n  }\\n  component otherTextBox {}\\n  component counter {\\n    props {\\n      style\\n    }\\n  }\\n\\nform m {\\n\\tcomp OtherContainer2 \\n\\t\\n\\tfield k {\\n\\t\\tstate number[]\\n\\t\\tcomp myCheckbox size=\\\"2 ** 4\\\" as expression\\n\\t\\t\\n\\t}\\n}\\n\",\n          \"\\n  component userDetailsContainer {}\\n  component formContainer {}\\n  component someOtherContainer {}\\n  component OtherContainer2 {}\\n\\n\\n  component myTextBox {\\n    props {\\n      textColor\\n      textSize\\n      textWeight\\n      borderColor\\n    }\\n  }\\n  component myCheckbox {\\n    props {\\n      size\\n    }\\n  }\\n  component otherTextBox {}\\n  component counter {\\n    props {\\n      style\\n    }\\n  }\\n\\nform Uw {\\n\\tcomp formContainer \\n\\t\\n\\tform Pww_w_www {\\n\\t\\tcomp userDetailsContainer \\n\\t\\t\\n\\t\\tfield xw {\\n\\t\\t\\tstate number[] default \\\"[]\\\" as expression\\n\\t\\t\\tcomp myCheckbox \\n\\t\\t\\t\\n\\t\\t}\\n\\t}\\n\\n\\tfield jw {\\n\\t\\tcomp myTextBox textWeight=\\\"[1, 2, 3].splice(1, 1)\\\" as expression textSize=\\\"10 < 20 ? 'yes' : 'no'\\\" as expression\\n\\t\\t\\n\\t}\\n\\tfield Rww_w__ww_w_w___w__w____ {\\n\\t\\tcomp myCheckbox size=\\\"#5e3c15\\\"\\n\\t\\t\\n\\t}\\n\\tfield Tww {\\n\\t\\tstate string\\n\\t\\tcomp otherTextBox \\n\\t\\t\\n\\t}\\n\\tform x_ {\\n\\t\\tcomp OtherContainer2 \\n\\t\\t\\n\\t\\tfield N {\\n\\t\\t\\tcomp myCheckbox size=\\\"#585a41\\\"\\n\\t\\t\\t\\n\\t\\t}\\n\\t\\tfield S {\\n\\t\\t\\tstate number\\n\\t\\t\\tcomp counter \\n\\t\\t\\t\\n\\t\\t}\\n\\t}\\n\\n\\tform rw {\\n\\t\\tcomp OtherContainer2 \\n\\t\\t\\n\\t\\tfield E_w_ww_w_www_ww_ {\\n\\t\\t\\tcomp otherTextBox \\n\\t\\t\\t\\n\\t\\t}\\n\\t}\\n\\n}\\n\",\n          \"\\n  component userDetailsContainer {}\\n  component formContainer {}\\n  component someOtherContainer {}\\n  component OtherContainer2 {}\\n\\n\\n  component myTextBox {\\n    props {\\n      textColor\\n      textSize\\n      textWeight\\n      borderColor\\n    }\\n  }\\n  component myCheckbox {\\n    props {\\n      size\\n    }\\n  }\\n  component otherTextBox {}\\n  component counter {\\n    props {\\n      style\\n    }\\n  }\\n\\nform y {\\n\\tcomp userDetailsContainer \\n\\t\\n\\tform x {\\n\\t\\tcomp OtherContainer2 \\n\\t\\t\\n\\t\\tfield Oww {\\n\\t\\t\\tstate number\\n\\t\\t\\tcomp myCheckbox \\n\\t\\t\\t\\n\\t\\t}\\n\\t\\tfield W_ {\\n\\t\\t\\tstate boolean[] default \\\"[true]\\\" as expression\\n\\t\\t\\tcomp myTextBox borderColor=\\\"1 + 2 * 3\\\" as expression\\n\\t\\t\\t\\n\\t\\t}\\n\\t\\tfield jww_ww {\\n\\t\\t\\tstate string[] default \\\"[\\\\\\\"Nathan Wiegand\\\\\\\",\\\\\\\"Eva Rice\\\\\\\",\\\\\\\"George Gottlieb\\\\\\\"]\\\" as expression\\n\\t\\t\\tcomp counter style=\\\"#6f215d\\\"\\n\\t\\t\\t\\n\\t\\t}\\n\\t\\tfield Sw_wwwwwwwwww {\\n\\t\\t\\tcomp myTextBox borderColor=\\\"#4a7939\\\" textWeight=\\\"#751b20\\\"\\n\\t\\t\\t\\n\\t\\t}\\n\\t}\\n\\n\\tfield G {\\n\\t\\tstate string\\n\\t\\tcomp otherTextBox \\n\\t\\t\\n\\t}\\n\\tfield S_ {\\n\\t\\tstate number\\n\\t\\tcomp otherTextBox \\n\\t\\t\\n\\t}\\n\\tfield h {\\n\\t\\tstate number\\n\\t\\tcomp counter \\n\\t\\t\\n\\t}\\n\\tform J {\\n\\t\\tcomp userDetailsContainer \\n\\t\\t\\n\\n\\t}\\n\\n\\tfield p {\\n\\t\\tcomp myCheckbox size=\\\"#116217\\\"\\n\\t\\t\\n\\t}\\n}\\n\"\n        ],\n        \"semantic_type\": \"\",\n        \"description\": \"\"\n      }\n    },\n    {\n      \"column\": \"removedNodeEnglish\",\n      \"properties\": {\n        \"dtype\": \"string\",\n        \"num_unique_values\": 2925,\n        \"samples\": [\n          \"\\t\\ta field whose id is 'g' with state of type: 'number', and is using the component 'otherTextBox'.\\n\\t\\t\",\n          \"\\ta form whose id is 'u' using the component 'formContainer',with no children.\\n\\t\",\n          \"\\t\\ta field whose id is 'L_w' with state of type: 'number' and its default value is: 0.6831019370482362 (and is passed as an expression), and is using the component 'otherTextBox'.\\n\\t\\t\"\n        ],\n        \"semantic_type\": \"\",\n        \"description\": \"\"\n      }\n    },\n    {\n      \"column\": \"removedNodeContextEnglish\",\n      \"properties\": {\n        \"dtype\": \"string\",\n        \"num_unique_values\": 2729,\n        \"samples\": [\n          \"* is a child of the form whose id is 'dw_'.\\n* is located after the field whose id is 'O'\",\n          \"* is a child of the form whose id is 'ww'.\\n* is located before the field whose id is 'gw'\",\n          \"* is a child of the form whose id is 'E'.\\n* is located between the field whose id is 'Mww' and the field whose id is 'Y_w'\"\n        ],\n        \"semantic_type\": \"\",\n        \"description\": \"\"\n      }\n    },\n    {\n      \"column\": \"originalFormAst\",\n      \"properties\": {\n        \"dtype\": \"string\",\n        \"num_unique_values\": 3000,\n        \"samples\": [\n          \"{\\\"$type\\\":\\\"Form\\\",\\\"name\\\":\\\"Ew\\\",\\\"component\\\":{\\\"$type\\\":\\\"FieldComponentDef\\\",\\\"componentId\\\":{\\\"$ref\\\":\\\"#/components@0\\\"},\\\"componentPropsKeys\\\":[],\\\"componentPropsValues\\\":[]},\\\"children\\\":[{\\\"$type\\\":\\\"Field\\\",\\\"name\\\":\\\"O_\\\",\\\"state\\\":{\\\"$type\\\":\\\"FieldStateDef\\\",\\\"isArray\\\":true,\\\"type\\\":\\\"string\\\"},\\\"component\\\":{\\\"$type\\\":\\\"FieldComponentDef\\\",\\\"componentId\\\":{\\\"$ref\\\":\\\"#/components@7\\\"},\\\"componentPropsKeys\\\":[],\\\"componentPropsValues\\\":[]}},{\\\"$type\\\":\\\"Field\\\",\\\"name\\\":\\\"k_\\\",\\\"component\\\":{\\\"$type\\\":\\\"FieldComponentDef\\\",\\\"componentId\\\":{\\\"$ref\\\":\\\"#/components@6\\\"},\\\"componentPropsKeys\\\":[],\\\"componentPropsValues\\\":[]}},{\\\"$type\\\":\\\"Field\\\",\\\"name\\\":\\\"Kw\\\",\\\"component\\\":{\\\"$type\\\":\\\"FieldComponentDef\\\",\\\"componentId\\\":{\\\"$ref\\\":\\\"#/components@4\\\"},\\\"componentPropsKeys\\\":[],\\\"componentPropsValues\\\":[]}},{\\\"$type\\\":\\\"Field\\\",\\\"name\\\":\\\"Yww\\\",\\\"state\\\":{\\\"$type\\\":\\\"FieldStateDef\\\",\\\"type\\\":\\\"string\\\",\\\"defaultValue\\\":{\\\"$type\\\":\\\"ValueExpression\\\",\\\"value\\\":\\\"'Cesar Kihn'\\\",\\\"isExpression\\\":true},\\\"isArray\\\":false},\\\"component\\\":{\\\"$type\\\":\\\"FieldComponentDef\\\",\\\"componentId\\\":{\\\"$ref\\\":\\\"#/components@7\\\"},\\\"componentPropsKeys\\\":[{\\\"$type\\\":\\\"ComponentPropKey\\\",\\\"key\\\":\\\"style\\\"}],\\\"componentPropsValues\\\":[{\\\"$type\\\":\\\"ValueExpression\\\",\\\"value\\\":\\\"#493826\\\",\\\"isExpression\\\":false}]}}]}\",\n          \"{\\\"$type\\\":\\\"Form\\\",\\\"name\\\":\\\"bww\\\",\\\"component\\\":{\\\"$type\\\":\\\"FieldComponentDef\\\",\\\"componentId\\\":{\\\"$ref\\\":\\\"#/components@0\\\"},\\\"componentPropsKeys\\\":[],\\\"componentPropsValues\\\":[]},\\\"children\\\":[{\\\"$type\\\":\\\"Form\\\",\\\"name\\\":\\\"P__ww\\\",\\\"component\\\":{\\\"$type\\\":\\\"FieldComponentDef\\\",\\\"componentId\\\":{\\\"$ref\\\":\\\"#/components@1\\\"},\\\"componentPropsKeys\\\":[],\\\"componentPropsValues\\\":[]},\\\"children\\\":[{\\\"$type\\\":\\\"Field\\\",\\\"name\\\":\\\"Bw_ww__ww\\\",\\\"state\\\":{\\\"$type\\\":\\\"FieldStateDef\\\",\\\"type\\\":\\\"boolean\\\",\\\"defaultValue\\\":{\\\"$type\\\":\\\"ValueExpression\\\",\\\"value\\\":\\\"false\\\",\\\"isExpression\\\":true},\\\"isArray\\\":false},\\\"component\\\":{\\\"$type\\\":\\\"FieldComponentDef\\\",\\\"componentId\\\":{\\\"$ref\\\":\\\"#/components@5\\\"},\\\"componentPropsKeys\\\":[{\\\"$type\\\":\\\"ComponentPropKey\\\",\\\"key\\\":\\\"size\\\"}],\\\"componentPropsValues\\\":[{\\\"$type\\\":\\\"ValueExpression\\\",\\\"value\\\":\\\"'hello'.replace('l', 'L')\\\",\\\"isExpression\\\":true}]}},{\\\"$type\\\":\\\"Form\\\",\\\"name\\\":\\\"d\\\",\\\"component\\\":{\\\"$type\\\":\\\"FieldComponentDef\\\",\\\"componentId\\\":{\\\"$ref\\\":\\\"#/components@3\\\"},\\\"componentPropsKeys\\\":[],\\\"componentPropsValues\\\":[]},\\\"children\\\":[{\\\"$type\\\":\\\"Field\\\",\\\"name\\\":\\\"sw\\\",\\\"state\\\":{\\\"$type\\\":\\\"FieldStateDef\\\",\\\"type\\\":\\\"boolean\\\",\\\"defaultValue\\\":{\\\"$type\\\":\\\"ValueExpression\\\",\\\"value\\\":\\\"true\\\",\\\"isExpression\\\":true},\\\"isArray\\\":false},\\\"component\\\":{\\\"$type\\\":\\\"FieldComponentDef\\\",\\\"componentId\\\":{\\\"$ref\\\":\\\"#/components@6\\\"},\\\"componentPropsKeys\\\":[],\\\"componentPropsValues\\\":[]}},{\\\"$type\\\":\\\"Field\\\",\\\"name\\\":\\\"Sw\\\",\\\"component\\\":{\\\"$type\\\":\\\"FieldComponentDef\\\",\\\"componentId\\\":{\\\"$ref\\\":\\\"#/components@5\\\"},\\\"componentPropsKeys\\\":[{\\\"$type\\\":\\\"ComponentPropKey\\\",\\\"key\\\":\\\"size\\\"}],\\\"componentPropsValues\\\":[{\\\"$type\\\":\\\"ValueExpression\\\",\\\"value\\\":\\\"'Hello'.toLowerCase()\\\",\\\"isExpression\\\":true}]}}]},{\\\"$type\\\":\\\"Field\\\",\\\"name\\\":\\\"hw\\\",\\\"component\\\":{\\\"$type\\\":\\\"FieldComponentDef\\\",\\\"componentId\\\":{\\\"$ref\\\":\\\"#/components@5\\\"},\\\"componentPropsKeys\\\":[{\\\"$type\\\":\\\"ComponentPropKey\\\",\\\"key\\\":\\\"size\\\"}],\\\"componentPropsValues\\\":[{\\\"$type\\\":\\\"ValueExpression\\\",\\\"value\\\":\\\"#53736e\\\",\\\"isExpression\\\":false}]}},{\\\"$type\\\":\\\"Field\\\",\\\"name\\\":\\\"c\\\",\\\"state\\\":{\\\"$type\\\":\\\"FieldStateDef\\\",\\\"type\\\":\\\"boolean\\\",\\\"defaultValue\\\":{\\\"$type\\\":\\\"ValueExpression\\\",\\\"value\\\":\\\"false\\\",\\\"isExpression\\\":true},\\\"isArray\\\":false},\\\"component\\\":{\\\"$type\\\":\\\"FieldComponentDef\\\",\\\"componentId\\\":{\\\"$ref\\\":\\\"#/components@5\\\"},\\\"componentPropsKeys\\\":[{\\\"$type\\\":\\\"ComponentPropKey\\\",\\\"key\\\":\\\"size\\\"}],\\\"componentPropsValues\\\":[{\\\"$type\\\":\\\"ValueExpression\\\",\\\"value\\\":\\\"#281537\\\",\\\"isExpression\\\":false}]}},{\\\"$type\\\":\\\"Field\\\",\\\"name\\\":\\\"a_\\\",\\\"state\\\":{\\\"$type\\\":\\\"FieldStateDef\\\",\\\"type\\\":\\\"string\\\",\\\"defaultValue\\\":{\\\"$type\\\":\\\"ValueExpression\\\",\\\"value\\\":\\\"Pauline Ortiz\\\",\\\"isExpression\\\":false},\\\"isArray\\\":false},\\\"component\\\":{\\\"$type\\\":\\\"FieldComponentDef\\\",\\\"componentId\\\":{\\\"$ref\\\":\\\"#/components@5\\\"},\\\"componentPropsKeys\\\":[],\\\"componentPropsValues\\\":[]}},{\\\"$type\\\":\\\"Field\\\",\\\"name\\\":\\\"Iw_\\\",\\\"state\\\":{\\\"$type\\\":\\\"FieldStateDef\\\",\\\"type\\\":\\\"string\\\",\\\"isArray\\\":false},\\\"component\\\":{\\\"$type\\\":\\\"FieldComponentDef\\\",\\\"componentId\\\":{\\\"$ref\\\":\\\"#/components@5\\\"},\\\"componentPropsKeys\\\":[],\\\"componentPropsValues\\\":[]}}]},{\\\"$type\\\":\\\"Field\\\",\\\"name\\\":\\\"i_\\\",\\\"state\\\":{\\\"$type\\\":\\\"FieldStateDef\\\",\\\"type\\\":\\\"string\\\",\\\"isArray\\\":false},\\\"component\\\":{\\\"$type\\\":\\\"FieldComponentDef\\\",\\\"componentId\\\":{\\\"$ref\\\":\\\"#/components@6\\\"},\\\"componentPropsKeys\\\":[],\\\"componentPropsValues\\\":[]}}]}\",\n          \"{\\\"$type\\\":\\\"Form\\\",\\\"name\\\":\\\"f\\\",\\\"component\\\":{\\\"$type\\\":\\\"FieldComponentDef\\\",\\\"componentId\\\":{\\\"$ref\\\":\\\"#/components@0\\\"},\\\"componentPropsKeys\\\":[],\\\"componentPropsValues\\\":[]},\\\"children\\\":[{\\\"$type\\\":\\\"Field\\\",\\\"name\\\":\\\"o\\\",\\\"state\\\":{\\\"$type\\\":\\\"FieldStateDef\\\",\\\"type\\\":\\\"string\\\",\\\"defaultValue\\\":{\\\"$type\\\":\\\"ValueExpression\\\",\\\"value\\\":\\\"Jodi O'Kon\\\",\\\"isExpression\\\":false},\\\"isArray\\\":false},\\\"component\\\":{\\\"$type\\\":\\\"FieldComponentDef\\\",\\\"componentId\\\":{\\\"$ref\\\":\\\"#/components@5\\\"},\\\"componentPropsKeys\\\":[],\\\"componentPropsValues\\\":[]}},{\\\"$type\\\":\\\"Field\\\",\\\"name\\\":\\\"Dw\\\",\\\"component\\\":{\\\"$type\\\":\\\"FieldComponentDef\\\",\\\"componentId\\\":{\\\"$ref\\\":\\\"#/components@6\\\"},\\\"componentPropsKeys\\\":[],\\\"componentPropsValues\\\":[]}}]}\"\n        ],\n        \"semantic_type\": \"\",\n        \"description\": \"\"\n      }\n    }\n  ]\n}",
              "type": "dataframe",
              "variable_name": "examples"
            },
            "text/html": [
              "\n",
              "  <div id=\"df-7b9ad215-8fba-412c-b1e0-6cc937b4b5aa\" class=\"colab-df-container\">\n",
              "    <div>\n",
              "<style scoped>\n",
              "    .dataframe tbody tr th:only-of-type {\n",
              "        vertical-align: middle;\n",
              "    }\n",
              "\n",
              "    .dataframe tbody tr th {\n",
              "        vertical-align: top;\n",
              "    }\n",
              "\n",
              "    .dataframe thead th {\n",
              "        text-align: right;\n",
              "    }\n",
              "</style>\n",
              "<table border=\"1\" class=\"dataframe\">\n",
              "  <thead>\n",
              "    <tr style=\"text-align: right;\">\n",
              "      <th></th>\n",
              "      <th>originalFormCode</th>\n",
              "      <th>modifiedFormCode</th>\n",
              "      <th>removedNodeEnglish</th>\n",
              "      <th>removedNodeContextEnglish</th>\n",
              "      <th>originalFormAst</th>\n",
              "    </tr>\n",
              "  </thead>\n",
              "  <tbody>\n",
              "    <tr>\n",
              "      <th>0</th>\n",
              "      <td>\\n  component userDetailsContainer {}\\n  compo...</td>\n",
              "      <td>\\n  component userDetailsContainer {}\\n  compo...</td>\n",
              "      <td>\\ta field whose id is 'Z_' with state of type:...</td>\n",
              "      <td>* is a child of the form whose id is 'Bw'.\\n* ...</td>\n",
              "      <td>{\"$type\":\"Form\",\"name\":\"Bw\",\"component\":{\"$typ...</td>\n",
              "    </tr>\n",
              "    <tr>\n",
              "      <th>1</th>\n",
              "      <td>\\n  component userDetailsContainer {}\\n  compo...</td>\n",
              "      <td>\\n  component userDetailsContainer {}\\n  compo...</td>\n",
              "      <td>\\ta field whose id is 'p_' with state of type:...</td>\n",
              "      <td>* is a child of the form whose id is 'Cw'.\\n* ...</td>\n",
              "      <td>{\"$type\":\"Form\",\"name\":\"Cw\",\"component\":{\"$typ...</td>\n",
              "    </tr>\n",
              "    <tr>\n",
              "      <th>2</th>\n",
              "      <td>\\n  component userDetailsContainer {}\\n  compo...</td>\n",
              "      <td>\\n  component userDetailsContainer {}\\n  compo...</td>\n",
              "      <td>\\ta field whose id is 'F' using the component ...</td>\n",
              "      <td>* is a child of the form whose id is 'Vw'.\\n* ...</td>\n",
              "      <td>{\"$type\":\"Form\",\"name\":\"Vw\",\"component\":{\"$typ...</td>\n",
              "    </tr>\n",
              "    <tr>\n",
              "      <th>3</th>\n",
              "      <td>\\n  component userDetailsContainer {}\\n  compo...</td>\n",
              "      <td>\\n  component userDetailsContainer {}\\n  compo...</td>\n",
              "      <td>\\t\\ta field whose id is 'Pww_ww___w' using the...</td>\n",
              "      <td>* is a child of the form whose id is 'd'.\\n* i...</td>\n",
              "      <td>{\"$type\":\"Form\",\"name\":\"Lw\",\"component\":{\"$typ...</td>\n",
              "    </tr>\n",
              "    <tr>\n",
              "      <th>4</th>\n",
              "      <td>\\n  component userDetailsContainer {}\\n  compo...</td>\n",
              "      <td>\\n  component userDetailsContainer {}\\n  compo...</td>\n",
              "      <td>\\ta field whose id is 'nw' with state of type:...</td>\n",
              "      <td>* is a child of the form whose id is 'a_'.\\n* ...</td>\n",
              "      <td>{\"$type\":\"Form\",\"name\":\"a_\",\"component\":{\"$typ...</td>\n",
              "    </tr>\n",
              "  </tbody>\n",
              "</table>\n",
              "</div>\n",
              "    <div class=\"colab-df-buttons\">\n",
              "\n",
              "  <div class=\"colab-df-container\">\n",
              "    <button class=\"colab-df-convert\" onclick=\"convertToInteractive('df-7b9ad215-8fba-412c-b1e0-6cc937b4b5aa')\"\n",
              "            title=\"Convert this dataframe to an interactive table.\"\n",
              "            style=\"display:none;\">\n",
              "\n",
              "  <svg xmlns=\"http://www.w3.org/2000/svg\" height=\"24px\" viewBox=\"0 -960 960 960\">\n",
              "    <path d=\"M120-120v-720h720v720H120Zm60-500h600v-160H180v160Zm220 220h160v-160H400v160Zm0 220h160v-160H400v160ZM180-400h160v-160H180v160Zm440 0h160v-160H620v160ZM180-180h160v-160H180v160Zm440 0h160v-160H620v160Z\"/>\n",
              "  </svg>\n",
              "    </button>\n",
              "\n",
              "  <style>\n",
              "    .colab-df-container {\n",
              "      display:flex;\n",
              "      gap: 12px;\n",
              "    }\n",
              "\n",
              "    .colab-df-convert {\n",
              "      background-color: #E8F0FE;\n",
              "      border: none;\n",
              "      border-radius: 50%;\n",
              "      cursor: pointer;\n",
              "      display: none;\n",
              "      fill: #1967D2;\n",
              "      height: 32px;\n",
              "      padding: 0 0 0 0;\n",
              "      width: 32px;\n",
              "    }\n",
              "\n",
              "    .colab-df-convert:hover {\n",
              "      background-color: #E2EBFA;\n",
              "      box-shadow: 0px 1px 2px rgba(60, 64, 67, 0.3), 0px 1px 3px 1px rgba(60, 64, 67, 0.15);\n",
              "      fill: #174EA6;\n",
              "    }\n",
              "\n",
              "    .colab-df-buttons div {\n",
              "      margin-bottom: 4px;\n",
              "    }\n",
              "\n",
              "    [theme=dark] .colab-df-convert {\n",
              "      background-color: #3B4455;\n",
              "      fill: #D2E3FC;\n",
              "    }\n",
              "\n",
              "    [theme=dark] .colab-df-convert:hover {\n",
              "      background-color: #434B5C;\n",
              "      box-shadow: 0px 1px 3px 1px rgba(0, 0, 0, 0.15);\n",
              "      filter: drop-shadow(0px 1px 2px rgba(0, 0, 0, 0.3));\n",
              "      fill: #FFFFFF;\n",
              "    }\n",
              "  </style>\n",
              "\n",
              "    <script>\n",
              "      const buttonEl =\n",
              "        document.querySelector('#df-7b9ad215-8fba-412c-b1e0-6cc937b4b5aa button.colab-df-convert');\n",
              "      buttonEl.style.display =\n",
              "        google.colab.kernel.accessAllowed ? 'block' : 'none';\n",
              "\n",
              "      async function convertToInteractive(key) {\n",
              "        const element = document.querySelector('#df-7b9ad215-8fba-412c-b1e0-6cc937b4b5aa');\n",
              "        const dataTable =\n",
              "          await google.colab.kernel.invokeFunction('convertToInteractive',\n",
              "                                                    [key], {});\n",
              "        if (!dataTable) return;\n",
              "\n",
              "        const docLinkHtml = 'Like what you see? Visit the ' +\n",
              "          '<a target=\"_blank\" href=https://colab.research.google.com/notebooks/data_table.ipynb>data table notebook</a>'\n",
              "          + ' to learn more about interactive tables.';\n",
              "        element.innerHTML = '';\n",
              "        dataTable['output_type'] = 'display_data';\n",
              "        await google.colab.output.renderOutput(dataTable, element);\n",
              "        const docLink = document.createElement('div');\n",
              "        docLink.innerHTML = docLinkHtml;\n",
              "        element.appendChild(docLink);\n",
              "      }\n",
              "    </script>\n",
              "  </div>\n",
              "\n",
              "\n",
              "<div id=\"df-e1974187-994c-4ba0-8cbe-f3cafd0ff845\">\n",
              "  <button class=\"colab-df-quickchart\" onclick=\"quickchart('df-e1974187-994c-4ba0-8cbe-f3cafd0ff845')\"\n",
              "            title=\"Suggest charts\"\n",
              "            style=\"display:none;\">\n",
              "\n",
              "<svg xmlns=\"http://www.w3.org/2000/svg\" height=\"24px\"viewBox=\"0 0 24 24\"\n",
              "     width=\"24px\">\n",
              "    <g>\n",
              "        <path d=\"M19 3H5c-1.1 0-2 .9-2 2v14c0 1.1.9 2 2 2h14c1.1 0 2-.9 2-2V5c0-1.1-.9-2-2-2zM9 17H7v-7h2v7zm4 0h-2V7h2v10zm4 0h-2v-4h2v4z\"/>\n",
              "    </g>\n",
              "</svg>\n",
              "  </button>\n",
              "\n",
              "<style>\n",
              "  .colab-df-quickchart {\n",
              "      --bg-color: #E8F0FE;\n",
              "      --fill-color: #1967D2;\n",
              "      --hover-bg-color: #E2EBFA;\n",
              "      --hover-fill-color: #174EA6;\n",
              "      --disabled-fill-color: #AAA;\n",
              "      --disabled-bg-color: #DDD;\n",
              "  }\n",
              "\n",
              "  [theme=dark] .colab-df-quickchart {\n",
              "      --bg-color: #3B4455;\n",
              "      --fill-color: #D2E3FC;\n",
              "      --hover-bg-color: #434B5C;\n",
              "      --hover-fill-color: #FFFFFF;\n",
              "      --disabled-bg-color: #3B4455;\n",
              "      --disabled-fill-color: #666;\n",
              "  }\n",
              "\n",
              "  .colab-df-quickchart {\n",
              "    background-color: var(--bg-color);\n",
              "    border: none;\n",
              "    border-radius: 50%;\n",
              "    cursor: pointer;\n",
              "    display: none;\n",
              "    fill: var(--fill-color);\n",
              "    height: 32px;\n",
              "    padding: 0;\n",
              "    width: 32px;\n",
              "  }\n",
              "\n",
              "  .colab-df-quickchart:hover {\n",
              "    background-color: var(--hover-bg-color);\n",
              "    box-shadow: 0 1px 2px rgba(60, 64, 67, 0.3), 0 1px 3px 1px rgba(60, 64, 67, 0.15);\n",
              "    fill: var(--button-hover-fill-color);\n",
              "  }\n",
              "\n",
              "  .colab-df-quickchart-complete:disabled,\n",
              "  .colab-df-quickchart-complete:disabled:hover {\n",
              "    background-color: var(--disabled-bg-color);\n",
              "    fill: var(--disabled-fill-color);\n",
              "    box-shadow: none;\n",
              "  }\n",
              "\n",
              "  .colab-df-spinner {\n",
              "    border: 2px solid var(--fill-color);\n",
              "    border-color: transparent;\n",
              "    border-bottom-color: var(--fill-color);\n",
              "    animation:\n",
              "      spin 1s steps(1) infinite;\n",
              "  }\n",
              "\n",
              "  @keyframes spin {\n",
              "    0% {\n",
              "      border-color: transparent;\n",
              "      border-bottom-color: var(--fill-color);\n",
              "      border-left-color: var(--fill-color);\n",
              "    }\n",
              "    20% {\n",
              "      border-color: transparent;\n",
              "      border-left-color: var(--fill-color);\n",
              "      border-top-color: var(--fill-color);\n",
              "    }\n",
              "    30% {\n",
              "      border-color: transparent;\n",
              "      border-left-color: var(--fill-color);\n",
              "      border-top-color: var(--fill-color);\n",
              "      border-right-color: var(--fill-color);\n",
              "    }\n",
              "    40% {\n",
              "      border-color: transparent;\n",
              "      border-right-color: var(--fill-color);\n",
              "      border-top-color: var(--fill-color);\n",
              "    }\n",
              "    60% {\n",
              "      border-color: transparent;\n",
              "      border-right-color: var(--fill-color);\n",
              "    }\n",
              "    80% {\n",
              "      border-color: transparent;\n",
              "      border-right-color: var(--fill-color);\n",
              "      border-bottom-color: var(--fill-color);\n",
              "    }\n",
              "    90% {\n",
              "      border-color: transparent;\n",
              "      border-bottom-color: var(--fill-color);\n",
              "    }\n",
              "  }\n",
              "</style>\n",
              "\n",
              "  <script>\n",
              "    async function quickchart(key) {\n",
              "      const quickchartButtonEl =\n",
              "        document.querySelector('#' + key + ' button');\n",
              "      quickchartButtonEl.disabled = true;  // To prevent multiple clicks.\n",
              "      quickchartButtonEl.classList.add('colab-df-spinner');\n",
              "      try {\n",
              "        const charts = await google.colab.kernel.invokeFunction(\n",
              "            'suggestCharts', [key], {});\n",
              "      } catch (error) {\n",
              "        console.error('Error during call to suggestCharts:', error);\n",
              "      }\n",
              "      quickchartButtonEl.classList.remove('colab-df-spinner');\n",
              "      quickchartButtonEl.classList.add('colab-df-quickchart-complete');\n",
              "    }\n",
              "    (() => {\n",
              "      let quickchartButtonEl =\n",
              "        document.querySelector('#df-e1974187-994c-4ba0-8cbe-f3cafd0ff845 button');\n",
              "      quickchartButtonEl.style.display =\n",
              "        google.colab.kernel.accessAllowed ? 'block' : 'none';\n",
              "    })();\n",
              "  </script>\n",
              "</div>\n",
              "\n",
              "    </div>\n",
              "  </div>\n"
            ],
            "text/plain": [
              "                                    originalFormCode  \\\n",
              "0  \\n  component userDetailsContainer {}\\n  compo...   \n",
              "1  \\n  component userDetailsContainer {}\\n  compo...   \n",
              "2  \\n  component userDetailsContainer {}\\n  compo...   \n",
              "3  \\n  component userDetailsContainer {}\\n  compo...   \n",
              "4  \\n  component userDetailsContainer {}\\n  compo...   \n",
              "\n",
              "                                    modifiedFormCode  \\\n",
              "0  \\n  component userDetailsContainer {}\\n  compo...   \n",
              "1  \\n  component userDetailsContainer {}\\n  compo...   \n",
              "2  \\n  component userDetailsContainer {}\\n  compo...   \n",
              "3  \\n  component userDetailsContainer {}\\n  compo...   \n",
              "4  \\n  component userDetailsContainer {}\\n  compo...   \n",
              "\n",
              "                                  removedNodeEnglish  \\\n",
              "0  \\ta field whose id is 'Z_' with state of type:...   \n",
              "1  \\ta field whose id is 'p_' with state of type:...   \n",
              "2  \\ta field whose id is 'F' using the component ...   \n",
              "3  \\t\\ta field whose id is 'Pww_ww___w' using the...   \n",
              "4  \\ta field whose id is 'nw' with state of type:...   \n",
              "\n",
              "                           removedNodeContextEnglish  \\\n",
              "0  * is a child of the form whose id is 'Bw'.\\n* ...   \n",
              "1  * is a child of the form whose id is 'Cw'.\\n* ...   \n",
              "2  * is a child of the form whose id is 'Vw'.\\n* ...   \n",
              "3  * is a child of the form whose id is 'd'.\\n* i...   \n",
              "4  * is a child of the form whose id is 'a_'.\\n* ...   \n",
              "\n",
              "                                     originalFormAst  \n",
              "0  {\"$type\":\"Form\",\"name\":\"Bw\",\"component\":{\"$typ...  \n",
              "1  {\"$type\":\"Form\",\"name\":\"Cw\",\"component\":{\"$typ...  \n",
              "2  {\"$type\":\"Form\",\"name\":\"Vw\",\"component\":{\"$typ...  \n",
              "3  {\"$type\":\"Form\",\"name\":\"Lw\",\"component\":{\"$typ...  \n",
              "4  {\"$type\":\"Form\",\"name\":\"a_\",\"component\":{\"$typ...  "
            ]
          },
          "execution_count": 45,
          "metadata": {},
          "output_type": "execute_result"
        }
      ],
      "source": [
        "examples = create_random_data(form_gen, form_components, field_components, 3000)\n",
        "examples.head()"
      ]
    },
    {
      "cell_type": "markdown",
      "id": "af103185-183e-4d5b-b3d1-68777f4553c9",
      "metadata": {
        "id": "af103185-183e-4d5b-b3d1-68777f4553c9",
        "jp-MarkdownHeadingCollapsed": true
      },
      "source": [
        "#### Example generated FormLang code and its AST"
      ]
    },
    {
      "cell_type": "code",
      "execution_count": null,
      "id": "6e3ef8c5-5492-4c2a-8cb7-f3ebb49156bf",
      "metadata": {
        "colab": {
          "base_uri": "https://localhost:8080/",
          "height": 105
        },
        "id": "6e3ef8c5-5492-4c2a-8cb7-f3ebb49156bf",
        "outputId": "b3ab3f3a-cadc-4873-870b-d788613c0a67"
      },
      "outputs": [
        {
          "data": {
            "application/vnd.google.colaboratory.intrinsic+json": {
              "type": "string"
            },
            "text/plain": [
              "'\\n  component userDetailsContainer {}\\n  component formContainer {}\\n  component someOtherContainer {}\\n  component OtherContainer2 {}\\n\\n\\n  component myTextBox {\\n    props {\\n      textColor\\n      textSize\\n      textWeight\\n      borderColor\\n    }\\n  }\\n  component myCheckbox {\\n    props {\\n      size\\n    }\\n  }\\n  component otherTextBox {}\\n  component counter {\\n    props {\\n      style\\n    }\\n  }\\n\\nform T_ {\\n\\tcomp userDetailsContainer \\n\\t\\n\\tform H {\\n\\t\\tcomp userDetailsContainer \\n\\t\\t\\n\\t\\tfield Ew {\\n\\t\\t\\tcomp otherTextBox \\n\\t\\t\\t\\n\\t\\t}\\n\\t\\tfield Rw_w {\\n\\t\\t\\tcomp otherTextBox \\n\\t\\t\\t\\n\\t\\t}\\n\\t\\tfield F_ {\\n\\t\\t\\tstate number\\n\\t\\t\\tcomp myTextBox borderColor=\"#301410\" textSize=\"(() => 97.65823852274963)()\" as expression\\n\\t\\t\\t\\n\\t\\t}\\n\\t}\\n\\n\\tfield p___ {\\n\\t\\tcomp otherTextBox \\n\\t\\t\\n\\t}\\n\\tfield vw {\\n\\t\\tstate string default \"Frankie Kessler\"\\n\\t\\tcomp counter style=\"#5b426f\"\\n\\t\\t\\n\\t}\\n\\tfield f {\\n\\t\\tcomp counter \\n\\t\\t\\n\\t}\\n\\tfield q {\\n\\t\\tstate boolean\\n\\t\\tcomp counter style=\"#515f42\"\\n\\t\\t\\n\\t}\\n\\tfield Rw {\\n\\t\\tstate string\\n\\t\\tcomp myTextBox \\n\\t\\t\\n\\t}\\n}\\n'"
            ]
          },
          "execution_count": 46,
          "metadata": {},
          "output_type": "execute_result"
        }
      ],
      "source": [
        "examples[\"originalFormCode\"][1132]"
      ]
    },
    {
      "cell_type": "code",
      "execution_count": null,
      "id": "61cdb18b-bdce-4e20-8df0-f08f6304fceb",
      "metadata": {
        "colab": {
          "base_uri": "https://localhost:8080/",
          "height": 105
        },
        "id": "61cdb18b-bdce-4e20-8df0-f08f6304fceb",
        "outputId": "2a1ec13a-dd0a-41ce-9e49-2dec4d2e1918"
      },
      "outputs": [
        {
          "data": {
            "application/vnd.google.colaboratory.intrinsic+json": {
              "type": "string"
            },
            "text/plain": [
              "'{\"$type\":\"Form\",\"name\":\"T_\",\"component\":{\"$type\":\"FieldComponentDef\",\"componentId\":{\"$ref\":\"#/components@0\"},\"componentPropsKeys\":[],\"componentPropsValues\":[]},\"children\":[{\"$type\":\"Form\",\"name\":\"H\",\"component\":{\"$type\":\"FieldComponentDef\",\"componentId\":{\"$ref\":\"#/components@0\"},\"componentPropsKeys\":[],\"componentPropsValues\":[]},\"children\":[{\"$type\":\"Field\",\"name\":\"Ew\",\"component\":{\"$type\":\"FieldComponentDef\",\"componentId\":{\"$ref\":\"#/components@6\"},\"componentPropsKeys\":[],\"componentPropsValues\":[]}},{\"$type\":\"Field\",\"name\":\"Rw_w\",\"component\":{\"$type\":\"FieldComponentDef\",\"componentId\":{\"$ref\":\"#/components@6\"},\"componentPropsKeys\":[],\"componentPropsValues\":[]}},{\"$type\":\"Field\",\"name\":\"F_\",\"state\":{\"$type\":\"FieldStateDef\",\"type\":\"number\",\"isArray\":false},\"component\":{\"$type\":\"FieldComponentDef\",\"componentId\":{\"$ref\":\"#/components@4\"},\"componentPropsKeys\":[{\"$type\":\"ComponentPropKey\",\"key\":\"borderColor\"},{\"$type\":\"ComponentPropKey\",\"key\":\"textSize\"}],\"componentPropsValues\":[{\"$type\":\"ValueExpression\",\"value\":\"#301410\",\"isExpression\":false},{\"$type\":\"ValueExpression\",\"value\":\"(() => 97.65823852274963)()\",\"isExpression\":true}]}}]},{\"$type\":\"Field\",\"name\":\"p___\",\"component\":{\"$type\":\"FieldComponentDef\",\"componentId\":{\"$ref\":\"#/components@6\"},\"componentPropsKeys\":[],\"componentPropsValues\":[]}},{\"$type\":\"Field\",\"name\":\"vw\",\"state\":{\"$type\":\"FieldStateDef\",\"type\":\"string\",\"defaultValue\":{\"$type\":\"ValueExpression\",\"value\":\"Frankie Kessler\",\"isExpression\":false},\"isArray\":false},\"component\":{\"$type\":\"FieldComponentDef\",\"componentId\":{\"$ref\":\"#/components@7\"},\"componentPropsKeys\":[{\"$type\":\"ComponentPropKey\",\"key\":\"style\"}],\"componentPropsValues\":[{\"$type\":\"ValueExpression\",\"value\":\"#5b426f\",\"isExpression\":false}]}},{\"$type\":\"Field\",\"name\":\"f\",\"component\":{\"$type\":\"FieldComponentDef\",\"componentId\":{\"$ref\":\"#/components@7\"},\"componentPropsKeys\":[],\"componentPropsValues\":[]}},{\"$type\":\"Field\",\"name\":\"q\",\"state\":{\"$type\":\"FieldStateDef\",\"type\":\"boolean\",\"isArray\":false},\"component\":{\"$type\":\"FieldComponentDef\",\"componentId\":{\"$ref\":\"#/components@7\"},\"componentPropsKeys\":[{\"$type\":\"ComponentPropKey\",\"key\":\"style\"}],\"componentPropsValues\":[{\"$type\":\"ValueExpression\",\"value\":\"#515f42\",\"isExpression\":false}]}},{\"$type\":\"Field\",\"name\":\"Rw\",\"state\":{\"$type\":\"FieldStateDef\",\"type\":\"string\",\"isArray\":false},\"component\":{\"$type\":\"FieldComponentDef\",\"componentId\":{\"$ref\":\"#/components@4\"},\"componentPropsKeys\":[],\"componentPropsValues\":[]}}]}'"
            ]
          },
          "execution_count": 47,
          "metadata": {},
          "output_type": "execute_result"
        }
      ],
      "source": [
        "examples[\"originalFormAst\"][1132]"
      ]
    },
    {
      "cell_type": "markdown",
      "id": "d8c8e36d-0ee3-4d57-bcd1-212548bdd2f7",
      "metadata": {
        "id": "d8c8e36d-0ee3-4d57-bcd1-212548bdd2f7"
      },
      "source": [
        "### Creating the user prompts\n",
        "\n",
        "For each example in our synthetic dataset, we create the user prompt which will be used to train and test the LLM.\n",
        "\n",
        "The user prompt consists of the modified FormLang code taken from each of our dataset examples along with the english description of the form element to add and its location (context) in the form."
      ]
    },
    {
      "cell_type": "code",
      "execution_count": null,
      "id": "-1vqgTopCaOR",
      "metadata": {
        "id": "-1vqgTopCaOR"
      },
      "outputs": [],
      "source": [
        "def create_prompt(row):\n",
        "    return (\n",
        "            \"```FormLang\\n\"\n",
        "            f\"{row['modifiedFormCode']}\\n\"\n",
        "            \"```\\n\"\n",
        "            \"The description of the form element you need to add:\\n\"\n",
        "            f\"{row['removedNodeEnglish']}\\n\"\n",
        "            \"The description of the context in the form where you should add the element:\\n\"\n",
        "            f\"The element to be added:\\n{row['removedNodeContextEnglish']}\\n\"\n",
        "           )"
      ]
    },
    {
      "cell_type": "code",
      "execution_count": null,
      "id": "b8064d9a-d883-43e5-bb7a-81f81929cffd",
      "metadata": {
        "colab": {
          "base_uri": "https://localhost:8080/",
          "height": 293
        },
        "id": "b8064d9a-d883-43e5-bb7a-81f81929cffd",
        "outputId": "509bf67b-a531-4dda-c696-d98f0e0210bc"
      },
      "outputs": [
        {
          "data": {
            "application/vnd.google.colaboratory.intrinsic+json": {
              "summary": "{\n  \"name\": \"examples\",\n  \"rows\": 3000,\n  \"fields\": [\n    {\n      \"column\": \"originalFormCode\",\n      \"properties\": {\n        \"dtype\": \"string\",\n        \"num_unique_values\": 3000,\n        \"samples\": [\n          \"\\n  component userDetailsContainer {}\\n  component formContainer {}\\n  component someOtherContainer {}\\n  component OtherContainer2 {}\\n\\n\\n  component myTextBox {\\n    props {\\n      textColor\\n      textSize\\n      textWeight\\n      borderColor\\n    }\\n  }\\n  component myCheckbox {\\n    props {\\n      size\\n    }\\n  }\\n  component otherTextBox {}\\n  component counter {\\n    props {\\n      style\\n    }\\n  }\\n\\nform Ew {\\n\\tcomp userDetailsContainer \\n\\t\\n\\tfield O_ {\\n\\t\\tstate string[]\\n\\t\\tcomp counter \\n\\t\\t\\n\\t}\\n\\tfield k_ {\\n\\t\\tcomp otherTextBox \\n\\t\\t\\n\\t}\\n\\tfield Kw {\\n\\t\\tcomp myTextBox \\n\\t\\t\\n\\t}\\n\\tfield Yww {\\n\\t\\tstate string default \\\"'Cesar Kihn'\\\" as expression\\n\\t\\tcomp counter style=\\\"#493826\\\"\\n\\t\\t\\n\\t}\\n}\\n\",\n          \"\\n  component userDetailsContainer {}\\n  component formContainer {}\\n  component someOtherContainer {}\\n  component OtherContainer2 {}\\n\\n\\n  component myTextBox {\\n    props {\\n      textColor\\n      textSize\\n      textWeight\\n      borderColor\\n    }\\n  }\\n  component myCheckbox {\\n    props {\\n      size\\n    }\\n  }\\n  component otherTextBox {}\\n  component counter {\\n    props {\\n      style\\n    }\\n  }\\n\\nform bww {\\n\\tcomp userDetailsContainer \\n\\t\\n\\tform P__ww {\\n\\t\\tcomp formContainer \\n\\t\\t\\n\\t\\tfield Bw_ww__ww {\\n\\t\\t\\tstate boolean default \\\"false\\\" as expression\\n\\t\\t\\tcomp myCheckbox size=\\\"'hello'.replace('l', 'L')\\\" as expression\\n\\t\\t\\t\\n\\t\\t}\\n\\t\\tform d {\\n\\t\\t\\tcomp OtherContainer2 \\n\\t\\t\\t\\n\\t\\t\\tfield sw {\\n\\t\\t\\t\\tstate boolean default \\\"true\\\" as expression\\n\\t\\t\\t\\tcomp otherTextBox \\n\\t\\t\\t\\t\\n\\t\\t\\t}\\n\\t\\t\\tfield Sw {\\n\\t\\t\\t\\tcomp myCheckbox size=\\\"'Hello'.toLowerCase()\\\" as expression\\n\\t\\t\\t\\t\\n\\t\\t\\t}\\n\\t\\t}\\n\\n\\t\\tfield hw {\\n\\t\\t\\tcomp myCheckbox size=\\\"#53736e\\\"\\n\\t\\t\\t\\n\\t\\t}\\n\\t\\tfield c {\\n\\t\\t\\tstate boolean default \\\"false\\\" as expression\\n\\t\\t\\tcomp myCheckbox size=\\\"#281537\\\"\\n\\t\\t\\t\\n\\t\\t}\\n\\t\\tfield a_ {\\n\\t\\t\\tstate string default \\\"Pauline Ortiz\\\"\\n\\t\\t\\tcomp myCheckbox \\n\\t\\t\\t\\n\\t\\t}\\n\\t\\tfield Iw_ {\\n\\t\\t\\tstate string\\n\\t\\t\\tcomp myCheckbox \\n\\t\\t\\t\\n\\t\\t}\\n\\t}\\n\\n\\tfield i_ {\\n\\t\\tstate string\\n\\t\\tcomp otherTextBox \\n\\t\\t\\n\\t}\\n}\\n\",\n          \"\\n  component userDetailsContainer {}\\n  component formContainer {}\\n  component someOtherContainer {}\\n  component OtherContainer2 {}\\n\\n\\n  component myTextBox {\\n    props {\\n      textColor\\n      textSize\\n      textWeight\\n      borderColor\\n    }\\n  }\\n  component myCheckbox {\\n    props {\\n      size\\n    }\\n  }\\n  component otherTextBox {}\\n  component counter {\\n    props {\\n      style\\n    }\\n  }\\n\\nform f {\\n\\tcomp userDetailsContainer \\n\\t\\n\\tfield o {\\n\\t\\tstate string default \\\"Jodi O'Kon\\\"\\n\\t\\tcomp myCheckbox \\n\\t\\t\\n\\t}\\n\\tfield Dw {\\n\\t\\tcomp otherTextBox \\n\\t\\t\\n\\t}\\n}\\n\"\n        ],\n        \"semantic_type\": \"\",\n        \"description\": \"\"\n      }\n    },\n    {\n      \"column\": \"modifiedFormCode\",\n      \"properties\": {\n        \"dtype\": \"string\",\n        \"num_unique_values\": 2928,\n        \"samples\": [\n          \"\\n  component userDetailsContainer {}\\n  component formContainer {}\\n  component someOtherContainer {}\\n  component OtherContainer2 {}\\n\\n\\n  component myTextBox {\\n    props {\\n      textColor\\n      textSize\\n      textWeight\\n      borderColor\\n    }\\n  }\\n  component myCheckbox {\\n    props {\\n      size\\n    }\\n  }\\n  component otherTextBox {}\\n  component counter {\\n    props {\\n      style\\n    }\\n  }\\n\\nform m {\\n\\tcomp OtherContainer2 \\n\\t\\n\\tfield k {\\n\\t\\tstate number[]\\n\\t\\tcomp myCheckbox size=\\\"2 ** 4\\\" as expression\\n\\t\\t\\n\\t}\\n}\\n\",\n          \"\\n  component userDetailsContainer {}\\n  component formContainer {}\\n  component someOtherContainer {}\\n  component OtherContainer2 {}\\n\\n\\n  component myTextBox {\\n    props {\\n      textColor\\n      textSize\\n      textWeight\\n      borderColor\\n    }\\n  }\\n  component myCheckbox {\\n    props {\\n      size\\n    }\\n  }\\n  component otherTextBox {}\\n  component counter {\\n    props {\\n      style\\n    }\\n  }\\n\\nform Uw {\\n\\tcomp formContainer \\n\\t\\n\\tform Pww_w_www {\\n\\t\\tcomp userDetailsContainer \\n\\t\\t\\n\\t\\tfield xw {\\n\\t\\t\\tstate number[] default \\\"[]\\\" as expression\\n\\t\\t\\tcomp myCheckbox \\n\\t\\t\\t\\n\\t\\t}\\n\\t}\\n\\n\\tfield jw {\\n\\t\\tcomp myTextBox textWeight=\\\"[1, 2, 3].splice(1, 1)\\\" as expression textSize=\\\"10 < 20 ? 'yes' : 'no'\\\" as expression\\n\\t\\t\\n\\t}\\n\\tfield Rww_w__ww_w_w___w__w____ {\\n\\t\\tcomp myCheckbox size=\\\"#5e3c15\\\"\\n\\t\\t\\n\\t}\\n\\tfield Tww {\\n\\t\\tstate string\\n\\t\\tcomp otherTextBox \\n\\t\\t\\n\\t}\\n\\tform x_ {\\n\\t\\tcomp OtherContainer2 \\n\\t\\t\\n\\t\\tfield N {\\n\\t\\t\\tcomp myCheckbox size=\\\"#585a41\\\"\\n\\t\\t\\t\\n\\t\\t}\\n\\t\\tfield S {\\n\\t\\t\\tstate number\\n\\t\\t\\tcomp counter \\n\\t\\t\\t\\n\\t\\t}\\n\\t}\\n\\n\\tform rw {\\n\\t\\tcomp OtherContainer2 \\n\\t\\t\\n\\t\\tfield E_w_ww_w_www_ww_ {\\n\\t\\t\\tcomp otherTextBox \\n\\t\\t\\t\\n\\t\\t}\\n\\t}\\n\\n}\\n\",\n          \"\\n  component userDetailsContainer {}\\n  component formContainer {}\\n  component someOtherContainer {}\\n  component OtherContainer2 {}\\n\\n\\n  component myTextBox {\\n    props {\\n      textColor\\n      textSize\\n      textWeight\\n      borderColor\\n    }\\n  }\\n  component myCheckbox {\\n    props {\\n      size\\n    }\\n  }\\n  component otherTextBox {}\\n  component counter {\\n    props {\\n      style\\n    }\\n  }\\n\\nform y {\\n\\tcomp userDetailsContainer \\n\\t\\n\\tform x {\\n\\t\\tcomp OtherContainer2 \\n\\t\\t\\n\\t\\tfield Oww {\\n\\t\\t\\tstate number\\n\\t\\t\\tcomp myCheckbox \\n\\t\\t\\t\\n\\t\\t}\\n\\t\\tfield W_ {\\n\\t\\t\\tstate boolean[] default \\\"[true]\\\" as expression\\n\\t\\t\\tcomp myTextBox borderColor=\\\"1 + 2 * 3\\\" as expression\\n\\t\\t\\t\\n\\t\\t}\\n\\t\\tfield jww_ww {\\n\\t\\t\\tstate string[] default \\\"[\\\\\\\"Nathan Wiegand\\\\\\\",\\\\\\\"Eva Rice\\\\\\\",\\\\\\\"George Gottlieb\\\\\\\"]\\\" as expression\\n\\t\\t\\tcomp counter style=\\\"#6f215d\\\"\\n\\t\\t\\t\\n\\t\\t}\\n\\t\\tfield Sw_wwwwwwwwww {\\n\\t\\t\\tcomp myTextBox borderColor=\\\"#4a7939\\\" textWeight=\\\"#751b20\\\"\\n\\t\\t\\t\\n\\t\\t}\\n\\t}\\n\\n\\tfield G {\\n\\t\\tstate string\\n\\t\\tcomp otherTextBox \\n\\t\\t\\n\\t}\\n\\tfield S_ {\\n\\t\\tstate number\\n\\t\\tcomp otherTextBox \\n\\t\\t\\n\\t}\\n\\tfield h {\\n\\t\\tstate number\\n\\t\\tcomp counter \\n\\t\\t\\n\\t}\\n\\tform J {\\n\\t\\tcomp userDetailsContainer \\n\\t\\t\\n\\n\\t}\\n\\n\\tfield p {\\n\\t\\tcomp myCheckbox size=\\\"#116217\\\"\\n\\t\\t\\n\\t}\\n}\\n\"\n        ],\n        \"semantic_type\": \"\",\n        \"description\": \"\"\n      }\n    },\n    {\n      \"column\": \"removedNodeEnglish\",\n      \"properties\": {\n        \"dtype\": \"string\",\n        \"num_unique_values\": 2925,\n        \"samples\": [\n          \"\\t\\ta field whose id is 'g' with state of type: 'number', and is using the component 'otherTextBox'.\\n\\t\\t\",\n          \"\\ta form whose id is 'u' using the component 'formContainer',with no children.\\n\\t\",\n          \"\\t\\ta field whose id is 'L_w' with state of type: 'number' and its default value is: 0.6831019370482362 (and is passed as an expression), and is using the component 'otherTextBox'.\\n\\t\\t\"\n        ],\n        \"semantic_type\": \"\",\n        \"description\": \"\"\n      }\n    },\n    {\n      \"column\": \"removedNodeContextEnglish\",\n      \"properties\": {\n        \"dtype\": \"string\",\n        \"num_unique_values\": 2729,\n        \"samples\": [\n          \"* is a child of the form whose id is 'dw_'.\\n* is located after the field whose id is 'O'\",\n          \"* is a child of the form whose id is 'ww'.\\n* is located before the field whose id is 'gw'\",\n          \"* is a child of the form whose id is 'E'.\\n* is located between the field whose id is 'Mww' and the field whose id is 'Y_w'\"\n        ],\n        \"semantic_type\": \"\",\n        \"description\": \"\"\n      }\n    },\n    {\n      \"column\": \"originalFormAst\",\n      \"properties\": {\n        \"dtype\": \"string\",\n        \"num_unique_values\": 3000,\n        \"samples\": [\n          \"{\\\"$type\\\":\\\"Form\\\",\\\"name\\\":\\\"Ew\\\",\\\"component\\\":{\\\"$type\\\":\\\"FieldComponentDef\\\",\\\"componentId\\\":{\\\"$ref\\\":\\\"#/components@0\\\"},\\\"componentPropsKeys\\\":[],\\\"componentPropsValues\\\":[]},\\\"children\\\":[{\\\"$type\\\":\\\"Field\\\",\\\"name\\\":\\\"O_\\\",\\\"state\\\":{\\\"$type\\\":\\\"FieldStateDef\\\",\\\"isArray\\\":true,\\\"type\\\":\\\"string\\\"},\\\"component\\\":{\\\"$type\\\":\\\"FieldComponentDef\\\",\\\"componentId\\\":{\\\"$ref\\\":\\\"#/components@7\\\"},\\\"componentPropsKeys\\\":[],\\\"componentPropsValues\\\":[]}},{\\\"$type\\\":\\\"Field\\\",\\\"name\\\":\\\"k_\\\",\\\"component\\\":{\\\"$type\\\":\\\"FieldComponentDef\\\",\\\"componentId\\\":{\\\"$ref\\\":\\\"#/components@6\\\"},\\\"componentPropsKeys\\\":[],\\\"componentPropsValues\\\":[]}},{\\\"$type\\\":\\\"Field\\\",\\\"name\\\":\\\"Kw\\\",\\\"component\\\":{\\\"$type\\\":\\\"FieldComponentDef\\\",\\\"componentId\\\":{\\\"$ref\\\":\\\"#/components@4\\\"},\\\"componentPropsKeys\\\":[],\\\"componentPropsValues\\\":[]}},{\\\"$type\\\":\\\"Field\\\",\\\"name\\\":\\\"Yww\\\",\\\"state\\\":{\\\"$type\\\":\\\"FieldStateDef\\\",\\\"type\\\":\\\"string\\\",\\\"defaultValue\\\":{\\\"$type\\\":\\\"ValueExpression\\\",\\\"value\\\":\\\"'Cesar Kihn'\\\",\\\"isExpression\\\":true},\\\"isArray\\\":false},\\\"component\\\":{\\\"$type\\\":\\\"FieldComponentDef\\\",\\\"componentId\\\":{\\\"$ref\\\":\\\"#/components@7\\\"},\\\"componentPropsKeys\\\":[{\\\"$type\\\":\\\"ComponentPropKey\\\",\\\"key\\\":\\\"style\\\"}],\\\"componentPropsValues\\\":[{\\\"$type\\\":\\\"ValueExpression\\\",\\\"value\\\":\\\"#493826\\\",\\\"isExpression\\\":false}]}}]}\",\n          \"{\\\"$type\\\":\\\"Form\\\",\\\"name\\\":\\\"bww\\\",\\\"component\\\":{\\\"$type\\\":\\\"FieldComponentDef\\\",\\\"componentId\\\":{\\\"$ref\\\":\\\"#/components@0\\\"},\\\"componentPropsKeys\\\":[],\\\"componentPropsValues\\\":[]},\\\"children\\\":[{\\\"$type\\\":\\\"Form\\\",\\\"name\\\":\\\"P__ww\\\",\\\"component\\\":{\\\"$type\\\":\\\"FieldComponentDef\\\",\\\"componentId\\\":{\\\"$ref\\\":\\\"#/components@1\\\"},\\\"componentPropsKeys\\\":[],\\\"componentPropsValues\\\":[]},\\\"children\\\":[{\\\"$type\\\":\\\"Field\\\",\\\"name\\\":\\\"Bw_ww__ww\\\",\\\"state\\\":{\\\"$type\\\":\\\"FieldStateDef\\\",\\\"type\\\":\\\"boolean\\\",\\\"defaultValue\\\":{\\\"$type\\\":\\\"ValueExpression\\\",\\\"value\\\":\\\"false\\\",\\\"isExpression\\\":true},\\\"isArray\\\":false},\\\"component\\\":{\\\"$type\\\":\\\"FieldComponentDef\\\",\\\"componentId\\\":{\\\"$ref\\\":\\\"#/components@5\\\"},\\\"componentPropsKeys\\\":[{\\\"$type\\\":\\\"ComponentPropKey\\\",\\\"key\\\":\\\"size\\\"}],\\\"componentPropsValues\\\":[{\\\"$type\\\":\\\"ValueExpression\\\",\\\"value\\\":\\\"'hello'.replace('l', 'L')\\\",\\\"isExpression\\\":true}]}},{\\\"$type\\\":\\\"Form\\\",\\\"name\\\":\\\"d\\\",\\\"component\\\":{\\\"$type\\\":\\\"FieldComponentDef\\\",\\\"componentId\\\":{\\\"$ref\\\":\\\"#/components@3\\\"},\\\"componentPropsKeys\\\":[],\\\"componentPropsValues\\\":[]},\\\"children\\\":[{\\\"$type\\\":\\\"Field\\\",\\\"name\\\":\\\"sw\\\",\\\"state\\\":{\\\"$type\\\":\\\"FieldStateDef\\\",\\\"type\\\":\\\"boolean\\\",\\\"defaultValue\\\":{\\\"$type\\\":\\\"ValueExpression\\\",\\\"value\\\":\\\"true\\\",\\\"isExpression\\\":true},\\\"isArray\\\":false},\\\"component\\\":{\\\"$type\\\":\\\"FieldComponentDef\\\",\\\"componentId\\\":{\\\"$ref\\\":\\\"#/components@6\\\"},\\\"componentPropsKeys\\\":[],\\\"componentPropsValues\\\":[]}},{\\\"$type\\\":\\\"Field\\\",\\\"name\\\":\\\"Sw\\\",\\\"component\\\":{\\\"$type\\\":\\\"FieldComponentDef\\\",\\\"componentId\\\":{\\\"$ref\\\":\\\"#/components@5\\\"},\\\"componentPropsKeys\\\":[{\\\"$type\\\":\\\"ComponentPropKey\\\",\\\"key\\\":\\\"size\\\"}],\\\"componentPropsValues\\\":[{\\\"$type\\\":\\\"ValueExpression\\\",\\\"value\\\":\\\"'Hello'.toLowerCase()\\\",\\\"isExpression\\\":true}]}}]},{\\\"$type\\\":\\\"Field\\\",\\\"name\\\":\\\"hw\\\",\\\"component\\\":{\\\"$type\\\":\\\"FieldComponentDef\\\",\\\"componentId\\\":{\\\"$ref\\\":\\\"#/components@5\\\"},\\\"componentPropsKeys\\\":[{\\\"$type\\\":\\\"ComponentPropKey\\\",\\\"key\\\":\\\"size\\\"}],\\\"componentPropsValues\\\":[{\\\"$type\\\":\\\"ValueExpression\\\",\\\"value\\\":\\\"#53736e\\\",\\\"isExpression\\\":false}]}},{\\\"$type\\\":\\\"Field\\\",\\\"name\\\":\\\"c\\\",\\\"state\\\":{\\\"$type\\\":\\\"FieldStateDef\\\",\\\"type\\\":\\\"boolean\\\",\\\"defaultValue\\\":{\\\"$type\\\":\\\"ValueExpression\\\",\\\"value\\\":\\\"false\\\",\\\"isExpression\\\":true},\\\"isArray\\\":false},\\\"component\\\":{\\\"$type\\\":\\\"FieldComponentDef\\\",\\\"componentId\\\":{\\\"$ref\\\":\\\"#/components@5\\\"},\\\"componentPropsKeys\\\":[{\\\"$type\\\":\\\"ComponentPropKey\\\",\\\"key\\\":\\\"size\\\"}],\\\"componentPropsValues\\\":[{\\\"$type\\\":\\\"ValueExpression\\\",\\\"value\\\":\\\"#281537\\\",\\\"isExpression\\\":false}]}},{\\\"$type\\\":\\\"Field\\\",\\\"name\\\":\\\"a_\\\",\\\"state\\\":{\\\"$type\\\":\\\"FieldStateDef\\\",\\\"type\\\":\\\"string\\\",\\\"defaultValue\\\":{\\\"$type\\\":\\\"ValueExpression\\\",\\\"value\\\":\\\"Pauline Ortiz\\\",\\\"isExpression\\\":false},\\\"isArray\\\":false},\\\"component\\\":{\\\"$type\\\":\\\"FieldComponentDef\\\",\\\"componentId\\\":{\\\"$ref\\\":\\\"#/components@5\\\"},\\\"componentPropsKeys\\\":[],\\\"componentPropsValues\\\":[]}},{\\\"$type\\\":\\\"Field\\\",\\\"name\\\":\\\"Iw_\\\",\\\"state\\\":{\\\"$type\\\":\\\"FieldStateDef\\\",\\\"type\\\":\\\"string\\\",\\\"isArray\\\":false},\\\"component\\\":{\\\"$type\\\":\\\"FieldComponentDef\\\",\\\"componentId\\\":{\\\"$ref\\\":\\\"#/components@5\\\"},\\\"componentPropsKeys\\\":[],\\\"componentPropsValues\\\":[]}}]},{\\\"$type\\\":\\\"Field\\\",\\\"name\\\":\\\"i_\\\",\\\"state\\\":{\\\"$type\\\":\\\"FieldStateDef\\\",\\\"type\\\":\\\"string\\\",\\\"isArray\\\":false},\\\"component\\\":{\\\"$type\\\":\\\"FieldComponentDef\\\",\\\"componentId\\\":{\\\"$ref\\\":\\\"#/components@6\\\"},\\\"componentPropsKeys\\\":[],\\\"componentPropsValues\\\":[]}}]}\",\n          \"{\\\"$type\\\":\\\"Form\\\",\\\"name\\\":\\\"f\\\",\\\"component\\\":{\\\"$type\\\":\\\"FieldComponentDef\\\",\\\"componentId\\\":{\\\"$ref\\\":\\\"#/components@0\\\"},\\\"componentPropsKeys\\\":[],\\\"componentPropsValues\\\":[]},\\\"children\\\":[{\\\"$type\\\":\\\"Field\\\",\\\"name\\\":\\\"o\\\",\\\"state\\\":{\\\"$type\\\":\\\"FieldStateDef\\\",\\\"type\\\":\\\"string\\\",\\\"defaultValue\\\":{\\\"$type\\\":\\\"ValueExpression\\\",\\\"value\\\":\\\"Jodi O'Kon\\\",\\\"isExpression\\\":false},\\\"isArray\\\":false},\\\"component\\\":{\\\"$type\\\":\\\"FieldComponentDef\\\",\\\"componentId\\\":{\\\"$ref\\\":\\\"#/components@5\\\"},\\\"componentPropsKeys\\\":[],\\\"componentPropsValues\\\":[]}},{\\\"$type\\\":\\\"Field\\\",\\\"name\\\":\\\"Dw\\\",\\\"component\\\":{\\\"$type\\\":\\\"FieldComponentDef\\\",\\\"componentId\\\":{\\\"$ref\\\":\\\"#/components@6\\\"},\\\"componentPropsKeys\\\":[],\\\"componentPropsValues\\\":[]}}]}\"\n        ],\n        \"semantic_type\": \"\",\n        \"description\": \"\"\n      }\n    },\n    {\n      \"column\": \"userPrompt\",\n      \"properties\": {\n        \"dtype\": \"string\",\n        \"num_unique_values\": 3000,\n        \"samples\": [\n          \"```FormLang\\n\\n  component userDetailsContainer {}\\n  component formContainer {}\\n  component someOtherContainer {}\\n  component OtherContainer2 {}\\n\\n\\n  component myTextBox {\\n    props {\\n      textColor\\n      textSize\\n      textWeight\\n      borderColor\\n    }\\n  }\\n  component myCheckbox {\\n    props {\\n      size\\n    }\\n  }\\n  component otherTextBox {}\\n  component counter {\\n    props {\\n      style\\n    }\\n  }\\n\\nform Ew {\\n\\tcomp userDetailsContainer \\n\\t\\n\\tfield O_ {\\n\\t\\tstate string[]\\n\\t\\tcomp counter \\n\\t\\t\\n\\t}\\n\\tfield Kw {\\n\\t\\tcomp myTextBox \\n\\t\\t\\n\\t}\\n\\tfield Yww {\\n\\t\\tstate string default \\\"'Cesar Kihn'\\\" as expression\\n\\t\\tcomp counter style=\\\"#493826\\\"\\n\\t\\t\\n\\t}\\n}\\n\\n```\\nThe description of the form element you need to add:\\n\\ta field whose id is 'k_' using the component 'otherTextBox'.\\n\\t\\nThe description of the context in the form where you should add the element:\\nThe element to be added:\\n* is a child of the form whose id is 'Ew'.\\n* is located between the field whose id is 'O_' and the field whose id is 'Kw'\\n\",\n          \"```FormLang\\n\\n  component userDetailsContainer {}\\n  component formContainer {}\\n  component someOtherContainer {}\\n  component OtherContainer2 {}\\n\\n\\n  component myTextBox {\\n    props {\\n      textColor\\n      textSize\\n      textWeight\\n      borderColor\\n    }\\n  }\\n  component myCheckbox {\\n    props {\\n      size\\n    }\\n  }\\n  component otherTextBox {}\\n  component counter {\\n    props {\\n      style\\n    }\\n  }\\n\\nform bww {\\n\\tcomp userDetailsContainer \\n\\t\\n\\tform P__ww {\\n\\t\\tcomp formContainer \\n\\t\\t\\n\\t\\tfield Bw_ww__ww {\\n\\t\\t\\tstate boolean default \\\"false\\\" as expression\\n\\t\\t\\tcomp myCheckbox size=\\\"'hello'.replace('l', 'L')\\\" as expression\\n\\t\\t\\t\\n\\t\\t}\\n\\t\\tform d {\\n\\t\\t\\tcomp OtherContainer2 \\n\\t\\t\\t\\n\\t\\t\\tfield sw {\\n\\t\\t\\t\\tstate boolean default \\\"true\\\" as expression\\n\\t\\t\\t\\tcomp otherTextBox \\n\\t\\t\\t\\t\\n\\t\\t\\t}\\n\\t\\t\\tfield Sw {\\n\\t\\t\\t\\tcomp myCheckbox size=\\\"'Hello'.toLowerCase()\\\" as expression\\n\\t\\t\\t\\t\\n\\t\\t\\t}\\n\\t\\t}\\n\\n\\t\\tfield hw {\\n\\t\\t\\tcomp myCheckbox size=\\\"#53736e\\\"\\n\\t\\t\\t\\n\\t\\t}\\n\\t\\tfield c {\\n\\t\\t\\tstate boolean default \\\"false\\\" as expression\\n\\t\\t\\tcomp myCheckbox size=\\\"#281537\\\"\\n\\t\\t\\t\\n\\t\\t}\\n\\t\\tfield a_ {\\n\\t\\t\\tstate string default \\\"Pauline Ortiz\\\"\\n\\t\\t\\tcomp myCheckbox \\n\\t\\t\\t\\n\\t\\t}\\n\\t}\\n\\n\\tfield i_ {\\n\\t\\tstate string\\n\\t\\tcomp otherTextBox \\n\\t\\t\\n\\t}\\n}\\n\\n```\\nThe description of the form element you need to add:\\n\\t\\ta field whose id is 'Iw_' with state of type: 'string', and is using the component 'myCheckbox'.\\n\\t\\t\\nThe description of the context in the form where you should add the element:\\nThe element to be added:\\n* is a child of the form whose id is 'P__ww'.\\n* is located after the field whose id is 'a_'\\n\",\n          \"```FormLang\\n\\n  component userDetailsContainer {}\\n  component formContainer {}\\n  component someOtherContainer {}\\n  component OtherContainer2 {}\\n\\n\\n  component myTextBox {\\n    props {\\n      textColor\\n      textSize\\n      textWeight\\n      borderColor\\n    }\\n  }\\n  component myCheckbox {\\n    props {\\n      size\\n    }\\n  }\\n  component otherTextBox {}\\n  component counter {\\n    props {\\n      style\\n    }\\n  }\\n\\nform f {\\n\\tcomp userDetailsContainer \\n\\t\\n\\tfield o {\\n\\t\\tstate string default \\\"Jodi O'Kon\\\"\\n\\t\\tcomp myCheckbox \\n\\t\\t\\n\\t}\\n}\\n\\n```\\nThe description of the form element you need to add:\\n\\ta field whose id is 'Dw' using the component 'otherTextBox'.\\n\\t\\nThe description of the context in the form where you should add the element:\\nThe element to be added:\\n* is a child of the form whose id is 'f'.\\n* is located after the field whose id is 'o'\\n\"\n        ],\n        \"semantic_type\": \"\",\n        \"description\": \"\"\n      }\n    }\n  ]\n}",
              "type": "dataframe",
              "variable_name": "examples"
            },
            "text/html": [
              "\n",
              "  <div id=\"df-41320571-a9d6-404a-91bd-c0d4ff093fe5\" class=\"colab-df-container\">\n",
              "    <div>\n",
              "<style scoped>\n",
              "    .dataframe tbody tr th:only-of-type {\n",
              "        vertical-align: middle;\n",
              "    }\n",
              "\n",
              "    .dataframe tbody tr th {\n",
              "        vertical-align: top;\n",
              "    }\n",
              "\n",
              "    .dataframe thead th {\n",
              "        text-align: right;\n",
              "    }\n",
              "</style>\n",
              "<table border=\"1\" class=\"dataframe\">\n",
              "  <thead>\n",
              "    <tr style=\"text-align: right;\">\n",
              "      <th></th>\n",
              "      <th>originalFormCode</th>\n",
              "      <th>modifiedFormCode</th>\n",
              "      <th>removedNodeEnglish</th>\n",
              "      <th>removedNodeContextEnglish</th>\n",
              "      <th>originalFormAst</th>\n",
              "      <th>userPrompt</th>\n",
              "    </tr>\n",
              "  </thead>\n",
              "  <tbody>\n",
              "    <tr>\n",
              "      <th>0</th>\n",
              "      <td>\\n  component userDetailsContainer {}\\n  compo...</td>\n",
              "      <td>\\n  component userDetailsContainer {}\\n  compo...</td>\n",
              "      <td>\\ta field whose id is 'Z_' with state of type:...</td>\n",
              "      <td>* is a child of the form whose id is 'Bw'.\\n* ...</td>\n",
              "      <td>{\"$type\":\"Form\",\"name\":\"Bw\",\"component\":{\"$typ...</td>\n",
              "      <td>```FormLang\\n\\n  component userDetailsContaine...</td>\n",
              "    </tr>\n",
              "    <tr>\n",
              "      <th>1</th>\n",
              "      <td>\\n  component userDetailsContainer {}\\n  compo...</td>\n",
              "      <td>\\n  component userDetailsContainer {}\\n  compo...</td>\n",
              "      <td>\\ta field whose id is 'p_' with state of type:...</td>\n",
              "      <td>* is a child of the form whose id is 'Cw'.\\n* ...</td>\n",
              "      <td>{\"$type\":\"Form\",\"name\":\"Cw\",\"component\":{\"$typ...</td>\n",
              "      <td>```FormLang\\n\\n  component userDetailsContaine...</td>\n",
              "    </tr>\n",
              "    <tr>\n",
              "      <th>2</th>\n",
              "      <td>\\n  component userDetailsContainer {}\\n  compo...</td>\n",
              "      <td>\\n  component userDetailsContainer {}\\n  compo...</td>\n",
              "      <td>\\ta field whose id is 'F' using the component ...</td>\n",
              "      <td>* is a child of the form whose id is 'Vw'.\\n* ...</td>\n",
              "      <td>{\"$type\":\"Form\",\"name\":\"Vw\",\"component\":{\"$typ...</td>\n",
              "      <td>```FormLang\\n\\n  component userDetailsContaine...</td>\n",
              "    </tr>\n",
              "    <tr>\n",
              "      <th>3</th>\n",
              "      <td>\\n  component userDetailsContainer {}\\n  compo...</td>\n",
              "      <td>\\n  component userDetailsContainer {}\\n  compo...</td>\n",
              "      <td>\\t\\ta field whose id is 'Pww_ww___w' using the...</td>\n",
              "      <td>* is a child of the form whose id is 'd'.\\n* i...</td>\n",
              "      <td>{\"$type\":\"Form\",\"name\":\"Lw\",\"component\":{\"$typ...</td>\n",
              "      <td>```FormLang\\n\\n  component userDetailsContaine...</td>\n",
              "    </tr>\n",
              "    <tr>\n",
              "      <th>4</th>\n",
              "      <td>\\n  component userDetailsContainer {}\\n  compo...</td>\n",
              "      <td>\\n  component userDetailsContainer {}\\n  compo...</td>\n",
              "      <td>\\ta field whose id is 'nw' with state of type:...</td>\n",
              "      <td>* is a child of the form whose id is 'a_'.\\n* ...</td>\n",
              "      <td>{\"$type\":\"Form\",\"name\":\"a_\",\"component\":{\"$typ...</td>\n",
              "      <td>```FormLang\\n\\n  component userDetailsContaine...</td>\n",
              "    </tr>\n",
              "  </tbody>\n",
              "</table>\n",
              "</div>\n",
              "    <div class=\"colab-df-buttons\">\n",
              "\n",
              "  <div class=\"colab-df-container\">\n",
              "    <button class=\"colab-df-convert\" onclick=\"convertToInteractive('df-41320571-a9d6-404a-91bd-c0d4ff093fe5')\"\n",
              "            title=\"Convert this dataframe to an interactive table.\"\n",
              "            style=\"display:none;\">\n",
              "\n",
              "  <svg xmlns=\"http://www.w3.org/2000/svg\" height=\"24px\" viewBox=\"0 -960 960 960\">\n",
              "    <path d=\"M120-120v-720h720v720H120Zm60-500h600v-160H180v160Zm220 220h160v-160H400v160Zm0 220h160v-160H400v160ZM180-400h160v-160H180v160Zm440 0h160v-160H620v160ZM180-180h160v-160H180v160Zm440 0h160v-160H620v160Z\"/>\n",
              "  </svg>\n",
              "    </button>\n",
              "\n",
              "  <style>\n",
              "    .colab-df-container {\n",
              "      display:flex;\n",
              "      gap: 12px;\n",
              "    }\n",
              "\n",
              "    .colab-df-convert {\n",
              "      background-color: #E8F0FE;\n",
              "      border: none;\n",
              "      border-radius: 50%;\n",
              "      cursor: pointer;\n",
              "      display: none;\n",
              "      fill: #1967D2;\n",
              "      height: 32px;\n",
              "      padding: 0 0 0 0;\n",
              "      width: 32px;\n",
              "    }\n",
              "\n",
              "    .colab-df-convert:hover {\n",
              "      background-color: #E2EBFA;\n",
              "      box-shadow: 0px 1px 2px rgba(60, 64, 67, 0.3), 0px 1px 3px 1px rgba(60, 64, 67, 0.15);\n",
              "      fill: #174EA6;\n",
              "    }\n",
              "\n",
              "    .colab-df-buttons div {\n",
              "      margin-bottom: 4px;\n",
              "    }\n",
              "\n",
              "    [theme=dark] .colab-df-convert {\n",
              "      background-color: #3B4455;\n",
              "      fill: #D2E3FC;\n",
              "    }\n",
              "\n",
              "    [theme=dark] .colab-df-convert:hover {\n",
              "      background-color: #434B5C;\n",
              "      box-shadow: 0px 1px 3px 1px rgba(0, 0, 0, 0.15);\n",
              "      filter: drop-shadow(0px 1px 2px rgba(0, 0, 0, 0.3));\n",
              "      fill: #FFFFFF;\n",
              "    }\n",
              "  </style>\n",
              "\n",
              "    <script>\n",
              "      const buttonEl =\n",
              "        document.querySelector('#df-41320571-a9d6-404a-91bd-c0d4ff093fe5 button.colab-df-convert');\n",
              "      buttonEl.style.display =\n",
              "        google.colab.kernel.accessAllowed ? 'block' : 'none';\n",
              "\n",
              "      async function convertToInteractive(key) {\n",
              "        const element = document.querySelector('#df-41320571-a9d6-404a-91bd-c0d4ff093fe5');\n",
              "        const dataTable =\n",
              "          await google.colab.kernel.invokeFunction('convertToInteractive',\n",
              "                                                    [key], {});\n",
              "        if (!dataTable) return;\n",
              "\n",
              "        const docLinkHtml = 'Like what you see? Visit the ' +\n",
              "          '<a target=\"_blank\" href=https://colab.research.google.com/notebooks/data_table.ipynb>data table notebook</a>'\n",
              "          + ' to learn more about interactive tables.';\n",
              "        element.innerHTML = '';\n",
              "        dataTable['output_type'] = 'display_data';\n",
              "        await google.colab.output.renderOutput(dataTable, element);\n",
              "        const docLink = document.createElement('div');\n",
              "        docLink.innerHTML = docLinkHtml;\n",
              "        element.appendChild(docLink);\n",
              "      }\n",
              "    </script>\n",
              "  </div>\n",
              "\n",
              "\n",
              "<div id=\"df-06309696-2758-4581-abb3-3b83b38ce4c0\">\n",
              "  <button class=\"colab-df-quickchart\" onclick=\"quickchart('df-06309696-2758-4581-abb3-3b83b38ce4c0')\"\n",
              "            title=\"Suggest charts\"\n",
              "            style=\"display:none;\">\n",
              "\n",
              "<svg xmlns=\"http://www.w3.org/2000/svg\" height=\"24px\"viewBox=\"0 0 24 24\"\n",
              "     width=\"24px\">\n",
              "    <g>\n",
              "        <path d=\"M19 3H5c-1.1 0-2 .9-2 2v14c0 1.1.9 2 2 2h14c1.1 0 2-.9 2-2V5c0-1.1-.9-2-2-2zM9 17H7v-7h2v7zm4 0h-2V7h2v10zm4 0h-2v-4h2v4z\"/>\n",
              "    </g>\n",
              "</svg>\n",
              "  </button>\n",
              "\n",
              "<style>\n",
              "  .colab-df-quickchart {\n",
              "      --bg-color: #E8F0FE;\n",
              "      --fill-color: #1967D2;\n",
              "      --hover-bg-color: #E2EBFA;\n",
              "      --hover-fill-color: #174EA6;\n",
              "      --disabled-fill-color: #AAA;\n",
              "      --disabled-bg-color: #DDD;\n",
              "  }\n",
              "\n",
              "  [theme=dark] .colab-df-quickchart {\n",
              "      --bg-color: #3B4455;\n",
              "      --fill-color: #D2E3FC;\n",
              "      --hover-bg-color: #434B5C;\n",
              "      --hover-fill-color: #FFFFFF;\n",
              "      --disabled-bg-color: #3B4455;\n",
              "      --disabled-fill-color: #666;\n",
              "  }\n",
              "\n",
              "  .colab-df-quickchart {\n",
              "    background-color: var(--bg-color);\n",
              "    border: none;\n",
              "    border-radius: 50%;\n",
              "    cursor: pointer;\n",
              "    display: none;\n",
              "    fill: var(--fill-color);\n",
              "    height: 32px;\n",
              "    padding: 0;\n",
              "    width: 32px;\n",
              "  }\n",
              "\n",
              "  .colab-df-quickchart:hover {\n",
              "    background-color: var(--hover-bg-color);\n",
              "    box-shadow: 0 1px 2px rgba(60, 64, 67, 0.3), 0 1px 3px 1px rgba(60, 64, 67, 0.15);\n",
              "    fill: var(--button-hover-fill-color);\n",
              "  }\n",
              "\n",
              "  .colab-df-quickchart-complete:disabled,\n",
              "  .colab-df-quickchart-complete:disabled:hover {\n",
              "    background-color: var(--disabled-bg-color);\n",
              "    fill: var(--disabled-fill-color);\n",
              "    box-shadow: none;\n",
              "  }\n",
              "\n",
              "  .colab-df-spinner {\n",
              "    border: 2px solid var(--fill-color);\n",
              "    border-color: transparent;\n",
              "    border-bottom-color: var(--fill-color);\n",
              "    animation:\n",
              "      spin 1s steps(1) infinite;\n",
              "  }\n",
              "\n",
              "  @keyframes spin {\n",
              "    0% {\n",
              "      border-color: transparent;\n",
              "      border-bottom-color: var(--fill-color);\n",
              "      border-left-color: var(--fill-color);\n",
              "    }\n",
              "    20% {\n",
              "      border-color: transparent;\n",
              "      border-left-color: var(--fill-color);\n",
              "      border-top-color: var(--fill-color);\n",
              "    }\n",
              "    30% {\n",
              "      border-color: transparent;\n",
              "      border-left-color: var(--fill-color);\n",
              "      border-top-color: var(--fill-color);\n",
              "      border-right-color: var(--fill-color);\n",
              "    }\n",
              "    40% {\n",
              "      border-color: transparent;\n",
              "      border-right-color: var(--fill-color);\n",
              "      border-top-color: var(--fill-color);\n",
              "    }\n",
              "    60% {\n",
              "      border-color: transparent;\n",
              "      border-right-color: var(--fill-color);\n",
              "    }\n",
              "    80% {\n",
              "      border-color: transparent;\n",
              "      border-right-color: var(--fill-color);\n",
              "      border-bottom-color: var(--fill-color);\n",
              "    }\n",
              "    90% {\n",
              "      border-color: transparent;\n",
              "      border-bottom-color: var(--fill-color);\n",
              "    }\n",
              "  }\n",
              "</style>\n",
              "\n",
              "  <script>\n",
              "    async function quickchart(key) {\n",
              "      const quickchartButtonEl =\n",
              "        document.querySelector('#' + key + ' button');\n",
              "      quickchartButtonEl.disabled = true;  // To prevent multiple clicks.\n",
              "      quickchartButtonEl.classList.add('colab-df-spinner');\n",
              "      try {\n",
              "        const charts = await google.colab.kernel.invokeFunction(\n",
              "            'suggestCharts', [key], {});\n",
              "      } catch (error) {\n",
              "        console.error('Error during call to suggestCharts:', error);\n",
              "      }\n",
              "      quickchartButtonEl.classList.remove('colab-df-spinner');\n",
              "      quickchartButtonEl.classList.add('colab-df-quickchart-complete');\n",
              "    }\n",
              "    (() => {\n",
              "      let quickchartButtonEl =\n",
              "        document.querySelector('#df-06309696-2758-4581-abb3-3b83b38ce4c0 button');\n",
              "      quickchartButtonEl.style.display =\n",
              "        google.colab.kernel.accessAllowed ? 'block' : 'none';\n",
              "    })();\n",
              "  </script>\n",
              "</div>\n",
              "\n",
              "    </div>\n",
              "  </div>\n"
            ],
            "text/plain": [
              "                                    originalFormCode  \\\n",
              "0  \\n  component userDetailsContainer {}\\n  compo...   \n",
              "1  \\n  component userDetailsContainer {}\\n  compo...   \n",
              "2  \\n  component userDetailsContainer {}\\n  compo...   \n",
              "3  \\n  component userDetailsContainer {}\\n  compo...   \n",
              "4  \\n  component userDetailsContainer {}\\n  compo...   \n",
              "\n",
              "                                    modifiedFormCode  \\\n",
              "0  \\n  component userDetailsContainer {}\\n  compo...   \n",
              "1  \\n  component userDetailsContainer {}\\n  compo...   \n",
              "2  \\n  component userDetailsContainer {}\\n  compo...   \n",
              "3  \\n  component userDetailsContainer {}\\n  compo...   \n",
              "4  \\n  component userDetailsContainer {}\\n  compo...   \n",
              "\n",
              "                                  removedNodeEnglish  \\\n",
              "0  \\ta field whose id is 'Z_' with state of type:...   \n",
              "1  \\ta field whose id is 'p_' with state of type:...   \n",
              "2  \\ta field whose id is 'F' using the component ...   \n",
              "3  \\t\\ta field whose id is 'Pww_ww___w' using the...   \n",
              "4  \\ta field whose id is 'nw' with state of type:...   \n",
              "\n",
              "                           removedNodeContextEnglish  \\\n",
              "0  * is a child of the form whose id is 'Bw'.\\n* ...   \n",
              "1  * is a child of the form whose id is 'Cw'.\\n* ...   \n",
              "2  * is a child of the form whose id is 'Vw'.\\n* ...   \n",
              "3  * is a child of the form whose id is 'd'.\\n* i...   \n",
              "4  * is a child of the form whose id is 'a_'.\\n* ...   \n",
              "\n",
              "                                     originalFormAst  \\\n",
              "0  {\"$type\":\"Form\",\"name\":\"Bw\",\"component\":{\"$typ...   \n",
              "1  {\"$type\":\"Form\",\"name\":\"Cw\",\"component\":{\"$typ...   \n",
              "2  {\"$type\":\"Form\",\"name\":\"Vw\",\"component\":{\"$typ...   \n",
              "3  {\"$type\":\"Form\",\"name\":\"Lw\",\"component\":{\"$typ...   \n",
              "4  {\"$type\":\"Form\",\"name\":\"a_\",\"component\":{\"$typ...   \n",
              "\n",
              "                                          userPrompt  \n",
              "0  ```FormLang\\n\\n  component userDetailsContaine...  \n",
              "1  ```FormLang\\n\\n  component userDetailsContaine...  \n",
              "2  ```FormLang\\n\\n  component userDetailsContaine...  \n",
              "3  ```FormLang\\n\\n  component userDetailsContaine...  \n",
              "4  ```FormLang\\n\\n  component userDetailsContaine...  "
            ]
          },
          "execution_count": 49,
          "metadata": {},
          "output_type": "execute_result"
        }
      ],
      "source": [
        "examples[\"userPrompt\"] = examples.apply(create_prompt, axis=1)\n",
        "examples.head()"
      ]
    },
    {
      "cell_type": "markdown",
      "id": "da77e0c2-5a84-46e3-8f99-c5dc5918ca4e",
      "metadata": {
        "id": "da77e0c2-5a84-46e3-8f99-c5dc5918ca4e",
        "jp-MarkdownHeadingCollapsed": true
      },
      "source": [
        "##### Example User Prompt vs. original Code"
      ]
    },
    {
      "cell_type": "code",
      "execution_count": null,
      "id": "ba3b7e13-2753-4da3-86f2-594704d2d56a",
      "metadata": {
        "colab": {
          "base_uri": "https://localhost:8080/"
        },
        "id": "ba3b7e13-2753-4da3-86f2-594704d2d56a",
        "outputId": "32889869-25c6-4366-db40-9d9e4161df0c"
      },
      "outputs": [
        {
          "name": "stdout",
          "output_type": "stream",
          "text": [
            "```FormLang\n",
            "\n",
            "  component userDetailsContainer {}\n",
            "  component formContainer {}\n",
            "  component someOtherContainer {}\n",
            "  component OtherContainer2 {}\n",
            "\n",
            "\n",
            "  component myTextBox {\n",
            "    props {\n",
            "      textColor\n",
            "      textSize\n",
            "      textWeight\n",
            "      borderColor\n",
            "    }\n",
            "  }\n",
            "  component myCheckbox {\n",
            "    props {\n",
            "      size\n",
            "    }\n",
            "  }\n",
            "  component otherTextBox {}\n",
            "  component counter {\n",
            "    props {\n",
            "      style\n",
            "    }\n",
            "  }\n",
            "\n",
            "form Bw {\n",
            "\tcomp OtherContainer2 \n",
            "\t\n",
            "\tfield G {\n",
            "\t\tcomp myCheckbox size=\"'Hello'.toLowerCase()\" as expression\n",
            "\t\t\n",
            "\t}\n",
            "\tform a {\n",
            "\t\tcomp formContainer \n",
            "\t\t\n",
            "\t\tfield qw {\n",
            "\t\t\tstate boolean[]\n",
            "\t\t\tcomp otherTextBox \n",
            "\t\t\t\n",
            "\t\t}\n",
            "\t\tfield F__ {\n",
            "\t\t\tcomp myTextBox \n",
            "\t\t\t\n",
            "\t\t}\n",
            "\t\tfield Y__ {\n",
            "\t\t\tstate string default \"'John Streich'\" as expression\n",
            "\t\t\tcomp myTextBox \n",
            "\t\t\t\n",
            "\t\t}\n",
            "\t\tfield S_w {\n",
            "\t\t\tstate string\n",
            "\t\t\tcomp myCheckbox size=\"#121310\"\n",
            "\t\t\t\n",
            "\t\t}\n",
            "\t\tfield N_ {\n",
            "\t\t\tstate number default \"0.17049162264892637\" as expression\n",
            "\t\t\tcomp counter \n",
            "\t\t\t\n",
            "\t\t}\n",
            "\t}\n",
            "\n",
            "\tfield pw_wwww_w__ {\n",
            "\t\tstate boolean\n",
            "\t\tcomp counter \n",
            "\t\t\n",
            "\t}\n",
            "\tfield J {\n",
            "\t\tstate string\n",
            "\t\tcomp otherTextBox \n",
            "\t\t\n",
            "\t}\n",
            "}\n",
            "\n",
            "```\n",
            "The description of the form element you need to add:\n",
            "\ta field whose id is 'Z_' with state of type: 'string', and is using the component 'otherTextBox'.\n",
            "\t\n",
            "The description of the context in the form where you should add the element:\n",
            "The element to be added:\n",
            "* is a child of the form whose id is 'Bw'.\n",
            "* is located between the field whose id is 'pw_wwww_w__' and the field whose id is 'J'\n",
            "\n"
          ]
        }
      ],
      "source": [
        "print(examples['userPrompt'][0])"
      ]
    },
    {
      "cell_type": "code",
      "execution_count": null,
      "id": "d01fd5ce-4812-46dc-8563-8ca335fec0fa",
      "metadata": {
        "colab": {
          "base_uri": "https://localhost:8080/"
        },
        "id": "d01fd5ce-4812-46dc-8563-8ca335fec0fa",
        "outputId": "ff71f955-f985-4164-c491-b5f6bef6e935"
      },
      "outputs": [
        {
          "name": "stdout",
          "output_type": "stream",
          "text": [
            "\n",
            "  component userDetailsContainer {}\n",
            "  component formContainer {}\n",
            "  component someOtherContainer {}\n",
            "  component OtherContainer2 {}\n",
            "\n",
            "\n",
            "  component myTextBox {\n",
            "    props {\n",
            "      textColor\n",
            "      textSize\n",
            "      textWeight\n",
            "      borderColor\n",
            "    }\n",
            "  }\n",
            "  component myCheckbox {\n",
            "    props {\n",
            "      size\n",
            "    }\n",
            "  }\n",
            "  component otherTextBox {}\n",
            "  component counter {\n",
            "    props {\n",
            "      style\n",
            "    }\n",
            "  }\n",
            "\n",
            "form Bw {\n",
            "\tcomp OtherContainer2 \n",
            "\t\n",
            "\tfield G {\n",
            "\t\tcomp myCheckbox size=\"'Hello'.toLowerCase()\" as expression\n",
            "\t\t\n",
            "\t}\n",
            "\tform a {\n",
            "\t\tcomp formContainer \n",
            "\t\t\n",
            "\t\tfield qw {\n",
            "\t\t\tstate boolean[]\n",
            "\t\t\tcomp otherTextBox \n",
            "\t\t\t\n",
            "\t\t}\n",
            "\t\tfield F__ {\n",
            "\t\t\tcomp myTextBox \n",
            "\t\t\t\n",
            "\t\t}\n",
            "\t\tfield Y__ {\n",
            "\t\t\tstate string default \"'John Streich'\" as expression\n",
            "\t\t\tcomp myTextBox \n",
            "\t\t\t\n",
            "\t\t}\n",
            "\t\tfield S_w {\n",
            "\t\t\tstate string\n",
            "\t\t\tcomp myCheckbox size=\"#121310\"\n",
            "\t\t\t\n",
            "\t\t}\n",
            "\t\tfield N_ {\n",
            "\t\t\tstate number default \"0.17049162264892637\" as expression\n",
            "\t\t\tcomp counter \n",
            "\t\t\t\n",
            "\t\t}\n",
            "\t}\n",
            "\n",
            "\tfield pw_wwww_w__ {\n",
            "\t\tstate boolean\n",
            "\t\tcomp counter \n",
            "\t\t\n",
            "\t}\n",
            "\tfield Z_ {\n",
            "\t\tstate string\n",
            "\t\tcomp otherTextBox \n",
            "\t\t\n",
            "\t}\n",
            "\tfield J {\n",
            "\t\tstate string\n",
            "\t\tcomp otherTextBox \n",
            "\t\t\n",
            "\t}\n",
            "}\n",
            "\n"
          ]
        }
      ],
      "source": [
        "print(examples['originalFormCode'][0])"
      ]
    },
    {
      "cell_type": "markdown",
      "id": "d002401a-0651-416f-908a-c3c444299f6a",
      "metadata": {
        "id": "d002401a-0651-416f-908a-c3c444299f6a"
      },
      "source": [
        "### Creating a Dataset on HuggingFace using `Datasets`"
      ]
    },
    {
      "cell_type": "markdown",
      "id": "l4qrBCMhzr4V",
      "metadata": {
        "id": "l4qrBCMhzr4V"
      },
      "source": [
        "First we've manually created a Dataset repository on the hugging-face hub for our [form-lang-examples](https://huggingface.co/datasets/guy-or/form-lang-examples) .\n",
        "\n",
        "We then convert our `examples` DataFrame into a Dataset object and upload it to the Hub.\n"
      ]
    },
    {
      "cell_type": "code",
      "execution_count": null,
      "id": "jC8Ts1qj5OyU",
      "metadata": {
        "colab": {
          "base_uri": "https://localhost:8080/",
          "height": 182,
          "referenced_widgets": [
            "535dedbd231a49a59c6ac5febb59f2d2",
            "36526451358f4da6acfa94859853a6e8",
            "27b091edf6ff46e98d04cf6aca96aef9",
            "670292204d344b5e81a50d83ee9cf8d3",
            "90f9118b159842c3bc1960ff104306e3",
            "adabaf3f9aad4c73bf429c0364c294f8",
            "94c54783256a4c2395b4f77c1196b187",
            "72eddef802b341e9ad8e49ec40503d5f",
            "bb226d4e103e4f96a852d1f7858f1d3c",
            "d15cb75d835c474cb6be414ba8b9d573",
            "9208ab94b44340d39a4d5a5f03e44870",
            "a3d21459c293496eba1bca2fe3e57384",
            "d5ac92ab35d04ad8a7e53f78732f22e0",
            "6e38c12bff24444db3db8f02f83f989b",
            "3ef3091b5f4c4fae9a631f1cb1185137",
            "90d9cd7f30f644eb91517c881d069a51",
            "371a7ab1355246448dd073ac8332fac2",
            "64367b614d8e4d29b0ab05e1f02c784f",
            "c2ca24b9587a48eb98175feb1814c8f9",
            "eb218f8b37924b2ab1701443b578cb0e",
            "e7f6cf72281a4eb7aeee61fcebfb2807",
            "ffb5673920bc4164bb919c872bf5efed",
            "c6e470bee4234bac80a47b0e1859ffaa",
            "f1da10a8d5a040a4a02e7ab7de9d8a12",
            "c9ec198d82ea4ed78da52b06adab6fd0",
            "5596a93d7aa247839b9d6571b6cc783c",
            "03c41067e47a491d9e4e7437a0dd32eb",
            "fe2bfac3730d4189887f77e4f0052051",
            "6b6b414cbe6649fab0cb94e9f1a5337e",
            "4377df8c289a4eaea15119d6f7cc577e",
            "92449f82122c4cbfa5f7450b29543aa6",
            "bfd7efce41bb4540a71d105df3003571",
            "1a9001f1a1a4454a97b6d6f9495a25f8"
          ]
        },
        "id": "jC8Ts1qj5OyU",
        "outputId": "282533bb-98d6-46ba-eec5-1281baf95f8c"
      },
      "outputs": [
        {
          "data": {
            "application/vnd.jupyter.widget-view+json": {
              "model_id": "535dedbd231a49a59c6ac5febb59f2d2",
              "version_major": 2,
              "version_minor": 0
            },
            "text/plain": [
              "Uploading the dataset shards:   0%|          | 0/1 [00:00<?, ?it/s]"
            ]
          },
          "metadata": {},
          "output_type": "display_data"
        },
        {
          "data": {
            "application/vnd.jupyter.widget-view+json": {
              "model_id": "a3d21459c293496eba1bca2fe3e57384",
              "version_major": 2,
              "version_minor": 0
            },
            "text/plain": [
              "Creating parquet from Arrow format:   0%|          | 0/3 [00:00<?, ?ba/s]"
            ]
          },
          "metadata": {},
          "output_type": "display_data"
        },
        {
          "data": {
            "application/vnd.jupyter.widget-view+json": {
              "model_id": "c6e470bee4234bac80a47b0e1859ffaa",
              "version_major": 2,
              "version_minor": 0
            },
            "text/plain": [
              "README.md:   0%|          | 0.00/30.0 [00:00<?, ?B/s]"
            ]
          },
          "metadata": {},
          "output_type": "display_data"
        },
        {
          "data": {
            "text/plain": [
              "Dataset({\n",
              "    features: ['originalFormCode', 'modifiedFormCode', 'removedNodeEnglish', 'removedNodeContextEnglish', 'originalFormAst', 'userPrompt'],\n",
              "    num_rows: 3000\n",
              "})"
            ]
          },
          "execution_count": 60,
          "metadata": {},
          "output_type": "execute_result"
        }
      ],
      "source": [
        "ds = Dataset.from_pandas(examples)\n",
        "ds.push_to_hub(\"guy-or/form-lang-examples\", \"3k_single_omission\")\n",
        "ds"
      ]
    },
    {
      "cell_type": "markdown",
      "id": "f9c2613f-879e-4a67-8216-af5af4a78b6d",
      "metadata": {
        "id": "f9c2613f-879e-4a67-8216-af5af4a78b6d"
      },
      "source": [
        "# Zero-shot evaluation and Training using Llama 3.2-1B as a foundation model\n",
        "\n",
        "We've selected Llama 3.2 1B Instruct as a foundantion model of our experimentation.\n",
        "\n",
        "This is choice is driven by the popularity of the model and the abundace of resources and examples available online. Specifically the 1B version was chosen because it can run on consumer hardware and can be trained on free cloud resources.\n",
        "\n",
        "Another important factor in this choice is Llama's large context size of 128K tokens, this allows us to experiment with large prompts and opens the door for building complex AI agents that can be fed with `FormLang`'s compiler messages and user feedback and adjust their responses.\n",
        "\n",
        "Successfully demonstrating performance improvement after training the 1B version will justify further time and cost investment required for training larger models."
      ]
    },
    {
      "cell_type": "markdown",
      "id": "g1QKKfwHm3I-",
      "metadata": {
        "id": "g1QKKfwHm3I-"
      },
      "source": [
        "## Performance metrics\n",
        "\n",
        "Before attempting to train the model, we want to define perfomance metrics for the code generation task and evaluate the base model performance on some of our data in order to establish a baseline for performance.\n",
        "\n",
        "We will measure 3 metrics:\n",
        "\n",
        "* Accuracy\n",
        "* BLEU\n",
        "* ROUGE\n",
        "\n",
        "BLUE and ROUGE are standard metrics for measuring text generation performance when we want to compare the model's output to a desired output.\n",
        "\n",
        "In the case of code generation, these metrics may not accurately reflect the quality of the model's output when applied to the source code and therefore we will try to apply them both on the serialized AST (in JSON format) of the generated code as well as the code itself and the raw output of the model vs the expected one.\n",
        "\n",
        "**(TBD)** Try CodeBLEU and `apted` for tree edit distance algorithms that might better reflect the model's performance."
      ]
    },
    {
      "cell_type": "markdown",
      "id": "oMYGTbnVzAM7",
      "metadata": {
        "id": "oMYGTbnVzAM7"
      },
      "source": [
        "## Loading the Dataset from HuggingFace using `Datasets`"
      ]
    },
    {
      "cell_type": "markdown",
      "id": "sId22NagWdh_",
      "metadata": {
        "id": "sId22NagWdh_"
      },
      "source": [
        "We load the Dataset from the Hub using `load_dataset` function. The dataset contains the raw user prompt and expected outputs.\n",
        "\n",
        "In the next steps we will use these fields to create a full prompt which includes our system prompt and finally tokenize the prompt in preparation for running the model."
      ]
    },
    {
      "cell_type": "code",
      "execution_count": 20,
      "id": "nZLwM8m1zEAA",
      "metadata": {
        "colab": {
          "base_uri": "https://localhost:8080/"
        },
        "id": "nZLwM8m1zEAA",
        "outputId": "a53f07d9-4049-4c82-cb43-56d97879bf0e"
      },
      "outputs": [
        {
          "output_type": "stream",
          "name": "stderr",
          "text": [
            "/usr/local/lib/python3.11/dist-packages/huggingface_hub/utils/_auth.py:94: UserWarning: \n",
            "The secret `HF_TOKEN` does not exist in your Colab secrets.\n",
            "To authenticate with the Hugging Face Hub, create a token in your settings tab (https://huggingface.co/settings/tokens), set it as secret in your Google Colab and restart your session.\n",
            "You will be able to reuse this secret in all of your notebooks.\n",
            "Please note that authentication is recommended but still optional to access public models or datasets.\n",
            "  warnings.warn(\n"
          ]
        },
        {
          "output_type": "execute_result",
          "data": {
            "text/plain": [
              "Dataset({\n",
              "    features: ['originalFormCode', 'modifiedFormCode', 'removedNodeEnglish', 'removedNodeContextEnglish', 'originalFormAst', 'userPrompt'],\n",
              "    num_rows: 3000\n",
              "})"
            ]
          },
          "metadata": {},
          "execution_count": 20
        }
      ],
      "source": [
        "ds_3k_single_omission = load_dataset(\"guy-or/form-lang-examples\", \"3k_single_omission\")\n",
        "ds_3k_single_omission_all = ds_3k_single_omission['train']\n",
        "ds_3k_single_omission_all"
      ]
    },
    {
      "cell_type": "markdown",
      "id": "qzjmFnQVXMan",
      "metadata": {
        "id": "qzjmFnQVXMan"
      },
      "source": [
        "### Dataset pre-processing"
      ]
    },
    {
      "cell_type": "markdown",
      "id": "3Toq4CzCbSbU",
      "metadata": {
        "id": "3Toq4CzCbSbU"
      },
      "source": [
        "In order to create prompts that effectively describe the task to our Llama 3.2 model, we need to format our prompt in a way that the model was trained to respond to.\n",
        "\n",
        "This is called a [Prompt Template](https://www.llama.com/docs/model-cards-and-prompt-formats/llama3_1/#prompt-template), which consists of a **System prompt** which provides the initial context and guidelines for the model, followed by a **User prompt** containing the request and relevant data."
      ]
    },
    {
      "cell_type": "markdown",
      "id": "uT_enSsLCBAo",
      "metadata": {
        "id": "uT_enSsLCBAo"
      },
      "source": [
        "#### System prompt\n",
        "\n",
        "Our System prompt instructs the LLM to generate the original form (the `originalFormCode` column) given the data present in the user prompt which we already created in the Dataset generation part."
      ]
    },
    {
      "cell_type": "code",
      "execution_count": 21,
      "id": "b4b6667d-4313-4aab-9f4e-03bd9acd00a4",
      "metadata": {
        "id": "b4b6667d-4313-4aab-9f4e-03bd9acd00a4"
      },
      "outputs": [],
      "source": [
        "def get_system_prompt():\n",
        "    return (\n",
        "        \"You are a code generation AI assistant.\\n\"\n",
        "        \"Your job is to generate valid FormLang code according to the instructions given below:\\n\"\n",
        "            \"Inspect the following FormLang Form definition, the start of the code will be denoted with ```FormLang and its end with ``` .\\n\"\n",
        "            \"After inspection, complete the Form's code according to the given a description of a new form element and a description of its location in the form.\\n\"\n",
        "            \"You may assume that the new form element to be added is always either a 'form' or a 'field'.\\n\"\n",
        "            \"Your output must be valid and compiler-friendly FormLang code only.\\n\"\n",
        "            \"If you are unsure of the FormLang syntax, try to infer it from the form code which is given below as an input.\"\n",
        "            \"Your answer will be evaluated using an AST comparison of your code to the expected code.\\n\"\n",
        "            \"Assume that the input code is valid and requires no modification other than the NEW code you must generate.\\n\"\n",
        "            \"You must output plain FormLang code without any additional text or delimiters.\\n\"\n",
        "            \"You must not change any part of the original input code other than adding the required element.\\n\"\n",
        "    )\n",
        "\n"
      ]
    },
    {
      "cell_type": "markdown",
      "id": "40697b6f-c5e8-4a88-9396-1b0e91e07e7a",
      "metadata": {
        "id": "40697b6f-c5e8-4a88-9396-1b0e91e07e7a"
      },
      "source": [
        "#### Creating the full chat prompts"
      ]
    },
    {
      "cell_type": "markdown",
      "id": "lnkpStI-d3Vz",
      "metadata": {
        "id": "lnkpStI-d3Vz"
      },
      "source": [
        "We load Llama's tokenizer using Huggingface `AutoTokenizer` class and leverage its [Chat templates](https://huggingface.co/docs/transformers/v4.48.2/en/chat_templating#introduction) capabilities which exposes a simple API for formatting our prompts into Llama's required Prompt Template.\n",
        "\n",
        "We create a `fullPrompt` column to store the input prompt which contains the templated system and user prompts.\n",
        "\n",
        "Since our model's generated text gets appended (according to the prompt template format) to the input prompt, we also create a `labels` column containing the final expected model output.\n",
        "\n",
        "The special `<|eot_id|>` token signifies the End of Turn. In the Lama 3.1 to 3.3 family of models this token signals to the executor that the model has finished generating a response."
      ]
    },
    {
      "cell_type": "code",
      "execution_count": 22,
      "id": "qNBLUfJV9-gJ",
      "metadata": {
        "id": "qNBLUfJV9-gJ"
      },
      "outputs": [],
      "source": [
        "# Setting the padding side to left for generation - later  on for training we will use right\n",
        "tok = AutoTokenizer.from_pretrained(\"meta-llama/Llama-3.2-1B-Instruct\", padding_side=\"left\")\n",
        "tok.pad_token = \"<|finetune_right_pad_id|>\"\n",
        "\n",
        "def get_chat_prompt(userPrompt):\n",
        "    return [\n",
        "        {\"role\": \"system\", \"content\": get_system_prompt()},\n",
        "        {\"role\": \"user\", \"content\": userPrompt}]\n",
        "\n",
        "def preprocess_func(example, add_generation_prompt=True):\n",
        "    full_prompt = tok.apply_chat_template(get_chat_prompt(example[\"userPrompt\"]), tokenize=False, add_generation_prompt=add_generation_prompt)\n",
        "    expected_output = f\"{full_prompt}{example['originalFormCode']}<|eot_id|>\"\n",
        "    return {\"fullPrompt\": full_prompt, \"labels\": expected_output}\n",
        "\n",
        "# Currently unused\n",
        "def tokenize_func(examples):\n",
        "    return tok(examples[\"fullPrompt\"], return_tensors=\"pt\")"
      ]
    },
    {
      "cell_type": "code",
      "execution_count": 23,
      "id": "Afh4hOg0hnYC",
      "metadata": {
        "colab": {
          "base_uri": "https://localhost:8080/"
        },
        "id": "Afh4hOg0hnYC",
        "outputId": "de75e1af-4392-4618-d960-c9c50da1692f"
      },
      "outputs": [
        {
          "output_type": "execute_result",
          "data": {
            "text/plain": [
              "Dataset({\n",
              "    features: ['originalFormCode', 'modifiedFormCode', 'removedNodeEnglish', 'removedNodeContextEnglish', 'originalFormAst', 'userPrompt', 'fullPrompt', 'labels'],\n",
              "    num_rows: 3000\n",
              "})"
            ]
          },
          "metadata": {},
          "execution_count": 23
        }
      ],
      "source": [
        "ds_3k_full_prompt = ds_3k_single_omission_all.map(preprocess_func, batched=False) # Our preprocess_func doesn't support batch operations\n",
        "#ds_3k_full_prompt = ds_3k_full_prompt.map(tokenize_func, batched=False)\n",
        "#ds_3k_full_prompt.set_format(type=\"torch\", columns=[\"input_ids\", \"attention_mask\"])\n",
        "ds_3k_full_prompt"
      ]
    },
    {
      "cell_type": "code",
      "execution_count": null,
      "id": "33d6w4H0h7pE",
      "metadata": {
        "colab": {
          "base_uri": "https://localhost:8080/",
          "height": 261
        },
        "id": "33d6w4H0h7pE",
        "outputId": "64cececf-00e3-4700-dabc-71a477e1864b"
      },
      "outputs": [
        {
          "data": {
            "text/plain": [
              "('<|begin_of_text|><|start_header_id|>system<|end_header_id|>\\n\\nCutting Knowledge Date: December 2023\\nToday Date: 09 Feb 2025\\n\\nYou are a code generation AI assistant.\\nYour job is to generate valid FormLang code according to the instructions given below:\\nInspect the following FormLang Form definition, the start of the code will be denoted with ```FormLang and its end with ``` .\\nAfter inspection, complete the Form\\'s code according to the given a description of a new form element and a description of its location in the form.\\nYou may assume that the new form element to be added is always either a \\'form\\' or a \\'field\\'.\\nYour output must be valid and compiler-friendly FormLang code only.\\nIf you are unsure of the FormLang syntax, try to infer it from the form code which is given below as an input.Your answer will be evaluated using an AST comparison of your code to the expected code.\\nAssume that the input code is valid and requires no modification other than the NEW code you must generate.\\nYou must output plain FormLang code without any additional text or delimiters.\\nYou must not change any part of the original input code other than adding the required element.<|eot_id|><|start_header_id|>user<|end_header_id|>\\n\\n```FormLang\\n\\n  component userDetailsContainer {}\\n  component formContainer {}\\n  component someOtherContainer {}\\n  component OtherContainer2 {}\\n\\n\\n  component myTextBox {\\n    props {\\n      textColor\\n      textSize\\n      textWeight\\n      borderColor\\n    }\\n  }\\n  component myCheckbox {\\n    props {\\n      size\\n    }\\n  }\\n  component otherTextBox {}\\n  component counter {\\n    props {\\n      style\\n    }\\n  }\\n\\nform Bw {\\n\\tcomp OtherContainer2 \\n\\t\\n\\tfield G {\\n\\t\\tcomp myCheckbox size=\"\\'Hello\\'.toLowerCase()\" as expression\\n\\t\\t\\n\\t}\\n\\tform a {\\n\\t\\tcomp formContainer \\n\\t\\t\\n\\t\\tfield qw {\\n\\t\\t\\tstate boolean[]\\n\\t\\t\\tcomp otherTextBox \\n\\t\\t\\t\\n\\t\\t}\\n\\t\\tfield F__ {\\n\\t\\t\\tcomp myTextBox \\n\\t\\t\\t\\n\\t\\t}\\n\\t\\tfield Y__ {\\n\\t\\t\\tstate string default \"\\'John Streich\\'\" as expression\\n\\t\\t\\tcomp myTextBox \\n\\t\\t\\t\\n\\t\\t}\\n\\t\\tfield S_w {\\n\\t\\t\\tstate string\\n\\t\\t\\tcomp myCheckbox size=\"#121310\"\\n\\t\\t\\t\\n\\t\\t}\\n\\t\\tfield N_ {\\n\\t\\t\\tstate number default \"0.17049162264892637\" as expression\\n\\t\\t\\tcomp counter \\n\\t\\t\\t\\n\\t\\t}\\n\\t}\\n\\n\\tfield pw_wwww_w__ {\\n\\t\\tstate boolean\\n\\t\\tcomp counter \\n\\t\\t\\n\\t}\\n\\tfield J {\\n\\t\\tstate string\\n\\t\\tcomp otherTextBox \\n\\t\\t\\n\\t}\\n}\\n\\n```\\nThe description of the form element you need to add:\\n\\ta field whose id is \\'Z_\\' with state of type: \\'string\\', and is using the component \\'otherTextBox\\'.\\n\\t\\nThe description of the context in the form where you should add the element:\\nThe element to be added:\\n* is a child of the form whose id is \\'Bw\\'.\\n* is located between the field whose id is \\'pw_wwww_w__\\' and the field whose id is \\'J\\'<|eot_id|><|start_header_id|>assistant<|end_header_id|>\\n\\n',\n",
              " '<|begin_of_text|><|start_header_id|>system<|end_header_id|>\\n\\nCutting Knowledge Date: December 2023\\nToday Date: 09 Feb 2025\\n\\nYou are a code generation AI assistant.\\nYour job is to generate valid FormLang code according to the instructions given below:\\nInspect the following FormLang Form definition, the start of the code will be denoted with ```FormLang and its end with ``` .\\nAfter inspection, complete the Form\\'s code according to the given a description of a new form element and a description of its location in the form.\\nYou may assume that the new form element to be added is always either a \\'form\\' or a \\'field\\'.\\nYour output must be valid and compiler-friendly FormLang code only.\\nIf you are unsure of the FormLang syntax, try to infer it from the form code which is given below as an input.Your answer will be evaluated using an AST comparison of your code to the expected code.\\nAssume that the input code is valid and requires no modification other than the NEW code you must generate.\\nYou must output plain FormLang code without any additional text or delimiters.\\nYou must not change any part of the original input code other than adding the required element.<|eot_id|><|start_header_id|>user<|end_header_id|>\\n\\n```FormLang\\n\\n  component userDetailsContainer {}\\n  component formContainer {}\\n  component someOtherContainer {}\\n  component OtherContainer2 {}\\n\\n\\n  component myTextBox {\\n    props {\\n      textColor\\n      textSize\\n      textWeight\\n      borderColor\\n    }\\n  }\\n  component myCheckbox {\\n    props {\\n      size\\n    }\\n  }\\n  component otherTextBox {}\\n  component counter {\\n    props {\\n      style\\n    }\\n  }\\n\\nform Bw {\\n\\tcomp OtherContainer2 \\n\\t\\n\\tfield G {\\n\\t\\tcomp myCheckbox size=\"\\'Hello\\'.toLowerCase()\" as expression\\n\\t\\t\\n\\t}\\n\\tform a {\\n\\t\\tcomp formContainer \\n\\t\\t\\n\\t\\tfield qw {\\n\\t\\t\\tstate boolean[]\\n\\t\\t\\tcomp otherTextBox \\n\\t\\t\\t\\n\\t\\t}\\n\\t\\tfield F__ {\\n\\t\\t\\tcomp myTextBox \\n\\t\\t\\t\\n\\t\\t}\\n\\t\\tfield Y__ {\\n\\t\\t\\tstate string default \"\\'John Streich\\'\" as expression\\n\\t\\t\\tcomp myTextBox \\n\\t\\t\\t\\n\\t\\t}\\n\\t\\tfield S_w {\\n\\t\\t\\tstate string\\n\\t\\t\\tcomp myCheckbox size=\"#121310\"\\n\\t\\t\\t\\n\\t\\t}\\n\\t\\tfield N_ {\\n\\t\\t\\tstate number default \"0.17049162264892637\" as expression\\n\\t\\t\\tcomp counter \\n\\t\\t\\t\\n\\t\\t}\\n\\t}\\n\\n\\tfield pw_wwww_w__ {\\n\\t\\tstate boolean\\n\\t\\tcomp counter \\n\\t\\t\\n\\t}\\n\\tfield J {\\n\\t\\tstate string\\n\\t\\tcomp otherTextBox \\n\\t\\t\\n\\t}\\n}\\n\\n```\\nThe description of the form element you need to add:\\n\\ta field whose id is \\'Z_\\' with state of type: \\'string\\', and is using the component \\'otherTextBox\\'.\\n\\t\\nThe description of the context in the form where you should add the element:\\nThe element to be added:\\n* is a child of the form whose id is \\'Bw\\'.\\n* is located between the field whose id is \\'pw_wwww_w__\\' and the field whose id is \\'J\\'<|eot_id|><|start_header_id|>assistant<|end_header_id|>\\n\\n\\n  component userDetailsContainer {}\\n  component formContainer {}\\n  component someOtherContainer {}\\n  component OtherContainer2 {}\\n\\n\\n  component myTextBox {\\n    props {\\n      textColor\\n      textSize\\n      textWeight\\n      borderColor\\n    }\\n  }\\n  component myCheckbox {\\n    props {\\n      size\\n    }\\n  }\\n  component otherTextBox {}\\n  component counter {\\n    props {\\n      style\\n    }\\n  }\\n\\nform Bw {\\n\\tcomp OtherContainer2 \\n\\t\\n\\tfield G {\\n\\t\\tcomp myCheckbox size=\"\\'Hello\\'.toLowerCase()\" as expression\\n\\t\\t\\n\\t}\\n\\tform a {\\n\\t\\tcomp formContainer \\n\\t\\t\\n\\t\\tfield qw {\\n\\t\\t\\tstate boolean[]\\n\\t\\t\\tcomp otherTextBox \\n\\t\\t\\t\\n\\t\\t}\\n\\t\\tfield F__ {\\n\\t\\t\\tcomp myTextBox \\n\\t\\t\\t\\n\\t\\t}\\n\\t\\tfield Y__ {\\n\\t\\t\\tstate string default \"\\'John Streich\\'\" as expression\\n\\t\\t\\tcomp myTextBox \\n\\t\\t\\t\\n\\t\\t}\\n\\t\\tfield S_w {\\n\\t\\t\\tstate string\\n\\t\\t\\tcomp myCheckbox size=\"#121310\"\\n\\t\\t\\t\\n\\t\\t}\\n\\t\\tfield N_ {\\n\\t\\t\\tstate number default \"0.17049162264892637\" as expression\\n\\t\\t\\tcomp counter \\n\\t\\t\\t\\n\\t\\t}\\n\\t}\\n\\n\\tfield pw_wwww_w__ {\\n\\t\\tstate boolean\\n\\t\\tcomp counter \\n\\t\\t\\n\\t}\\n\\tfield Z_ {\\n\\t\\tstate string\\n\\t\\tcomp otherTextBox \\n\\t\\t\\n\\t}\\n\\tfield J {\\n\\t\\tstate string\\n\\t\\tcomp otherTextBox \\n\\t\\t\\n\\t}\\n}\\n<|eot_id|>')"
            ]
          },
          "execution_count": 73,
          "metadata": {},
          "output_type": "execute_result"
        }
      ],
      "source": [
        "ds_3k_full_prompt[0]['fullPrompt'],ds_3k_full_prompt[0]['labels']"
      ]
    },
    {
      "cell_type": "markdown",
      "id": "0432f3f4-e868-4d72-926c-07295a3b9da4",
      "metadata": {
        "id": "0432f3f4-e868-4d72-926c-07295a3b9da4"
      },
      "source": [
        "#### Creating the Train Validation Test split\n",
        "\n",
        "We allocate 80% for training and 10% for test and validation each.\n",
        "\n",
        "Since we are able to generate arbitrarily large amounts of data with different distributions, these percentages does not matter too much."
      ]
    },
    {
      "cell_type": "code",
      "execution_count": 24,
      "id": "847ecac0-2670-44c9-a532-a3b5cb871d65",
      "metadata": {
        "colab": {
          "base_uri": "https://localhost:8080/"
        },
        "id": "847ecac0-2670-44c9-a532-a3b5cb871d65",
        "outputId": "65c01002-d4cd-4893-99c4-edb07e263426"
      },
      "outputs": [
        {
          "output_type": "execute_result",
          "data": {
            "text/plain": [
              "(Dataset({\n",
              "     features: ['originalFormCode', 'modifiedFormCode', 'removedNodeEnglish', 'removedNodeContextEnglish', 'originalFormAst', 'userPrompt', 'fullPrompt', 'labels'],\n",
              "     num_rows: 2400\n",
              " }),\n",
              " Dataset({\n",
              "     features: ['originalFormCode', 'modifiedFormCode', 'removedNodeEnglish', 'removedNodeContextEnglish', 'originalFormAst', 'userPrompt', 'fullPrompt', 'labels'],\n",
              "     num_rows: 300\n",
              " }),\n",
              " Dataset({\n",
              "     features: ['originalFormCode', 'modifiedFormCode', 'removedNodeEnglish', 'removedNodeContextEnglish', 'originalFormAst', 'userPrompt', 'fullPrompt', 'labels'],\n",
              "     num_rows: 300\n",
              " }))"
            ]
          },
          "metadata": {},
          "execution_count": 24
        }
      ],
      "source": [
        "def create_train_validation_test_split(dataset, test_size):\n",
        "    splits = dataset.train_test_split(test_size=test_size)\n",
        "    test_splits = splits[\"test\"].train_test_split(test_size=0.5) # Split so that test and validation sizes are equal\n",
        "    return {\"train\": splits[\"train\"], \"test\": test_splits[\"train\"], \"validation\": test_splits[\"test\"]}\n",
        "\n",
        "ds_3k_splits = create_train_validation_test_split(ds_3k_full_prompt, 0.2)\n",
        "ds_3k_train, ds_3k_test, ds_3k_val = ds_3k_splits[\"train\"], ds_3k_splits[\"test\"], ds_3k_splits[\"validation\"]\n",
        "ds_3k_train, ds_3k_test, ds_3k_val"
      ]
    },
    {
      "cell_type": "markdown",
      "id": "4GkOV4EcDMYD",
      "metadata": {
        "id": "4GkOV4EcDMYD"
      },
      "source": [
        "## Utils\n",
        "\n",
        "We create several utility functions for pre and post processing the prompt data"
      ]
    },
    {
      "cell_type": "markdown",
      "id": "1XxQP8khpJxw",
      "metadata": {
        "id": "1XxQP8khpJxw"
      },
      "source": [
        "### Extracting the model's response from the output text\n",
        "\n",
        "Our model's raw output is a concatenation of the input and the generated text following Llama's Prompt Template semantics.\n",
        "\n",
        "In order to extract the generated code we first need to identify the model's latest response by extracting all the text between the special `<|start_header_id|>assistant<|end_header_id|>` and `<|eot_id|>` tokens."
      ]
    },
    {
      "cell_type": "code",
      "execution_count": 25,
      "id": "soI2wI4rpyjG",
      "metadata": {
        "id": "soI2wI4rpyjG"
      },
      "outputs": [],
      "source": [
        "# prompt: Create a function that accepts the output text and extracts all the text starting at the LATEST OCCURRENCE of \"<|start_header_id|>assistant<|end_header_id|>\" and ends with \"<|eot_id|>\"\n",
        "\n",
        "def exatract_latest_assistant_response(text):\n",
        "    \"\"\"\n",
        "    Extracts the model's response from the output text.\n",
        "\n",
        "    Args:\n",
        "        text: The output text from the model.\n",
        "\n",
        "    Returns:\n",
        "        The extracted model response, or None if no response is found.\n",
        "    \"\"\"\n",
        "    match = re.findall(r\"<\\|start_header_id\\|>assistant<\\|end_header_id\\|>(.*?)<\\|eot_id\\|>\", text, re.DOTALL)\n",
        "    if match:\n",
        "        return match[-1].strip()  # Return the latest occurrence\n",
        "    else:\n",
        "        return None\n"
      ]
    },
    {
      "cell_type": "markdown",
      "id": "cbbd5154-6661-46d9-b02b-704e6628b096",
      "metadata": {
        "id": "cbbd5154-6661-46d9-b02b-704e6628b096"
      },
      "source": [
        "### Extracting FormLang code from LLM output\n",
        "\n",
        "The LLM might ignore the instruction to output plain code without the \"```FormLang\" delimiter, in that case we should try to extract the contents."
      ]
    },
    {
      "cell_type": "code",
      "execution_count": 26,
      "id": "9fa8d994-82ce-4274-a2e1-016230ec5301",
      "metadata": {
        "id": "9fa8d994-82ce-4274-a2e1-016230ec5301"
      },
      "outputs": [],
      "source": [
        "def extract_code_block(text, lang):\n",
        "  \"\"\"\n",
        "  Extracts a code block from a string.\n",
        "\n",
        "  Args:\n",
        "    text: The string containing the code block.\n",
        "    lang: The name of the language the code block is written in.\n",
        "\n",
        "  Returns:\n",
        "    The code block, or None if no code block is found.\n",
        "  \"\"\"\n",
        "  if text is None:\n",
        "    return None\n",
        "  pattern = f\"```{lang}\\n(.*?)```\"\n",
        "  match = re.search(pattern, text, re.DOTALL)\n",
        "  if match:\n",
        "    return match.group(1).strip()\n",
        "  return None\n",
        "\n",
        "def extract_llm_formlang_output(text):\n",
        "    # Strip leading and trailing whitespace and check for delimiters\n",
        "    text = text.strip()\n",
        "    assistant_response = exatract_latest_assistant_response(text)\n",
        "    return extract_code_block(assistant_response, \"FormLang\") or assistant_response"
      ]
    },
    {
      "cell_type": "markdown",
      "id": "5a1d4df7-8c7c-4667-937c-dae80a2421bc",
      "metadata": {
        "id": "5a1d4df7-8c7c-4667-937c-dae80a2421bc"
      },
      "source": [
        "### Running inference on a single example"
      ]
    },
    {
      "cell_type": "code",
      "execution_count": 27,
      "id": "8885d2d6-048d-42f6-be9e-1c6debb3cd1c",
      "metadata": {
        "id": "8885d2d6-048d-42f6-be9e-1c6debb3cd1c"
      },
      "outputs": [],
      "source": [
        "def clear_mem():\n",
        "    \"\"\"Clear unused GPU memory used by the python process\"\"\"\n",
        "    import gc\n",
        "    gc.collect()\n",
        "    torch.cuda.empty_cache()"
      ]
    },
    {
      "cell_type": "code",
      "execution_count": 28,
      "id": "gdDNgUBRNG1_",
      "metadata": {
        "id": "gdDNgUBRNG1_"
      },
      "outputs": [],
      "source": [
        "def run_inference(model, tok, example, cuda=True):\n",
        "    \"\"\"Runs pre-processing, inference and post-processing on a single example.\"\"\"\n",
        "    example_inputs = tok(example, return_tensors=\"pt\")\n",
        "    if cuda:\n",
        "        example_inputs = example_inputs.to(\"cuda\")\n",
        "    with torch.no_grad():\n",
        "      example_outputs = model.generate(**example_inputs, max_new_tokens=10000)\n",
        "    generated_text = tok.decode(example_outputs[0], skip_special_tokens=False)\n",
        "    del example_inputs\n",
        "    del example_outputs\n",
        "    generated_code = extract_llm_formlang_output(generated_text)\n",
        "    ast = get_ast(generated_code)\n",
        "    return {\"generated_code\": generated_code, \"generated_text\": generated_text, \"ast\": ast}"
      ]
    },
    {
      "cell_type": "markdown",
      "id": "NFAumI6WDQV-",
      "metadata": {
        "id": "NFAumI6WDQV-"
      },
      "source": [
        "## Zero-shot evaluation of Llama 3.2 1B using Transformers and Evaluate"
      ]
    },
    {
      "cell_type": "markdown",
      "id": "e5d51075-8c30-4ed8-8cea-5c6805239d4e",
      "metadata": {
        "id": "e5d51075-8c30-4ed8-8cea-5c6805239d4e"
      },
      "source": [
        "### Loading the metrics and creating evaluators"
      ]
    },
    {
      "cell_type": "markdown",
      "id": "cce15550-1375-401c-903e-26fb6fb61ea2",
      "metadata": {
        "id": "cce15550-1375-401c-903e-26fb6fb61ea2"
      },
      "source": [
        "We load the evaluators for BLEU, ROUGE and Accuracy (using the \"exact match\" metric since our data is text)."
      ]
    },
    {
      "cell_type": "code",
      "execution_count": 29,
      "id": "6202918f-765e-43fd-8deb-8f341cfc6af4",
      "metadata": {
        "id": "6202918f-765e-43fd-8deb-8f341cfc6af4"
      },
      "outputs": [],
      "source": [
        "def get_all_metrics():\n",
        "    bleu_metric = evaluate.load(\"bleu\", module_type=\"metric\")\n",
        "    rouge_metric = evaluate.load(\"rouge\", module_type=\"metric\")\n",
        "    exact_match_metric = evaluate.load(\"exact_match\", module_type=\"metric\")\n",
        "    all_metrics = evaluate.combine([bleu_metric, rouge_metric, exact_match_metric])\n",
        "    return all_metrics"
      ]
    },
    {
      "cell_type": "code",
      "execution_count": null,
      "id": "cfa8bce5-b3a4-46e5-b676-a7543d12f2de",
      "metadata": {
        "id": "cfa8bce5-b3a4-46e5-b676-a7543d12f2de"
      },
      "outputs": [],
      "source": [
        "all_metrics = get_all_metrics()"
      ]
    },
    {
      "cell_type": "markdown",
      "id": "84c1cda0-e1dd-4e27-a0e4-ea8cb2fc42c6",
      "metadata": {
        "id": "84c1cda0-e1dd-4e27-a0e4-ea8cb2fc42c6"
      },
      "source": [
        "As an example to test the reliability of our metrics (specifically the BLEU and ROUGE scores), we check their values on a single example in the dataset,\n",
        "\n",
        "First, applied to the expected raw output of the model comparted to our prompt and\n",
        "\n",
        "Second, applied to the original form code and the modified form code.\n",
        "\n",
        "Third, between the ASTs of the original form and the modified form."
      ]
    },
    {
      "cell_type": "code",
      "execution_count": null,
      "id": "26a4c536-110d-4524-b477-ae05e89e2ee0",
      "metadata": {
        "id": "26a4c536-110d-4524-b477-ae05e89e2ee0",
        "outputId": "ecb1b3ad-6f44-4747-8270-1b67ac7581a8"
      },
      "outputs": [
        {
          "data": {
            "text/plain": [
              "{'bleu': 0.8394570207692074,\n",
              " 'precisions': [1.0, 1.0, 1.0, 1.0],\n",
              " 'brevity_penalty': 0.8394570207692074,\n",
              " 'length_ratio': 0.851063829787234,\n",
              " 'translation_length': 440,\n",
              " 'reference_length': 517,\n",
              " 'rouge1': np.float64(0.9401459854014599),\n",
              " 'rouge2': np.float64(0.9399707174231332),\n",
              " 'rougeL': np.float64(0.9401459854014599),\n",
              " 'rougeLsum': np.float64(0.9401459854014599),\n",
              " 'exact_match': np.float64(0.0)}"
            ]
          },
          "execution_count": 108,
          "metadata": {},
          "output_type": "execute_result"
        }
      ],
      "source": [
        "all_metrics.compute(references=[ds_3k_train[0][\"labels\"]], predictions=[ds_3k_train[0][\"fullPrompt\"]])"
      ]
    },
    {
      "cell_type": "code",
      "execution_count": null,
      "id": "rCSLQs0vEFdO",
      "metadata": {
        "colab": {
          "base_uri": "https://localhost:8080/"
        },
        "id": "rCSLQs0vEFdO",
        "outputId": "e4905dab-aad1-42d1-ede3-ee08579fe065"
      },
      "outputs": [
        {
          "data": {
            "text/plain": [
              "{'bleu': 0.35590702586152256,\n",
              " 'precisions': [1.0,\n",
              "  0.9811320754716981,\n",
              "  0.9807692307692307,\n",
              "  0.9803921568627451],\n",
              " 'brevity_penalty': 0.3611295508093596,\n",
              " 'length_ratio': 0.4954128440366973,\n",
              " 'translation_length': 54,\n",
              " 'reference_length': 109,\n",
              " 'rouge1': 0.6666666666666666,\n",
              " 'rouge2': 0.6588235294117647,\n",
              " 'rougeL': 0.6666666666666666,\n",
              " 'rougeLsum': 0.6666666666666666,\n",
              " 'exact_match': 0.0}"
            ]
          },
          "execution_count": 79,
          "metadata": {},
          "output_type": "execute_result"
        }
      ],
      "source": [
        "all_metrics.compute(references=[ds_3k_train[0][\"originalFormCode\"]], predictions=[ds_3k_train[0][\"modifiedFormCode\"]])"
      ]
    },
    {
      "cell_type": "code",
      "execution_count": null,
      "id": "9c01419e-6faa-45c7-a04d-d034b314e82a",
      "metadata": {
        "id": "9c01419e-6faa-45c7-a04d-d034b314e82a",
        "outputId": "73570314-daf5-4320-f5d4-c23f7f852b6e"
      },
      "outputs": [
        {
          "data": {
            "text/plain": [
              "{'bleu': 0.6076249287142229,\n",
              " 'precisions': [0.9950248756218906,\n",
              "  0.98,\n",
              "  0.964824120603015,\n",
              "  0.9595959595959596],\n",
              " 'brevity_penalty': 0.6233564232002683,\n",
              " 'length_ratio': 0.6790540540540541,\n",
              " 'translation_length': 201,\n",
              " 'reference_length': 296,\n",
              " 'rouge1': np.float64(0.7945205479452055),\n",
              " 'rouge2': np.float64(0.7887323943661971),\n",
              " 'rougeL': np.float64(0.7945205479452055),\n",
              " 'rougeLsum': np.float64(0.7945205479452055),\n",
              " 'exact_match': np.float64(0.0)}"
            ]
          },
          "execution_count": 110,
          "metadata": {},
          "output_type": "execute_result"
        }
      ],
      "source": [
        "all_metrics.compute(references=[json.dumps(ds_3k_train[0][\"originalFormAst\"])],\n",
        "                    predictions=[json.dumps(get_ast(ds_3k_train[0][\"modifiedFormCode\"]))])"
      ]
    },
    {
      "cell_type": "markdown",
      "id": "c4405479-a58e-4b51-93ce-97e0fc923770",
      "metadata": {
        "id": "c4405479-a58e-4b51-93ce-97e0fc923770"
      },
      "source": [
        "As we can see, except for the `exact_match` score, our input is very \"similar\" to our expected output with the raw prompt comparison yielding scores above 50% except for the source code comparison in the BLEU metric.\n",
        "\n",
        "This could mean on one hand that our trained model would have to exhibit scores that are very close to 100% in order to demonstrate a significant improvement,\n",
        "\n",
        "and on the other hand scores that are far below the above scores are probably very bad even if they are above 50%.\n",
        "\n",
        "It also gives us a good intution that comparing the source codes rather than their ASTs is a better option.\n",
        "\n",
        "We might also need to adjust our data generation algorithm to remove more nodes from the form (instead of a single omission algorithm for our example dataset).\n",
        "\n",
        "In order to get a better sense of the baseline similarity in our dataset we plot a historam of the BLEU and ROUGE scores applied to the AST and the prompts and compute the medians."
      ]
    },
    {
      "cell_type": "code",
      "execution_count": null,
      "id": "1d6faa7c-ee49-4b29-9203-13941133eec5",
      "metadata": {
        "id": "1d6faa7c-ee49-4b29-9203-13941133eec5"
      },
      "outputs": [],
      "source": [
        "## TODO - Draw histogram plots and compute medians"
      ]
    },
    {
      "cell_type": "code",
      "execution_count": 30,
      "id": "7amEKRRD_nYy",
      "metadata": {
        "id": "7amEKRRD_nYy"
      },
      "outputs": [],
      "source": [
        "def evaluate_model(model, tokenizer, raw_text_evaluations, source_code_evaluations, ast_evaluations, dataset, batch_size=10, max_new_tokens=1000):\n",
        "  model.generation_config.pad_token_id = tokenizer.pad_token_id\n",
        "  model.eval()\n",
        "  all_predictions = []\n",
        "\n",
        "  def evaluate_batch(batch):\n",
        "    inputs = tokenizer(batch[\"fullPrompt\"], return_tensors=\"pt\", padding=True, truncation=False)\n",
        "    input_ids = inputs[\"input_ids\"].to(\"cuda\")\n",
        "    attention_mask = inputs[\"attention_mask\"].to(\"cuda\")\n",
        "    with torch.no_grad():\n",
        "        t0 = time.time()\n",
        "        print(\"generating\")\n",
        "        outputs = model.generate(input_ids=input_ids, attention_mask=attention_mask, max_new_tokens=max_new_tokens)\n",
        "        print(f\"batch generated. took {time.time() - t0} seconds\")\n",
        "    # Evaluate the raw model output - We dont skip special tokens because we need them to know how to extract the LLMs latest response\n",
        "    predictions = tokenizer.batch_decode(outputs, skip_special_tokens=False)\n",
        "    all_predictions.extend(predictions)\n",
        "    print(\"decoded\")\n",
        "    references = [target for target in batch[\"labels\"]]\n",
        "    raw_text_evaluations.add_batch(predictions=predictions, references=references)\n",
        "    # Evaluate the source code output\n",
        "    form_lang_predictions = [extract_llm_formlang_output(output) or \"\" for output in predictions]\n",
        "    form_lang_references = [original_code for original_code in batch[\"originalFormCode\"]]\n",
        "    source_code_evaluations.add_batch(predictions=form_lang_predictions, references=form_lang_references)\n",
        "    # Evaluate the AST output - TODO Deal with errors\n",
        "    #ast_predictions = [json.dumps(get_ast(code)) for code in form_lang_predictions]\n",
        "    #ast_references = [ast for ast in batch[\"originalFormAst\"]]\n",
        "    #ast_evaluations.add_batch(predictions=ast_predictions, references=ast_references)\n",
        "    # Free GPU memory\n",
        "    print(\"added to eval\")\n",
        "    del outputs\n",
        "    del input_ids\n",
        "    del attention_mask\n",
        "\n",
        "  for batch in tqdm(dataset.iter(batch_size)):\n",
        "    evaluate_batch(batch)\n",
        "\n",
        "  return raw_text_evaluations, source_code_evaluations, ast_evaluations, all_predictions\n"
      ]
    },
    {
      "cell_type": "code",
      "execution_count": 40,
      "id": "0c4ca4a5-f457-416b-b708-ca06b638276f",
      "metadata": {
        "colab": {
          "base_uri": "https://localhost:8080/"
        },
        "id": "0c4ca4a5-f457-416b-b708-ca06b638276f",
        "outputId": "fd48fc38-735c-4976-be8a-f782b5d63f52"
      },
      "outputs": [
        {
          "output_type": "execute_result",
          "data": {
            "text/plain": [
              "torch.Size([50, 1024])"
            ]
          },
          "metadata": {},
          "execution_count": 40
        }
      ],
      "source": [
        "inputs = tok(first_examples[\"fullPrompt\"], return_tensors=\"pt\", padding=True, truncation=False, pad_to_multiple_of=1024) # TODO LOOK INTO pad_to_multiple_of\n",
        "inputs.input_ids.shape"
      ]
    },
    {
      "cell_type": "code",
      "execution_count": null,
      "id": "0cc31ced-e037-4909-aa5c-b5ff9291ee3e",
      "metadata": {
        "id": "0cc31ced-e037-4909-aa5c-b5ff9291ee3e",
        "outputId": "ac03fd64-2c4b-4ba9-b2c0-9cabaa5721c3"
      },
      "outputs": [
        {
          "data": {
            "text/plain": [
              "torch.int64"
            ]
          },
          "execution_count": 30,
          "metadata": {},
          "output_type": "execute_result"
        }
      ],
      "source": [
        "inputs.input_ids"
      ]
    },
    {
      "cell_type": "code",
      "execution_count": null,
      "id": "67b10b45-d0f7-4a74-bce4-6d5869f24b6e",
      "metadata": {
        "id": "67b10b45-d0f7-4a74-bce4-6d5869f24b6e"
      },
      "outputs": [],
      "source": [
        "# del input_ids\n",
        "# del attention_mask\n",
        "del llama3_model\n",
        "clear_mem()\n"
      ]
    },
    {
      "cell_type": "code",
      "execution_count": 38,
      "id": "1bf8529b-dd22-47f7-bd8f-e39e019d7a37",
      "metadata": {
        "colab": {
          "base_uri": "https://localhost:8080/"
        },
        "id": "1bf8529b-dd22-47f7-bd8f-e39e019d7a37",
        "outputId": "1a63f2e3-c26a-45ef-c129-1822f78d8a83"
      },
      "outputs": [
        {
          "output_type": "stream",
          "name": "stderr",
          "text": [
            "/usr/local/lib/python3.11/dist-packages/torch/utils/cpp_extension.py:2059: UserWarning: TORCH_CUDA_ARCH_LIST is not set, all archs for visible cards are included for compilation. \n",
            "If this is not desired, please set os.environ['TORCH_CUDA_ARCH_LIST'].\n",
            "  warnings.warn(\n"
          ]
        },
        {
          "output_type": "stream",
          "name": "stdout",
          "text": [
            "250.4206337928772 torch.Size([50, 1973])\n"
          ]
        }
      ],
      "source": [
        "with torch.no_grad():\n",
        "    t0 = time.time()\n",
        "    outputs = None\n",
        "    input_ids = None\n",
        "    attention_mask = None\n",
        "    llama3_model.eval()\n",
        "    try:\n",
        "        input_ids = inputs[\"input_ids\"].to(\"cuda\")\n",
        "        attention_mask = inputs[\"attention_mask\"].to(\"cuda\")\n",
        "        outputs = llama3_model.generate(input_ids=input_ids, attention_mask=attention_mask, max_new_tokens=1000)\n",
        "        print(f\"{time.time() -t0} {outputs.shape}\")\n",
        "    except:\n",
        "        print(\"got exception\")\n",
        "        import traceback\n",
        "        traceback.print_exc()\n",
        "    finally:\n",
        "        del input_ids\n",
        "        del attention_mask\n",
        "        del outputs"
      ]
    },
    {
      "cell_type": "markdown",
      "id": "ed16a047-3a63-4d1a-afbd-e51383f12eb7",
      "metadata": {
        "id": "ed16a047-3a63-4d1a-afbd-e51383f12eb7"
      },
      "source": [
        "### Zero-shot evaluation with the original Meta version\n",
        "\n",
        "We the original Llama 3.2 1B model available from Meta and run an evaluation over our validation dataset"
      ]
    },
    {
      "cell_type": "code",
      "execution_count": 31,
      "id": "VvxfcCRFMAPE",
      "metadata": {
        "id": "VvxfcCRFMAPE"
      },
      "outputs": [],
      "source": [
        "llama3_model = AutoModelForCausalLM.from_pretrained(\n",
        "    \"meta-llama/Llama-3.2-1B-Instruct\",\n",
        "    torch_dtype=torch.bfloat16,\n",
        "    device_map=\"cuda\",\n",
        "    attn_implementation=\"flash_attention_2\"\n",
        ")\n",
        "llama3_model.generation_config.pad_token_id = tok.pad_token_id"
      ]
    },
    {
      "cell_type": "code",
      "source": [
        "# Configure Quantized Cache\n",
        "quantized_cache_config = QuantizedCacheConfig(\n",
        "    nbits=4,  # Use 4-bit quantization\n",
        "    q_group_size=64,  # Adjust if necessary\n",
        "    residual_length=128,  # Adjust if necessary\n",
        ")\n",
        "llama3_model.generation_config.cache_implementation = \"quantized\"\n",
        "llama3_model.generation_config.quantized_cache_config = quantized_cache_config"
      ],
      "metadata": {
        "id": "nSXX6NSNZytQ"
      },
      "id": "nSXX6NSNZytQ",
      "execution_count": 32,
      "outputs": []
    },
    {
      "cell_type": "code",
      "source": [
        "print(llama3_model.generation_config.cache_implementation)"
      ],
      "metadata": {
        "id": "I3zm2Px6UHFI",
        "outputId": "14152311-0c22-4e97-ba65-55e4695b9d93",
        "colab": {
          "base_uri": "https://localhost:8080/"
        }
      },
      "id": "I3zm2Px6UHFI",
      "execution_count": 35,
      "outputs": [
        {
          "output_type": "stream",
          "name": "stdout",
          "text": [
            "quantized\n"
          ]
        }
      ]
    },
    {
      "cell_type": "markdown",
      "id": "LMps8Mv4Gge7",
      "metadata": {
        "id": "LMps8Mv4Gge7"
      },
      "source": [
        "Trying to evaluate the first 50 examples in our validation dataset"
      ]
    },
    {
      "cell_type": "code",
      "execution_count": 33,
      "id": "8b129cc6-ecde-4baf-8730-b61fc58e4959",
      "metadata": {
        "id": "8b129cc6-ecde-4baf-8730-b61fc58e4959"
      },
      "outputs": [],
      "source": [
        "first_examples = ds_3k_val.train_test_split(test_size=(50/300))[\"test\"]"
      ]
    },
    {
      "cell_type": "code",
      "execution_count": 46,
      "id": "fj0v0KdMGXYP",
      "metadata": {
        "colab": {
          "base_uri": "https://localhost:8080/",
          "height": 118,
          "referenced_widgets": [
            "dd37d50e81cb4ad6bc56d07def935dcb",
            "d53e05570125476fa99b216b345b2c50",
            "c5ec237d910040ed88bdef2d80d75865",
            "74ce53ea4dce413babd71bc320bc6d54",
            "30bd9ff702804075928397945f6fd3ad",
            "d884bae849954055b0facc7490f2abb1",
            "71eb44d6571b435992986d2ec785348e",
            "76945c48e31044019a6ed102bc6783c5",
            "c0dc9600e2454358b6e695e4f7225651",
            "451f25f0529f4e05babccdf4ad2ed894",
            "8dd70c672e1d46669163d3ac38fb22c3"
          ]
        },
        "id": "fj0v0KdMGXYP",
        "outputId": "e7c33abf-b5f2-45d2-e821-f68e38803734"
      },
      "outputs": [
        {
          "output_type": "display_data",
          "data": {
            "text/plain": [
              "0it [00:00, ?it/s]"
            ],
            "application/vnd.jupyter.widget-view+json": {
              "version_major": 2,
              "version_minor": 0,
              "model_id": "dd37d50e81cb4ad6bc56d07def935dcb"
            }
          },
          "metadata": {}
        },
        {
          "output_type": "stream",
          "name": "stdout",
          "text": [
            "generating\n",
            "batch generated. took 163.32159686088562 seconds\n",
            "decoded\n",
            "added to eval\n"
          ]
        }
      ],
      "source": [
        "raw_text_evaluations, source_code_evaluations, ast_evaluations, all_predictions = evaluate_model(llama3_model, tok, get_all_metrics(), get_all_metrics(), get_all_metrics(), first_examples, batch_size=50)"
      ]
    },
    {
      "cell_type": "code",
      "source": [
        "print(extract_llm_formlang_output(all_predictions[0]))"
      ],
      "metadata": {
        "colab": {
          "base_uri": "https://localhost:8080/"
        },
        "id": "PeZoH4VGJjOw",
        "outputId": "ec6bf0a7-02ac-4a53-fad6-ff56e186a509"
      },
      "id": "PeZoH4VGJjOw",
      "execution_count": 48,
      "outputs": [
        {
          "output_type": "stream",
          "name": "stdout",
          "text": [
            "component userDetailsContainer {}\n",
            "  component formContainer {}\n",
            "  component someOtherContainer {}\n",
            "  component OtherContainer2 {}\n",
            "\n",
            "\n",
            "  component myTextBox {\n",
            "    props {\n",
            "      textColor\n",
            "      textSize\n",
            "      textWeight\n",
            "      borderColor\n",
            "    }\n",
            "  }\n",
            "  component myCheckbox {\n",
            "    props {\n",
            "      size\n",
            "    }\n",
            "  }\n",
            "  component otherTextBox {}\n",
            "  component counter {\n",
            "    props {\n",
            "      style\n",
            "    }\n",
            "  }\n",
            "\n",
            "  component userDetailsContainer {\n",
            "    id: 'ww'\n",
            "    form: k\n",
            "  }\n"
          ]
        }
      ]
    },
    {
      "cell_type": "code",
      "source": [
        "print(extract_llm_formlang_output(first_examples[0][\"labels\"]))"
      ],
      "metadata": {
        "colab": {
          "base_uri": "https://localhost:8080/"
        },
        "id": "xMC0lww8Jzsi",
        "outputId": "d27a1114-e7e6-4a21-d57b-8be04e20fe3b"
      },
      "id": "xMC0lww8Jzsi",
      "execution_count": 49,
      "outputs": [
        {
          "output_type": "stream",
          "name": "stdout",
          "text": [
            "component userDetailsContainer {}\n",
            "  component formContainer {}\n",
            "  component someOtherContainer {}\n",
            "  component OtherContainer2 {}\n",
            "\n",
            "\n",
            "  component myTextBox {\n",
            "    props {\n",
            "      textColor\n",
            "      textSize\n",
            "      textWeight\n",
            "      borderColor\n",
            "    }\n",
            "  }\n",
            "  component myCheckbox {\n",
            "    props {\n",
            "      size\n",
            "    }\n",
            "  }\n",
            "  component otherTextBox {}\n",
            "  component counter {\n",
            "    props {\n",
            "      style\n",
            "    }\n",
            "  }\n",
            "\n",
            "form k {\n",
            "\tcomp userDetailsContainer \n",
            "\t\n",
            "\tfield ww {\n",
            "\t\tcomp myCheckbox \n",
            "\t\t\n",
            "\t}\n",
            "}\n"
          ]
        }
      ]
    },
    {
      "cell_type": "code",
      "execution_count": 50,
      "id": "_UMYTlUDQwii",
      "metadata": {
        "colab": {
          "base_uri": "https://localhost:8080/"
        },
        "id": "_UMYTlUDQwii",
        "outputId": "560d5bf5-8648-4e3d-94f6-e51904520def"
      },
      "outputs": [
        {
          "output_type": "execute_result",
          "data": {
            "text/plain": [
              "{'bleu': 0.03946672285754843,\n",
              " 'precisions': [0.040198179121407496,\n",
              "  0.03963700156965164,\n",
              "  0.03920886732470473,\n",
              "  0.03883584799536603],\n",
              " 'brevity_penalty': 1.0,\n",
              " 'length_ratio': 24.4917479149536,\n",
              " 'translation_length': 833993,\n",
              " 'reference_length': 34052,\n",
              " 'rouge1': 0.14809094701364994,\n",
              " 'rouge2': 0.14598084936331113,\n",
              " 'rougeL': 0.14732735040513995,\n",
              " 'rougeLsum': 0.14756013607628932,\n",
              " 'exact_match': 0.0}"
            ]
          },
          "metadata": {},
          "execution_count": 50
        }
      ],
      "source": [
        "raw_text_evaluations.compute()"
      ]
    },
    {
      "cell_type": "code",
      "execution_count": 51,
      "id": "bEUYh5MJQzHh",
      "metadata": {
        "colab": {
          "base_uri": "https://localhost:8080/"
        },
        "id": "bEUYh5MJQzHh",
        "outputId": "2ab68aa5-ad8e-4c7a-890a-d1bf278f71fa"
      },
      "outputs": [
        {
          "output_type": "execute_result",
          "data": {
            "text/plain": [
              "{'bleu': 0.8008252021535234,\n",
              " 'precisions': [0.8904264332109574,\n",
              "  0.8615100241717617,\n",
              "  0.8370561282932417,\n",
              "  0.8184571016582552],\n",
              " 'brevity_penalty': 0.9405578486866412,\n",
              " 'length_ratio': 0.9422565194252261,\n",
              " 'translation_length': 7082,\n",
              " 'reference_length': 7516,\n",
              " 'rouge1': 0.8845505803496445,\n",
              " 'rouge2': 0.841231434079853,\n",
              " 'rougeL': 0.8519640930950236,\n",
              " 'rougeLsum': 0.8853571073555364,\n",
              " 'exact_match': 0.0}"
            ]
          },
          "metadata": {},
          "execution_count": 51
        }
      ],
      "source": [
        "source_code_evaluations.compute()"
      ]
    },
    {
      "cell_type": "code",
      "execution_count": null,
      "id": "ur8dL6-uQ8zf",
      "metadata": {
        "id": "ur8dL6-uQ8zf"
      },
      "outputs": [],
      "source": [
        "# TODO\n",
        "ast_evaluations.compute()"
      ]
    },
    {
      "cell_type": "code",
      "execution_count": null,
      "id": "7c4e3930-67ed-403a-9a01-12397f70cd3e",
      "metadata": {
        "id": "7c4e3930-67ed-403a-9a01-12397f70cd3e"
      },
      "outputs": [],
      "source": [
        "del llama3_model\n",
        "clear_mem()"
      ]
    },
    {
      "cell_type": "markdown",
      "id": "Gle4vtFvsJUB",
      "metadata": {
        "id": "Gle4vtFvsJUB"
      },
      "source": [
        "### Zero-shot evaluation with Unsolth's 4-bit Quantized version of the model"
      ]
    },
    {
      "cell_type": "code",
      "execution_count": null,
      "id": "cceceb71-4287-427b-bcd4-dd009c7e6744",
      "metadata": {
        "colab": {
          "base_uri": "https://localhost:8080/",
          "height": 130,
          "referenced_widgets": [
            "36db6ed16cc6446495e2c88695633d39",
            "555792f6f77a4d1abe21c3082d794e5e",
            "8584de921576490aa966a3350702a12f",
            "08e6378232144da4a6fc4ed4c2fc2b35",
            "0c295c0e2dc04606a82335226722ed70",
            "655cfb30eab5486496f3531791e9cc3a",
            "481c933d06e443e7bc345d108dce2afb",
            "e789f396596a464e8bc1eed7baf6c24e",
            "2466fae057a941f39579edd90bc62ada",
            "4460053256f44308b2973cd426cb72df",
            "fe16fe0be75047aead4165fd56958927",
            "b941eaef4c11410191ec1e5f993fbad5",
            "4c7380cecbec4019b98fcb7bbfc96710",
            "bc5ab3588c954de7946a6b1980cf9e8e",
            "87ef4e98b0de4426a886114d22424a29",
            "0be52537fe254a4fbfa710887e1d3aff",
            "24ab5c4a7818498a91cfbeb022b2794e",
            "28c9428ad5694129b7cfa8bc0e01df71",
            "d37323e4fe8b4f58b340eba42163e1ec",
            "3620f4b2de004a55aa4bc86d22574044",
            "0dc47d343ac744958c0aa12a04096f5b",
            "7ce05ab0a8e842c1ae0fa7ffd7ed56ed",
            "c16bb8713aae4e128ec25557d8ca3a01",
            "c8ff2aebf80f4fb7a595a1d8b2ef7913",
            "291a052819fd467cb0c03fd75196d514",
            "d02e4c959c0f4bd2b125bb8b9cf9ca05",
            "4b569e785a7d489bbf7bec7d3fb6bb2f",
            "83b58e2e19f648ba83b3e17665d837ea",
            "73f5313b6adb4775b10a9504e6f7d5ae",
            "a49b0a55c2844ebd89c8fbf4339a6bf4",
            "bc16bcda98c641dcb37ca955a88b5b56",
            "3778730b9bb74522be32b54d971dd321",
            "192527379fd142feb4cd708da6462bd0"
          ]
        },
        "id": "cceceb71-4287-427b-bcd4-dd009c7e6744",
        "outputId": "6d98464c-fc4c-430e-cd9b-832c044c5341"
      },
      "outputs": [
        {
          "data": {
            "application/vnd.jupyter.widget-view+json": {
              "model_id": "36db6ed16cc6446495e2c88695633d39",
              "version_major": 2,
              "version_minor": 0
            },
            "text/plain": [
              "config.json:   0%|          | 0.00/1.51k [00:00<?, ?B/s]"
            ]
          },
          "metadata": {},
          "output_type": "display_data"
        },
        {
          "name": "stderr",
          "output_type": "stream",
          "text": [
            "Unused kwargs: ['_load_in_4bit', '_load_in_8bit', 'quant_method']. These kwargs are not used in <class 'transformers.utils.quantization_config.BitsAndBytesConfig'>.\n"
          ]
        },
        {
          "data": {
            "application/vnd.jupyter.widget-view+json": {
              "model_id": "b941eaef4c11410191ec1e5f993fbad5",
              "version_major": 2,
              "version_minor": 0
            },
            "text/plain": [
              "model.safetensors:   0%|          | 0.00/1.03G [00:00<?, ?B/s]"
            ]
          },
          "metadata": {},
          "output_type": "display_data"
        },
        {
          "data": {
            "application/vnd.jupyter.widget-view+json": {
              "model_id": "c16bb8713aae4e128ec25557d8ca3a01",
              "version_major": 2,
              "version_minor": 0
            },
            "text/plain": [
              "generation_config.json:   0%|          | 0.00/230 [00:00<?, ?B/s]"
            ]
          },
          "metadata": {},
          "output_type": "display_data"
        }
      ],
      "source": [
        "unsloth4_llama3 = AutoModelForCausalLM.from_pretrained(\"unsloth/Llama-3.2-1B-bnb-4bit\", device_map=\"cuda\")"
      ]
    },
    {
      "cell_type": "code",
      "execution_count": null,
      "id": "4j0NfbKrWJca",
      "metadata": {
        "colab": {
          "base_uri": "https://localhost:8080/",
          "height": 579,
          "referenced_widgets": [
            "b50d3f35a5f643e09843eff76281e11e",
            "0ad57622245d4066a14ace0123ea1848",
            "94f38f632b514bdc9408ff8bb23a5c17",
            "e81331fa68f64dc29484801c1ff90e18",
            "ec19287905104d209a826ce111dc973b",
            "0c091feb96cc4b978f076a94205af5e3",
            "db07557b1c5a456794b9160d8e8fbeda",
            "d1a06674043b414098eee80ee665784d",
            "c90ec344336e4205900255bb364a40d2",
            "a6a2f48d91514b0089ff037efc45237e",
            "a8485269e87d464e9bcf062ca430126a"
          ]
        },
        "id": "4j0NfbKrWJca",
        "outputId": "392809eb-8622-4e38-c4ce-8525b2d2d0c5"
      },
      "outputs": [
        {
          "data": {
            "application/vnd.jupyter.widget-view+json": {
              "model_id": "b50d3f35a5f643e09843eff76281e11e",
              "version_major": 2,
              "version_minor": 0
            },
            "text/plain": [
              "0it [00:00, ?it/s]"
            ]
          },
          "metadata": {},
          "output_type": "display_data"
        },
        {
          "name": "stdout",
          "output_type": "stream",
          "text": [
            "generating\n",
            "batch generated. took 47.3324236869812 seconds\n",
            "decoded\n",
            "added to eval\n",
            "generating\n",
            "batch generated. took 47.25919985771179 seconds\n",
            "decoded\n",
            "added to eval\n",
            "generating\n"
          ]
        },
        {
          "ename": "KeyboardInterrupt",
          "evalue": "",
          "output_type": "error",
          "traceback": [
            "\u001b[0;31m---------------------------------------------------------------------------\u001b[0m",
            "\u001b[0;31mKeyboardInterrupt\u001b[0m                         Traceback (most recent call last)",
            "\u001b[0;32m<timed exec>\u001b[0m in \u001b[0;36m<module>\u001b[0;34m\u001b[0m\n",
            "\u001b[0;32m<ipython-input-35-787efcdc2022>\u001b[0m in \u001b[0;36mevaluate_model\u001b[0;34m(model, tokenizer, raw_text_evaluations, source_code_evaluations, ast_evaluations, dataset, batch_size, max_new_tokens)\u001b[0m\n\u001b[1;32m     33\u001b[0m \u001b[0;34m\u001b[0m\u001b[0m\n\u001b[1;32m     34\u001b[0m   \u001b[0;32mfor\u001b[0m \u001b[0mbatch\u001b[0m \u001b[0;32min\u001b[0m \u001b[0mtqdm\u001b[0m\u001b[0;34m(\u001b[0m\u001b[0mdataset\u001b[0m\u001b[0;34m.\u001b[0m\u001b[0miter\u001b[0m\u001b[0;34m(\u001b[0m\u001b[0mbatch_size\u001b[0m\u001b[0;34m)\u001b[0m\u001b[0;34m)\u001b[0m\u001b[0;34m:\u001b[0m\u001b[0;34m\u001b[0m\u001b[0;34m\u001b[0m\u001b[0m\n\u001b[0;32m---> 35\u001b[0;31m     \u001b[0mevaluate_batch\u001b[0m\u001b[0;34m(\u001b[0m\u001b[0mbatch\u001b[0m\u001b[0;34m)\u001b[0m\u001b[0;34m\u001b[0m\u001b[0;34m\u001b[0m\u001b[0m\n\u001b[0m\u001b[1;32m     36\u001b[0m \u001b[0;34m\u001b[0m\u001b[0m\n\u001b[1;32m     37\u001b[0m   \u001b[0;32mreturn\u001b[0m \u001b[0mraw_text_evaluations\u001b[0m\u001b[0;34m,\u001b[0m \u001b[0msource_code_evaluations\u001b[0m\u001b[0;34m,\u001b[0m \u001b[0mast_evaluations\u001b[0m\u001b[0;34m,\u001b[0m \u001b[0mall_predictions\u001b[0m\u001b[0;34m\u001b[0m\u001b[0;34m\u001b[0m\u001b[0m\n",
            "\u001b[0;32m<ipython-input-35-787efcdc2022>\u001b[0m in \u001b[0;36mevaluate_batch\u001b[0;34m(batch)\u001b[0m\n\u001b[1;32m     10\u001b[0m         \u001b[0mt0\u001b[0m \u001b[0;34m=\u001b[0m \u001b[0mtime\u001b[0m\u001b[0;34m.\u001b[0m\u001b[0mtime\u001b[0m\u001b[0;34m(\u001b[0m\u001b[0;34m)\u001b[0m\u001b[0;34m\u001b[0m\u001b[0;34m\u001b[0m\u001b[0m\n\u001b[1;32m     11\u001b[0m         \u001b[0mprint\u001b[0m\u001b[0;34m(\u001b[0m\u001b[0;34m\"generating\"\u001b[0m\u001b[0;34m)\u001b[0m\u001b[0;34m\u001b[0m\u001b[0;34m\u001b[0m\u001b[0m\n\u001b[0;32m---> 12\u001b[0;31m         \u001b[0moutputs\u001b[0m \u001b[0;34m=\u001b[0m \u001b[0mmodel\u001b[0m\u001b[0;34m.\u001b[0m\u001b[0mgenerate\u001b[0m\u001b[0;34m(\u001b[0m\u001b[0minput_ids\u001b[0m\u001b[0;34m=\u001b[0m\u001b[0minput_ids\u001b[0m\u001b[0;34m,\u001b[0m \u001b[0mattention_mask\u001b[0m\u001b[0;34m=\u001b[0m\u001b[0mattention_mask\u001b[0m\u001b[0;34m,\u001b[0m \u001b[0mmax_new_tokens\u001b[0m\u001b[0;34m=\u001b[0m\u001b[0mmax_new_tokens\u001b[0m\u001b[0;34m)\u001b[0m\u001b[0;34m\u001b[0m\u001b[0;34m\u001b[0m\u001b[0m\n\u001b[0m\u001b[1;32m     13\u001b[0m         \u001b[0mprint\u001b[0m\u001b[0;34m(\u001b[0m\u001b[0;34mf\"batch generated. took {time.time() - t0} seconds\"\u001b[0m\u001b[0;34m)\u001b[0m\u001b[0;34m\u001b[0m\u001b[0;34m\u001b[0m\u001b[0m\n\u001b[1;32m     14\u001b[0m     \u001b[0;31m# Evaluate the raw model output - We dont skip special tokens because we need them to know how to extract the LLMs latest response\u001b[0m\u001b[0;34m\u001b[0m\u001b[0;34m\u001b[0m\u001b[0m\n",
            "\u001b[0;32m/usr/local/lib/python3.11/dist-packages/torch/utils/_contextlib.py\u001b[0m in \u001b[0;36mdecorate_context\u001b[0;34m(*args, **kwargs)\u001b[0m\n\u001b[1;32m    114\u001b[0m     \u001b[0;32mdef\u001b[0m \u001b[0mdecorate_context\u001b[0m\u001b[0;34m(\u001b[0m\u001b[0;34m*\u001b[0m\u001b[0margs\u001b[0m\u001b[0;34m,\u001b[0m \u001b[0;34m**\u001b[0m\u001b[0mkwargs\u001b[0m\u001b[0;34m)\u001b[0m\u001b[0;34m:\u001b[0m\u001b[0;34m\u001b[0m\u001b[0;34m\u001b[0m\u001b[0m\n\u001b[1;32m    115\u001b[0m         \u001b[0;32mwith\u001b[0m \u001b[0mctx_factory\u001b[0m\u001b[0;34m(\u001b[0m\u001b[0;34m)\u001b[0m\u001b[0;34m:\u001b[0m\u001b[0;34m\u001b[0m\u001b[0;34m\u001b[0m\u001b[0m\n\u001b[0;32m--> 116\u001b[0;31m             \u001b[0;32mreturn\u001b[0m \u001b[0mfunc\u001b[0m\u001b[0;34m(\u001b[0m\u001b[0;34m*\u001b[0m\u001b[0margs\u001b[0m\u001b[0;34m,\u001b[0m \u001b[0;34m**\u001b[0m\u001b[0mkwargs\u001b[0m\u001b[0;34m)\u001b[0m\u001b[0;34m\u001b[0m\u001b[0;34m\u001b[0m\u001b[0m\n\u001b[0m\u001b[1;32m    117\u001b[0m \u001b[0;34m\u001b[0m\u001b[0m\n\u001b[1;32m    118\u001b[0m     \u001b[0;32mreturn\u001b[0m \u001b[0mdecorate_context\u001b[0m\u001b[0;34m\u001b[0m\u001b[0;34m\u001b[0m\u001b[0m\n",
            "\u001b[0;32m/usr/local/lib/python3.11/dist-packages/transformers/generation/utils.py\u001b[0m in \u001b[0;36mgenerate\u001b[0;34m(self, inputs, generation_config, logits_processor, stopping_criteria, prefix_allowed_tokens_fn, synced_gpus, assistant_model, streamer, negative_prompt_ids, negative_prompt_attention_mask, **kwargs)\u001b[0m\n\u001b[1;32m   2253\u001b[0m \u001b[0;34m\u001b[0m\u001b[0m\n\u001b[1;32m   2254\u001b[0m             \u001b[0;31m# 12. run sample (it degenerates to greedy search when `generation_config.do_sample=False`)\u001b[0m\u001b[0;34m\u001b[0m\u001b[0;34m\u001b[0m\u001b[0m\n\u001b[0;32m-> 2255\u001b[0;31m             result = self._sample(\n\u001b[0m\u001b[1;32m   2256\u001b[0m                 \u001b[0minput_ids\u001b[0m\u001b[0;34m,\u001b[0m\u001b[0;34m\u001b[0m\u001b[0;34m\u001b[0m\u001b[0m\n\u001b[1;32m   2257\u001b[0m                 \u001b[0mlogits_processor\u001b[0m\u001b[0;34m=\u001b[0m\u001b[0mprepared_logits_processor\u001b[0m\u001b[0;34m,\u001b[0m\u001b[0;34m\u001b[0m\u001b[0;34m\u001b[0m\u001b[0m\n",
            "\u001b[0;32m/usr/local/lib/python3.11/dist-packages/transformers/generation/utils.py\u001b[0m in \u001b[0;36m_sample\u001b[0;34m(self, input_ids, logits_processor, stopping_criteria, generation_config, synced_gpus, streamer, **model_kwargs)\u001b[0m\n\u001b[1;32m   3255\u001b[0m                 \u001b[0mis_prefill\u001b[0m \u001b[0;34m=\u001b[0m \u001b[0;32mFalse\u001b[0m\u001b[0;34m\u001b[0m\u001b[0;34m\u001b[0m\u001b[0m\n\u001b[1;32m   3256\u001b[0m             \u001b[0;32melse\u001b[0m\u001b[0;34m:\u001b[0m\u001b[0;34m\u001b[0m\u001b[0;34m\u001b[0m\u001b[0m\n\u001b[0;32m-> 3257\u001b[0;31m                 \u001b[0moutputs\u001b[0m \u001b[0;34m=\u001b[0m \u001b[0mmodel_forward\u001b[0m\u001b[0;34m(\u001b[0m\u001b[0;34m**\u001b[0m\u001b[0mmodel_inputs\u001b[0m\u001b[0;34m,\u001b[0m \u001b[0mreturn_dict\u001b[0m\u001b[0;34m=\u001b[0m\u001b[0;32mTrue\u001b[0m\u001b[0;34m)\u001b[0m\u001b[0;34m\u001b[0m\u001b[0;34m\u001b[0m\u001b[0m\n\u001b[0m\u001b[1;32m   3258\u001b[0m \u001b[0;34m\u001b[0m\u001b[0m\n\u001b[1;32m   3259\u001b[0m             \u001b[0;31m# synced_gpus: don't waste resources running the code we don't need; kwargs must be updated before skipping\u001b[0m\u001b[0;34m\u001b[0m\u001b[0;34m\u001b[0m\u001b[0m\n",
            "\u001b[0;32m/usr/local/lib/python3.11/dist-packages/torch/nn/modules/module.py\u001b[0m in \u001b[0;36m_wrapped_call_impl\u001b[0;34m(self, *args, **kwargs)\u001b[0m\n\u001b[1;32m   1734\u001b[0m             \u001b[0;32mreturn\u001b[0m \u001b[0mself\u001b[0m\u001b[0;34m.\u001b[0m\u001b[0m_compiled_call_impl\u001b[0m\u001b[0;34m(\u001b[0m\u001b[0;34m*\u001b[0m\u001b[0margs\u001b[0m\u001b[0;34m,\u001b[0m \u001b[0;34m**\u001b[0m\u001b[0mkwargs\u001b[0m\u001b[0;34m)\u001b[0m  \u001b[0;31m# type: ignore[misc]\u001b[0m\u001b[0;34m\u001b[0m\u001b[0;34m\u001b[0m\u001b[0m\n\u001b[1;32m   1735\u001b[0m         \u001b[0;32melse\u001b[0m\u001b[0;34m:\u001b[0m\u001b[0;34m\u001b[0m\u001b[0;34m\u001b[0m\u001b[0m\n\u001b[0;32m-> 1736\u001b[0;31m             \u001b[0;32mreturn\u001b[0m \u001b[0mself\u001b[0m\u001b[0;34m.\u001b[0m\u001b[0m_call_impl\u001b[0m\u001b[0;34m(\u001b[0m\u001b[0;34m*\u001b[0m\u001b[0margs\u001b[0m\u001b[0;34m,\u001b[0m \u001b[0;34m**\u001b[0m\u001b[0mkwargs\u001b[0m\u001b[0;34m)\u001b[0m\u001b[0;34m\u001b[0m\u001b[0;34m\u001b[0m\u001b[0m\n\u001b[0m\u001b[1;32m   1737\u001b[0m \u001b[0;34m\u001b[0m\u001b[0m\n\u001b[1;32m   1738\u001b[0m     \u001b[0;31m# torchrec tests the code consistency with the following code\u001b[0m\u001b[0;34m\u001b[0m\u001b[0;34m\u001b[0m\u001b[0m\n",
            "\u001b[0;32m/usr/local/lib/python3.11/dist-packages/torch/nn/modules/module.py\u001b[0m in \u001b[0;36m_call_impl\u001b[0;34m(self, *args, **kwargs)\u001b[0m\n\u001b[1;32m   1745\u001b[0m                 \u001b[0;32mor\u001b[0m \u001b[0m_global_backward_pre_hooks\u001b[0m \u001b[0;32mor\u001b[0m \u001b[0m_global_backward_hooks\u001b[0m\u001b[0;34m\u001b[0m\u001b[0;34m\u001b[0m\u001b[0m\n\u001b[1;32m   1746\u001b[0m                 or _global_forward_hooks or _global_forward_pre_hooks):\n\u001b[0;32m-> 1747\u001b[0;31m             \u001b[0;32mreturn\u001b[0m \u001b[0mforward_call\u001b[0m\u001b[0;34m(\u001b[0m\u001b[0;34m*\u001b[0m\u001b[0margs\u001b[0m\u001b[0;34m,\u001b[0m \u001b[0;34m**\u001b[0m\u001b[0mkwargs\u001b[0m\u001b[0;34m)\u001b[0m\u001b[0;34m\u001b[0m\u001b[0;34m\u001b[0m\u001b[0m\n\u001b[0m\u001b[1;32m   1748\u001b[0m \u001b[0;34m\u001b[0m\u001b[0m\n\u001b[1;32m   1749\u001b[0m         \u001b[0mresult\u001b[0m \u001b[0;34m=\u001b[0m \u001b[0;32mNone\u001b[0m\u001b[0;34m\u001b[0m\u001b[0;34m\u001b[0m\u001b[0m\n",
            "\u001b[0;32m/usr/local/lib/python3.11/dist-packages/transformers/models/llama/modeling_llama.py\u001b[0m in \u001b[0;36mforward\u001b[0;34m(self, input_ids, attention_mask, position_ids, past_key_values, inputs_embeds, labels, use_cache, output_attentions, output_hidden_states, return_dict, cache_position, num_logits_to_keep, **kwargs)\u001b[0m\n\u001b[1;32m    829\u001b[0m \u001b[0;34m\u001b[0m\u001b[0m\n\u001b[1;32m    830\u001b[0m         \u001b[0;31m# decoder outputs consists of (dec_features, layer_state, dec_hidden, dec_attn)\u001b[0m\u001b[0;34m\u001b[0m\u001b[0;34m\u001b[0m\u001b[0m\n\u001b[0;32m--> 831\u001b[0;31m         outputs = self.model(\n\u001b[0m\u001b[1;32m    832\u001b[0m             \u001b[0minput_ids\u001b[0m\u001b[0;34m=\u001b[0m\u001b[0minput_ids\u001b[0m\u001b[0;34m,\u001b[0m\u001b[0;34m\u001b[0m\u001b[0;34m\u001b[0m\u001b[0m\n\u001b[1;32m    833\u001b[0m             \u001b[0mattention_mask\u001b[0m\u001b[0;34m=\u001b[0m\u001b[0mattention_mask\u001b[0m\u001b[0;34m,\u001b[0m\u001b[0;34m\u001b[0m\u001b[0;34m\u001b[0m\u001b[0m\n",
            "\u001b[0;32m/usr/local/lib/python3.11/dist-packages/torch/nn/modules/module.py\u001b[0m in \u001b[0;36m_wrapped_call_impl\u001b[0;34m(self, *args, **kwargs)\u001b[0m\n\u001b[1;32m   1734\u001b[0m             \u001b[0;32mreturn\u001b[0m \u001b[0mself\u001b[0m\u001b[0;34m.\u001b[0m\u001b[0m_compiled_call_impl\u001b[0m\u001b[0;34m(\u001b[0m\u001b[0;34m*\u001b[0m\u001b[0margs\u001b[0m\u001b[0;34m,\u001b[0m \u001b[0;34m**\u001b[0m\u001b[0mkwargs\u001b[0m\u001b[0;34m)\u001b[0m  \u001b[0;31m# type: ignore[misc]\u001b[0m\u001b[0;34m\u001b[0m\u001b[0;34m\u001b[0m\u001b[0m\n\u001b[1;32m   1735\u001b[0m         \u001b[0;32melse\u001b[0m\u001b[0;34m:\u001b[0m\u001b[0;34m\u001b[0m\u001b[0;34m\u001b[0m\u001b[0m\n\u001b[0;32m-> 1736\u001b[0;31m             \u001b[0;32mreturn\u001b[0m \u001b[0mself\u001b[0m\u001b[0;34m.\u001b[0m\u001b[0m_call_impl\u001b[0m\u001b[0;34m(\u001b[0m\u001b[0;34m*\u001b[0m\u001b[0margs\u001b[0m\u001b[0;34m,\u001b[0m \u001b[0;34m**\u001b[0m\u001b[0mkwargs\u001b[0m\u001b[0;34m)\u001b[0m\u001b[0;34m\u001b[0m\u001b[0;34m\u001b[0m\u001b[0m\n\u001b[0m\u001b[1;32m   1737\u001b[0m \u001b[0;34m\u001b[0m\u001b[0m\n\u001b[1;32m   1738\u001b[0m     \u001b[0;31m# torchrec tests the code consistency with the following code\u001b[0m\u001b[0;34m\u001b[0m\u001b[0;34m\u001b[0m\u001b[0m\n",
            "\u001b[0;32m/usr/local/lib/python3.11/dist-packages/torch/nn/modules/module.py\u001b[0m in \u001b[0;36m_call_impl\u001b[0;34m(self, *args, **kwargs)\u001b[0m\n\u001b[1;32m   1745\u001b[0m                 \u001b[0;32mor\u001b[0m \u001b[0m_global_backward_pre_hooks\u001b[0m \u001b[0;32mor\u001b[0m \u001b[0m_global_backward_hooks\u001b[0m\u001b[0;34m\u001b[0m\u001b[0;34m\u001b[0m\u001b[0m\n\u001b[1;32m   1746\u001b[0m                 or _global_forward_hooks or _global_forward_pre_hooks):\n\u001b[0;32m-> 1747\u001b[0;31m             \u001b[0;32mreturn\u001b[0m \u001b[0mforward_call\u001b[0m\u001b[0;34m(\u001b[0m\u001b[0;34m*\u001b[0m\u001b[0margs\u001b[0m\u001b[0;34m,\u001b[0m \u001b[0;34m**\u001b[0m\u001b[0mkwargs\u001b[0m\u001b[0;34m)\u001b[0m\u001b[0;34m\u001b[0m\u001b[0;34m\u001b[0m\u001b[0m\n\u001b[0m\u001b[1;32m   1748\u001b[0m \u001b[0;34m\u001b[0m\u001b[0m\n\u001b[1;32m   1749\u001b[0m         \u001b[0mresult\u001b[0m \u001b[0;34m=\u001b[0m \u001b[0;32mNone\u001b[0m\u001b[0;34m\u001b[0m\u001b[0;34m\u001b[0m\u001b[0m\n",
            "\u001b[0;32m/usr/local/lib/python3.11/dist-packages/transformers/models/llama/modeling_llama.py\u001b[0m in \u001b[0;36mforward\u001b[0;34m(self, input_ids, attention_mask, position_ids, past_key_values, inputs_embeds, use_cache, output_attentions, output_hidden_states, return_dict, cache_position, **flash_attn_kwargs)\u001b[0m\n\u001b[1;32m    587\u001b[0m                 )\n\u001b[1;32m    588\u001b[0m             \u001b[0;32melse\u001b[0m\u001b[0;34m:\u001b[0m\u001b[0;34m\u001b[0m\u001b[0;34m\u001b[0m\u001b[0m\n\u001b[0;32m--> 589\u001b[0;31m                 layer_outputs = decoder_layer(\n\u001b[0m\u001b[1;32m    590\u001b[0m                     \u001b[0mhidden_states\u001b[0m\u001b[0;34m,\u001b[0m\u001b[0;34m\u001b[0m\u001b[0;34m\u001b[0m\u001b[0m\n\u001b[1;32m    591\u001b[0m                     \u001b[0mattention_mask\u001b[0m\u001b[0;34m=\u001b[0m\u001b[0mcausal_mask\u001b[0m\u001b[0;34m,\u001b[0m\u001b[0;34m\u001b[0m\u001b[0;34m\u001b[0m\u001b[0m\n",
            "\u001b[0;32m/usr/local/lib/python3.11/dist-packages/torch/nn/modules/module.py\u001b[0m in \u001b[0;36m_wrapped_call_impl\u001b[0;34m(self, *args, **kwargs)\u001b[0m\n\u001b[1;32m   1734\u001b[0m             \u001b[0;32mreturn\u001b[0m \u001b[0mself\u001b[0m\u001b[0;34m.\u001b[0m\u001b[0m_compiled_call_impl\u001b[0m\u001b[0;34m(\u001b[0m\u001b[0;34m*\u001b[0m\u001b[0margs\u001b[0m\u001b[0;34m,\u001b[0m \u001b[0;34m**\u001b[0m\u001b[0mkwargs\u001b[0m\u001b[0;34m)\u001b[0m  \u001b[0;31m# type: ignore[misc]\u001b[0m\u001b[0;34m\u001b[0m\u001b[0;34m\u001b[0m\u001b[0m\n\u001b[1;32m   1735\u001b[0m         \u001b[0;32melse\u001b[0m\u001b[0;34m:\u001b[0m\u001b[0;34m\u001b[0m\u001b[0;34m\u001b[0m\u001b[0m\n\u001b[0;32m-> 1736\u001b[0;31m             \u001b[0;32mreturn\u001b[0m \u001b[0mself\u001b[0m\u001b[0;34m.\u001b[0m\u001b[0m_call_impl\u001b[0m\u001b[0;34m(\u001b[0m\u001b[0;34m*\u001b[0m\u001b[0margs\u001b[0m\u001b[0;34m,\u001b[0m \u001b[0;34m**\u001b[0m\u001b[0mkwargs\u001b[0m\u001b[0;34m)\u001b[0m\u001b[0;34m\u001b[0m\u001b[0;34m\u001b[0m\u001b[0m\n\u001b[0m\u001b[1;32m   1737\u001b[0m \u001b[0;34m\u001b[0m\u001b[0m\n\u001b[1;32m   1738\u001b[0m     \u001b[0;31m# torchrec tests the code consistency with the following code\u001b[0m\u001b[0;34m\u001b[0m\u001b[0;34m\u001b[0m\u001b[0m\n",
            "\u001b[0;32m/usr/local/lib/python3.11/dist-packages/torch/nn/modules/module.py\u001b[0m in \u001b[0;36m_call_impl\u001b[0;34m(self, *args, **kwargs)\u001b[0m\n\u001b[1;32m   1745\u001b[0m                 \u001b[0;32mor\u001b[0m \u001b[0m_global_backward_pre_hooks\u001b[0m \u001b[0;32mor\u001b[0m \u001b[0m_global_backward_hooks\u001b[0m\u001b[0;34m\u001b[0m\u001b[0;34m\u001b[0m\u001b[0m\n\u001b[1;32m   1746\u001b[0m                 or _global_forward_hooks or _global_forward_pre_hooks):\n\u001b[0;32m-> 1747\u001b[0;31m             \u001b[0;32mreturn\u001b[0m \u001b[0mforward_call\u001b[0m\u001b[0;34m(\u001b[0m\u001b[0;34m*\u001b[0m\u001b[0margs\u001b[0m\u001b[0;34m,\u001b[0m \u001b[0;34m**\u001b[0m\u001b[0mkwargs\u001b[0m\u001b[0;34m)\u001b[0m\u001b[0;34m\u001b[0m\u001b[0;34m\u001b[0m\u001b[0m\n\u001b[0m\u001b[1;32m   1748\u001b[0m \u001b[0;34m\u001b[0m\u001b[0m\n\u001b[1;32m   1749\u001b[0m         \u001b[0mresult\u001b[0m \u001b[0;34m=\u001b[0m \u001b[0;32mNone\u001b[0m\u001b[0;34m\u001b[0m\u001b[0;34m\u001b[0m\u001b[0m\n",
            "\u001b[0;32m/usr/local/lib/python3.11/dist-packages/transformers/models/llama/modeling_llama.py\u001b[0m in \u001b[0;36mforward\u001b[0;34m(self, hidden_states, attention_mask, position_ids, past_key_value, output_attentions, use_cache, cache_position, position_embeddings, **kwargs)\u001b[0m\n\u001b[1;32m    330\u001b[0m \u001b[0;34m\u001b[0m\u001b[0m\n\u001b[1;32m    331\u001b[0m         \u001b[0;31m# Self Attention\u001b[0m\u001b[0;34m\u001b[0m\u001b[0;34m\u001b[0m\u001b[0m\n\u001b[0;32m--> 332\u001b[0;31m         hidden_states, self_attn_weights = self.self_attn(\n\u001b[0m\u001b[1;32m    333\u001b[0m             \u001b[0mhidden_states\u001b[0m\u001b[0;34m=\u001b[0m\u001b[0mhidden_states\u001b[0m\u001b[0;34m,\u001b[0m\u001b[0;34m\u001b[0m\u001b[0;34m\u001b[0m\u001b[0m\n\u001b[1;32m    334\u001b[0m             \u001b[0mattention_mask\u001b[0m\u001b[0;34m=\u001b[0m\u001b[0mattention_mask\u001b[0m\u001b[0;34m,\u001b[0m\u001b[0;34m\u001b[0m\u001b[0;34m\u001b[0m\u001b[0m\n",
            "\u001b[0;32m/usr/local/lib/python3.11/dist-packages/torch/nn/modules/module.py\u001b[0m in \u001b[0;36m_wrapped_call_impl\u001b[0;34m(self, *args, **kwargs)\u001b[0m\n\u001b[1;32m   1734\u001b[0m             \u001b[0;32mreturn\u001b[0m \u001b[0mself\u001b[0m\u001b[0;34m.\u001b[0m\u001b[0m_compiled_call_impl\u001b[0m\u001b[0;34m(\u001b[0m\u001b[0;34m*\u001b[0m\u001b[0margs\u001b[0m\u001b[0;34m,\u001b[0m \u001b[0;34m**\u001b[0m\u001b[0mkwargs\u001b[0m\u001b[0;34m)\u001b[0m  \u001b[0;31m# type: ignore[misc]\u001b[0m\u001b[0;34m\u001b[0m\u001b[0;34m\u001b[0m\u001b[0m\n\u001b[1;32m   1735\u001b[0m         \u001b[0;32melse\u001b[0m\u001b[0;34m:\u001b[0m\u001b[0;34m\u001b[0m\u001b[0;34m\u001b[0m\u001b[0m\n\u001b[0;32m-> 1736\u001b[0;31m             \u001b[0;32mreturn\u001b[0m \u001b[0mself\u001b[0m\u001b[0;34m.\u001b[0m\u001b[0m_call_impl\u001b[0m\u001b[0;34m(\u001b[0m\u001b[0;34m*\u001b[0m\u001b[0margs\u001b[0m\u001b[0;34m,\u001b[0m \u001b[0;34m**\u001b[0m\u001b[0mkwargs\u001b[0m\u001b[0;34m)\u001b[0m\u001b[0;34m\u001b[0m\u001b[0;34m\u001b[0m\u001b[0m\n\u001b[0m\u001b[1;32m   1737\u001b[0m \u001b[0;34m\u001b[0m\u001b[0m\n\u001b[1;32m   1738\u001b[0m     \u001b[0;31m# torchrec tests the code consistency with the following code\u001b[0m\u001b[0;34m\u001b[0m\u001b[0;34m\u001b[0m\u001b[0m\n",
            "\u001b[0;32m/usr/local/lib/python3.11/dist-packages/torch/nn/modules/module.py\u001b[0m in \u001b[0;36m_call_impl\u001b[0;34m(self, *args, **kwargs)\u001b[0m\n\u001b[1;32m   1745\u001b[0m                 \u001b[0;32mor\u001b[0m \u001b[0m_global_backward_pre_hooks\u001b[0m \u001b[0;32mor\u001b[0m \u001b[0m_global_backward_hooks\u001b[0m\u001b[0;34m\u001b[0m\u001b[0;34m\u001b[0m\u001b[0m\n\u001b[1;32m   1746\u001b[0m                 or _global_forward_hooks or _global_forward_pre_hooks):\n\u001b[0;32m-> 1747\u001b[0;31m             \u001b[0;32mreturn\u001b[0m \u001b[0mforward_call\u001b[0m\u001b[0;34m(\u001b[0m\u001b[0;34m*\u001b[0m\u001b[0margs\u001b[0m\u001b[0;34m,\u001b[0m \u001b[0;34m**\u001b[0m\u001b[0mkwargs\u001b[0m\u001b[0;34m)\u001b[0m\u001b[0;34m\u001b[0m\u001b[0;34m\u001b[0m\u001b[0m\n\u001b[0m\u001b[1;32m   1748\u001b[0m \u001b[0;34m\u001b[0m\u001b[0m\n\u001b[1;32m   1749\u001b[0m         \u001b[0mresult\u001b[0m \u001b[0;34m=\u001b[0m \u001b[0;32mNone\u001b[0m\u001b[0;34m\u001b[0m\u001b[0;34m\u001b[0m\u001b[0m\n",
            "\u001b[0;32m/usr/local/lib/python3.11/dist-packages/transformers/models/llama/modeling_llama.py\u001b[0m in \u001b[0;36mforward\u001b[0;34m(self, hidden_states, position_embeddings, attention_mask, past_key_value, cache_position, **kwargs)\u001b[0m\n\u001b[1;32m    264\u001b[0m         \u001b[0mhidden_shape\u001b[0m \u001b[0;34m=\u001b[0m \u001b[0;34m(\u001b[0m\u001b[0;34m*\u001b[0m\u001b[0minput_shape\u001b[0m\u001b[0;34m,\u001b[0m \u001b[0;34m-\u001b[0m\u001b[0;36m1\u001b[0m\u001b[0;34m,\u001b[0m \u001b[0mself\u001b[0m\u001b[0;34m.\u001b[0m\u001b[0mhead_dim\u001b[0m\u001b[0;34m)\u001b[0m\u001b[0;34m\u001b[0m\u001b[0;34m\u001b[0m\u001b[0m\n\u001b[1;32m    265\u001b[0m \u001b[0;34m\u001b[0m\u001b[0m\n\u001b[0;32m--> 266\u001b[0;31m         \u001b[0mquery_states\u001b[0m \u001b[0;34m=\u001b[0m \u001b[0mself\u001b[0m\u001b[0;34m.\u001b[0m\u001b[0mq_proj\u001b[0m\u001b[0;34m(\u001b[0m\u001b[0mhidden_states\u001b[0m\u001b[0;34m)\u001b[0m\u001b[0;34m.\u001b[0m\u001b[0mview\u001b[0m\u001b[0;34m(\u001b[0m\u001b[0mhidden_shape\u001b[0m\u001b[0;34m)\u001b[0m\u001b[0;34m.\u001b[0m\u001b[0mtranspose\u001b[0m\u001b[0;34m(\u001b[0m\u001b[0;36m1\u001b[0m\u001b[0;34m,\u001b[0m \u001b[0;36m2\u001b[0m\u001b[0;34m)\u001b[0m\u001b[0;34m\u001b[0m\u001b[0;34m\u001b[0m\u001b[0m\n\u001b[0m\u001b[1;32m    267\u001b[0m         \u001b[0mkey_states\u001b[0m \u001b[0;34m=\u001b[0m \u001b[0mself\u001b[0m\u001b[0;34m.\u001b[0m\u001b[0mk_proj\u001b[0m\u001b[0;34m(\u001b[0m\u001b[0mhidden_states\u001b[0m\u001b[0;34m)\u001b[0m\u001b[0;34m.\u001b[0m\u001b[0mview\u001b[0m\u001b[0;34m(\u001b[0m\u001b[0mhidden_shape\u001b[0m\u001b[0;34m)\u001b[0m\u001b[0;34m.\u001b[0m\u001b[0mtranspose\u001b[0m\u001b[0;34m(\u001b[0m\u001b[0;36m1\u001b[0m\u001b[0;34m,\u001b[0m \u001b[0;36m2\u001b[0m\u001b[0;34m)\u001b[0m\u001b[0;34m\u001b[0m\u001b[0;34m\u001b[0m\u001b[0m\n\u001b[1;32m    268\u001b[0m         \u001b[0mvalue_states\u001b[0m \u001b[0;34m=\u001b[0m \u001b[0mself\u001b[0m\u001b[0;34m.\u001b[0m\u001b[0mv_proj\u001b[0m\u001b[0;34m(\u001b[0m\u001b[0mhidden_states\u001b[0m\u001b[0;34m)\u001b[0m\u001b[0;34m.\u001b[0m\u001b[0mview\u001b[0m\u001b[0;34m(\u001b[0m\u001b[0mhidden_shape\u001b[0m\u001b[0;34m)\u001b[0m\u001b[0;34m.\u001b[0m\u001b[0mtranspose\u001b[0m\u001b[0;34m(\u001b[0m\u001b[0;36m1\u001b[0m\u001b[0;34m,\u001b[0m \u001b[0;36m2\u001b[0m\u001b[0;34m)\u001b[0m\u001b[0;34m\u001b[0m\u001b[0;34m\u001b[0m\u001b[0m\n",
            "\u001b[0;32m/usr/local/lib/python3.11/dist-packages/torch/nn/modules/module.py\u001b[0m in \u001b[0;36m_wrapped_call_impl\u001b[0;34m(self, *args, **kwargs)\u001b[0m\n\u001b[1;32m   1734\u001b[0m             \u001b[0;32mreturn\u001b[0m \u001b[0mself\u001b[0m\u001b[0;34m.\u001b[0m\u001b[0m_compiled_call_impl\u001b[0m\u001b[0;34m(\u001b[0m\u001b[0;34m*\u001b[0m\u001b[0margs\u001b[0m\u001b[0;34m,\u001b[0m \u001b[0;34m**\u001b[0m\u001b[0mkwargs\u001b[0m\u001b[0;34m)\u001b[0m  \u001b[0;31m# type: ignore[misc]\u001b[0m\u001b[0;34m\u001b[0m\u001b[0;34m\u001b[0m\u001b[0m\n\u001b[1;32m   1735\u001b[0m         \u001b[0;32melse\u001b[0m\u001b[0;34m:\u001b[0m\u001b[0;34m\u001b[0m\u001b[0;34m\u001b[0m\u001b[0m\n\u001b[0;32m-> 1736\u001b[0;31m             \u001b[0;32mreturn\u001b[0m \u001b[0mself\u001b[0m\u001b[0;34m.\u001b[0m\u001b[0m_call_impl\u001b[0m\u001b[0;34m(\u001b[0m\u001b[0;34m*\u001b[0m\u001b[0margs\u001b[0m\u001b[0;34m,\u001b[0m \u001b[0;34m**\u001b[0m\u001b[0mkwargs\u001b[0m\u001b[0;34m)\u001b[0m\u001b[0;34m\u001b[0m\u001b[0;34m\u001b[0m\u001b[0m\n\u001b[0m\u001b[1;32m   1737\u001b[0m \u001b[0;34m\u001b[0m\u001b[0m\n\u001b[1;32m   1738\u001b[0m     \u001b[0;31m# torchrec tests the code consistency with the following code\u001b[0m\u001b[0;34m\u001b[0m\u001b[0;34m\u001b[0m\u001b[0m\n",
            "\u001b[0;32m/usr/local/lib/python3.11/dist-packages/torch/nn/modules/module.py\u001b[0m in \u001b[0;36m_call_impl\u001b[0;34m(self, *args, **kwargs)\u001b[0m\n\u001b[1;32m   1745\u001b[0m                 \u001b[0;32mor\u001b[0m \u001b[0m_global_backward_pre_hooks\u001b[0m \u001b[0;32mor\u001b[0m \u001b[0m_global_backward_hooks\u001b[0m\u001b[0;34m\u001b[0m\u001b[0;34m\u001b[0m\u001b[0m\n\u001b[1;32m   1746\u001b[0m                 or _global_forward_hooks or _global_forward_pre_hooks):\n\u001b[0;32m-> 1747\u001b[0;31m             \u001b[0;32mreturn\u001b[0m \u001b[0mforward_call\u001b[0m\u001b[0;34m(\u001b[0m\u001b[0;34m*\u001b[0m\u001b[0margs\u001b[0m\u001b[0;34m,\u001b[0m \u001b[0;34m**\u001b[0m\u001b[0mkwargs\u001b[0m\u001b[0;34m)\u001b[0m\u001b[0;34m\u001b[0m\u001b[0;34m\u001b[0m\u001b[0m\n\u001b[0m\u001b[1;32m   1748\u001b[0m \u001b[0;34m\u001b[0m\u001b[0m\n\u001b[1;32m   1749\u001b[0m         \u001b[0mresult\u001b[0m \u001b[0;34m=\u001b[0m \u001b[0;32mNone\u001b[0m\u001b[0;34m\u001b[0m\u001b[0;34m\u001b[0m\u001b[0m\n",
            "\u001b[0;32m/usr/local/lib/python3.11/dist-packages/bitsandbytes/nn/modules.py\u001b[0m in \u001b[0;36mforward\u001b[0;34m(self, x)\u001b[0m\n\u001b[1;32m    482\u001b[0m         \u001b[0mbias\u001b[0m \u001b[0;34m=\u001b[0m \u001b[0;32mNone\u001b[0m \u001b[0;32mif\u001b[0m \u001b[0mself\u001b[0m\u001b[0;34m.\u001b[0m\u001b[0mbias\u001b[0m \u001b[0;32mis\u001b[0m \u001b[0;32mNone\u001b[0m \u001b[0;32melse\u001b[0m \u001b[0mself\u001b[0m\u001b[0;34m.\u001b[0m\u001b[0mbias\u001b[0m\u001b[0;34m.\u001b[0m\u001b[0mto\u001b[0m\u001b[0;34m(\u001b[0m\u001b[0mself\u001b[0m\u001b[0;34m.\u001b[0m\u001b[0mcompute_dtype\u001b[0m\u001b[0;34m)\u001b[0m\u001b[0;34m\u001b[0m\u001b[0;34m\u001b[0m\u001b[0m\n\u001b[1;32m    483\u001b[0m \u001b[0;34m\u001b[0m\u001b[0m\n\u001b[0;32m--> 484\u001b[0;31m         \u001b[0;32mreturn\u001b[0m \u001b[0mbnb\u001b[0m\u001b[0;34m.\u001b[0m\u001b[0mmatmul_4bit\u001b[0m\u001b[0;34m(\u001b[0m\u001b[0mx\u001b[0m\u001b[0;34m,\u001b[0m \u001b[0mself\u001b[0m\u001b[0;34m.\u001b[0m\u001b[0mweight\u001b[0m\u001b[0;34m.\u001b[0m\u001b[0mt\u001b[0m\u001b[0;34m(\u001b[0m\u001b[0;34m)\u001b[0m\u001b[0;34m,\u001b[0m \u001b[0mbias\u001b[0m\u001b[0;34m=\u001b[0m\u001b[0mbias\u001b[0m\u001b[0;34m,\u001b[0m \u001b[0mquant_state\u001b[0m\u001b[0;34m=\u001b[0m\u001b[0mself\u001b[0m\u001b[0;34m.\u001b[0m\u001b[0mweight\u001b[0m\u001b[0;34m.\u001b[0m\u001b[0mquant_state\u001b[0m\u001b[0;34m)\u001b[0m\u001b[0;34m.\u001b[0m\u001b[0mto\u001b[0m\u001b[0;34m(\u001b[0m\u001b[0minp_dtype\u001b[0m\u001b[0;34m)\u001b[0m\u001b[0;34m\u001b[0m\u001b[0;34m\u001b[0m\u001b[0m\n\u001b[0m\u001b[1;32m    485\u001b[0m \u001b[0;34m\u001b[0m\u001b[0m\n\u001b[1;32m    486\u001b[0m \u001b[0;34m\u001b[0m\u001b[0m\n",
            "\u001b[0;32m/usr/local/lib/python3.11/dist-packages/bitsandbytes/autograd/_functions.py\u001b[0m in \u001b[0;36mmatmul_4bit\u001b[0;34m(A, B, quant_state, out, bias)\u001b[0m\n\u001b[1;32m    531\u001b[0m             \u001b[0;32mreturn\u001b[0m \u001b[0mout\u001b[0m\u001b[0;34m\u001b[0m\u001b[0;34m\u001b[0m\u001b[0m\n\u001b[1;32m    532\u001b[0m     \u001b[0;32melse\u001b[0m\u001b[0;34m:\u001b[0m\u001b[0;34m\u001b[0m\u001b[0;34m\u001b[0m\u001b[0m\n\u001b[0;32m--> 533\u001b[0;31m         \u001b[0;32mreturn\u001b[0m \u001b[0mMatMul4Bit\u001b[0m\u001b[0;34m.\u001b[0m\u001b[0mapply\u001b[0m\u001b[0;34m(\u001b[0m\u001b[0mA\u001b[0m\u001b[0;34m,\u001b[0m \u001b[0mB\u001b[0m\u001b[0;34m,\u001b[0m \u001b[0mout\u001b[0m\u001b[0;34m,\u001b[0m \u001b[0mbias\u001b[0m\u001b[0;34m,\u001b[0m \u001b[0mquant_state\u001b[0m\u001b[0;34m)\u001b[0m\u001b[0;34m\u001b[0m\u001b[0;34m\u001b[0m\u001b[0m\n\u001b[0m",
            "\u001b[0;32m/usr/local/lib/python3.11/dist-packages/torch/autograd/function.py\u001b[0m in \u001b[0;36mapply\u001b[0;34m(cls, *args, **kwargs)\u001b[0m\n\u001b[1;32m    573\u001b[0m             \u001b[0;31m# See NOTE: [functorch vjp and autograd interaction]\u001b[0m\u001b[0;34m\u001b[0m\u001b[0;34m\u001b[0m\u001b[0m\n\u001b[1;32m    574\u001b[0m             \u001b[0margs\u001b[0m \u001b[0;34m=\u001b[0m \u001b[0m_functorch\u001b[0m\u001b[0;34m.\u001b[0m\u001b[0mutils\u001b[0m\u001b[0;34m.\u001b[0m\u001b[0munwrap_dead_wrappers\u001b[0m\u001b[0;34m(\u001b[0m\u001b[0margs\u001b[0m\u001b[0;34m)\u001b[0m\u001b[0;34m\u001b[0m\u001b[0;34m\u001b[0m\u001b[0m\n\u001b[0;32m--> 575\u001b[0;31m             \u001b[0;32mreturn\u001b[0m \u001b[0msuper\u001b[0m\u001b[0;34m(\u001b[0m\u001b[0;34m)\u001b[0m\u001b[0;34m.\u001b[0m\u001b[0mapply\u001b[0m\u001b[0;34m(\u001b[0m\u001b[0;34m*\u001b[0m\u001b[0margs\u001b[0m\u001b[0;34m,\u001b[0m \u001b[0;34m**\u001b[0m\u001b[0mkwargs\u001b[0m\u001b[0;34m)\u001b[0m  \u001b[0;31m# type: ignore[misc]\u001b[0m\u001b[0;34m\u001b[0m\u001b[0;34m\u001b[0m\u001b[0m\n\u001b[0m\u001b[1;32m    576\u001b[0m \u001b[0;34m\u001b[0m\u001b[0m\n\u001b[1;32m    577\u001b[0m         \u001b[0;32mif\u001b[0m \u001b[0;32mnot\u001b[0m \u001b[0mis_setup_ctx_defined\u001b[0m\u001b[0;34m:\u001b[0m\u001b[0;34m\u001b[0m\u001b[0;34m\u001b[0m\u001b[0m\n",
            "\u001b[0;32m/usr/local/lib/python3.11/dist-packages/bitsandbytes/autograd/_functions.py\u001b[0m in \u001b[0;36mforward\u001b[0;34m(ctx, A, B, out, bias, quant_state)\u001b[0m\n\u001b[1;32m    460\u001b[0m         \u001b[0;31m# 1. Dequantize\u001b[0m\u001b[0;34m\u001b[0m\u001b[0;34m\u001b[0m\u001b[0m\n\u001b[1;32m    461\u001b[0m         \u001b[0;31m# 2. MatmulnN\u001b[0m\u001b[0;34m\u001b[0m\u001b[0;34m\u001b[0m\u001b[0m\n\u001b[0;32m--> 462\u001b[0;31m         \u001b[0moutput\u001b[0m \u001b[0;34m=\u001b[0m \u001b[0mtorch\u001b[0m\u001b[0;34m.\u001b[0m\u001b[0mnn\u001b[0m\u001b[0;34m.\u001b[0m\u001b[0mfunctional\u001b[0m\u001b[0;34m.\u001b[0m\u001b[0mlinear\u001b[0m\u001b[0;34m(\u001b[0m\u001b[0mA\u001b[0m\u001b[0;34m,\u001b[0m \u001b[0mF\u001b[0m\u001b[0;34m.\u001b[0m\u001b[0mdequantize_4bit\u001b[0m\u001b[0;34m(\u001b[0m\u001b[0mB\u001b[0m\u001b[0;34m,\u001b[0m \u001b[0mquant_state\u001b[0m\u001b[0;34m)\u001b[0m\u001b[0;34m.\u001b[0m\u001b[0mto\u001b[0m\u001b[0;34m(\u001b[0m\u001b[0mA\u001b[0m\u001b[0;34m.\u001b[0m\u001b[0mdtype\u001b[0m\u001b[0;34m)\u001b[0m\u001b[0;34m.\u001b[0m\u001b[0mt\u001b[0m\u001b[0;34m(\u001b[0m\u001b[0;34m)\u001b[0m\u001b[0;34m,\u001b[0m \u001b[0mbias\u001b[0m\u001b[0;34m)\u001b[0m\u001b[0;34m\u001b[0m\u001b[0;34m\u001b[0m\u001b[0m\n\u001b[0m\u001b[1;32m    463\u001b[0m \u001b[0;34m\u001b[0m\u001b[0m\n\u001b[1;32m    464\u001b[0m         \u001b[0;31m# 3. Save state\u001b[0m\u001b[0;34m\u001b[0m\u001b[0;34m\u001b[0m\u001b[0m\n",
            "\u001b[0;31mKeyboardInterrupt\u001b[0m: "
          ]
        }
      ],
      "source": [
        "%%time\n",
        "uns_raw_text_evaluations, uns_source_code_evaluations, uns_ast_evaluations, uns_all_predictions = evaluate_model(unsloth4_llama3, tok, get_all_metrics(), get_all_metrics(), get_all_metrics(), first_examples, batch_size=5)"
      ]
    },
    {
      "cell_type": "code",
      "execution_count": null,
      "id": "e02ace1b-b18c-4045-abae-0d85ef53baa5",
      "metadata": {
        "id": "e02ace1b-b18c-4045-abae-0d85ef53baa5"
      },
      "outputs": [],
      "source": [
        "del unsloth4_llama3\n",
        "clear_mem()"
      ]
    },
    {
      "cell_type": "code",
      "source": [
        "!nproc"
      ],
      "metadata": {
        "colab": {
          "base_uri": "https://localhost:8080/"
        },
        "id": "Gn7W8TcXHjM-",
        "outputId": "bbe367ad-519f-4ac3-880e-77ef04212ecf"
      },
      "id": "Gn7W8TcXHjM-",
      "execution_count": 1,
      "outputs": [
        {
          "output_type": "stream",
          "name": "stdout",
          "text": [
            "12\n"
          ]
        }
      ]
    }
  ],
  "metadata": {
    "accelerator": "GPU",
    "colab": {
      "gpuType": "L4",
      "provenance": [],
      "toc_visible": true
    },
    "kernelspec": {
      "display_name": "Python 3",
      "name": "python3"
    },
    "language_info": {
      "codemirror_mode": {
        "name": "ipython",
        "version": 3
      },
      "file_extension": ".py",
      "mimetype": "text/x-python",
      "name": "python",
      "nbconvert_exporter": "python",
      "pygments_lexer": "ipython3",
      "version": "3.10.12"
    },
    "widgets": {
      "application/vnd.jupyter.widget-state+json": {
        "03c41067e47a491d9e4e7437a0dd32eb": {
          "model_module": "@jupyter-widgets/base",
          "model_module_version": "1.2.0",
          "model_name": "LayoutModel",
          "state": {
            "_model_module": "@jupyter-widgets/base",
            "_model_module_version": "1.2.0",
            "_model_name": "LayoutModel",
            "_view_count": null,
            "_view_module": "@jupyter-widgets/base",
            "_view_module_version": "1.2.0",
            "_view_name": "LayoutView",
            "align_content": null,
            "align_items": null,
            "align_self": null,
            "border": null,
            "bottom": null,
            "display": null,
            "flex": null,
            "flex_flow": null,
            "grid_area": null,
            "grid_auto_columns": null,
            "grid_auto_flow": null,
            "grid_auto_rows": null,
            "grid_column": null,
            "grid_gap": null,
            "grid_row": null,
            "grid_template_areas": null,
            "grid_template_columns": null,
            "grid_template_rows": null,
            "height": null,
            "justify_content": null,
            "justify_items": null,
            "left": null,
            "margin": null,
            "max_height": null,
            "max_width": null,
            "min_height": null,
            "min_width": null,
            "object_fit": null,
            "object_position": null,
            "order": null,
            "overflow": null,
            "overflow_x": null,
            "overflow_y": null,
            "padding": null,
            "right": null,
            "top": null,
            "visibility": null,
            "width": null
          }
        },
        "08e6378232144da4a6fc4ed4c2fc2b35": {
          "model_module": "@jupyter-widgets/controls",
          "model_module_version": "1.5.0",
          "model_name": "HTMLModel",
          "state": {
            "_dom_classes": [],
            "_model_module": "@jupyter-widgets/controls",
            "_model_module_version": "1.5.0",
            "_model_name": "HTMLModel",
            "_view_count": null,
            "_view_module": "@jupyter-widgets/controls",
            "_view_module_version": "1.5.0",
            "_view_name": "HTMLView",
            "description": "",
            "description_tooltip": null,
            "layout": "IPY_MODEL_4460053256f44308b2973cd426cb72df",
            "placeholder": "​",
            "style": "IPY_MODEL_fe16fe0be75047aead4165fd56958927",
            "value": " 1.51k/1.51k [00:00&lt;00:00, 139kB/s]"
          }
        },
        "0ad57622245d4066a14ace0123ea1848": {
          "model_module": "@jupyter-widgets/controls",
          "model_module_version": "1.5.0",
          "model_name": "HTMLModel",
          "state": {
            "_dom_classes": [],
            "_model_module": "@jupyter-widgets/controls",
            "_model_module_version": "1.5.0",
            "_model_name": "HTMLModel",
            "_view_count": null,
            "_view_module": "@jupyter-widgets/controls",
            "_view_module_version": "1.5.0",
            "_view_name": "HTMLView",
            "description": "",
            "description_tooltip": null,
            "layout": "IPY_MODEL_0c091feb96cc4b978f076a94205af5e3",
            "placeholder": "​",
            "style": "IPY_MODEL_db07557b1c5a456794b9160d8e8fbeda",
            "value": ""
          }
        },
        "0be52537fe254a4fbfa710887e1d3aff": {
          "model_module": "@jupyter-widgets/base",
          "model_module_version": "1.2.0",
          "model_name": "LayoutModel",
          "state": {
            "_model_module": "@jupyter-widgets/base",
            "_model_module_version": "1.2.0",
            "_model_name": "LayoutModel",
            "_view_count": null,
            "_view_module": "@jupyter-widgets/base",
            "_view_module_version": "1.2.0",
            "_view_name": "LayoutView",
            "align_content": null,
            "align_items": null,
            "align_self": null,
            "border": null,
            "bottom": null,
            "display": null,
            "flex": null,
            "flex_flow": null,
            "grid_area": null,
            "grid_auto_columns": null,
            "grid_auto_flow": null,
            "grid_auto_rows": null,
            "grid_column": null,
            "grid_gap": null,
            "grid_row": null,
            "grid_template_areas": null,
            "grid_template_columns": null,
            "grid_template_rows": null,
            "height": null,
            "justify_content": null,
            "justify_items": null,
            "left": null,
            "margin": null,
            "max_height": null,
            "max_width": null,
            "min_height": null,
            "min_width": null,
            "object_fit": null,
            "object_position": null,
            "order": null,
            "overflow": null,
            "overflow_x": null,
            "overflow_y": null,
            "padding": null,
            "right": null,
            "top": null,
            "visibility": null,
            "width": null
          }
        },
        "0c091feb96cc4b978f076a94205af5e3": {
          "model_module": "@jupyter-widgets/base",
          "model_module_version": "1.2.0",
          "model_name": "LayoutModel",
          "state": {
            "_model_module": "@jupyter-widgets/base",
            "_model_module_version": "1.2.0",
            "_model_name": "LayoutModel",
            "_view_count": null,
            "_view_module": "@jupyter-widgets/base",
            "_view_module_version": "1.2.0",
            "_view_name": "LayoutView",
            "align_content": null,
            "align_items": null,
            "align_self": null,
            "border": null,
            "bottom": null,
            "display": null,
            "flex": null,
            "flex_flow": null,
            "grid_area": null,
            "grid_auto_columns": null,
            "grid_auto_flow": null,
            "grid_auto_rows": null,
            "grid_column": null,
            "grid_gap": null,
            "grid_row": null,
            "grid_template_areas": null,
            "grid_template_columns": null,
            "grid_template_rows": null,
            "height": null,
            "justify_content": null,
            "justify_items": null,
            "left": null,
            "margin": null,
            "max_height": null,
            "max_width": null,
            "min_height": null,
            "min_width": null,
            "object_fit": null,
            "object_position": null,
            "order": null,
            "overflow": null,
            "overflow_x": null,
            "overflow_y": null,
            "padding": null,
            "right": null,
            "top": null,
            "visibility": null,
            "width": null
          }
        },
        "0c295c0e2dc04606a82335226722ed70": {
          "model_module": "@jupyter-widgets/base",
          "model_module_version": "1.2.0",
          "model_name": "LayoutModel",
          "state": {
            "_model_module": "@jupyter-widgets/base",
            "_model_module_version": "1.2.0",
            "_model_name": "LayoutModel",
            "_view_count": null,
            "_view_module": "@jupyter-widgets/base",
            "_view_module_version": "1.2.0",
            "_view_name": "LayoutView",
            "align_content": null,
            "align_items": null,
            "align_self": null,
            "border": null,
            "bottom": null,
            "display": null,
            "flex": null,
            "flex_flow": null,
            "grid_area": null,
            "grid_auto_columns": null,
            "grid_auto_flow": null,
            "grid_auto_rows": null,
            "grid_column": null,
            "grid_gap": null,
            "grid_row": null,
            "grid_template_areas": null,
            "grid_template_columns": null,
            "grid_template_rows": null,
            "height": null,
            "justify_content": null,
            "justify_items": null,
            "left": null,
            "margin": null,
            "max_height": null,
            "max_width": null,
            "min_height": null,
            "min_width": null,
            "object_fit": null,
            "object_position": null,
            "order": null,
            "overflow": null,
            "overflow_x": null,
            "overflow_y": null,
            "padding": null,
            "right": null,
            "top": null,
            "visibility": null,
            "width": null
          }
        },
        "0dc47d343ac744958c0aa12a04096f5b": {
          "model_module": "@jupyter-widgets/base",
          "model_module_version": "1.2.0",
          "model_name": "LayoutModel",
          "state": {
            "_model_module": "@jupyter-widgets/base",
            "_model_module_version": "1.2.0",
            "_model_name": "LayoutModel",
            "_view_count": null,
            "_view_module": "@jupyter-widgets/base",
            "_view_module_version": "1.2.0",
            "_view_name": "LayoutView",
            "align_content": null,
            "align_items": null,
            "align_self": null,
            "border": null,
            "bottom": null,
            "display": null,
            "flex": null,
            "flex_flow": null,
            "grid_area": null,
            "grid_auto_columns": null,
            "grid_auto_flow": null,
            "grid_auto_rows": null,
            "grid_column": null,
            "grid_gap": null,
            "grid_row": null,
            "grid_template_areas": null,
            "grid_template_columns": null,
            "grid_template_rows": null,
            "height": null,
            "justify_content": null,
            "justify_items": null,
            "left": null,
            "margin": null,
            "max_height": null,
            "max_width": null,
            "min_height": null,
            "min_width": null,
            "object_fit": null,
            "object_position": null,
            "order": null,
            "overflow": null,
            "overflow_x": null,
            "overflow_y": null,
            "padding": null,
            "right": null,
            "top": null,
            "visibility": null,
            "width": null
          }
        },
        "192527379fd142feb4cd708da6462bd0": {
          "model_module": "@jupyter-widgets/controls",
          "model_module_version": "1.5.0",
          "model_name": "DescriptionStyleModel",
          "state": {
            "_model_module": "@jupyter-widgets/controls",
            "_model_module_version": "1.5.0",
            "_model_name": "DescriptionStyleModel",
            "_view_count": null,
            "_view_module": "@jupyter-widgets/base",
            "_view_module_version": "1.2.0",
            "_view_name": "StyleView",
            "description_width": ""
          }
        },
        "1a9001f1a1a4454a97b6d6f9495a25f8": {
          "model_module": "@jupyter-widgets/controls",
          "model_module_version": "1.5.0",
          "model_name": "DescriptionStyleModel",
          "state": {
            "_model_module": "@jupyter-widgets/controls",
            "_model_module_version": "1.5.0",
            "_model_name": "DescriptionStyleModel",
            "_view_count": null,
            "_view_module": "@jupyter-widgets/base",
            "_view_module_version": "1.2.0",
            "_view_name": "StyleView",
            "description_width": ""
          }
        },
        "2466fae057a941f39579edd90bc62ada": {
          "model_module": "@jupyter-widgets/controls",
          "model_module_version": "1.5.0",
          "model_name": "ProgressStyleModel",
          "state": {
            "_model_module": "@jupyter-widgets/controls",
            "_model_module_version": "1.5.0",
            "_model_name": "ProgressStyleModel",
            "_view_count": null,
            "_view_module": "@jupyter-widgets/base",
            "_view_module_version": "1.2.0",
            "_view_name": "StyleView",
            "bar_color": null,
            "description_width": ""
          }
        },
        "24ab5c4a7818498a91cfbeb022b2794e": {
          "model_module": "@jupyter-widgets/base",
          "model_module_version": "1.2.0",
          "model_name": "LayoutModel",
          "state": {
            "_model_module": "@jupyter-widgets/base",
            "_model_module_version": "1.2.0",
            "_model_name": "LayoutModel",
            "_view_count": null,
            "_view_module": "@jupyter-widgets/base",
            "_view_module_version": "1.2.0",
            "_view_name": "LayoutView",
            "align_content": null,
            "align_items": null,
            "align_self": null,
            "border": null,
            "bottom": null,
            "display": null,
            "flex": null,
            "flex_flow": null,
            "grid_area": null,
            "grid_auto_columns": null,
            "grid_auto_flow": null,
            "grid_auto_rows": null,
            "grid_column": null,
            "grid_gap": null,
            "grid_row": null,
            "grid_template_areas": null,
            "grid_template_columns": null,
            "grid_template_rows": null,
            "height": null,
            "justify_content": null,
            "justify_items": null,
            "left": null,
            "margin": null,
            "max_height": null,
            "max_width": null,
            "min_height": null,
            "min_width": null,
            "object_fit": null,
            "object_position": null,
            "order": null,
            "overflow": null,
            "overflow_x": null,
            "overflow_y": null,
            "padding": null,
            "right": null,
            "top": null,
            "visibility": null,
            "width": null
          }
        },
        "27b091edf6ff46e98d04cf6aca96aef9": {
          "model_module": "@jupyter-widgets/controls",
          "model_module_version": "1.5.0",
          "model_name": "FloatProgressModel",
          "state": {
            "_dom_classes": [],
            "_model_module": "@jupyter-widgets/controls",
            "_model_module_version": "1.5.0",
            "_model_name": "FloatProgressModel",
            "_view_count": null,
            "_view_module": "@jupyter-widgets/controls",
            "_view_module_version": "1.5.0",
            "_view_name": "ProgressView",
            "bar_style": "success",
            "description": "",
            "description_tooltip": null,
            "layout": "IPY_MODEL_72eddef802b341e9ad8e49ec40503d5f",
            "max": 1,
            "min": 0,
            "orientation": "horizontal",
            "style": "IPY_MODEL_bb226d4e103e4f96a852d1f7858f1d3c",
            "value": 1
          }
        },
        "28c9428ad5694129b7cfa8bc0e01df71": {
          "model_module": "@jupyter-widgets/controls",
          "model_module_version": "1.5.0",
          "model_name": "DescriptionStyleModel",
          "state": {
            "_model_module": "@jupyter-widgets/controls",
            "_model_module_version": "1.5.0",
            "_model_name": "DescriptionStyleModel",
            "_view_count": null,
            "_view_module": "@jupyter-widgets/base",
            "_view_module_version": "1.2.0",
            "_view_name": "StyleView",
            "description_width": ""
          }
        },
        "291a052819fd467cb0c03fd75196d514": {
          "model_module": "@jupyter-widgets/controls",
          "model_module_version": "1.5.0",
          "model_name": "FloatProgressModel",
          "state": {
            "_dom_classes": [],
            "_model_module": "@jupyter-widgets/controls",
            "_model_module_version": "1.5.0",
            "_model_name": "FloatProgressModel",
            "_view_count": null,
            "_view_module": "@jupyter-widgets/controls",
            "_view_module_version": "1.5.0",
            "_view_name": "ProgressView",
            "bar_style": "success",
            "description": "",
            "description_tooltip": null,
            "layout": "IPY_MODEL_a49b0a55c2844ebd89c8fbf4339a6bf4",
            "max": 230,
            "min": 0,
            "orientation": "horizontal",
            "style": "IPY_MODEL_bc16bcda98c641dcb37ca955a88b5b56",
            "value": 230
          }
        },
        "3620f4b2de004a55aa4bc86d22574044": {
          "model_module": "@jupyter-widgets/controls",
          "model_module_version": "1.5.0",
          "model_name": "ProgressStyleModel",
          "state": {
            "_model_module": "@jupyter-widgets/controls",
            "_model_module_version": "1.5.0",
            "_model_name": "ProgressStyleModel",
            "_view_count": null,
            "_view_module": "@jupyter-widgets/base",
            "_view_module_version": "1.2.0",
            "_view_name": "StyleView",
            "bar_color": null,
            "description_width": ""
          }
        },
        "36526451358f4da6acfa94859853a6e8": {
          "model_module": "@jupyter-widgets/controls",
          "model_module_version": "1.5.0",
          "model_name": "HTMLModel",
          "state": {
            "_dom_classes": [],
            "_model_module": "@jupyter-widgets/controls",
            "_model_module_version": "1.5.0",
            "_model_name": "HTMLModel",
            "_view_count": null,
            "_view_module": "@jupyter-widgets/controls",
            "_view_module_version": "1.5.0",
            "_view_name": "HTMLView",
            "description": "",
            "description_tooltip": null,
            "layout": "IPY_MODEL_adabaf3f9aad4c73bf429c0364c294f8",
            "placeholder": "​",
            "style": "IPY_MODEL_94c54783256a4c2395b4f77c1196b187",
            "value": "Uploading the dataset shards: 100%"
          }
        },
        "36db6ed16cc6446495e2c88695633d39": {
          "model_module": "@jupyter-widgets/controls",
          "model_module_version": "1.5.0",
          "model_name": "HBoxModel",
          "state": {
            "_dom_classes": [],
            "_model_module": "@jupyter-widgets/controls",
            "_model_module_version": "1.5.0",
            "_model_name": "HBoxModel",
            "_view_count": null,
            "_view_module": "@jupyter-widgets/controls",
            "_view_module_version": "1.5.0",
            "_view_name": "HBoxView",
            "box_style": "",
            "children": [
              "IPY_MODEL_555792f6f77a4d1abe21c3082d794e5e",
              "IPY_MODEL_8584de921576490aa966a3350702a12f",
              "IPY_MODEL_08e6378232144da4a6fc4ed4c2fc2b35"
            ],
            "layout": "IPY_MODEL_0c295c0e2dc04606a82335226722ed70"
          }
        },
        "371a7ab1355246448dd073ac8332fac2": {
          "model_module": "@jupyter-widgets/base",
          "model_module_version": "1.2.0",
          "model_name": "LayoutModel",
          "state": {
            "_model_module": "@jupyter-widgets/base",
            "_model_module_version": "1.2.0",
            "_model_name": "LayoutModel",
            "_view_count": null,
            "_view_module": "@jupyter-widgets/base",
            "_view_module_version": "1.2.0",
            "_view_name": "LayoutView",
            "align_content": null,
            "align_items": null,
            "align_self": null,
            "border": null,
            "bottom": null,
            "display": null,
            "flex": null,
            "flex_flow": null,
            "grid_area": null,
            "grid_auto_columns": null,
            "grid_auto_flow": null,
            "grid_auto_rows": null,
            "grid_column": null,
            "grid_gap": null,
            "grid_row": null,
            "grid_template_areas": null,
            "grid_template_columns": null,
            "grid_template_rows": null,
            "height": null,
            "justify_content": null,
            "justify_items": null,
            "left": null,
            "margin": null,
            "max_height": null,
            "max_width": null,
            "min_height": null,
            "min_width": null,
            "object_fit": null,
            "object_position": null,
            "order": null,
            "overflow": null,
            "overflow_x": null,
            "overflow_y": null,
            "padding": null,
            "right": null,
            "top": null,
            "visibility": null,
            "width": null
          }
        },
        "3778730b9bb74522be32b54d971dd321": {
          "model_module": "@jupyter-widgets/base",
          "model_module_version": "1.2.0",
          "model_name": "LayoutModel",
          "state": {
            "_model_module": "@jupyter-widgets/base",
            "_model_module_version": "1.2.0",
            "_model_name": "LayoutModel",
            "_view_count": null,
            "_view_module": "@jupyter-widgets/base",
            "_view_module_version": "1.2.0",
            "_view_name": "LayoutView",
            "align_content": null,
            "align_items": null,
            "align_self": null,
            "border": null,
            "bottom": null,
            "display": null,
            "flex": null,
            "flex_flow": null,
            "grid_area": null,
            "grid_auto_columns": null,
            "grid_auto_flow": null,
            "grid_auto_rows": null,
            "grid_column": null,
            "grid_gap": null,
            "grid_row": null,
            "grid_template_areas": null,
            "grid_template_columns": null,
            "grid_template_rows": null,
            "height": null,
            "justify_content": null,
            "justify_items": null,
            "left": null,
            "margin": null,
            "max_height": null,
            "max_width": null,
            "min_height": null,
            "min_width": null,
            "object_fit": null,
            "object_position": null,
            "order": null,
            "overflow": null,
            "overflow_x": null,
            "overflow_y": null,
            "padding": null,
            "right": null,
            "top": null,
            "visibility": null,
            "width": null
          }
        },
        "3ef3091b5f4c4fae9a631f1cb1185137": {
          "model_module": "@jupyter-widgets/controls",
          "model_module_version": "1.5.0",
          "model_name": "HTMLModel",
          "state": {
            "_dom_classes": [],
            "_model_module": "@jupyter-widgets/controls",
            "_model_module_version": "1.5.0",
            "_model_name": "HTMLModel",
            "_view_count": null,
            "_view_module": "@jupyter-widgets/controls",
            "_view_module_version": "1.5.0",
            "_view_name": "HTMLView",
            "description": "",
            "description_tooltip": null,
            "layout": "IPY_MODEL_e7f6cf72281a4eb7aeee61fcebfb2807",
            "placeholder": "​",
            "style": "IPY_MODEL_ffb5673920bc4164bb919c872bf5efed",
            "value": " 3/3 [00:00&lt;00:00, 38.51ba/s]"
          }
        },
        "4377df8c289a4eaea15119d6f7cc577e": {
          "model_module": "@jupyter-widgets/base",
          "model_module_version": "1.2.0",
          "model_name": "LayoutModel",
          "state": {
            "_model_module": "@jupyter-widgets/base",
            "_model_module_version": "1.2.0",
            "_model_name": "LayoutModel",
            "_view_count": null,
            "_view_module": "@jupyter-widgets/base",
            "_view_module_version": "1.2.0",
            "_view_name": "LayoutView",
            "align_content": null,
            "align_items": null,
            "align_self": null,
            "border": null,
            "bottom": null,
            "display": null,
            "flex": null,
            "flex_flow": null,
            "grid_area": null,
            "grid_auto_columns": null,
            "grid_auto_flow": null,
            "grid_auto_rows": null,
            "grid_column": null,
            "grid_gap": null,
            "grid_row": null,
            "grid_template_areas": null,
            "grid_template_columns": null,
            "grid_template_rows": null,
            "height": null,
            "justify_content": null,
            "justify_items": null,
            "left": null,
            "margin": null,
            "max_height": null,
            "max_width": null,
            "min_height": null,
            "min_width": null,
            "object_fit": null,
            "object_position": null,
            "order": null,
            "overflow": null,
            "overflow_x": null,
            "overflow_y": null,
            "padding": null,
            "right": null,
            "top": null,
            "visibility": null,
            "width": null
          }
        },
        "4460053256f44308b2973cd426cb72df": {
          "model_module": "@jupyter-widgets/base",
          "model_module_version": "1.2.0",
          "model_name": "LayoutModel",
          "state": {
            "_model_module": "@jupyter-widgets/base",
            "_model_module_version": "1.2.0",
            "_model_name": "LayoutModel",
            "_view_count": null,
            "_view_module": "@jupyter-widgets/base",
            "_view_module_version": "1.2.0",
            "_view_name": "LayoutView",
            "align_content": null,
            "align_items": null,
            "align_self": null,
            "border": null,
            "bottom": null,
            "display": null,
            "flex": null,
            "flex_flow": null,
            "grid_area": null,
            "grid_auto_columns": null,
            "grid_auto_flow": null,
            "grid_auto_rows": null,
            "grid_column": null,
            "grid_gap": null,
            "grid_row": null,
            "grid_template_areas": null,
            "grid_template_columns": null,
            "grid_template_rows": null,
            "height": null,
            "justify_content": null,
            "justify_items": null,
            "left": null,
            "margin": null,
            "max_height": null,
            "max_width": null,
            "min_height": null,
            "min_width": null,
            "object_fit": null,
            "object_position": null,
            "order": null,
            "overflow": null,
            "overflow_x": null,
            "overflow_y": null,
            "padding": null,
            "right": null,
            "top": null,
            "visibility": null,
            "width": null
          }
        },
        "481c933d06e443e7bc345d108dce2afb": {
          "model_module": "@jupyter-widgets/controls",
          "model_module_version": "1.5.0",
          "model_name": "DescriptionStyleModel",
          "state": {
            "_model_module": "@jupyter-widgets/controls",
            "_model_module_version": "1.5.0",
            "_model_name": "DescriptionStyleModel",
            "_view_count": null,
            "_view_module": "@jupyter-widgets/base",
            "_view_module_version": "1.2.0",
            "_view_name": "StyleView",
            "description_width": ""
          }
        },
        "4b569e785a7d489bbf7bec7d3fb6bb2f": {
          "model_module": "@jupyter-widgets/base",
          "model_module_version": "1.2.0",
          "model_name": "LayoutModel",
          "state": {
            "_model_module": "@jupyter-widgets/base",
            "_model_module_version": "1.2.0",
            "_model_name": "LayoutModel",
            "_view_count": null,
            "_view_module": "@jupyter-widgets/base",
            "_view_module_version": "1.2.0",
            "_view_name": "LayoutView",
            "align_content": null,
            "align_items": null,
            "align_self": null,
            "border": null,
            "bottom": null,
            "display": null,
            "flex": null,
            "flex_flow": null,
            "grid_area": null,
            "grid_auto_columns": null,
            "grid_auto_flow": null,
            "grid_auto_rows": null,
            "grid_column": null,
            "grid_gap": null,
            "grid_row": null,
            "grid_template_areas": null,
            "grid_template_columns": null,
            "grid_template_rows": null,
            "height": null,
            "justify_content": null,
            "justify_items": null,
            "left": null,
            "margin": null,
            "max_height": null,
            "max_width": null,
            "min_height": null,
            "min_width": null,
            "object_fit": null,
            "object_position": null,
            "order": null,
            "overflow": null,
            "overflow_x": null,
            "overflow_y": null,
            "padding": null,
            "right": null,
            "top": null,
            "visibility": null,
            "width": null
          }
        },
        "4c7380cecbec4019b98fcb7bbfc96710": {
          "model_module": "@jupyter-widgets/controls",
          "model_module_version": "1.5.0",
          "model_name": "HTMLModel",
          "state": {
            "_dom_classes": [],
            "_model_module": "@jupyter-widgets/controls",
            "_model_module_version": "1.5.0",
            "_model_name": "HTMLModel",
            "_view_count": null,
            "_view_module": "@jupyter-widgets/controls",
            "_view_module_version": "1.5.0",
            "_view_name": "HTMLView",
            "description": "",
            "description_tooltip": null,
            "layout": "IPY_MODEL_24ab5c4a7818498a91cfbeb022b2794e",
            "placeholder": "​",
            "style": "IPY_MODEL_28c9428ad5694129b7cfa8bc0e01df71",
            "value": "model.safetensors: 100%"
          }
        },
        "535dedbd231a49a59c6ac5febb59f2d2": {
          "model_module": "@jupyter-widgets/controls",
          "model_module_version": "1.5.0",
          "model_name": "HBoxModel",
          "state": {
            "_dom_classes": [],
            "_model_module": "@jupyter-widgets/controls",
            "_model_module_version": "1.5.0",
            "_model_name": "HBoxModel",
            "_view_count": null,
            "_view_module": "@jupyter-widgets/controls",
            "_view_module_version": "1.5.0",
            "_view_name": "HBoxView",
            "box_style": "",
            "children": [
              "IPY_MODEL_36526451358f4da6acfa94859853a6e8",
              "IPY_MODEL_27b091edf6ff46e98d04cf6aca96aef9",
              "IPY_MODEL_670292204d344b5e81a50d83ee9cf8d3"
            ],
            "layout": "IPY_MODEL_90f9118b159842c3bc1960ff104306e3"
          }
        },
        "555792f6f77a4d1abe21c3082d794e5e": {
          "model_module": "@jupyter-widgets/controls",
          "model_module_version": "1.5.0",
          "model_name": "HTMLModel",
          "state": {
            "_dom_classes": [],
            "_model_module": "@jupyter-widgets/controls",
            "_model_module_version": "1.5.0",
            "_model_name": "HTMLModel",
            "_view_count": null,
            "_view_module": "@jupyter-widgets/controls",
            "_view_module_version": "1.5.0",
            "_view_name": "HTMLView",
            "description": "",
            "description_tooltip": null,
            "layout": "IPY_MODEL_655cfb30eab5486496f3531791e9cc3a",
            "placeholder": "​",
            "style": "IPY_MODEL_481c933d06e443e7bc345d108dce2afb",
            "value": "config.json: 100%"
          }
        },
        "5596a93d7aa247839b9d6571b6cc783c": {
          "model_module": "@jupyter-widgets/controls",
          "model_module_version": "1.5.0",
          "model_name": "HTMLModel",
          "state": {
            "_dom_classes": [],
            "_model_module": "@jupyter-widgets/controls",
            "_model_module_version": "1.5.0",
            "_model_name": "HTMLModel",
            "_view_count": null,
            "_view_module": "@jupyter-widgets/controls",
            "_view_module_version": "1.5.0",
            "_view_name": "HTMLView",
            "description": "",
            "description_tooltip": null,
            "layout": "IPY_MODEL_bfd7efce41bb4540a71d105df3003571",
            "placeholder": "​",
            "style": "IPY_MODEL_1a9001f1a1a4454a97b6d6f9495a25f8",
            "value": " 30.0/30.0 [00:00&lt;00:00, 2.29kB/s]"
          }
        },
        "64367b614d8e4d29b0ab05e1f02c784f": {
          "model_module": "@jupyter-widgets/controls",
          "model_module_version": "1.5.0",
          "model_name": "DescriptionStyleModel",
          "state": {
            "_model_module": "@jupyter-widgets/controls",
            "_model_module_version": "1.5.0",
            "_model_name": "DescriptionStyleModel",
            "_view_count": null,
            "_view_module": "@jupyter-widgets/base",
            "_view_module_version": "1.2.0",
            "_view_name": "StyleView",
            "description_width": ""
          }
        },
        "655cfb30eab5486496f3531791e9cc3a": {
          "model_module": "@jupyter-widgets/base",
          "model_module_version": "1.2.0",
          "model_name": "LayoutModel",
          "state": {
            "_model_module": "@jupyter-widgets/base",
            "_model_module_version": "1.2.0",
            "_model_name": "LayoutModel",
            "_view_count": null,
            "_view_module": "@jupyter-widgets/base",
            "_view_module_version": "1.2.0",
            "_view_name": "LayoutView",
            "align_content": null,
            "align_items": null,
            "align_self": null,
            "border": null,
            "bottom": null,
            "display": null,
            "flex": null,
            "flex_flow": null,
            "grid_area": null,
            "grid_auto_columns": null,
            "grid_auto_flow": null,
            "grid_auto_rows": null,
            "grid_column": null,
            "grid_gap": null,
            "grid_row": null,
            "grid_template_areas": null,
            "grid_template_columns": null,
            "grid_template_rows": null,
            "height": null,
            "justify_content": null,
            "justify_items": null,
            "left": null,
            "margin": null,
            "max_height": null,
            "max_width": null,
            "min_height": null,
            "min_width": null,
            "object_fit": null,
            "object_position": null,
            "order": null,
            "overflow": null,
            "overflow_x": null,
            "overflow_y": null,
            "padding": null,
            "right": null,
            "top": null,
            "visibility": null,
            "width": null
          }
        },
        "670292204d344b5e81a50d83ee9cf8d3": {
          "model_module": "@jupyter-widgets/controls",
          "model_module_version": "1.5.0",
          "model_name": "HTMLModel",
          "state": {
            "_dom_classes": [],
            "_model_module": "@jupyter-widgets/controls",
            "_model_module_version": "1.5.0",
            "_model_name": "HTMLModel",
            "_view_count": null,
            "_view_module": "@jupyter-widgets/controls",
            "_view_module_version": "1.5.0",
            "_view_name": "HTMLView",
            "description": "",
            "description_tooltip": null,
            "layout": "IPY_MODEL_d15cb75d835c474cb6be414ba8b9d573",
            "placeholder": "​",
            "style": "IPY_MODEL_9208ab94b44340d39a4d5a5f03e44870",
            "value": " 1/1 [00:00&lt;00:00,  1.79it/s]"
          }
        },
        "6b6b414cbe6649fab0cb94e9f1a5337e": {
          "model_module": "@jupyter-widgets/controls",
          "model_module_version": "1.5.0",
          "model_name": "DescriptionStyleModel",
          "state": {
            "_model_module": "@jupyter-widgets/controls",
            "_model_module_version": "1.5.0",
            "_model_name": "DescriptionStyleModel",
            "_view_count": null,
            "_view_module": "@jupyter-widgets/base",
            "_view_module_version": "1.2.0",
            "_view_name": "StyleView",
            "description_width": ""
          }
        },
        "6e38c12bff24444db3db8f02f83f989b": {
          "model_module": "@jupyter-widgets/controls",
          "model_module_version": "1.5.0",
          "model_name": "FloatProgressModel",
          "state": {
            "_dom_classes": [],
            "_model_module": "@jupyter-widgets/controls",
            "_model_module_version": "1.5.0",
            "_model_name": "FloatProgressModel",
            "_view_count": null,
            "_view_module": "@jupyter-widgets/controls",
            "_view_module_version": "1.5.0",
            "_view_name": "ProgressView",
            "bar_style": "success",
            "description": "",
            "description_tooltip": null,
            "layout": "IPY_MODEL_c2ca24b9587a48eb98175feb1814c8f9",
            "max": 3,
            "min": 0,
            "orientation": "horizontal",
            "style": "IPY_MODEL_eb218f8b37924b2ab1701443b578cb0e",
            "value": 3
          }
        },
        "72eddef802b341e9ad8e49ec40503d5f": {
          "model_module": "@jupyter-widgets/base",
          "model_module_version": "1.2.0",
          "model_name": "LayoutModel",
          "state": {
            "_model_module": "@jupyter-widgets/base",
            "_model_module_version": "1.2.0",
            "_model_name": "LayoutModel",
            "_view_count": null,
            "_view_module": "@jupyter-widgets/base",
            "_view_module_version": "1.2.0",
            "_view_name": "LayoutView",
            "align_content": null,
            "align_items": null,
            "align_self": null,
            "border": null,
            "bottom": null,
            "display": null,
            "flex": null,
            "flex_flow": null,
            "grid_area": null,
            "grid_auto_columns": null,
            "grid_auto_flow": null,
            "grid_auto_rows": null,
            "grid_column": null,
            "grid_gap": null,
            "grid_row": null,
            "grid_template_areas": null,
            "grid_template_columns": null,
            "grid_template_rows": null,
            "height": null,
            "justify_content": null,
            "justify_items": null,
            "left": null,
            "margin": null,
            "max_height": null,
            "max_width": null,
            "min_height": null,
            "min_width": null,
            "object_fit": null,
            "object_position": null,
            "order": null,
            "overflow": null,
            "overflow_x": null,
            "overflow_y": null,
            "padding": null,
            "right": null,
            "top": null,
            "visibility": null,
            "width": null
          }
        },
        "73f5313b6adb4775b10a9504e6f7d5ae": {
          "model_module": "@jupyter-widgets/controls",
          "model_module_version": "1.5.0",
          "model_name": "DescriptionStyleModel",
          "state": {
            "_model_module": "@jupyter-widgets/controls",
            "_model_module_version": "1.5.0",
            "_model_name": "DescriptionStyleModel",
            "_view_count": null,
            "_view_module": "@jupyter-widgets/base",
            "_view_module_version": "1.2.0",
            "_view_name": "StyleView",
            "description_width": ""
          }
        },
        "7ce05ab0a8e842c1ae0fa7ffd7ed56ed": {
          "model_module": "@jupyter-widgets/controls",
          "model_module_version": "1.5.0",
          "model_name": "DescriptionStyleModel",
          "state": {
            "_model_module": "@jupyter-widgets/controls",
            "_model_module_version": "1.5.0",
            "_model_name": "DescriptionStyleModel",
            "_view_count": null,
            "_view_module": "@jupyter-widgets/base",
            "_view_module_version": "1.2.0",
            "_view_name": "StyleView",
            "description_width": ""
          }
        },
        "83b58e2e19f648ba83b3e17665d837ea": {
          "model_module": "@jupyter-widgets/base",
          "model_module_version": "1.2.0",
          "model_name": "LayoutModel",
          "state": {
            "_model_module": "@jupyter-widgets/base",
            "_model_module_version": "1.2.0",
            "_model_name": "LayoutModel",
            "_view_count": null,
            "_view_module": "@jupyter-widgets/base",
            "_view_module_version": "1.2.0",
            "_view_name": "LayoutView",
            "align_content": null,
            "align_items": null,
            "align_self": null,
            "border": null,
            "bottom": null,
            "display": null,
            "flex": null,
            "flex_flow": null,
            "grid_area": null,
            "grid_auto_columns": null,
            "grid_auto_flow": null,
            "grid_auto_rows": null,
            "grid_column": null,
            "grid_gap": null,
            "grid_row": null,
            "grid_template_areas": null,
            "grid_template_columns": null,
            "grid_template_rows": null,
            "height": null,
            "justify_content": null,
            "justify_items": null,
            "left": null,
            "margin": null,
            "max_height": null,
            "max_width": null,
            "min_height": null,
            "min_width": null,
            "object_fit": null,
            "object_position": null,
            "order": null,
            "overflow": null,
            "overflow_x": null,
            "overflow_y": null,
            "padding": null,
            "right": null,
            "top": null,
            "visibility": null,
            "width": null
          }
        },
        "8584de921576490aa966a3350702a12f": {
          "model_module": "@jupyter-widgets/controls",
          "model_module_version": "1.5.0",
          "model_name": "FloatProgressModel",
          "state": {
            "_dom_classes": [],
            "_model_module": "@jupyter-widgets/controls",
            "_model_module_version": "1.5.0",
            "_model_name": "FloatProgressModel",
            "_view_count": null,
            "_view_module": "@jupyter-widgets/controls",
            "_view_module_version": "1.5.0",
            "_view_name": "ProgressView",
            "bar_style": "success",
            "description": "",
            "description_tooltip": null,
            "layout": "IPY_MODEL_e789f396596a464e8bc1eed7baf6c24e",
            "max": 1511,
            "min": 0,
            "orientation": "horizontal",
            "style": "IPY_MODEL_2466fae057a941f39579edd90bc62ada",
            "value": 1511
          }
        },
        "87ef4e98b0de4426a886114d22424a29": {
          "model_module": "@jupyter-widgets/controls",
          "model_module_version": "1.5.0",
          "model_name": "HTMLModel",
          "state": {
            "_dom_classes": [],
            "_model_module": "@jupyter-widgets/controls",
            "_model_module_version": "1.5.0",
            "_model_name": "HTMLModel",
            "_view_count": null,
            "_view_module": "@jupyter-widgets/controls",
            "_view_module_version": "1.5.0",
            "_view_name": "HTMLView",
            "description": "",
            "description_tooltip": null,
            "layout": "IPY_MODEL_0dc47d343ac744958c0aa12a04096f5b",
            "placeholder": "​",
            "style": "IPY_MODEL_7ce05ab0a8e842c1ae0fa7ffd7ed56ed",
            "value": " 1.03G/1.03G [00:24&lt;00:00, 43.0MB/s]"
          }
        },
        "90d9cd7f30f644eb91517c881d069a51": {
          "model_module": "@jupyter-widgets/base",
          "model_module_version": "1.2.0",
          "model_name": "LayoutModel",
          "state": {
            "_model_module": "@jupyter-widgets/base",
            "_model_module_version": "1.2.0",
            "_model_name": "LayoutModel",
            "_view_count": null,
            "_view_module": "@jupyter-widgets/base",
            "_view_module_version": "1.2.0",
            "_view_name": "LayoutView",
            "align_content": null,
            "align_items": null,
            "align_self": null,
            "border": null,
            "bottom": null,
            "display": null,
            "flex": null,
            "flex_flow": null,
            "grid_area": null,
            "grid_auto_columns": null,
            "grid_auto_flow": null,
            "grid_auto_rows": null,
            "grid_column": null,
            "grid_gap": null,
            "grid_row": null,
            "grid_template_areas": null,
            "grid_template_columns": null,
            "grid_template_rows": null,
            "height": null,
            "justify_content": null,
            "justify_items": null,
            "left": null,
            "margin": null,
            "max_height": null,
            "max_width": null,
            "min_height": null,
            "min_width": null,
            "object_fit": null,
            "object_position": null,
            "order": null,
            "overflow": null,
            "overflow_x": null,
            "overflow_y": null,
            "padding": null,
            "right": null,
            "top": null,
            "visibility": null,
            "width": null
          }
        },
        "90f9118b159842c3bc1960ff104306e3": {
          "model_module": "@jupyter-widgets/base",
          "model_module_version": "1.2.0",
          "model_name": "LayoutModel",
          "state": {
            "_model_module": "@jupyter-widgets/base",
            "_model_module_version": "1.2.0",
            "_model_name": "LayoutModel",
            "_view_count": null,
            "_view_module": "@jupyter-widgets/base",
            "_view_module_version": "1.2.0",
            "_view_name": "LayoutView",
            "align_content": null,
            "align_items": null,
            "align_self": null,
            "border": null,
            "bottom": null,
            "display": null,
            "flex": null,
            "flex_flow": null,
            "grid_area": null,
            "grid_auto_columns": null,
            "grid_auto_flow": null,
            "grid_auto_rows": null,
            "grid_column": null,
            "grid_gap": null,
            "grid_row": null,
            "grid_template_areas": null,
            "grid_template_columns": null,
            "grid_template_rows": null,
            "height": null,
            "justify_content": null,
            "justify_items": null,
            "left": null,
            "margin": null,
            "max_height": null,
            "max_width": null,
            "min_height": null,
            "min_width": null,
            "object_fit": null,
            "object_position": null,
            "order": null,
            "overflow": null,
            "overflow_x": null,
            "overflow_y": null,
            "padding": null,
            "right": null,
            "top": null,
            "visibility": null,
            "width": null
          }
        },
        "9208ab94b44340d39a4d5a5f03e44870": {
          "model_module": "@jupyter-widgets/controls",
          "model_module_version": "1.5.0",
          "model_name": "DescriptionStyleModel",
          "state": {
            "_model_module": "@jupyter-widgets/controls",
            "_model_module_version": "1.5.0",
            "_model_name": "DescriptionStyleModel",
            "_view_count": null,
            "_view_module": "@jupyter-widgets/base",
            "_view_module_version": "1.2.0",
            "_view_name": "StyleView",
            "description_width": ""
          }
        },
        "92449f82122c4cbfa5f7450b29543aa6": {
          "model_module": "@jupyter-widgets/controls",
          "model_module_version": "1.5.0",
          "model_name": "ProgressStyleModel",
          "state": {
            "_model_module": "@jupyter-widgets/controls",
            "_model_module_version": "1.5.0",
            "_model_name": "ProgressStyleModel",
            "_view_count": null,
            "_view_module": "@jupyter-widgets/base",
            "_view_module_version": "1.2.0",
            "_view_name": "StyleView",
            "bar_color": null,
            "description_width": ""
          }
        },
        "94c54783256a4c2395b4f77c1196b187": {
          "model_module": "@jupyter-widgets/controls",
          "model_module_version": "1.5.0",
          "model_name": "DescriptionStyleModel",
          "state": {
            "_model_module": "@jupyter-widgets/controls",
            "_model_module_version": "1.5.0",
            "_model_name": "DescriptionStyleModel",
            "_view_count": null,
            "_view_module": "@jupyter-widgets/base",
            "_view_module_version": "1.2.0",
            "_view_name": "StyleView",
            "description_width": ""
          }
        },
        "94f38f632b514bdc9408ff8bb23a5c17": {
          "model_module": "@jupyter-widgets/controls",
          "model_module_version": "1.5.0",
          "model_name": "FloatProgressModel",
          "state": {
            "_dom_classes": [],
            "_model_module": "@jupyter-widgets/controls",
            "_model_module_version": "1.5.0",
            "_model_name": "FloatProgressModel",
            "_view_count": null,
            "_view_module": "@jupyter-widgets/controls",
            "_view_module_version": "1.5.0",
            "_view_name": "ProgressView",
            "bar_style": "danger",
            "description": "",
            "description_tooltip": null,
            "layout": "IPY_MODEL_d1a06674043b414098eee80ee665784d",
            "max": 1,
            "min": 0,
            "orientation": "horizontal",
            "style": "IPY_MODEL_c90ec344336e4205900255bb364a40d2",
            "value": 1
          }
        },
        "a3d21459c293496eba1bca2fe3e57384": {
          "model_module": "@jupyter-widgets/controls",
          "model_module_version": "1.5.0",
          "model_name": "HBoxModel",
          "state": {
            "_dom_classes": [],
            "_model_module": "@jupyter-widgets/controls",
            "_model_module_version": "1.5.0",
            "_model_name": "HBoxModel",
            "_view_count": null,
            "_view_module": "@jupyter-widgets/controls",
            "_view_module_version": "1.5.0",
            "_view_name": "HBoxView",
            "box_style": "",
            "children": [
              "IPY_MODEL_d5ac92ab35d04ad8a7e53f78732f22e0",
              "IPY_MODEL_6e38c12bff24444db3db8f02f83f989b",
              "IPY_MODEL_3ef3091b5f4c4fae9a631f1cb1185137"
            ],
            "layout": "IPY_MODEL_90d9cd7f30f644eb91517c881d069a51"
          }
        },
        "a49b0a55c2844ebd89c8fbf4339a6bf4": {
          "model_module": "@jupyter-widgets/base",
          "model_module_version": "1.2.0",
          "model_name": "LayoutModel",
          "state": {
            "_model_module": "@jupyter-widgets/base",
            "_model_module_version": "1.2.0",
            "_model_name": "LayoutModel",
            "_view_count": null,
            "_view_module": "@jupyter-widgets/base",
            "_view_module_version": "1.2.0",
            "_view_name": "LayoutView",
            "align_content": null,
            "align_items": null,
            "align_self": null,
            "border": null,
            "bottom": null,
            "display": null,
            "flex": null,
            "flex_flow": null,
            "grid_area": null,
            "grid_auto_columns": null,
            "grid_auto_flow": null,
            "grid_auto_rows": null,
            "grid_column": null,
            "grid_gap": null,
            "grid_row": null,
            "grid_template_areas": null,
            "grid_template_columns": null,
            "grid_template_rows": null,
            "height": null,
            "justify_content": null,
            "justify_items": null,
            "left": null,
            "margin": null,
            "max_height": null,
            "max_width": null,
            "min_height": null,
            "min_width": null,
            "object_fit": null,
            "object_position": null,
            "order": null,
            "overflow": null,
            "overflow_x": null,
            "overflow_y": null,
            "padding": null,
            "right": null,
            "top": null,
            "visibility": null,
            "width": null
          }
        },
        "a6a2f48d91514b0089ff037efc45237e": {
          "model_module": "@jupyter-widgets/base",
          "model_module_version": "1.2.0",
          "model_name": "LayoutModel",
          "state": {
            "_model_module": "@jupyter-widgets/base",
            "_model_module_version": "1.2.0",
            "_model_name": "LayoutModel",
            "_view_count": null,
            "_view_module": "@jupyter-widgets/base",
            "_view_module_version": "1.2.0",
            "_view_name": "LayoutView",
            "align_content": null,
            "align_items": null,
            "align_self": null,
            "border": null,
            "bottom": null,
            "display": null,
            "flex": null,
            "flex_flow": null,
            "grid_area": null,
            "grid_auto_columns": null,
            "grid_auto_flow": null,
            "grid_auto_rows": null,
            "grid_column": null,
            "grid_gap": null,
            "grid_row": null,
            "grid_template_areas": null,
            "grid_template_columns": null,
            "grid_template_rows": null,
            "height": null,
            "justify_content": null,
            "justify_items": null,
            "left": null,
            "margin": null,
            "max_height": null,
            "max_width": null,
            "min_height": null,
            "min_width": null,
            "object_fit": null,
            "object_position": null,
            "order": null,
            "overflow": null,
            "overflow_x": null,
            "overflow_y": null,
            "padding": null,
            "right": null,
            "top": null,
            "visibility": null,
            "width": null
          }
        },
        "a8485269e87d464e9bcf062ca430126a": {
          "model_module": "@jupyter-widgets/controls",
          "model_module_version": "1.5.0",
          "model_name": "DescriptionStyleModel",
          "state": {
            "_model_module": "@jupyter-widgets/controls",
            "_model_module_version": "1.5.0",
            "_model_name": "DescriptionStyleModel",
            "_view_count": null,
            "_view_module": "@jupyter-widgets/base",
            "_view_module_version": "1.2.0",
            "_view_name": "StyleView",
            "description_width": ""
          }
        },
        "adabaf3f9aad4c73bf429c0364c294f8": {
          "model_module": "@jupyter-widgets/base",
          "model_module_version": "1.2.0",
          "model_name": "LayoutModel",
          "state": {
            "_model_module": "@jupyter-widgets/base",
            "_model_module_version": "1.2.0",
            "_model_name": "LayoutModel",
            "_view_count": null,
            "_view_module": "@jupyter-widgets/base",
            "_view_module_version": "1.2.0",
            "_view_name": "LayoutView",
            "align_content": null,
            "align_items": null,
            "align_self": null,
            "border": null,
            "bottom": null,
            "display": null,
            "flex": null,
            "flex_flow": null,
            "grid_area": null,
            "grid_auto_columns": null,
            "grid_auto_flow": null,
            "grid_auto_rows": null,
            "grid_column": null,
            "grid_gap": null,
            "grid_row": null,
            "grid_template_areas": null,
            "grid_template_columns": null,
            "grid_template_rows": null,
            "height": null,
            "justify_content": null,
            "justify_items": null,
            "left": null,
            "margin": null,
            "max_height": null,
            "max_width": null,
            "min_height": null,
            "min_width": null,
            "object_fit": null,
            "object_position": null,
            "order": null,
            "overflow": null,
            "overflow_x": null,
            "overflow_y": null,
            "padding": null,
            "right": null,
            "top": null,
            "visibility": null,
            "width": null
          }
        },
        "b50d3f35a5f643e09843eff76281e11e": {
          "model_module": "@jupyter-widgets/controls",
          "model_module_version": "1.5.0",
          "model_name": "HBoxModel",
          "state": {
            "_dom_classes": [],
            "_model_module": "@jupyter-widgets/controls",
            "_model_module_version": "1.5.0",
            "_model_name": "HBoxModel",
            "_view_count": null,
            "_view_module": "@jupyter-widgets/controls",
            "_view_module_version": "1.5.0",
            "_view_name": "HBoxView",
            "box_style": "",
            "children": [
              "IPY_MODEL_0ad57622245d4066a14ace0123ea1848",
              "IPY_MODEL_94f38f632b514bdc9408ff8bb23a5c17",
              "IPY_MODEL_e81331fa68f64dc29484801c1ff90e18"
            ],
            "layout": "IPY_MODEL_ec19287905104d209a826ce111dc973b"
          }
        },
        "b941eaef4c11410191ec1e5f993fbad5": {
          "model_module": "@jupyter-widgets/controls",
          "model_module_version": "1.5.0",
          "model_name": "HBoxModel",
          "state": {
            "_dom_classes": [],
            "_model_module": "@jupyter-widgets/controls",
            "_model_module_version": "1.5.0",
            "_model_name": "HBoxModel",
            "_view_count": null,
            "_view_module": "@jupyter-widgets/controls",
            "_view_module_version": "1.5.0",
            "_view_name": "HBoxView",
            "box_style": "",
            "children": [
              "IPY_MODEL_4c7380cecbec4019b98fcb7bbfc96710",
              "IPY_MODEL_bc5ab3588c954de7946a6b1980cf9e8e",
              "IPY_MODEL_87ef4e98b0de4426a886114d22424a29"
            ],
            "layout": "IPY_MODEL_0be52537fe254a4fbfa710887e1d3aff"
          }
        },
        "bb226d4e103e4f96a852d1f7858f1d3c": {
          "model_module": "@jupyter-widgets/controls",
          "model_module_version": "1.5.0",
          "model_name": "ProgressStyleModel",
          "state": {
            "_model_module": "@jupyter-widgets/controls",
            "_model_module_version": "1.5.0",
            "_model_name": "ProgressStyleModel",
            "_view_count": null,
            "_view_module": "@jupyter-widgets/base",
            "_view_module_version": "1.2.0",
            "_view_name": "StyleView",
            "bar_color": null,
            "description_width": ""
          }
        },
        "bc16bcda98c641dcb37ca955a88b5b56": {
          "model_module": "@jupyter-widgets/controls",
          "model_module_version": "1.5.0",
          "model_name": "ProgressStyleModel",
          "state": {
            "_model_module": "@jupyter-widgets/controls",
            "_model_module_version": "1.5.0",
            "_model_name": "ProgressStyleModel",
            "_view_count": null,
            "_view_module": "@jupyter-widgets/base",
            "_view_module_version": "1.2.0",
            "_view_name": "StyleView",
            "bar_color": null,
            "description_width": ""
          }
        },
        "bc5ab3588c954de7946a6b1980cf9e8e": {
          "model_module": "@jupyter-widgets/controls",
          "model_module_version": "1.5.0",
          "model_name": "FloatProgressModel",
          "state": {
            "_dom_classes": [],
            "_model_module": "@jupyter-widgets/controls",
            "_model_module_version": "1.5.0",
            "_model_name": "FloatProgressModel",
            "_view_count": null,
            "_view_module": "@jupyter-widgets/controls",
            "_view_module_version": "1.5.0",
            "_view_name": "ProgressView",
            "bar_style": "success",
            "description": "",
            "description_tooltip": null,
            "layout": "IPY_MODEL_d37323e4fe8b4f58b340eba42163e1ec",
            "max": 1027676732,
            "min": 0,
            "orientation": "horizontal",
            "style": "IPY_MODEL_3620f4b2de004a55aa4bc86d22574044",
            "value": 1027676732
          }
        },
        "bfd7efce41bb4540a71d105df3003571": {
          "model_module": "@jupyter-widgets/base",
          "model_module_version": "1.2.0",
          "model_name": "LayoutModel",
          "state": {
            "_model_module": "@jupyter-widgets/base",
            "_model_module_version": "1.2.0",
            "_model_name": "LayoutModel",
            "_view_count": null,
            "_view_module": "@jupyter-widgets/base",
            "_view_module_version": "1.2.0",
            "_view_name": "LayoutView",
            "align_content": null,
            "align_items": null,
            "align_self": null,
            "border": null,
            "bottom": null,
            "display": null,
            "flex": null,
            "flex_flow": null,
            "grid_area": null,
            "grid_auto_columns": null,
            "grid_auto_flow": null,
            "grid_auto_rows": null,
            "grid_column": null,
            "grid_gap": null,
            "grid_row": null,
            "grid_template_areas": null,
            "grid_template_columns": null,
            "grid_template_rows": null,
            "height": null,
            "justify_content": null,
            "justify_items": null,
            "left": null,
            "margin": null,
            "max_height": null,
            "max_width": null,
            "min_height": null,
            "min_width": null,
            "object_fit": null,
            "object_position": null,
            "order": null,
            "overflow": null,
            "overflow_x": null,
            "overflow_y": null,
            "padding": null,
            "right": null,
            "top": null,
            "visibility": null,
            "width": null
          }
        },
        "c16bb8713aae4e128ec25557d8ca3a01": {
          "model_module": "@jupyter-widgets/controls",
          "model_module_version": "1.5.0",
          "model_name": "HBoxModel",
          "state": {
            "_dom_classes": [],
            "_model_module": "@jupyter-widgets/controls",
            "_model_module_version": "1.5.0",
            "_model_name": "HBoxModel",
            "_view_count": null,
            "_view_module": "@jupyter-widgets/controls",
            "_view_module_version": "1.5.0",
            "_view_name": "HBoxView",
            "box_style": "",
            "children": [
              "IPY_MODEL_c8ff2aebf80f4fb7a595a1d8b2ef7913",
              "IPY_MODEL_291a052819fd467cb0c03fd75196d514",
              "IPY_MODEL_d02e4c959c0f4bd2b125bb8b9cf9ca05"
            ],
            "layout": "IPY_MODEL_4b569e785a7d489bbf7bec7d3fb6bb2f"
          }
        },
        "c2ca24b9587a48eb98175feb1814c8f9": {
          "model_module": "@jupyter-widgets/base",
          "model_module_version": "1.2.0",
          "model_name": "LayoutModel",
          "state": {
            "_model_module": "@jupyter-widgets/base",
            "_model_module_version": "1.2.0",
            "_model_name": "LayoutModel",
            "_view_count": null,
            "_view_module": "@jupyter-widgets/base",
            "_view_module_version": "1.2.0",
            "_view_name": "LayoutView",
            "align_content": null,
            "align_items": null,
            "align_self": null,
            "border": null,
            "bottom": null,
            "display": null,
            "flex": null,
            "flex_flow": null,
            "grid_area": null,
            "grid_auto_columns": null,
            "grid_auto_flow": null,
            "grid_auto_rows": null,
            "grid_column": null,
            "grid_gap": null,
            "grid_row": null,
            "grid_template_areas": null,
            "grid_template_columns": null,
            "grid_template_rows": null,
            "height": null,
            "justify_content": null,
            "justify_items": null,
            "left": null,
            "margin": null,
            "max_height": null,
            "max_width": null,
            "min_height": null,
            "min_width": null,
            "object_fit": null,
            "object_position": null,
            "order": null,
            "overflow": null,
            "overflow_x": null,
            "overflow_y": null,
            "padding": null,
            "right": null,
            "top": null,
            "visibility": null,
            "width": null
          }
        },
        "c6e470bee4234bac80a47b0e1859ffaa": {
          "model_module": "@jupyter-widgets/controls",
          "model_module_version": "1.5.0",
          "model_name": "HBoxModel",
          "state": {
            "_dom_classes": [],
            "_model_module": "@jupyter-widgets/controls",
            "_model_module_version": "1.5.0",
            "_model_name": "HBoxModel",
            "_view_count": null,
            "_view_module": "@jupyter-widgets/controls",
            "_view_module_version": "1.5.0",
            "_view_name": "HBoxView",
            "box_style": "",
            "children": [
              "IPY_MODEL_f1da10a8d5a040a4a02e7ab7de9d8a12",
              "IPY_MODEL_c9ec198d82ea4ed78da52b06adab6fd0",
              "IPY_MODEL_5596a93d7aa247839b9d6571b6cc783c"
            ],
            "layout": "IPY_MODEL_03c41067e47a491d9e4e7437a0dd32eb"
          }
        },
        "c8ff2aebf80f4fb7a595a1d8b2ef7913": {
          "model_module": "@jupyter-widgets/controls",
          "model_module_version": "1.5.0",
          "model_name": "HTMLModel",
          "state": {
            "_dom_classes": [],
            "_model_module": "@jupyter-widgets/controls",
            "_model_module_version": "1.5.0",
            "_model_name": "HTMLModel",
            "_view_count": null,
            "_view_module": "@jupyter-widgets/controls",
            "_view_module_version": "1.5.0",
            "_view_name": "HTMLView",
            "description": "",
            "description_tooltip": null,
            "layout": "IPY_MODEL_83b58e2e19f648ba83b3e17665d837ea",
            "placeholder": "​",
            "style": "IPY_MODEL_73f5313b6adb4775b10a9504e6f7d5ae",
            "value": "generation_config.json: 100%"
          }
        },
        "c90ec344336e4205900255bb364a40d2": {
          "model_module": "@jupyter-widgets/controls",
          "model_module_version": "1.5.0",
          "model_name": "ProgressStyleModel",
          "state": {
            "_model_module": "@jupyter-widgets/controls",
            "_model_module_version": "1.5.0",
            "_model_name": "ProgressStyleModel",
            "_view_count": null,
            "_view_module": "@jupyter-widgets/base",
            "_view_module_version": "1.2.0",
            "_view_name": "StyleView",
            "bar_color": null,
            "description_width": ""
          }
        },
        "c9ec198d82ea4ed78da52b06adab6fd0": {
          "model_module": "@jupyter-widgets/controls",
          "model_module_version": "1.5.0",
          "model_name": "FloatProgressModel",
          "state": {
            "_dom_classes": [],
            "_model_module": "@jupyter-widgets/controls",
            "_model_module_version": "1.5.0",
            "_model_name": "FloatProgressModel",
            "_view_count": null,
            "_view_module": "@jupyter-widgets/controls",
            "_view_module_version": "1.5.0",
            "_view_name": "ProgressView",
            "bar_style": "success",
            "description": "",
            "description_tooltip": null,
            "layout": "IPY_MODEL_4377df8c289a4eaea15119d6f7cc577e",
            "max": 30,
            "min": 0,
            "orientation": "horizontal",
            "style": "IPY_MODEL_92449f82122c4cbfa5f7450b29543aa6",
            "value": 30
          }
        },
        "d02e4c959c0f4bd2b125bb8b9cf9ca05": {
          "model_module": "@jupyter-widgets/controls",
          "model_module_version": "1.5.0",
          "model_name": "HTMLModel",
          "state": {
            "_dom_classes": [],
            "_model_module": "@jupyter-widgets/controls",
            "_model_module_version": "1.5.0",
            "_model_name": "HTMLModel",
            "_view_count": null,
            "_view_module": "@jupyter-widgets/controls",
            "_view_module_version": "1.5.0",
            "_view_name": "HTMLView",
            "description": "",
            "description_tooltip": null,
            "layout": "IPY_MODEL_3778730b9bb74522be32b54d971dd321",
            "placeholder": "​",
            "style": "IPY_MODEL_192527379fd142feb4cd708da6462bd0",
            "value": " 230/230 [00:00&lt;00:00, 22.0kB/s]"
          }
        },
        "d15cb75d835c474cb6be414ba8b9d573": {
          "model_module": "@jupyter-widgets/base",
          "model_module_version": "1.2.0",
          "model_name": "LayoutModel",
          "state": {
            "_model_module": "@jupyter-widgets/base",
            "_model_module_version": "1.2.0",
            "_model_name": "LayoutModel",
            "_view_count": null,
            "_view_module": "@jupyter-widgets/base",
            "_view_module_version": "1.2.0",
            "_view_name": "LayoutView",
            "align_content": null,
            "align_items": null,
            "align_self": null,
            "border": null,
            "bottom": null,
            "display": null,
            "flex": null,
            "flex_flow": null,
            "grid_area": null,
            "grid_auto_columns": null,
            "grid_auto_flow": null,
            "grid_auto_rows": null,
            "grid_column": null,
            "grid_gap": null,
            "grid_row": null,
            "grid_template_areas": null,
            "grid_template_columns": null,
            "grid_template_rows": null,
            "height": null,
            "justify_content": null,
            "justify_items": null,
            "left": null,
            "margin": null,
            "max_height": null,
            "max_width": null,
            "min_height": null,
            "min_width": null,
            "object_fit": null,
            "object_position": null,
            "order": null,
            "overflow": null,
            "overflow_x": null,
            "overflow_y": null,
            "padding": null,
            "right": null,
            "top": null,
            "visibility": null,
            "width": null
          }
        },
        "d1a06674043b414098eee80ee665784d": {
          "model_module": "@jupyter-widgets/base",
          "model_module_version": "1.2.0",
          "model_name": "LayoutModel",
          "state": {
            "_model_module": "@jupyter-widgets/base",
            "_model_module_version": "1.2.0",
            "_model_name": "LayoutModel",
            "_view_count": null,
            "_view_module": "@jupyter-widgets/base",
            "_view_module_version": "1.2.0",
            "_view_name": "LayoutView",
            "align_content": null,
            "align_items": null,
            "align_self": null,
            "border": null,
            "bottom": null,
            "display": null,
            "flex": null,
            "flex_flow": null,
            "grid_area": null,
            "grid_auto_columns": null,
            "grid_auto_flow": null,
            "grid_auto_rows": null,
            "grid_column": null,
            "grid_gap": null,
            "grid_row": null,
            "grid_template_areas": null,
            "grid_template_columns": null,
            "grid_template_rows": null,
            "height": null,
            "justify_content": null,
            "justify_items": null,
            "left": null,
            "margin": null,
            "max_height": null,
            "max_width": null,
            "min_height": null,
            "min_width": null,
            "object_fit": null,
            "object_position": null,
            "order": null,
            "overflow": null,
            "overflow_x": null,
            "overflow_y": null,
            "padding": null,
            "right": null,
            "top": null,
            "visibility": null,
            "width": "20px"
          }
        },
        "d37323e4fe8b4f58b340eba42163e1ec": {
          "model_module": "@jupyter-widgets/base",
          "model_module_version": "1.2.0",
          "model_name": "LayoutModel",
          "state": {
            "_model_module": "@jupyter-widgets/base",
            "_model_module_version": "1.2.0",
            "_model_name": "LayoutModel",
            "_view_count": null,
            "_view_module": "@jupyter-widgets/base",
            "_view_module_version": "1.2.0",
            "_view_name": "LayoutView",
            "align_content": null,
            "align_items": null,
            "align_self": null,
            "border": null,
            "bottom": null,
            "display": null,
            "flex": null,
            "flex_flow": null,
            "grid_area": null,
            "grid_auto_columns": null,
            "grid_auto_flow": null,
            "grid_auto_rows": null,
            "grid_column": null,
            "grid_gap": null,
            "grid_row": null,
            "grid_template_areas": null,
            "grid_template_columns": null,
            "grid_template_rows": null,
            "height": null,
            "justify_content": null,
            "justify_items": null,
            "left": null,
            "margin": null,
            "max_height": null,
            "max_width": null,
            "min_height": null,
            "min_width": null,
            "object_fit": null,
            "object_position": null,
            "order": null,
            "overflow": null,
            "overflow_x": null,
            "overflow_y": null,
            "padding": null,
            "right": null,
            "top": null,
            "visibility": null,
            "width": null
          }
        },
        "d5ac92ab35d04ad8a7e53f78732f22e0": {
          "model_module": "@jupyter-widgets/controls",
          "model_module_version": "1.5.0",
          "model_name": "HTMLModel",
          "state": {
            "_dom_classes": [],
            "_model_module": "@jupyter-widgets/controls",
            "_model_module_version": "1.5.0",
            "_model_name": "HTMLModel",
            "_view_count": null,
            "_view_module": "@jupyter-widgets/controls",
            "_view_module_version": "1.5.0",
            "_view_name": "HTMLView",
            "description": "",
            "description_tooltip": null,
            "layout": "IPY_MODEL_371a7ab1355246448dd073ac8332fac2",
            "placeholder": "​",
            "style": "IPY_MODEL_64367b614d8e4d29b0ab05e1f02c784f",
            "value": "Creating parquet from Arrow format: 100%"
          }
        },
        "db07557b1c5a456794b9160d8e8fbeda": {
          "model_module": "@jupyter-widgets/controls",
          "model_module_version": "1.5.0",
          "model_name": "DescriptionStyleModel",
          "state": {
            "_model_module": "@jupyter-widgets/controls",
            "_model_module_version": "1.5.0",
            "_model_name": "DescriptionStyleModel",
            "_view_count": null,
            "_view_module": "@jupyter-widgets/base",
            "_view_module_version": "1.2.0",
            "_view_name": "StyleView",
            "description_width": ""
          }
        },
        "e789f396596a464e8bc1eed7baf6c24e": {
          "model_module": "@jupyter-widgets/base",
          "model_module_version": "1.2.0",
          "model_name": "LayoutModel",
          "state": {
            "_model_module": "@jupyter-widgets/base",
            "_model_module_version": "1.2.0",
            "_model_name": "LayoutModel",
            "_view_count": null,
            "_view_module": "@jupyter-widgets/base",
            "_view_module_version": "1.2.0",
            "_view_name": "LayoutView",
            "align_content": null,
            "align_items": null,
            "align_self": null,
            "border": null,
            "bottom": null,
            "display": null,
            "flex": null,
            "flex_flow": null,
            "grid_area": null,
            "grid_auto_columns": null,
            "grid_auto_flow": null,
            "grid_auto_rows": null,
            "grid_column": null,
            "grid_gap": null,
            "grid_row": null,
            "grid_template_areas": null,
            "grid_template_columns": null,
            "grid_template_rows": null,
            "height": null,
            "justify_content": null,
            "justify_items": null,
            "left": null,
            "margin": null,
            "max_height": null,
            "max_width": null,
            "min_height": null,
            "min_width": null,
            "object_fit": null,
            "object_position": null,
            "order": null,
            "overflow": null,
            "overflow_x": null,
            "overflow_y": null,
            "padding": null,
            "right": null,
            "top": null,
            "visibility": null,
            "width": null
          }
        },
        "e7f6cf72281a4eb7aeee61fcebfb2807": {
          "model_module": "@jupyter-widgets/base",
          "model_module_version": "1.2.0",
          "model_name": "LayoutModel",
          "state": {
            "_model_module": "@jupyter-widgets/base",
            "_model_module_version": "1.2.0",
            "_model_name": "LayoutModel",
            "_view_count": null,
            "_view_module": "@jupyter-widgets/base",
            "_view_module_version": "1.2.0",
            "_view_name": "LayoutView",
            "align_content": null,
            "align_items": null,
            "align_self": null,
            "border": null,
            "bottom": null,
            "display": null,
            "flex": null,
            "flex_flow": null,
            "grid_area": null,
            "grid_auto_columns": null,
            "grid_auto_flow": null,
            "grid_auto_rows": null,
            "grid_column": null,
            "grid_gap": null,
            "grid_row": null,
            "grid_template_areas": null,
            "grid_template_columns": null,
            "grid_template_rows": null,
            "height": null,
            "justify_content": null,
            "justify_items": null,
            "left": null,
            "margin": null,
            "max_height": null,
            "max_width": null,
            "min_height": null,
            "min_width": null,
            "object_fit": null,
            "object_position": null,
            "order": null,
            "overflow": null,
            "overflow_x": null,
            "overflow_y": null,
            "padding": null,
            "right": null,
            "top": null,
            "visibility": null,
            "width": null
          }
        },
        "e81331fa68f64dc29484801c1ff90e18": {
          "model_module": "@jupyter-widgets/controls",
          "model_module_version": "1.5.0",
          "model_name": "HTMLModel",
          "state": {
            "_dom_classes": [],
            "_model_module": "@jupyter-widgets/controls",
            "_model_module_version": "1.5.0",
            "_model_name": "HTMLModel",
            "_view_count": null,
            "_view_module": "@jupyter-widgets/controls",
            "_view_module_version": "1.5.0",
            "_view_name": "HTMLView",
            "description": "",
            "description_tooltip": null,
            "layout": "IPY_MODEL_a6a2f48d91514b0089ff037efc45237e",
            "placeholder": "​",
            "style": "IPY_MODEL_a8485269e87d464e9bcf062ca430126a",
            "value": " 2/? [02:12&lt;00:00, 49.80s/it]"
          }
        },
        "eb218f8b37924b2ab1701443b578cb0e": {
          "model_module": "@jupyter-widgets/controls",
          "model_module_version": "1.5.0",
          "model_name": "ProgressStyleModel",
          "state": {
            "_model_module": "@jupyter-widgets/controls",
            "_model_module_version": "1.5.0",
            "_model_name": "ProgressStyleModel",
            "_view_count": null,
            "_view_module": "@jupyter-widgets/base",
            "_view_module_version": "1.2.0",
            "_view_name": "StyleView",
            "bar_color": null,
            "description_width": ""
          }
        },
        "ec19287905104d209a826ce111dc973b": {
          "model_module": "@jupyter-widgets/base",
          "model_module_version": "1.2.0",
          "model_name": "LayoutModel",
          "state": {
            "_model_module": "@jupyter-widgets/base",
            "_model_module_version": "1.2.0",
            "_model_name": "LayoutModel",
            "_view_count": null,
            "_view_module": "@jupyter-widgets/base",
            "_view_module_version": "1.2.0",
            "_view_name": "LayoutView",
            "align_content": null,
            "align_items": null,
            "align_self": null,
            "border": null,
            "bottom": null,
            "display": null,
            "flex": null,
            "flex_flow": null,
            "grid_area": null,
            "grid_auto_columns": null,
            "grid_auto_flow": null,
            "grid_auto_rows": null,
            "grid_column": null,
            "grid_gap": null,
            "grid_row": null,
            "grid_template_areas": null,
            "grid_template_columns": null,
            "grid_template_rows": null,
            "height": null,
            "justify_content": null,
            "justify_items": null,
            "left": null,
            "margin": null,
            "max_height": null,
            "max_width": null,
            "min_height": null,
            "min_width": null,
            "object_fit": null,
            "object_position": null,
            "order": null,
            "overflow": null,
            "overflow_x": null,
            "overflow_y": null,
            "padding": null,
            "right": null,
            "top": null,
            "visibility": null,
            "width": null
          }
        },
        "f1da10a8d5a040a4a02e7ab7de9d8a12": {
          "model_module": "@jupyter-widgets/controls",
          "model_module_version": "1.5.0",
          "model_name": "HTMLModel",
          "state": {
            "_dom_classes": [],
            "_model_module": "@jupyter-widgets/controls",
            "_model_module_version": "1.5.0",
            "_model_name": "HTMLModel",
            "_view_count": null,
            "_view_module": "@jupyter-widgets/controls",
            "_view_module_version": "1.5.0",
            "_view_name": "HTMLView",
            "description": "",
            "description_tooltip": null,
            "layout": "IPY_MODEL_fe2bfac3730d4189887f77e4f0052051",
            "placeholder": "​",
            "style": "IPY_MODEL_6b6b414cbe6649fab0cb94e9f1a5337e",
            "value": "README.md: 100%"
          }
        },
        "fe16fe0be75047aead4165fd56958927": {
          "model_module": "@jupyter-widgets/controls",
          "model_module_version": "1.5.0",
          "model_name": "DescriptionStyleModel",
          "state": {
            "_model_module": "@jupyter-widgets/controls",
            "_model_module_version": "1.5.0",
            "_model_name": "DescriptionStyleModel",
            "_view_count": null,
            "_view_module": "@jupyter-widgets/base",
            "_view_module_version": "1.2.0",
            "_view_name": "StyleView",
            "description_width": ""
          }
        },
        "fe2bfac3730d4189887f77e4f0052051": {
          "model_module": "@jupyter-widgets/base",
          "model_module_version": "1.2.0",
          "model_name": "LayoutModel",
          "state": {
            "_model_module": "@jupyter-widgets/base",
            "_model_module_version": "1.2.0",
            "_model_name": "LayoutModel",
            "_view_count": null,
            "_view_module": "@jupyter-widgets/base",
            "_view_module_version": "1.2.0",
            "_view_name": "LayoutView",
            "align_content": null,
            "align_items": null,
            "align_self": null,
            "border": null,
            "bottom": null,
            "display": null,
            "flex": null,
            "flex_flow": null,
            "grid_area": null,
            "grid_auto_columns": null,
            "grid_auto_flow": null,
            "grid_auto_rows": null,
            "grid_column": null,
            "grid_gap": null,
            "grid_row": null,
            "grid_template_areas": null,
            "grid_template_columns": null,
            "grid_template_rows": null,
            "height": null,
            "justify_content": null,
            "justify_items": null,
            "left": null,
            "margin": null,
            "max_height": null,
            "max_width": null,
            "min_height": null,
            "min_width": null,
            "object_fit": null,
            "object_position": null,
            "order": null,
            "overflow": null,
            "overflow_x": null,
            "overflow_y": null,
            "padding": null,
            "right": null,
            "top": null,
            "visibility": null,
            "width": null
          }
        },
        "ffb5673920bc4164bb919c872bf5efed": {
          "model_module": "@jupyter-widgets/controls",
          "model_module_version": "1.5.0",
          "model_name": "DescriptionStyleModel",
          "state": {
            "_model_module": "@jupyter-widgets/controls",
            "_model_module_version": "1.5.0",
            "_model_name": "DescriptionStyleModel",
            "_view_count": null,
            "_view_module": "@jupyter-widgets/base",
            "_view_module_version": "1.2.0",
            "_view_name": "StyleView",
            "description_width": ""
          }
        },
        "ca1f2b49a8c64809a028b244d94dd0e6": {
          "model_module": "@jupyter-widgets/controls",
          "model_name": "VBoxModel",
          "model_module_version": "1.5.0",
          "state": {
            "_dom_classes": [],
            "_model_module": "@jupyter-widgets/controls",
            "_model_module_version": "1.5.0",
            "_model_name": "VBoxModel",
            "_view_count": null,
            "_view_module": "@jupyter-widgets/controls",
            "_view_module_version": "1.5.0",
            "_view_name": "VBoxView",
            "box_style": "",
            "children": [],
            "layout": "IPY_MODEL_bd633a55158e4a6ea3c6e478026c4f35"
          }
        },
        "33ccdfd3031d4223a2406b7b2bb7c18c": {
          "model_module": "@jupyter-widgets/controls",
          "model_name": "HTMLModel",
          "model_module_version": "1.5.0",
          "state": {
            "_dom_classes": [],
            "_model_module": "@jupyter-widgets/controls",
            "_model_module_version": "1.5.0",
            "_model_name": "HTMLModel",
            "_view_count": null,
            "_view_module": "@jupyter-widgets/controls",
            "_view_module_version": "1.5.0",
            "_view_name": "HTMLView",
            "description": "",
            "description_tooltip": null,
            "layout": "IPY_MODEL_a3af23e41d9843d9aa73e79f9f4a6c6e",
            "placeholder": "​",
            "style": "IPY_MODEL_2f1809f11f6841ae9c01078522c24b77",
            "value": "<center> <img\nsrc=https://huggingface.co/front/assets/huggingface_logo-noborder.svg\nalt='Hugging Face'> <br> Copy a token from <a\nhref=\"https://huggingface.co/settings/tokens\" target=\"_blank\">your Hugging Face\ntokens page</a> and paste it below. <br> Immediately click login after copying\nyour token or it might be stored in plain text in this notebook file. </center>"
          }
        },
        "b1fb6808c27e442aa42cdc69fa0aa139": {
          "model_module": "@jupyter-widgets/controls",
          "model_name": "PasswordModel",
          "model_module_version": "1.5.0",
          "state": {
            "_dom_classes": [],
            "_model_module": "@jupyter-widgets/controls",
            "_model_module_version": "1.5.0",
            "_model_name": "PasswordModel",
            "_view_count": null,
            "_view_module": "@jupyter-widgets/controls",
            "_view_module_version": "1.5.0",
            "_view_name": "PasswordView",
            "continuous_update": true,
            "description": "Token:",
            "description_tooltip": null,
            "disabled": false,
            "layout": "IPY_MODEL_dd79006905b34a4ca649b56db0a23f1c",
            "placeholder": "​",
            "style": "IPY_MODEL_257c80ce586949aaaf57387ace01d53e",
            "value": ""
          }
        },
        "85da865a2557488f9392ea4100c07a7a": {
          "model_module": "@jupyter-widgets/controls",
          "model_name": "CheckboxModel",
          "model_module_version": "1.5.0",
          "state": {
            "_dom_classes": [],
            "_model_module": "@jupyter-widgets/controls",
            "_model_module_version": "1.5.0",
            "_model_name": "CheckboxModel",
            "_view_count": null,
            "_view_module": "@jupyter-widgets/controls",
            "_view_module_version": "1.5.0",
            "_view_name": "CheckboxView",
            "description": "Add token as git credential?",
            "description_tooltip": null,
            "disabled": false,
            "indent": true,
            "layout": "IPY_MODEL_bd8d695f65f34a9ab9d782fa63d59227",
            "style": "IPY_MODEL_0abe4191cf114aaf82c2b516b8e170c6",
            "value": false
          }
        },
        "70a674ec1709447f96df210a2937e8a2": {
          "model_module": "@jupyter-widgets/controls",
          "model_name": "ButtonModel",
          "model_module_version": "1.5.0",
          "state": {
            "_dom_classes": [],
            "_model_module": "@jupyter-widgets/controls",
            "_model_module_version": "1.5.0",
            "_model_name": "ButtonModel",
            "_view_count": null,
            "_view_module": "@jupyter-widgets/controls",
            "_view_module_version": "1.5.0",
            "_view_name": "ButtonView",
            "button_style": "",
            "description": "Login",
            "disabled": false,
            "icon": "",
            "layout": "IPY_MODEL_6947694e230c420092e68e1743665288",
            "style": "IPY_MODEL_02739349838543b1849bb6860710b476",
            "tooltip": ""
          }
        },
        "6c6bea75f9cd49a49e6b4dfd630be001": {
          "model_module": "@jupyter-widgets/controls",
          "model_name": "HTMLModel",
          "model_module_version": "1.5.0",
          "state": {
            "_dom_classes": [],
            "_model_module": "@jupyter-widgets/controls",
            "_model_module_version": "1.5.0",
            "_model_name": "HTMLModel",
            "_view_count": null,
            "_view_module": "@jupyter-widgets/controls",
            "_view_module_version": "1.5.0",
            "_view_name": "HTMLView",
            "description": "",
            "description_tooltip": null,
            "layout": "IPY_MODEL_1a43dc81d44146ef9f1b92c13b1ac2a7",
            "placeholder": "​",
            "style": "IPY_MODEL_257d9fdec8044f9a8cdaaa83f55453be",
            "value": "\n<b>Pro Tip:</b> If you don't already have one, you can create a dedicated\n'notebooks' token with 'write' access, that you can then easily reuse for all\nnotebooks. </center>"
          }
        },
        "bd633a55158e4a6ea3c6e478026c4f35": {
          "model_module": "@jupyter-widgets/base",
          "model_name": "LayoutModel",
          "model_module_version": "1.2.0",
          "state": {
            "_model_module": "@jupyter-widgets/base",
            "_model_module_version": "1.2.0",
            "_model_name": "LayoutModel",
            "_view_count": null,
            "_view_module": "@jupyter-widgets/base",
            "_view_module_version": "1.2.0",
            "_view_name": "LayoutView",
            "align_content": null,
            "align_items": "center",
            "align_self": null,
            "border": null,
            "bottom": null,
            "display": "flex",
            "flex": null,
            "flex_flow": "column",
            "grid_area": null,
            "grid_auto_columns": null,
            "grid_auto_flow": null,
            "grid_auto_rows": null,
            "grid_column": null,
            "grid_gap": null,
            "grid_row": null,
            "grid_template_areas": null,
            "grid_template_columns": null,
            "grid_template_rows": null,
            "height": null,
            "justify_content": null,
            "justify_items": null,
            "left": null,
            "margin": null,
            "max_height": null,
            "max_width": null,
            "min_height": null,
            "min_width": null,
            "object_fit": null,
            "object_position": null,
            "order": null,
            "overflow": null,
            "overflow_x": null,
            "overflow_y": null,
            "padding": null,
            "right": null,
            "top": null,
            "visibility": null,
            "width": "50%"
          }
        },
        "a3af23e41d9843d9aa73e79f9f4a6c6e": {
          "model_module": "@jupyter-widgets/base",
          "model_name": "LayoutModel",
          "model_module_version": "1.2.0",
          "state": {
            "_model_module": "@jupyter-widgets/base",
            "_model_module_version": "1.2.0",
            "_model_name": "LayoutModel",
            "_view_count": null,
            "_view_module": "@jupyter-widgets/base",
            "_view_module_version": "1.2.0",
            "_view_name": "LayoutView",
            "align_content": null,
            "align_items": null,
            "align_self": null,
            "border": null,
            "bottom": null,
            "display": null,
            "flex": null,
            "flex_flow": null,
            "grid_area": null,
            "grid_auto_columns": null,
            "grid_auto_flow": null,
            "grid_auto_rows": null,
            "grid_column": null,
            "grid_gap": null,
            "grid_row": null,
            "grid_template_areas": null,
            "grid_template_columns": null,
            "grid_template_rows": null,
            "height": null,
            "justify_content": null,
            "justify_items": null,
            "left": null,
            "margin": null,
            "max_height": null,
            "max_width": null,
            "min_height": null,
            "min_width": null,
            "object_fit": null,
            "object_position": null,
            "order": null,
            "overflow": null,
            "overflow_x": null,
            "overflow_y": null,
            "padding": null,
            "right": null,
            "top": null,
            "visibility": null,
            "width": null
          }
        },
        "2f1809f11f6841ae9c01078522c24b77": {
          "model_module": "@jupyter-widgets/controls",
          "model_name": "DescriptionStyleModel",
          "model_module_version": "1.5.0",
          "state": {
            "_model_module": "@jupyter-widgets/controls",
            "_model_module_version": "1.5.0",
            "_model_name": "DescriptionStyleModel",
            "_view_count": null,
            "_view_module": "@jupyter-widgets/base",
            "_view_module_version": "1.2.0",
            "_view_name": "StyleView",
            "description_width": ""
          }
        },
        "dd79006905b34a4ca649b56db0a23f1c": {
          "model_module": "@jupyter-widgets/base",
          "model_name": "LayoutModel",
          "model_module_version": "1.2.0",
          "state": {
            "_model_module": "@jupyter-widgets/base",
            "_model_module_version": "1.2.0",
            "_model_name": "LayoutModel",
            "_view_count": null,
            "_view_module": "@jupyter-widgets/base",
            "_view_module_version": "1.2.0",
            "_view_name": "LayoutView",
            "align_content": null,
            "align_items": null,
            "align_self": null,
            "border": null,
            "bottom": null,
            "display": null,
            "flex": null,
            "flex_flow": null,
            "grid_area": null,
            "grid_auto_columns": null,
            "grid_auto_flow": null,
            "grid_auto_rows": null,
            "grid_column": null,
            "grid_gap": null,
            "grid_row": null,
            "grid_template_areas": null,
            "grid_template_columns": null,
            "grid_template_rows": null,
            "height": null,
            "justify_content": null,
            "justify_items": null,
            "left": null,
            "margin": null,
            "max_height": null,
            "max_width": null,
            "min_height": null,
            "min_width": null,
            "object_fit": null,
            "object_position": null,
            "order": null,
            "overflow": null,
            "overflow_x": null,
            "overflow_y": null,
            "padding": null,
            "right": null,
            "top": null,
            "visibility": null,
            "width": null
          }
        },
        "257c80ce586949aaaf57387ace01d53e": {
          "model_module": "@jupyter-widgets/controls",
          "model_name": "DescriptionStyleModel",
          "model_module_version": "1.5.0",
          "state": {
            "_model_module": "@jupyter-widgets/controls",
            "_model_module_version": "1.5.0",
            "_model_name": "DescriptionStyleModel",
            "_view_count": null,
            "_view_module": "@jupyter-widgets/base",
            "_view_module_version": "1.2.0",
            "_view_name": "StyleView",
            "description_width": ""
          }
        },
        "bd8d695f65f34a9ab9d782fa63d59227": {
          "model_module": "@jupyter-widgets/base",
          "model_name": "LayoutModel",
          "model_module_version": "1.2.0",
          "state": {
            "_model_module": "@jupyter-widgets/base",
            "_model_module_version": "1.2.0",
            "_model_name": "LayoutModel",
            "_view_count": null,
            "_view_module": "@jupyter-widgets/base",
            "_view_module_version": "1.2.0",
            "_view_name": "LayoutView",
            "align_content": null,
            "align_items": null,
            "align_self": null,
            "border": null,
            "bottom": null,
            "display": null,
            "flex": null,
            "flex_flow": null,
            "grid_area": null,
            "grid_auto_columns": null,
            "grid_auto_flow": null,
            "grid_auto_rows": null,
            "grid_column": null,
            "grid_gap": null,
            "grid_row": null,
            "grid_template_areas": null,
            "grid_template_columns": null,
            "grid_template_rows": null,
            "height": null,
            "justify_content": null,
            "justify_items": null,
            "left": null,
            "margin": null,
            "max_height": null,
            "max_width": null,
            "min_height": null,
            "min_width": null,
            "object_fit": null,
            "object_position": null,
            "order": null,
            "overflow": null,
            "overflow_x": null,
            "overflow_y": null,
            "padding": null,
            "right": null,
            "top": null,
            "visibility": null,
            "width": null
          }
        },
        "0abe4191cf114aaf82c2b516b8e170c6": {
          "model_module": "@jupyter-widgets/controls",
          "model_name": "DescriptionStyleModel",
          "model_module_version": "1.5.0",
          "state": {
            "_model_module": "@jupyter-widgets/controls",
            "_model_module_version": "1.5.0",
            "_model_name": "DescriptionStyleModel",
            "_view_count": null,
            "_view_module": "@jupyter-widgets/base",
            "_view_module_version": "1.2.0",
            "_view_name": "StyleView",
            "description_width": ""
          }
        },
        "6947694e230c420092e68e1743665288": {
          "model_module": "@jupyter-widgets/base",
          "model_name": "LayoutModel",
          "model_module_version": "1.2.0",
          "state": {
            "_model_module": "@jupyter-widgets/base",
            "_model_module_version": "1.2.0",
            "_model_name": "LayoutModel",
            "_view_count": null,
            "_view_module": "@jupyter-widgets/base",
            "_view_module_version": "1.2.0",
            "_view_name": "LayoutView",
            "align_content": null,
            "align_items": null,
            "align_self": null,
            "border": null,
            "bottom": null,
            "display": null,
            "flex": null,
            "flex_flow": null,
            "grid_area": null,
            "grid_auto_columns": null,
            "grid_auto_flow": null,
            "grid_auto_rows": null,
            "grid_column": null,
            "grid_gap": null,
            "grid_row": null,
            "grid_template_areas": null,
            "grid_template_columns": null,
            "grid_template_rows": null,
            "height": null,
            "justify_content": null,
            "justify_items": null,
            "left": null,
            "margin": null,
            "max_height": null,
            "max_width": null,
            "min_height": null,
            "min_width": null,
            "object_fit": null,
            "object_position": null,
            "order": null,
            "overflow": null,
            "overflow_x": null,
            "overflow_y": null,
            "padding": null,
            "right": null,
            "top": null,
            "visibility": null,
            "width": null
          }
        },
        "02739349838543b1849bb6860710b476": {
          "model_module": "@jupyter-widgets/controls",
          "model_name": "ButtonStyleModel",
          "model_module_version": "1.5.0",
          "state": {
            "_model_module": "@jupyter-widgets/controls",
            "_model_module_version": "1.5.0",
            "_model_name": "ButtonStyleModel",
            "_view_count": null,
            "_view_module": "@jupyter-widgets/base",
            "_view_module_version": "1.2.0",
            "_view_name": "StyleView",
            "button_color": null,
            "font_weight": ""
          }
        },
        "1a43dc81d44146ef9f1b92c13b1ac2a7": {
          "model_module": "@jupyter-widgets/base",
          "model_name": "LayoutModel",
          "model_module_version": "1.2.0",
          "state": {
            "_model_module": "@jupyter-widgets/base",
            "_model_module_version": "1.2.0",
            "_model_name": "LayoutModel",
            "_view_count": null,
            "_view_module": "@jupyter-widgets/base",
            "_view_module_version": "1.2.0",
            "_view_name": "LayoutView",
            "align_content": null,
            "align_items": null,
            "align_self": null,
            "border": null,
            "bottom": null,
            "display": null,
            "flex": null,
            "flex_flow": null,
            "grid_area": null,
            "grid_auto_columns": null,
            "grid_auto_flow": null,
            "grid_auto_rows": null,
            "grid_column": null,
            "grid_gap": null,
            "grid_row": null,
            "grid_template_areas": null,
            "grid_template_columns": null,
            "grid_template_rows": null,
            "height": null,
            "justify_content": null,
            "justify_items": null,
            "left": null,
            "margin": null,
            "max_height": null,
            "max_width": null,
            "min_height": null,
            "min_width": null,
            "object_fit": null,
            "object_position": null,
            "order": null,
            "overflow": null,
            "overflow_x": null,
            "overflow_y": null,
            "padding": null,
            "right": null,
            "top": null,
            "visibility": null,
            "width": null
          }
        },
        "257d9fdec8044f9a8cdaaa83f55453be": {
          "model_module": "@jupyter-widgets/controls",
          "model_name": "DescriptionStyleModel",
          "model_module_version": "1.5.0",
          "state": {
            "_model_module": "@jupyter-widgets/controls",
            "_model_module_version": "1.5.0",
            "_model_name": "DescriptionStyleModel",
            "_view_count": null,
            "_view_module": "@jupyter-widgets/base",
            "_view_module_version": "1.2.0",
            "_view_name": "StyleView",
            "description_width": ""
          }
        },
        "1623ae9ac2c342beb2f45100837f5bb0": {
          "model_module": "@jupyter-widgets/controls",
          "model_name": "LabelModel",
          "model_module_version": "1.5.0",
          "state": {
            "_dom_classes": [],
            "_model_module": "@jupyter-widgets/controls",
            "_model_module_version": "1.5.0",
            "_model_name": "LabelModel",
            "_view_count": null,
            "_view_module": "@jupyter-widgets/controls",
            "_view_module_version": "1.5.0",
            "_view_name": "LabelView",
            "description": "",
            "description_tooltip": null,
            "layout": "IPY_MODEL_1a166fe28ebb45808687e3934a6bea35",
            "placeholder": "​",
            "style": "IPY_MODEL_5a1de887508740ed9534a35d3856182b",
            "value": "Connecting..."
          }
        },
        "1a166fe28ebb45808687e3934a6bea35": {
          "model_module": "@jupyter-widgets/base",
          "model_name": "LayoutModel",
          "model_module_version": "1.2.0",
          "state": {
            "_model_module": "@jupyter-widgets/base",
            "_model_module_version": "1.2.0",
            "_model_name": "LayoutModel",
            "_view_count": null,
            "_view_module": "@jupyter-widgets/base",
            "_view_module_version": "1.2.0",
            "_view_name": "LayoutView",
            "align_content": null,
            "align_items": null,
            "align_self": null,
            "border": null,
            "bottom": null,
            "display": null,
            "flex": null,
            "flex_flow": null,
            "grid_area": null,
            "grid_auto_columns": null,
            "grid_auto_flow": null,
            "grid_auto_rows": null,
            "grid_column": null,
            "grid_gap": null,
            "grid_row": null,
            "grid_template_areas": null,
            "grid_template_columns": null,
            "grid_template_rows": null,
            "height": null,
            "justify_content": null,
            "justify_items": null,
            "left": null,
            "margin": null,
            "max_height": null,
            "max_width": null,
            "min_height": null,
            "min_width": null,
            "object_fit": null,
            "object_position": null,
            "order": null,
            "overflow": null,
            "overflow_x": null,
            "overflow_y": null,
            "padding": null,
            "right": null,
            "top": null,
            "visibility": null,
            "width": null
          }
        },
        "5a1de887508740ed9534a35d3856182b": {
          "model_module": "@jupyter-widgets/controls",
          "model_name": "DescriptionStyleModel",
          "model_module_version": "1.5.0",
          "state": {
            "_model_module": "@jupyter-widgets/controls",
            "_model_module_version": "1.5.0",
            "_model_name": "DescriptionStyleModel",
            "_view_count": null,
            "_view_module": "@jupyter-widgets/base",
            "_view_module_version": "1.2.0",
            "_view_name": "StyleView",
            "description_width": ""
          }
        },
        "dd37d50e81cb4ad6bc56d07def935dcb": {
          "model_module": "@jupyter-widgets/controls",
          "model_name": "HBoxModel",
          "model_module_version": "1.5.0",
          "state": {
            "_dom_classes": [],
            "_model_module": "@jupyter-widgets/controls",
            "_model_module_version": "1.5.0",
            "_model_name": "HBoxModel",
            "_view_count": null,
            "_view_module": "@jupyter-widgets/controls",
            "_view_module_version": "1.5.0",
            "_view_name": "HBoxView",
            "box_style": "",
            "children": [
              "IPY_MODEL_d53e05570125476fa99b216b345b2c50",
              "IPY_MODEL_c5ec237d910040ed88bdef2d80d75865",
              "IPY_MODEL_74ce53ea4dce413babd71bc320bc6d54"
            ],
            "layout": "IPY_MODEL_30bd9ff702804075928397945f6fd3ad"
          }
        },
        "d53e05570125476fa99b216b345b2c50": {
          "model_module": "@jupyter-widgets/controls",
          "model_name": "HTMLModel",
          "model_module_version": "1.5.0",
          "state": {
            "_dom_classes": [],
            "_model_module": "@jupyter-widgets/controls",
            "_model_module_version": "1.5.0",
            "_model_name": "HTMLModel",
            "_view_count": null,
            "_view_module": "@jupyter-widgets/controls",
            "_view_module_version": "1.5.0",
            "_view_name": "HTMLView",
            "description": "",
            "description_tooltip": null,
            "layout": "IPY_MODEL_d884bae849954055b0facc7490f2abb1",
            "placeholder": "​",
            "style": "IPY_MODEL_71eb44d6571b435992986d2ec785348e",
            "value": ""
          }
        },
        "c5ec237d910040ed88bdef2d80d75865": {
          "model_module": "@jupyter-widgets/controls",
          "model_name": "FloatProgressModel",
          "model_module_version": "1.5.0",
          "state": {
            "_dom_classes": [],
            "_model_module": "@jupyter-widgets/controls",
            "_model_module_version": "1.5.0",
            "_model_name": "FloatProgressModel",
            "_view_count": null,
            "_view_module": "@jupyter-widgets/controls",
            "_view_module_version": "1.5.0",
            "_view_name": "ProgressView",
            "bar_style": "success",
            "description": "",
            "description_tooltip": null,
            "layout": "IPY_MODEL_76945c48e31044019a6ed102bc6783c5",
            "max": 1,
            "min": 0,
            "orientation": "horizontal",
            "style": "IPY_MODEL_c0dc9600e2454358b6e695e4f7225651",
            "value": 1
          }
        },
        "74ce53ea4dce413babd71bc320bc6d54": {
          "model_module": "@jupyter-widgets/controls",
          "model_name": "HTMLModel",
          "model_module_version": "1.5.0",
          "state": {
            "_dom_classes": [],
            "_model_module": "@jupyter-widgets/controls",
            "_model_module_version": "1.5.0",
            "_model_name": "HTMLModel",
            "_view_count": null,
            "_view_module": "@jupyter-widgets/controls",
            "_view_module_version": "1.5.0",
            "_view_name": "HTMLView",
            "description": "",
            "description_tooltip": null,
            "layout": "IPY_MODEL_451f25f0529f4e05babccdf4ad2ed894",
            "placeholder": "​",
            "style": "IPY_MODEL_8dd70c672e1d46669163d3ac38fb22c3",
            "value": " 1/? [02:49&lt;00:00, 169.54s/it]"
          }
        },
        "30bd9ff702804075928397945f6fd3ad": {
          "model_module": "@jupyter-widgets/base",
          "model_name": "LayoutModel",
          "model_module_version": "1.2.0",
          "state": {
            "_model_module": "@jupyter-widgets/base",
            "_model_module_version": "1.2.0",
            "_model_name": "LayoutModel",
            "_view_count": null,
            "_view_module": "@jupyter-widgets/base",
            "_view_module_version": "1.2.0",
            "_view_name": "LayoutView",
            "align_content": null,
            "align_items": null,
            "align_self": null,
            "border": null,
            "bottom": null,
            "display": null,
            "flex": null,
            "flex_flow": null,
            "grid_area": null,
            "grid_auto_columns": null,
            "grid_auto_flow": null,
            "grid_auto_rows": null,
            "grid_column": null,
            "grid_gap": null,
            "grid_row": null,
            "grid_template_areas": null,
            "grid_template_columns": null,
            "grid_template_rows": null,
            "height": null,
            "justify_content": null,
            "justify_items": null,
            "left": null,
            "margin": null,
            "max_height": null,
            "max_width": null,
            "min_height": null,
            "min_width": null,
            "object_fit": null,
            "object_position": null,
            "order": null,
            "overflow": null,
            "overflow_x": null,
            "overflow_y": null,
            "padding": null,
            "right": null,
            "top": null,
            "visibility": null,
            "width": null
          }
        },
        "d884bae849954055b0facc7490f2abb1": {
          "model_module": "@jupyter-widgets/base",
          "model_name": "LayoutModel",
          "model_module_version": "1.2.0",
          "state": {
            "_model_module": "@jupyter-widgets/base",
            "_model_module_version": "1.2.0",
            "_model_name": "LayoutModel",
            "_view_count": null,
            "_view_module": "@jupyter-widgets/base",
            "_view_module_version": "1.2.0",
            "_view_name": "LayoutView",
            "align_content": null,
            "align_items": null,
            "align_self": null,
            "border": null,
            "bottom": null,
            "display": null,
            "flex": null,
            "flex_flow": null,
            "grid_area": null,
            "grid_auto_columns": null,
            "grid_auto_flow": null,
            "grid_auto_rows": null,
            "grid_column": null,
            "grid_gap": null,
            "grid_row": null,
            "grid_template_areas": null,
            "grid_template_columns": null,
            "grid_template_rows": null,
            "height": null,
            "justify_content": null,
            "justify_items": null,
            "left": null,
            "margin": null,
            "max_height": null,
            "max_width": null,
            "min_height": null,
            "min_width": null,
            "object_fit": null,
            "object_position": null,
            "order": null,
            "overflow": null,
            "overflow_x": null,
            "overflow_y": null,
            "padding": null,
            "right": null,
            "top": null,
            "visibility": null,
            "width": null
          }
        },
        "71eb44d6571b435992986d2ec785348e": {
          "model_module": "@jupyter-widgets/controls",
          "model_name": "DescriptionStyleModel",
          "model_module_version": "1.5.0",
          "state": {
            "_model_module": "@jupyter-widgets/controls",
            "_model_module_version": "1.5.0",
            "_model_name": "DescriptionStyleModel",
            "_view_count": null,
            "_view_module": "@jupyter-widgets/base",
            "_view_module_version": "1.2.0",
            "_view_name": "StyleView",
            "description_width": ""
          }
        },
        "76945c48e31044019a6ed102bc6783c5": {
          "model_module": "@jupyter-widgets/base",
          "model_name": "LayoutModel",
          "model_module_version": "1.2.0",
          "state": {
            "_model_module": "@jupyter-widgets/base",
            "_model_module_version": "1.2.0",
            "_model_name": "LayoutModel",
            "_view_count": null,
            "_view_module": "@jupyter-widgets/base",
            "_view_module_version": "1.2.0",
            "_view_name": "LayoutView",
            "align_content": null,
            "align_items": null,
            "align_self": null,
            "border": null,
            "bottom": null,
            "display": null,
            "flex": null,
            "flex_flow": null,
            "grid_area": null,
            "grid_auto_columns": null,
            "grid_auto_flow": null,
            "grid_auto_rows": null,
            "grid_column": null,
            "grid_gap": null,
            "grid_row": null,
            "grid_template_areas": null,
            "grid_template_columns": null,
            "grid_template_rows": null,
            "height": null,
            "justify_content": null,
            "justify_items": null,
            "left": null,
            "margin": null,
            "max_height": null,
            "max_width": null,
            "min_height": null,
            "min_width": null,
            "object_fit": null,
            "object_position": null,
            "order": null,
            "overflow": null,
            "overflow_x": null,
            "overflow_y": null,
            "padding": null,
            "right": null,
            "top": null,
            "visibility": null,
            "width": "20px"
          }
        },
        "c0dc9600e2454358b6e695e4f7225651": {
          "model_module": "@jupyter-widgets/controls",
          "model_name": "ProgressStyleModel",
          "model_module_version": "1.5.0",
          "state": {
            "_model_module": "@jupyter-widgets/controls",
            "_model_module_version": "1.5.0",
            "_model_name": "ProgressStyleModel",
            "_view_count": null,
            "_view_module": "@jupyter-widgets/base",
            "_view_module_version": "1.2.0",
            "_view_name": "StyleView",
            "bar_color": null,
            "description_width": ""
          }
        },
        "451f25f0529f4e05babccdf4ad2ed894": {
          "model_module": "@jupyter-widgets/base",
          "model_name": "LayoutModel",
          "model_module_version": "1.2.0",
          "state": {
            "_model_module": "@jupyter-widgets/base",
            "_model_module_version": "1.2.0",
            "_model_name": "LayoutModel",
            "_view_count": null,
            "_view_module": "@jupyter-widgets/base",
            "_view_module_version": "1.2.0",
            "_view_name": "LayoutView",
            "align_content": null,
            "align_items": null,
            "align_self": null,
            "border": null,
            "bottom": null,
            "display": null,
            "flex": null,
            "flex_flow": null,
            "grid_area": null,
            "grid_auto_columns": null,
            "grid_auto_flow": null,
            "grid_auto_rows": null,
            "grid_column": null,
            "grid_gap": null,
            "grid_row": null,
            "grid_template_areas": null,
            "grid_template_columns": null,
            "grid_template_rows": null,
            "height": null,
            "justify_content": null,
            "justify_items": null,
            "left": null,
            "margin": null,
            "max_height": null,
            "max_width": null,
            "min_height": null,
            "min_width": null,
            "object_fit": null,
            "object_position": null,
            "order": null,
            "overflow": null,
            "overflow_x": null,
            "overflow_y": null,
            "padding": null,
            "right": null,
            "top": null,
            "visibility": null,
            "width": null
          }
        },
        "8dd70c672e1d46669163d3ac38fb22c3": {
          "model_module": "@jupyter-widgets/controls",
          "model_name": "DescriptionStyleModel",
          "model_module_version": "1.5.0",
          "state": {
            "_model_module": "@jupyter-widgets/controls",
            "_model_module_version": "1.5.0",
            "_model_name": "DescriptionStyleModel",
            "_view_count": null,
            "_view_module": "@jupyter-widgets/base",
            "_view_module_version": "1.2.0",
            "_view_name": "StyleView",
            "description_width": ""
          }
        }
      }
    }
  },
  "nbformat": 4,
  "nbformat_minor": 5
}